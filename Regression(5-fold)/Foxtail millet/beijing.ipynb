{
 "cells": [
  {
   "cell_type": "code",
   "execution_count": 13,
   "id": "ebf69384-844d-4829-bcd1-0de0a4fb3fff",
   "metadata": {},
   "outputs": [],
   "source": [
    "import torch.nn as nn\n",
    "import torch\n",
    "import numpy as np\n",
    "import time\n",
    "import os\n",
    "# os.chdir(\"/mnt/win/wanghao/wh_jupyter/cro/regre/dtt/\")\n",
    "import matplotlib.pyplot as plt\n",
    "import numpy as np\n",
    "import pandas as pd\n",
    "import torch\n",
    "import torch.nn as nn\n",
    "# from sklearn.preprocessing import StandardScaler\n",
    "from torch.utils.data import TensorDataset\n",
    "from tqdm import tqdm\n",
    "import torch.nn.functional as F\n",
    "from sklearn.model_selection import KFold, train_test_split\n",
    "from torch.utils.data import TensorDataset, DataLoader\n",
    "from sklearn.preprocessing import StandardScaler\n",
    "import numpy as np\n",
    "import time\n",
    "import torch.optim as optim\n",
    "from tqdm.auto import tqdm"
   ]
  },
  {
   "cell_type": "code",
   "execution_count": 2,
   "id": "9e6c544d-3b8f-491f-af8e-bacc2b007de7",
   "metadata": {},
   "outputs": [],
   "source": [
    "label = pd.read_csv(\"./label_beijing.csv\")\n",
    "data = pd.read_csv(\"./data_beijng.csv\")"
   ]
  },
  {
   "cell_type": "code",
   "execution_count": null,
   "id": "e80f1c6a-d410-443a-802f-de1350599e00",
   "metadata": {},
   "outputs": [],
   "source": [
    "X_train_reduction, X_test_reduction, Y_train, Y_test = train_test_split(data, label,test_size=0.2, random_state=2)\n"
   ]
  },
  {
   "cell_type": "code",
   "execution_count": 5,
   "id": "5b08bfc8-66ae-42f1-a728-3b33ad2ff7f3",
   "metadata": {},
   "outputs": [],
   "source": [
    "Y_train = pd.DataFrame(Y_train)\n",
    "Y_test = pd.DataFrame(Y_test)\n",
    "Y_train = Y_train.values.astype(float)\n",
    "Y_test = Y_test.values.astype(float)\n",
    "X_train_reduction = pd.DataFrame(X_train_reduction)\n",
    "X_test_reduction = pd.DataFrame(X_test_reduction)\n",
    "X_train_reduction = X_train_reduction.values.astype(float)\n",
    "X_test_reduction = X_test_reduction.values.astype(float)"
   ]
  },
  {
   "cell_type": "code",
   "execution_count": 6,
   "id": "8b7975f1-c747-4633-8e13-2205401c5c06",
   "metadata": {},
   "outputs": [
    {
     "name": "stdout",
     "output_type": "stream",
     "text": [
      "Device used: cuda\n"
     ]
    }
   ],
   "source": [
    "DEVICE = torch.device('cuda' if torch.cuda.is_available() else 'cpu')\n",
    "print(f'Device used: {DEVICE}')\n",
    "is_scaler = False\n",
    "batch_size = 128  \n",
    "hidden_dim = 128  \n",
    "output_dim = 1  \n",
    "num_attention_heads = 4\n",
    "kernel_size = 3\n",
    "best_corr_coef = -1\n",
    "LR = 0.001\n",
    "epochs = 100\n",
    "\n",
    "hidden_dropout_prob=0.5\n",
    "attention_probs_dropout_prob = 0.5"
   ]
  },
  {
   "cell_type": "code",
   "execution_count": 7,
   "id": "558f0732-8938-4dff-bed2-4457b859fc29",
   "metadata": {},
   "outputs": [],
   "source": [
    "class LayerNorm(nn.Module):\n",
    "    def __init__(self, hidden_size, eps=1e-12):\n",
    "        \"\"\"Construct a layernorm module in the TF style (epsilon inside the square root).\n",
    "        \"\"\"\n",
    "        super(LayerNorm, self).__init__()\n",
    "        self.weight = nn.Parameter(torch.ones(hidden_size))\n",
    "        self.bias = nn.Parameter(torch.zeros(hidden_size))\n",
    "        self.variance_epsilon = eps\n",
    "\n",
    "    def forward(self, x):\n",
    "        u = x.mean(-1, keepdim=True)\n",
    "        s = (x - u).pow(2).mean(-1, keepdim=True)\n",
    "        x = (x - u) / torch.sqrt(s + self.variance_epsilon)\n",
    "        return self.weight * x + self.bias"
   ]
  },
  {
   "cell_type": "code",
   "execution_count": 8,
   "id": "6ea40227-6045-4469-92ff-4f5be317d1a6",
   "metadata": {},
   "outputs": [],
   "source": [
    "class SelfAttention(nn.Module):\n",
    "    def __init__(self, num_attention_heads, input_size, hidden_size, output_dim=1, kernel_size=3,\n",
    "                 hidden_dropout_prob=0.5, attention_probs_dropout_prob=0.5):\n",
    "        super(SelfAttention, self).__init__()\n",
    "        input_size = input_size - kernel_size + 1\n",
    "\n",
    "        if hidden_size % num_attention_heads != 0:\n",
    "            raise ValueError(\n",
    "                \"The hidden size (%d) is not a multiple of the number of attention \"\n",
    "                \"heads (%d)\" % (hidden_size, num_attention_heads))\n",
    "\n",
    "        self.num_attention_heads = num_attention_heads\n",
    "        self.attention_head_size = int(hidden_size / num_attention_heads)\n",
    "        self.all_head_size = hidden_size\n",
    "\n",
    "        self.query = nn.Linear(input_size, self.all_head_size)\n",
    "        self.key = nn.Linear(input_size, self.all_head_size)\n",
    "        self.value = nn.Linear(input_size, self.all_head_size)\n",
    "\n",
    "        self.attn_dropout = nn.Dropout(attention_probs_dropout_prob)\n",
    "        self.out_dropout = nn.Dropout(hidden_dropout_prob)\n",
    "\n",
    "        self.dense = nn.Linear(hidden_size, input_size)\n",
    "        self.LayerNorm = LayerNorm(input_size, eps=1e-12)\n",
    "        self.relu = nn.ReLU()\n",
    "        self.out = nn.Linear(input_size, output_dim)\n",
    "\n",
    "        self.cnn = nn.Conv1d(1, 1, kernel_size, stride=1)\n",
    "\n",
    "    def transpose_for_scores(self, x):\n",
    "        new_x_shape = x.size()[:-1] + (self.num_attention_heads, self.attention_head_size)\n",
    "        x = x.view(*new_x_shape)\n",
    "        return x.permute(0, 2, 1, 3)\n",
    "\n",
    "    def forward(self, input_tensor): \n",
    "        cnn_hidden = self.cnn(input_tensor.view(input_tensor.size(0), 1, -1))#(128,1,9998)\n",
    "        # input_tensor = input_tensor.view(input_tensor.size(0), -1, input_tensor.size(-1))#(128,1,10000)\n",
    "        #\n",
    "        input_tensor = cnn_hidden\n",
    "\n",
    "        mixed_query_layer = self.query(input_tensor)\n",
    "        mixed_key_layer = self.key(input_tensor)\n",
    "        mixed_value_layer = self.value(input_tensor)\n",
    "\n",
    "        query_layer = self.transpose_for_scores(mixed_query_layer)\n",
    "        key_layer = self.transpose_for_scores(mixed_key_layer)\n",
    "        value_layer = self.transpose_for_scores(mixed_value_layer)\n",
    "\n",
    "        # Take the dot product between \"query\" and \"key\" to get the raw attention scores.\n",
    "        attention_scores = torch.matmul(query_layer, key_layer.transpose(-1, -2))\n",
    "\n",
    "        attention_scores = attention_scores / np.sqrt(self.attention_head_size)\n",
    "\n",
    "        # Normalize the attention scores to probabilities.\n",
    "        attention_probs = nn.Softmax(dim=-1)(attention_scores)\n",
    "        # This is actually dropping out entire tokens to attend to, which might\n",
    "        # seem a bit unusual, but is taken from the original Transformer paper.\n",
    "\n",
    "        attention_probs = self.attn_dropout(attention_probs)\n",
    "\n",
    "        context_layer = torch.matmul(attention_probs, value_layer)\n",
    "\n",
    "        context_layer = context_layer.permute(0, 2, 1, 3).contiguous()\n",
    "\n",
    "        new_context_layer_shape = context_layer.size()[:-2] + (self.all_head_size,)\n",
    "\n",
    "        context_layer = context_layer.view(*new_context_layer_shape)\n",
    "\n",
    "        hidden_states = self.dense(context_layer)\n",
    "\n",
    "        hidden_states = self.out_dropout(hidden_states)\n",
    "\n",
    "        hidden_states = self.LayerNorm(hidden_states + input_tensor)\n",
    "\n",
    "        output = self.out(self.relu(hidden_states.view(hidden_states.size(0), -1)))\n",
    "        return output"
   ]
  },
  {
   "cell_type": "code",
   "execution_count": 9,
   "id": "0fc4715b-8253-4c7b-85dd-48575e040a4c",
   "metadata": {},
   "outputs": [
    {
     "data": {
      "text/plain": [
       "<torch._C.Generator at 0x7f04b6192730>"
      ]
     },
     "execution_count": 9,
     "metadata": {},
     "output_type": "execute_result"
    }
   ],
   "source": [
    "np.random.seed(42)\n",
    "torch.manual_seed(42)"
   ]
  },
  {
   "cell_type": "code",
   "execution_count": 10,
   "id": "518f8f23-b7af-493a-90ef-77155b2e6a31",
   "metadata": {},
   "outputs": [],
   "source": [
    "save_path = './cn_at_b.pth'"
   ]
  },
  {
   "cell_type": "code",
   "execution_count": 11,
   "id": "c0dfa8d5-1183-46d5-8693-e9f910c874d3",
   "metadata": {},
   "outputs": [],
   "source": [
    "kf = KFold(n_splits=5, shuffle=True, random_state=42)\n",
    "best_corr_coefs = []"
   ]
  },
  {
   "cell_type": "code",
   "execution_count": null,
   "id": "64637027-9fc2-40f2-8fd6-762c66f69395",
   "metadata": {},
   "outputs": [],
   "source": [
    "start_time = time.time()\n",
    "x = X_train_reduction\n",
    "y = Y_train\n",
    "for fold, (train_index, test_index) in enumerate(kf.split(x)):\n",
    "    x_train, x_test = x[train_index], x[test_index]\n",
    "    y_train, y_test = y[train_index], y[test_index]\n",
    "\n",
    "\n",
    "    scaler = StandardScaler()\n",
    "    x_train = scaler.fit_transform(x_train)\n",
    "    x_test = scaler.transform(x_test)\n",
    "\n",
    "    # scaler_model = StandardScaler()\n",
    "    # y_train = scaler_model.fit_transform(y_train.reshape(-1, 1)).flatten()\n",
    "    # y_test = scaler_model.transform(y_test.reshape(-1, 1)).flatten()\n",
    "\n",
    "    x_train_tensor = torch.from_numpy(x_train).float().to(DEVICE)\n",
    "    y_train_tensor = torch.from_numpy(y_train).float().to(DEVICE)\n",
    "    x_test_tensor = torch.from_numpy(x_test).float().to(DEVICE)\n",
    "    y_test_tensor = torch.from_numpy(y_test).float().to(DEVICE)\n",
    "\n",
    "    train_data = TensorDataset(x_train_tensor, y_train_tensor)\n",
    "    test_data = TensorDataset(x_test_tensor, y_test_tensor)\n",
    "\n",
    "    train_loader = DataLoader(train_data, batch_size, shuffle=True)\n",
    "    test_loader = DataLoader(test_data, batch_size, shuffle=False)\n",
    "\n",
    "    model = SelfAttention(num_attention_heads, x_train.shape[1], hidden_dim, output_dim,\n",
    "                          hidden_dropout_prob=hidden_dropout_prob, kernel_size=kernel_size,\n",
    "                          attention_probs_dropout_prob=attention_probs_dropout_prob).to(DEVICE)\n",
    "    loss_function = torch.nn.MSELoss()\n",
    "    optimizer = torch.optim.Adam(model.parameters(), lr=LR)\n",
    "\n",
    "    scheduler = optim.lr_scheduler.ReduceLROnPlateau(optimizer, mode='min', factor=0.1, patience=10, verbose=True)\n",
    "\n",
    "    best_corr_coef = -1\n",
    "\n",
    "    for epoch in range(epochs):\n",
    "        model.train()\n",
    "        running_loss = 0\n",
    "        train_bar = tqdm(train_loader, desc=f'第 {epoch + 1}/{epochs} 轮')\n",
    "        for data in train_bar:\n",
    "            x_batch, y_batch = data\n",
    "            optimizer.zero_grad()\n",
    "            y_pred = model(x_batch)\n",
    "            loss = loss_function(y_pred, y_batch.reshape(-1, 1))\n",
    "            loss.backward()\n",
    "            optimizer.step()\n",
    "\n",
    "            running_loss += loss.item()\n",
    "\n",
    "    model.eval()\n",
    "    y_test_preds, y_test_trues = [], []\n",
    "    with torch.no_grad():\n",
    "        for x_batch, y_batch in test_loader:\n",
    "            y_test_pred = model(x_batch)\n",
    "            y_test_preds.extend(y_test_pred.cpu().numpy().reshape(-1).tolist())\n",
    "            y_test_trues.extend(y_batch.cpu().numpy().reshape(-1).tolist())\n",
    "\n",
    "    corr_coef = np.corrcoef(y_test_preds, y_test_trues)[0, 1]\n",
    "    if corr_coef > best_corr_coef:\n",
    "        best_corr_coef = corr_coef\n",
    "        torch.save(model.state_dict(), save_path)\n",
    "    best_corr_coefs.append(best_corr_coef)\n",
    "\n",
    "    print(f'Fold {fold+1} - Epoch {epoch+1}: Best Correlation Coefficient: {best_corr_coef:.4f}')\n",
    "\n",
    "end_time = time.time()\n",
    "execution_time = end_time - start_time\n",
    "\n"
   ]
  },
  {
   "cell_type": "code",
   "execution_count": 21,
   "id": "585e9eab-a61b-4ac2-8470-91776b03ac2c",
   "metadata": {},
   "outputs": [
    {
     "name": "stdout",
     "output_type": "stream",
     "text": [
      "代码执行时间: 24.74519157409668 秒\n"
     ]
    }
   ],
   "source": [
    "print(f\"time: {execution_time} 秒\")"
   ]
  },
  {
   "cell_type": "code",
   "execution_count": 15,
   "id": "fd3e8c7c-899d-45ca-8788-88c281c412c5",
   "metadata": {},
   "outputs": [
    {
     "name": "stdout",
     "output_type": "stream",
     "text": [
      "各折最佳相关系数: [0.873236879570995, 0.8479297804450867, 0.84148900816004, 0.8863658587947351, 0.9135878896798522]\n",
      "平均最佳相关系数: 0.8725\n",
      "0.013127061018056175\n"
     ]
    }
   ],
   "source": [
    "average = np.mean(best_corr_coefs)\n",
    "print( best_corr_coefs)\n",
    "print(f\"corr: {average:.4f}\")\n",
    "import numpy as np\n",
    "performance_scores = np.array(best_corr_coefs)\n",
    "mean_score = np.mean(performance_scores)\n",
    "sample_variance = np.var(performance_scores, ddof=1)\n",
    "sample_std_dev = np.sqrt(sample_variance)\n",
    "standard_error = sample_std_dev / np.sqrt(len(performance_scores))\n",
    "print(standard_error)"
   ]
  },
  {
   "cell_type": "code",
   "execution_count": 17,
   "id": "f901d56a-8e51-4af1-b339-4fcff73809a5",
   "metadata": {},
   "outputs": [
    {
     "data": {
      "text/plain": [
       "<All keys matched successfully>"
      ]
     },
     "execution_count": 17,
     "metadata": {},
     "output_type": "execute_result"
    }
   ],
   "source": [
    "### load_model\n",
    "model_b = SelfAttention(num_attention_heads, \n",
    "                      X_train_reduction.shape[1], \n",
    "                      hidden_dim, \n",
    "                      output_dim,\n",
    "                      hidden_dropout_prob=hidden_dropout_prob,\n",
    "                      kernel_size = kernel_size,\n",
    "                      attention_probs_dropout_prob=attention_probs_dropout_prob).to(DEVICE)\n",
    "model_b.load_state_dict(torch.load(\"./cn_at_b.pth\"))"
   ]
  },
  {
   "cell_type": "code",
   "execution_count": 18,
   "id": "a531b4b7-9797-4f8f-a876-2499d217a1f2",
   "metadata": {},
   "outputs": [],
   "source": [
    "\n",
    "data_test_tensor = torch.from_numpy(X_test_reduction).to(torch.float32).to(DEVICE)\n",
    "label_test_tensor = torch.from_numpy(Y_test).to(torch.float32).to(DEVICE)"
   ]
  },
  {
   "cell_type": "code",
   "execution_count": 20,
   "id": "6cbd3bc3-cbd0-4d89-a2ac-c16f5417a27e",
   "metadata": {},
   "outputs": [
    {
     "name": "stdout",
     "output_type": "stream",
     "text": [
      "test_corr 0.8416087893380672\n"
     ]
    }
   ],
   "source": [
    "model_b.eval()\n",
    "with torch.no_grad():\n",
    "    b_output = model_b(data_test_tensor)\n",
    "yuce = b_output.cpu().detach().numpy().reshape(-1).tolist()\n",
    "zhen = label_test_tensor.cpu().detach().numpy().reshape(-1).tolist()\n",
    "test_corr_coef = np.corrcoef(zhen, yuce)[0,1]\n",
    "print(\"test_corr\",test_corr_coef)"
   ]
  },
  {
   "cell_type": "code",
   "execution_count": 15,
   "id": "29fd32c6-bd90-4713-9df1-e1fb8d418f2f",
   "metadata": {},
   "outputs": [
    {
     "name": "stdout",
     "output_type": "stream",
     "text": [
      "test_corr 0.8803082299673419\n"
     ]
    }
   ],
   "source": []
  },
  {
   "cell_type": "code",
   "execution_count": null,
   "id": "8b6a0e2e-ae52-41cd-bb77-5fc93b1d9c7e",
   "metadata": {},
   "outputs": [],
   "source": []
  },
  {
   "cell_type": "code",
   "execution_count": null,
   "id": "16f055fd-609c-4200-b319-899176003680",
   "metadata": {},
   "outputs": [],
   "source": []
  }
 ],
 "metadata": {
  "kernelspec": {
   "display_name": "Python [conda env:pytorch2]",
   "language": "python",
   "name": "conda-env-pytorch2-py"
  },
  "language_info": {
   "codemirror_mode": {
    "name": "ipython",
    "version": 3
   },
   "file_extension": ".py",
   "mimetype": "text/x-python",
   "name": "python",
   "nbconvert_exporter": "python",
   "pygments_lexer": "ipython3",
   "version": "3.8.16"
  }
 },
 "nbformat": 4,
 "nbformat_minor": 5
}
