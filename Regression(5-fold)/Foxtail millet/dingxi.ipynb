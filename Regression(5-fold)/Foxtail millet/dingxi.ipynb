{
 "cells": [
  {
   "cell_type": "code",
   "execution_count": 1,
   "id": "5e8705c6-46b7-490f-863b-41e050771dd4",
   "metadata": {},
   "outputs": [],
   "source": [
    "import torch.nn as nn\n",
    "import torch\n",
    "import numpy as np\n",
    "import time\n",
    "import os\n",
    "import matplotlib.pyplot as plt\n",
    "import numpy as np\n",
    "import pandas as pd\n",
    "import torch\n",
    "import torch.nn as nn\n",
    "from torch.utils.data import TensorDataset\n",
    "from tqdm import tqdm\n",
    "import torch.nn.functional as F\n",
    "from sklearn.model_selection import KFold, train_test_split\n",
    "from torch.utils.data import TensorDataset, DataLoader\n",
    "from sklearn.preprocessing import StandardScaler\n",
    "import numpy as np\n",
    "import time\n",
    "import torch.optim as optim\n",
    "from tqdm.auto import tqdm"
   ]
  },
  {
   "cell_type": "code",
   "execution_count": 2,
   "id": "32f961f7-1a76-44c7-acc2-2eb327e5d59a",
   "metadata": {},
   "outputs": [],
   "source": [
    "label = pd.read_csv(\"./label_dingxi.csv\")\n",
    "data = pd.read_csv(\"./data_dingxi.csv\")"
   ]
  },
  {
   "cell_type": "code",
   "execution_count": 3,
   "id": "5d663ad7-4fa3-4cc5-bd4f-d3a5a309b528",
   "metadata": {},
   "outputs": [],
   "source": [
    "X_train_reduction, X_test_reduction, Y_train, Y_test = train_test_split(data, label, test_size=0.2, random_state=2)\n",
    "Y_train = Y_train.values.astype(float)\n",
    "Y_test = Y_test.values.astype(float)\n",
    "X_train_reduction = X_train_reduction.values.astype(float)\n",
    "X_test_reduction = X_test_reduction.values.astype(float)"
   ]
  },
  {
   "cell_type": "code",
   "execution_count": 4,
   "id": "346e6dc3-b29c-43f1-9427-036f0c72076a",
   "metadata": {},
   "outputs": [
    {
     "name": "stdout",
     "output_type": "stream",
     "text": [
      "Device used: cuda\n"
     ]
    }
   ],
   "source": [
    "DEVICE = torch.device('cuda' if torch.cuda.is_available() else 'cpu')\n",
    "print(f'Device used: {DEVICE}')\n",
    "is_scaler = False\n",
    "batch_size = 64  \n",
    "hidden_dim = 128  \n",
    "output_dim = 1  \n",
    "num_attention_heads = 8\n",
    "kernel_size = 3\n",
    "best_corr_coef = -1\n",
    "LR = 0.001\n",
    "epochs = 100\n",
    "\n",
    "hidden_dropout_prob=0.5\n",
    "attention_probs_dropout_prob = 0.5"
   ]
  },
  {
   "cell_type": "code",
   "execution_count": 5,
   "id": "f19a1b76-3cf0-43e6-b045-52e129acffe6",
   "metadata": {},
   "outputs": [],
   "source": [
    "class LayerNorm(nn.Module):\n",
    "    def __init__(self, hidden_size, eps=1e-12):\n",
    "        \"\"\"Construct a layernorm module in the TF style (epsilon inside the square root).\n",
    "        \"\"\"\n",
    "        super(LayerNorm, self).__init__()\n",
    "        self.weight = nn.Parameter(torch.ones(hidden_size))\n",
    "        self.bias = nn.Parameter(torch.zeros(hidden_size))\n",
    "        self.variance_epsilon = eps\n",
    "\n",
    "    def forward(self, x):\n",
    "        u = x.mean(-1, keepdim=True)\n",
    "        s = (x - u).pow(2).mean(-1, keepdim=True)\n",
    "        x = (x - u) / torch.sqrt(s + self.variance_epsilon)\n",
    "        return self.weight * x + self.bias"
   ]
  },
  {
   "cell_type": "code",
   "execution_count": 6,
   "id": "c963e4e1-d31f-49d3-a87d-34e252936030",
   "metadata": {},
   "outputs": [],
   "source": [
    "class SelfAttention(nn.Module):\n",
    "    def __init__(self, num_attention_heads, input_size, hidden_size, output_dim=1, kernel_size=3,\n",
    "                 hidden_dropout_prob=0.5, attention_probs_dropout_prob=0.5):\n",
    "        super(SelfAttention, self).__init__()\n",
    "        input_size = input_size - kernel_size + 1\n",
    "\n",
    "        if hidden_size % num_attention_heads != 0:\n",
    "            raise ValueError(\n",
    "                \"The hidden size (%d) is not a multiple of the number of attention \"\n",
    "                \"heads (%d)\" % (hidden_size, num_attention_heads))\n",
    "\n",
    "        self.num_attention_heads = num_attention_heads\n",
    "        self.attention_head_size = int(hidden_size / num_attention_heads)\n",
    "        self.all_head_size = hidden_size\n",
    "\n",
    "\n",
    "        self.query = nn.Linear(input_size, self.all_head_size)\n",
    "        self.key = nn.Linear(input_size, self.all_head_size)\n",
    "        self.value = nn.Linear(input_size, self.all_head_size)\n",
    "\n",
    "        self.attn_dropout = nn.Dropout(attention_probs_dropout_prob)\n",
    "        self.out_dropout = nn.Dropout(hidden_dropout_prob)\n",
    "\n",
    "        self.dense = nn.Linear(hidden_size, input_size)\n",
    "        self.LayerNorm = LayerNorm(input_size, eps=1e-12)\n",
    "        self.relu = nn.ReLU()\n",
    "        self.out = nn.Linear(input_size, output_dim)\n",
    "\n",
    "        self.cnn = nn.Conv1d(1, 1, kernel_size, stride=1)\n",
    "\n",
    "    def transpose_for_scores(self, x):\n",
    "        new_x_shape = x.size()[:-1] + (self.num_attention_heads, self.attention_head_size)\n",
    "        x = x.view(*new_x_shape)\n",
    "        return x.permute(0, 2, 1, 3)\n",
    "\n",
    "    def forward(self, input_tensor): #input tensor (128,10000)\n",
    "        cnn_hidden = self.cnn(input_tensor.view(input_tensor.size(0), 1, -1))#(128,1,9998)\n",
    "        #\n",
    "        input_tensor = cnn_hidden\n",
    "\n",
    "        mixed_query_layer = self.query(input_tensor)\n",
    "        mixed_key_layer = self.key(input_tensor)\n",
    "        mixed_value_layer = self.value(input_tensor)\n",
    "\n",
    "\n",
    "        query_layer = self.transpose_for_scores(mixed_query_layer)\n",
    "        key_layer = self.transpose_for_scores(mixed_key_layer)\n",
    "        value_layer = self.transpose_for_scores(mixed_value_layer)\n",
    "\n",
    "\n",
    "        attention_scores = torch.matmul(query_layer, key_layer.transpose(-1, -2))\n",
    "\n",
    "        attention_scores = attention_scores / np.sqrt(self.attention_head_size)\n",
    "\n",
    "        attention_probs = nn.Softmax(dim=-1)(attention_scores)\n",
    "        # This is actually dropping out entire tokens to attend to, which might\n",
    "        # seem a bit unusual, but is taken from the original Transformer paper.\n",
    "\n",
    "        attention_probs = self.attn_dropout(attention_probs)\n",
    "\n",
    "        context_layer = torch.matmul(attention_probs, value_layer)\n",
    "\n",
    "        context_layer = context_layer.permute(0, 2, 1, 3).contiguous()\n",
    "\n",
    "        new_context_layer_shape = context_layer.size()[:-2] + (self.all_head_size,)\n",
    "\n",
    "        context_layer = context_layer.view(*new_context_layer_shape)\n",
    "\n",
    "        hidden_states = self.dense(context_layer)\n",
    "\n",
    "        hidden_states = self.out_dropout(hidden_states)\n",
    "\n",
    "        hidden_states = self.LayerNorm(hidden_states + input_tensor)\n",
    "\n",
    "        output = self.out(self.relu(hidden_states.view(hidden_states.size(0), -1)))\n",
    "        return output"
   ]
  },
  {
   "cell_type": "code",
   "execution_count": null,
   "id": "ee1af832-b9af-4c87-9f8c-e55f45498158",
   "metadata": {},
   "outputs": [],
   "source": []
  },
  {
   "cell_type": "code",
   "execution_count": 7,
   "id": "bad9eb5f-c32b-4556-b08e-877a8a4501c0",
   "metadata": {},
   "outputs": [
    {
     "data": {
      "text/plain": [
       "<torch._C.Generator at 0x7f60309ea750>"
      ]
     },
     "execution_count": 7,
     "metadata": {},
     "output_type": "execute_result"
    }
   ],
   "source": [
    "np.random.seed(42)\n",
    "torch.manual_seed(42)"
   ]
  },
  {
   "cell_type": "code",
   "execution_count": 8,
   "id": "7ff55179-7646-42eb-80bf-213ed0409d11",
   "metadata": {},
   "outputs": [],
   "source": [
    "save_path = './cn_at_d.pth'"
   ]
  },
  {
   "cell_type": "code",
   "execution_count": 9,
   "id": "e857d6e4-b03e-4003-8056-dd6ad025ce28",
   "metadata": {},
   "outputs": [],
   "source": [
    "kf = KFold(n_splits=5, shuffle=True, random_state=42)\n",
    "best_corr_coefs = []"
   ]
  },
  {
   "cell_type": "code",
   "execution_count": 10,
   "id": "5e5f156c-3baf-481d-8bab-8ff2812c0be0",
   "metadata": {},
   "outputs": [
    {
     "data": {
      "application/vnd.jupyter.widget-view+json": {
       "model_id": "f561c13b80264252a2a7c496a782a32f",
       "version_major": 2,
       "version_minor": 0
      },
      "text/plain": [
       "第 1/100 轮:   0%|          | 0/7 [00:00<?, ?it/s]"
      ]
     },
     "metadata": {},
     "output_type": "display_data"
    },
    {
     "data": {
      "application/vnd.jupyter.widget-view+json": {
       "model_id": "5fc3ed68bb2b4d05832cb851752a9440",
       "version_major": 2,
       "version_minor": 0
      },
      "text/plain": [
       "第 2/100 轮:   0%|          | 0/7 [00:00<?, ?it/s]"
      ]
     },
     "metadata": {},
     "output_type": "display_data"
    },
    {
     "data": {
      "application/vnd.jupyter.widget-view+json": {
       "model_id": "88c06f99004540aa923066f5df9e1d0d",
       "version_major": 2,
       "version_minor": 0
      },
      "text/plain": [
       "第 3/100 轮:   0%|          | 0/7 [00:00<?, ?it/s]"
      ]
     },
     "metadata": {},
     "output_type": "display_data"
    },
    {
     "data": {
      "application/vnd.jupyter.widget-view+json": {
       "model_id": "6c91d4213b234149ab7f06b779a9216e",
       "version_major": 2,
       "version_minor": 0
      },
      "text/plain": [
       "第 4/100 轮:   0%|          | 0/7 [00:00<?, ?it/s]"
      ]
     },
     "metadata": {},
     "output_type": "display_data"
    },
    {
     "data": {
      "application/vnd.jupyter.widget-view+json": {
       "model_id": "1d3a7e27871a4b2e9cd485ef0556d35f",
       "version_major": 2,
       "version_minor": 0
      },
      "text/plain": [
       "第 5/100 轮:   0%|          | 0/7 [00:00<?, ?it/s]"
      ]
     },
     "metadata": {},
     "output_type": "display_data"
    },
    {
     "data": {
      "application/vnd.jupyter.widget-view+json": {
       "model_id": "06c22d2b97de483897cc382752740beb",
       "version_major": 2,
       "version_minor": 0
      },
      "text/plain": [
       "第 6/100 轮:   0%|          | 0/7 [00:00<?, ?it/s]"
      ]
     },
     "metadata": {},
     "output_type": "display_data"
    },
    {
     "data": {
      "application/vnd.jupyter.widget-view+json": {
       "model_id": "f97774cb8b32456f92e686f8705dae18",
       "version_major": 2,
       "version_minor": 0
      },
      "text/plain": [
       "第 7/100 轮:   0%|          | 0/7 [00:00<?, ?it/s]"
      ]
     },
     "metadata": {},
     "output_type": "display_data"
    },
    {
     "data": {
      "application/vnd.jupyter.widget-view+json": {
       "model_id": "ea5cf522169646ffbbb5bf195b092ffc",
       "version_major": 2,
       "version_minor": 0
      },
      "text/plain": [
       "第 8/100 轮:   0%|          | 0/7 [00:00<?, ?it/s]"
      ]
     },
     "metadata": {},
     "output_type": "display_data"
    },
    {
     "data": {
      "application/vnd.jupyter.widget-view+json": {
       "model_id": "f50e681459a5425eb46beceb10fb45f1",
       "version_major": 2,
       "version_minor": 0
      },
      "text/plain": [
       "第 9/100 轮:   0%|          | 0/7 [00:00<?, ?it/s]"
      ]
     },
     "metadata": {},
     "output_type": "display_data"
    },
    {
     "data": {
      "application/vnd.jupyter.widget-view+json": {
       "model_id": "2008d592dc7b4068a28aa57e2d7aa28e",
       "version_major": 2,
       "version_minor": 0
      },
      "text/plain": [
       "第 10/100 轮:   0%|          | 0/7 [00:00<?, ?it/s]"
      ]
     },
     "metadata": {},
     "output_type": "display_data"
    },
    {
     "data": {
      "application/vnd.jupyter.widget-view+json": {
       "model_id": "1f4b9b0c00f649adad028a4e1bdc66ed",
       "version_major": 2,
       "version_minor": 0
      },
      "text/plain": [
       "第 11/100 轮:   0%|          | 0/7 [00:00<?, ?it/s]"
      ]
     },
     "metadata": {},
     "output_type": "display_data"
    },
    {
     "data": {
      "application/vnd.jupyter.widget-view+json": {
       "model_id": "bc34e30fd44b4a2f98fd81e89244bb04",
       "version_major": 2,
       "version_minor": 0
      },
      "text/plain": [
       "第 12/100 轮:   0%|          | 0/7 [00:00<?, ?it/s]"
      ]
     },
     "metadata": {},
     "output_type": "display_data"
    },
    {
     "data": {
      "application/vnd.jupyter.widget-view+json": {
       "model_id": "86468b3833014ce5bcd9ca6f2962e45e",
       "version_major": 2,
       "version_minor": 0
      },
      "text/plain": [
       "第 13/100 轮:   0%|          | 0/7 [00:00<?, ?it/s]"
      ]
     },
     "metadata": {},
     "output_type": "display_data"
    },
    {
     "data": {
      "application/vnd.jupyter.widget-view+json": {
       "model_id": "6fb690e7167e454eb6814450c749198e",
       "version_major": 2,
       "version_minor": 0
      },
      "text/plain": [
       "第 14/100 轮:   0%|          | 0/7 [00:00<?, ?it/s]"
      ]
     },
     "metadata": {},
     "output_type": "display_data"
    },
    {
     "data": {
      "application/vnd.jupyter.widget-view+json": {
       "model_id": "2c8b957c1cab40029622115ad63b8cd7",
       "version_major": 2,
       "version_minor": 0
      },
      "text/plain": [
       "第 15/100 轮:   0%|          | 0/7 [00:00<?, ?it/s]"
      ]
     },
     "metadata": {},
     "output_type": "display_data"
    },
    {
     "data": {
      "application/vnd.jupyter.widget-view+json": {
       "model_id": "760f0f03ff5b4c39ad79901d05705c31",
       "version_major": 2,
       "version_minor": 0
      },
      "text/plain": [
       "第 16/100 轮:   0%|          | 0/7 [00:00<?, ?it/s]"
      ]
     },
     "metadata": {},
     "output_type": "display_data"
    },
    {
     "data": {
      "application/vnd.jupyter.widget-view+json": {
       "model_id": "40ca0aa787ab4c68aea64a69cbddcbc1",
       "version_major": 2,
       "version_minor": 0
      },
      "text/plain": [
       "第 17/100 轮:   0%|          | 0/7 [00:00<?, ?it/s]"
      ]
     },
     "metadata": {},
     "output_type": "display_data"
    },
    {
     "data": {
      "application/vnd.jupyter.widget-view+json": {
       "model_id": "92ef276fdda24ed88563bcb35b4cfeae",
       "version_major": 2,
       "version_minor": 0
      },
      "text/plain": [
       "第 18/100 轮:   0%|          | 0/7 [00:00<?, ?it/s]"
      ]
     },
     "metadata": {},
     "output_type": "display_data"
    },
    {
     "data": {
      "application/vnd.jupyter.widget-view+json": {
       "model_id": "ce109f23c76c4c679b509b290d694b9f",
       "version_major": 2,
       "version_minor": 0
      },
      "text/plain": [
       "第 19/100 轮:   0%|          | 0/7 [00:00<?, ?it/s]"
      ]
     },
     "metadata": {},
     "output_type": "display_data"
    },
    {
     "data": {
      "application/vnd.jupyter.widget-view+json": {
       "model_id": "771024204586400399dd590f4816b598",
       "version_major": 2,
       "version_minor": 0
      },
      "text/plain": [
       "第 20/100 轮:   0%|          | 0/7 [00:00<?, ?it/s]"
      ]
     },
     "metadata": {},
     "output_type": "display_data"
    },
    {
     "data": {
      "application/vnd.jupyter.widget-view+json": {
       "model_id": "341953bc51bb476996336e09c9aea1f4",
       "version_major": 2,
       "version_minor": 0
      },
      "text/plain": [
       "第 21/100 轮:   0%|          | 0/7 [00:00<?, ?it/s]"
      ]
     },
     "metadata": {},
     "output_type": "display_data"
    },
    {
     "data": {
      "application/vnd.jupyter.widget-view+json": {
       "model_id": "15229dcf3c8c4f9a9a327f6f7eafdda5",
       "version_major": 2,
       "version_minor": 0
      },
      "text/plain": [
       "第 22/100 轮:   0%|          | 0/7 [00:00<?, ?it/s]"
      ]
     },
     "metadata": {},
     "output_type": "display_data"
    },
    {
     "data": {
      "application/vnd.jupyter.widget-view+json": {
       "model_id": "905b49e35aaf485ca357bf6d1bc499af",
       "version_major": 2,
       "version_minor": 0
      },
      "text/plain": [
       "第 23/100 轮:   0%|          | 0/7 [00:00<?, ?it/s]"
      ]
     },
     "metadata": {},
     "output_type": "display_data"
    },
    {
     "data": {
      "application/vnd.jupyter.widget-view+json": {
       "model_id": "e404a4ea14334ad1a1c017d5e6f1b7fc",
       "version_major": 2,
       "version_minor": 0
      },
      "text/plain": [
       "第 24/100 轮:   0%|          | 0/7 [00:00<?, ?it/s]"
      ]
     },
     "metadata": {},
     "output_type": "display_data"
    },
    {
     "data": {
      "application/vnd.jupyter.widget-view+json": {
       "model_id": "9f292277ed874244ad4bc5d9bdbe90d0",
       "version_major": 2,
       "version_minor": 0
      },
      "text/plain": [
       "第 25/100 轮:   0%|          | 0/7 [00:00<?, ?it/s]"
      ]
     },
     "metadata": {},
     "output_type": "display_data"
    },
    {
     "data": {
      "application/vnd.jupyter.widget-view+json": {
       "model_id": "77cb1129266d4680bd6ff20df2e90cf0",
       "version_major": 2,
       "version_minor": 0
      },
      "text/plain": [
       "第 26/100 轮:   0%|          | 0/7 [00:00<?, ?it/s]"
      ]
     },
     "metadata": {},
     "output_type": "display_data"
    },
    {
     "data": {
      "application/vnd.jupyter.widget-view+json": {
       "model_id": "6e398bd027ef4a11a0ba0da3181c61d1",
       "version_major": 2,
       "version_minor": 0
      },
      "text/plain": [
       "第 27/100 轮:   0%|          | 0/7 [00:00<?, ?it/s]"
      ]
     },
     "metadata": {},
     "output_type": "display_data"
    },
    {
     "data": {
      "application/vnd.jupyter.widget-view+json": {
       "model_id": "e0e38d242a204d7189f3b4794f19233e",
       "version_major": 2,
       "version_minor": 0
      },
      "text/plain": [
       "第 28/100 轮:   0%|          | 0/7 [00:00<?, ?it/s]"
      ]
     },
     "metadata": {},
     "output_type": "display_data"
    },
    {
     "data": {
      "application/vnd.jupyter.widget-view+json": {
       "model_id": "f79c0124136a4257bf117b3a3320e81a",
       "version_major": 2,
       "version_minor": 0
      },
      "text/plain": [
       "第 29/100 轮:   0%|          | 0/7 [00:00<?, ?it/s]"
      ]
     },
     "metadata": {},
     "output_type": "display_data"
    },
    {
     "data": {
      "application/vnd.jupyter.widget-view+json": {
       "model_id": "01f203936caf406a84da8559fb36156f",
       "version_major": 2,
       "version_minor": 0
      },
      "text/plain": [
       "第 30/100 轮:   0%|          | 0/7 [00:00<?, ?it/s]"
      ]
     },
     "metadata": {},
     "output_type": "display_data"
    },
    {
     "data": {
      "application/vnd.jupyter.widget-view+json": {
       "model_id": "991be4bd0b19495a92a98c58ee8ba027",
       "version_major": 2,
       "version_minor": 0
      },
      "text/plain": [
       "第 31/100 轮:   0%|          | 0/7 [00:00<?, ?it/s]"
      ]
     },
     "metadata": {},
     "output_type": "display_data"
    },
    {
     "data": {
      "application/vnd.jupyter.widget-view+json": {
       "model_id": "51539146046349fcaf34fdbf81652e4b",
       "version_major": 2,
       "version_minor": 0
      },
      "text/plain": [
       "第 32/100 轮:   0%|          | 0/7 [00:00<?, ?it/s]"
      ]
     },
     "metadata": {},
     "output_type": "display_data"
    },
    {
     "data": {
      "application/vnd.jupyter.widget-view+json": {
       "model_id": "27990b224d4443ba89ab3db999616702",
       "version_major": 2,
       "version_minor": 0
      },
      "text/plain": [
       "第 33/100 轮:   0%|          | 0/7 [00:00<?, ?it/s]"
      ]
     },
     "metadata": {},
     "output_type": "display_data"
    },
    {
     "data": {
      "application/vnd.jupyter.widget-view+json": {
       "model_id": "47bc7ac3b0b447a5a64ded5af843e9bb",
       "version_major": 2,
       "version_minor": 0
      },
      "text/plain": [
       "第 34/100 轮:   0%|          | 0/7 [00:00<?, ?it/s]"
      ]
     },
     "metadata": {},
     "output_type": "display_data"
    },
    {
     "data": {
      "application/vnd.jupyter.widget-view+json": {
       "model_id": "7f3407f8da92451b8bd2aa05301eac10",
       "version_major": 2,
       "version_minor": 0
      },
      "text/plain": [
       "第 35/100 轮:   0%|          | 0/7 [00:00<?, ?it/s]"
      ]
     },
     "metadata": {},
     "output_type": "display_data"
    },
    {
     "data": {
      "application/vnd.jupyter.widget-view+json": {
       "model_id": "fd8456f8566d4660801d380d1f67dcae",
       "version_major": 2,
       "version_minor": 0
      },
      "text/plain": [
       "第 36/100 轮:   0%|          | 0/7 [00:00<?, ?it/s]"
      ]
     },
     "metadata": {},
     "output_type": "display_data"
    },
    {
     "data": {
      "application/vnd.jupyter.widget-view+json": {
       "model_id": "e4da8528ee074bff94d1e5bf0ec4d5fb",
       "version_major": 2,
       "version_minor": 0
      },
      "text/plain": [
       "第 37/100 轮:   0%|          | 0/7 [00:00<?, ?it/s]"
      ]
     },
     "metadata": {},
     "output_type": "display_data"
    },
    {
     "data": {
      "application/vnd.jupyter.widget-view+json": {
       "model_id": "e891d8373a9849beb4b5fb875ee4fe1c",
       "version_major": 2,
       "version_minor": 0
      },
      "text/plain": [
       "第 38/100 轮:   0%|          | 0/7 [00:00<?, ?it/s]"
      ]
     },
     "metadata": {},
     "output_type": "display_data"
    },
    {
     "data": {
      "application/vnd.jupyter.widget-view+json": {
       "model_id": "2434c55359c8441b84abf0dbd8bf8738",
       "version_major": 2,
       "version_minor": 0
      },
      "text/plain": [
       "第 39/100 轮:   0%|          | 0/7 [00:00<?, ?it/s]"
      ]
     },
     "metadata": {},
     "output_type": "display_data"
    },
    {
     "data": {
      "application/vnd.jupyter.widget-view+json": {
       "model_id": "073ec0955ba74ccdb7968ebcec1a8ff8",
       "version_major": 2,
       "version_minor": 0
      },
      "text/plain": [
       "第 40/100 轮:   0%|          | 0/7 [00:00<?, ?it/s]"
      ]
     },
     "metadata": {},
     "output_type": "display_data"
    },
    {
     "data": {
      "application/vnd.jupyter.widget-view+json": {
       "model_id": "5915432cd7494d30ae0dbdd44ae3fccf",
       "version_major": 2,
       "version_minor": 0
      },
      "text/plain": [
       "第 41/100 轮:   0%|          | 0/7 [00:00<?, ?it/s]"
      ]
     },
     "metadata": {},
     "output_type": "display_data"
    },
    {
     "data": {
      "application/vnd.jupyter.widget-view+json": {
       "model_id": "6b86de94969b45749c97f33e6795cd6f",
       "version_major": 2,
       "version_minor": 0
      },
      "text/plain": [
       "第 42/100 轮:   0%|          | 0/7 [00:00<?, ?it/s]"
      ]
     },
     "metadata": {},
     "output_type": "display_data"
    },
    {
     "data": {
      "application/vnd.jupyter.widget-view+json": {
       "model_id": "ddbda9c32fcf4d0fa764f138277c4c62",
       "version_major": 2,
       "version_minor": 0
      },
      "text/plain": [
       "第 43/100 轮:   0%|          | 0/7 [00:00<?, ?it/s]"
      ]
     },
     "metadata": {},
     "output_type": "display_data"
    },
    {
     "data": {
      "application/vnd.jupyter.widget-view+json": {
       "model_id": "ee1a92fffaeb4d7582312f51bb30c7ba",
       "version_major": 2,
       "version_minor": 0
      },
      "text/plain": [
       "第 44/100 轮:   0%|          | 0/7 [00:00<?, ?it/s]"
      ]
     },
     "metadata": {},
     "output_type": "display_data"
    },
    {
     "data": {
      "application/vnd.jupyter.widget-view+json": {
       "model_id": "4a204fff9e964ccd8a503da34d97d239",
       "version_major": 2,
       "version_minor": 0
      },
      "text/plain": [
       "第 45/100 轮:   0%|          | 0/7 [00:00<?, ?it/s]"
      ]
     },
     "metadata": {},
     "output_type": "display_data"
    },
    {
     "data": {
      "application/vnd.jupyter.widget-view+json": {
       "model_id": "d42c8246c1f7416a9fdf56fdc395e07c",
       "version_major": 2,
       "version_minor": 0
      },
      "text/plain": [
       "第 46/100 轮:   0%|          | 0/7 [00:00<?, ?it/s]"
      ]
     },
     "metadata": {},
     "output_type": "display_data"
    },
    {
     "data": {
      "application/vnd.jupyter.widget-view+json": {
       "model_id": "3d7b8f30933341f68b18993e3608b933",
       "version_major": 2,
       "version_minor": 0
      },
      "text/plain": [
       "第 47/100 轮:   0%|          | 0/7 [00:00<?, ?it/s]"
      ]
     },
     "metadata": {},
     "output_type": "display_data"
    },
    {
     "data": {
      "application/vnd.jupyter.widget-view+json": {
       "model_id": "c5a9e18eaae64661aa86be4a0e44c319",
       "version_major": 2,
       "version_minor": 0
      },
      "text/plain": [
       "第 48/100 轮:   0%|          | 0/7 [00:00<?, ?it/s]"
      ]
     },
     "metadata": {},
     "output_type": "display_data"
    },
    {
     "data": {
      "application/vnd.jupyter.widget-view+json": {
       "model_id": "05e7c7dd2b524afeae6f467b12e689dc",
       "version_major": 2,
       "version_minor": 0
      },
      "text/plain": [
       "第 49/100 轮:   0%|          | 0/7 [00:00<?, ?it/s]"
      ]
     },
     "metadata": {},
     "output_type": "display_data"
    },
    {
     "data": {
      "application/vnd.jupyter.widget-view+json": {
       "model_id": "bb4dd81f626a47b388ad57e657ab467d",
       "version_major": 2,
       "version_minor": 0
      },
      "text/plain": [
       "第 50/100 轮:   0%|          | 0/7 [00:00<?, ?it/s]"
      ]
     },
     "metadata": {},
     "output_type": "display_data"
    },
    {
     "data": {
      "application/vnd.jupyter.widget-view+json": {
       "model_id": "4708de63e57b42ba9a17de5bc33dee86",
       "version_major": 2,
       "version_minor": 0
      },
      "text/plain": [
       "第 51/100 轮:   0%|          | 0/7 [00:00<?, ?it/s]"
      ]
     },
     "metadata": {},
     "output_type": "display_data"
    },
    {
     "data": {
      "application/vnd.jupyter.widget-view+json": {
       "model_id": "8cdaa623d53d4383abe49ae4ebed05b7",
       "version_major": 2,
       "version_minor": 0
      },
      "text/plain": [
       "第 52/100 轮:   0%|          | 0/7 [00:00<?, ?it/s]"
      ]
     },
     "metadata": {},
     "output_type": "display_data"
    },
    {
     "data": {
      "application/vnd.jupyter.widget-view+json": {
       "model_id": "596658bf68af4036a32da32392c84f54",
       "version_major": 2,
       "version_minor": 0
      },
      "text/plain": [
       "第 53/100 轮:   0%|          | 0/7 [00:00<?, ?it/s]"
      ]
     },
     "metadata": {},
     "output_type": "display_data"
    },
    {
     "data": {
      "application/vnd.jupyter.widget-view+json": {
       "model_id": "4dd6fda83ece4307b47689645064ba01",
       "version_major": 2,
       "version_minor": 0
      },
      "text/plain": [
       "第 54/100 轮:   0%|          | 0/7 [00:00<?, ?it/s]"
      ]
     },
     "metadata": {},
     "output_type": "display_data"
    },
    {
     "data": {
      "application/vnd.jupyter.widget-view+json": {
       "model_id": "002f02a36d784d1db42bdfae2c5561e0",
       "version_major": 2,
       "version_minor": 0
      },
      "text/plain": [
       "第 55/100 轮:   0%|          | 0/7 [00:00<?, ?it/s]"
      ]
     },
     "metadata": {},
     "output_type": "display_data"
    },
    {
     "data": {
      "application/vnd.jupyter.widget-view+json": {
       "model_id": "b958f13dce064583a55d9d926eb4b58c",
       "version_major": 2,
       "version_minor": 0
      },
      "text/plain": [
       "第 56/100 轮:   0%|          | 0/7 [00:00<?, ?it/s]"
      ]
     },
     "metadata": {},
     "output_type": "display_data"
    },
    {
     "data": {
      "application/vnd.jupyter.widget-view+json": {
       "model_id": "bb9b399fe73f471eb1fe435714b432b1",
       "version_major": 2,
       "version_minor": 0
      },
      "text/plain": [
       "第 57/100 轮:   0%|          | 0/7 [00:00<?, ?it/s]"
      ]
     },
     "metadata": {},
     "output_type": "display_data"
    },
    {
     "data": {
      "application/vnd.jupyter.widget-view+json": {
       "model_id": "43606a503bb6411080c627d0b6032fb6",
       "version_major": 2,
       "version_minor": 0
      },
      "text/plain": [
       "第 58/100 轮:   0%|          | 0/7 [00:00<?, ?it/s]"
      ]
     },
     "metadata": {},
     "output_type": "display_data"
    },
    {
     "data": {
      "application/vnd.jupyter.widget-view+json": {
       "model_id": "57c1056eed82416fbad20007a129bfb0",
       "version_major": 2,
       "version_minor": 0
      },
      "text/plain": [
       "第 59/100 轮:   0%|          | 0/7 [00:00<?, ?it/s]"
      ]
     },
     "metadata": {},
     "output_type": "display_data"
    },
    {
     "data": {
      "application/vnd.jupyter.widget-view+json": {
       "model_id": "fd1457e70cfe4e528246741108feeb35",
       "version_major": 2,
       "version_minor": 0
      },
      "text/plain": [
       "第 60/100 轮:   0%|          | 0/7 [00:00<?, ?it/s]"
      ]
     },
     "metadata": {},
     "output_type": "display_data"
    },
    {
     "data": {
      "application/vnd.jupyter.widget-view+json": {
       "model_id": "56b52d159bf740cf86b572a58b5cfbaf",
       "version_major": 2,
       "version_minor": 0
      },
      "text/plain": [
       "第 61/100 轮:   0%|          | 0/7 [00:00<?, ?it/s]"
      ]
     },
     "metadata": {},
     "output_type": "display_data"
    },
    {
     "data": {
      "application/vnd.jupyter.widget-view+json": {
       "model_id": "5e122caa20ac462c83e6a5db2f78c013",
       "version_major": 2,
       "version_minor": 0
      },
      "text/plain": [
       "第 62/100 轮:   0%|          | 0/7 [00:00<?, ?it/s]"
      ]
     },
     "metadata": {},
     "output_type": "display_data"
    },
    {
     "data": {
      "application/vnd.jupyter.widget-view+json": {
       "model_id": "1695146a7170407ca51468f7f06dfb43",
       "version_major": 2,
       "version_minor": 0
      },
      "text/plain": [
       "第 63/100 轮:   0%|          | 0/7 [00:00<?, ?it/s]"
      ]
     },
     "metadata": {},
     "output_type": "display_data"
    },
    {
     "data": {
      "application/vnd.jupyter.widget-view+json": {
       "model_id": "cd6bb107a76e4dc59397f1e45b68cef1",
       "version_major": 2,
       "version_minor": 0
      },
      "text/plain": [
       "第 64/100 轮:   0%|          | 0/7 [00:00<?, ?it/s]"
      ]
     },
     "metadata": {},
     "output_type": "display_data"
    },
    {
     "data": {
      "application/vnd.jupyter.widget-view+json": {
       "model_id": "e0db6a36c6df41b18230637855fb2b2c",
       "version_major": 2,
       "version_minor": 0
      },
      "text/plain": [
       "第 65/100 轮:   0%|          | 0/7 [00:00<?, ?it/s]"
      ]
     },
     "metadata": {},
     "output_type": "display_data"
    },
    {
     "data": {
      "application/vnd.jupyter.widget-view+json": {
       "model_id": "4739bee7b084452490cd14425e030e30",
       "version_major": 2,
       "version_minor": 0
      },
      "text/plain": [
       "第 66/100 轮:   0%|          | 0/7 [00:00<?, ?it/s]"
      ]
     },
     "metadata": {},
     "output_type": "display_data"
    },
    {
     "data": {
      "application/vnd.jupyter.widget-view+json": {
       "model_id": "96b2bf665f884b0f8fa3841830579dbb",
       "version_major": 2,
       "version_minor": 0
      },
      "text/plain": [
       "第 67/100 轮:   0%|          | 0/7 [00:00<?, ?it/s]"
      ]
     },
     "metadata": {},
     "output_type": "display_data"
    },
    {
     "data": {
      "application/vnd.jupyter.widget-view+json": {
       "model_id": "e221293a53f9459e9ff929b54e0c9207",
       "version_major": 2,
       "version_minor": 0
      },
      "text/plain": [
       "第 68/100 轮:   0%|          | 0/7 [00:00<?, ?it/s]"
      ]
     },
     "metadata": {},
     "output_type": "display_data"
    },
    {
     "data": {
      "application/vnd.jupyter.widget-view+json": {
       "model_id": "ba2f8e281e8d4561a2f0ed8eba7a218b",
       "version_major": 2,
       "version_minor": 0
      },
      "text/plain": [
       "第 69/100 轮:   0%|          | 0/7 [00:00<?, ?it/s]"
      ]
     },
     "metadata": {},
     "output_type": "display_data"
    },
    {
     "data": {
      "application/vnd.jupyter.widget-view+json": {
       "model_id": "e5c25ca08c2e4cf58c94608bceef0094",
       "version_major": 2,
       "version_minor": 0
      },
      "text/plain": [
       "第 70/100 轮:   0%|          | 0/7 [00:00<?, ?it/s]"
      ]
     },
     "metadata": {},
     "output_type": "display_data"
    },
    {
     "data": {
      "application/vnd.jupyter.widget-view+json": {
       "model_id": "b92fb5f9d41544c2b26a6eb9fe4447a8",
       "version_major": 2,
       "version_minor": 0
      },
      "text/plain": [
       "第 71/100 轮:   0%|          | 0/7 [00:00<?, ?it/s]"
      ]
     },
     "metadata": {},
     "output_type": "display_data"
    },
    {
     "data": {
      "application/vnd.jupyter.widget-view+json": {
       "model_id": "64c9bef506a14e73b242b0fc0791d143",
       "version_major": 2,
       "version_minor": 0
      },
      "text/plain": [
       "第 72/100 轮:   0%|          | 0/7 [00:00<?, ?it/s]"
      ]
     },
     "metadata": {},
     "output_type": "display_data"
    },
    {
     "data": {
      "application/vnd.jupyter.widget-view+json": {
       "model_id": "5e44e42bd2214716801513f2edeb5428",
       "version_major": 2,
       "version_minor": 0
      },
      "text/plain": [
       "第 73/100 轮:   0%|          | 0/7 [00:00<?, ?it/s]"
      ]
     },
     "metadata": {},
     "output_type": "display_data"
    },
    {
     "data": {
      "application/vnd.jupyter.widget-view+json": {
       "model_id": "325ac69b2e2a4089805121fdbf55a6a7",
       "version_major": 2,
       "version_minor": 0
      },
      "text/plain": [
       "第 74/100 轮:   0%|          | 0/7 [00:00<?, ?it/s]"
      ]
     },
     "metadata": {},
     "output_type": "display_data"
    },
    {
     "data": {
      "application/vnd.jupyter.widget-view+json": {
       "model_id": "734607a481d7478b862c6bbf51f85c08",
       "version_major": 2,
       "version_minor": 0
      },
      "text/plain": [
       "第 75/100 轮:   0%|          | 0/7 [00:00<?, ?it/s]"
      ]
     },
     "metadata": {},
     "output_type": "display_data"
    },
    {
     "data": {
      "application/vnd.jupyter.widget-view+json": {
       "model_id": "5d1dba891496423eb8fbf4876b8f12b8",
       "version_major": 2,
       "version_minor": 0
      },
      "text/plain": [
       "第 76/100 轮:   0%|          | 0/7 [00:00<?, ?it/s]"
      ]
     },
     "metadata": {},
     "output_type": "display_data"
    },
    {
     "data": {
      "application/vnd.jupyter.widget-view+json": {
       "model_id": "d2860f68e0a54824aec74fcb2246f69f",
       "version_major": 2,
       "version_minor": 0
      },
      "text/plain": [
       "第 77/100 轮:   0%|          | 0/7 [00:00<?, ?it/s]"
      ]
     },
     "metadata": {},
     "output_type": "display_data"
    },
    {
     "data": {
      "application/vnd.jupyter.widget-view+json": {
       "model_id": "7f688d5a921a474f9bb7dc34ef343458",
       "version_major": 2,
       "version_minor": 0
      },
      "text/plain": [
       "第 78/100 轮:   0%|          | 0/7 [00:00<?, ?it/s]"
      ]
     },
     "metadata": {},
     "output_type": "display_data"
    },
    {
     "data": {
      "application/vnd.jupyter.widget-view+json": {
       "model_id": "60497f8a21ea4b3c854b79cee16ffc1d",
       "version_major": 2,
       "version_minor": 0
      },
      "text/plain": [
       "第 79/100 轮:   0%|          | 0/7 [00:00<?, ?it/s]"
      ]
     },
     "metadata": {},
     "output_type": "display_data"
    },
    {
     "data": {
      "application/vnd.jupyter.widget-view+json": {
       "model_id": "9d67c3228b104bbc8a6b5b6d4b5665ab",
       "version_major": 2,
       "version_minor": 0
      },
      "text/plain": [
       "第 80/100 轮:   0%|          | 0/7 [00:00<?, ?it/s]"
      ]
     },
     "metadata": {},
     "output_type": "display_data"
    },
    {
     "data": {
      "application/vnd.jupyter.widget-view+json": {
       "model_id": "550eb305b5b84228be8091c61cd7ab80",
       "version_major": 2,
       "version_minor": 0
      },
      "text/plain": [
       "第 81/100 轮:   0%|          | 0/7 [00:00<?, ?it/s]"
      ]
     },
     "metadata": {},
     "output_type": "display_data"
    },
    {
     "data": {
      "application/vnd.jupyter.widget-view+json": {
       "model_id": "15bcb1e392224bc1af3e000ec1f61393",
       "version_major": 2,
       "version_minor": 0
      },
      "text/plain": [
       "第 82/100 轮:   0%|          | 0/7 [00:00<?, ?it/s]"
      ]
     },
     "metadata": {},
     "output_type": "display_data"
    },
    {
     "data": {
      "application/vnd.jupyter.widget-view+json": {
       "model_id": "b03761f453af4427b1e38215e16c7e5c",
       "version_major": 2,
       "version_minor": 0
      },
      "text/plain": [
       "第 83/100 轮:   0%|          | 0/7 [00:00<?, ?it/s]"
      ]
     },
     "metadata": {},
     "output_type": "display_data"
    },
    {
     "data": {
      "application/vnd.jupyter.widget-view+json": {
       "model_id": "db58fe1c223e4480a54c3fda8db60817",
       "version_major": 2,
       "version_minor": 0
      },
      "text/plain": [
       "第 84/100 轮:   0%|          | 0/7 [00:00<?, ?it/s]"
      ]
     },
     "metadata": {},
     "output_type": "display_data"
    },
    {
     "data": {
      "application/vnd.jupyter.widget-view+json": {
       "model_id": "c4b169f48e15491daaf5a87938ff6af7",
       "version_major": 2,
       "version_minor": 0
      },
      "text/plain": [
       "第 85/100 轮:   0%|          | 0/7 [00:00<?, ?it/s]"
      ]
     },
     "metadata": {},
     "output_type": "display_data"
    },
    {
     "data": {
      "application/vnd.jupyter.widget-view+json": {
       "model_id": "b5dc65e260f54f05b57df09229a5df99",
       "version_major": 2,
       "version_minor": 0
      },
      "text/plain": [
       "第 86/100 轮:   0%|          | 0/7 [00:00<?, ?it/s]"
      ]
     },
     "metadata": {},
     "output_type": "display_data"
    },
    {
     "data": {
      "application/vnd.jupyter.widget-view+json": {
       "model_id": "84d3c95dc6eb4c27a1fb664755e7ccdb",
       "version_major": 2,
       "version_minor": 0
      },
      "text/plain": [
       "第 87/100 轮:   0%|          | 0/7 [00:00<?, ?it/s]"
      ]
     },
     "metadata": {},
     "output_type": "display_data"
    },
    {
     "data": {
      "application/vnd.jupyter.widget-view+json": {
       "model_id": "dbf5084e2a074366a4fa25e48b18ad2f",
       "version_major": 2,
       "version_minor": 0
      },
      "text/plain": [
       "第 88/100 轮:   0%|          | 0/7 [00:00<?, ?it/s]"
      ]
     },
     "metadata": {},
     "output_type": "display_data"
    },
    {
     "data": {
      "application/vnd.jupyter.widget-view+json": {
       "model_id": "05ae069e01734d6d965b1bbdb0a57a47",
       "version_major": 2,
       "version_minor": 0
      },
      "text/plain": [
       "第 89/100 轮:   0%|          | 0/7 [00:00<?, ?it/s]"
      ]
     },
     "metadata": {},
     "output_type": "display_data"
    },
    {
     "data": {
      "application/vnd.jupyter.widget-view+json": {
       "model_id": "7463dee6cd8041b896f328d3d35a52b8",
       "version_major": 2,
       "version_minor": 0
      },
      "text/plain": [
       "第 90/100 轮:   0%|          | 0/7 [00:00<?, ?it/s]"
      ]
     },
     "metadata": {},
     "output_type": "display_data"
    },
    {
     "data": {
      "application/vnd.jupyter.widget-view+json": {
       "model_id": "4e75a9dd843e4837bfa64d0ed9411571",
       "version_major": 2,
       "version_minor": 0
      },
      "text/plain": [
       "第 91/100 轮:   0%|          | 0/7 [00:00<?, ?it/s]"
      ]
     },
     "metadata": {},
     "output_type": "display_data"
    },
    {
     "data": {
      "application/vnd.jupyter.widget-view+json": {
       "model_id": "d2d16265764e4b878c63f0038a653eb5",
       "version_major": 2,
       "version_minor": 0
      },
      "text/plain": [
       "第 92/100 轮:   0%|          | 0/7 [00:00<?, ?it/s]"
      ]
     },
     "metadata": {},
     "output_type": "display_data"
    },
    {
     "data": {
      "application/vnd.jupyter.widget-view+json": {
       "model_id": "0889ea09ba96494e8df8e203fc9e72ec",
       "version_major": 2,
       "version_minor": 0
      },
      "text/plain": [
       "第 93/100 轮:   0%|          | 0/7 [00:00<?, ?it/s]"
      ]
     },
     "metadata": {},
     "output_type": "display_data"
    },
    {
     "data": {
      "application/vnd.jupyter.widget-view+json": {
       "model_id": "4c4d9070bec14bf092992635003ce21e",
       "version_major": 2,
       "version_minor": 0
      },
      "text/plain": [
       "第 94/100 轮:   0%|          | 0/7 [00:00<?, ?it/s]"
      ]
     },
     "metadata": {},
     "output_type": "display_data"
    },
    {
     "data": {
      "application/vnd.jupyter.widget-view+json": {
       "model_id": "8d94710a0f0747d283e36de81793f5b6",
       "version_major": 2,
       "version_minor": 0
      },
      "text/plain": [
       "第 95/100 轮:   0%|          | 0/7 [00:00<?, ?it/s]"
      ]
     },
     "metadata": {},
     "output_type": "display_data"
    },
    {
     "data": {
      "application/vnd.jupyter.widget-view+json": {
       "model_id": "4fe7f6e8e88b4d28a81f634ad1b4d5b0",
       "version_major": 2,
       "version_minor": 0
      },
      "text/plain": [
       "第 96/100 轮:   0%|          | 0/7 [00:00<?, ?it/s]"
      ]
     },
     "metadata": {},
     "output_type": "display_data"
    },
    {
     "data": {
      "application/vnd.jupyter.widget-view+json": {
       "model_id": "05145972ae4a41c885e5762198de25bd",
       "version_major": 2,
       "version_minor": 0
      },
      "text/plain": [
       "第 97/100 轮:   0%|          | 0/7 [00:00<?, ?it/s]"
      ]
     },
     "metadata": {},
     "output_type": "display_data"
    },
    {
     "data": {
      "application/vnd.jupyter.widget-view+json": {
       "model_id": "25ca8375091a4bd3afabf0976d876e8a",
       "version_major": 2,
       "version_minor": 0
      },
      "text/plain": [
       "第 98/100 轮:   0%|          | 0/7 [00:00<?, ?it/s]"
      ]
     },
     "metadata": {},
     "output_type": "display_data"
    },
    {
     "data": {
      "application/vnd.jupyter.widget-view+json": {
       "model_id": "8c35e18321f6497fa122b50449e319f6",
       "version_major": 2,
       "version_minor": 0
      },
      "text/plain": [
       "第 99/100 轮:   0%|          | 0/7 [00:00<?, ?it/s]"
      ]
     },
     "metadata": {},
     "output_type": "display_data"
    },
    {
     "data": {
      "application/vnd.jupyter.widget-view+json": {
       "model_id": "4b9b5753db2040c19a44f4aa4ec9e543",
       "version_major": 2,
       "version_minor": 0
      },
      "text/plain": [
       "第 100/100 轮:   0%|          | 0/7 [00:00<?, ?it/s]"
      ]
     },
     "metadata": {},
     "output_type": "display_data"
    },
    {
     "name": "stdout",
     "output_type": "stream",
     "text": [
      "Fold 1 - Epoch 100: Best Correlation Coefficient: 0.7882\n"
     ]
    },
    {
     "data": {
      "application/vnd.jupyter.widget-view+json": {
       "model_id": "e58e031e6fe944eba34f02d467b20a2d",
       "version_major": 2,
       "version_minor": 0
      },
      "text/plain": [
       "第 1/100 轮:   0%|          | 0/7 [00:00<?, ?it/s]"
      ]
     },
     "metadata": {},
     "output_type": "display_data"
    },
    {
     "data": {
      "application/vnd.jupyter.widget-view+json": {
       "model_id": "7363918447674b7686d402d79b28763a",
       "version_major": 2,
       "version_minor": 0
      },
      "text/plain": [
       "第 2/100 轮:   0%|          | 0/7 [00:00<?, ?it/s]"
      ]
     },
     "metadata": {},
     "output_type": "display_data"
    },
    {
     "data": {
      "application/vnd.jupyter.widget-view+json": {
       "model_id": "08024a3231c7407e8e24eb691b4290b4",
       "version_major": 2,
       "version_minor": 0
      },
      "text/plain": [
       "第 3/100 轮:   0%|          | 0/7 [00:00<?, ?it/s]"
      ]
     },
     "metadata": {},
     "output_type": "display_data"
    },
    {
     "data": {
      "application/vnd.jupyter.widget-view+json": {
       "model_id": "19304d273a7a4081aef3cd11542a0d81",
       "version_major": 2,
       "version_minor": 0
      },
      "text/plain": [
       "第 4/100 轮:   0%|          | 0/7 [00:00<?, ?it/s]"
      ]
     },
     "metadata": {},
     "output_type": "display_data"
    },
    {
     "data": {
      "application/vnd.jupyter.widget-view+json": {
       "model_id": "350924c1264741b990eedd924968145a",
       "version_major": 2,
       "version_minor": 0
      },
      "text/plain": [
       "第 5/100 轮:   0%|          | 0/7 [00:00<?, ?it/s]"
      ]
     },
     "metadata": {},
     "output_type": "display_data"
    },
    {
     "data": {
      "application/vnd.jupyter.widget-view+json": {
       "model_id": "c4eda531fb8c4004a76f64d4a7a44993",
       "version_major": 2,
       "version_minor": 0
      },
      "text/plain": [
       "第 6/100 轮:   0%|          | 0/7 [00:00<?, ?it/s]"
      ]
     },
     "metadata": {},
     "output_type": "display_data"
    },
    {
     "data": {
      "application/vnd.jupyter.widget-view+json": {
       "model_id": "cb201020648d4205bd7b017c5a547798",
       "version_major": 2,
       "version_minor": 0
      },
      "text/plain": [
       "第 7/100 轮:   0%|          | 0/7 [00:00<?, ?it/s]"
      ]
     },
     "metadata": {},
     "output_type": "display_data"
    },
    {
     "data": {
      "application/vnd.jupyter.widget-view+json": {
       "model_id": "85e3fb12e7ee4e758282f1098a1710c9",
       "version_major": 2,
       "version_minor": 0
      },
      "text/plain": [
       "第 8/100 轮:   0%|          | 0/7 [00:00<?, ?it/s]"
      ]
     },
     "metadata": {},
     "output_type": "display_data"
    },
    {
     "data": {
      "application/vnd.jupyter.widget-view+json": {
       "model_id": "aa1d23e1d3eb4938af61cde49af48d1c",
       "version_major": 2,
       "version_minor": 0
      },
      "text/plain": [
       "第 9/100 轮:   0%|          | 0/7 [00:00<?, ?it/s]"
      ]
     },
     "metadata": {},
     "output_type": "display_data"
    },
    {
     "data": {
      "application/vnd.jupyter.widget-view+json": {
       "model_id": "7f1a373efbe541c7b09f2b4559c36846",
       "version_major": 2,
       "version_minor": 0
      },
      "text/plain": [
       "第 10/100 轮:   0%|          | 0/7 [00:00<?, ?it/s]"
      ]
     },
     "metadata": {},
     "output_type": "display_data"
    },
    {
     "data": {
      "application/vnd.jupyter.widget-view+json": {
       "model_id": "0bce2fd272754bc2917e5747a23d315e",
       "version_major": 2,
       "version_minor": 0
      },
      "text/plain": [
       "第 11/100 轮:   0%|          | 0/7 [00:00<?, ?it/s]"
      ]
     },
     "metadata": {},
     "output_type": "display_data"
    },
    {
     "data": {
      "application/vnd.jupyter.widget-view+json": {
       "model_id": "c20e0e0e84394e45b753b3367749c8ac",
       "version_major": 2,
       "version_minor": 0
      },
      "text/plain": [
       "第 12/100 轮:   0%|          | 0/7 [00:00<?, ?it/s]"
      ]
     },
     "metadata": {},
     "output_type": "display_data"
    },
    {
     "data": {
      "application/vnd.jupyter.widget-view+json": {
       "model_id": "7ce9319f99d941be89f5929e187433db",
       "version_major": 2,
       "version_minor": 0
      },
      "text/plain": [
       "第 13/100 轮:   0%|          | 0/7 [00:00<?, ?it/s]"
      ]
     },
     "metadata": {},
     "output_type": "display_data"
    },
    {
     "data": {
      "application/vnd.jupyter.widget-view+json": {
       "model_id": "6c29f54ef3e54466a0b1e1817029ec40",
       "version_major": 2,
       "version_minor": 0
      },
      "text/plain": [
       "第 14/100 轮:   0%|          | 0/7 [00:00<?, ?it/s]"
      ]
     },
     "metadata": {},
     "output_type": "display_data"
    },
    {
     "data": {
      "application/vnd.jupyter.widget-view+json": {
       "model_id": "30f6287d91f141d5adb97593c782632f",
       "version_major": 2,
       "version_minor": 0
      },
      "text/plain": [
       "第 15/100 轮:   0%|          | 0/7 [00:00<?, ?it/s]"
      ]
     },
     "metadata": {},
     "output_type": "display_data"
    },
    {
     "data": {
      "application/vnd.jupyter.widget-view+json": {
       "model_id": "32092d4e7de14ce18eb0f275944c1a1d",
       "version_major": 2,
       "version_minor": 0
      },
      "text/plain": [
       "第 16/100 轮:   0%|          | 0/7 [00:00<?, ?it/s]"
      ]
     },
     "metadata": {},
     "output_type": "display_data"
    },
    {
     "data": {
      "application/vnd.jupyter.widget-view+json": {
       "model_id": "4a216cc593404691a5a4b562a4e8dfe2",
       "version_major": 2,
       "version_minor": 0
      },
      "text/plain": [
       "第 17/100 轮:   0%|          | 0/7 [00:00<?, ?it/s]"
      ]
     },
     "metadata": {},
     "output_type": "display_data"
    },
    {
     "data": {
      "application/vnd.jupyter.widget-view+json": {
       "model_id": "6ce580e65bc544c2808f66f38190404d",
       "version_major": 2,
       "version_minor": 0
      },
      "text/plain": [
       "第 18/100 轮:   0%|          | 0/7 [00:00<?, ?it/s]"
      ]
     },
     "metadata": {},
     "output_type": "display_data"
    },
    {
     "data": {
      "application/vnd.jupyter.widget-view+json": {
       "model_id": "353566ed379e4de8ab8418a22d446fd1",
       "version_major": 2,
       "version_minor": 0
      },
      "text/plain": [
       "第 19/100 轮:   0%|          | 0/7 [00:00<?, ?it/s]"
      ]
     },
     "metadata": {},
     "output_type": "display_data"
    },
    {
     "data": {
      "application/vnd.jupyter.widget-view+json": {
       "model_id": "8ecc4b167f4c47b9b45aa1fdeadbe3da",
       "version_major": 2,
       "version_minor": 0
      },
      "text/plain": [
       "第 20/100 轮:   0%|          | 0/7 [00:00<?, ?it/s]"
      ]
     },
     "metadata": {},
     "output_type": "display_data"
    },
    {
     "data": {
      "application/vnd.jupyter.widget-view+json": {
       "model_id": "aa01df8d5a764a549019ad988d9390f4",
       "version_major": 2,
       "version_minor": 0
      },
      "text/plain": [
       "第 21/100 轮:   0%|          | 0/7 [00:00<?, ?it/s]"
      ]
     },
     "metadata": {},
     "output_type": "display_data"
    },
    {
     "data": {
      "application/vnd.jupyter.widget-view+json": {
       "model_id": "9a3d0a46c78b4ddfa9baed954461ca98",
       "version_major": 2,
       "version_minor": 0
      },
      "text/plain": [
       "第 22/100 轮:   0%|          | 0/7 [00:00<?, ?it/s]"
      ]
     },
     "metadata": {},
     "output_type": "display_data"
    },
    {
     "data": {
      "application/vnd.jupyter.widget-view+json": {
       "model_id": "37cd227d6d4d4cadbb8d1841f0bd00de",
       "version_major": 2,
       "version_minor": 0
      },
      "text/plain": [
       "第 23/100 轮:   0%|          | 0/7 [00:00<?, ?it/s]"
      ]
     },
     "metadata": {},
     "output_type": "display_data"
    },
    {
     "data": {
      "application/vnd.jupyter.widget-view+json": {
       "model_id": "9b81f5ef807f404f8776a89fa6df0037",
       "version_major": 2,
       "version_minor": 0
      },
      "text/plain": [
       "第 24/100 轮:   0%|          | 0/7 [00:00<?, ?it/s]"
      ]
     },
     "metadata": {},
     "output_type": "display_data"
    },
    {
     "data": {
      "application/vnd.jupyter.widget-view+json": {
       "model_id": "396da8089ce64e1e9dc6ad9aede8507d",
       "version_major": 2,
       "version_minor": 0
      },
      "text/plain": [
       "第 25/100 轮:   0%|          | 0/7 [00:00<?, ?it/s]"
      ]
     },
     "metadata": {},
     "output_type": "display_data"
    },
    {
     "data": {
      "application/vnd.jupyter.widget-view+json": {
       "model_id": "c07bd45791fd4f738978d5d429df87b7",
       "version_major": 2,
       "version_minor": 0
      },
      "text/plain": [
       "第 26/100 轮:   0%|          | 0/7 [00:00<?, ?it/s]"
      ]
     },
     "metadata": {},
     "output_type": "display_data"
    },
    {
     "data": {
      "application/vnd.jupyter.widget-view+json": {
       "model_id": "1b44138ee1e1491192bb7231a69cba14",
       "version_major": 2,
       "version_minor": 0
      },
      "text/plain": [
       "第 27/100 轮:   0%|          | 0/7 [00:00<?, ?it/s]"
      ]
     },
     "metadata": {},
     "output_type": "display_data"
    },
    {
     "data": {
      "application/vnd.jupyter.widget-view+json": {
       "model_id": "ee1272b0dec04ea88dc22e1ed093adef",
       "version_major": 2,
       "version_minor": 0
      },
      "text/plain": [
       "第 28/100 轮:   0%|          | 0/7 [00:00<?, ?it/s]"
      ]
     },
     "metadata": {},
     "output_type": "display_data"
    },
    {
     "data": {
      "application/vnd.jupyter.widget-view+json": {
       "model_id": "bc2f7cd980b0454e9e22ca085640ea56",
       "version_major": 2,
       "version_minor": 0
      },
      "text/plain": [
       "第 29/100 轮:   0%|          | 0/7 [00:00<?, ?it/s]"
      ]
     },
     "metadata": {},
     "output_type": "display_data"
    },
    {
     "data": {
      "application/vnd.jupyter.widget-view+json": {
       "model_id": "1018737eee0346669eb9425f1a68ddff",
       "version_major": 2,
       "version_minor": 0
      },
      "text/plain": [
       "第 30/100 轮:   0%|          | 0/7 [00:00<?, ?it/s]"
      ]
     },
     "metadata": {},
     "output_type": "display_data"
    },
    {
     "data": {
      "application/vnd.jupyter.widget-view+json": {
       "model_id": "adbfcf094d82448a8d80d144cb818d60",
       "version_major": 2,
       "version_minor": 0
      },
      "text/plain": [
       "第 31/100 轮:   0%|          | 0/7 [00:00<?, ?it/s]"
      ]
     },
     "metadata": {},
     "output_type": "display_data"
    },
    {
     "data": {
      "application/vnd.jupyter.widget-view+json": {
       "model_id": "23ed777aeb3c41ef9bc6dc9adeae71bf",
       "version_major": 2,
       "version_minor": 0
      },
      "text/plain": [
       "第 32/100 轮:   0%|          | 0/7 [00:00<?, ?it/s]"
      ]
     },
     "metadata": {},
     "output_type": "display_data"
    },
    {
     "data": {
      "application/vnd.jupyter.widget-view+json": {
       "model_id": "809fbdecae8043a39234deb6bd1b978a",
       "version_major": 2,
       "version_minor": 0
      },
      "text/plain": [
       "第 33/100 轮:   0%|          | 0/7 [00:00<?, ?it/s]"
      ]
     },
     "metadata": {},
     "output_type": "display_data"
    },
    {
     "data": {
      "application/vnd.jupyter.widget-view+json": {
       "model_id": "1a24da617cf945898988f2bf6383ce93",
       "version_major": 2,
       "version_minor": 0
      },
      "text/plain": [
       "第 34/100 轮:   0%|          | 0/7 [00:00<?, ?it/s]"
      ]
     },
     "metadata": {},
     "output_type": "display_data"
    },
    {
     "data": {
      "application/vnd.jupyter.widget-view+json": {
       "model_id": "735e02ae0aab49628b69fe7bde95a3e3",
       "version_major": 2,
       "version_minor": 0
      },
      "text/plain": [
       "第 35/100 轮:   0%|          | 0/7 [00:00<?, ?it/s]"
      ]
     },
     "metadata": {},
     "output_type": "display_data"
    },
    {
     "data": {
      "application/vnd.jupyter.widget-view+json": {
       "model_id": "bb7ad44a48aa4b2f806201cd07181b39",
       "version_major": 2,
       "version_minor": 0
      },
      "text/plain": [
       "第 36/100 轮:   0%|          | 0/7 [00:00<?, ?it/s]"
      ]
     },
     "metadata": {},
     "output_type": "display_data"
    },
    {
     "data": {
      "application/vnd.jupyter.widget-view+json": {
       "model_id": "1aceeb4b5df0419296279aed87bd230a",
       "version_major": 2,
       "version_minor": 0
      },
      "text/plain": [
       "第 37/100 轮:   0%|          | 0/7 [00:00<?, ?it/s]"
      ]
     },
     "metadata": {},
     "output_type": "display_data"
    },
    {
     "data": {
      "application/vnd.jupyter.widget-view+json": {
       "model_id": "84294200beab4ca28d6c6613abf5357a",
       "version_major": 2,
       "version_minor": 0
      },
      "text/plain": [
       "第 38/100 轮:   0%|          | 0/7 [00:00<?, ?it/s]"
      ]
     },
     "metadata": {},
     "output_type": "display_data"
    },
    {
     "data": {
      "application/vnd.jupyter.widget-view+json": {
       "model_id": "d4e936e9b662493c83f10b535749981a",
       "version_major": 2,
       "version_minor": 0
      },
      "text/plain": [
       "第 39/100 轮:   0%|          | 0/7 [00:00<?, ?it/s]"
      ]
     },
     "metadata": {},
     "output_type": "display_data"
    },
    {
     "data": {
      "application/vnd.jupyter.widget-view+json": {
       "model_id": "f1905834c6654e3aab0c5f4898c80eb8",
       "version_major": 2,
       "version_minor": 0
      },
      "text/plain": [
       "第 40/100 轮:   0%|          | 0/7 [00:00<?, ?it/s]"
      ]
     },
     "metadata": {},
     "output_type": "display_data"
    },
    {
     "data": {
      "application/vnd.jupyter.widget-view+json": {
       "model_id": "6799b5ef4a904700bc32bf61dd80aebd",
       "version_major": 2,
       "version_minor": 0
      },
      "text/plain": [
       "第 41/100 轮:   0%|          | 0/7 [00:00<?, ?it/s]"
      ]
     },
     "metadata": {},
     "output_type": "display_data"
    },
    {
     "data": {
      "application/vnd.jupyter.widget-view+json": {
       "model_id": "1bfd7eb755694f75b2c6cfbea16fbafa",
       "version_major": 2,
       "version_minor": 0
      },
      "text/plain": [
       "第 42/100 轮:   0%|          | 0/7 [00:00<?, ?it/s]"
      ]
     },
     "metadata": {},
     "output_type": "display_data"
    },
    {
     "data": {
      "application/vnd.jupyter.widget-view+json": {
       "model_id": "054f2e503d604d6b88ac8ecb4651ee84",
       "version_major": 2,
       "version_minor": 0
      },
      "text/plain": [
       "第 43/100 轮:   0%|          | 0/7 [00:00<?, ?it/s]"
      ]
     },
     "metadata": {},
     "output_type": "display_data"
    },
    {
     "data": {
      "application/vnd.jupyter.widget-view+json": {
       "model_id": "82c758715ec64523beac357f8556d0ce",
       "version_major": 2,
       "version_minor": 0
      },
      "text/plain": [
       "第 44/100 轮:   0%|          | 0/7 [00:00<?, ?it/s]"
      ]
     },
     "metadata": {},
     "output_type": "display_data"
    },
    {
     "data": {
      "application/vnd.jupyter.widget-view+json": {
       "model_id": "3ee65a762667431286ae6d9759e6ed82",
       "version_major": 2,
       "version_minor": 0
      },
      "text/plain": [
       "第 45/100 轮:   0%|          | 0/7 [00:00<?, ?it/s]"
      ]
     },
     "metadata": {},
     "output_type": "display_data"
    },
    {
     "data": {
      "application/vnd.jupyter.widget-view+json": {
       "model_id": "6c860baedb2b42998a43240682af2a69",
       "version_major": 2,
       "version_minor": 0
      },
      "text/plain": [
       "第 46/100 轮:   0%|          | 0/7 [00:00<?, ?it/s]"
      ]
     },
     "metadata": {},
     "output_type": "display_data"
    },
    {
     "data": {
      "application/vnd.jupyter.widget-view+json": {
       "model_id": "99298ee7c76b4c2e8ea019207eae5bce",
       "version_major": 2,
       "version_minor": 0
      },
      "text/plain": [
       "第 47/100 轮:   0%|          | 0/7 [00:00<?, ?it/s]"
      ]
     },
     "metadata": {},
     "output_type": "display_data"
    },
    {
     "data": {
      "application/vnd.jupyter.widget-view+json": {
       "model_id": "e5b8360c166440838172ef9c1857a5e1",
       "version_major": 2,
       "version_minor": 0
      },
      "text/plain": [
       "第 48/100 轮:   0%|          | 0/7 [00:00<?, ?it/s]"
      ]
     },
     "metadata": {},
     "output_type": "display_data"
    },
    {
     "data": {
      "application/vnd.jupyter.widget-view+json": {
       "model_id": "230d92670a3d422f89457d40c28c6be6",
       "version_major": 2,
       "version_minor": 0
      },
      "text/plain": [
       "第 49/100 轮:   0%|          | 0/7 [00:00<?, ?it/s]"
      ]
     },
     "metadata": {},
     "output_type": "display_data"
    },
    {
     "data": {
      "application/vnd.jupyter.widget-view+json": {
       "model_id": "6c3411dbef2948518757f5c4573200b5",
       "version_major": 2,
       "version_minor": 0
      },
      "text/plain": [
       "第 50/100 轮:   0%|          | 0/7 [00:00<?, ?it/s]"
      ]
     },
     "metadata": {},
     "output_type": "display_data"
    },
    {
     "data": {
      "application/vnd.jupyter.widget-view+json": {
       "model_id": "545a14d9c6ad4fe1a2d7f6bc80a0cd6e",
       "version_major": 2,
       "version_minor": 0
      },
      "text/plain": [
       "第 51/100 轮:   0%|          | 0/7 [00:00<?, ?it/s]"
      ]
     },
     "metadata": {},
     "output_type": "display_data"
    },
    {
     "data": {
      "application/vnd.jupyter.widget-view+json": {
       "model_id": "2e2c947be8ce4e9887f21a1b2677cad1",
       "version_major": 2,
       "version_minor": 0
      },
      "text/plain": [
       "第 52/100 轮:   0%|          | 0/7 [00:00<?, ?it/s]"
      ]
     },
     "metadata": {},
     "output_type": "display_data"
    },
    {
     "data": {
      "application/vnd.jupyter.widget-view+json": {
       "model_id": "48baa64c202b40c59b908538c7248a49",
       "version_major": 2,
       "version_minor": 0
      },
      "text/plain": [
       "第 53/100 轮:   0%|          | 0/7 [00:00<?, ?it/s]"
      ]
     },
     "metadata": {},
     "output_type": "display_data"
    },
    {
     "data": {
      "application/vnd.jupyter.widget-view+json": {
       "model_id": "882a5a8dcdfe476c88d6138e6b2451dc",
       "version_major": 2,
       "version_minor": 0
      },
      "text/plain": [
       "第 54/100 轮:   0%|          | 0/7 [00:00<?, ?it/s]"
      ]
     },
     "metadata": {},
     "output_type": "display_data"
    },
    {
     "data": {
      "application/vnd.jupyter.widget-view+json": {
       "model_id": "0da274f6c81f4f459eabd5eee83d77c1",
       "version_major": 2,
       "version_minor": 0
      },
      "text/plain": [
       "第 55/100 轮:   0%|          | 0/7 [00:00<?, ?it/s]"
      ]
     },
     "metadata": {},
     "output_type": "display_data"
    },
    {
     "data": {
      "application/vnd.jupyter.widget-view+json": {
       "model_id": "f76b44eae400401f86e85d9d0c80a460",
       "version_major": 2,
       "version_minor": 0
      },
      "text/plain": [
       "第 56/100 轮:   0%|          | 0/7 [00:00<?, ?it/s]"
      ]
     },
     "metadata": {},
     "output_type": "display_data"
    },
    {
     "data": {
      "application/vnd.jupyter.widget-view+json": {
       "model_id": "f2c7d288146b4728acd7310d0fdb5f83",
       "version_major": 2,
       "version_minor": 0
      },
      "text/plain": [
       "第 57/100 轮:   0%|          | 0/7 [00:00<?, ?it/s]"
      ]
     },
     "metadata": {},
     "output_type": "display_data"
    },
    {
     "data": {
      "application/vnd.jupyter.widget-view+json": {
       "model_id": "be61c2ab70dd4ffe8d0fefcc4f29d741",
       "version_major": 2,
       "version_minor": 0
      },
      "text/plain": [
       "第 58/100 轮:   0%|          | 0/7 [00:00<?, ?it/s]"
      ]
     },
     "metadata": {},
     "output_type": "display_data"
    },
    {
     "data": {
      "application/vnd.jupyter.widget-view+json": {
       "model_id": "cf7270c62fe84513b08434fc269c08e7",
       "version_major": 2,
       "version_minor": 0
      },
      "text/plain": [
       "第 59/100 轮:   0%|          | 0/7 [00:00<?, ?it/s]"
      ]
     },
     "metadata": {},
     "output_type": "display_data"
    },
    {
     "data": {
      "application/vnd.jupyter.widget-view+json": {
       "model_id": "c7fa1a97c9764f4883e6ea4475052b0c",
       "version_major": 2,
       "version_minor": 0
      },
      "text/plain": [
       "第 60/100 轮:   0%|          | 0/7 [00:00<?, ?it/s]"
      ]
     },
     "metadata": {},
     "output_type": "display_data"
    },
    {
     "data": {
      "application/vnd.jupyter.widget-view+json": {
       "model_id": "d913b37ad5b941b9abb89ed9984c28a1",
       "version_major": 2,
       "version_minor": 0
      },
      "text/plain": [
       "第 61/100 轮:   0%|          | 0/7 [00:00<?, ?it/s]"
      ]
     },
     "metadata": {},
     "output_type": "display_data"
    },
    {
     "data": {
      "application/vnd.jupyter.widget-view+json": {
       "model_id": "930261777f4d4faa89b3ca1dd01f5c3c",
       "version_major": 2,
       "version_minor": 0
      },
      "text/plain": [
       "第 62/100 轮:   0%|          | 0/7 [00:00<?, ?it/s]"
      ]
     },
     "metadata": {},
     "output_type": "display_data"
    },
    {
     "data": {
      "application/vnd.jupyter.widget-view+json": {
       "model_id": "4ee0b1d4d1b3457f8218486ab8322e4d",
       "version_major": 2,
       "version_minor": 0
      },
      "text/plain": [
       "第 63/100 轮:   0%|          | 0/7 [00:00<?, ?it/s]"
      ]
     },
     "metadata": {},
     "output_type": "display_data"
    },
    {
     "data": {
      "application/vnd.jupyter.widget-view+json": {
       "model_id": "ab408d5ec9c54de19940b63bd8bc8e95",
       "version_major": 2,
       "version_minor": 0
      },
      "text/plain": [
       "第 64/100 轮:   0%|          | 0/7 [00:00<?, ?it/s]"
      ]
     },
     "metadata": {},
     "output_type": "display_data"
    },
    {
     "data": {
      "application/vnd.jupyter.widget-view+json": {
       "model_id": "e3ced13c30fa4037a446f01fa9fe05c7",
       "version_major": 2,
       "version_minor": 0
      },
      "text/plain": [
       "第 65/100 轮:   0%|          | 0/7 [00:00<?, ?it/s]"
      ]
     },
     "metadata": {},
     "output_type": "display_data"
    },
    {
     "data": {
      "application/vnd.jupyter.widget-view+json": {
       "model_id": "dbd07c7fa0de4bc3b628ab846bcdabf2",
       "version_major": 2,
       "version_minor": 0
      },
      "text/plain": [
       "第 66/100 轮:   0%|          | 0/7 [00:00<?, ?it/s]"
      ]
     },
     "metadata": {},
     "output_type": "display_data"
    },
    {
     "data": {
      "application/vnd.jupyter.widget-view+json": {
       "model_id": "6d774bb61f4b4305a40d8d498ab12c6a",
       "version_major": 2,
       "version_minor": 0
      },
      "text/plain": [
       "第 67/100 轮:   0%|          | 0/7 [00:00<?, ?it/s]"
      ]
     },
     "metadata": {},
     "output_type": "display_data"
    },
    {
     "data": {
      "application/vnd.jupyter.widget-view+json": {
       "model_id": "6f6e8d7df2e745e29f9f634559fb7b8f",
       "version_major": 2,
       "version_minor": 0
      },
      "text/plain": [
       "第 68/100 轮:   0%|          | 0/7 [00:00<?, ?it/s]"
      ]
     },
     "metadata": {},
     "output_type": "display_data"
    },
    {
     "data": {
      "application/vnd.jupyter.widget-view+json": {
       "model_id": "420649293eec41b789b842868c28b7c0",
       "version_major": 2,
       "version_minor": 0
      },
      "text/plain": [
       "第 69/100 轮:   0%|          | 0/7 [00:00<?, ?it/s]"
      ]
     },
     "metadata": {},
     "output_type": "display_data"
    },
    {
     "data": {
      "application/vnd.jupyter.widget-view+json": {
       "model_id": "5bce0194f5a348e9a9998d42eba507ec",
       "version_major": 2,
       "version_minor": 0
      },
      "text/plain": [
       "第 70/100 轮:   0%|          | 0/7 [00:00<?, ?it/s]"
      ]
     },
     "metadata": {},
     "output_type": "display_data"
    },
    {
     "data": {
      "application/vnd.jupyter.widget-view+json": {
       "model_id": "eb9ca741b1e24a55afdb982dd2158848",
       "version_major": 2,
       "version_minor": 0
      },
      "text/plain": [
       "第 71/100 轮:   0%|          | 0/7 [00:00<?, ?it/s]"
      ]
     },
     "metadata": {},
     "output_type": "display_data"
    },
    {
     "data": {
      "application/vnd.jupyter.widget-view+json": {
       "model_id": "d1d800742a3041c5b4c0450f65291e9e",
       "version_major": 2,
       "version_minor": 0
      },
      "text/plain": [
       "第 72/100 轮:   0%|          | 0/7 [00:00<?, ?it/s]"
      ]
     },
     "metadata": {},
     "output_type": "display_data"
    },
    {
     "data": {
      "application/vnd.jupyter.widget-view+json": {
       "model_id": "3e5324552d3e4557918025ad4c761648",
       "version_major": 2,
       "version_minor": 0
      },
      "text/plain": [
       "第 73/100 轮:   0%|          | 0/7 [00:00<?, ?it/s]"
      ]
     },
     "metadata": {},
     "output_type": "display_data"
    },
    {
     "data": {
      "application/vnd.jupyter.widget-view+json": {
       "model_id": "e817bd65947e43d086c7c4057386590d",
       "version_major": 2,
       "version_minor": 0
      },
      "text/plain": [
       "第 74/100 轮:   0%|          | 0/7 [00:00<?, ?it/s]"
      ]
     },
     "metadata": {},
     "output_type": "display_data"
    },
    {
     "data": {
      "application/vnd.jupyter.widget-view+json": {
       "model_id": "a3dc7f06d0194922918f57fa623b2f35",
       "version_major": 2,
       "version_minor": 0
      },
      "text/plain": [
       "第 75/100 轮:   0%|          | 0/7 [00:00<?, ?it/s]"
      ]
     },
     "metadata": {},
     "output_type": "display_data"
    },
    {
     "data": {
      "application/vnd.jupyter.widget-view+json": {
       "model_id": "d710a07b32f44cf68e26101bb124b30c",
       "version_major": 2,
       "version_minor": 0
      },
      "text/plain": [
       "第 76/100 轮:   0%|          | 0/7 [00:00<?, ?it/s]"
      ]
     },
     "metadata": {},
     "output_type": "display_data"
    },
    {
     "data": {
      "application/vnd.jupyter.widget-view+json": {
       "model_id": "e9c644a25aee4687b6bc47974c5cd14d",
       "version_major": 2,
       "version_minor": 0
      },
      "text/plain": [
       "第 77/100 轮:   0%|          | 0/7 [00:00<?, ?it/s]"
      ]
     },
     "metadata": {},
     "output_type": "display_data"
    },
    {
     "data": {
      "application/vnd.jupyter.widget-view+json": {
       "model_id": "b8fd3520387849e281b82af8b7a0e9cb",
       "version_major": 2,
       "version_minor": 0
      },
      "text/plain": [
       "第 78/100 轮:   0%|          | 0/7 [00:00<?, ?it/s]"
      ]
     },
     "metadata": {},
     "output_type": "display_data"
    },
    {
     "data": {
      "application/vnd.jupyter.widget-view+json": {
       "model_id": "8db9d4e5299344eca28f08d65eb82ba3",
       "version_major": 2,
       "version_minor": 0
      },
      "text/plain": [
       "第 79/100 轮:   0%|          | 0/7 [00:00<?, ?it/s]"
      ]
     },
     "metadata": {},
     "output_type": "display_data"
    },
    {
     "data": {
      "application/vnd.jupyter.widget-view+json": {
       "model_id": "770136f40ad541b299bfec9c3f83fc9e",
       "version_major": 2,
       "version_minor": 0
      },
      "text/plain": [
       "第 80/100 轮:   0%|          | 0/7 [00:00<?, ?it/s]"
      ]
     },
     "metadata": {},
     "output_type": "display_data"
    },
    {
     "data": {
      "application/vnd.jupyter.widget-view+json": {
       "model_id": "3be06e4722bb4df1be8413585e3e3b94",
       "version_major": 2,
       "version_minor": 0
      },
      "text/plain": [
       "第 81/100 轮:   0%|          | 0/7 [00:00<?, ?it/s]"
      ]
     },
     "metadata": {},
     "output_type": "display_data"
    },
    {
     "data": {
      "application/vnd.jupyter.widget-view+json": {
       "model_id": "65004761a99149819813afc420c61194",
       "version_major": 2,
       "version_minor": 0
      },
      "text/plain": [
       "第 82/100 轮:   0%|          | 0/7 [00:00<?, ?it/s]"
      ]
     },
     "metadata": {},
     "output_type": "display_data"
    },
    {
     "data": {
      "application/vnd.jupyter.widget-view+json": {
       "model_id": "c81f99f819744eb5bf39312e4a7a6c4b",
       "version_major": 2,
       "version_minor": 0
      },
      "text/plain": [
       "第 83/100 轮:   0%|          | 0/7 [00:00<?, ?it/s]"
      ]
     },
     "metadata": {},
     "output_type": "display_data"
    },
    {
     "data": {
      "application/vnd.jupyter.widget-view+json": {
       "model_id": "c65183388f0543a1b44421e71ffe6842",
       "version_major": 2,
       "version_minor": 0
      },
      "text/plain": [
       "第 84/100 轮:   0%|          | 0/7 [00:00<?, ?it/s]"
      ]
     },
     "metadata": {},
     "output_type": "display_data"
    },
    {
     "data": {
      "application/vnd.jupyter.widget-view+json": {
       "model_id": "23582f98fc604b42aa047a20d638a575",
       "version_major": 2,
       "version_minor": 0
      },
      "text/plain": [
       "第 85/100 轮:   0%|          | 0/7 [00:00<?, ?it/s]"
      ]
     },
     "metadata": {},
     "output_type": "display_data"
    },
    {
     "data": {
      "application/vnd.jupyter.widget-view+json": {
       "model_id": "e04ca21c9667431794ddbf2df8705d00",
       "version_major": 2,
       "version_minor": 0
      },
      "text/plain": [
       "第 86/100 轮:   0%|          | 0/7 [00:00<?, ?it/s]"
      ]
     },
     "metadata": {},
     "output_type": "display_data"
    },
    {
     "data": {
      "application/vnd.jupyter.widget-view+json": {
       "model_id": "43b17762ddd1497eaff70492192264f5",
       "version_major": 2,
       "version_minor": 0
      },
      "text/plain": [
       "第 87/100 轮:   0%|          | 0/7 [00:00<?, ?it/s]"
      ]
     },
     "metadata": {},
     "output_type": "display_data"
    },
    {
     "data": {
      "application/vnd.jupyter.widget-view+json": {
       "model_id": "76ee0b62c01f41b0a46171e4858c6fd1",
       "version_major": 2,
       "version_minor": 0
      },
      "text/plain": [
       "第 88/100 轮:   0%|          | 0/7 [00:00<?, ?it/s]"
      ]
     },
     "metadata": {},
     "output_type": "display_data"
    },
    {
     "data": {
      "application/vnd.jupyter.widget-view+json": {
       "model_id": "fa9c6a2086644a698df8c607612d3eed",
       "version_major": 2,
       "version_minor": 0
      },
      "text/plain": [
       "第 89/100 轮:   0%|          | 0/7 [00:00<?, ?it/s]"
      ]
     },
     "metadata": {},
     "output_type": "display_data"
    },
    {
     "data": {
      "application/vnd.jupyter.widget-view+json": {
       "model_id": "244affa8de1e43f8be8c516aac816af7",
       "version_major": 2,
       "version_minor": 0
      },
      "text/plain": [
       "第 90/100 轮:   0%|          | 0/7 [00:00<?, ?it/s]"
      ]
     },
     "metadata": {},
     "output_type": "display_data"
    },
    {
     "data": {
      "application/vnd.jupyter.widget-view+json": {
       "model_id": "afd47bad0d7f4d469b62b152cc20cb46",
       "version_major": 2,
       "version_minor": 0
      },
      "text/plain": [
       "第 91/100 轮:   0%|          | 0/7 [00:00<?, ?it/s]"
      ]
     },
     "metadata": {},
     "output_type": "display_data"
    },
    {
     "data": {
      "application/vnd.jupyter.widget-view+json": {
       "model_id": "c480550800354953af9304ee25c2c2a6",
       "version_major": 2,
       "version_minor": 0
      },
      "text/plain": [
       "第 92/100 轮:   0%|          | 0/7 [00:00<?, ?it/s]"
      ]
     },
     "metadata": {},
     "output_type": "display_data"
    },
    {
     "data": {
      "application/vnd.jupyter.widget-view+json": {
       "model_id": "afa00f9d10124534ba248f164c2ee439",
       "version_major": 2,
       "version_minor": 0
      },
      "text/plain": [
       "第 93/100 轮:   0%|          | 0/7 [00:00<?, ?it/s]"
      ]
     },
     "metadata": {},
     "output_type": "display_data"
    },
    {
     "data": {
      "application/vnd.jupyter.widget-view+json": {
       "model_id": "3f56ac0a9c78430985314b7ce7198576",
       "version_major": 2,
       "version_minor": 0
      },
      "text/plain": [
       "第 94/100 轮:   0%|          | 0/7 [00:00<?, ?it/s]"
      ]
     },
     "metadata": {},
     "output_type": "display_data"
    },
    {
     "data": {
      "application/vnd.jupyter.widget-view+json": {
       "model_id": "9b6c15bb48424eddaae303c88fe51b72",
       "version_major": 2,
       "version_minor": 0
      },
      "text/plain": [
       "第 95/100 轮:   0%|          | 0/7 [00:00<?, ?it/s]"
      ]
     },
     "metadata": {},
     "output_type": "display_data"
    },
    {
     "data": {
      "application/vnd.jupyter.widget-view+json": {
       "model_id": "a9ea611457d84030b0a96f4ec6a322dc",
       "version_major": 2,
       "version_minor": 0
      },
      "text/plain": [
       "第 96/100 轮:   0%|          | 0/7 [00:00<?, ?it/s]"
      ]
     },
     "metadata": {},
     "output_type": "display_data"
    },
    {
     "data": {
      "application/vnd.jupyter.widget-view+json": {
       "model_id": "d1c231ff6a6e4b0b96f004f1aa8d9e63",
       "version_major": 2,
       "version_minor": 0
      },
      "text/plain": [
       "第 97/100 轮:   0%|          | 0/7 [00:00<?, ?it/s]"
      ]
     },
     "metadata": {},
     "output_type": "display_data"
    },
    {
     "data": {
      "application/vnd.jupyter.widget-view+json": {
       "model_id": "1781f170faf946b28834d889b1a7074f",
       "version_major": 2,
       "version_minor": 0
      },
      "text/plain": [
       "第 98/100 轮:   0%|          | 0/7 [00:00<?, ?it/s]"
      ]
     },
     "metadata": {},
     "output_type": "display_data"
    },
    {
     "data": {
      "application/vnd.jupyter.widget-view+json": {
       "model_id": "7b8db174b3db466cbb59ff8c6b06a066",
       "version_major": 2,
       "version_minor": 0
      },
      "text/plain": [
       "第 99/100 轮:   0%|          | 0/7 [00:00<?, ?it/s]"
      ]
     },
     "metadata": {},
     "output_type": "display_data"
    },
    {
     "data": {
      "application/vnd.jupyter.widget-view+json": {
       "model_id": "4cf20a9329a14028ae80720e2a7b9a42",
       "version_major": 2,
       "version_minor": 0
      },
      "text/plain": [
       "第 100/100 轮:   0%|          | 0/7 [00:00<?, ?it/s]"
      ]
     },
     "metadata": {},
     "output_type": "display_data"
    },
    {
     "name": "stdout",
     "output_type": "stream",
     "text": [
      "Fold 2 - Epoch 100: Best Correlation Coefficient: 0.8773\n"
     ]
    },
    {
     "data": {
      "application/vnd.jupyter.widget-view+json": {
       "model_id": "f661966507e9474299fb0455310fe451",
       "version_major": 2,
       "version_minor": 0
      },
      "text/plain": [
       "第 1/100 轮:   0%|          | 0/7 [00:00<?, ?it/s]"
      ]
     },
     "metadata": {},
     "output_type": "display_data"
    },
    {
     "data": {
      "application/vnd.jupyter.widget-view+json": {
       "model_id": "daec1a6086cd4cd3a7331ed4384a3c24",
       "version_major": 2,
       "version_minor": 0
      },
      "text/plain": [
       "第 2/100 轮:   0%|          | 0/7 [00:00<?, ?it/s]"
      ]
     },
     "metadata": {},
     "output_type": "display_data"
    },
    {
     "data": {
      "application/vnd.jupyter.widget-view+json": {
       "model_id": "f6db91fab9464751bc4c8da13a7b928b",
       "version_major": 2,
       "version_minor": 0
      },
      "text/plain": [
       "第 3/100 轮:   0%|          | 0/7 [00:00<?, ?it/s]"
      ]
     },
     "metadata": {},
     "output_type": "display_data"
    },
    {
     "data": {
      "application/vnd.jupyter.widget-view+json": {
       "model_id": "9fd73ca6c6cd473db69c10196adfa034",
       "version_major": 2,
       "version_minor": 0
      },
      "text/plain": [
       "第 4/100 轮:   0%|          | 0/7 [00:00<?, ?it/s]"
      ]
     },
     "metadata": {},
     "output_type": "display_data"
    },
    {
     "data": {
      "application/vnd.jupyter.widget-view+json": {
       "model_id": "abff257ada7f421282c9543b8d40c6b3",
       "version_major": 2,
       "version_minor": 0
      },
      "text/plain": [
       "第 5/100 轮:   0%|          | 0/7 [00:00<?, ?it/s]"
      ]
     },
     "metadata": {},
     "output_type": "display_data"
    },
    {
     "data": {
      "application/vnd.jupyter.widget-view+json": {
       "model_id": "666ccd7cf9d64eaa9274d7c1238fa766",
       "version_major": 2,
       "version_minor": 0
      },
      "text/plain": [
       "第 6/100 轮:   0%|          | 0/7 [00:00<?, ?it/s]"
      ]
     },
     "metadata": {},
     "output_type": "display_data"
    },
    {
     "data": {
      "application/vnd.jupyter.widget-view+json": {
       "model_id": "a420b0fdd8fc4c5bbb71e89c99303447",
       "version_major": 2,
       "version_minor": 0
      },
      "text/plain": [
       "第 7/100 轮:   0%|          | 0/7 [00:00<?, ?it/s]"
      ]
     },
     "metadata": {},
     "output_type": "display_data"
    },
    {
     "data": {
      "application/vnd.jupyter.widget-view+json": {
       "model_id": "4b30419f55bf4a17b140ef198205b8bf",
       "version_major": 2,
       "version_minor": 0
      },
      "text/plain": [
       "第 8/100 轮:   0%|          | 0/7 [00:00<?, ?it/s]"
      ]
     },
     "metadata": {},
     "output_type": "display_data"
    },
    {
     "data": {
      "application/vnd.jupyter.widget-view+json": {
       "model_id": "1c63b5d856e341c59e4ecb92175926ea",
       "version_major": 2,
       "version_minor": 0
      },
      "text/plain": [
       "第 9/100 轮:   0%|          | 0/7 [00:00<?, ?it/s]"
      ]
     },
     "metadata": {},
     "output_type": "display_data"
    },
    {
     "data": {
      "application/vnd.jupyter.widget-view+json": {
       "model_id": "f0cccdec7a7c488f8551b8890a87177a",
       "version_major": 2,
       "version_minor": 0
      },
      "text/plain": [
       "第 10/100 轮:   0%|          | 0/7 [00:00<?, ?it/s]"
      ]
     },
     "metadata": {},
     "output_type": "display_data"
    },
    {
     "data": {
      "application/vnd.jupyter.widget-view+json": {
       "model_id": "edd1ddb2012047c987b853b85e437e43",
       "version_major": 2,
       "version_minor": 0
      },
      "text/plain": [
       "第 11/100 轮:   0%|          | 0/7 [00:00<?, ?it/s]"
      ]
     },
     "metadata": {},
     "output_type": "display_data"
    },
    {
     "data": {
      "application/vnd.jupyter.widget-view+json": {
       "model_id": "177e32ef9a00462b876c8340b9e52042",
       "version_major": 2,
       "version_minor": 0
      },
      "text/plain": [
       "第 12/100 轮:   0%|          | 0/7 [00:00<?, ?it/s]"
      ]
     },
     "metadata": {},
     "output_type": "display_data"
    },
    {
     "data": {
      "application/vnd.jupyter.widget-view+json": {
       "model_id": "638cf94fe28742a1888dd5e992423360",
       "version_major": 2,
       "version_minor": 0
      },
      "text/plain": [
       "第 13/100 轮:   0%|          | 0/7 [00:00<?, ?it/s]"
      ]
     },
     "metadata": {},
     "output_type": "display_data"
    },
    {
     "data": {
      "application/vnd.jupyter.widget-view+json": {
       "model_id": "00348a99f050460287392e19c86c20da",
       "version_major": 2,
       "version_minor": 0
      },
      "text/plain": [
       "第 14/100 轮:   0%|          | 0/7 [00:00<?, ?it/s]"
      ]
     },
     "metadata": {},
     "output_type": "display_data"
    },
    {
     "data": {
      "application/vnd.jupyter.widget-view+json": {
       "model_id": "ecee0f75dd1a4c97a8955c39407b20db",
       "version_major": 2,
       "version_minor": 0
      },
      "text/plain": [
       "第 15/100 轮:   0%|          | 0/7 [00:00<?, ?it/s]"
      ]
     },
     "metadata": {},
     "output_type": "display_data"
    },
    {
     "data": {
      "application/vnd.jupyter.widget-view+json": {
       "model_id": "8a5b209a876d4106a38f7dea1f005ac6",
       "version_major": 2,
       "version_minor": 0
      },
      "text/plain": [
       "第 16/100 轮:   0%|          | 0/7 [00:00<?, ?it/s]"
      ]
     },
     "metadata": {},
     "output_type": "display_data"
    },
    {
     "data": {
      "application/vnd.jupyter.widget-view+json": {
       "model_id": "4ad74fc2746c441b830ca54e0e9730c7",
       "version_major": 2,
       "version_minor": 0
      },
      "text/plain": [
       "第 17/100 轮:   0%|          | 0/7 [00:00<?, ?it/s]"
      ]
     },
     "metadata": {},
     "output_type": "display_data"
    },
    {
     "data": {
      "application/vnd.jupyter.widget-view+json": {
       "model_id": "fe4efbee51d44e4ab16d93a26c26189b",
       "version_major": 2,
       "version_minor": 0
      },
      "text/plain": [
       "第 18/100 轮:   0%|          | 0/7 [00:00<?, ?it/s]"
      ]
     },
     "metadata": {},
     "output_type": "display_data"
    },
    {
     "data": {
      "application/vnd.jupyter.widget-view+json": {
       "model_id": "5f948d5588174cac96871864a327d350",
       "version_major": 2,
       "version_minor": 0
      },
      "text/plain": [
       "第 19/100 轮:   0%|          | 0/7 [00:00<?, ?it/s]"
      ]
     },
     "metadata": {},
     "output_type": "display_data"
    },
    {
     "data": {
      "application/vnd.jupyter.widget-view+json": {
       "model_id": "0efa2536d98b4dd0bd9334f1fda05c18",
       "version_major": 2,
       "version_minor": 0
      },
      "text/plain": [
       "第 20/100 轮:   0%|          | 0/7 [00:00<?, ?it/s]"
      ]
     },
     "metadata": {},
     "output_type": "display_data"
    },
    {
     "data": {
      "application/vnd.jupyter.widget-view+json": {
       "model_id": "b608dd5d27e04c119c5e815205847994",
       "version_major": 2,
       "version_minor": 0
      },
      "text/plain": [
       "第 21/100 轮:   0%|          | 0/7 [00:00<?, ?it/s]"
      ]
     },
     "metadata": {},
     "output_type": "display_data"
    },
    {
     "data": {
      "application/vnd.jupyter.widget-view+json": {
       "model_id": "e47f96c67d0a40e2b22b4a264155e320",
       "version_major": 2,
       "version_minor": 0
      },
      "text/plain": [
       "第 22/100 轮:   0%|          | 0/7 [00:00<?, ?it/s]"
      ]
     },
     "metadata": {},
     "output_type": "display_data"
    },
    {
     "data": {
      "application/vnd.jupyter.widget-view+json": {
       "model_id": "3db2cfb15d884ff0b65c8bf0152b1277",
       "version_major": 2,
       "version_minor": 0
      },
      "text/plain": [
       "第 23/100 轮:   0%|          | 0/7 [00:00<?, ?it/s]"
      ]
     },
     "metadata": {},
     "output_type": "display_data"
    },
    {
     "data": {
      "application/vnd.jupyter.widget-view+json": {
       "model_id": "cab2afbce8024ebf8064c7ab52cd0ea9",
       "version_major": 2,
       "version_minor": 0
      },
      "text/plain": [
       "第 24/100 轮:   0%|          | 0/7 [00:00<?, ?it/s]"
      ]
     },
     "metadata": {},
     "output_type": "display_data"
    },
    {
     "data": {
      "application/vnd.jupyter.widget-view+json": {
       "model_id": "1223f27c41a64e129ca532b528593ea2",
       "version_major": 2,
       "version_minor": 0
      },
      "text/plain": [
       "第 25/100 轮:   0%|          | 0/7 [00:00<?, ?it/s]"
      ]
     },
     "metadata": {},
     "output_type": "display_data"
    },
    {
     "data": {
      "application/vnd.jupyter.widget-view+json": {
       "model_id": "0da4324305394ff6b0f350a844eda68f",
       "version_major": 2,
       "version_minor": 0
      },
      "text/plain": [
       "第 26/100 轮:   0%|          | 0/7 [00:00<?, ?it/s]"
      ]
     },
     "metadata": {},
     "output_type": "display_data"
    },
    {
     "data": {
      "application/vnd.jupyter.widget-view+json": {
       "model_id": "e0760583acfc45e58e3e62179a639733",
       "version_major": 2,
       "version_minor": 0
      },
      "text/plain": [
       "第 27/100 轮:   0%|          | 0/7 [00:00<?, ?it/s]"
      ]
     },
     "metadata": {},
     "output_type": "display_data"
    },
    {
     "data": {
      "application/vnd.jupyter.widget-view+json": {
       "model_id": "fe68d37026c1425e8c88eccdb14b63c9",
       "version_major": 2,
       "version_minor": 0
      },
      "text/plain": [
       "第 28/100 轮:   0%|          | 0/7 [00:00<?, ?it/s]"
      ]
     },
     "metadata": {},
     "output_type": "display_data"
    },
    {
     "data": {
      "application/vnd.jupyter.widget-view+json": {
       "model_id": "32c6fea8f59c476f9ef561a94c60ec83",
       "version_major": 2,
       "version_minor": 0
      },
      "text/plain": [
       "第 29/100 轮:   0%|          | 0/7 [00:00<?, ?it/s]"
      ]
     },
     "metadata": {},
     "output_type": "display_data"
    },
    {
     "data": {
      "application/vnd.jupyter.widget-view+json": {
       "model_id": "e43fa2e2cb8048f88aa99a4f27cc1a5c",
       "version_major": 2,
       "version_minor": 0
      },
      "text/plain": [
       "第 30/100 轮:   0%|          | 0/7 [00:00<?, ?it/s]"
      ]
     },
     "metadata": {},
     "output_type": "display_data"
    },
    {
     "data": {
      "application/vnd.jupyter.widget-view+json": {
       "model_id": "b4220f1286844604955f3e718f9c3a7d",
       "version_major": 2,
       "version_minor": 0
      },
      "text/plain": [
       "第 31/100 轮:   0%|          | 0/7 [00:00<?, ?it/s]"
      ]
     },
     "metadata": {},
     "output_type": "display_data"
    },
    {
     "data": {
      "application/vnd.jupyter.widget-view+json": {
       "model_id": "377410015f1d40fd8add1e883886e074",
       "version_major": 2,
       "version_minor": 0
      },
      "text/plain": [
       "第 32/100 轮:   0%|          | 0/7 [00:00<?, ?it/s]"
      ]
     },
     "metadata": {},
     "output_type": "display_data"
    },
    {
     "data": {
      "application/vnd.jupyter.widget-view+json": {
       "model_id": "6db40964041d4e969245cd1da96b1fae",
       "version_major": 2,
       "version_minor": 0
      },
      "text/plain": [
       "第 33/100 轮:   0%|          | 0/7 [00:00<?, ?it/s]"
      ]
     },
     "metadata": {},
     "output_type": "display_data"
    },
    {
     "data": {
      "application/vnd.jupyter.widget-view+json": {
       "model_id": "92004fc4b6194801b087159bb7420a06",
       "version_major": 2,
       "version_minor": 0
      },
      "text/plain": [
       "第 34/100 轮:   0%|          | 0/7 [00:00<?, ?it/s]"
      ]
     },
     "metadata": {},
     "output_type": "display_data"
    },
    {
     "data": {
      "application/vnd.jupyter.widget-view+json": {
       "model_id": "32ccb784e2304b01858250160410e217",
       "version_major": 2,
       "version_minor": 0
      },
      "text/plain": [
       "第 35/100 轮:   0%|          | 0/7 [00:00<?, ?it/s]"
      ]
     },
     "metadata": {},
     "output_type": "display_data"
    },
    {
     "data": {
      "application/vnd.jupyter.widget-view+json": {
       "model_id": "661b7474937b40169877d1e4f00d7cbd",
       "version_major": 2,
       "version_minor": 0
      },
      "text/plain": [
       "第 36/100 轮:   0%|          | 0/7 [00:00<?, ?it/s]"
      ]
     },
     "metadata": {},
     "output_type": "display_data"
    },
    {
     "data": {
      "application/vnd.jupyter.widget-view+json": {
       "model_id": "41e703c20e2548e381a819c30b3ff006",
       "version_major": 2,
       "version_minor": 0
      },
      "text/plain": [
       "第 37/100 轮:   0%|          | 0/7 [00:00<?, ?it/s]"
      ]
     },
     "metadata": {},
     "output_type": "display_data"
    },
    {
     "data": {
      "application/vnd.jupyter.widget-view+json": {
       "model_id": "5e88e937c3e14b91ab6276c76333867c",
       "version_major": 2,
       "version_minor": 0
      },
      "text/plain": [
       "第 38/100 轮:   0%|          | 0/7 [00:00<?, ?it/s]"
      ]
     },
     "metadata": {},
     "output_type": "display_data"
    },
    {
     "data": {
      "application/vnd.jupyter.widget-view+json": {
       "model_id": "29475f2dc3dc41c299333aab33c1251e",
       "version_major": 2,
       "version_minor": 0
      },
      "text/plain": [
       "第 39/100 轮:   0%|          | 0/7 [00:00<?, ?it/s]"
      ]
     },
     "metadata": {},
     "output_type": "display_data"
    },
    {
     "data": {
      "application/vnd.jupyter.widget-view+json": {
       "model_id": "659ed7d2bd244060b17c3bd03d0d84d7",
       "version_major": 2,
       "version_minor": 0
      },
      "text/plain": [
       "第 40/100 轮:   0%|          | 0/7 [00:00<?, ?it/s]"
      ]
     },
     "metadata": {},
     "output_type": "display_data"
    },
    {
     "data": {
      "application/vnd.jupyter.widget-view+json": {
       "model_id": "8ca8ff2d4ab3488da033c4a080639425",
       "version_major": 2,
       "version_minor": 0
      },
      "text/plain": [
       "第 41/100 轮:   0%|          | 0/7 [00:00<?, ?it/s]"
      ]
     },
     "metadata": {},
     "output_type": "display_data"
    },
    {
     "data": {
      "application/vnd.jupyter.widget-view+json": {
       "model_id": "52ea0e1747f3457191c63006ef4f0783",
       "version_major": 2,
       "version_minor": 0
      },
      "text/plain": [
       "第 42/100 轮:   0%|          | 0/7 [00:00<?, ?it/s]"
      ]
     },
     "metadata": {},
     "output_type": "display_data"
    },
    {
     "data": {
      "application/vnd.jupyter.widget-view+json": {
       "model_id": "be2a677a7b684f62b6e98d74facd4531",
       "version_major": 2,
       "version_minor": 0
      },
      "text/plain": [
       "第 43/100 轮:   0%|          | 0/7 [00:00<?, ?it/s]"
      ]
     },
     "metadata": {},
     "output_type": "display_data"
    },
    {
     "data": {
      "application/vnd.jupyter.widget-view+json": {
       "model_id": "72bb2fdc3b004544b3e008aca371d951",
       "version_major": 2,
       "version_minor": 0
      },
      "text/plain": [
       "第 44/100 轮:   0%|          | 0/7 [00:00<?, ?it/s]"
      ]
     },
     "metadata": {},
     "output_type": "display_data"
    },
    {
     "data": {
      "application/vnd.jupyter.widget-view+json": {
       "model_id": "592d16549eb74034b8846ef18d5f353d",
       "version_major": 2,
       "version_minor": 0
      },
      "text/plain": [
       "第 45/100 轮:   0%|          | 0/7 [00:00<?, ?it/s]"
      ]
     },
     "metadata": {},
     "output_type": "display_data"
    },
    {
     "data": {
      "application/vnd.jupyter.widget-view+json": {
       "model_id": "141f09d9af8041d892603a7d57f5add2",
       "version_major": 2,
       "version_minor": 0
      },
      "text/plain": [
       "第 46/100 轮:   0%|          | 0/7 [00:00<?, ?it/s]"
      ]
     },
     "metadata": {},
     "output_type": "display_data"
    },
    {
     "data": {
      "application/vnd.jupyter.widget-view+json": {
       "model_id": "2e29d12d33634feab55300bee0810cad",
       "version_major": 2,
       "version_minor": 0
      },
      "text/plain": [
       "第 47/100 轮:   0%|          | 0/7 [00:00<?, ?it/s]"
      ]
     },
     "metadata": {},
     "output_type": "display_data"
    },
    {
     "data": {
      "application/vnd.jupyter.widget-view+json": {
       "model_id": "a31d0b82e530496cb224c7756af3702f",
       "version_major": 2,
       "version_minor": 0
      },
      "text/plain": [
       "第 48/100 轮:   0%|          | 0/7 [00:00<?, ?it/s]"
      ]
     },
     "metadata": {},
     "output_type": "display_data"
    },
    {
     "data": {
      "application/vnd.jupyter.widget-view+json": {
       "model_id": "0b7c72bbeafa4615aef1ec4451ec5344",
       "version_major": 2,
       "version_minor": 0
      },
      "text/plain": [
       "第 49/100 轮:   0%|          | 0/7 [00:00<?, ?it/s]"
      ]
     },
     "metadata": {},
     "output_type": "display_data"
    },
    {
     "data": {
      "application/vnd.jupyter.widget-view+json": {
       "model_id": "1713ae475b7348059ebade8468810034",
       "version_major": 2,
       "version_minor": 0
      },
      "text/plain": [
       "第 50/100 轮:   0%|          | 0/7 [00:00<?, ?it/s]"
      ]
     },
     "metadata": {},
     "output_type": "display_data"
    },
    {
     "data": {
      "application/vnd.jupyter.widget-view+json": {
       "model_id": "646c451dbf6f4a58b16c4613bc01243b",
       "version_major": 2,
       "version_minor": 0
      },
      "text/plain": [
       "第 51/100 轮:   0%|          | 0/7 [00:00<?, ?it/s]"
      ]
     },
     "metadata": {},
     "output_type": "display_data"
    },
    {
     "data": {
      "application/vnd.jupyter.widget-view+json": {
       "model_id": "27aa2b4b67c44d88b341c7d376776089",
       "version_major": 2,
       "version_minor": 0
      },
      "text/plain": [
       "第 52/100 轮:   0%|          | 0/7 [00:00<?, ?it/s]"
      ]
     },
     "metadata": {},
     "output_type": "display_data"
    },
    {
     "data": {
      "application/vnd.jupyter.widget-view+json": {
       "model_id": "15d8bb65bae34f2e9d13228ff4252a65",
       "version_major": 2,
       "version_minor": 0
      },
      "text/plain": [
       "第 53/100 轮:   0%|          | 0/7 [00:00<?, ?it/s]"
      ]
     },
     "metadata": {},
     "output_type": "display_data"
    },
    {
     "data": {
      "application/vnd.jupyter.widget-view+json": {
       "model_id": "bf86c7aefd604c6c9a4ff79efc1b420b",
       "version_major": 2,
       "version_minor": 0
      },
      "text/plain": [
       "第 54/100 轮:   0%|          | 0/7 [00:00<?, ?it/s]"
      ]
     },
     "metadata": {},
     "output_type": "display_data"
    },
    {
     "data": {
      "application/vnd.jupyter.widget-view+json": {
       "model_id": "32ff482211954daab714978c962f1981",
       "version_major": 2,
       "version_minor": 0
      },
      "text/plain": [
       "第 55/100 轮:   0%|          | 0/7 [00:00<?, ?it/s]"
      ]
     },
     "metadata": {},
     "output_type": "display_data"
    },
    {
     "data": {
      "application/vnd.jupyter.widget-view+json": {
       "model_id": "58c5701f1f33436abce2708f68ca8e88",
       "version_major": 2,
       "version_minor": 0
      },
      "text/plain": [
       "第 56/100 轮:   0%|          | 0/7 [00:00<?, ?it/s]"
      ]
     },
     "metadata": {},
     "output_type": "display_data"
    },
    {
     "data": {
      "application/vnd.jupyter.widget-view+json": {
       "model_id": "d8681acf4aa349c1a3fe0d75ba3d04eb",
       "version_major": 2,
       "version_minor": 0
      },
      "text/plain": [
       "第 57/100 轮:   0%|          | 0/7 [00:00<?, ?it/s]"
      ]
     },
     "metadata": {},
     "output_type": "display_data"
    },
    {
     "data": {
      "application/vnd.jupyter.widget-view+json": {
       "model_id": "c48f9f88024745c5b2d8033a13736c12",
       "version_major": 2,
       "version_minor": 0
      },
      "text/plain": [
       "第 58/100 轮:   0%|          | 0/7 [00:00<?, ?it/s]"
      ]
     },
     "metadata": {},
     "output_type": "display_data"
    },
    {
     "data": {
      "application/vnd.jupyter.widget-view+json": {
       "model_id": "7ae3a35f726d4a30a68391f0986e0681",
       "version_major": 2,
       "version_minor": 0
      },
      "text/plain": [
       "第 59/100 轮:   0%|          | 0/7 [00:00<?, ?it/s]"
      ]
     },
     "metadata": {},
     "output_type": "display_data"
    },
    {
     "data": {
      "application/vnd.jupyter.widget-view+json": {
       "model_id": "e84776d21f384101b418a2d995882926",
       "version_major": 2,
       "version_minor": 0
      },
      "text/plain": [
       "第 60/100 轮:   0%|          | 0/7 [00:00<?, ?it/s]"
      ]
     },
     "metadata": {},
     "output_type": "display_data"
    },
    {
     "data": {
      "application/vnd.jupyter.widget-view+json": {
       "model_id": "5206120f39014ba4bef4df461ad9a61b",
       "version_major": 2,
       "version_minor": 0
      },
      "text/plain": [
       "第 61/100 轮:   0%|          | 0/7 [00:00<?, ?it/s]"
      ]
     },
     "metadata": {},
     "output_type": "display_data"
    },
    {
     "data": {
      "application/vnd.jupyter.widget-view+json": {
       "model_id": "443ef40139cd4e6f8d0e05ef2a611427",
       "version_major": 2,
       "version_minor": 0
      },
      "text/plain": [
       "第 62/100 轮:   0%|          | 0/7 [00:00<?, ?it/s]"
      ]
     },
     "metadata": {},
     "output_type": "display_data"
    },
    {
     "data": {
      "application/vnd.jupyter.widget-view+json": {
       "model_id": "a092c1d5babb4905bd69f17dfb15826a",
       "version_major": 2,
       "version_minor": 0
      },
      "text/plain": [
       "第 63/100 轮:   0%|          | 0/7 [00:00<?, ?it/s]"
      ]
     },
     "metadata": {},
     "output_type": "display_data"
    },
    {
     "data": {
      "application/vnd.jupyter.widget-view+json": {
       "model_id": "5fb9b54a6717464993ead4e5a1c0842c",
       "version_major": 2,
       "version_minor": 0
      },
      "text/plain": [
       "第 64/100 轮:   0%|          | 0/7 [00:00<?, ?it/s]"
      ]
     },
     "metadata": {},
     "output_type": "display_data"
    },
    {
     "data": {
      "application/vnd.jupyter.widget-view+json": {
       "model_id": "53b58e28383b4678810fab9a76e419cc",
       "version_major": 2,
       "version_minor": 0
      },
      "text/plain": [
       "第 65/100 轮:   0%|          | 0/7 [00:00<?, ?it/s]"
      ]
     },
     "metadata": {},
     "output_type": "display_data"
    },
    {
     "data": {
      "application/vnd.jupyter.widget-view+json": {
       "model_id": "6436d59483824e34be4a3b3ffe6ada69",
       "version_major": 2,
       "version_minor": 0
      },
      "text/plain": [
       "第 66/100 轮:   0%|          | 0/7 [00:00<?, ?it/s]"
      ]
     },
     "metadata": {},
     "output_type": "display_data"
    },
    {
     "data": {
      "application/vnd.jupyter.widget-view+json": {
       "model_id": "f2aea3ceaa45449c94ef44047e46049b",
       "version_major": 2,
       "version_minor": 0
      },
      "text/plain": [
       "第 67/100 轮:   0%|          | 0/7 [00:00<?, ?it/s]"
      ]
     },
     "metadata": {},
     "output_type": "display_data"
    },
    {
     "data": {
      "application/vnd.jupyter.widget-view+json": {
       "model_id": "05c86ccba4824b9e863d273da813f8e5",
       "version_major": 2,
       "version_minor": 0
      },
      "text/plain": [
       "第 68/100 轮:   0%|          | 0/7 [00:00<?, ?it/s]"
      ]
     },
     "metadata": {},
     "output_type": "display_data"
    },
    {
     "data": {
      "application/vnd.jupyter.widget-view+json": {
       "model_id": "7f5d06b50554486e88a604d2bbc3c7d9",
       "version_major": 2,
       "version_minor": 0
      },
      "text/plain": [
       "第 69/100 轮:   0%|          | 0/7 [00:00<?, ?it/s]"
      ]
     },
     "metadata": {},
     "output_type": "display_data"
    },
    {
     "data": {
      "application/vnd.jupyter.widget-view+json": {
       "model_id": "7563133627ea4d3f8de54e98c0afd3d0",
       "version_major": 2,
       "version_minor": 0
      },
      "text/plain": [
       "第 70/100 轮:   0%|          | 0/7 [00:00<?, ?it/s]"
      ]
     },
     "metadata": {},
     "output_type": "display_data"
    },
    {
     "data": {
      "application/vnd.jupyter.widget-view+json": {
       "model_id": "f8e6820450fe48c3937163b399c79971",
       "version_major": 2,
       "version_minor": 0
      },
      "text/plain": [
       "第 71/100 轮:   0%|          | 0/7 [00:00<?, ?it/s]"
      ]
     },
     "metadata": {},
     "output_type": "display_data"
    },
    {
     "data": {
      "application/vnd.jupyter.widget-view+json": {
       "model_id": "04bcf62c663f449fb34377fca339846d",
       "version_major": 2,
       "version_minor": 0
      },
      "text/plain": [
       "第 72/100 轮:   0%|          | 0/7 [00:00<?, ?it/s]"
      ]
     },
     "metadata": {},
     "output_type": "display_data"
    },
    {
     "data": {
      "application/vnd.jupyter.widget-view+json": {
       "model_id": "e957a7eb70514b51a88c432da61121f7",
       "version_major": 2,
       "version_minor": 0
      },
      "text/plain": [
       "第 73/100 轮:   0%|          | 0/7 [00:00<?, ?it/s]"
      ]
     },
     "metadata": {},
     "output_type": "display_data"
    },
    {
     "data": {
      "application/vnd.jupyter.widget-view+json": {
       "model_id": "2dbb0f4275134febb9677f87fd240cee",
       "version_major": 2,
       "version_minor": 0
      },
      "text/plain": [
       "第 74/100 轮:   0%|          | 0/7 [00:00<?, ?it/s]"
      ]
     },
     "metadata": {},
     "output_type": "display_data"
    },
    {
     "data": {
      "application/vnd.jupyter.widget-view+json": {
       "model_id": "82a9d1cebe9b48a3a144c3398c08733d",
       "version_major": 2,
       "version_minor": 0
      },
      "text/plain": [
       "第 75/100 轮:   0%|          | 0/7 [00:00<?, ?it/s]"
      ]
     },
     "metadata": {},
     "output_type": "display_data"
    },
    {
     "data": {
      "application/vnd.jupyter.widget-view+json": {
       "model_id": "6627b17ca4ae49ada89a489862addf8c",
       "version_major": 2,
       "version_minor": 0
      },
      "text/plain": [
       "第 76/100 轮:   0%|          | 0/7 [00:00<?, ?it/s]"
      ]
     },
     "metadata": {},
     "output_type": "display_data"
    },
    {
     "data": {
      "application/vnd.jupyter.widget-view+json": {
       "model_id": "dc5454e43072443393b30746aac5e59a",
       "version_major": 2,
       "version_minor": 0
      },
      "text/plain": [
       "第 77/100 轮:   0%|          | 0/7 [00:00<?, ?it/s]"
      ]
     },
     "metadata": {},
     "output_type": "display_data"
    },
    {
     "data": {
      "application/vnd.jupyter.widget-view+json": {
       "model_id": "9261dfc42d1d418a87d27628b56bb741",
       "version_major": 2,
       "version_minor": 0
      },
      "text/plain": [
       "第 78/100 轮:   0%|          | 0/7 [00:00<?, ?it/s]"
      ]
     },
     "metadata": {},
     "output_type": "display_data"
    },
    {
     "data": {
      "application/vnd.jupyter.widget-view+json": {
       "model_id": "3738172f53ce4bc29b32a7e96f4313b6",
       "version_major": 2,
       "version_minor": 0
      },
      "text/plain": [
       "第 79/100 轮:   0%|          | 0/7 [00:00<?, ?it/s]"
      ]
     },
     "metadata": {},
     "output_type": "display_data"
    },
    {
     "data": {
      "application/vnd.jupyter.widget-view+json": {
       "model_id": "13f909c6821445878a5783107b69fcaf",
       "version_major": 2,
       "version_minor": 0
      },
      "text/plain": [
       "第 80/100 轮:   0%|          | 0/7 [00:00<?, ?it/s]"
      ]
     },
     "metadata": {},
     "output_type": "display_data"
    },
    {
     "data": {
      "application/vnd.jupyter.widget-view+json": {
       "model_id": "16dabdba1a9941dfbd80dcece1e4876b",
       "version_major": 2,
       "version_minor": 0
      },
      "text/plain": [
       "第 81/100 轮:   0%|          | 0/7 [00:00<?, ?it/s]"
      ]
     },
     "metadata": {},
     "output_type": "display_data"
    },
    {
     "data": {
      "application/vnd.jupyter.widget-view+json": {
       "model_id": "2002bbfc333f453fbd4f4fee5b35b865",
       "version_major": 2,
       "version_minor": 0
      },
      "text/plain": [
       "第 82/100 轮:   0%|          | 0/7 [00:00<?, ?it/s]"
      ]
     },
     "metadata": {},
     "output_type": "display_data"
    },
    {
     "data": {
      "application/vnd.jupyter.widget-view+json": {
       "model_id": "3bbc9ed8957c4ac78f544965594d73ba",
       "version_major": 2,
       "version_minor": 0
      },
      "text/plain": [
       "第 83/100 轮:   0%|          | 0/7 [00:00<?, ?it/s]"
      ]
     },
     "metadata": {},
     "output_type": "display_data"
    },
    {
     "data": {
      "application/vnd.jupyter.widget-view+json": {
       "model_id": "debb0aa167d8400183a7acb227919d13",
       "version_major": 2,
       "version_minor": 0
      },
      "text/plain": [
       "第 84/100 轮:   0%|          | 0/7 [00:00<?, ?it/s]"
      ]
     },
     "metadata": {},
     "output_type": "display_data"
    },
    {
     "data": {
      "application/vnd.jupyter.widget-view+json": {
       "model_id": "0677c49bb3734cb5a7fa46663eb47807",
       "version_major": 2,
       "version_minor": 0
      },
      "text/plain": [
       "第 85/100 轮:   0%|          | 0/7 [00:00<?, ?it/s]"
      ]
     },
     "metadata": {},
     "output_type": "display_data"
    },
    {
     "data": {
      "application/vnd.jupyter.widget-view+json": {
       "model_id": "e4b1ae7fc61442ee811b1f1376f38e7a",
       "version_major": 2,
       "version_minor": 0
      },
      "text/plain": [
       "第 86/100 轮:   0%|          | 0/7 [00:00<?, ?it/s]"
      ]
     },
     "metadata": {},
     "output_type": "display_data"
    },
    {
     "data": {
      "application/vnd.jupyter.widget-view+json": {
       "model_id": "9683c3a7b836496e90a63ef6c55103b4",
       "version_major": 2,
       "version_minor": 0
      },
      "text/plain": [
       "第 87/100 轮:   0%|          | 0/7 [00:00<?, ?it/s]"
      ]
     },
     "metadata": {},
     "output_type": "display_data"
    },
    {
     "data": {
      "application/vnd.jupyter.widget-view+json": {
       "model_id": "8714d5324d734e46a0d36d4d17c895b1",
       "version_major": 2,
       "version_minor": 0
      },
      "text/plain": [
       "第 88/100 轮:   0%|          | 0/7 [00:00<?, ?it/s]"
      ]
     },
     "metadata": {},
     "output_type": "display_data"
    },
    {
     "data": {
      "application/vnd.jupyter.widget-view+json": {
       "model_id": "4372048a1bea4563a173a11199de38c8",
       "version_major": 2,
       "version_minor": 0
      },
      "text/plain": [
       "第 89/100 轮:   0%|          | 0/7 [00:00<?, ?it/s]"
      ]
     },
     "metadata": {},
     "output_type": "display_data"
    },
    {
     "data": {
      "application/vnd.jupyter.widget-view+json": {
       "model_id": "a21afb6d8f9f40cdada40c75cc8728c1",
       "version_major": 2,
       "version_minor": 0
      },
      "text/plain": [
       "第 90/100 轮:   0%|          | 0/7 [00:00<?, ?it/s]"
      ]
     },
     "metadata": {},
     "output_type": "display_data"
    },
    {
     "data": {
      "application/vnd.jupyter.widget-view+json": {
       "model_id": "c874ae5263614ebab9f8fc2cfc1462f3",
       "version_major": 2,
       "version_minor": 0
      },
      "text/plain": [
       "第 91/100 轮:   0%|          | 0/7 [00:00<?, ?it/s]"
      ]
     },
     "metadata": {},
     "output_type": "display_data"
    },
    {
     "data": {
      "application/vnd.jupyter.widget-view+json": {
       "model_id": "a6d30ccb5d364d4cb41c7aa8fb0dbb6d",
       "version_major": 2,
       "version_minor": 0
      },
      "text/plain": [
       "第 92/100 轮:   0%|          | 0/7 [00:00<?, ?it/s]"
      ]
     },
     "metadata": {},
     "output_type": "display_data"
    },
    {
     "data": {
      "application/vnd.jupyter.widget-view+json": {
       "model_id": "1500be7d23ea4eb085a6c9b5e911747c",
       "version_major": 2,
       "version_minor": 0
      },
      "text/plain": [
       "第 93/100 轮:   0%|          | 0/7 [00:00<?, ?it/s]"
      ]
     },
     "metadata": {},
     "output_type": "display_data"
    },
    {
     "data": {
      "application/vnd.jupyter.widget-view+json": {
       "model_id": "c6a8091fa7604d34b72051bcbd3b2821",
       "version_major": 2,
       "version_minor": 0
      },
      "text/plain": [
       "第 94/100 轮:   0%|          | 0/7 [00:00<?, ?it/s]"
      ]
     },
     "metadata": {},
     "output_type": "display_data"
    },
    {
     "data": {
      "application/vnd.jupyter.widget-view+json": {
       "model_id": "8cef14098b8c423f90f1b3955ca0a044",
       "version_major": 2,
       "version_minor": 0
      },
      "text/plain": [
       "第 95/100 轮:   0%|          | 0/7 [00:00<?, ?it/s]"
      ]
     },
     "metadata": {},
     "output_type": "display_data"
    },
    {
     "data": {
      "application/vnd.jupyter.widget-view+json": {
       "model_id": "9544fbc7d2324830bad015ad94b1f776",
       "version_major": 2,
       "version_minor": 0
      },
      "text/plain": [
       "第 96/100 轮:   0%|          | 0/7 [00:00<?, ?it/s]"
      ]
     },
     "metadata": {},
     "output_type": "display_data"
    },
    {
     "data": {
      "application/vnd.jupyter.widget-view+json": {
       "model_id": "732d3b63f5b54b309b22515a81f87399",
       "version_major": 2,
       "version_minor": 0
      },
      "text/plain": [
       "第 97/100 轮:   0%|          | 0/7 [00:00<?, ?it/s]"
      ]
     },
     "metadata": {},
     "output_type": "display_data"
    },
    {
     "data": {
      "application/vnd.jupyter.widget-view+json": {
       "model_id": "38dac93bfb52444f9459c134deaae275",
       "version_major": 2,
       "version_minor": 0
      },
      "text/plain": [
       "第 98/100 轮:   0%|          | 0/7 [00:00<?, ?it/s]"
      ]
     },
     "metadata": {},
     "output_type": "display_data"
    },
    {
     "data": {
      "application/vnd.jupyter.widget-view+json": {
       "model_id": "4531459d25b842acbd6cef55047d7ff2",
       "version_major": 2,
       "version_minor": 0
      },
      "text/plain": [
       "第 99/100 轮:   0%|          | 0/7 [00:00<?, ?it/s]"
      ]
     },
     "metadata": {},
     "output_type": "display_data"
    },
    {
     "data": {
      "application/vnd.jupyter.widget-view+json": {
       "model_id": "10e405809844469b8fb7f41073c952f0",
       "version_major": 2,
       "version_minor": 0
      },
      "text/plain": [
       "第 100/100 轮:   0%|          | 0/7 [00:00<?, ?it/s]"
      ]
     },
     "metadata": {},
     "output_type": "display_data"
    },
    {
     "name": "stdout",
     "output_type": "stream",
     "text": [
      "Fold 3 - Epoch 100: Best Correlation Coefficient: 0.8373\n"
     ]
    },
    {
     "data": {
      "application/vnd.jupyter.widget-view+json": {
       "model_id": "5c5d7426014446869dcfa086a13cdc39",
       "version_major": 2,
       "version_minor": 0
      },
      "text/plain": [
       "第 1/100 轮:   0%|          | 0/7 [00:00<?, ?it/s]"
      ]
     },
     "metadata": {},
     "output_type": "display_data"
    },
    {
     "data": {
      "application/vnd.jupyter.widget-view+json": {
       "model_id": "30e1535d0c5a4986aad9d8965369c191",
       "version_major": 2,
       "version_minor": 0
      },
      "text/plain": [
       "第 2/100 轮:   0%|          | 0/7 [00:00<?, ?it/s]"
      ]
     },
     "metadata": {},
     "output_type": "display_data"
    },
    {
     "data": {
      "application/vnd.jupyter.widget-view+json": {
       "model_id": "95f084465422475687158af5423586f8",
       "version_major": 2,
       "version_minor": 0
      },
      "text/plain": [
       "第 3/100 轮:   0%|          | 0/7 [00:00<?, ?it/s]"
      ]
     },
     "metadata": {},
     "output_type": "display_data"
    },
    {
     "data": {
      "application/vnd.jupyter.widget-view+json": {
       "model_id": "1b931a527c1c4bea974fdd77c7dcc819",
       "version_major": 2,
       "version_minor": 0
      },
      "text/plain": [
       "第 4/100 轮:   0%|          | 0/7 [00:00<?, ?it/s]"
      ]
     },
     "metadata": {},
     "output_type": "display_data"
    },
    {
     "data": {
      "application/vnd.jupyter.widget-view+json": {
       "model_id": "7ba2003a0b2a4c73ac96fe324fea439d",
       "version_major": 2,
       "version_minor": 0
      },
      "text/plain": [
       "第 5/100 轮:   0%|          | 0/7 [00:00<?, ?it/s]"
      ]
     },
     "metadata": {},
     "output_type": "display_data"
    },
    {
     "data": {
      "application/vnd.jupyter.widget-view+json": {
       "model_id": "ddead0c2f6114a429bff56a5a9400dfb",
       "version_major": 2,
       "version_minor": 0
      },
      "text/plain": [
       "第 6/100 轮:   0%|          | 0/7 [00:00<?, ?it/s]"
      ]
     },
     "metadata": {},
     "output_type": "display_data"
    },
    {
     "data": {
      "application/vnd.jupyter.widget-view+json": {
       "model_id": "3a0467769e8b4c7b984de28b31e3c15e",
       "version_major": 2,
       "version_minor": 0
      },
      "text/plain": [
       "第 7/100 轮:   0%|          | 0/7 [00:00<?, ?it/s]"
      ]
     },
     "metadata": {},
     "output_type": "display_data"
    },
    {
     "data": {
      "application/vnd.jupyter.widget-view+json": {
       "model_id": "64c758b1673c46e993a14a982bbbb388",
       "version_major": 2,
       "version_minor": 0
      },
      "text/plain": [
       "第 8/100 轮:   0%|          | 0/7 [00:00<?, ?it/s]"
      ]
     },
     "metadata": {},
     "output_type": "display_data"
    },
    {
     "data": {
      "application/vnd.jupyter.widget-view+json": {
       "model_id": "a431dd380ca540b1869fc9355d7618ee",
       "version_major": 2,
       "version_minor": 0
      },
      "text/plain": [
       "第 9/100 轮:   0%|          | 0/7 [00:00<?, ?it/s]"
      ]
     },
     "metadata": {},
     "output_type": "display_data"
    },
    {
     "data": {
      "application/vnd.jupyter.widget-view+json": {
       "model_id": "c674cfd2533f40b39c6f6c886d601244",
       "version_major": 2,
       "version_minor": 0
      },
      "text/plain": [
       "第 10/100 轮:   0%|          | 0/7 [00:00<?, ?it/s]"
      ]
     },
     "metadata": {},
     "output_type": "display_data"
    },
    {
     "data": {
      "application/vnd.jupyter.widget-view+json": {
       "model_id": "f6c1783bb9d24e96b6e8f6ca0284caa1",
       "version_major": 2,
       "version_minor": 0
      },
      "text/plain": [
       "第 11/100 轮:   0%|          | 0/7 [00:00<?, ?it/s]"
      ]
     },
     "metadata": {},
     "output_type": "display_data"
    },
    {
     "data": {
      "application/vnd.jupyter.widget-view+json": {
       "model_id": "d51b7ebe3d514eba86a8a12d143c7e36",
       "version_major": 2,
       "version_minor": 0
      },
      "text/plain": [
       "第 12/100 轮:   0%|          | 0/7 [00:00<?, ?it/s]"
      ]
     },
     "metadata": {},
     "output_type": "display_data"
    },
    {
     "data": {
      "application/vnd.jupyter.widget-view+json": {
       "model_id": "5912b349bdda4877a791a129f25b8a4a",
       "version_major": 2,
       "version_minor": 0
      },
      "text/plain": [
       "第 13/100 轮:   0%|          | 0/7 [00:00<?, ?it/s]"
      ]
     },
     "metadata": {},
     "output_type": "display_data"
    },
    {
     "data": {
      "application/vnd.jupyter.widget-view+json": {
       "model_id": "7e2772f9f7d340a7ac5ce020f4c2e5a9",
       "version_major": 2,
       "version_minor": 0
      },
      "text/plain": [
       "第 14/100 轮:   0%|          | 0/7 [00:00<?, ?it/s]"
      ]
     },
     "metadata": {},
     "output_type": "display_data"
    },
    {
     "data": {
      "application/vnd.jupyter.widget-view+json": {
       "model_id": "a811355f3bb74faf858bbad01cedce5f",
       "version_major": 2,
       "version_minor": 0
      },
      "text/plain": [
       "第 15/100 轮:   0%|          | 0/7 [00:00<?, ?it/s]"
      ]
     },
     "metadata": {},
     "output_type": "display_data"
    },
    {
     "data": {
      "application/vnd.jupyter.widget-view+json": {
       "model_id": "b1e9c915c8db4210966c1536d5b7fa64",
       "version_major": 2,
       "version_minor": 0
      },
      "text/plain": [
       "第 16/100 轮:   0%|          | 0/7 [00:00<?, ?it/s]"
      ]
     },
     "metadata": {},
     "output_type": "display_data"
    },
    {
     "data": {
      "application/vnd.jupyter.widget-view+json": {
       "model_id": "3b533218502f4af5b3b5b644150bcc34",
       "version_major": 2,
       "version_minor": 0
      },
      "text/plain": [
       "第 17/100 轮:   0%|          | 0/7 [00:00<?, ?it/s]"
      ]
     },
     "metadata": {},
     "output_type": "display_data"
    },
    {
     "data": {
      "application/vnd.jupyter.widget-view+json": {
       "model_id": "614d185b21a648d084836bf0c314c2d5",
       "version_major": 2,
       "version_minor": 0
      },
      "text/plain": [
       "第 18/100 轮:   0%|          | 0/7 [00:00<?, ?it/s]"
      ]
     },
     "metadata": {},
     "output_type": "display_data"
    },
    {
     "data": {
      "application/vnd.jupyter.widget-view+json": {
       "model_id": "d4a5376db547496f878016c9d3cd2978",
       "version_major": 2,
       "version_minor": 0
      },
      "text/plain": [
       "第 19/100 轮:   0%|          | 0/7 [00:00<?, ?it/s]"
      ]
     },
     "metadata": {},
     "output_type": "display_data"
    },
    {
     "data": {
      "application/vnd.jupyter.widget-view+json": {
       "model_id": "f98fd63b0aef4bab806695ca298e41a6",
       "version_major": 2,
       "version_minor": 0
      },
      "text/plain": [
       "第 20/100 轮:   0%|          | 0/7 [00:00<?, ?it/s]"
      ]
     },
     "metadata": {},
     "output_type": "display_data"
    },
    {
     "data": {
      "application/vnd.jupyter.widget-view+json": {
       "model_id": "4a3343a8024d443996c9555ae665c234",
       "version_major": 2,
       "version_minor": 0
      },
      "text/plain": [
       "第 21/100 轮:   0%|          | 0/7 [00:00<?, ?it/s]"
      ]
     },
     "metadata": {},
     "output_type": "display_data"
    },
    {
     "data": {
      "application/vnd.jupyter.widget-view+json": {
       "model_id": "ea4f8d397b6b4083a7b7bf5553edc383",
       "version_major": 2,
       "version_minor": 0
      },
      "text/plain": [
       "第 22/100 轮:   0%|          | 0/7 [00:00<?, ?it/s]"
      ]
     },
     "metadata": {},
     "output_type": "display_data"
    },
    {
     "data": {
      "application/vnd.jupyter.widget-view+json": {
       "model_id": "a266d93e097549a9b0a2b46d1eade790",
       "version_major": 2,
       "version_minor": 0
      },
      "text/plain": [
       "第 23/100 轮:   0%|          | 0/7 [00:00<?, ?it/s]"
      ]
     },
     "metadata": {},
     "output_type": "display_data"
    },
    {
     "data": {
      "application/vnd.jupyter.widget-view+json": {
       "model_id": "7eac81f38f074c428273fea7fdc108c5",
       "version_major": 2,
       "version_minor": 0
      },
      "text/plain": [
       "第 24/100 轮:   0%|          | 0/7 [00:00<?, ?it/s]"
      ]
     },
     "metadata": {},
     "output_type": "display_data"
    },
    {
     "data": {
      "application/vnd.jupyter.widget-view+json": {
       "model_id": "2efdf0d585854736a577aa1a4fad267b",
       "version_major": 2,
       "version_minor": 0
      },
      "text/plain": [
       "第 25/100 轮:   0%|          | 0/7 [00:00<?, ?it/s]"
      ]
     },
     "metadata": {},
     "output_type": "display_data"
    },
    {
     "data": {
      "application/vnd.jupyter.widget-view+json": {
       "model_id": "6e3e370566214fd19bf8d0ef1abfeb4c",
       "version_major": 2,
       "version_minor": 0
      },
      "text/plain": [
       "第 26/100 轮:   0%|          | 0/7 [00:00<?, ?it/s]"
      ]
     },
     "metadata": {},
     "output_type": "display_data"
    },
    {
     "data": {
      "application/vnd.jupyter.widget-view+json": {
       "model_id": "90d55a3316204e0baee6919916802d7e",
       "version_major": 2,
       "version_minor": 0
      },
      "text/plain": [
       "第 27/100 轮:   0%|          | 0/7 [00:00<?, ?it/s]"
      ]
     },
     "metadata": {},
     "output_type": "display_data"
    },
    {
     "data": {
      "application/vnd.jupyter.widget-view+json": {
       "model_id": "2cb7e71493564014868944256d6abbd4",
       "version_major": 2,
       "version_minor": 0
      },
      "text/plain": [
       "第 28/100 轮:   0%|          | 0/7 [00:00<?, ?it/s]"
      ]
     },
     "metadata": {},
     "output_type": "display_data"
    },
    {
     "data": {
      "application/vnd.jupyter.widget-view+json": {
       "model_id": "a4e0a2d7a7654fcba73589d756364463",
       "version_major": 2,
       "version_minor": 0
      },
      "text/plain": [
       "第 29/100 轮:   0%|          | 0/7 [00:00<?, ?it/s]"
      ]
     },
     "metadata": {},
     "output_type": "display_data"
    },
    {
     "data": {
      "application/vnd.jupyter.widget-view+json": {
       "model_id": "ccc20ac9451c4e11bc3a2d5dc1e73b53",
       "version_major": 2,
       "version_minor": 0
      },
      "text/plain": [
       "第 30/100 轮:   0%|          | 0/7 [00:00<?, ?it/s]"
      ]
     },
     "metadata": {},
     "output_type": "display_data"
    },
    {
     "data": {
      "application/vnd.jupyter.widget-view+json": {
       "model_id": "765bd5f357e043aeb738155352c812b2",
       "version_major": 2,
       "version_minor": 0
      },
      "text/plain": [
       "第 31/100 轮:   0%|          | 0/7 [00:00<?, ?it/s]"
      ]
     },
     "metadata": {},
     "output_type": "display_data"
    },
    {
     "data": {
      "application/vnd.jupyter.widget-view+json": {
       "model_id": "2d64ce0aa97548fca1542e665e51b668",
       "version_major": 2,
       "version_minor": 0
      },
      "text/plain": [
       "第 32/100 轮:   0%|          | 0/7 [00:00<?, ?it/s]"
      ]
     },
     "metadata": {},
     "output_type": "display_data"
    },
    {
     "data": {
      "application/vnd.jupyter.widget-view+json": {
       "model_id": "eef3d34bfd1a4548aa3ca6804a5abe0c",
       "version_major": 2,
       "version_minor": 0
      },
      "text/plain": [
       "第 33/100 轮:   0%|          | 0/7 [00:00<?, ?it/s]"
      ]
     },
     "metadata": {},
     "output_type": "display_data"
    },
    {
     "data": {
      "application/vnd.jupyter.widget-view+json": {
       "model_id": "a10fe8dcc24f41c6bc3fb6fe81195eaa",
       "version_major": 2,
       "version_minor": 0
      },
      "text/plain": [
       "第 34/100 轮:   0%|          | 0/7 [00:00<?, ?it/s]"
      ]
     },
     "metadata": {},
     "output_type": "display_data"
    },
    {
     "data": {
      "application/vnd.jupyter.widget-view+json": {
       "model_id": "af6ed6480c98434aad06d8e93b819779",
       "version_major": 2,
       "version_minor": 0
      },
      "text/plain": [
       "第 35/100 轮:   0%|          | 0/7 [00:00<?, ?it/s]"
      ]
     },
     "metadata": {},
     "output_type": "display_data"
    },
    {
     "data": {
      "application/vnd.jupyter.widget-view+json": {
       "model_id": "2b2e8eef5c224ec2a61692984db70fe7",
       "version_major": 2,
       "version_minor": 0
      },
      "text/plain": [
       "第 36/100 轮:   0%|          | 0/7 [00:00<?, ?it/s]"
      ]
     },
     "metadata": {},
     "output_type": "display_data"
    },
    {
     "data": {
      "application/vnd.jupyter.widget-view+json": {
       "model_id": "71c2dd41eb5148cf9960f43ced2b354c",
       "version_major": 2,
       "version_minor": 0
      },
      "text/plain": [
       "第 37/100 轮:   0%|          | 0/7 [00:00<?, ?it/s]"
      ]
     },
     "metadata": {},
     "output_type": "display_data"
    },
    {
     "data": {
      "application/vnd.jupyter.widget-view+json": {
       "model_id": "29d80ca04e724745858e77f9c91d8f90",
       "version_major": 2,
       "version_minor": 0
      },
      "text/plain": [
       "第 38/100 轮:   0%|          | 0/7 [00:00<?, ?it/s]"
      ]
     },
     "metadata": {},
     "output_type": "display_data"
    },
    {
     "data": {
      "application/vnd.jupyter.widget-view+json": {
       "model_id": "6c2fe720e07f4a319b8e643c95da2f7f",
       "version_major": 2,
       "version_minor": 0
      },
      "text/plain": [
       "第 39/100 轮:   0%|          | 0/7 [00:00<?, ?it/s]"
      ]
     },
     "metadata": {},
     "output_type": "display_data"
    },
    {
     "data": {
      "application/vnd.jupyter.widget-view+json": {
       "model_id": "ae670c5f7d0140b59c63a11ca4b31a08",
       "version_major": 2,
       "version_minor": 0
      },
      "text/plain": [
       "第 40/100 轮:   0%|          | 0/7 [00:00<?, ?it/s]"
      ]
     },
     "metadata": {},
     "output_type": "display_data"
    },
    {
     "data": {
      "application/vnd.jupyter.widget-view+json": {
       "model_id": "d16bc3dde52c4a69b66b462cfd6ed47b",
       "version_major": 2,
       "version_minor": 0
      },
      "text/plain": [
       "第 41/100 轮:   0%|          | 0/7 [00:00<?, ?it/s]"
      ]
     },
     "metadata": {},
     "output_type": "display_data"
    },
    {
     "data": {
      "application/vnd.jupyter.widget-view+json": {
       "model_id": "096438ef5e74463a93f016a6264be0d0",
       "version_major": 2,
       "version_minor": 0
      },
      "text/plain": [
       "第 42/100 轮:   0%|          | 0/7 [00:00<?, ?it/s]"
      ]
     },
     "metadata": {},
     "output_type": "display_data"
    },
    {
     "data": {
      "application/vnd.jupyter.widget-view+json": {
       "model_id": "cf3bcc8a266542c49b19d9804f705ac7",
       "version_major": 2,
       "version_minor": 0
      },
      "text/plain": [
       "第 43/100 轮:   0%|          | 0/7 [00:00<?, ?it/s]"
      ]
     },
     "metadata": {},
     "output_type": "display_data"
    },
    {
     "data": {
      "application/vnd.jupyter.widget-view+json": {
       "model_id": "3db3f4848d4b4f5da94862e6ba24662f",
       "version_major": 2,
       "version_minor": 0
      },
      "text/plain": [
       "第 44/100 轮:   0%|          | 0/7 [00:00<?, ?it/s]"
      ]
     },
     "metadata": {},
     "output_type": "display_data"
    },
    {
     "data": {
      "application/vnd.jupyter.widget-view+json": {
       "model_id": "7592a7742d6442378d8f14707b0aca3e",
       "version_major": 2,
       "version_minor": 0
      },
      "text/plain": [
       "第 45/100 轮:   0%|          | 0/7 [00:00<?, ?it/s]"
      ]
     },
     "metadata": {},
     "output_type": "display_data"
    },
    {
     "data": {
      "application/vnd.jupyter.widget-view+json": {
       "model_id": "68efe9480ed340e6875b0c0e8e1a6d2e",
       "version_major": 2,
       "version_minor": 0
      },
      "text/plain": [
       "第 46/100 轮:   0%|          | 0/7 [00:00<?, ?it/s]"
      ]
     },
     "metadata": {},
     "output_type": "display_data"
    },
    {
     "data": {
      "application/vnd.jupyter.widget-view+json": {
       "model_id": "2360c06fb1fe40baba0a67a3ac279f98",
       "version_major": 2,
       "version_minor": 0
      },
      "text/plain": [
       "第 47/100 轮:   0%|          | 0/7 [00:00<?, ?it/s]"
      ]
     },
     "metadata": {},
     "output_type": "display_data"
    },
    {
     "data": {
      "application/vnd.jupyter.widget-view+json": {
       "model_id": "d50e4373961143adb4d9f485248ef285",
       "version_major": 2,
       "version_minor": 0
      },
      "text/plain": [
       "第 48/100 轮:   0%|          | 0/7 [00:00<?, ?it/s]"
      ]
     },
     "metadata": {},
     "output_type": "display_data"
    },
    {
     "data": {
      "application/vnd.jupyter.widget-view+json": {
       "model_id": "d67ff8f45e19494cb4c58b8a58419b1d",
       "version_major": 2,
       "version_minor": 0
      },
      "text/plain": [
       "第 49/100 轮:   0%|          | 0/7 [00:00<?, ?it/s]"
      ]
     },
     "metadata": {},
     "output_type": "display_data"
    },
    {
     "data": {
      "application/vnd.jupyter.widget-view+json": {
       "model_id": "00b3095a6c3742f684fb4f47b3076662",
       "version_major": 2,
       "version_minor": 0
      },
      "text/plain": [
       "第 50/100 轮:   0%|          | 0/7 [00:00<?, ?it/s]"
      ]
     },
     "metadata": {},
     "output_type": "display_data"
    },
    {
     "data": {
      "application/vnd.jupyter.widget-view+json": {
       "model_id": "e9800f0500b04b978cbc751942f7a0a1",
       "version_major": 2,
       "version_minor": 0
      },
      "text/plain": [
       "第 51/100 轮:   0%|          | 0/7 [00:00<?, ?it/s]"
      ]
     },
     "metadata": {},
     "output_type": "display_data"
    },
    {
     "data": {
      "application/vnd.jupyter.widget-view+json": {
       "model_id": "e8b9193df4bd44169162d2ee01dace99",
       "version_major": 2,
       "version_minor": 0
      },
      "text/plain": [
       "第 52/100 轮:   0%|          | 0/7 [00:00<?, ?it/s]"
      ]
     },
     "metadata": {},
     "output_type": "display_data"
    },
    {
     "data": {
      "application/vnd.jupyter.widget-view+json": {
       "model_id": "1fc276445f364b86ab26934909702b33",
       "version_major": 2,
       "version_minor": 0
      },
      "text/plain": [
       "第 53/100 轮:   0%|          | 0/7 [00:00<?, ?it/s]"
      ]
     },
     "metadata": {},
     "output_type": "display_data"
    },
    {
     "data": {
      "application/vnd.jupyter.widget-view+json": {
       "model_id": "7874604399ea4f1ba3e4f4e7b5172919",
       "version_major": 2,
       "version_minor": 0
      },
      "text/plain": [
       "第 54/100 轮:   0%|          | 0/7 [00:00<?, ?it/s]"
      ]
     },
     "metadata": {},
     "output_type": "display_data"
    },
    {
     "data": {
      "application/vnd.jupyter.widget-view+json": {
       "model_id": "f6ba78903b2c4a9b9921acc9e058edee",
       "version_major": 2,
       "version_minor": 0
      },
      "text/plain": [
       "第 55/100 轮:   0%|          | 0/7 [00:00<?, ?it/s]"
      ]
     },
     "metadata": {},
     "output_type": "display_data"
    },
    {
     "data": {
      "application/vnd.jupyter.widget-view+json": {
       "model_id": "8b82e48f640c408384256cf25f4904cb",
       "version_major": 2,
       "version_minor": 0
      },
      "text/plain": [
       "第 56/100 轮:   0%|          | 0/7 [00:00<?, ?it/s]"
      ]
     },
     "metadata": {},
     "output_type": "display_data"
    },
    {
     "data": {
      "application/vnd.jupyter.widget-view+json": {
       "model_id": "039684e6c80944c8a38ac0e0f59a9766",
       "version_major": 2,
       "version_minor": 0
      },
      "text/plain": [
       "第 57/100 轮:   0%|          | 0/7 [00:00<?, ?it/s]"
      ]
     },
     "metadata": {},
     "output_type": "display_data"
    },
    {
     "data": {
      "application/vnd.jupyter.widget-view+json": {
       "model_id": "2cea230a6ca9485e89a93f2a84bb0737",
       "version_major": 2,
       "version_minor": 0
      },
      "text/plain": [
       "第 58/100 轮:   0%|          | 0/7 [00:00<?, ?it/s]"
      ]
     },
     "metadata": {},
     "output_type": "display_data"
    },
    {
     "data": {
      "application/vnd.jupyter.widget-view+json": {
       "model_id": "4ac1eb149fe9431b9de2f3fa963e3863",
       "version_major": 2,
       "version_minor": 0
      },
      "text/plain": [
       "第 59/100 轮:   0%|          | 0/7 [00:00<?, ?it/s]"
      ]
     },
     "metadata": {},
     "output_type": "display_data"
    },
    {
     "data": {
      "application/vnd.jupyter.widget-view+json": {
       "model_id": "a745e51c244f48c6b3927a52eb42eddb",
       "version_major": 2,
       "version_minor": 0
      },
      "text/plain": [
       "第 60/100 轮:   0%|          | 0/7 [00:00<?, ?it/s]"
      ]
     },
     "metadata": {},
     "output_type": "display_data"
    },
    {
     "data": {
      "application/vnd.jupyter.widget-view+json": {
       "model_id": "9d21a77a8b1f4848a92ab7a7730135ca",
       "version_major": 2,
       "version_minor": 0
      },
      "text/plain": [
       "第 61/100 轮:   0%|          | 0/7 [00:00<?, ?it/s]"
      ]
     },
     "metadata": {},
     "output_type": "display_data"
    },
    {
     "data": {
      "application/vnd.jupyter.widget-view+json": {
       "model_id": "22c3d9e33e414049a52c90325e55ad97",
       "version_major": 2,
       "version_minor": 0
      },
      "text/plain": [
       "第 62/100 轮:   0%|          | 0/7 [00:00<?, ?it/s]"
      ]
     },
     "metadata": {},
     "output_type": "display_data"
    },
    {
     "data": {
      "application/vnd.jupyter.widget-view+json": {
       "model_id": "dcd05ee9c30c466e90e7e5b4968f0ba2",
       "version_major": 2,
       "version_minor": 0
      },
      "text/plain": [
       "第 63/100 轮:   0%|          | 0/7 [00:00<?, ?it/s]"
      ]
     },
     "metadata": {},
     "output_type": "display_data"
    },
    {
     "data": {
      "application/vnd.jupyter.widget-view+json": {
       "model_id": "2f40b23d108c49d684bdf5047d83aecd",
       "version_major": 2,
       "version_minor": 0
      },
      "text/plain": [
       "第 64/100 轮:   0%|          | 0/7 [00:00<?, ?it/s]"
      ]
     },
     "metadata": {},
     "output_type": "display_data"
    },
    {
     "data": {
      "application/vnd.jupyter.widget-view+json": {
       "model_id": "6384165f260f404e92c4975fdd1ff12b",
       "version_major": 2,
       "version_minor": 0
      },
      "text/plain": [
       "第 65/100 轮:   0%|          | 0/7 [00:00<?, ?it/s]"
      ]
     },
     "metadata": {},
     "output_type": "display_data"
    },
    {
     "data": {
      "application/vnd.jupyter.widget-view+json": {
       "model_id": "6ad5c1b086174d11a7a22e1e67714df6",
       "version_major": 2,
       "version_minor": 0
      },
      "text/plain": [
       "第 66/100 轮:   0%|          | 0/7 [00:00<?, ?it/s]"
      ]
     },
     "metadata": {},
     "output_type": "display_data"
    },
    {
     "data": {
      "application/vnd.jupyter.widget-view+json": {
       "model_id": "6b87a75a8af949b3aea518199211eb8d",
       "version_major": 2,
       "version_minor": 0
      },
      "text/plain": [
       "第 67/100 轮:   0%|          | 0/7 [00:00<?, ?it/s]"
      ]
     },
     "metadata": {},
     "output_type": "display_data"
    },
    {
     "data": {
      "application/vnd.jupyter.widget-view+json": {
       "model_id": "d0eb62e10f6747eb9650b5c4443d4e1f",
       "version_major": 2,
       "version_minor": 0
      },
      "text/plain": [
       "第 68/100 轮:   0%|          | 0/7 [00:00<?, ?it/s]"
      ]
     },
     "metadata": {},
     "output_type": "display_data"
    },
    {
     "data": {
      "application/vnd.jupyter.widget-view+json": {
       "model_id": "56a8959a2b884f1cbf424512be23fe0e",
       "version_major": 2,
       "version_minor": 0
      },
      "text/plain": [
       "第 69/100 轮:   0%|          | 0/7 [00:00<?, ?it/s]"
      ]
     },
     "metadata": {},
     "output_type": "display_data"
    },
    {
     "data": {
      "application/vnd.jupyter.widget-view+json": {
       "model_id": "a65f68fb3e6146db84d0c836cf4e950b",
       "version_major": 2,
       "version_minor": 0
      },
      "text/plain": [
       "第 70/100 轮:   0%|          | 0/7 [00:00<?, ?it/s]"
      ]
     },
     "metadata": {},
     "output_type": "display_data"
    },
    {
     "data": {
      "application/vnd.jupyter.widget-view+json": {
       "model_id": "a7d722d7c43a457d949343f0ea3b8f8c",
       "version_major": 2,
       "version_minor": 0
      },
      "text/plain": [
       "第 71/100 轮:   0%|          | 0/7 [00:00<?, ?it/s]"
      ]
     },
     "metadata": {},
     "output_type": "display_data"
    },
    {
     "data": {
      "application/vnd.jupyter.widget-view+json": {
       "model_id": "3caf8430696948949e3e8d50eec8c7e9",
       "version_major": 2,
       "version_minor": 0
      },
      "text/plain": [
       "第 72/100 轮:   0%|          | 0/7 [00:00<?, ?it/s]"
      ]
     },
     "metadata": {},
     "output_type": "display_data"
    },
    {
     "data": {
      "application/vnd.jupyter.widget-view+json": {
       "model_id": "6a96441c55d44f5b83782f1e8dfcdd87",
       "version_major": 2,
       "version_minor": 0
      },
      "text/plain": [
       "第 73/100 轮:   0%|          | 0/7 [00:00<?, ?it/s]"
      ]
     },
     "metadata": {},
     "output_type": "display_data"
    },
    {
     "data": {
      "application/vnd.jupyter.widget-view+json": {
       "model_id": "75b6c59b009c402e9cc60fe6ec27afc0",
       "version_major": 2,
       "version_minor": 0
      },
      "text/plain": [
       "第 74/100 轮:   0%|          | 0/7 [00:00<?, ?it/s]"
      ]
     },
     "metadata": {},
     "output_type": "display_data"
    },
    {
     "data": {
      "application/vnd.jupyter.widget-view+json": {
       "model_id": "e9965b5066d447199661e4845bc8cd12",
       "version_major": 2,
       "version_minor": 0
      },
      "text/plain": [
       "第 75/100 轮:   0%|          | 0/7 [00:00<?, ?it/s]"
      ]
     },
     "metadata": {},
     "output_type": "display_data"
    },
    {
     "data": {
      "application/vnd.jupyter.widget-view+json": {
       "model_id": "573b859f7153412e9f8cd9f1f350c420",
       "version_major": 2,
       "version_minor": 0
      },
      "text/plain": [
       "第 76/100 轮:   0%|          | 0/7 [00:00<?, ?it/s]"
      ]
     },
     "metadata": {},
     "output_type": "display_data"
    },
    {
     "data": {
      "application/vnd.jupyter.widget-view+json": {
       "model_id": "9de0899c37934bc2b7df4f3688d97e94",
       "version_major": 2,
       "version_minor": 0
      },
      "text/plain": [
       "第 77/100 轮:   0%|          | 0/7 [00:00<?, ?it/s]"
      ]
     },
     "metadata": {},
     "output_type": "display_data"
    },
    {
     "data": {
      "application/vnd.jupyter.widget-view+json": {
       "model_id": "499d4de320fe4864984118c1738356ba",
       "version_major": 2,
       "version_minor": 0
      },
      "text/plain": [
       "第 78/100 轮:   0%|          | 0/7 [00:00<?, ?it/s]"
      ]
     },
     "metadata": {},
     "output_type": "display_data"
    },
    {
     "data": {
      "application/vnd.jupyter.widget-view+json": {
       "model_id": "7db96f093bfa455daf0a7bb179c6ac02",
       "version_major": 2,
       "version_minor": 0
      },
      "text/plain": [
       "第 79/100 轮:   0%|          | 0/7 [00:00<?, ?it/s]"
      ]
     },
     "metadata": {},
     "output_type": "display_data"
    },
    {
     "data": {
      "application/vnd.jupyter.widget-view+json": {
       "model_id": "058bb50e57714ce2b262906c78331306",
       "version_major": 2,
       "version_minor": 0
      },
      "text/plain": [
       "第 80/100 轮:   0%|          | 0/7 [00:00<?, ?it/s]"
      ]
     },
     "metadata": {},
     "output_type": "display_data"
    },
    {
     "data": {
      "application/vnd.jupyter.widget-view+json": {
       "model_id": "5ade62b3de034655a6225b1f08f07a12",
       "version_major": 2,
       "version_minor": 0
      },
      "text/plain": [
       "第 81/100 轮:   0%|          | 0/7 [00:00<?, ?it/s]"
      ]
     },
     "metadata": {},
     "output_type": "display_data"
    },
    {
     "data": {
      "application/vnd.jupyter.widget-view+json": {
       "model_id": "c92a9025123141d6afb781d3049f9f1b",
       "version_major": 2,
       "version_minor": 0
      },
      "text/plain": [
       "第 82/100 轮:   0%|          | 0/7 [00:00<?, ?it/s]"
      ]
     },
     "metadata": {},
     "output_type": "display_data"
    },
    {
     "data": {
      "application/vnd.jupyter.widget-view+json": {
       "model_id": "4a269ed18d914a38a40883ea8038b919",
       "version_major": 2,
       "version_minor": 0
      },
      "text/plain": [
       "第 83/100 轮:   0%|          | 0/7 [00:00<?, ?it/s]"
      ]
     },
     "metadata": {},
     "output_type": "display_data"
    },
    {
     "data": {
      "application/vnd.jupyter.widget-view+json": {
       "model_id": "2775b0b5c82c471da022923185d449e7",
       "version_major": 2,
       "version_minor": 0
      },
      "text/plain": [
       "第 84/100 轮:   0%|          | 0/7 [00:00<?, ?it/s]"
      ]
     },
     "metadata": {},
     "output_type": "display_data"
    },
    {
     "data": {
      "application/vnd.jupyter.widget-view+json": {
       "model_id": "51ecb26046b4461babbf2c105ca53a2d",
       "version_major": 2,
       "version_minor": 0
      },
      "text/plain": [
       "第 85/100 轮:   0%|          | 0/7 [00:00<?, ?it/s]"
      ]
     },
     "metadata": {},
     "output_type": "display_data"
    },
    {
     "data": {
      "application/vnd.jupyter.widget-view+json": {
       "model_id": "842e20e655d746a986e5413c523a9ce7",
       "version_major": 2,
       "version_minor": 0
      },
      "text/plain": [
       "第 86/100 轮:   0%|          | 0/7 [00:00<?, ?it/s]"
      ]
     },
     "metadata": {},
     "output_type": "display_data"
    },
    {
     "data": {
      "application/vnd.jupyter.widget-view+json": {
       "model_id": "73682ee69fa0484a9d75cf442609c072",
       "version_major": 2,
       "version_minor": 0
      },
      "text/plain": [
       "第 87/100 轮:   0%|          | 0/7 [00:00<?, ?it/s]"
      ]
     },
     "metadata": {},
     "output_type": "display_data"
    },
    {
     "data": {
      "application/vnd.jupyter.widget-view+json": {
       "model_id": "07925f193c7f458f9859fe5dc9b7412a",
       "version_major": 2,
       "version_minor": 0
      },
      "text/plain": [
       "第 88/100 轮:   0%|          | 0/7 [00:00<?, ?it/s]"
      ]
     },
     "metadata": {},
     "output_type": "display_data"
    },
    {
     "data": {
      "application/vnd.jupyter.widget-view+json": {
       "model_id": "080fad88bebf438985804a9f05699b3f",
       "version_major": 2,
       "version_minor": 0
      },
      "text/plain": [
       "第 89/100 轮:   0%|          | 0/7 [00:00<?, ?it/s]"
      ]
     },
     "metadata": {},
     "output_type": "display_data"
    },
    {
     "data": {
      "application/vnd.jupyter.widget-view+json": {
       "model_id": "1505c0d1f7fc4274bd24b344a9c94397",
       "version_major": 2,
       "version_minor": 0
      },
      "text/plain": [
       "第 90/100 轮:   0%|          | 0/7 [00:00<?, ?it/s]"
      ]
     },
     "metadata": {},
     "output_type": "display_data"
    },
    {
     "data": {
      "application/vnd.jupyter.widget-view+json": {
       "model_id": "bbf5234faeef4216916ad23df90e9094",
       "version_major": 2,
       "version_minor": 0
      },
      "text/plain": [
       "第 91/100 轮:   0%|          | 0/7 [00:00<?, ?it/s]"
      ]
     },
     "metadata": {},
     "output_type": "display_data"
    },
    {
     "data": {
      "application/vnd.jupyter.widget-view+json": {
       "model_id": "413eca93034c44deb286679f8931f4dd",
       "version_major": 2,
       "version_minor": 0
      },
      "text/plain": [
       "第 92/100 轮:   0%|          | 0/7 [00:00<?, ?it/s]"
      ]
     },
     "metadata": {},
     "output_type": "display_data"
    },
    {
     "data": {
      "application/vnd.jupyter.widget-view+json": {
       "model_id": "ee95b508afd84110818905f3ec3e5662",
       "version_major": 2,
       "version_minor": 0
      },
      "text/plain": [
       "第 93/100 轮:   0%|          | 0/7 [00:00<?, ?it/s]"
      ]
     },
     "metadata": {},
     "output_type": "display_data"
    },
    {
     "data": {
      "application/vnd.jupyter.widget-view+json": {
       "model_id": "1065351b19f347618e5961b4520e78c2",
       "version_major": 2,
       "version_minor": 0
      },
      "text/plain": [
       "第 94/100 轮:   0%|          | 0/7 [00:00<?, ?it/s]"
      ]
     },
     "metadata": {},
     "output_type": "display_data"
    },
    {
     "data": {
      "application/vnd.jupyter.widget-view+json": {
       "model_id": "ab1ae27f38754ab0affb7c4e885826e3",
       "version_major": 2,
       "version_minor": 0
      },
      "text/plain": [
       "第 95/100 轮:   0%|          | 0/7 [00:00<?, ?it/s]"
      ]
     },
     "metadata": {},
     "output_type": "display_data"
    },
    {
     "data": {
      "application/vnd.jupyter.widget-view+json": {
       "model_id": "85a66b58b8a54b26b50ff8c5c52b684b",
       "version_major": 2,
       "version_minor": 0
      },
      "text/plain": [
       "第 96/100 轮:   0%|          | 0/7 [00:00<?, ?it/s]"
      ]
     },
     "metadata": {},
     "output_type": "display_data"
    },
    {
     "data": {
      "application/vnd.jupyter.widget-view+json": {
       "model_id": "8069424bebb8484c8669f1a47370784a",
       "version_major": 2,
       "version_minor": 0
      },
      "text/plain": [
       "第 97/100 轮:   0%|          | 0/7 [00:00<?, ?it/s]"
      ]
     },
     "metadata": {},
     "output_type": "display_data"
    },
    {
     "data": {
      "application/vnd.jupyter.widget-view+json": {
       "model_id": "5edca161cca9496a857f1c87cadc8ac0",
       "version_major": 2,
       "version_minor": 0
      },
      "text/plain": [
       "第 98/100 轮:   0%|          | 0/7 [00:00<?, ?it/s]"
      ]
     },
     "metadata": {},
     "output_type": "display_data"
    },
    {
     "data": {
      "application/vnd.jupyter.widget-view+json": {
       "model_id": "84f1b0ebe6c04a898ce6a88b88d146dd",
       "version_major": 2,
       "version_minor": 0
      },
      "text/plain": [
       "第 99/100 轮:   0%|          | 0/7 [00:00<?, ?it/s]"
      ]
     },
     "metadata": {},
     "output_type": "display_data"
    },
    {
     "data": {
      "application/vnd.jupyter.widget-view+json": {
       "model_id": "cd67c871a19f419e89792842833e2cee",
       "version_major": 2,
       "version_minor": 0
      },
      "text/plain": [
       "第 100/100 轮:   0%|          | 0/7 [00:00<?, ?it/s]"
      ]
     },
     "metadata": {},
     "output_type": "display_data"
    },
    {
     "name": "stdout",
     "output_type": "stream",
     "text": [
      "Fold 4 - Epoch 100: Best Correlation Coefficient: 0.6792\n"
     ]
    },
    {
     "data": {
      "application/vnd.jupyter.widget-view+json": {
       "model_id": "9a034edc423c4b3a808240901009d149",
       "version_major": 2,
       "version_minor": 0
      },
      "text/plain": [
       "第 1/100 轮:   0%|          | 0/7 [00:00<?, ?it/s]"
      ]
     },
     "metadata": {},
     "output_type": "display_data"
    },
    {
     "data": {
      "application/vnd.jupyter.widget-view+json": {
       "model_id": "f149850453554776ab5a66c974bf4b39",
       "version_major": 2,
       "version_minor": 0
      },
      "text/plain": [
       "第 2/100 轮:   0%|          | 0/7 [00:00<?, ?it/s]"
      ]
     },
     "metadata": {},
     "output_type": "display_data"
    },
    {
     "data": {
      "application/vnd.jupyter.widget-view+json": {
       "model_id": "f6ebc10cb891457aa0e0df0df851b896",
       "version_major": 2,
       "version_minor": 0
      },
      "text/plain": [
       "第 3/100 轮:   0%|          | 0/7 [00:00<?, ?it/s]"
      ]
     },
     "metadata": {},
     "output_type": "display_data"
    },
    {
     "data": {
      "application/vnd.jupyter.widget-view+json": {
       "model_id": "560abc71f9534e7e8b8a3834022764ee",
       "version_major": 2,
       "version_minor": 0
      },
      "text/plain": [
       "第 4/100 轮:   0%|          | 0/7 [00:00<?, ?it/s]"
      ]
     },
     "metadata": {},
     "output_type": "display_data"
    },
    {
     "data": {
      "application/vnd.jupyter.widget-view+json": {
       "model_id": "df286c3289944f97b73999be5adb2d8c",
       "version_major": 2,
       "version_minor": 0
      },
      "text/plain": [
       "第 5/100 轮:   0%|          | 0/7 [00:00<?, ?it/s]"
      ]
     },
     "metadata": {},
     "output_type": "display_data"
    },
    {
     "data": {
      "application/vnd.jupyter.widget-view+json": {
       "model_id": "63d4c1e5be9c4a548600af6ff65aed40",
       "version_major": 2,
       "version_minor": 0
      },
      "text/plain": [
       "第 6/100 轮:   0%|          | 0/7 [00:00<?, ?it/s]"
      ]
     },
     "metadata": {},
     "output_type": "display_data"
    },
    {
     "data": {
      "application/vnd.jupyter.widget-view+json": {
       "model_id": "d8e1598db26b40b5ae6fe4be33617c64",
       "version_major": 2,
       "version_minor": 0
      },
      "text/plain": [
       "第 7/100 轮:   0%|          | 0/7 [00:00<?, ?it/s]"
      ]
     },
     "metadata": {},
     "output_type": "display_data"
    },
    {
     "data": {
      "application/vnd.jupyter.widget-view+json": {
       "model_id": "ebeb69063d894b53a5b94b1e9b50a354",
       "version_major": 2,
       "version_minor": 0
      },
      "text/plain": [
       "第 8/100 轮:   0%|          | 0/7 [00:00<?, ?it/s]"
      ]
     },
     "metadata": {},
     "output_type": "display_data"
    },
    {
     "data": {
      "application/vnd.jupyter.widget-view+json": {
       "model_id": "0791db5cddf04644ab7e38f4565919d1",
       "version_major": 2,
       "version_minor": 0
      },
      "text/plain": [
       "第 9/100 轮:   0%|          | 0/7 [00:00<?, ?it/s]"
      ]
     },
     "metadata": {},
     "output_type": "display_data"
    },
    {
     "data": {
      "application/vnd.jupyter.widget-view+json": {
       "model_id": "975f65e5fedb4e10bd31be19156aeb19",
       "version_major": 2,
       "version_minor": 0
      },
      "text/plain": [
       "第 10/100 轮:   0%|          | 0/7 [00:00<?, ?it/s]"
      ]
     },
     "metadata": {},
     "output_type": "display_data"
    },
    {
     "data": {
      "application/vnd.jupyter.widget-view+json": {
       "model_id": "dbd72bfd2d16454aacbd18c9a37b51e1",
       "version_major": 2,
       "version_minor": 0
      },
      "text/plain": [
       "第 11/100 轮:   0%|          | 0/7 [00:00<?, ?it/s]"
      ]
     },
     "metadata": {},
     "output_type": "display_data"
    },
    {
     "data": {
      "application/vnd.jupyter.widget-view+json": {
       "model_id": "efddc2f3cdd4413e86adf0e578a7a8c7",
       "version_major": 2,
       "version_minor": 0
      },
      "text/plain": [
       "第 12/100 轮:   0%|          | 0/7 [00:00<?, ?it/s]"
      ]
     },
     "metadata": {},
     "output_type": "display_data"
    },
    {
     "data": {
      "application/vnd.jupyter.widget-view+json": {
       "model_id": "5acb66c454204399a954f23deffb497f",
       "version_major": 2,
       "version_minor": 0
      },
      "text/plain": [
       "第 13/100 轮:   0%|          | 0/7 [00:00<?, ?it/s]"
      ]
     },
     "metadata": {},
     "output_type": "display_data"
    },
    {
     "data": {
      "application/vnd.jupyter.widget-view+json": {
       "model_id": "96185d3ce83240558492ae669bb4bc65",
       "version_major": 2,
       "version_minor": 0
      },
      "text/plain": [
       "第 14/100 轮:   0%|          | 0/7 [00:00<?, ?it/s]"
      ]
     },
     "metadata": {},
     "output_type": "display_data"
    },
    {
     "data": {
      "application/vnd.jupyter.widget-view+json": {
       "model_id": "0f96d4e5f1184d46996c436703f64a22",
       "version_major": 2,
       "version_minor": 0
      },
      "text/plain": [
       "第 15/100 轮:   0%|          | 0/7 [00:00<?, ?it/s]"
      ]
     },
     "metadata": {},
     "output_type": "display_data"
    },
    {
     "data": {
      "application/vnd.jupyter.widget-view+json": {
       "model_id": "8fb13ed66d5d400cacf6f3a8071d5145",
       "version_major": 2,
       "version_minor": 0
      },
      "text/plain": [
       "第 16/100 轮:   0%|          | 0/7 [00:00<?, ?it/s]"
      ]
     },
     "metadata": {},
     "output_type": "display_data"
    },
    {
     "data": {
      "application/vnd.jupyter.widget-view+json": {
       "model_id": "2aa2985f08094767a048072d82aa8d19",
       "version_major": 2,
       "version_minor": 0
      },
      "text/plain": [
       "第 17/100 轮:   0%|          | 0/7 [00:00<?, ?it/s]"
      ]
     },
     "metadata": {},
     "output_type": "display_data"
    },
    {
     "data": {
      "application/vnd.jupyter.widget-view+json": {
       "model_id": "4593108640b14d48bcd9db7805e206be",
       "version_major": 2,
       "version_minor": 0
      },
      "text/plain": [
       "第 18/100 轮:   0%|          | 0/7 [00:00<?, ?it/s]"
      ]
     },
     "metadata": {},
     "output_type": "display_data"
    },
    {
     "data": {
      "application/vnd.jupyter.widget-view+json": {
       "model_id": "7f89a2df1f7545f4b827e0ee004d8d6c",
       "version_major": 2,
       "version_minor": 0
      },
      "text/plain": [
       "第 19/100 轮:   0%|          | 0/7 [00:00<?, ?it/s]"
      ]
     },
     "metadata": {},
     "output_type": "display_data"
    },
    {
     "data": {
      "application/vnd.jupyter.widget-view+json": {
       "model_id": "9d08a2d940624fc280f2fe2579bed5d3",
       "version_major": 2,
       "version_minor": 0
      },
      "text/plain": [
       "第 20/100 轮:   0%|          | 0/7 [00:00<?, ?it/s]"
      ]
     },
     "metadata": {},
     "output_type": "display_data"
    },
    {
     "data": {
      "application/vnd.jupyter.widget-view+json": {
       "model_id": "3e1eb5d76e9249799980a4840d63879d",
       "version_major": 2,
       "version_minor": 0
      },
      "text/plain": [
       "第 21/100 轮:   0%|          | 0/7 [00:00<?, ?it/s]"
      ]
     },
     "metadata": {},
     "output_type": "display_data"
    },
    {
     "data": {
      "application/vnd.jupyter.widget-view+json": {
       "model_id": "bbce500ead074d97beac573d07542d79",
       "version_major": 2,
       "version_minor": 0
      },
      "text/plain": [
       "第 22/100 轮:   0%|          | 0/7 [00:00<?, ?it/s]"
      ]
     },
     "metadata": {},
     "output_type": "display_data"
    },
    {
     "data": {
      "application/vnd.jupyter.widget-view+json": {
       "model_id": "294f41c5dfa34c91896743883bc322dc",
       "version_major": 2,
       "version_minor": 0
      },
      "text/plain": [
       "第 23/100 轮:   0%|          | 0/7 [00:00<?, ?it/s]"
      ]
     },
     "metadata": {},
     "output_type": "display_data"
    },
    {
     "data": {
      "application/vnd.jupyter.widget-view+json": {
       "model_id": "f6abe2987ab847cb87b76428e6446ecb",
       "version_major": 2,
       "version_minor": 0
      },
      "text/plain": [
       "第 24/100 轮:   0%|          | 0/7 [00:00<?, ?it/s]"
      ]
     },
     "metadata": {},
     "output_type": "display_data"
    },
    {
     "data": {
      "application/vnd.jupyter.widget-view+json": {
       "model_id": "8f7a7064bdb14db49f22c43fd996c387",
       "version_major": 2,
       "version_minor": 0
      },
      "text/plain": [
       "第 25/100 轮:   0%|          | 0/7 [00:00<?, ?it/s]"
      ]
     },
     "metadata": {},
     "output_type": "display_data"
    },
    {
     "data": {
      "application/vnd.jupyter.widget-view+json": {
       "model_id": "3984717a2b9344c18048d3ac1152a854",
       "version_major": 2,
       "version_minor": 0
      },
      "text/plain": [
       "第 26/100 轮:   0%|          | 0/7 [00:00<?, ?it/s]"
      ]
     },
     "metadata": {},
     "output_type": "display_data"
    },
    {
     "data": {
      "application/vnd.jupyter.widget-view+json": {
       "model_id": "71b0af3382f345a8bc86008a251984d1",
       "version_major": 2,
       "version_minor": 0
      },
      "text/plain": [
       "第 27/100 轮:   0%|          | 0/7 [00:00<?, ?it/s]"
      ]
     },
     "metadata": {},
     "output_type": "display_data"
    },
    {
     "data": {
      "application/vnd.jupyter.widget-view+json": {
       "model_id": "cff0832f0d5544fbaade393f335ed70c",
       "version_major": 2,
       "version_minor": 0
      },
      "text/plain": [
       "第 28/100 轮:   0%|          | 0/7 [00:00<?, ?it/s]"
      ]
     },
     "metadata": {},
     "output_type": "display_data"
    },
    {
     "data": {
      "application/vnd.jupyter.widget-view+json": {
       "model_id": "a37597a8813640979f4a3cc7544dc636",
       "version_major": 2,
       "version_minor": 0
      },
      "text/plain": [
       "第 29/100 轮:   0%|          | 0/7 [00:00<?, ?it/s]"
      ]
     },
     "metadata": {},
     "output_type": "display_data"
    },
    {
     "data": {
      "application/vnd.jupyter.widget-view+json": {
       "model_id": "3b1a1d40c02a4a62bcf063871b7fddae",
       "version_major": 2,
       "version_minor": 0
      },
      "text/plain": [
       "第 30/100 轮:   0%|          | 0/7 [00:00<?, ?it/s]"
      ]
     },
     "metadata": {},
     "output_type": "display_data"
    },
    {
     "data": {
      "application/vnd.jupyter.widget-view+json": {
       "model_id": "f01053ae1a2d4f23a0ec739a14a2dd44",
       "version_major": 2,
       "version_minor": 0
      },
      "text/plain": [
       "第 31/100 轮:   0%|          | 0/7 [00:00<?, ?it/s]"
      ]
     },
     "metadata": {},
     "output_type": "display_data"
    },
    {
     "data": {
      "application/vnd.jupyter.widget-view+json": {
       "model_id": "5dbce8111bf340bab026e8e24131a7c7",
       "version_major": 2,
       "version_minor": 0
      },
      "text/plain": [
       "第 32/100 轮:   0%|          | 0/7 [00:00<?, ?it/s]"
      ]
     },
     "metadata": {},
     "output_type": "display_data"
    },
    {
     "data": {
      "application/vnd.jupyter.widget-view+json": {
       "model_id": "b3fdbd874c5f4e64af407c6d68ac52ea",
       "version_major": 2,
       "version_minor": 0
      },
      "text/plain": [
       "第 33/100 轮:   0%|          | 0/7 [00:00<?, ?it/s]"
      ]
     },
     "metadata": {},
     "output_type": "display_data"
    },
    {
     "data": {
      "application/vnd.jupyter.widget-view+json": {
       "model_id": "f8c39b66659d4bb1aa6c8a0760921ce4",
       "version_major": 2,
       "version_minor": 0
      },
      "text/plain": [
       "第 34/100 轮:   0%|          | 0/7 [00:00<?, ?it/s]"
      ]
     },
     "metadata": {},
     "output_type": "display_data"
    },
    {
     "data": {
      "application/vnd.jupyter.widget-view+json": {
       "model_id": "2e3d989cee4447399bc7394990c33e51",
       "version_major": 2,
       "version_minor": 0
      },
      "text/plain": [
       "第 35/100 轮:   0%|          | 0/7 [00:00<?, ?it/s]"
      ]
     },
     "metadata": {},
     "output_type": "display_data"
    },
    {
     "data": {
      "application/vnd.jupyter.widget-view+json": {
       "model_id": "5e17372ba5d44dbd835dfe3cda5a90a7",
       "version_major": 2,
       "version_minor": 0
      },
      "text/plain": [
       "第 36/100 轮:   0%|          | 0/7 [00:00<?, ?it/s]"
      ]
     },
     "metadata": {},
     "output_type": "display_data"
    },
    {
     "data": {
      "application/vnd.jupyter.widget-view+json": {
       "model_id": "9546a1cecc834b3f95a8103b92e3b49b",
       "version_major": 2,
       "version_minor": 0
      },
      "text/plain": [
       "第 37/100 轮:   0%|          | 0/7 [00:00<?, ?it/s]"
      ]
     },
     "metadata": {},
     "output_type": "display_data"
    },
    {
     "data": {
      "application/vnd.jupyter.widget-view+json": {
       "model_id": "aec76ab80057442f8442729f2aeca8b7",
       "version_major": 2,
       "version_minor": 0
      },
      "text/plain": [
       "第 38/100 轮:   0%|          | 0/7 [00:00<?, ?it/s]"
      ]
     },
     "metadata": {},
     "output_type": "display_data"
    },
    {
     "data": {
      "application/vnd.jupyter.widget-view+json": {
       "model_id": "a780bcc516a3421891bc86b429e47955",
       "version_major": 2,
       "version_minor": 0
      },
      "text/plain": [
       "第 39/100 轮:   0%|          | 0/7 [00:00<?, ?it/s]"
      ]
     },
     "metadata": {},
     "output_type": "display_data"
    },
    {
     "data": {
      "application/vnd.jupyter.widget-view+json": {
       "model_id": "38d1a56e0f954df68b895cd4eb7cc04c",
       "version_major": 2,
       "version_minor": 0
      },
      "text/plain": [
       "第 40/100 轮:   0%|          | 0/7 [00:00<?, ?it/s]"
      ]
     },
     "metadata": {},
     "output_type": "display_data"
    },
    {
     "data": {
      "application/vnd.jupyter.widget-view+json": {
       "model_id": "2cc6b655e69c43d48095ad6d58e8d57f",
       "version_major": 2,
       "version_minor": 0
      },
      "text/plain": [
       "第 41/100 轮:   0%|          | 0/7 [00:00<?, ?it/s]"
      ]
     },
     "metadata": {},
     "output_type": "display_data"
    },
    {
     "data": {
      "application/vnd.jupyter.widget-view+json": {
       "model_id": "f4e7cff930b24dd992a11f9a3aa6ec43",
       "version_major": 2,
       "version_minor": 0
      },
      "text/plain": [
       "第 42/100 轮:   0%|          | 0/7 [00:00<?, ?it/s]"
      ]
     },
     "metadata": {},
     "output_type": "display_data"
    },
    {
     "data": {
      "application/vnd.jupyter.widget-view+json": {
       "model_id": "4a50491b085743b1b18a3882cecaf16b",
       "version_major": 2,
       "version_minor": 0
      },
      "text/plain": [
       "第 43/100 轮:   0%|          | 0/7 [00:00<?, ?it/s]"
      ]
     },
     "metadata": {},
     "output_type": "display_data"
    },
    {
     "data": {
      "application/vnd.jupyter.widget-view+json": {
       "model_id": "9cb5576e717c49e4a2e4eef806082dac",
       "version_major": 2,
       "version_minor": 0
      },
      "text/plain": [
       "第 44/100 轮:   0%|          | 0/7 [00:00<?, ?it/s]"
      ]
     },
     "metadata": {},
     "output_type": "display_data"
    },
    {
     "data": {
      "application/vnd.jupyter.widget-view+json": {
       "model_id": "f07b6e8866fd4b77bcc9a0c6dadd63a6",
       "version_major": 2,
       "version_minor": 0
      },
      "text/plain": [
       "第 45/100 轮:   0%|          | 0/7 [00:00<?, ?it/s]"
      ]
     },
     "metadata": {},
     "output_type": "display_data"
    },
    {
     "data": {
      "application/vnd.jupyter.widget-view+json": {
       "model_id": "410c640128cc44d1ad3e58887212fcaa",
       "version_major": 2,
       "version_minor": 0
      },
      "text/plain": [
       "第 46/100 轮:   0%|          | 0/7 [00:00<?, ?it/s]"
      ]
     },
     "metadata": {},
     "output_type": "display_data"
    },
    {
     "data": {
      "application/vnd.jupyter.widget-view+json": {
       "model_id": "8429075702f245a9b8163544cc0d1390",
       "version_major": 2,
       "version_minor": 0
      },
      "text/plain": [
       "第 47/100 轮:   0%|          | 0/7 [00:00<?, ?it/s]"
      ]
     },
     "metadata": {},
     "output_type": "display_data"
    },
    {
     "data": {
      "application/vnd.jupyter.widget-view+json": {
       "model_id": "a6bdb9895c6b4857a26cb751c77c6b6d",
       "version_major": 2,
       "version_minor": 0
      },
      "text/plain": [
       "第 48/100 轮:   0%|          | 0/7 [00:00<?, ?it/s]"
      ]
     },
     "metadata": {},
     "output_type": "display_data"
    },
    {
     "data": {
      "application/vnd.jupyter.widget-view+json": {
       "model_id": "7f89860dbf3b4c3593e1b1c753e5ca01",
       "version_major": 2,
       "version_minor": 0
      },
      "text/plain": [
       "第 49/100 轮:   0%|          | 0/7 [00:00<?, ?it/s]"
      ]
     },
     "metadata": {},
     "output_type": "display_data"
    },
    {
     "data": {
      "application/vnd.jupyter.widget-view+json": {
       "model_id": "0d67b9a980d44f27a4e2d6bde3697b48",
       "version_major": 2,
       "version_minor": 0
      },
      "text/plain": [
       "第 50/100 轮:   0%|          | 0/7 [00:00<?, ?it/s]"
      ]
     },
     "metadata": {},
     "output_type": "display_data"
    },
    {
     "data": {
      "application/vnd.jupyter.widget-view+json": {
       "model_id": "45496b1316f2492b97ccde9eeb23ea54",
       "version_major": 2,
       "version_minor": 0
      },
      "text/plain": [
       "第 51/100 轮:   0%|          | 0/7 [00:00<?, ?it/s]"
      ]
     },
     "metadata": {},
     "output_type": "display_data"
    },
    {
     "data": {
      "application/vnd.jupyter.widget-view+json": {
       "model_id": "dac4063706674769aa1cfb222dfebadf",
       "version_major": 2,
       "version_minor": 0
      },
      "text/plain": [
       "第 52/100 轮:   0%|          | 0/7 [00:00<?, ?it/s]"
      ]
     },
     "metadata": {},
     "output_type": "display_data"
    },
    {
     "data": {
      "application/vnd.jupyter.widget-view+json": {
       "model_id": "053c302f2fca4f429cb0a0e232dfe94b",
       "version_major": 2,
       "version_minor": 0
      },
      "text/plain": [
       "第 53/100 轮:   0%|          | 0/7 [00:00<?, ?it/s]"
      ]
     },
     "metadata": {},
     "output_type": "display_data"
    },
    {
     "data": {
      "application/vnd.jupyter.widget-view+json": {
       "model_id": "78d2ec28702140788753b1ff88018b4e",
       "version_major": 2,
       "version_minor": 0
      },
      "text/plain": [
       "第 54/100 轮:   0%|          | 0/7 [00:00<?, ?it/s]"
      ]
     },
     "metadata": {},
     "output_type": "display_data"
    },
    {
     "data": {
      "application/vnd.jupyter.widget-view+json": {
       "model_id": "386a3d49f04448d4b5d2b20e4bfc5736",
       "version_major": 2,
       "version_minor": 0
      },
      "text/plain": [
       "第 55/100 轮:   0%|          | 0/7 [00:00<?, ?it/s]"
      ]
     },
     "metadata": {},
     "output_type": "display_data"
    },
    {
     "data": {
      "application/vnd.jupyter.widget-view+json": {
       "model_id": "7aafa808477840f2a448ed51f8a37c15",
       "version_major": 2,
       "version_minor": 0
      },
      "text/plain": [
       "第 56/100 轮:   0%|          | 0/7 [00:00<?, ?it/s]"
      ]
     },
     "metadata": {},
     "output_type": "display_data"
    },
    {
     "data": {
      "application/vnd.jupyter.widget-view+json": {
       "model_id": "751358e25c79463f8dde34684f555a09",
       "version_major": 2,
       "version_minor": 0
      },
      "text/plain": [
       "第 57/100 轮:   0%|          | 0/7 [00:00<?, ?it/s]"
      ]
     },
     "metadata": {},
     "output_type": "display_data"
    },
    {
     "data": {
      "application/vnd.jupyter.widget-view+json": {
       "model_id": "4096d340d0884aeb94540dfde76f2929",
       "version_major": 2,
       "version_minor": 0
      },
      "text/plain": [
       "第 58/100 轮:   0%|          | 0/7 [00:00<?, ?it/s]"
      ]
     },
     "metadata": {},
     "output_type": "display_data"
    },
    {
     "data": {
      "application/vnd.jupyter.widget-view+json": {
       "model_id": "bfeaeb8fb6a147c59caeda3a7c84c56f",
       "version_major": 2,
       "version_minor": 0
      },
      "text/plain": [
       "第 59/100 轮:   0%|          | 0/7 [00:00<?, ?it/s]"
      ]
     },
     "metadata": {},
     "output_type": "display_data"
    },
    {
     "data": {
      "application/vnd.jupyter.widget-view+json": {
       "model_id": "bfbed1b0d4054f05a0fab9b931b68c54",
       "version_major": 2,
       "version_minor": 0
      },
      "text/plain": [
       "第 60/100 轮:   0%|          | 0/7 [00:00<?, ?it/s]"
      ]
     },
     "metadata": {},
     "output_type": "display_data"
    },
    {
     "data": {
      "application/vnd.jupyter.widget-view+json": {
       "model_id": "d1de5168494246be8c553f9d7ff1aa3f",
       "version_major": 2,
       "version_minor": 0
      },
      "text/plain": [
       "第 61/100 轮:   0%|          | 0/7 [00:00<?, ?it/s]"
      ]
     },
     "metadata": {},
     "output_type": "display_data"
    },
    {
     "data": {
      "application/vnd.jupyter.widget-view+json": {
       "model_id": "3409c0da5b97463ea66d51185c3e21ce",
       "version_major": 2,
       "version_minor": 0
      },
      "text/plain": [
       "第 62/100 轮:   0%|          | 0/7 [00:00<?, ?it/s]"
      ]
     },
     "metadata": {},
     "output_type": "display_data"
    },
    {
     "data": {
      "application/vnd.jupyter.widget-view+json": {
       "model_id": "d032c3a82e344f989a9bcb3ac0fadc36",
       "version_major": 2,
       "version_minor": 0
      },
      "text/plain": [
       "第 63/100 轮:   0%|          | 0/7 [00:00<?, ?it/s]"
      ]
     },
     "metadata": {},
     "output_type": "display_data"
    },
    {
     "data": {
      "application/vnd.jupyter.widget-view+json": {
       "model_id": "78fd4f244c9e4a60ba05e4885b77f9d0",
       "version_major": 2,
       "version_minor": 0
      },
      "text/plain": [
       "第 64/100 轮:   0%|          | 0/7 [00:00<?, ?it/s]"
      ]
     },
     "metadata": {},
     "output_type": "display_data"
    },
    {
     "data": {
      "application/vnd.jupyter.widget-view+json": {
       "model_id": "036a6c9d00a441a08417d6e2a7349faa",
       "version_major": 2,
       "version_minor": 0
      },
      "text/plain": [
       "第 65/100 轮:   0%|          | 0/7 [00:00<?, ?it/s]"
      ]
     },
     "metadata": {},
     "output_type": "display_data"
    },
    {
     "data": {
      "application/vnd.jupyter.widget-view+json": {
       "model_id": "933e6e8532d44f73b5061d0938450eb3",
       "version_major": 2,
       "version_minor": 0
      },
      "text/plain": [
       "第 66/100 轮:   0%|          | 0/7 [00:00<?, ?it/s]"
      ]
     },
     "metadata": {},
     "output_type": "display_data"
    },
    {
     "data": {
      "application/vnd.jupyter.widget-view+json": {
       "model_id": "59e1c2a50e804e10a11bae3f9680646e",
       "version_major": 2,
       "version_minor": 0
      },
      "text/plain": [
       "第 67/100 轮:   0%|          | 0/7 [00:00<?, ?it/s]"
      ]
     },
     "metadata": {},
     "output_type": "display_data"
    },
    {
     "data": {
      "application/vnd.jupyter.widget-view+json": {
       "model_id": "3e5819e3bb094935a0677f124c389f0e",
       "version_major": 2,
       "version_minor": 0
      },
      "text/plain": [
       "第 68/100 轮:   0%|          | 0/7 [00:00<?, ?it/s]"
      ]
     },
     "metadata": {},
     "output_type": "display_data"
    },
    {
     "data": {
      "application/vnd.jupyter.widget-view+json": {
       "model_id": "0d110b572d024a9ca0c8dcc4e2415a82",
       "version_major": 2,
       "version_minor": 0
      },
      "text/plain": [
       "第 69/100 轮:   0%|          | 0/7 [00:00<?, ?it/s]"
      ]
     },
     "metadata": {},
     "output_type": "display_data"
    },
    {
     "data": {
      "application/vnd.jupyter.widget-view+json": {
       "model_id": "03f82447a01741b7a7445e187aad965f",
       "version_major": 2,
       "version_minor": 0
      },
      "text/plain": [
       "第 70/100 轮:   0%|          | 0/7 [00:00<?, ?it/s]"
      ]
     },
     "metadata": {},
     "output_type": "display_data"
    },
    {
     "data": {
      "application/vnd.jupyter.widget-view+json": {
       "model_id": "c2af7c923fe647aea96c6e6f86019acf",
       "version_major": 2,
       "version_minor": 0
      },
      "text/plain": [
       "第 71/100 轮:   0%|          | 0/7 [00:00<?, ?it/s]"
      ]
     },
     "metadata": {},
     "output_type": "display_data"
    },
    {
     "data": {
      "application/vnd.jupyter.widget-view+json": {
       "model_id": "814398e5c32d44de8275ed842c1481ce",
       "version_major": 2,
       "version_minor": 0
      },
      "text/plain": [
       "第 72/100 轮:   0%|          | 0/7 [00:00<?, ?it/s]"
      ]
     },
     "metadata": {},
     "output_type": "display_data"
    },
    {
     "data": {
      "application/vnd.jupyter.widget-view+json": {
       "model_id": "e4cc3fa055e54029b3a4c25e0717cf1b",
       "version_major": 2,
       "version_minor": 0
      },
      "text/plain": [
       "第 73/100 轮:   0%|          | 0/7 [00:00<?, ?it/s]"
      ]
     },
     "metadata": {},
     "output_type": "display_data"
    },
    {
     "data": {
      "application/vnd.jupyter.widget-view+json": {
       "model_id": "d7d6c79a67794056a00a59caa88a51a4",
       "version_major": 2,
       "version_minor": 0
      },
      "text/plain": [
       "第 74/100 轮:   0%|          | 0/7 [00:00<?, ?it/s]"
      ]
     },
     "metadata": {},
     "output_type": "display_data"
    },
    {
     "data": {
      "application/vnd.jupyter.widget-view+json": {
       "model_id": "6f1076e0c8174b71b54ca0eb6235029a",
       "version_major": 2,
       "version_minor": 0
      },
      "text/plain": [
       "第 75/100 轮:   0%|          | 0/7 [00:00<?, ?it/s]"
      ]
     },
     "metadata": {},
     "output_type": "display_data"
    },
    {
     "data": {
      "application/vnd.jupyter.widget-view+json": {
       "model_id": "8e0a9aee839944129532303b7480cef1",
       "version_major": 2,
       "version_minor": 0
      },
      "text/plain": [
       "第 76/100 轮:   0%|          | 0/7 [00:00<?, ?it/s]"
      ]
     },
     "metadata": {},
     "output_type": "display_data"
    },
    {
     "data": {
      "application/vnd.jupyter.widget-view+json": {
       "model_id": "b63e40cc3b654d9ebddc3d10a8ff0bff",
       "version_major": 2,
       "version_minor": 0
      },
      "text/plain": [
       "第 77/100 轮:   0%|          | 0/7 [00:00<?, ?it/s]"
      ]
     },
     "metadata": {},
     "output_type": "display_data"
    },
    {
     "data": {
      "application/vnd.jupyter.widget-view+json": {
       "model_id": "ca331b45749b46fdb8e6e8cf91e5805b",
       "version_major": 2,
       "version_minor": 0
      },
      "text/plain": [
       "第 78/100 轮:   0%|          | 0/7 [00:00<?, ?it/s]"
      ]
     },
     "metadata": {},
     "output_type": "display_data"
    },
    {
     "data": {
      "application/vnd.jupyter.widget-view+json": {
       "model_id": "1b59b1cb74404f82b18c7015eca6fcc1",
       "version_major": 2,
       "version_minor": 0
      },
      "text/plain": [
       "第 79/100 轮:   0%|          | 0/7 [00:00<?, ?it/s]"
      ]
     },
     "metadata": {},
     "output_type": "display_data"
    },
    {
     "data": {
      "application/vnd.jupyter.widget-view+json": {
       "model_id": "b21ac61179b748209e13b1fd5e0b9983",
       "version_major": 2,
       "version_minor": 0
      },
      "text/plain": [
       "第 80/100 轮:   0%|          | 0/7 [00:00<?, ?it/s]"
      ]
     },
     "metadata": {},
     "output_type": "display_data"
    },
    {
     "data": {
      "application/vnd.jupyter.widget-view+json": {
       "model_id": "fb1b949f16d1498ba94f7507e581d93d",
       "version_major": 2,
       "version_minor": 0
      },
      "text/plain": [
       "第 81/100 轮:   0%|          | 0/7 [00:00<?, ?it/s]"
      ]
     },
     "metadata": {},
     "output_type": "display_data"
    },
    {
     "data": {
      "application/vnd.jupyter.widget-view+json": {
       "model_id": "f1b4559bf6934c57af08fce71f119559",
       "version_major": 2,
       "version_minor": 0
      },
      "text/plain": [
       "第 82/100 轮:   0%|          | 0/7 [00:00<?, ?it/s]"
      ]
     },
     "metadata": {},
     "output_type": "display_data"
    },
    {
     "data": {
      "application/vnd.jupyter.widget-view+json": {
       "model_id": "ae0ce657c20a40f18eef2d60bbeedcc9",
       "version_major": 2,
       "version_minor": 0
      },
      "text/plain": [
       "第 83/100 轮:   0%|          | 0/7 [00:00<?, ?it/s]"
      ]
     },
     "metadata": {},
     "output_type": "display_data"
    },
    {
     "data": {
      "application/vnd.jupyter.widget-view+json": {
       "model_id": "b3df11bae75c4ab1b92826894e372f75",
       "version_major": 2,
       "version_minor": 0
      },
      "text/plain": [
       "第 84/100 轮:   0%|          | 0/7 [00:00<?, ?it/s]"
      ]
     },
     "metadata": {},
     "output_type": "display_data"
    },
    {
     "data": {
      "application/vnd.jupyter.widget-view+json": {
       "model_id": "0ddf5339517d44a0a1754460d48687bd",
       "version_major": 2,
       "version_minor": 0
      },
      "text/plain": [
       "第 85/100 轮:   0%|          | 0/7 [00:00<?, ?it/s]"
      ]
     },
     "metadata": {},
     "output_type": "display_data"
    },
    {
     "data": {
      "application/vnd.jupyter.widget-view+json": {
       "model_id": "b71fa87262894f36ad7f4cf4bc778a6a",
       "version_major": 2,
       "version_minor": 0
      },
      "text/plain": [
       "第 86/100 轮:   0%|          | 0/7 [00:00<?, ?it/s]"
      ]
     },
     "metadata": {},
     "output_type": "display_data"
    },
    {
     "data": {
      "application/vnd.jupyter.widget-view+json": {
       "model_id": "8cbd0b569bca44bc89d74ffeb5a8d5db",
       "version_major": 2,
       "version_minor": 0
      },
      "text/plain": [
       "第 87/100 轮:   0%|          | 0/7 [00:00<?, ?it/s]"
      ]
     },
     "metadata": {},
     "output_type": "display_data"
    },
    {
     "data": {
      "application/vnd.jupyter.widget-view+json": {
       "model_id": "ffeaeac436dc42e4a38112045e53ff9a",
       "version_major": 2,
       "version_minor": 0
      },
      "text/plain": [
       "第 88/100 轮:   0%|          | 0/7 [00:00<?, ?it/s]"
      ]
     },
     "metadata": {},
     "output_type": "display_data"
    },
    {
     "data": {
      "application/vnd.jupyter.widget-view+json": {
       "model_id": "acf569d22aa74cb092e2658a020a1507",
       "version_major": 2,
       "version_minor": 0
      },
      "text/plain": [
       "第 89/100 轮:   0%|          | 0/7 [00:00<?, ?it/s]"
      ]
     },
     "metadata": {},
     "output_type": "display_data"
    },
    {
     "data": {
      "application/vnd.jupyter.widget-view+json": {
       "model_id": "1eb94abeb7f449c4b6e50d5e7e308794",
       "version_major": 2,
       "version_minor": 0
      },
      "text/plain": [
       "第 90/100 轮:   0%|          | 0/7 [00:00<?, ?it/s]"
      ]
     },
     "metadata": {},
     "output_type": "display_data"
    },
    {
     "data": {
      "application/vnd.jupyter.widget-view+json": {
       "model_id": "9ea919589bbd49a0b8574935efc643fc",
       "version_major": 2,
       "version_minor": 0
      },
      "text/plain": [
       "第 91/100 轮:   0%|          | 0/7 [00:00<?, ?it/s]"
      ]
     },
     "metadata": {},
     "output_type": "display_data"
    },
    {
     "data": {
      "application/vnd.jupyter.widget-view+json": {
       "model_id": "171ffff6444a42c48b09f66802dcda5f",
       "version_major": 2,
       "version_minor": 0
      },
      "text/plain": [
       "第 92/100 轮:   0%|          | 0/7 [00:00<?, ?it/s]"
      ]
     },
     "metadata": {},
     "output_type": "display_data"
    },
    {
     "data": {
      "application/vnd.jupyter.widget-view+json": {
       "model_id": "75eaf05f7bf94a1c819751788d75c565",
       "version_major": 2,
       "version_minor": 0
      },
      "text/plain": [
       "第 93/100 轮:   0%|          | 0/7 [00:00<?, ?it/s]"
      ]
     },
     "metadata": {},
     "output_type": "display_data"
    },
    {
     "data": {
      "application/vnd.jupyter.widget-view+json": {
       "model_id": "7a5b6e429bbe414481abe667932e3732",
       "version_major": 2,
       "version_minor": 0
      },
      "text/plain": [
       "第 94/100 轮:   0%|          | 0/7 [00:00<?, ?it/s]"
      ]
     },
     "metadata": {},
     "output_type": "display_data"
    },
    {
     "data": {
      "application/vnd.jupyter.widget-view+json": {
       "model_id": "f65e760153e547219bb79a98ad59192c",
       "version_major": 2,
       "version_minor": 0
      },
      "text/plain": [
       "第 95/100 轮:   0%|          | 0/7 [00:00<?, ?it/s]"
      ]
     },
     "metadata": {},
     "output_type": "display_data"
    },
    {
     "data": {
      "application/vnd.jupyter.widget-view+json": {
       "model_id": "cb34d7980bd54d5eb9d97728b6e5481d",
       "version_major": 2,
       "version_minor": 0
      },
      "text/plain": [
       "第 96/100 轮:   0%|          | 0/7 [00:00<?, ?it/s]"
      ]
     },
     "metadata": {},
     "output_type": "display_data"
    },
    {
     "data": {
      "application/vnd.jupyter.widget-view+json": {
       "model_id": "233bf49d74c845fd9d50ae0d694b73b1",
       "version_major": 2,
       "version_minor": 0
      },
      "text/plain": [
       "第 97/100 轮:   0%|          | 0/7 [00:00<?, ?it/s]"
      ]
     },
     "metadata": {},
     "output_type": "display_data"
    },
    {
     "data": {
      "application/vnd.jupyter.widget-view+json": {
       "model_id": "94fbbd21a3974a8986456c91f136ea2f",
       "version_major": 2,
       "version_minor": 0
      },
      "text/plain": [
       "第 98/100 轮:   0%|          | 0/7 [00:00<?, ?it/s]"
      ]
     },
     "metadata": {},
     "output_type": "display_data"
    },
    {
     "data": {
      "application/vnd.jupyter.widget-view+json": {
       "model_id": "5e24335a1d944ac7856b335d12d82f00",
       "version_major": 2,
       "version_minor": 0
      },
      "text/plain": [
       "第 99/100 轮:   0%|          | 0/7 [00:00<?, ?it/s]"
      ]
     },
     "metadata": {},
     "output_type": "display_data"
    },
    {
     "data": {
      "application/vnd.jupyter.widget-view+json": {
       "model_id": "827821ee2c6a4f11988dc383e4b4026b",
       "version_major": 2,
       "version_minor": 0
      },
      "text/plain": [
       "第 100/100 轮:   0%|          | 0/7 [00:00<?, ?it/s]"
      ]
     },
     "metadata": {},
     "output_type": "display_data"
    },
    {
     "name": "stdout",
     "output_type": "stream",
     "text": [
      "Fold 5 - Epoch 100: Best Correlation Coefficient: 0.8714\n",
      "代码执行时间: 28.680939197540283 秒\n"
     ]
    }
   ],
   "source": [
    "start_time = time.time()\n",
    "x = X_train_reduction\n",
    "y = Y_train\n",
    "for fold, (train_index, test_index) in enumerate(kf.split(x)):\n",
    "    x_train, x_test = x[train_index], x[test_index]\n",
    "    y_train, y_test = y[train_index], y[test_index]\n",
    "\n",
    "\n",
    "    scaler = StandardScaler()\n",
    "    x_train = scaler.fit_transform(x_train)\n",
    "    x_test = scaler.transform(x_test)\n",
    "\n",
    "    # scaler_model = StandardScaler()\n",
    "    # y_train = scaler_model.fit_transform(y_train.reshape(-1, 1)).flatten()\n",
    "    # y_test = scaler_model.transform(y_test.reshape(-1, 1)).flatten()\n",
    "\n",
    "    # 转换为tensor\n",
    "    x_train_tensor = torch.from_numpy(x_train).float().to(DEVICE)\n",
    "    y_train_tensor = torch.from_numpy(y_train).float().to(DEVICE)\n",
    "    x_test_tensor = torch.from_numpy(x_test).float().to(DEVICE)\n",
    "    y_test_tensor = torch.from_numpy(y_test).float().to(DEVICE)\n",
    "\n",
    "    train_data = TensorDataset(x_train_tensor, y_train_tensor)\n",
    "    test_data = TensorDataset(x_test_tensor, y_test_tensor)\n",
    "\n",
    "    train_loader = DataLoader(train_data, batch_size, shuffle=True)\n",
    "    test_loader = DataLoader(test_data, batch_size, shuffle=False)\n",
    "\n",
    "    model = SelfAttention(num_attention_heads, x_train.shape[1], hidden_dim, output_dim,\n",
    "                          hidden_dropout_prob=hidden_dropout_prob, kernel_size=kernel_size,\n",
    "                          attention_probs_dropout_prob=attention_probs_dropout_prob).to(DEVICE)\n",
    "    loss_function = torch.nn.MSELoss()\n",
    "    optimizer = torch.optim.Adam(model.parameters(), lr=LR)\n",
    "\n",
    "    scheduler = optim.lr_scheduler.ReduceLROnPlateau(optimizer, mode='min', factor=0.1, patience=10, verbose=True)\n",
    "\n",
    "    best_corr_coef = -1\n",
    "\n",
    "    for epoch in range(epochs):\n",
    "        model.train()\n",
    "        running_loss = 0\n",
    "        train_bar = tqdm(train_loader, desc=f'第 {epoch + 1}/{epochs} 轮')\n",
    "        for data in train_bar:\n",
    "            x_batch, y_batch = data\n",
    "            optimizer.zero_grad()\n",
    "            y_pred = model(x_batch)\n",
    "            loss = loss_function(y_pred, y_batch.reshape(-1, 1))\n",
    "            loss.backward()\n",
    "            optimizer.step()\n",
    "\n",
    "            running_loss += loss.item()\n",
    "\n",
    "    model.eval()\n",
    "    y_test_preds, y_test_trues = [], []\n",
    "    with torch.no_grad():\n",
    "        for x_batch, y_batch in test_loader:\n",
    "            y_test_pred = model(x_batch)\n",
    "            y_test_preds.extend(y_test_pred.cpu().numpy().reshape(-1).tolist())\n",
    "            y_test_trues.extend(y_batch.cpu().numpy().reshape(-1).tolist())\n",
    "\n",
    "    corr_coef = np.corrcoef(y_test_preds, y_test_trues)[0, 1]\n",
    "    if corr_coef > best_corr_coef:\n",
    "        best_corr_coef = corr_coef\n",
    "        torch.save(model.state_dict(), save_path)\n",
    "    best_corr_coefs.append(best_corr_coef)\n",
    "\n",
    "    print(f'Fold {fold+1} - Epoch {epoch+1}: Best Correlation Coefficient: {best_corr_coef:.4f}')\n",
    "\n",
    "end_time = time.time()\n",
    "execution_time = end_time - start_time\n",
    "print(f\"time: {execution_time} 秒\")\n"
   ]
  },
  {
   "cell_type": "code",
   "execution_count": 11,
   "id": "91f3e331-b5f0-4644-a53f-ad1db78f3e32",
   "metadata": {},
   "outputs": [
    {
     "name": "stdout",
     "output_type": "stream",
     "text": [
      "代码执行时间: 28.680939197540283 秒\n"
     ]
    }
   ],
   "source": [
    "print(f\"time: {execution_time} 秒\")"
   ]
  },
  {
   "cell_type": "code",
   "execution_count": 12,
   "id": "e2e17e36-3b9f-4b37-9dbf-e71fedb02045",
   "metadata": {},
   "outputs": [
    {
     "data": {
      "text/plain": [
       "[0.7881537346009568,\n",
       " 0.877264075844193,\n",
       " 0.8372513083440151,\n",
       " 0.6792359067463637,\n",
       " 0.8714020593680306]"
      ]
     },
     "execution_count": 12,
     "metadata": {},
     "output_type": "execute_result"
    }
   ],
   "source": [
    "best_corr_coefs"
   ]
  },
  {
   "cell_type": "code",
   "execution_count": 13,
   "id": "5c2deb0e-9d3b-434d-a909-c4c15984dba9",
   "metadata": {},
   "outputs": [
    {
     "name": "stdout",
     "output_type": "stream",
     "text": [
      "0.8106614169807118\n"
     ]
    },
    {
     "data": {
      "text/plain": [
       "(0.8106614169807118,\n",
       " 0.006652905658622085,\n",
       " 0.08156534594190161,\n",
       " 0.03647713162687572)"
      ]
     },
     "execution_count": 13,
     "metadata": {},
     "output_type": "execute_result"
    }
   ],
   "source": [
    "best_corr_coefs\n",
    "average = sum(best_corr_coefs) / len(best_corr_coefs)\n",
    "print(average)\n",
    "\n",
    "import numpy as np\n",
    "\n",
    "performance_scores = np.array(best_corr_coefs)\n",
    "\n",
    "mean_score = np.mean(performance_scores)\n",
    "\n",
    "sample_variance = np.var(performance_scores, ddof=1)\n",
    "\n",
    "sample_std_dev = np.sqrt(sample_variance)\n",
    "\n",
    "standard_error = sample_std_dev / np.sqrt(len(performance_scores))\n",
    "\n",
    "mean_score, sample_variance, sample_std_dev, standard_error\n"
   ]
  },
  {
   "cell_type": "code",
   "execution_count": 14,
   "id": "b6dd9008-234a-4e04-957e-72b0ca161709",
   "metadata": {},
   "outputs": [
    {
     "data": {
      "text/plain": [
       "<All keys matched successfully>"
      ]
     },
     "execution_count": 14,
     "metadata": {},
     "output_type": "execute_result"
    }
   ],
   "source": [
    "### load_model\n",
    "model_d = SelfAttention(num_attention_heads, \n",
    "                      X_train_reduction.shape[1], \n",
    "                      hidden_dim, \n",
    "                      output_dim,\n",
    "                      hidden_dropout_prob=hidden_dropout_prob,\n",
    "                      kernel_size = kernel_size,\n",
    "                      attention_probs_dropout_prob=attention_probs_dropout_prob).to(DEVICE)\n",
    "model_d.load_state_dict(torch.load(\"./cn_at_d.pth\"))"
   ]
  },
  {
   "cell_type": "code",
   "execution_count": 15,
   "id": "be0cfce1-af24-4b66-99e2-d87869eeac2a",
   "metadata": {},
   "outputs": [],
   "source": [
    "X_test_tensor = torch.from_numpy(X_test_reduction).to(torch.float32).to(DEVICE)\n",
    "Y_test_tensor = torch.from_numpy(Y_test).to(torch.float32).to(DEVICE)"
   ]
  },
  {
   "cell_type": "code",
   "execution_count": 16,
   "id": "27736c37-6047-40ce-8b95-35056d7f29a2",
   "metadata": {},
   "outputs": [
    {
     "name": "stdout",
     "output_type": "stream",
     "text": [
      "test_corr 0.7910306750198465\n"
     ]
    }
   ],
   "source": [
    "model_d.eval()\n",
    "with torch.no_grad():\n",
    "    a_output = model_d(X_test_tensor)\n",
    "yuce = a_output.cpu().detach().numpy().reshape(-1).tolist()\n",
    "zhen = Y_test_tensor.cpu().detach().numpy().reshape(-1).tolist()\n",
    "test_corr_coef = np.corrcoef(zhen, yuce)[0,1]\n",
    "print(\"test_corr\",test_corr_coef)\n"
   ]
  },
  {
   "cell_type": "code",
   "execution_count": null,
   "id": "5e8cff9a-9ec4-49b5-ae94-2025e8f420ad",
   "metadata": {},
   "outputs": [],
   "source": []
  },
  {
   "cell_type": "code",
   "execution_count": null,
   "id": "f18a2af5-a182-47c5-8c57-8767c5ce7f31",
   "metadata": {},
   "outputs": [],
   "source": []
  },
  {
   "cell_type": "code",
   "execution_count": null,
   "id": "3027897a-5bee-4d39-b341-afacec070c0c",
   "metadata": {},
   "outputs": [],
   "source": []
  },
  {
   "cell_type": "code",
   "execution_count": null,
   "id": "01a0ffff-1af3-402c-89b1-74a032ef2475",
   "metadata": {},
   "outputs": [],
   "source": []
  },
  {
   "cell_type": "code",
   "execution_count": null,
   "id": "1ed9b807-861d-4989-9f8b-724af4a86e10",
   "metadata": {},
   "outputs": [],
   "source": []
  },
  {
   "cell_type": "code",
   "execution_count": null,
   "id": "233a883f-de68-45b4-822b-5704793552be",
   "metadata": {},
   "outputs": [],
   "source": []
  }
 ],
 "metadata": {
  "kernelspec": {
   "display_name": "Python [conda env:pytorch2]",
   "language": "python",
   "name": "conda-env-pytorch2-py"
  },
  "language_info": {
   "codemirror_mode": {
    "name": "ipython",
    "version": 3
   },
   "file_extension": ".py",
   "mimetype": "text/x-python",
   "name": "python",
   "nbconvert_exporter": "python",
   "pygments_lexer": "ipython3",
   "version": "3.8.16"
  }
 },
 "nbformat": 4,
 "nbformat_minor": 5
}
