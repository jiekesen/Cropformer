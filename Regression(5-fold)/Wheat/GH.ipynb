{
 "cells": [
  {
   "cell_type": "code",
   "execution_count": 1,
   "id": "0dd18f1a-a65d-4f72-b182-bdf9580a6ea7",
   "metadata": {},
   "outputs": [],
   "source": [
    "import pandas as pd\n",
    "import torch.nn as nn\n",
    "import torch\n",
    "import time\n",
    "import os\n",
    "import matplotlib.pyplot as plt\n",
    "import numpy as np\n",
    "import pandas as pd\n",
    "import torch.nn as nn\n",
    "from torch.nn import BatchNorm1d\n",
    "from torch.utils.data import TensorDataset\n",
    "from tqdm import tqdm\n",
    "import torch.nn.functional as F\n",
    "from sklearn.model_selection import KFold, train_test_split\n",
    "from torch.utils.data import TensorDataset, DataLoader\n",
    "from sklearn.preprocessing import StandardScaler\n",
    "import torch.optim as optim\n",
    "from tqdm.auto import tqdm"
   ]
  },
  {
   "cell_type": "code",
   "execution_count": 2,
   "id": "3ee24023-f0e1-42f7-8ba5-c4577ebe6ae4",
   "metadata": {},
   "outputs": [],
   "source": [
    "class LayerNorm(nn.Module):\n",
    "    def __init__(self, hidden_size, eps=1e-12):\n",
    "        \"\"\"Construct a layernorm module in the TF style (epsilon inside the square root).\n",
    "        \"\"\"\n",
    "        super(LayerNorm, self).__init__()\n",
    "        self.weight = nn.Parameter(torch.ones(hidden_size))\n",
    "        self.bias = nn.Parameter(torch.zeros(hidden_size))\n",
    "        self.variance_epsilon = eps\n",
    "\n",
    "    def forward(self, x):\n",
    "        u = x.mean(-1, keepdim=True)\n",
    "        s = (x - u).pow(2).mean(-1, keepdim=True)\n",
    "        x = (x - u) / torch.sqrt(s + self.variance_epsilon)\n",
    "        return self.weight * x + self.bias"
   ]
  },
  {
   "cell_type": "code",
   "execution_count": 3,
   "id": "c4c12e4b-10cb-4ac2-a8ae-3b59178f6dfc",
   "metadata": {},
   "outputs": [],
   "source": [
    "\n",
    "class SelfAttention(nn.Module):\n",
    "    def __init__(self, num_attention_heads, input_size, hidden_size, output_dim=1, kernel_size=3,\n",
    "                 hidden_dropout_prob=0.5, attention_probs_dropout_prob=0.5):\n",
    "        super(SelfAttention, self).__init__()\n",
    "        input_size = input_size - kernel_size + 1\n",
    "\n",
    "        if hidden_size % num_attention_heads != 0:\n",
    "            raise ValueError(\n",
    "                \"The hidden size (%d) is not a multiple of the number of attention \"\n",
    "                \"heads (%d)\" % (hidden_size, num_attention_heads))\n",
    "\n",
    "        self.num_attention_heads = num_attention_heads\n",
    "        self.attention_head_size = int(hidden_size / num_attention_heads)\n",
    "        self.all_head_size = hidden_size\n",
    "\n",
    "\n",
    "        self.query = nn.Linear(input_size, self.all_head_size)\n",
    "        self.key = nn.Linear(input_size, self.all_head_size)\n",
    "        self.value = nn.Linear(input_size, self.all_head_size)\n",
    "\n",
    "        self.attn_dropout = nn.Dropout(attention_probs_dropout_prob)\n",
    "        self.out_dropout = nn.Dropout(hidden_dropout_prob)\n",
    "\n",
    "        self.dense = nn.Linear(hidden_size, input_size)\n",
    "\n",
    "\n",
    "        self.LayerNorm = LayerNorm(input_size, eps=1e-12)\n",
    "\n",
    "        self.out = nn.Linear(input_size, output_dim)\n",
    "\n",
    "        self.cnn = nn.Conv1d(1, 1, kernel_size, stride=1)\n",
    "        self.relu = nn.ReLU()\n",
    "        self.LeakyReLU = nn.LeakyReLU()\n",
    "        self.dropout = nn.Dropout(0.5)\n",
    "\n",
    "    def transpose_for_scores(self, x):\n",
    "        new_x_shape = x.size()[:-1] + (self.num_attention_heads, self.attention_head_size)\n",
    "        x = x.view(*new_x_shape)\n",
    "        return x.permute(0, 2, 1, 3)\n",
    "\n",
    "    def forward(self, input_tensor): #input tensor (128,10000)\n",
    "        cnn_hidden = self.cnn(input_tensor.view(input_tensor.size(0), 1, -1))#(128,1,9998)\n",
    "        cnn_hidden = self.LeakyReLU(cnn_hidden)\n",
    "\n",
    "        cnn_hidden = self.dropout(cnn_hidden)\n",
    "\n",
    "        input_tensor = cnn_hidden\n",
    "        self.cnn_result = input_tensor\n",
    "\n",
    "        mixed_query_layer = self.query(input_tensor)\n",
    "        mixed_key_layer = self.key(input_tensor)\n",
    "        mixed_value_layer = self.value(input_tensor)\n",
    "\n",
    "        self.mixed_query_layer_ = mixed_query_layer\n",
    "        self.mixed_key_layer_ = mixed_key_layer\n",
    "        self.mixed_value_layer_ = mixed_value_layer\n",
    "\n",
    "        query_layer = self.transpose_for_scores(mixed_query_layer)\n",
    "        key_layer = self.transpose_for_scores(mixed_key_layer)\n",
    "        value_layer = self.transpose_for_scores(mixed_value_layer)\n",
    "\n",
    "        self.query_layer_ = query_layer\n",
    "        self.key_layer_ = key_layer\n",
    "        self.value_layer_ = value_layer\n",
    "\n",
    "        attention_scores = torch.matmul(query_layer, key_layer.transpose(-1, -2))\n",
    "        attention_scores = attention_scores / np.sqrt(self.attention_head_size)\n",
    "        self.attention_scores_ = attention_scores\n",
    "        # Normalize the attention scores to probabilities.\n",
    "        attention_probs = nn.Softmax(dim=-1)(attention_scores)\n",
    "        self.attention_probs_ = attention_probs\n",
    "        attention_probs = self.attn_dropout(attention_probs)\n",
    "        self.attention_probs__ = attention_probs\n",
    "\n",
    "        context_layer = torch.matmul(attention_probs, value_layer)\n",
    "        self.context_layer_ = context_layer\n",
    "\n",
    "        context_layer = context_layer.permute(0, 2, 1, 3).contiguous()\n",
    "        self.context_layer__ = context_layer\n",
    "\n",
    "        new_context_layer_shape = context_layer.size()[:-2] + (self.all_head_size,)\n",
    "        self.new_context_layer_shape_ = new_context_layer_shape\n",
    "\n",
    "        context_layer = context_layer.view(*new_context_layer_shape)\n",
    "        self.context_layer3 = context_layer\n",
    "\n",
    "\n",
    "        hidden_states = self.dense(context_layer)\n",
    "        self.h1 = hidden_states\n",
    "\n",
    "        hidden_states = self.out_dropout(hidden_states) #128，1，9998\n",
    "        self.h2 = hidden_states\n",
    "\n",
    "        hidden_states = self.LayerNorm(hidden_states + input_tensor) #128，1，9998\n",
    "        self.h3 = hidden_states\n",
    "\n",
    "        output = self.out(self.LeakyReLU(hidden_states.view(hidden_states.size(0), -1)))\n",
    "        self.o = output\n",
    "        return output\n"
   ]
  },
  {
   "cell_type": "code",
   "execution_count": 4,
   "id": "8f8af6c7-da53-4efb-bf93-786cd178e114",
   "metadata": {},
   "outputs": [
    {
     "name": "stdout",
     "output_type": "stream",
     "text": [
      "Device used: cuda\n"
     ]
    }
   ],
   "source": [
    "np.random.seed(42)\n",
    "torch.manual_seed(42)\n",
    "\n",
    "DEVICE = torch.device('cuda' if torch.cuda.is_available() else 'cpu')\n",
    "print(f'Device used: {DEVICE}')\n",
    "is_scaler = False\n",
    "batch_size = 128  \n",
    "hidden_dim = 256  \n",
    "output_dim = 1  \n",
    "num_attention_heads = 8\n",
    "kernel_size = 3\n",
    "best_corr_coef = -1\n",
    "LR = 0.0001\n",
    "epochs = 100\n",
    "hidden_dropout_prob=0.5\n",
    "attention_probs_dropout_prob = 0.5"
   ]
  },
  {
   "cell_type": "code",
   "execution_count": 5,
   "id": "a6056a17-8132-478d-8e66-00e392ce7f23",
   "metadata": {},
   "outputs": [],
   "source": [
    "data = pd.read_csv(\"./data_gh.csv\")\n",
    "label = pd.read_csv(\"./pheno.csv\")"
   ]
  },
  {
   "cell_type": "code",
   "execution_count": 6,
   "id": "77e3c887-5e64-45b1-b966-c9e23c053d89",
   "metadata": {},
   "outputs": [],
   "source": [
    "label = label[\"Hard\"]"
   ]
  },
  {
   "cell_type": "code",
   "execution_count": 7,
   "id": "52d11fc7-3999-4669-8eaa-d1c3b924306e",
   "metadata": {},
   "outputs": [],
   "source": [
    "X_train_reduction, X_test_reduction, Y_train, Y_test = train_test_split(data, label,test_size=0.2, random_state=2)"
   ]
  },
  {
   "cell_type": "code",
   "execution_count": 8,
   "id": "167df8ae-114a-4a5a-93ff-9d421f85827e",
   "metadata": {},
   "outputs": [],
   "source": [
    "Y_train = pd.DataFrame(Y_train)\n",
    "Y_test = pd.DataFrame(Y_test)\n",
    "Y_train = Y_train.values.astype(float)\n",
    "Y_test = Y_test.values.astype(float)\n",
    "X_train_reduction = pd.DataFrame(X_train_reduction)\n",
    "X_test_reduction = pd.DataFrame(X_test_reduction)\n",
    "X_train_reduction = X_train_reduction.values.astype(float)\n",
    "X_test_reduction = X_test_reduction.values.astype(float)"
   ]
  },
  {
   "cell_type": "code",
   "execution_count": null,
   "id": "f3167016-9dc7-400e-a52b-3e89510dd8d4",
   "metadata": {},
   "outputs": [],
   "source": []
  },
  {
   "cell_type": "code",
   "execution_count": 9,
   "id": "c68acb94-3f9d-4b42-bcc0-417544e4462d",
   "metadata": {},
   "outputs": [
    {
     "data": {
      "text/plain": [
       "<torch._C.Generator at 0x7f9cda0967b0>"
      ]
     },
     "execution_count": 9,
     "metadata": {},
     "output_type": "execute_result"
    }
   ],
   "source": [
    "np.random.seed(42)\n",
    "torch.manual_seed(42)"
   ]
  },
  {
   "cell_type": "code",
   "execution_count": 10,
   "id": "7bd5b6f9-c52a-4421-a639-571f5219debc",
   "metadata": {},
   "outputs": [],
   "source": [
    "save_path = './cn_at_hard.pth'"
   ]
  },
  {
   "cell_type": "code",
   "execution_count": 11,
   "id": "bc25547a-8a15-45e1-b24d-6a3816416be7",
   "metadata": {},
   "outputs": [],
   "source": [
    "kf = KFold(n_splits=5, shuffle=True, random_state=42)\n",
    "\n",
    "best_corr_coefs = []"
   ]
  },
  {
   "cell_type": "code",
   "execution_count": 12,
   "id": "56bd04f5-5af5-4369-8c02-dc306b0f73b1",
   "metadata": {},
   "outputs": [
    {
     "data": {
      "application/vnd.jupyter.widget-view+json": {
       "model_id": "816ff1e0f4b9423491cbdb57e558f174",
       "version_major": 2,
       "version_minor": 0
      },
      "text/plain": [
       "第 1/100 轮:   0%|          | 0/10 [00:00<?, ?it/s]"
      ]
     },
     "metadata": {},
     "output_type": "display_data"
    },
    {
     "data": {
      "application/vnd.jupyter.widget-view+json": {
       "model_id": "8d9fe24257e84e7cb28bc26d161a5c3b",
       "version_major": 2,
       "version_minor": 0
      },
      "text/plain": [
       "第 2/100 轮:   0%|          | 0/10 [00:00<?, ?it/s]"
      ]
     },
     "metadata": {},
     "output_type": "display_data"
    },
    {
     "data": {
      "application/vnd.jupyter.widget-view+json": {
       "model_id": "4274fd9294ee4e23829e2167b659b0aa",
       "version_major": 2,
       "version_minor": 0
      },
      "text/plain": [
       "第 3/100 轮:   0%|          | 0/10 [00:00<?, ?it/s]"
      ]
     },
     "metadata": {},
     "output_type": "display_data"
    },
    {
     "data": {
      "application/vnd.jupyter.widget-view+json": {
       "model_id": "34d10de4497d4ea4aeb941b4d92bf0c0",
       "version_major": 2,
       "version_minor": 0
      },
      "text/plain": [
       "第 4/100 轮:   0%|          | 0/10 [00:00<?, ?it/s]"
      ]
     },
     "metadata": {},
     "output_type": "display_data"
    },
    {
     "data": {
      "application/vnd.jupyter.widget-view+json": {
       "model_id": "e6a491966b2043e0a97f4d3c796c8d09",
       "version_major": 2,
       "version_minor": 0
      },
      "text/plain": [
       "第 5/100 轮:   0%|          | 0/10 [00:00<?, ?it/s]"
      ]
     },
     "metadata": {},
     "output_type": "display_data"
    },
    {
     "data": {
      "application/vnd.jupyter.widget-view+json": {
       "model_id": "abaf5b2ed4304db78c64d521b3a27423",
       "version_major": 2,
       "version_minor": 0
      },
      "text/plain": [
       "第 6/100 轮:   0%|          | 0/10 [00:00<?, ?it/s]"
      ]
     },
     "metadata": {},
     "output_type": "display_data"
    },
    {
     "data": {
      "application/vnd.jupyter.widget-view+json": {
       "model_id": "63374093a081470e8343b36cdb576115",
       "version_major": 2,
       "version_minor": 0
      },
      "text/plain": [
       "第 7/100 轮:   0%|          | 0/10 [00:00<?, ?it/s]"
      ]
     },
     "metadata": {},
     "output_type": "display_data"
    },
    {
     "data": {
      "application/vnd.jupyter.widget-view+json": {
       "model_id": "bd87e95f9c8b41c8b02be6830fd096d9",
       "version_major": 2,
       "version_minor": 0
      },
      "text/plain": [
       "第 8/100 轮:   0%|          | 0/10 [00:00<?, ?it/s]"
      ]
     },
     "metadata": {},
     "output_type": "display_data"
    },
    {
     "data": {
      "application/vnd.jupyter.widget-view+json": {
       "model_id": "d9986c8e9c9c43978df85f6fa2f46df5",
       "version_major": 2,
       "version_minor": 0
      },
      "text/plain": [
       "第 9/100 轮:   0%|          | 0/10 [00:00<?, ?it/s]"
      ]
     },
     "metadata": {},
     "output_type": "display_data"
    },
    {
     "data": {
      "application/vnd.jupyter.widget-view+json": {
       "model_id": "6cf0717c2138438d99e37f7b20a3d2b9",
       "version_major": 2,
       "version_minor": 0
      },
      "text/plain": [
       "第 10/100 轮:   0%|          | 0/10 [00:00<?, ?it/s]"
      ]
     },
     "metadata": {},
     "output_type": "display_data"
    },
    {
     "data": {
      "application/vnd.jupyter.widget-view+json": {
       "model_id": "a41e229eb2734f85ac817188a9f1f0cc",
       "version_major": 2,
       "version_minor": 0
      },
      "text/plain": [
       "第 11/100 轮:   0%|          | 0/10 [00:00<?, ?it/s]"
      ]
     },
     "metadata": {},
     "output_type": "display_data"
    },
    {
     "data": {
      "application/vnd.jupyter.widget-view+json": {
       "model_id": "43b5ac493c884d158a3ed35d38e1035f",
       "version_major": 2,
       "version_minor": 0
      },
      "text/plain": [
       "第 12/100 轮:   0%|          | 0/10 [00:00<?, ?it/s]"
      ]
     },
     "metadata": {},
     "output_type": "display_data"
    },
    {
     "data": {
      "application/vnd.jupyter.widget-view+json": {
       "model_id": "45c8ce34f37947e889ae5ecf330d2a04",
       "version_major": 2,
       "version_minor": 0
      },
      "text/plain": [
       "第 13/100 轮:   0%|          | 0/10 [00:00<?, ?it/s]"
      ]
     },
     "metadata": {},
     "output_type": "display_data"
    },
    {
     "data": {
      "application/vnd.jupyter.widget-view+json": {
       "model_id": "c8673a1b2c22487cb7041e8fa2d09c52",
       "version_major": 2,
       "version_minor": 0
      },
      "text/plain": [
       "第 14/100 轮:   0%|          | 0/10 [00:00<?, ?it/s]"
      ]
     },
     "metadata": {},
     "output_type": "display_data"
    },
    {
     "data": {
      "application/vnd.jupyter.widget-view+json": {
       "model_id": "26e0609368c74b6ea0512c0f8ba5c064",
       "version_major": 2,
       "version_minor": 0
      },
      "text/plain": [
       "第 15/100 轮:   0%|          | 0/10 [00:00<?, ?it/s]"
      ]
     },
     "metadata": {},
     "output_type": "display_data"
    },
    {
     "data": {
      "application/vnd.jupyter.widget-view+json": {
       "model_id": "b8dd5364f21645159c54df1413b685f0",
       "version_major": 2,
       "version_minor": 0
      },
      "text/plain": [
       "第 16/100 轮:   0%|          | 0/10 [00:00<?, ?it/s]"
      ]
     },
     "metadata": {},
     "output_type": "display_data"
    },
    {
     "data": {
      "application/vnd.jupyter.widget-view+json": {
       "model_id": "5f4a37a2e05b488d91fdf5a2aa956bd0",
       "version_major": 2,
       "version_minor": 0
      },
      "text/plain": [
       "第 17/100 轮:   0%|          | 0/10 [00:00<?, ?it/s]"
      ]
     },
     "metadata": {},
     "output_type": "display_data"
    },
    {
     "data": {
      "application/vnd.jupyter.widget-view+json": {
       "model_id": "eb9e0ae516e649e6b09b662bc04c2e68",
       "version_major": 2,
       "version_minor": 0
      },
      "text/plain": [
       "第 18/100 轮:   0%|          | 0/10 [00:00<?, ?it/s]"
      ]
     },
     "metadata": {},
     "output_type": "display_data"
    },
    {
     "data": {
      "application/vnd.jupyter.widget-view+json": {
       "model_id": "cbe023750eef40a280a01c1f4e0559f4",
       "version_major": 2,
       "version_minor": 0
      },
      "text/plain": [
       "第 19/100 轮:   0%|          | 0/10 [00:00<?, ?it/s]"
      ]
     },
     "metadata": {},
     "output_type": "display_data"
    },
    {
     "data": {
      "application/vnd.jupyter.widget-view+json": {
       "model_id": "a82c589e893d4762b577b967f6f0871b",
       "version_major": 2,
       "version_minor": 0
      },
      "text/plain": [
       "第 20/100 轮:   0%|          | 0/10 [00:00<?, ?it/s]"
      ]
     },
     "metadata": {},
     "output_type": "display_data"
    },
    {
     "data": {
      "application/vnd.jupyter.widget-view+json": {
       "model_id": "f15674d89285481b8a1e562a211d9e69",
       "version_major": 2,
       "version_minor": 0
      },
      "text/plain": [
       "第 21/100 轮:   0%|          | 0/10 [00:00<?, ?it/s]"
      ]
     },
     "metadata": {},
     "output_type": "display_data"
    },
    {
     "data": {
      "application/vnd.jupyter.widget-view+json": {
       "model_id": "72c87541deb84cbfb4549c7a70535880",
       "version_major": 2,
       "version_minor": 0
      },
      "text/plain": [
       "第 22/100 轮:   0%|          | 0/10 [00:00<?, ?it/s]"
      ]
     },
     "metadata": {},
     "output_type": "display_data"
    },
    {
     "data": {
      "application/vnd.jupyter.widget-view+json": {
       "model_id": "c9a0f800923c4fe4bca5beeda1578f86",
       "version_major": 2,
       "version_minor": 0
      },
      "text/plain": [
       "第 23/100 轮:   0%|          | 0/10 [00:00<?, ?it/s]"
      ]
     },
     "metadata": {},
     "output_type": "display_data"
    },
    {
     "data": {
      "application/vnd.jupyter.widget-view+json": {
       "model_id": "83925811c3274c6b8dca43b997422d55",
       "version_major": 2,
       "version_minor": 0
      },
      "text/plain": [
       "第 24/100 轮:   0%|          | 0/10 [00:00<?, ?it/s]"
      ]
     },
     "metadata": {},
     "output_type": "display_data"
    },
    {
     "data": {
      "application/vnd.jupyter.widget-view+json": {
       "model_id": "d476fe5c9f824208a5e59321659636d8",
       "version_major": 2,
       "version_minor": 0
      },
      "text/plain": [
       "第 25/100 轮:   0%|          | 0/10 [00:00<?, ?it/s]"
      ]
     },
     "metadata": {},
     "output_type": "display_data"
    },
    {
     "data": {
      "application/vnd.jupyter.widget-view+json": {
       "model_id": "c17b915ac474496387d518fb8b951b49",
       "version_major": 2,
       "version_minor": 0
      },
      "text/plain": [
       "第 26/100 轮:   0%|          | 0/10 [00:00<?, ?it/s]"
      ]
     },
     "metadata": {},
     "output_type": "display_data"
    },
    {
     "data": {
      "application/vnd.jupyter.widget-view+json": {
       "model_id": "c2a73ee5d86e4b5a9589cb0313b92738",
       "version_major": 2,
       "version_minor": 0
      },
      "text/plain": [
       "第 27/100 轮:   0%|          | 0/10 [00:00<?, ?it/s]"
      ]
     },
     "metadata": {},
     "output_type": "display_data"
    },
    {
     "data": {
      "application/vnd.jupyter.widget-view+json": {
       "model_id": "f4d2a3a5429543dd82eab4c4563139c5",
       "version_major": 2,
       "version_minor": 0
      },
      "text/plain": [
       "第 28/100 轮:   0%|          | 0/10 [00:00<?, ?it/s]"
      ]
     },
     "metadata": {},
     "output_type": "display_data"
    },
    {
     "data": {
      "application/vnd.jupyter.widget-view+json": {
       "model_id": "54b294d21a804d3e801b442d35266102",
       "version_major": 2,
       "version_minor": 0
      },
      "text/plain": [
       "第 29/100 轮:   0%|          | 0/10 [00:00<?, ?it/s]"
      ]
     },
     "metadata": {},
     "output_type": "display_data"
    },
    {
     "data": {
      "application/vnd.jupyter.widget-view+json": {
       "model_id": "7a5cf15f29cb4ff78b4e3c4dfa56c04b",
       "version_major": 2,
       "version_minor": 0
      },
      "text/plain": [
       "第 30/100 轮:   0%|          | 0/10 [00:00<?, ?it/s]"
      ]
     },
     "metadata": {},
     "output_type": "display_data"
    },
    {
     "data": {
      "application/vnd.jupyter.widget-view+json": {
       "model_id": "dc67d08935034fe48230184e074dd2d3",
       "version_major": 2,
       "version_minor": 0
      },
      "text/plain": [
       "第 31/100 轮:   0%|          | 0/10 [00:00<?, ?it/s]"
      ]
     },
     "metadata": {},
     "output_type": "display_data"
    },
    {
     "data": {
      "application/vnd.jupyter.widget-view+json": {
       "model_id": "d012a7f7d47d437285336cee9b3a9bfb",
       "version_major": 2,
       "version_minor": 0
      },
      "text/plain": [
       "第 32/100 轮:   0%|          | 0/10 [00:00<?, ?it/s]"
      ]
     },
     "metadata": {},
     "output_type": "display_data"
    },
    {
     "data": {
      "application/vnd.jupyter.widget-view+json": {
       "model_id": "2cf4ce657d424e608090aaa6b451336a",
       "version_major": 2,
       "version_minor": 0
      },
      "text/plain": [
       "第 33/100 轮:   0%|          | 0/10 [00:00<?, ?it/s]"
      ]
     },
     "metadata": {},
     "output_type": "display_data"
    },
    {
     "data": {
      "application/vnd.jupyter.widget-view+json": {
       "model_id": "980b723ee71d4410a0666f9d29c42658",
       "version_major": 2,
       "version_minor": 0
      },
      "text/plain": [
       "第 34/100 轮:   0%|          | 0/10 [00:00<?, ?it/s]"
      ]
     },
     "metadata": {},
     "output_type": "display_data"
    },
    {
     "data": {
      "application/vnd.jupyter.widget-view+json": {
       "model_id": "282a29ff71f44132908af47913bcc778",
       "version_major": 2,
       "version_minor": 0
      },
      "text/plain": [
       "第 35/100 轮:   0%|          | 0/10 [00:00<?, ?it/s]"
      ]
     },
     "metadata": {},
     "output_type": "display_data"
    },
    {
     "data": {
      "application/vnd.jupyter.widget-view+json": {
       "model_id": "0804a8b47d8c4fda9ca90939426cc585",
       "version_major": 2,
       "version_minor": 0
      },
      "text/plain": [
       "第 36/100 轮:   0%|          | 0/10 [00:00<?, ?it/s]"
      ]
     },
     "metadata": {},
     "output_type": "display_data"
    },
    {
     "data": {
      "application/vnd.jupyter.widget-view+json": {
       "model_id": "8a5385ac83f84d35844986ff2a182466",
       "version_major": 2,
       "version_minor": 0
      },
      "text/plain": [
       "第 37/100 轮:   0%|          | 0/10 [00:00<?, ?it/s]"
      ]
     },
     "metadata": {},
     "output_type": "display_data"
    },
    {
     "data": {
      "application/vnd.jupyter.widget-view+json": {
       "model_id": "7c206995d1264bec947801d53b96bfea",
       "version_major": 2,
       "version_minor": 0
      },
      "text/plain": [
       "第 38/100 轮:   0%|          | 0/10 [00:00<?, ?it/s]"
      ]
     },
     "metadata": {},
     "output_type": "display_data"
    },
    {
     "data": {
      "application/vnd.jupyter.widget-view+json": {
       "model_id": "5a188ec715bc445e8867dceb8eb0366c",
       "version_major": 2,
       "version_minor": 0
      },
      "text/plain": [
       "第 39/100 轮:   0%|          | 0/10 [00:00<?, ?it/s]"
      ]
     },
     "metadata": {},
     "output_type": "display_data"
    },
    {
     "data": {
      "application/vnd.jupyter.widget-view+json": {
       "model_id": "410fbaa9f083435b93f3d1deb9440f2b",
       "version_major": 2,
       "version_minor": 0
      },
      "text/plain": [
       "第 40/100 轮:   0%|          | 0/10 [00:00<?, ?it/s]"
      ]
     },
     "metadata": {},
     "output_type": "display_data"
    },
    {
     "data": {
      "application/vnd.jupyter.widget-view+json": {
       "model_id": "03bd83d7791347b0b0f08fd80111c96f",
       "version_major": 2,
       "version_minor": 0
      },
      "text/plain": [
       "第 41/100 轮:   0%|          | 0/10 [00:00<?, ?it/s]"
      ]
     },
     "metadata": {},
     "output_type": "display_data"
    },
    {
     "data": {
      "application/vnd.jupyter.widget-view+json": {
       "model_id": "81d72e2c1a60445d898d33f8eb0dacaa",
       "version_major": 2,
       "version_minor": 0
      },
      "text/plain": [
       "第 42/100 轮:   0%|          | 0/10 [00:00<?, ?it/s]"
      ]
     },
     "metadata": {},
     "output_type": "display_data"
    },
    {
     "data": {
      "application/vnd.jupyter.widget-view+json": {
       "model_id": "fe3d023a5f624d53835c258d71dfdd1e",
       "version_major": 2,
       "version_minor": 0
      },
      "text/plain": [
       "第 43/100 轮:   0%|          | 0/10 [00:00<?, ?it/s]"
      ]
     },
     "metadata": {},
     "output_type": "display_data"
    },
    {
     "data": {
      "application/vnd.jupyter.widget-view+json": {
       "model_id": "85f32347ddf14d15a0cc2276bfe4924e",
       "version_major": 2,
       "version_minor": 0
      },
      "text/plain": [
       "第 44/100 轮:   0%|          | 0/10 [00:00<?, ?it/s]"
      ]
     },
     "metadata": {},
     "output_type": "display_data"
    },
    {
     "data": {
      "application/vnd.jupyter.widget-view+json": {
       "model_id": "863fdcd3b6c94280b9bb982ec9d764f8",
       "version_major": 2,
       "version_minor": 0
      },
      "text/plain": [
       "第 45/100 轮:   0%|          | 0/10 [00:00<?, ?it/s]"
      ]
     },
     "metadata": {},
     "output_type": "display_data"
    },
    {
     "data": {
      "application/vnd.jupyter.widget-view+json": {
       "model_id": "6e46551d778349e8a5b494ab2ada460e",
       "version_major": 2,
       "version_minor": 0
      },
      "text/plain": [
       "第 46/100 轮:   0%|          | 0/10 [00:00<?, ?it/s]"
      ]
     },
     "metadata": {},
     "output_type": "display_data"
    },
    {
     "data": {
      "application/vnd.jupyter.widget-view+json": {
       "model_id": "e837056ce25749988d3690cba5061b07",
       "version_major": 2,
       "version_minor": 0
      },
      "text/plain": [
       "第 47/100 轮:   0%|          | 0/10 [00:00<?, ?it/s]"
      ]
     },
     "metadata": {},
     "output_type": "display_data"
    },
    {
     "data": {
      "application/vnd.jupyter.widget-view+json": {
       "model_id": "03365a73b1a1426fbc4acaf100be6ff2",
       "version_major": 2,
       "version_minor": 0
      },
      "text/plain": [
       "第 48/100 轮:   0%|          | 0/10 [00:00<?, ?it/s]"
      ]
     },
     "metadata": {},
     "output_type": "display_data"
    },
    {
     "data": {
      "application/vnd.jupyter.widget-view+json": {
       "model_id": "e1ac8a8fc8674b1bb231091734bbf985",
       "version_major": 2,
       "version_minor": 0
      },
      "text/plain": [
       "第 49/100 轮:   0%|          | 0/10 [00:00<?, ?it/s]"
      ]
     },
     "metadata": {},
     "output_type": "display_data"
    },
    {
     "data": {
      "application/vnd.jupyter.widget-view+json": {
       "model_id": "55b354bc3ffc46faaf87e3f276ae187f",
       "version_major": 2,
       "version_minor": 0
      },
      "text/plain": [
       "第 50/100 轮:   0%|          | 0/10 [00:00<?, ?it/s]"
      ]
     },
     "metadata": {},
     "output_type": "display_data"
    },
    {
     "data": {
      "application/vnd.jupyter.widget-view+json": {
       "model_id": "c8ab795f82894e829618c7d53260d98e",
       "version_major": 2,
       "version_minor": 0
      },
      "text/plain": [
       "第 51/100 轮:   0%|          | 0/10 [00:00<?, ?it/s]"
      ]
     },
     "metadata": {},
     "output_type": "display_data"
    },
    {
     "data": {
      "application/vnd.jupyter.widget-view+json": {
       "model_id": "8e22ac6e9a984afdae0f9db64f6265aa",
       "version_major": 2,
       "version_minor": 0
      },
      "text/plain": [
       "第 52/100 轮:   0%|          | 0/10 [00:00<?, ?it/s]"
      ]
     },
     "metadata": {},
     "output_type": "display_data"
    },
    {
     "data": {
      "application/vnd.jupyter.widget-view+json": {
       "model_id": "4bedee951f5b4aa2bc9b675a31964265",
       "version_major": 2,
       "version_minor": 0
      },
      "text/plain": [
       "第 53/100 轮:   0%|          | 0/10 [00:00<?, ?it/s]"
      ]
     },
     "metadata": {},
     "output_type": "display_data"
    },
    {
     "data": {
      "application/vnd.jupyter.widget-view+json": {
       "model_id": "d2f51e39d0d04815819c07c23b2f45a7",
       "version_major": 2,
       "version_minor": 0
      },
      "text/plain": [
       "第 54/100 轮:   0%|          | 0/10 [00:00<?, ?it/s]"
      ]
     },
     "metadata": {},
     "output_type": "display_data"
    },
    {
     "data": {
      "application/vnd.jupyter.widget-view+json": {
       "model_id": "abcf07f6ab524d958939a77ebd54e074",
       "version_major": 2,
       "version_minor": 0
      },
      "text/plain": [
       "第 55/100 轮:   0%|          | 0/10 [00:00<?, ?it/s]"
      ]
     },
     "metadata": {},
     "output_type": "display_data"
    },
    {
     "data": {
      "application/vnd.jupyter.widget-view+json": {
       "model_id": "01b6eee83a1145fd867b4274f19d6eca",
       "version_major": 2,
       "version_minor": 0
      },
      "text/plain": [
       "第 56/100 轮:   0%|          | 0/10 [00:00<?, ?it/s]"
      ]
     },
     "metadata": {},
     "output_type": "display_data"
    },
    {
     "data": {
      "application/vnd.jupyter.widget-view+json": {
       "model_id": "54ac3556e63a4b7b977af0f4b7ee9fb7",
       "version_major": 2,
       "version_minor": 0
      },
      "text/plain": [
       "第 57/100 轮:   0%|          | 0/10 [00:00<?, ?it/s]"
      ]
     },
     "metadata": {},
     "output_type": "display_data"
    },
    {
     "data": {
      "application/vnd.jupyter.widget-view+json": {
       "model_id": "02c2fb189e2743f98fc47f0fbabb7285",
       "version_major": 2,
       "version_minor": 0
      },
      "text/plain": [
       "第 58/100 轮:   0%|          | 0/10 [00:00<?, ?it/s]"
      ]
     },
     "metadata": {},
     "output_type": "display_data"
    },
    {
     "data": {
      "application/vnd.jupyter.widget-view+json": {
       "model_id": "83a12b3cf0c14320b04fb704bc4d6f33",
       "version_major": 2,
       "version_minor": 0
      },
      "text/plain": [
       "第 59/100 轮:   0%|          | 0/10 [00:00<?, ?it/s]"
      ]
     },
     "metadata": {},
     "output_type": "display_data"
    },
    {
     "data": {
      "application/vnd.jupyter.widget-view+json": {
       "model_id": "35088da91b98466484eae5a995f9572a",
       "version_major": 2,
       "version_minor": 0
      },
      "text/plain": [
       "第 60/100 轮:   0%|          | 0/10 [00:00<?, ?it/s]"
      ]
     },
     "metadata": {},
     "output_type": "display_data"
    },
    {
     "data": {
      "application/vnd.jupyter.widget-view+json": {
       "model_id": "feda1d76ea944a00b506748d9dc22dae",
       "version_major": 2,
       "version_minor": 0
      },
      "text/plain": [
       "第 61/100 轮:   0%|          | 0/10 [00:00<?, ?it/s]"
      ]
     },
     "metadata": {},
     "output_type": "display_data"
    },
    {
     "data": {
      "application/vnd.jupyter.widget-view+json": {
       "model_id": "5dcff4372548470eb25507bd5769f2f9",
       "version_major": 2,
       "version_minor": 0
      },
      "text/plain": [
       "第 62/100 轮:   0%|          | 0/10 [00:00<?, ?it/s]"
      ]
     },
     "metadata": {},
     "output_type": "display_data"
    },
    {
     "data": {
      "application/vnd.jupyter.widget-view+json": {
       "model_id": "55b0a598aeb94782a1c51b6b32ee266a",
       "version_major": 2,
       "version_minor": 0
      },
      "text/plain": [
       "第 63/100 轮:   0%|          | 0/10 [00:00<?, ?it/s]"
      ]
     },
     "metadata": {},
     "output_type": "display_data"
    },
    {
     "data": {
      "application/vnd.jupyter.widget-view+json": {
       "model_id": "c55a0091eca4420a9aaccf42b90fc339",
       "version_major": 2,
       "version_minor": 0
      },
      "text/plain": [
       "第 64/100 轮:   0%|          | 0/10 [00:00<?, ?it/s]"
      ]
     },
     "metadata": {},
     "output_type": "display_data"
    },
    {
     "data": {
      "application/vnd.jupyter.widget-view+json": {
       "model_id": "6dfa99260b9a4a1e958982bdfbd8d88c",
       "version_major": 2,
       "version_minor": 0
      },
      "text/plain": [
       "第 65/100 轮:   0%|          | 0/10 [00:00<?, ?it/s]"
      ]
     },
     "metadata": {},
     "output_type": "display_data"
    },
    {
     "data": {
      "application/vnd.jupyter.widget-view+json": {
       "model_id": "f9640227a83640c39a8af12def7d5c90",
       "version_major": 2,
       "version_minor": 0
      },
      "text/plain": [
       "第 66/100 轮:   0%|          | 0/10 [00:00<?, ?it/s]"
      ]
     },
     "metadata": {},
     "output_type": "display_data"
    },
    {
     "data": {
      "application/vnd.jupyter.widget-view+json": {
       "model_id": "39dcee4a6f094f539b021a14e64bba74",
       "version_major": 2,
       "version_minor": 0
      },
      "text/plain": [
       "第 67/100 轮:   0%|          | 0/10 [00:00<?, ?it/s]"
      ]
     },
     "metadata": {},
     "output_type": "display_data"
    },
    {
     "data": {
      "application/vnd.jupyter.widget-view+json": {
       "model_id": "f9c9a1e33c664dbb9cef9b7c45ba6d83",
       "version_major": 2,
       "version_minor": 0
      },
      "text/plain": [
       "第 68/100 轮:   0%|          | 0/10 [00:00<?, ?it/s]"
      ]
     },
     "metadata": {},
     "output_type": "display_data"
    },
    {
     "data": {
      "application/vnd.jupyter.widget-view+json": {
       "model_id": "9b9004273d764dafaff1c9b657f30ca8",
       "version_major": 2,
       "version_minor": 0
      },
      "text/plain": [
       "第 69/100 轮:   0%|          | 0/10 [00:00<?, ?it/s]"
      ]
     },
     "metadata": {},
     "output_type": "display_data"
    },
    {
     "data": {
      "application/vnd.jupyter.widget-view+json": {
       "model_id": "ee5665ba18d64245bbc96a1610f05034",
       "version_major": 2,
       "version_minor": 0
      },
      "text/plain": [
       "第 70/100 轮:   0%|          | 0/10 [00:00<?, ?it/s]"
      ]
     },
     "metadata": {},
     "output_type": "display_data"
    },
    {
     "data": {
      "application/vnd.jupyter.widget-view+json": {
       "model_id": "d10c059bda6f4f669d285ca1a42f0089",
       "version_major": 2,
       "version_minor": 0
      },
      "text/plain": [
       "第 71/100 轮:   0%|          | 0/10 [00:00<?, ?it/s]"
      ]
     },
     "metadata": {},
     "output_type": "display_data"
    },
    {
     "data": {
      "application/vnd.jupyter.widget-view+json": {
       "model_id": "b5bd85447a684eddb41b2ea18a635c02",
       "version_major": 2,
       "version_minor": 0
      },
      "text/plain": [
       "第 72/100 轮:   0%|          | 0/10 [00:00<?, ?it/s]"
      ]
     },
     "metadata": {},
     "output_type": "display_data"
    },
    {
     "data": {
      "application/vnd.jupyter.widget-view+json": {
       "model_id": "9751e2233c8849bcac7a5d52a3423e7e",
       "version_major": 2,
       "version_minor": 0
      },
      "text/plain": [
       "第 73/100 轮:   0%|          | 0/10 [00:00<?, ?it/s]"
      ]
     },
     "metadata": {},
     "output_type": "display_data"
    },
    {
     "data": {
      "application/vnd.jupyter.widget-view+json": {
       "model_id": "173dfd5e97624a5cbac6f30d791f3e66",
       "version_major": 2,
       "version_minor": 0
      },
      "text/plain": [
       "第 74/100 轮:   0%|          | 0/10 [00:00<?, ?it/s]"
      ]
     },
     "metadata": {},
     "output_type": "display_data"
    },
    {
     "data": {
      "application/vnd.jupyter.widget-view+json": {
       "model_id": "57d7be89e1774270a3d3bfebbb4450b8",
       "version_major": 2,
       "version_minor": 0
      },
      "text/plain": [
       "第 75/100 轮:   0%|          | 0/10 [00:00<?, ?it/s]"
      ]
     },
     "metadata": {},
     "output_type": "display_data"
    },
    {
     "data": {
      "application/vnd.jupyter.widget-view+json": {
       "model_id": "2fbf8d3b570b47e3908d9de24a45950d",
       "version_major": 2,
       "version_minor": 0
      },
      "text/plain": [
       "第 76/100 轮:   0%|          | 0/10 [00:00<?, ?it/s]"
      ]
     },
     "metadata": {},
     "output_type": "display_data"
    },
    {
     "data": {
      "application/vnd.jupyter.widget-view+json": {
       "model_id": "f7c563f28cfa477da9e388cca260109f",
       "version_major": 2,
       "version_minor": 0
      },
      "text/plain": [
       "第 77/100 轮:   0%|          | 0/10 [00:00<?, ?it/s]"
      ]
     },
     "metadata": {},
     "output_type": "display_data"
    },
    {
     "data": {
      "application/vnd.jupyter.widget-view+json": {
       "model_id": "bbc7d41be481414f921696f0b8a93cca",
       "version_major": 2,
       "version_minor": 0
      },
      "text/plain": [
       "第 78/100 轮:   0%|          | 0/10 [00:00<?, ?it/s]"
      ]
     },
     "metadata": {},
     "output_type": "display_data"
    },
    {
     "data": {
      "application/vnd.jupyter.widget-view+json": {
       "model_id": "55d1457d5ef44a61aa9a3d41b62c11ca",
       "version_major": 2,
       "version_minor": 0
      },
      "text/plain": [
       "第 79/100 轮:   0%|          | 0/10 [00:00<?, ?it/s]"
      ]
     },
     "metadata": {},
     "output_type": "display_data"
    },
    {
     "data": {
      "application/vnd.jupyter.widget-view+json": {
       "model_id": "360a999ad8774073b4b1dd51b6ecdde3",
       "version_major": 2,
       "version_minor": 0
      },
      "text/plain": [
       "第 80/100 轮:   0%|          | 0/10 [00:00<?, ?it/s]"
      ]
     },
     "metadata": {},
     "output_type": "display_data"
    },
    {
     "data": {
      "application/vnd.jupyter.widget-view+json": {
       "model_id": "cea373545f2d45e09ac93700bf34496d",
       "version_major": 2,
       "version_minor": 0
      },
      "text/plain": [
       "第 81/100 轮:   0%|          | 0/10 [00:00<?, ?it/s]"
      ]
     },
     "metadata": {},
     "output_type": "display_data"
    },
    {
     "data": {
      "application/vnd.jupyter.widget-view+json": {
       "model_id": "b3fbcdafddda43c2bef95edc8a14cac5",
       "version_major": 2,
       "version_minor": 0
      },
      "text/plain": [
       "第 82/100 轮:   0%|          | 0/10 [00:00<?, ?it/s]"
      ]
     },
     "metadata": {},
     "output_type": "display_data"
    },
    {
     "data": {
      "application/vnd.jupyter.widget-view+json": {
       "model_id": "c699e78cb2e1458eacdcb2dda47b498a",
       "version_major": 2,
       "version_minor": 0
      },
      "text/plain": [
       "第 83/100 轮:   0%|          | 0/10 [00:00<?, ?it/s]"
      ]
     },
     "metadata": {},
     "output_type": "display_data"
    },
    {
     "data": {
      "application/vnd.jupyter.widget-view+json": {
       "model_id": "50f7db55fed545c08f74dee74e3bae3d",
       "version_major": 2,
       "version_minor": 0
      },
      "text/plain": [
       "第 84/100 轮:   0%|          | 0/10 [00:00<?, ?it/s]"
      ]
     },
     "metadata": {},
     "output_type": "display_data"
    },
    {
     "data": {
      "application/vnd.jupyter.widget-view+json": {
       "model_id": "6f62d80daec24cf299cfd5cb4c6a8a95",
       "version_major": 2,
       "version_minor": 0
      },
      "text/plain": [
       "第 85/100 轮:   0%|          | 0/10 [00:00<?, ?it/s]"
      ]
     },
     "metadata": {},
     "output_type": "display_data"
    },
    {
     "data": {
      "application/vnd.jupyter.widget-view+json": {
       "model_id": "3ed7991d9f474443870d916d34a32037",
       "version_major": 2,
       "version_minor": 0
      },
      "text/plain": [
       "第 86/100 轮:   0%|          | 0/10 [00:00<?, ?it/s]"
      ]
     },
     "metadata": {},
     "output_type": "display_data"
    },
    {
     "data": {
      "application/vnd.jupyter.widget-view+json": {
       "model_id": "d5e27167e5ed4b59bede305c9ec7c796",
       "version_major": 2,
       "version_minor": 0
      },
      "text/plain": [
       "第 87/100 轮:   0%|          | 0/10 [00:00<?, ?it/s]"
      ]
     },
     "metadata": {},
     "output_type": "display_data"
    },
    {
     "data": {
      "application/vnd.jupyter.widget-view+json": {
       "model_id": "00d9007c65444d2f88a87c5390a0854a",
       "version_major": 2,
       "version_minor": 0
      },
      "text/plain": [
       "第 88/100 轮:   0%|          | 0/10 [00:00<?, ?it/s]"
      ]
     },
     "metadata": {},
     "output_type": "display_data"
    },
    {
     "data": {
      "application/vnd.jupyter.widget-view+json": {
       "model_id": "694aacb6b12944f185927e2217ff450f",
       "version_major": 2,
       "version_minor": 0
      },
      "text/plain": [
       "第 89/100 轮:   0%|          | 0/10 [00:00<?, ?it/s]"
      ]
     },
     "metadata": {},
     "output_type": "display_data"
    },
    {
     "data": {
      "application/vnd.jupyter.widget-view+json": {
       "model_id": "8f11b07dcd894205a091fade87943b7e",
       "version_major": 2,
       "version_minor": 0
      },
      "text/plain": [
       "第 90/100 轮:   0%|          | 0/10 [00:00<?, ?it/s]"
      ]
     },
     "metadata": {},
     "output_type": "display_data"
    },
    {
     "data": {
      "application/vnd.jupyter.widget-view+json": {
       "model_id": "3c96c27b0ef34977a29a373fdd59d14b",
       "version_major": 2,
       "version_minor": 0
      },
      "text/plain": [
       "第 91/100 轮:   0%|          | 0/10 [00:00<?, ?it/s]"
      ]
     },
     "metadata": {},
     "output_type": "display_data"
    },
    {
     "data": {
      "application/vnd.jupyter.widget-view+json": {
       "model_id": "90175d0d383243639c9430104c467a91",
       "version_major": 2,
       "version_minor": 0
      },
      "text/plain": [
       "第 92/100 轮:   0%|          | 0/10 [00:00<?, ?it/s]"
      ]
     },
     "metadata": {},
     "output_type": "display_data"
    },
    {
     "data": {
      "application/vnd.jupyter.widget-view+json": {
       "model_id": "5f693e97cd8f4fbc82bcf7cd5973b78c",
       "version_major": 2,
       "version_minor": 0
      },
      "text/plain": [
       "第 93/100 轮:   0%|          | 0/10 [00:00<?, ?it/s]"
      ]
     },
     "metadata": {},
     "output_type": "display_data"
    },
    {
     "data": {
      "application/vnd.jupyter.widget-view+json": {
       "model_id": "a73adbf5cf0640ac9503ee442b7357b6",
       "version_major": 2,
       "version_minor": 0
      },
      "text/plain": [
       "第 94/100 轮:   0%|          | 0/10 [00:00<?, ?it/s]"
      ]
     },
     "metadata": {},
     "output_type": "display_data"
    },
    {
     "data": {
      "application/vnd.jupyter.widget-view+json": {
       "model_id": "b10e385248364b23811b259324b80b49",
       "version_major": 2,
       "version_minor": 0
      },
      "text/plain": [
       "第 95/100 轮:   0%|          | 0/10 [00:00<?, ?it/s]"
      ]
     },
     "metadata": {},
     "output_type": "display_data"
    },
    {
     "data": {
      "application/vnd.jupyter.widget-view+json": {
       "model_id": "f727b7cc0ffd494aaa0fe36b6d9b8e83",
       "version_major": 2,
       "version_minor": 0
      },
      "text/plain": [
       "第 96/100 轮:   0%|          | 0/10 [00:00<?, ?it/s]"
      ]
     },
     "metadata": {},
     "output_type": "display_data"
    },
    {
     "data": {
      "application/vnd.jupyter.widget-view+json": {
       "model_id": "1040c565207e474897213f77bdc642db",
       "version_major": 2,
       "version_minor": 0
      },
      "text/plain": [
       "第 97/100 轮:   0%|          | 0/10 [00:00<?, ?it/s]"
      ]
     },
     "metadata": {},
     "output_type": "display_data"
    },
    {
     "data": {
      "application/vnd.jupyter.widget-view+json": {
       "model_id": "e29f9a85c5aa4185a5bd1d1a528da86e",
       "version_major": 2,
       "version_minor": 0
      },
      "text/plain": [
       "第 98/100 轮:   0%|          | 0/10 [00:00<?, ?it/s]"
      ]
     },
     "metadata": {},
     "output_type": "display_data"
    },
    {
     "data": {
      "application/vnd.jupyter.widget-view+json": {
       "model_id": "f297c177a1354d8cb517dc45bc952ed4",
       "version_major": 2,
       "version_minor": 0
      },
      "text/plain": [
       "第 99/100 轮:   0%|          | 0/10 [00:00<?, ?it/s]"
      ]
     },
     "metadata": {},
     "output_type": "display_data"
    },
    {
     "data": {
      "application/vnd.jupyter.widget-view+json": {
       "model_id": "37054a0d546e41c8a3336ab361c675a1",
       "version_major": 2,
       "version_minor": 0
      },
      "text/plain": [
       "第 100/100 轮:   0%|          | 0/10 [00:00<?, ?it/s]"
      ]
     },
     "metadata": {},
     "output_type": "display_data"
    },
    {
     "name": "stdout",
     "output_type": "stream",
     "text": [
      "Fold 1 - Epoch 100: Best Correlation Coefficient: 0.6682\n"
     ]
    },
    {
     "data": {
      "application/vnd.jupyter.widget-view+json": {
       "model_id": "f7c9ae305cfa4c079790d1f3cb996d05",
       "version_major": 2,
       "version_minor": 0
      },
      "text/plain": [
       "第 1/100 轮:   0%|          | 0/10 [00:00<?, ?it/s]"
      ]
     },
     "metadata": {},
     "output_type": "display_data"
    },
    {
     "data": {
      "application/vnd.jupyter.widget-view+json": {
       "model_id": "0dfef29d08b54caa858f821a4b20fabd",
       "version_major": 2,
       "version_minor": 0
      },
      "text/plain": [
       "第 2/100 轮:   0%|          | 0/10 [00:00<?, ?it/s]"
      ]
     },
     "metadata": {},
     "output_type": "display_data"
    },
    {
     "data": {
      "application/vnd.jupyter.widget-view+json": {
       "model_id": "b341e8d953874fe5b9857777e114734c",
       "version_major": 2,
       "version_minor": 0
      },
      "text/plain": [
       "第 3/100 轮:   0%|          | 0/10 [00:00<?, ?it/s]"
      ]
     },
     "metadata": {},
     "output_type": "display_data"
    },
    {
     "data": {
      "application/vnd.jupyter.widget-view+json": {
       "model_id": "d7671567de9a4275b1047f2518aad050",
       "version_major": 2,
       "version_minor": 0
      },
      "text/plain": [
       "第 4/100 轮:   0%|          | 0/10 [00:00<?, ?it/s]"
      ]
     },
     "metadata": {},
     "output_type": "display_data"
    },
    {
     "data": {
      "application/vnd.jupyter.widget-view+json": {
       "model_id": "3d347dcde48646cfa7cd635c66167ddc",
       "version_major": 2,
       "version_minor": 0
      },
      "text/plain": [
       "第 5/100 轮:   0%|          | 0/10 [00:00<?, ?it/s]"
      ]
     },
     "metadata": {},
     "output_type": "display_data"
    },
    {
     "data": {
      "application/vnd.jupyter.widget-view+json": {
       "model_id": "32defbf8f1884050a043e7720994f61b",
       "version_major": 2,
       "version_minor": 0
      },
      "text/plain": [
       "第 6/100 轮:   0%|          | 0/10 [00:00<?, ?it/s]"
      ]
     },
     "metadata": {},
     "output_type": "display_data"
    },
    {
     "data": {
      "application/vnd.jupyter.widget-view+json": {
       "model_id": "b3361ee968bb47848996d8858ecdd43d",
       "version_major": 2,
       "version_minor": 0
      },
      "text/plain": [
       "第 7/100 轮:   0%|          | 0/10 [00:00<?, ?it/s]"
      ]
     },
     "metadata": {},
     "output_type": "display_data"
    },
    {
     "data": {
      "application/vnd.jupyter.widget-view+json": {
       "model_id": "9db7474cc4894990b37aea8e3c57624d",
       "version_major": 2,
       "version_minor": 0
      },
      "text/plain": [
       "第 8/100 轮:   0%|          | 0/10 [00:00<?, ?it/s]"
      ]
     },
     "metadata": {},
     "output_type": "display_data"
    },
    {
     "data": {
      "application/vnd.jupyter.widget-view+json": {
       "model_id": "56baaa6e539742508f4523b711ad3ef1",
       "version_major": 2,
       "version_minor": 0
      },
      "text/plain": [
       "第 9/100 轮:   0%|          | 0/10 [00:00<?, ?it/s]"
      ]
     },
     "metadata": {},
     "output_type": "display_data"
    },
    {
     "data": {
      "application/vnd.jupyter.widget-view+json": {
       "model_id": "fc520fcf0db14835a6619d450a4362e1",
       "version_major": 2,
       "version_minor": 0
      },
      "text/plain": [
       "第 10/100 轮:   0%|          | 0/10 [00:00<?, ?it/s]"
      ]
     },
     "metadata": {},
     "output_type": "display_data"
    },
    {
     "data": {
      "application/vnd.jupyter.widget-view+json": {
       "model_id": "fd782d64f4db463a817711edd33d24b4",
       "version_major": 2,
       "version_minor": 0
      },
      "text/plain": [
       "第 11/100 轮:   0%|          | 0/10 [00:00<?, ?it/s]"
      ]
     },
     "metadata": {},
     "output_type": "display_data"
    },
    {
     "data": {
      "application/vnd.jupyter.widget-view+json": {
       "model_id": "5ed9041d4ec547b697d0e86f0ae6429b",
       "version_major": 2,
       "version_minor": 0
      },
      "text/plain": [
       "第 12/100 轮:   0%|          | 0/10 [00:00<?, ?it/s]"
      ]
     },
     "metadata": {},
     "output_type": "display_data"
    },
    {
     "data": {
      "application/vnd.jupyter.widget-view+json": {
       "model_id": "b8022129e7024de7a684b1392f4291c5",
       "version_major": 2,
       "version_minor": 0
      },
      "text/plain": [
       "第 13/100 轮:   0%|          | 0/10 [00:00<?, ?it/s]"
      ]
     },
     "metadata": {},
     "output_type": "display_data"
    },
    {
     "data": {
      "application/vnd.jupyter.widget-view+json": {
       "model_id": "3553867dee764081a32069ee369019c7",
       "version_major": 2,
       "version_minor": 0
      },
      "text/plain": [
       "第 14/100 轮:   0%|          | 0/10 [00:00<?, ?it/s]"
      ]
     },
     "metadata": {},
     "output_type": "display_data"
    },
    {
     "data": {
      "application/vnd.jupyter.widget-view+json": {
       "model_id": "55849d99db8847debe0348c291004098",
       "version_major": 2,
       "version_minor": 0
      },
      "text/plain": [
       "第 15/100 轮:   0%|          | 0/10 [00:00<?, ?it/s]"
      ]
     },
     "metadata": {},
     "output_type": "display_data"
    },
    {
     "data": {
      "application/vnd.jupyter.widget-view+json": {
       "model_id": "cff9562438cc40d199a48af206e43f9d",
       "version_major": 2,
       "version_minor": 0
      },
      "text/plain": [
       "第 16/100 轮:   0%|          | 0/10 [00:00<?, ?it/s]"
      ]
     },
     "metadata": {},
     "output_type": "display_data"
    },
    {
     "data": {
      "application/vnd.jupyter.widget-view+json": {
       "model_id": "de6f6f6644fb4531bcfc054c89759f7f",
       "version_major": 2,
       "version_minor": 0
      },
      "text/plain": [
       "第 17/100 轮:   0%|          | 0/10 [00:00<?, ?it/s]"
      ]
     },
     "metadata": {},
     "output_type": "display_data"
    },
    {
     "data": {
      "application/vnd.jupyter.widget-view+json": {
       "model_id": "6bcb3ce664244b669640f448075243c2",
       "version_major": 2,
       "version_minor": 0
      },
      "text/plain": [
       "第 18/100 轮:   0%|          | 0/10 [00:00<?, ?it/s]"
      ]
     },
     "metadata": {},
     "output_type": "display_data"
    },
    {
     "data": {
      "application/vnd.jupyter.widget-view+json": {
       "model_id": "3fa243129a9f4ebf865b21092d8f7f71",
       "version_major": 2,
       "version_minor": 0
      },
      "text/plain": [
       "第 19/100 轮:   0%|          | 0/10 [00:00<?, ?it/s]"
      ]
     },
     "metadata": {},
     "output_type": "display_data"
    },
    {
     "data": {
      "application/vnd.jupyter.widget-view+json": {
       "model_id": "7bd16bbda9954bed91d7b1123b4ac4a3",
       "version_major": 2,
       "version_minor": 0
      },
      "text/plain": [
       "第 20/100 轮:   0%|          | 0/10 [00:00<?, ?it/s]"
      ]
     },
     "metadata": {},
     "output_type": "display_data"
    },
    {
     "data": {
      "application/vnd.jupyter.widget-view+json": {
       "model_id": "d8399c029eb049f98efa85ad2c7391c2",
       "version_major": 2,
       "version_minor": 0
      },
      "text/plain": [
       "第 21/100 轮:   0%|          | 0/10 [00:00<?, ?it/s]"
      ]
     },
     "metadata": {},
     "output_type": "display_data"
    },
    {
     "data": {
      "application/vnd.jupyter.widget-view+json": {
       "model_id": "559c8b57b76c408a9659af34213dca98",
       "version_major": 2,
       "version_minor": 0
      },
      "text/plain": [
       "第 22/100 轮:   0%|          | 0/10 [00:00<?, ?it/s]"
      ]
     },
     "metadata": {},
     "output_type": "display_data"
    },
    {
     "data": {
      "application/vnd.jupyter.widget-view+json": {
       "model_id": "ce1a3af196bd45a58d76dbae417a6c4a",
       "version_major": 2,
       "version_minor": 0
      },
      "text/plain": [
       "第 23/100 轮:   0%|          | 0/10 [00:00<?, ?it/s]"
      ]
     },
     "metadata": {},
     "output_type": "display_data"
    },
    {
     "data": {
      "application/vnd.jupyter.widget-view+json": {
       "model_id": "6693855242ac4e549472df1a85ed8ed0",
       "version_major": 2,
       "version_minor": 0
      },
      "text/plain": [
       "第 24/100 轮:   0%|          | 0/10 [00:00<?, ?it/s]"
      ]
     },
     "metadata": {},
     "output_type": "display_data"
    },
    {
     "data": {
      "application/vnd.jupyter.widget-view+json": {
       "model_id": "9ae33381f31a4487b65071a492ba63f8",
       "version_major": 2,
       "version_minor": 0
      },
      "text/plain": [
       "第 25/100 轮:   0%|          | 0/10 [00:00<?, ?it/s]"
      ]
     },
     "metadata": {},
     "output_type": "display_data"
    },
    {
     "data": {
      "application/vnd.jupyter.widget-view+json": {
       "model_id": "a07fb53e414c4c9b8f7adeb6e66bf6fc",
       "version_major": 2,
       "version_minor": 0
      },
      "text/plain": [
       "第 26/100 轮:   0%|          | 0/10 [00:00<?, ?it/s]"
      ]
     },
     "metadata": {},
     "output_type": "display_data"
    },
    {
     "data": {
      "application/vnd.jupyter.widget-view+json": {
       "model_id": "79df11ecc75d49ae8826d00e7a0195ce",
       "version_major": 2,
       "version_minor": 0
      },
      "text/plain": [
       "第 27/100 轮:   0%|          | 0/10 [00:00<?, ?it/s]"
      ]
     },
     "metadata": {},
     "output_type": "display_data"
    },
    {
     "data": {
      "application/vnd.jupyter.widget-view+json": {
       "model_id": "dccf3a8b4b5d4641b4f82d7307da01b1",
       "version_major": 2,
       "version_minor": 0
      },
      "text/plain": [
       "第 28/100 轮:   0%|          | 0/10 [00:00<?, ?it/s]"
      ]
     },
     "metadata": {},
     "output_type": "display_data"
    },
    {
     "data": {
      "application/vnd.jupyter.widget-view+json": {
       "model_id": "4d617d520fb64d579b8b4ced1381fb47",
       "version_major": 2,
       "version_minor": 0
      },
      "text/plain": [
       "第 29/100 轮:   0%|          | 0/10 [00:00<?, ?it/s]"
      ]
     },
     "metadata": {},
     "output_type": "display_data"
    },
    {
     "data": {
      "application/vnd.jupyter.widget-view+json": {
       "model_id": "c37f4b3120204871bbe24f1cea2fd88a",
       "version_major": 2,
       "version_minor": 0
      },
      "text/plain": [
       "第 30/100 轮:   0%|          | 0/10 [00:00<?, ?it/s]"
      ]
     },
     "metadata": {},
     "output_type": "display_data"
    },
    {
     "data": {
      "application/vnd.jupyter.widget-view+json": {
       "model_id": "7b0d2d6d15e54a43900588fc359ff5e0",
       "version_major": 2,
       "version_minor": 0
      },
      "text/plain": [
       "第 31/100 轮:   0%|          | 0/10 [00:00<?, ?it/s]"
      ]
     },
     "metadata": {},
     "output_type": "display_data"
    },
    {
     "data": {
      "application/vnd.jupyter.widget-view+json": {
       "model_id": "3d4585b925514d1ebadd0ab74f6eb3b7",
       "version_major": 2,
       "version_minor": 0
      },
      "text/plain": [
       "第 32/100 轮:   0%|          | 0/10 [00:00<?, ?it/s]"
      ]
     },
     "metadata": {},
     "output_type": "display_data"
    },
    {
     "data": {
      "application/vnd.jupyter.widget-view+json": {
       "model_id": "e2245a6b72a44186959e72db150a23dd",
       "version_major": 2,
       "version_minor": 0
      },
      "text/plain": [
       "第 33/100 轮:   0%|          | 0/10 [00:00<?, ?it/s]"
      ]
     },
     "metadata": {},
     "output_type": "display_data"
    },
    {
     "data": {
      "application/vnd.jupyter.widget-view+json": {
       "model_id": "5a034446fdcf43b8a36e544bd7a200b5",
       "version_major": 2,
       "version_minor": 0
      },
      "text/plain": [
       "第 34/100 轮:   0%|          | 0/10 [00:00<?, ?it/s]"
      ]
     },
     "metadata": {},
     "output_type": "display_data"
    },
    {
     "data": {
      "application/vnd.jupyter.widget-view+json": {
       "model_id": "8b8aba30823c49c49a37c488e9c502f7",
       "version_major": 2,
       "version_minor": 0
      },
      "text/plain": [
       "第 35/100 轮:   0%|          | 0/10 [00:00<?, ?it/s]"
      ]
     },
     "metadata": {},
     "output_type": "display_data"
    },
    {
     "data": {
      "application/vnd.jupyter.widget-view+json": {
       "model_id": "08af9942e0f441c5869470317c714a82",
       "version_major": 2,
       "version_minor": 0
      },
      "text/plain": [
       "第 36/100 轮:   0%|          | 0/10 [00:00<?, ?it/s]"
      ]
     },
     "metadata": {},
     "output_type": "display_data"
    },
    {
     "data": {
      "application/vnd.jupyter.widget-view+json": {
       "model_id": "9b39fc0f8b0d4128922336a57ff089f5",
       "version_major": 2,
       "version_minor": 0
      },
      "text/plain": [
       "第 37/100 轮:   0%|          | 0/10 [00:00<?, ?it/s]"
      ]
     },
     "metadata": {},
     "output_type": "display_data"
    },
    {
     "data": {
      "application/vnd.jupyter.widget-view+json": {
       "model_id": "0868b81de2f14a0dafbeb1e202b7f734",
       "version_major": 2,
       "version_minor": 0
      },
      "text/plain": [
       "第 38/100 轮:   0%|          | 0/10 [00:00<?, ?it/s]"
      ]
     },
     "metadata": {},
     "output_type": "display_data"
    },
    {
     "data": {
      "application/vnd.jupyter.widget-view+json": {
       "model_id": "3ea340d3fa414c799b42464ee04ee05b",
       "version_major": 2,
       "version_minor": 0
      },
      "text/plain": [
       "第 39/100 轮:   0%|          | 0/10 [00:00<?, ?it/s]"
      ]
     },
     "metadata": {},
     "output_type": "display_data"
    },
    {
     "data": {
      "application/vnd.jupyter.widget-view+json": {
       "model_id": "5e06ef89dee34e73b5c6e309649a4bb7",
       "version_major": 2,
       "version_minor": 0
      },
      "text/plain": [
       "第 40/100 轮:   0%|          | 0/10 [00:00<?, ?it/s]"
      ]
     },
     "metadata": {},
     "output_type": "display_data"
    },
    {
     "data": {
      "application/vnd.jupyter.widget-view+json": {
       "model_id": "cf8d6bb07bb847c3a23c4a4ef879db25",
       "version_major": 2,
       "version_minor": 0
      },
      "text/plain": [
       "第 41/100 轮:   0%|          | 0/10 [00:00<?, ?it/s]"
      ]
     },
     "metadata": {},
     "output_type": "display_data"
    },
    {
     "data": {
      "application/vnd.jupyter.widget-view+json": {
       "model_id": "5ea1095f672b4f048b7581ca702406da",
       "version_major": 2,
       "version_minor": 0
      },
      "text/plain": [
       "第 42/100 轮:   0%|          | 0/10 [00:00<?, ?it/s]"
      ]
     },
     "metadata": {},
     "output_type": "display_data"
    },
    {
     "data": {
      "application/vnd.jupyter.widget-view+json": {
       "model_id": "beb24cac31ef421eb781ad954e26f134",
       "version_major": 2,
       "version_minor": 0
      },
      "text/plain": [
       "第 43/100 轮:   0%|          | 0/10 [00:00<?, ?it/s]"
      ]
     },
     "metadata": {},
     "output_type": "display_data"
    },
    {
     "data": {
      "application/vnd.jupyter.widget-view+json": {
       "model_id": "31a6268e855c4d4e815a480eea7f223f",
       "version_major": 2,
       "version_minor": 0
      },
      "text/plain": [
       "第 44/100 轮:   0%|          | 0/10 [00:00<?, ?it/s]"
      ]
     },
     "metadata": {},
     "output_type": "display_data"
    },
    {
     "data": {
      "application/vnd.jupyter.widget-view+json": {
       "model_id": "16a9b07532d3495cbb24299ea286e1d5",
       "version_major": 2,
       "version_minor": 0
      },
      "text/plain": [
       "第 45/100 轮:   0%|          | 0/10 [00:00<?, ?it/s]"
      ]
     },
     "metadata": {},
     "output_type": "display_data"
    },
    {
     "data": {
      "application/vnd.jupyter.widget-view+json": {
       "model_id": "60e4580b9e1c40f1824de437f2584c8f",
       "version_major": 2,
       "version_minor": 0
      },
      "text/plain": [
       "第 46/100 轮:   0%|          | 0/10 [00:00<?, ?it/s]"
      ]
     },
     "metadata": {},
     "output_type": "display_data"
    },
    {
     "data": {
      "application/vnd.jupyter.widget-view+json": {
       "model_id": "fe4eaee70831451c8dbaf61e20454255",
       "version_major": 2,
       "version_minor": 0
      },
      "text/plain": [
       "第 47/100 轮:   0%|          | 0/10 [00:00<?, ?it/s]"
      ]
     },
     "metadata": {},
     "output_type": "display_data"
    },
    {
     "data": {
      "application/vnd.jupyter.widget-view+json": {
       "model_id": "b3fbc47d18604bf4855ccff815110552",
       "version_major": 2,
       "version_minor": 0
      },
      "text/plain": [
       "第 48/100 轮:   0%|          | 0/10 [00:00<?, ?it/s]"
      ]
     },
     "metadata": {},
     "output_type": "display_data"
    },
    {
     "data": {
      "application/vnd.jupyter.widget-view+json": {
       "model_id": "b269847e10a04fb0a8ecc8a4bfc46c4b",
       "version_major": 2,
       "version_minor": 0
      },
      "text/plain": [
       "第 49/100 轮:   0%|          | 0/10 [00:00<?, ?it/s]"
      ]
     },
     "metadata": {},
     "output_type": "display_data"
    },
    {
     "data": {
      "application/vnd.jupyter.widget-view+json": {
       "model_id": "57b2dc5adc3640e6bdbbe7c9644331d2",
       "version_major": 2,
       "version_minor": 0
      },
      "text/plain": [
       "第 50/100 轮:   0%|          | 0/10 [00:00<?, ?it/s]"
      ]
     },
     "metadata": {},
     "output_type": "display_data"
    },
    {
     "data": {
      "application/vnd.jupyter.widget-view+json": {
       "model_id": "7b6d84889c3444f0bc9103b0bb560dc7",
       "version_major": 2,
       "version_minor": 0
      },
      "text/plain": [
       "第 51/100 轮:   0%|          | 0/10 [00:00<?, ?it/s]"
      ]
     },
     "metadata": {},
     "output_type": "display_data"
    },
    {
     "data": {
      "application/vnd.jupyter.widget-view+json": {
       "model_id": "06fb5e242bf9449aa4a6b561e6a85c67",
       "version_major": 2,
       "version_minor": 0
      },
      "text/plain": [
       "第 52/100 轮:   0%|          | 0/10 [00:00<?, ?it/s]"
      ]
     },
     "metadata": {},
     "output_type": "display_data"
    },
    {
     "data": {
      "application/vnd.jupyter.widget-view+json": {
       "model_id": "eefccbccc0494523a36a92852ea33299",
       "version_major": 2,
       "version_minor": 0
      },
      "text/plain": [
       "第 53/100 轮:   0%|          | 0/10 [00:00<?, ?it/s]"
      ]
     },
     "metadata": {},
     "output_type": "display_data"
    },
    {
     "data": {
      "application/vnd.jupyter.widget-view+json": {
       "model_id": "791b3b04bd8e4173a311952663849335",
       "version_major": 2,
       "version_minor": 0
      },
      "text/plain": [
       "第 54/100 轮:   0%|          | 0/10 [00:00<?, ?it/s]"
      ]
     },
     "metadata": {},
     "output_type": "display_data"
    },
    {
     "data": {
      "application/vnd.jupyter.widget-view+json": {
       "model_id": "006e98976ac04181a4fcac9abce3f512",
       "version_major": 2,
       "version_minor": 0
      },
      "text/plain": [
       "第 55/100 轮:   0%|          | 0/10 [00:00<?, ?it/s]"
      ]
     },
     "metadata": {},
     "output_type": "display_data"
    },
    {
     "data": {
      "application/vnd.jupyter.widget-view+json": {
       "model_id": "faa7c3188eba4ee189cc9ccc100ed8a3",
       "version_major": 2,
       "version_minor": 0
      },
      "text/plain": [
       "第 56/100 轮:   0%|          | 0/10 [00:00<?, ?it/s]"
      ]
     },
     "metadata": {},
     "output_type": "display_data"
    },
    {
     "data": {
      "application/vnd.jupyter.widget-view+json": {
       "model_id": "36623b68a00f4999be4e18b06fbb11d8",
       "version_major": 2,
       "version_minor": 0
      },
      "text/plain": [
       "第 57/100 轮:   0%|          | 0/10 [00:00<?, ?it/s]"
      ]
     },
     "metadata": {},
     "output_type": "display_data"
    },
    {
     "data": {
      "application/vnd.jupyter.widget-view+json": {
       "model_id": "c6ecc7efc4c8425eb672e88c4d720ab3",
       "version_major": 2,
       "version_minor": 0
      },
      "text/plain": [
       "第 58/100 轮:   0%|          | 0/10 [00:00<?, ?it/s]"
      ]
     },
     "metadata": {},
     "output_type": "display_data"
    },
    {
     "data": {
      "application/vnd.jupyter.widget-view+json": {
       "model_id": "90db72be46d84692ba377a01691c8c83",
       "version_major": 2,
       "version_minor": 0
      },
      "text/plain": [
       "第 59/100 轮:   0%|          | 0/10 [00:00<?, ?it/s]"
      ]
     },
     "metadata": {},
     "output_type": "display_data"
    },
    {
     "data": {
      "application/vnd.jupyter.widget-view+json": {
       "model_id": "e382b266a6fd4b37a758fc65c4dc0ba1",
       "version_major": 2,
       "version_minor": 0
      },
      "text/plain": [
       "第 60/100 轮:   0%|          | 0/10 [00:00<?, ?it/s]"
      ]
     },
     "metadata": {},
     "output_type": "display_data"
    },
    {
     "data": {
      "application/vnd.jupyter.widget-view+json": {
       "model_id": "09ea657232ff4d849f531b5def5eb369",
       "version_major": 2,
       "version_minor": 0
      },
      "text/plain": [
       "第 61/100 轮:   0%|          | 0/10 [00:00<?, ?it/s]"
      ]
     },
     "metadata": {},
     "output_type": "display_data"
    },
    {
     "data": {
      "application/vnd.jupyter.widget-view+json": {
       "model_id": "0b301b02bc5247df9eb96fc6d0f9d945",
       "version_major": 2,
       "version_minor": 0
      },
      "text/plain": [
       "第 62/100 轮:   0%|          | 0/10 [00:00<?, ?it/s]"
      ]
     },
     "metadata": {},
     "output_type": "display_data"
    },
    {
     "data": {
      "application/vnd.jupyter.widget-view+json": {
       "model_id": "86497348747246a0ac6d4eff915fc7d7",
       "version_major": 2,
       "version_minor": 0
      },
      "text/plain": [
       "第 63/100 轮:   0%|          | 0/10 [00:00<?, ?it/s]"
      ]
     },
     "metadata": {},
     "output_type": "display_data"
    },
    {
     "data": {
      "application/vnd.jupyter.widget-view+json": {
       "model_id": "6bc6f0486ed348df9dd1b4bdf67c1eae",
       "version_major": 2,
       "version_minor": 0
      },
      "text/plain": [
       "第 64/100 轮:   0%|          | 0/10 [00:00<?, ?it/s]"
      ]
     },
     "metadata": {},
     "output_type": "display_data"
    },
    {
     "data": {
      "application/vnd.jupyter.widget-view+json": {
       "model_id": "aa638dad25c04b5097d72e4149ac1eab",
       "version_major": 2,
       "version_minor": 0
      },
      "text/plain": [
       "第 65/100 轮:   0%|          | 0/10 [00:00<?, ?it/s]"
      ]
     },
     "metadata": {},
     "output_type": "display_data"
    },
    {
     "data": {
      "application/vnd.jupyter.widget-view+json": {
       "model_id": "fc1c8dddfdd64a4aaff3a911108bc4b2",
       "version_major": 2,
       "version_minor": 0
      },
      "text/plain": [
       "第 66/100 轮:   0%|          | 0/10 [00:00<?, ?it/s]"
      ]
     },
     "metadata": {},
     "output_type": "display_data"
    },
    {
     "data": {
      "application/vnd.jupyter.widget-view+json": {
       "model_id": "ed2deb78a0504109880f535cf70f455d",
       "version_major": 2,
       "version_minor": 0
      },
      "text/plain": [
       "第 67/100 轮:   0%|          | 0/10 [00:00<?, ?it/s]"
      ]
     },
     "metadata": {},
     "output_type": "display_data"
    },
    {
     "data": {
      "application/vnd.jupyter.widget-view+json": {
       "model_id": "601b27a43d474eaba6edf4894cab5888",
       "version_major": 2,
       "version_minor": 0
      },
      "text/plain": [
       "第 68/100 轮:   0%|          | 0/10 [00:00<?, ?it/s]"
      ]
     },
     "metadata": {},
     "output_type": "display_data"
    },
    {
     "data": {
      "application/vnd.jupyter.widget-view+json": {
       "model_id": "c37c3d4e46b8415eb85eddd90c306175",
       "version_major": 2,
       "version_minor": 0
      },
      "text/plain": [
       "第 69/100 轮:   0%|          | 0/10 [00:00<?, ?it/s]"
      ]
     },
     "metadata": {},
     "output_type": "display_data"
    },
    {
     "data": {
      "application/vnd.jupyter.widget-view+json": {
       "model_id": "c7695025f35243da83f1d7ce6c9231bb",
       "version_major": 2,
       "version_minor": 0
      },
      "text/plain": [
       "第 70/100 轮:   0%|          | 0/10 [00:00<?, ?it/s]"
      ]
     },
     "metadata": {},
     "output_type": "display_data"
    },
    {
     "data": {
      "application/vnd.jupyter.widget-view+json": {
       "model_id": "207e06d5d7ac4c6eb66ca30ac44eeab9",
       "version_major": 2,
       "version_minor": 0
      },
      "text/plain": [
       "第 71/100 轮:   0%|          | 0/10 [00:00<?, ?it/s]"
      ]
     },
     "metadata": {},
     "output_type": "display_data"
    },
    {
     "data": {
      "application/vnd.jupyter.widget-view+json": {
       "model_id": "3f9b5f33f1f044cc87b9c0f66f71df96",
       "version_major": 2,
       "version_minor": 0
      },
      "text/plain": [
       "第 72/100 轮:   0%|          | 0/10 [00:00<?, ?it/s]"
      ]
     },
     "metadata": {},
     "output_type": "display_data"
    },
    {
     "data": {
      "application/vnd.jupyter.widget-view+json": {
       "model_id": "47e143448a6e4722ae98cb0409202043",
       "version_major": 2,
       "version_minor": 0
      },
      "text/plain": [
       "第 73/100 轮:   0%|          | 0/10 [00:00<?, ?it/s]"
      ]
     },
     "metadata": {},
     "output_type": "display_data"
    },
    {
     "data": {
      "application/vnd.jupyter.widget-view+json": {
       "model_id": "1385039fc1ed4f63947ee51a08af8fb7",
       "version_major": 2,
       "version_minor": 0
      },
      "text/plain": [
       "第 74/100 轮:   0%|          | 0/10 [00:00<?, ?it/s]"
      ]
     },
     "metadata": {},
     "output_type": "display_data"
    },
    {
     "data": {
      "application/vnd.jupyter.widget-view+json": {
       "model_id": "f7b4383b3c034db19e3ddfee117974f5",
       "version_major": 2,
       "version_minor": 0
      },
      "text/plain": [
       "第 75/100 轮:   0%|          | 0/10 [00:00<?, ?it/s]"
      ]
     },
     "metadata": {},
     "output_type": "display_data"
    },
    {
     "data": {
      "application/vnd.jupyter.widget-view+json": {
       "model_id": "b6aee08f70e34aea82e192465c1ec08b",
       "version_major": 2,
       "version_minor": 0
      },
      "text/plain": [
       "第 76/100 轮:   0%|          | 0/10 [00:00<?, ?it/s]"
      ]
     },
     "metadata": {},
     "output_type": "display_data"
    },
    {
     "data": {
      "application/vnd.jupyter.widget-view+json": {
       "model_id": "2d165d8eef204d8386a7db8ce7cbe3a7",
       "version_major": 2,
       "version_minor": 0
      },
      "text/plain": [
       "第 77/100 轮:   0%|          | 0/10 [00:00<?, ?it/s]"
      ]
     },
     "metadata": {},
     "output_type": "display_data"
    },
    {
     "data": {
      "application/vnd.jupyter.widget-view+json": {
       "model_id": "0ba0baf75d5d4f05a0f34d705f5a96cb",
       "version_major": 2,
       "version_minor": 0
      },
      "text/plain": [
       "第 78/100 轮:   0%|          | 0/10 [00:00<?, ?it/s]"
      ]
     },
     "metadata": {},
     "output_type": "display_data"
    },
    {
     "data": {
      "application/vnd.jupyter.widget-view+json": {
       "model_id": "31a1faa40f004345871bda5658ff606c",
       "version_major": 2,
       "version_minor": 0
      },
      "text/plain": [
       "第 79/100 轮:   0%|          | 0/10 [00:00<?, ?it/s]"
      ]
     },
     "metadata": {},
     "output_type": "display_data"
    },
    {
     "data": {
      "application/vnd.jupyter.widget-view+json": {
       "model_id": "d3afa9d15f8344ada765499be6cf16d0",
       "version_major": 2,
       "version_minor": 0
      },
      "text/plain": [
       "第 80/100 轮:   0%|          | 0/10 [00:00<?, ?it/s]"
      ]
     },
     "metadata": {},
     "output_type": "display_data"
    },
    {
     "data": {
      "application/vnd.jupyter.widget-view+json": {
       "model_id": "445a17682d454cc3bbe57b3a1123e242",
       "version_major": 2,
       "version_minor": 0
      },
      "text/plain": [
       "第 81/100 轮:   0%|          | 0/10 [00:00<?, ?it/s]"
      ]
     },
     "metadata": {},
     "output_type": "display_data"
    },
    {
     "data": {
      "application/vnd.jupyter.widget-view+json": {
       "model_id": "1a90ff45d1e6435abce279c024d0df73",
       "version_major": 2,
       "version_minor": 0
      },
      "text/plain": [
       "第 82/100 轮:   0%|          | 0/10 [00:00<?, ?it/s]"
      ]
     },
     "metadata": {},
     "output_type": "display_data"
    },
    {
     "data": {
      "application/vnd.jupyter.widget-view+json": {
       "model_id": "33ad563b650e4fae95bcf81580650da0",
       "version_major": 2,
       "version_minor": 0
      },
      "text/plain": [
       "第 83/100 轮:   0%|          | 0/10 [00:00<?, ?it/s]"
      ]
     },
     "metadata": {},
     "output_type": "display_data"
    },
    {
     "data": {
      "application/vnd.jupyter.widget-view+json": {
       "model_id": "74faef22229d465eb871fef5ced5c8dc",
       "version_major": 2,
       "version_minor": 0
      },
      "text/plain": [
       "第 84/100 轮:   0%|          | 0/10 [00:00<?, ?it/s]"
      ]
     },
     "metadata": {},
     "output_type": "display_data"
    },
    {
     "data": {
      "application/vnd.jupyter.widget-view+json": {
       "model_id": "0fe5a7f3faaf4d2490c32f16016ea974",
       "version_major": 2,
       "version_minor": 0
      },
      "text/plain": [
       "第 85/100 轮:   0%|          | 0/10 [00:00<?, ?it/s]"
      ]
     },
     "metadata": {},
     "output_type": "display_data"
    },
    {
     "data": {
      "application/vnd.jupyter.widget-view+json": {
       "model_id": "884d99939d0e405bad3e179d6e81cb1e",
       "version_major": 2,
       "version_minor": 0
      },
      "text/plain": [
       "第 86/100 轮:   0%|          | 0/10 [00:00<?, ?it/s]"
      ]
     },
     "metadata": {},
     "output_type": "display_data"
    },
    {
     "data": {
      "application/vnd.jupyter.widget-view+json": {
       "model_id": "5e8871640f3b4317b9e6c922b01fc788",
       "version_major": 2,
       "version_minor": 0
      },
      "text/plain": [
       "第 87/100 轮:   0%|          | 0/10 [00:00<?, ?it/s]"
      ]
     },
     "metadata": {},
     "output_type": "display_data"
    },
    {
     "data": {
      "application/vnd.jupyter.widget-view+json": {
       "model_id": "35fbaf512cab44e39158e176a0b90a32",
       "version_major": 2,
       "version_minor": 0
      },
      "text/plain": [
       "第 88/100 轮:   0%|          | 0/10 [00:00<?, ?it/s]"
      ]
     },
     "metadata": {},
     "output_type": "display_data"
    },
    {
     "data": {
      "application/vnd.jupyter.widget-view+json": {
       "model_id": "8d0b93c0873848a9a71ba8e96fe6e1df",
       "version_major": 2,
       "version_minor": 0
      },
      "text/plain": [
       "第 89/100 轮:   0%|          | 0/10 [00:00<?, ?it/s]"
      ]
     },
     "metadata": {},
     "output_type": "display_data"
    },
    {
     "data": {
      "application/vnd.jupyter.widget-view+json": {
       "model_id": "4bb10697e209448b8b696302c434218b",
       "version_major": 2,
       "version_minor": 0
      },
      "text/plain": [
       "第 90/100 轮:   0%|          | 0/10 [00:00<?, ?it/s]"
      ]
     },
     "metadata": {},
     "output_type": "display_data"
    },
    {
     "data": {
      "application/vnd.jupyter.widget-view+json": {
       "model_id": "f805e106c1464ea1b89b0b79b5ce097e",
       "version_major": 2,
       "version_minor": 0
      },
      "text/plain": [
       "第 91/100 轮:   0%|          | 0/10 [00:00<?, ?it/s]"
      ]
     },
     "metadata": {},
     "output_type": "display_data"
    },
    {
     "data": {
      "application/vnd.jupyter.widget-view+json": {
       "model_id": "f6e6a4557d55496581c4bfe8b75e383c",
       "version_major": 2,
       "version_minor": 0
      },
      "text/plain": [
       "第 92/100 轮:   0%|          | 0/10 [00:00<?, ?it/s]"
      ]
     },
     "metadata": {},
     "output_type": "display_data"
    },
    {
     "data": {
      "application/vnd.jupyter.widget-view+json": {
       "model_id": "2fa92cafbc914715904084660d877400",
       "version_major": 2,
       "version_minor": 0
      },
      "text/plain": [
       "第 93/100 轮:   0%|          | 0/10 [00:00<?, ?it/s]"
      ]
     },
     "metadata": {},
     "output_type": "display_data"
    },
    {
     "data": {
      "application/vnd.jupyter.widget-view+json": {
       "model_id": "e3845aded2f047fcbe723684b1c7ba16",
       "version_major": 2,
       "version_minor": 0
      },
      "text/plain": [
       "第 94/100 轮:   0%|          | 0/10 [00:00<?, ?it/s]"
      ]
     },
     "metadata": {},
     "output_type": "display_data"
    },
    {
     "data": {
      "application/vnd.jupyter.widget-view+json": {
       "model_id": "31f1937698fc484cac5f0b70511e433a",
       "version_major": 2,
       "version_minor": 0
      },
      "text/plain": [
       "第 95/100 轮:   0%|          | 0/10 [00:00<?, ?it/s]"
      ]
     },
     "metadata": {},
     "output_type": "display_data"
    },
    {
     "data": {
      "application/vnd.jupyter.widget-view+json": {
       "model_id": "c8ff63a9666540768a8582c211e3a064",
       "version_major": 2,
       "version_minor": 0
      },
      "text/plain": [
       "第 96/100 轮:   0%|          | 0/10 [00:00<?, ?it/s]"
      ]
     },
     "metadata": {},
     "output_type": "display_data"
    },
    {
     "data": {
      "application/vnd.jupyter.widget-view+json": {
       "model_id": "bef602fc21a341c38e4226eb2fbf4653",
       "version_major": 2,
       "version_minor": 0
      },
      "text/plain": [
       "第 97/100 轮:   0%|          | 0/10 [00:00<?, ?it/s]"
      ]
     },
     "metadata": {},
     "output_type": "display_data"
    },
    {
     "data": {
      "application/vnd.jupyter.widget-view+json": {
       "model_id": "ec33aab953b94db49a9303e385a95b61",
       "version_major": 2,
       "version_minor": 0
      },
      "text/plain": [
       "第 98/100 轮:   0%|          | 0/10 [00:00<?, ?it/s]"
      ]
     },
     "metadata": {},
     "output_type": "display_data"
    },
    {
     "data": {
      "application/vnd.jupyter.widget-view+json": {
       "model_id": "96505e75afee4bf48767e3c0da6f8e34",
       "version_major": 2,
       "version_minor": 0
      },
      "text/plain": [
       "第 99/100 轮:   0%|          | 0/10 [00:00<?, ?it/s]"
      ]
     },
     "metadata": {},
     "output_type": "display_data"
    },
    {
     "data": {
      "application/vnd.jupyter.widget-view+json": {
       "model_id": "61edecf8f53e4afaa8d22118410c0cb8",
       "version_major": 2,
       "version_minor": 0
      },
      "text/plain": [
       "第 100/100 轮:   0%|          | 0/10 [00:00<?, ?it/s]"
      ]
     },
     "metadata": {},
     "output_type": "display_data"
    },
    {
     "name": "stdout",
     "output_type": "stream",
     "text": [
      "Fold 2 - Epoch 100: Best Correlation Coefficient: 0.6712\n"
     ]
    },
    {
     "data": {
      "application/vnd.jupyter.widget-view+json": {
       "model_id": "d93034f920f24013a936edb06560d546",
       "version_major": 2,
       "version_minor": 0
      },
      "text/plain": [
       "第 1/100 轮:   0%|          | 0/10 [00:00<?, ?it/s]"
      ]
     },
     "metadata": {},
     "output_type": "display_data"
    },
    {
     "data": {
      "application/vnd.jupyter.widget-view+json": {
       "model_id": "072b49bf9ba34719b06f7b1440a5ede7",
       "version_major": 2,
       "version_minor": 0
      },
      "text/plain": [
       "第 2/100 轮:   0%|          | 0/10 [00:00<?, ?it/s]"
      ]
     },
     "metadata": {},
     "output_type": "display_data"
    },
    {
     "data": {
      "application/vnd.jupyter.widget-view+json": {
       "model_id": "20a6e097b4bc4757b8cc404d1a0da286",
       "version_major": 2,
       "version_minor": 0
      },
      "text/plain": [
       "第 3/100 轮:   0%|          | 0/10 [00:00<?, ?it/s]"
      ]
     },
     "metadata": {},
     "output_type": "display_data"
    },
    {
     "data": {
      "application/vnd.jupyter.widget-view+json": {
       "model_id": "45de6643684b477385c96ed72134642c",
       "version_major": 2,
       "version_minor": 0
      },
      "text/plain": [
       "第 4/100 轮:   0%|          | 0/10 [00:00<?, ?it/s]"
      ]
     },
     "metadata": {},
     "output_type": "display_data"
    },
    {
     "data": {
      "application/vnd.jupyter.widget-view+json": {
       "model_id": "aadb567b4b5c451ea3a048ca8a8045a7",
       "version_major": 2,
       "version_minor": 0
      },
      "text/plain": [
       "第 5/100 轮:   0%|          | 0/10 [00:00<?, ?it/s]"
      ]
     },
     "metadata": {},
     "output_type": "display_data"
    },
    {
     "data": {
      "application/vnd.jupyter.widget-view+json": {
       "model_id": "61f4482e1285498e96e8fbd629bcd5a0",
       "version_major": 2,
       "version_minor": 0
      },
      "text/plain": [
       "第 6/100 轮:   0%|          | 0/10 [00:00<?, ?it/s]"
      ]
     },
     "metadata": {},
     "output_type": "display_data"
    },
    {
     "data": {
      "application/vnd.jupyter.widget-view+json": {
       "model_id": "5022acf1b3e8428a8be70019d7dc33a5",
       "version_major": 2,
       "version_minor": 0
      },
      "text/plain": [
       "第 7/100 轮:   0%|          | 0/10 [00:00<?, ?it/s]"
      ]
     },
     "metadata": {},
     "output_type": "display_data"
    },
    {
     "data": {
      "application/vnd.jupyter.widget-view+json": {
       "model_id": "5db2df8fda9d4b86ac17e4b4be7cf990",
       "version_major": 2,
       "version_minor": 0
      },
      "text/plain": [
       "第 8/100 轮:   0%|          | 0/10 [00:00<?, ?it/s]"
      ]
     },
     "metadata": {},
     "output_type": "display_data"
    },
    {
     "data": {
      "application/vnd.jupyter.widget-view+json": {
       "model_id": "3a5859191bfc4eb4aac581a4e36b2d9b",
       "version_major": 2,
       "version_minor": 0
      },
      "text/plain": [
       "第 9/100 轮:   0%|          | 0/10 [00:00<?, ?it/s]"
      ]
     },
     "metadata": {},
     "output_type": "display_data"
    },
    {
     "data": {
      "application/vnd.jupyter.widget-view+json": {
       "model_id": "03b826e2073c4fe4a200375c0610bcb7",
       "version_major": 2,
       "version_minor": 0
      },
      "text/plain": [
       "第 10/100 轮:   0%|          | 0/10 [00:00<?, ?it/s]"
      ]
     },
     "metadata": {},
     "output_type": "display_data"
    },
    {
     "data": {
      "application/vnd.jupyter.widget-view+json": {
       "model_id": "302879e920084db7963b3023b47b19c1",
       "version_major": 2,
       "version_minor": 0
      },
      "text/plain": [
       "第 11/100 轮:   0%|          | 0/10 [00:00<?, ?it/s]"
      ]
     },
     "metadata": {},
     "output_type": "display_data"
    },
    {
     "data": {
      "application/vnd.jupyter.widget-view+json": {
       "model_id": "0118bdc06679401b80508f4aa46558db",
       "version_major": 2,
       "version_minor": 0
      },
      "text/plain": [
       "第 12/100 轮:   0%|          | 0/10 [00:00<?, ?it/s]"
      ]
     },
     "metadata": {},
     "output_type": "display_data"
    },
    {
     "data": {
      "application/vnd.jupyter.widget-view+json": {
       "model_id": "5f28e111c8044a46844b10f2fce5ee2f",
       "version_major": 2,
       "version_minor": 0
      },
      "text/plain": [
       "第 13/100 轮:   0%|          | 0/10 [00:00<?, ?it/s]"
      ]
     },
     "metadata": {},
     "output_type": "display_data"
    },
    {
     "data": {
      "application/vnd.jupyter.widget-view+json": {
       "model_id": "a662789d2625434aabb1c70556cde324",
       "version_major": 2,
       "version_minor": 0
      },
      "text/plain": [
       "第 14/100 轮:   0%|          | 0/10 [00:00<?, ?it/s]"
      ]
     },
     "metadata": {},
     "output_type": "display_data"
    },
    {
     "data": {
      "application/vnd.jupyter.widget-view+json": {
       "model_id": "b0c9c5ee3c51405e8a4047fb3e13d788",
       "version_major": 2,
       "version_minor": 0
      },
      "text/plain": [
       "第 15/100 轮:   0%|          | 0/10 [00:00<?, ?it/s]"
      ]
     },
     "metadata": {},
     "output_type": "display_data"
    },
    {
     "data": {
      "application/vnd.jupyter.widget-view+json": {
       "model_id": "7c3413136b8844679c8e09f773bd33d1",
       "version_major": 2,
       "version_minor": 0
      },
      "text/plain": [
       "第 16/100 轮:   0%|          | 0/10 [00:00<?, ?it/s]"
      ]
     },
     "metadata": {},
     "output_type": "display_data"
    },
    {
     "data": {
      "application/vnd.jupyter.widget-view+json": {
       "model_id": "81b7ce3fda9c4cdc801ca1cce276e57d",
       "version_major": 2,
       "version_minor": 0
      },
      "text/plain": [
       "第 17/100 轮:   0%|          | 0/10 [00:00<?, ?it/s]"
      ]
     },
     "metadata": {},
     "output_type": "display_data"
    },
    {
     "data": {
      "application/vnd.jupyter.widget-view+json": {
       "model_id": "b17c6af2661848e69d28ea81a9daaec0",
       "version_major": 2,
       "version_minor": 0
      },
      "text/plain": [
       "第 18/100 轮:   0%|          | 0/10 [00:00<?, ?it/s]"
      ]
     },
     "metadata": {},
     "output_type": "display_data"
    },
    {
     "data": {
      "application/vnd.jupyter.widget-view+json": {
       "model_id": "bbb4f09a02e44800a2c7f531760133b7",
       "version_major": 2,
       "version_minor": 0
      },
      "text/plain": [
       "第 19/100 轮:   0%|          | 0/10 [00:00<?, ?it/s]"
      ]
     },
     "metadata": {},
     "output_type": "display_data"
    },
    {
     "data": {
      "application/vnd.jupyter.widget-view+json": {
       "model_id": "72c0928bc4b74d6c9767f7f362aa087f",
       "version_major": 2,
       "version_minor": 0
      },
      "text/plain": [
       "第 20/100 轮:   0%|          | 0/10 [00:00<?, ?it/s]"
      ]
     },
     "metadata": {},
     "output_type": "display_data"
    },
    {
     "data": {
      "application/vnd.jupyter.widget-view+json": {
       "model_id": "89c4872440984d6187aadfd02e13696c",
       "version_major": 2,
       "version_minor": 0
      },
      "text/plain": [
       "第 21/100 轮:   0%|          | 0/10 [00:00<?, ?it/s]"
      ]
     },
     "metadata": {},
     "output_type": "display_data"
    },
    {
     "data": {
      "application/vnd.jupyter.widget-view+json": {
       "model_id": "dc8baf12191145e59ee3025c71987c95",
       "version_major": 2,
       "version_minor": 0
      },
      "text/plain": [
       "第 22/100 轮:   0%|          | 0/10 [00:00<?, ?it/s]"
      ]
     },
     "metadata": {},
     "output_type": "display_data"
    },
    {
     "data": {
      "application/vnd.jupyter.widget-view+json": {
       "model_id": "b5162c171c554abe8ab488102496ce59",
       "version_major": 2,
       "version_minor": 0
      },
      "text/plain": [
       "第 23/100 轮:   0%|          | 0/10 [00:00<?, ?it/s]"
      ]
     },
     "metadata": {},
     "output_type": "display_data"
    },
    {
     "data": {
      "application/vnd.jupyter.widget-view+json": {
       "model_id": "fd8dbea1cb0a4ed1935e21e7286a2beb",
       "version_major": 2,
       "version_minor": 0
      },
      "text/plain": [
       "第 24/100 轮:   0%|          | 0/10 [00:00<?, ?it/s]"
      ]
     },
     "metadata": {},
     "output_type": "display_data"
    },
    {
     "data": {
      "application/vnd.jupyter.widget-view+json": {
       "model_id": "7574091a84284800a72c943ec4196d97",
       "version_major": 2,
       "version_minor": 0
      },
      "text/plain": [
       "第 25/100 轮:   0%|          | 0/10 [00:00<?, ?it/s]"
      ]
     },
     "metadata": {},
     "output_type": "display_data"
    },
    {
     "data": {
      "application/vnd.jupyter.widget-view+json": {
       "model_id": "bbe0392212cd4ce899f36bdf53589493",
       "version_major": 2,
       "version_minor": 0
      },
      "text/plain": [
       "第 26/100 轮:   0%|          | 0/10 [00:00<?, ?it/s]"
      ]
     },
     "metadata": {},
     "output_type": "display_data"
    },
    {
     "data": {
      "application/vnd.jupyter.widget-view+json": {
       "model_id": "63cb628da65e48268774e9273b02da4b",
       "version_major": 2,
       "version_minor": 0
      },
      "text/plain": [
       "第 27/100 轮:   0%|          | 0/10 [00:00<?, ?it/s]"
      ]
     },
     "metadata": {},
     "output_type": "display_data"
    },
    {
     "data": {
      "application/vnd.jupyter.widget-view+json": {
       "model_id": "a23f836e84cd455dba70cd36e410a8eb",
       "version_major": 2,
       "version_minor": 0
      },
      "text/plain": [
       "第 28/100 轮:   0%|          | 0/10 [00:00<?, ?it/s]"
      ]
     },
     "metadata": {},
     "output_type": "display_data"
    },
    {
     "data": {
      "application/vnd.jupyter.widget-view+json": {
       "model_id": "99beec23380c4cd68fd89d781d351cf3",
       "version_major": 2,
       "version_minor": 0
      },
      "text/plain": [
       "第 29/100 轮:   0%|          | 0/10 [00:00<?, ?it/s]"
      ]
     },
     "metadata": {},
     "output_type": "display_data"
    },
    {
     "data": {
      "application/vnd.jupyter.widget-view+json": {
       "model_id": "8bd582d68b074c20b64650acdfe14b3b",
       "version_major": 2,
       "version_minor": 0
      },
      "text/plain": [
       "第 30/100 轮:   0%|          | 0/10 [00:00<?, ?it/s]"
      ]
     },
     "metadata": {},
     "output_type": "display_data"
    },
    {
     "data": {
      "application/vnd.jupyter.widget-view+json": {
       "model_id": "feff07dc934343c7b551181c36fa3e3a",
       "version_major": 2,
       "version_minor": 0
      },
      "text/plain": [
       "第 31/100 轮:   0%|          | 0/10 [00:00<?, ?it/s]"
      ]
     },
     "metadata": {},
     "output_type": "display_data"
    },
    {
     "data": {
      "application/vnd.jupyter.widget-view+json": {
       "model_id": "ceb59ca5566d48048cda9b0a3ab24892",
       "version_major": 2,
       "version_minor": 0
      },
      "text/plain": [
       "第 32/100 轮:   0%|          | 0/10 [00:00<?, ?it/s]"
      ]
     },
     "metadata": {},
     "output_type": "display_data"
    },
    {
     "data": {
      "application/vnd.jupyter.widget-view+json": {
       "model_id": "6410af6077b54017b47e95041af896e4",
       "version_major": 2,
       "version_minor": 0
      },
      "text/plain": [
       "第 33/100 轮:   0%|          | 0/10 [00:00<?, ?it/s]"
      ]
     },
     "metadata": {},
     "output_type": "display_data"
    },
    {
     "data": {
      "application/vnd.jupyter.widget-view+json": {
       "model_id": "4abe468face54a2d9096c0ba455f5531",
       "version_major": 2,
       "version_minor": 0
      },
      "text/plain": [
       "第 34/100 轮:   0%|          | 0/10 [00:00<?, ?it/s]"
      ]
     },
     "metadata": {},
     "output_type": "display_data"
    },
    {
     "data": {
      "application/vnd.jupyter.widget-view+json": {
       "model_id": "6660ae0f6a314942a5cbba80ccb5115c",
       "version_major": 2,
       "version_minor": 0
      },
      "text/plain": [
       "第 35/100 轮:   0%|          | 0/10 [00:00<?, ?it/s]"
      ]
     },
     "metadata": {},
     "output_type": "display_data"
    },
    {
     "data": {
      "application/vnd.jupyter.widget-view+json": {
       "model_id": "12d80ff087b4461fad7f55596d7accbe",
       "version_major": 2,
       "version_minor": 0
      },
      "text/plain": [
       "第 36/100 轮:   0%|          | 0/10 [00:00<?, ?it/s]"
      ]
     },
     "metadata": {},
     "output_type": "display_data"
    },
    {
     "data": {
      "application/vnd.jupyter.widget-view+json": {
       "model_id": "006f53a225bb489aa0315eb302b31f42",
       "version_major": 2,
       "version_minor": 0
      },
      "text/plain": [
       "第 37/100 轮:   0%|          | 0/10 [00:00<?, ?it/s]"
      ]
     },
     "metadata": {},
     "output_type": "display_data"
    },
    {
     "data": {
      "application/vnd.jupyter.widget-view+json": {
       "model_id": "53089ba5754a46d58090940c3deb8e28",
       "version_major": 2,
       "version_minor": 0
      },
      "text/plain": [
       "第 38/100 轮:   0%|          | 0/10 [00:00<?, ?it/s]"
      ]
     },
     "metadata": {},
     "output_type": "display_data"
    },
    {
     "data": {
      "application/vnd.jupyter.widget-view+json": {
       "model_id": "eeedac5dc1554622a501e8622320fde1",
       "version_major": 2,
       "version_minor": 0
      },
      "text/plain": [
       "第 39/100 轮:   0%|          | 0/10 [00:00<?, ?it/s]"
      ]
     },
     "metadata": {},
     "output_type": "display_data"
    },
    {
     "data": {
      "application/vnd.jupyter.widget-view+json": {
       "model_id": "83051bc2f1d9426a800f93791831a013",
       "version_major": 2,
       "version_minor": 0
      },
      "text/plain": [
       "第 40/100 轮:   0%|          | 0/10 [00:00<?, ?it/s]"
      ]
     },
     "metadata": {},
     "output_type": "display_data"
    },
    {
     "data": {
      "application/vnd.jupyter.widget-view+json": {
       "model_id": "22749e8d21464338b9e7d5c9374ce4a6",
       "version_major": 2,
       "version_minor": 0
      },
      "text/plain": [
       "第 41/100 轮:   0%|          | 0/10 [00:00<?, ?it/s]"
      ]
     },
     "metadata": {},
     "output_type": "display_data"
    },
    {
     "data": {
      "application/vnd.jupyter.widget-view+json": {
       "model_id": "bcefec96eca34409931a696bcb382dbc",
       "version_major": 2,
       "version_minor": 0
      },
      "text/plain": [
       "第 42/100 轮:   0%|          | 0/10 [00:00<?, ?it/s]"
      ]
     },
     "metadata": {},
     "output_type": "display_data"
    },
    {
     "data": {
      "application/vnd.jupyter.widget-view+json": {
       "model_id": "1cf6c053453b476fb750754cc97308cb",
       "version_major": 2,
       "version_minor": 0
      },
      "text/plain": [
       "第 43/100 轮:   0%|          | 0/10 [00:00<?, ?it/s]"
      ]
     },
     "metadata": {},
     "output_type": "display_data"
    },
    {
     "data": {
      "application/vnd.jupyter.widget-view+json": {
       "model_id": "97c30d4c8fc24e268bf0b3ff1997e0ca",
       "version_major": 2,
       "version_minor": 0
      },
      "text/plain": [
       "第 44/100 轮:   0%|          | 0/10 [00:00<?, ?it/s]"
      ]
     },
     "metadata": {},
     "output_type": "display_data"
    },
    {
     "data": {
      "application/vnd.jupyter.widget-view+json": {
       "model_id": "503c618d3cff44649ffa4a79359ce081",
       "version_major": 2,
       "version_minor": 0
      },
      "text/plain": [
       "第 45/100 轮:   0%|          | 0/10 [00:00<?, ?it/s]"
      ]
     },
     "metadata": {},
     "output_type": "display_data"
    },
    {
     "data": {
      "application/vnd.jupyter.widget-view+json": {
       "model_id": "643fc80585bf4e0f9205bd8c813101c3",
       "version_major": 2,
       "version_minor": 0
      },
      "text/plain": [
       "第 46/100 轮:   0%|          | 0/10 [00:00<?, ?it/s]"
      ]
     },
     "metadata": {},
     "output_type": "display_data"
    },
    {
     "data": {
      "application/vnd.jupyter.widget-view+json": {
       "model_id": "27ffcf876475410b9f9527e37d805724",
       "version_major": 2,
       "version_minor": 0
      },
      "text/plain": [
       "第 47/100 轮:   0%|          | 0/10 [00:00<?, ?it/s]"
      ]
     },
     "metadata": {},
     "output_type": "display_data"
    },
    {
     "data": {
      "application/vnd.jupyter.widget-view+json": {
       "model_id": "b8516a2f75aa4cfe82c4bb0196b16b97",
       "version_major": 2,
       "version_minor": 0
      },
      "text/plain": [
       "第 48/100 轮:   0%|          | 0/10 [00:00<?, ?it/s]"
      ]
     },
     "metadata": {},
     "output_type": "display_data"
    },
    {
     "data": {
      "application/vnd.jupyter.widget-view+json": {
       "model_id": "82a88a1716234f4e818750138087e0b4",
       "version_major": 2,
       "version_minor": 0
      },
      "text/plain": [
       "第 49/100 轮:   0%|          | 0/10 [00:00<?, ?it/s]"
      ]
     },
     "metadata": {},
     "output_type": "display_data"
    },
    {
     "data": {
      "application/vnd.jupyter.widget-view+json": {
       "model_id": "5a7e0424a6944a56b829c3183b353150",
       "version_major": 2,
       "version_minor": 0
      },
      "text/plain": [
       "第 50/100 轮:   0%|          | 0/10 [00:00<?, ?it/s]"
      ]
     },
     "metadata": {},
     "output_type": "display_data"
    },
    {
     "data": {
      "application/vnd.jupyter.widget-view+json": {
       "model_id": "8236222f7b33485da86df46c5f13df20",
       "version_major": 2,
       "version_minor": 0
      },
      "text/plain": [
       "第 51/100 轮:   0%|          | 0/10 [00:00<?, ?it/s]"
      ]
     },
     "metadata": {},
     "output_type": "display_data"
    },
    {
     "data": {
      "application/vnd.jupyter.widget-view+json": {
       "model_id": "9c9a50a1987949b198e0d3d85c392033",
       "version_major": 2,
       "version_minor": 0
      },
      "text/plain": [
       "第 52/100 轮:   0%|          | 0/10 [00:00<?, ?it/s]"
      ]
     },
     "metadata": {},
     "output_type": "display_data"
    },
    {
     "data": {
      "application/vnd.jupyter.widget-view+json": {
       "model_id": "1cec68e556d3453daaa815b43cbfc6c9",
       "version_major": 2,
       "version_minor": 0
      },
      "text/plain": [
       "第 53/100 轮:   0%|          | 0/10 [00:00<?, ?it/s]"
      ]
     },
     "metadata": {},
     "output_type": "display_data"
    },
    {
     "data": {
      "application/vnd.jupyter.widget-view+json": {
       "model_id": "327ad84119824765bbd4ad559d960c5f",
       "version_major": 2,
       "version_minor": 0
      },
      "text/plain": [
       "第 54/100 轮:   0%|          | 0/10 [00:00<?, ?it/s]"
      ]
     },
     "metadata": {},
     "output_type": "display_data"
    },
    {
     "data": {
      "application/vnd.jupyter.widget-view+json": {
       "model_id": "225c671b03474de1986fa854b7619faa",
       "version_major": 2,
       "version_minor": 0
      },
      "text/plain": [
       "第 55/100 轮:   0%|          | 0/10 [00:00<?, ?it/s]"
      ]
     },
     "metadata": {},
     "output_type": "display_data"
    },
    {
     "data": {
      "application/vnd.jupyter.widget-view+json": {
       "model_id": "57a1c3e051ba43e98bb13d19ec2c8c53",
       "version_major": 2,
       "version_minor": 0
      },
      "text/plain": [
       "第 56/100 轮:   0%|          | 0/10 [00:00<?, ?it/s]"
      ]
     },
     "metadata": {},
     "output_type": "display_data"
    },
    {
     "data": {
      "application/vnd.jupyter.widget-view+json": {
       "model_id": "822fd60367004fa29e4591fa6239988a",
       "version_major": 2,
       "version_minor": 0
      },
      "text/plain": [
       "第 57/100 轮:   0%|          | 0/10 [00:00<?, ?it/s]"
      ]
     },
     "metadata": {},
     "output_type": "display_data"
    },
    {
     "data": {
      "application/vnd.jupyter.widget-view+json": {
       "model_id": "42f09ec94dc94aac95ede8304a1d56c4",
       "version_major": 2,
       "version_minor": 0
      },
      "text/plain": [
       "第 58/100 轮:   0%|          | 0/10 [00:00<?, ?it/s]"
      ]
     },
     "metadata": {},
     "output_type": "display_data"
    },
    {
     "data": {
      "application/vnd.jupyter.widget-view+json": {
       "model_id": "7255bd6e9ab74c2d83ac5624698f4d0f",
       "version_major": 2,
       "version_minor": 0
      },
      "text/plain": [
       "第 59/100 轮:   0%|          | 0/10 [00:00<?, ?it/s]"
      ]
     },
     "metadata": {},
     "output_type": "display_data"
    },
    {
     "data": {
      "application/vnd.jupyter.widget-view+json": {
       "model_id": "b2600e9e5602492a8c6d36b852dd894f",
       "version_major": 2,
       "version_minor": 0
      },
      "text/plain": [
       "第 60/100 轮:   0%|          | 0/10 [00:00<?, ?it/s]"
      ]
     },
     "metadata": {},
     "output_type": "display_data"
    },
    {
     "data": {
      "application/vnd.jupyter.widget-view+json": {
       "model_id": "39f3a0f97fc448e6a90a72467ad49ff5",
       "version_major": 2,
       "version_minor": 0
      },
      "text/plain": [
       "第 61/100 轮:   0%|          | 0/10 [00:00<?, ?it/s]"
      ]
     },
     "metadata": {},
     "output_type": "display_data"
    },
    {
     "data": {
      "application/vnd.jupyter.widget-view+json": {
       "model_id": "9e40807d7a6841078dc6a70ee607b9f2",
       "version_major": 2,
       "version_minor": 0
      },
      "text/plain": [
       "第 62/100 轮:   0%|          | 0/10 [00:00<?, ?it/s]"
      ]
     },
     "metadata": {},
     "output_type": "display_data"
    },
    {
     "data": {
      "application/vnd.jupyter.widget-view+json": {
       "model_id": "9bfc614de5254585a4c30a6c9c78721e",
       "version_major": 2,
       "version_minor": 0
      },
      "text/plain": [
       "第 63/100 轮:   0%|          | 0/10 [00:00<?, ?it/s]"
      ]
     },
     "metadata": {},
     "output_type": "display_data"
    },
    {
     "data": {
      "application/vnd.jupyter.widget-view+json": {
       "model_id": "4a74063bb73c4c12ade8393b79887744",
       "version_major": 2,
       "version_minor": 0
      },
      "text/plain": [
       "第 64/100 轮:   0%|          | 0/10 [00:00<?, ?it/s]"
      ]
     },
     "metadata": {},
     "output_type": "display_data"
    },
    {
     "data": {
      "application/vnd.jupyter.widget-view+json": {
       "model_id": "b6242303850a4577a2ffd69a50394b28",
       "version_major": 2,
       "version_minor": 0
      },
      "text/plain": [
       "第 65/100 轮:   0%|          | 0/10 [00:00<?, ?it/s]"
      ]
     },
     "metadata": {},
     "output_type": "display_data"
    },
    {
     "data": {
      "application/vnd.jupyter.widget-view+json": {
       "model_id": "8192f921003b4b5097507d5b46f56204",
       "version_major": 2,
       "version_minor": 0
      },
      "text/plain": [
       "第 66/100 轮:   0%|          | 0/10 [00:00<?, ?it/s]"
      ]
     },
     "metadata": {},
     "output_type": "display_data"
    },
    {
     "data": {
      "application/vnd.jupyter.widget-view+json": {
       "model_id": "52d9cd36192a427daf167e8c60649b1d",
       "version_major": 2,
       "version_minor": 0
      },
      "text/plain": [
       "第 67/100 轮:   0%|          | 0/10 [00:00<?, ?it/s]"
      ]
     },
     "metadata": {},
     "output_type": "display_data"
    },
    {
     "data": {
      "application/vnd.jupyter.widget-view+json": {
       "model_id": "c53870e5142644caa5fcfd8477fa6427",
       "version_major": 2,
       "version_minor": 0
      },
      "text/plain": [
       "第 68/100 轮:   0%|          | 0/10 [00:00<?, ?it/s]"
      ]
     },
     "metadata": {},
     "output_type": "display_data"
    },
    {
     "data": {
      "application/vnd.jupyter.widget-view+json": {
       "model_id": "e10e0fed2f434b86b59a2bcd4d1217df",
       "version_major": 2,
       "version_minor": 0
      },
      "text/plain": [
       "第 69/100 轮:   0%|          | 0/10 [00:00<?, ?it/s]"
      ]
     },
     "metadata": {},
     "output_type": "display_data"
    },
    {
     "data": {
      "application/vnd.jupyter.widget-view+json": {
       "model_id": "3f9499796b7f4138964222dcc3b880a7",
       "version_major": 2,
       "version_minor": 0
      },
      "text/plain": [
       "第 70/100 轮:   0%|          | 0/10 [00:00<?, ?it/s]"
      ]
     },
     "metadata": {},
     "output_type": "display_data"
    },
    {
     "data": {
      "application/vnd.jupyter.widget-view+json": {
       "model_id": "05bc87322ffd44cb9e7d90ec0669efda",
       "version_major": 2,
       "version_minor": 0
      },
      "text/plain": [
       "第 71/100 轮:   0%|          | 0/10 [00:00<?, ?it/s]"
      ]
     },
     "metadata": {},
     "output_type": "display_data"
    },
    {
     "data": {
      "application/vnd.jupyter.widget-view+json": {
       "model_id": "cbfe79dd6d1a488a8a77ae09d04fc9ce",
       "version_major": 2,
       "version_minor": 0
      },
      "text/plain": [
       "第 72/100 轮:   0%|          | 0/10 [00:00<?, ?it/s]"
      ]
     },
     "metadata": {},
     "output_type": "display_data"
    },
    {
     "data": {
      "application/vnd.jupyter.widget-view+json": {
       "model_id": "9d1a0e41c4444004a880feae389095f7",
       "version_major": 2,
       "version_minor": 0
      },
      "text/plain": [
       "第 73/100 轮:   0%|          | 0/10 [00:00<?, ?it/s]"
      ]
     },
     "metadata": {},
     "output_type": "display_data"
    },
    {
     "data": {
      "application/vnd.jupyter.widget-view+json": {
       "model_id": "fad5d22353d14b92b84adec42d56f9c5",
       "version_major": 2,
       "version_minor": 0
      },
      "text/plain": [
       "第 74/100 轮:   0%|          | 0/10 [00:00<?, ?it/s]"
      ]
     },
     "metadata": {},
     "output_type": "display_data"
    },
    {
     "data": {
      "application/vnd.jupyter.widget-view+json": {
       "model_id": "6dbcde227e97477ba27a36dba9798099",
       "version_major": 2,
       "version_minor": 0
      },
      "text/plain": [
       "第 75/100 轮:   0%|          | 0/10 [00:00<?, ?it/s]"
      ]
     },
     "metadata": {},
     "output_type": "display_data"
    },
    {
     "data": {
      "application/vnd.jupyter.widget-view+json": {
       "model_id": "77357879e2c34e8182a0eb05cc62dfa0",
       "version_major": 2,
       "version_minor": 0
      },
      "text/plain": [
       "第 76/100 轮:   0%|          | 0/10 [00:00<?, ?it/s]"
      ]
     },
     "metadata": {},
     "output_type": "display_data"
    },
    {
     "data": {
      "application/vnd.jupyter.widget-view+json": {
       "model_id": "6340c48311ea41a1b42e21ac3ac43578",
       "version_major": 2,
       "version_minor": 0
      },
      "text/plain": [
       "第 77/100 轮:   0%|          | 0/10 [00:00<?, ?it/s]"
      ]
     },
     "metadata": {},
     "output_type": "display_data"
    },
    {
     "data": {
      "application/vnd.jupyter.widget-view+json": {
       "model_id": "e584f18235b344fb8994a8cdc07417ba",
       "version_major": 2,
       "version_minor": 0
      },
      "text/plain": [
       "第 78/100 轮:   0%|          | 0/10 [00:00<?, ?it/s]"
      ]
     },
     "metadata": {},
     "output_type": "display_data"
    },
    {
     "data": {
      "application/vnd.jupyter.widget-view+json": {
       "model_id": "4a6e5f4b21c74b96af07e76f8b467dbb",
       "version_major": 2,
       "version_minor": 0
      },
      "text/plain": [
       "第 79/100 轮:   0%|          | 0/10 [00:00<?, ?it/s]"
      ]
     },
     "metadata": {},
     "output_type": "display_data"
    },
    {
     "data": {
      "application/vnd.jupyter.widget-view+json": {
       "model_id": "be26a634cb7e49ceaf140275da5a53f4",
       "version_major": 2,
       "version_minor": 0
      },
      "text/plain": [
       "第 80/100 轮:   0%|          | 0/10 [00:00<?, ?it/s]"
      ]
     },
     "metadata": {},
     "output_type": "display_data"
    },
    {
     "data": {
      "application/vnd.jupyter.widget-view+json": {
       "model_id": "65d9c9ee1bfb4a53b6e0478c8a66e169",
       "version_major": 2,
       "version_minor": 0
      },
      "text/plain": [
       "第 81/100 轮:   0%|          | 0/10 [00:00<?, ?it/s]"
      ]
     },
     "metadata": {},
     "output_type": "display_data"
    },
    {
     "data": {
      "application/vnd.jupyter.widget-view+json": {
       "model_id": "5448fc2559f043a1a1ed9836270fd8ad",
       "version_major": 2,
       "version_minor": 0
      },
      "text/plain": [
       "第 82/100 轮:   0%|          | 0/10 [00:00<?, ?it/s]"
      ]
     },
     "metadata": {},
     "output_type": "display_data"
    },
    {
     "data": {
      "application/vnd.jupyter.widget-view+json": {
       "model_id": "8cb1283fb91245b19869863a6196b71d",
       "version_major": 2,
       "version_minor": 0
      },
      "text/plain": [
       "第 83/100 轮:   0%|          | 0/10 [00:00<?, ?it/s]"
      ]
     },
     "metadata": {},
     "output_type": "display_data"
    },
    {
     "data": {
      "application/vnd.jupyter.widget-view+json": {
       "model_id": "5fa1ad631c74484fb8f68861a13c66ab",
       "version_major": 2,
       "version_minor": 0
      },
      "text/plain": [
       "第 84/100 轮:   0%|          | 0/10 [00:00<?, ?it/s]"
      ]
     },
     "metadata": {},
     "output_type": "display_data"
    },
    {
     "data": {
      "application/vnd.jupyter.widget-view+json": {
       "model_id": "718b5f171b7140ccb74ee6f102415943",
       "version_major": 2,
       "version_minor": 0
      },
      "text/plain": [
       "第 85/100 轮:   0%|          | 0/10 [00:00<?, ?it/s]"
      ]
     },
     "metadata": {},
     "output_type": "display_data"
    },
    {
     "data": {
      "application/vnd.jupyter.widget-view+json": {
       "model_id": "837c94b0b189444a941b01f5c834e09c",
       "version_major": 2,
       "version_minor": 0
      },
      "text/plain": [
       "第 86/100 轮:   0%|          | 0/10 [00:00<?, ?it/s]"
      ]
     },
     "metadata": {},
     "output_type": "display_data"
    },
    {
     "data": {
      "application/vnd.jupyter.widget-view+json": {
       "model_id": "faf0028bb104481f90635f2d3b765634",
       "version_major": 2,
       "version_minor": 0
      },
      "text/plain": [
       "第 87/100 轮:   0%|          | 0/10 [00:00<?, ?it/s]"
      ]
     },
     "metadata": {},
     "output_type": "display_data"
    },
    {
     "data": {
      "application/vnd.jupyter.widget-view+json": {
       "model_id": "4758404577c343dd83c8bf1382e65290",
       "version_major": 2,
       "version_minor": 0
      },
      "text/plain": [
       "第 88/100 轮:   0%|          | 0/10 [00:00<?, ?it/s]"
      ]
     },
     "metadata": {},
     "output_type": "display_data"
    },
    {
     "data": {
      "application/vnd.jupyter.widget-view+json": {
       "model_id": "136d5901f1c540ed9e0d481459766fd7",
       "version_major": 2,
       "version_minor": 0
      },
      "text/plain": [
       "第 89/100 轮:   0%|          | 0/10 [00:00<?, ?it/s]"
      ]
     },
     "metadata": {},
     "output_type": "display_data"
    },
    {
     "data": {
      "application/vnd.jupyter.widget-view+json": {
       "model_id": "ab8a028b1cfb4f70b171dfcb945276c3",
       "version_major": 2,
       "version_minor": 0
      },
      "text/plain": [
       "第 90/100 轮:   0%|          | 0/10 [00:00<?, ?it/s]"
      ]
     },
     "metadata": {},
     "output_type": "display_data"
    },
    {
     "data": {
      "application/vnd.jupyter.widget-view+json": {
       "model_id": "edac6e88a9374786a0efc12f9d526027",
       "version_major": 2,
       "version_minor": 0
      },
      "text/plain": [
       "第 91/100 轮:   0%|          | 0/10 [00:00<?, ?it/s]"
      ]
     },
     "metadata": {},
     "output_type": "display_data"
    },
    {
     "data": {
      "application/vnd.jupyter.widget-view+json": {
       "model_id": "15c72394aa19430d8391c48cf9eee4b4",
       "version_major": 2,
       "version_minor": 0
      },
      "text/plain": [
       "第 92/100 轮:   0%|          | 0/10 [00:00<?, ?it/s]"
      ]
     },
     "metadata": {},
     "output_type": "display_data"
    },
    {
     "data": {
      "application/vnd.jupyter.widget-view+json": {
       "model_id": "44edc7db88034b5599f544457d9d7c49",
       "version_major": 2,
       "version_minor": 0
      },
      "text/plain": [
       "第 93/100 轮:   0%|          | 0/10 [00:00<?, ?it/s]"
      ]
     },
     "metadata": {},
     "output_type": "display_data"
    },
    {
     "data": {
      "application/vnd.jupyter.widget-view+json": {
       "model_id": "c9b383cad810439097c568cbdc2b4f4d",
       "version_major": 2,
       "version_minor": 0
      },
      "text/plain": [
       "第 94/100 轮:   0%|          | 0/10 [00:00<?, ?it/s]"
      ]
     },
     "metadata": {},
     "output_type": "display_data"
    },
    {
     "data": {
      "application/vnd.jupyter.widget-view+json": {
       "model_id": "ee87e2889a1e41d18aab68c2d2dd3521",
       "version_major": 2,
       "version_minor": 0
      },
      "text/plain": [
       "第 95/100 轮:   0%|          | 0/10 [00:00<?, ?it/s]"
      ]
     },
     "metadata": {},
     "output_type": "display_data"
    },
    {
     "data": {
      "application/vnd.jupyter.widget-view+json": {
       "model_id": "dd941277f3b644ed9ae047bd0a500297",
       "version_major": 2,
       "version_minor": 0
      },
      "text/plain": [
       "第 96/100 轮:   0%|          | 0/10 [00:00<?, ?it/s]"
      ]
     },
     "metadata": {},
     "output_type": "display_data"
    },
    {
     "data": {
      "application/vnd.jupyter.widget-view+json": {
       "model_id": "ace758d51df04e4988ac1273928697f9",
       "version_major": 2,
       "version_minor": 0
      },
      "text/plain": [
       "第 97/100 轮:   0%|          | 0/10 [00:00<?, ?it/s]"
      ]
     },
     "metadata": {},
     "output_type": "display_data"
    },
    {
     "data": {
      "application/vnd.jupyter.widget-view+json": {
       "model_id": "d91e00933f644b3f936a4578ca64d91e",
       "version_major": 2,
       "version_minor": 0
      },
      "text/plain": [
       "第 98/100 轮:   0%|          | 0/10 [00:00<?, ?it/s]"
      ]
     },
     "metadata": {},
     "output_type": "display_data"
    },
    {
     "data": {
      "application/vnd.jupyter.widget-view+json": {
       "model_id": "e797d448238f4ef09721d707b5059f31",
       "version_major": 2,
       "version_minor": 0
      },
      "text/plain": [
       "第 99/100 轮:   0%|          | 0/10 [00:00<?, ?it/s]"
      ]
     },
     "metadata": {},
     "output_type": "display_data"
    },
    {
     "data": {
      "application/vnd.jupyter.widget-view+json": {
       "model_id": "c6cc29ab068f454987b8595059f183a7",
       "version_major": 2,
       "version_minor": 0
      },
      "text/plain": [
       "第 100/100 轮:   0%|          | 0/10 [00:00<?, ?it/s]"
      ]
     },
     "metadata": {},
     "output_type": "display_data"
    },
    {
     "name": "stdout",
     "output_type": "stream",
     "text": [
      "Fold 3 - Epoch 100: Best Correlation Coefficient: 0.6711\n"
     ]
    },
    {
     "data": {
      "application/vnd.jupyter.widget-view+json": {
       "model_id": "be6b487994b8451c8a63e0caf4c2562e",
       "version_major": 2,
       "version_minor": 0
      },
      "text/plain": [
       "第 1/100 轮:   0%|          | 0/10 [00:00<?, ?it/s]"
      ]
     },
     "metadata": {},
     "output_type": "display_data"
    },
    {
     "data": {
      "application/vnd.jupyter.widget-view+json": {
       "model_id": "033a6625d56d4964a0b00c7864a6ac16",
       "version_major": 2,
       "version_minor": 0
      },
      "text/plain": [
       "第 2/100 轮:   0%|          | 0/10 [00:00<?, ?it/s]"
      ]
     },
     "metadata": {},
     "output_type": "display_data"
    },
    {
     "data": {
      "application/vnd.jupyter.widget-view+json": {
       "model_id": "beeb836997844418813cae04433b5751",
       "version_major": 2,
       "version_minor": 0
      },
      "text/plain": [
       "第 3/100 轮:   0%|          | 0/10 [00:00<?, ?it/s]"
      ]
     },
     "metadata": {},
     "output_type": "display_data"
    },
    {
     "data": {
      "application/vnd.jupyter.widget-view+json": {
       "model_id": "0b614179f6b8406e8b09a9616f70af26",
       "version_major": 2,
       "version_minor": 0
      },
      "text/plain": [
       "第 4/100 轮:   0%|          | 0/10 [00:00<?, ?it/s]"
      ]
     },
     "metadata": {},
     "output_type": "display_data"
    },
    {
     "data": {
      "application/vnd.jupyter.widget-view+json": {
       "model_id": "0920c040aaf24b7c8e63553211fca5c0",
       "version_major": 2,
       "version_minor": 0
      },
      "text/plain": [
       "第 5/100 轮:   0%|          | 0/10 [00:00<?, ?it/s]"
      ]
     },
     "metadata": {},
     "output_type": "display_data"
    },
    {
     "data": {
      "application/vnd.jupyter.widget-view+json": {
       "model_id": "1fc709b8e7794e8a8617bfcce6facf7c",
       "version_major": 2,
       "version_minor": 0
      },
      "text/plain": [
       "第 6/100 轮:   0%|          | 0/10 [00:00<?, ?it/s]"
      ]
     },
     "metadata": {},
     "output_type": "display_data"
    },
    {
     "data": {
      "application/vnd.jupyter.widget-view+json": {
       "model_id": "7dafc00f9180474087a0230445f6f715",
       "version_major": 2,
       "version_minor": 0
      },
      "text/plain": [
       "第 7/100 轮:   0%|          | 0/10 [00:00<?, ?it/s]"
      ]
     },
     "metadata": {},
     "output_type": "display_data"
    },
    {
     "data": {
      "application/vnd.jupyter.widget-view+json": {
       "model_id": "ce3e6786f86e4e458bf6c2e1578a6f10",
       "version_major": 2,
       "version_minor": 0
      },
      "text/plain": [
       "第 8/100 轮:   0%|          | 0/10 [00:00<?, ?it/s]"
      ]
     },
     "metadata": {},
     "output_type": "display_data"
    },
    {
     "data": {
      "application/vnd.jupyter.widget-view+json": {
       "model_id": "fdc4be452c2a434ebd79c24b48082956",
       "version_major": 2,
       "version_minor": 0
      },
      "text/plain": [
       "第 9/100 轮:   0%|          | 0/10 [00:00<?, ?it/s]"
      ]
     },
     "metadata": {},
     "output_type": "display_data"
    },
    {
     "data": {
      "application/vnd.jupyter.widget-view+json": {
       "model_id": "10c361d0c5c84b0295bdea4fa59aaeaa",
       "version_major": 2,
       "version_minor": 0
      },
      "text/plain": [
       "第 10/100 轮:   0%|          | 0/10 [00:00<?, ?it/s]"
      ]
     },
     "metadata": {},
     "output_type": "display_data"
    },
    {
     "data": {
      "application/vnd.jupyter.widget-view+json": {
       "model_id": "e0b3f2d1a7b9435fb2c934375a41c824",
       "version_major": 2,
       "version_minor": 0
      },
      "text/plain": [
       "第 11/100 轮:   0%|          | 0/10 [00:00<?, ?it/s]"
      ]
     },
     "metadata": {},
     "output_type": "display_data"
    },
    {
     "data": {
      "application/vnd.jupyter.widget-view+json": {
       "model_id": "b29512d67fdf41de84a3f48b45590ca2",
       "version_major": 2,
       "version_minor": 0
      },
      "text/plain": [
       "第 12/100 轮:   0%|          | 0/10 [00:00<?, ?it/s]"
      ]
     },
     "metadata": {},
     "output_type": "display_data"
    },
    {
     "data": {
      "application/vnd.jupyter.widget-view+json": {
       "model_id": "8746538b89f4414abd65fa9ececbab8f",
       "version_major": 2,
       "version_minor": 0
      },
      "text/plain": [
       "第 13/100 轮:   0%|          | 0/10 [00:00<?, ?it/s]"
      ]
     },
     "metadata": {},
     "output_type": "display_data"
    },
    {
     "data": {
      "application/vnd.jupyter.widget-view+json": {
       "model_id": "9b60d668fcf54d078266827eebbde3b2",
       "version_major": 2,
       "version_minor": 0
      },
      "text/plain": [
       "第 14/100 轮:   0%|          | 0/10 [00:00<?, ?it/s]"
      ]
     },
     "metadata": {},
     "output_type": "display_data"
    },
    {
     "data": {
      "application/vnd.jupyter.widget-view+json": {
       "model_id": "a48d34db314a4e63bb89a56404376cbc",
       "version_major": 2,
       "version_minor": 0
      },
      "text/plain": [
       "第 15/100 轮:   0%|          | 0/10 [00:00<?, ?it/s]"
      ]
     },
     "metadata": {},
     "output_type": "display_data"
    },
    {
     "data": {
      "application/vnd.jupyter.widget-view+json": {
       "model_id": "aa167978503f4c7d8ef4acdd1a9b8d9c",
       "version_major": 2,
       "version_minor": 0
      },
      "text/plain": [
       "第 16/100 轮:   0%|          | 0/10 [00:00<?, ?it/s]"
      ]
     },
     "metadata": {},
     "output_type": "display_data"
    },
    {
     "data": {
      "application/vnd.jupyter.widget-view+json": {
       "model_id": "77a7939b74db4d01a49fce96fb96479b",
       "version_major": 2,
       "version_minor": 0
      },
      "text/plain": [
       "第 17/100 轮:   0%|          | 0/10 [00:00<?, ?it/s]"
      ]
     },
     "metadata": {},
     "output_type": "display_data"
    },
    {
     "data": {
      "application/vnd.jupyter.widget-view+json": {
       "model_id": "44d0cb77a3594206bae8e9b90c1431e0",
       "version_major": 2,
       "version_minor": 0
      },
      "text/plain": [
       "第 18/100 轮:   0%|          | 0/10 [00:00<?, ?it/s]"
      ]
     },
     "metadata": {},
     "output_type": "display_data"
    },
    {
     "data": {
      "application/vnd.jupyter.widget-view+json": {
       "model_id": "171e98a952f9428888f99484779e0c6a",
       "version_major": 2,
       "version_minor": 0
      },
      "text/plain": [
       "第 19/100 轮:   0%|          | 0/10 [00:00<?, ?it/s]"
      ]
     },
     "metadata": {},
     "output_type": "display_data"
    },
    {
     "data": {
      "application/vnd.jupyter.widget-view+json": {
       "model_id": "ebd90fba20484935bd791eba381f697d",
       "version_major": 2,
       "version_minor": 0
      },
      "text/plain": [
       "第 20/100 轮:   0%|          | 0/10 [00:00<?, ?it/s]"
      ]
     },
     "metadata": {},
     "output_type": "display_data"
    },
    {
     "data": {
      "application/vnd.jupyter.widget-view+json": {
       "model_id": "adb68cd7669542fa8288807a6f9bcc2a",
       "version_major": 2,
       "version_minor": 0
      },
      "text/plain": [
       "第 21/100 轮:   0%|          | 0/10 [00:00<?, ?it/s]"
      ]
     },
     "metadata": {},
     "output_type": "display_data"
    },
    {
     "data": {
      "application/vnd.jupyter.widget-view+json": {
       "model_id": "15223182ef764527b71f7ef33ac68a40",
       "version_major": 2,
       "version_minor": 0
      },
      "text/plain": [
       "第 22/100 轮:   0%|          | 0/10 [00:00<?, ?it/s]"
      ]
     },
     "metadata": {},
     "output_type": "display_data"
    },
    {
     "data": {
      "application/vnd.jupyter.widget-view+json": {
       "model_id": "fa15eb791e3c4416a99e3c49203dcf59",
       "version_major": 2,
       "version_minor": 0
      },
      "text/plain": [
       "第 23/100 轮:   0%|          | 0/10 [00:00<?, ?it/s]"
      ]
     },
     "metadata": {},
     "output_type": "display_data"
    },
    {
     "data": {
      "application/vnd.jupyter.widget-view+json": {
       "model_id": "e76aeeaec90746c8976ca176789b9275",
       "version_major": 2,
       "version_minor": 0
      },
      "text/plain": [
       "第 24/100 轮:   0%|          | 0/10 [00:00<?, ?it/s]"
      ]
     },
     "metadata": {},
     "output_type": "display_data"
    },
    {
     "data": {
      "application/vnd.jupyter.widget-view+json": {
       "model_id": "ad47bdd36de640c59efd11a44d0eaa7b",
       "version_major": 2,
       "version_minor": 0
      },
      "text/plain": [
       "第 25/100 轮:   0%|          | 0/10 [00:00<?, ?it/s]"
      ]
     },
     "metadata": {},
     "output_type": "display_data"
    },
    {
     "data": {
      "application/vnd.jupyter.widget-view+json": {
       "model_id": "ba8cf4b3aebe4dfdbccdff6460ab0406",
       "version_major": 2,
       "version_minor": 0
      },
      "text/plain": [
       "第 26/100 轮:   0%|          | 0/10 [00:00<?, ?it/s]"
      ]
     },
     "metadata": {},
     "output_type": "display_data"
    },
    {
     "data": {
      "application/vnd.jupyter.widget-view+json": {
       "model_id": "a12bba7931a14b21b067993b3ab667b5",
       "version_major": 2,
       "version_minor": 0
      },
      "text/plain": [
       "第 27/100 轮:   0%|          | 0/10 [00:00<?, ?it/s]"
      ]
     },
     "metadata": {},
     "output_type": "display_data"
    },
    {
     "data": {
      "application/vnd.jupyter.widget-view+json": {
       "model_id": "21f69eb07fd44a46bd17b84dd16da120",
       "version_major": 2,
       "version_minor": 0
      },
      "text/plain": [
       "第 28/100 轮:   0%|          | 0/10 [00:00<?, ?it/s]"
      ]
     },
     "metadata": {},
     "output_type": "display_data"
    },
    {
     "data": {
      "application/vnd.jupyter.widget-view+json": {
       "model_id": "b9b9a5a4ca954d68a325f009b541bfd2",
       "version_major": 2,
       "version_minor": 0
      },
      "text/plain": [
       "第 29/100 轮:   0%|          | 0/10 [00:00<?, ?it/s]"
      ]
     },
     "metadata": {},
     "output_type": "display_data"
    },
    {
     "data": {
      "application/vnd.jupyter.widget-view+json": {
       "model_id": "da9884e3e92f41e0b74a5b372fb62756",
       "version_major": 2,
       "version_minor": 0
      },
      "text/plain": [
       "第 30/100 轮:   0%|          | 0/10 [00:00<?, ?it/s]"
      ]
     },
     "metadata": {},
     "output_type": "display_data"
    },
    {
     "data": {
      "application/vnd.jupyter.widget-view+json": {
       "model_id": "1a2937e4953447ec8fc213b1e6b0d220",
       "version_major": 2,
       "version_minor": 0
      },
      "text/plain": [
       "第 31/100 轮:   0%|          | 0/10 [00:00<?, ?it/s]"
      ]
     },
     "metadata": {},
     "output_type": "display_data"
    },
    {
     "data": {
      "application/vnd.jupyter.widget-view+json": {
       "model_id": "784ebc93237d447a942e1a2152616074",
       "version_major": 2,
       "version_minor": 0
      },
      "text/plain": [
       "第 32/100 轮:   0%|          | 0/10 [00:00<?, ?it/s]"
      ]
     },
     "metadata": {},
     "output_type": "display_data"
    },
    {
     "data": {
      "application/vnd.jupyter.widget-view+json": {
       "model_id": "d2681d4251d04067bd37c80eedcf9717",
       "version_major": 2,
       "version_minor": 0
      },
      "text/plain": [
       "第 33/100 轮:   0%|          | 0/10 [00:00<?, ?it/s]"
      ]
     },
     "metadata": {},
     "output_type": "display_data"
    },
    {
     "data": {
      "application/vnd.jupyter.widget-view+json": {
       "model_id": "86e7adbd66d74016bf86f3c21bd71c27",
       "version_major": 2,
       "version_minor": 0
      },
      "text/plain": [
       "第 34/100 轮:   0%|          | 0/10 [00:00<?, ?it/s]"
      ]
     },
     "metadata": {},
     "output_type": "display_data"
    },
    {
     "data": {
      "application/vnd.jupyter.widget-view+json": {
       "model_id": "f8712bcbeae04e128e2b881e91939f19",
       "version_major": 2,
       "version_minor": 0
      },
      "text/plain": [
       "第 35/100 轮:   0%|          | 0/10 [00:00<?, ?it/s]"
      ]
     },
     "metadata": {},
     "output_type": "display_data"
    },
    {
     "data": {
      "application/vnd.jupyter.widget-view+json": {
       "model_id": "482e64b38a564576b6925de2cef3c6ed",
       "version_major": 2,
       "version_minor": 0
      },
      "text/plain": [
       "第 36/100 轮:   0%|          | 0/10 [00:00<?, ?it/s]"
      ]
     },
     "metadata": {},
     "output_type": "display_data"
    },
    {
     "data": {
      "application/vnd.jupyter.widget-view+json": {
       "model_id": "9afc697b313f42c599864958f389e592",
       "version_major": 2,
       "version_minor": 0
      },
      "text/plain": [
       "第 37/100 轮:   0%|          | 0/10 [00:00<?, ?it/s]"
      ]
     },
     "metadata": {},
     "output_type": "display_data"
    },
    {
     "data": {
      "application/vnd.jupyter.widget-view+json": {
       "model_id": "8fa3ed5bfb454a2aadad11ddca8de1c9",
       "version_major": 2,
       "version_minor": 0
      },
      "text/plain": [
       "第 38/100 轮:   0%|          | 0/10 [00:00<?, ?it/s]"
      ]
     },
     "metadata": {},
     "output_type": "display_data"
    },
    {
     "data": {
      "application/vnd.jupyter.widget-view+json": {
       "model_id": "2adb135c59574861953ea1c5117967ab",
       "version_major": 2,
       "version_minor": 0
      },
      "text/plain": [
       "第 39/100 轮:   0%|          | 0/10 [00:00<?, ?it/s]"
      ]
     },
     "metadata": {},
     "output_type": "display_data"
    },
    {
     "data": {
      "application/vnd.jupyter.widget-view+json": {
       "model_id": "3c7c9f389c7f4705816aef7ab3d97d6a",
       "version_major": 2,
       "version_minor": 0
      },
      "text/plain": [
       "第 40/100 轮:   0%|          | 0/10 [00:00<?, ?it/s]"
      ]
     },
     "metadata": {},
     "output_type": "display_data"
    },
    {
     "data": {
      "application/vnd.jupyter.widget-view+json": {
       "model_id": "ccdfd72e49834c239a5e21a2799a915d",
       "version_major": 2,
       "version_minor": 0
      },
      "text/plain": [
       "第 41/100 轮:   0%|          | 0/10 [00:00<?, ?it/s]"
      ]
     },
     "metadata": {},
     "output_type": "display_data"
    },
    {
     "data": {
      "application/vnd.jupyter.widget-view+json": {
       "model_id": "c76d78b3ba134b50a6abe83f277ddc9c",
       "version_major": 2,
       "version_minor": 0
      },
      "text/plain": [
       "第 42/100 轮:   0%|          | 0/10 [00:00<?, ?it/s]"
      ]
     },
     "metadata": {},
     "output_type": "display_data"
    },
    {
     "data": {
      "application/vnd.jupyter.widget-view+json": {
       "model_id": "bc8f23a224f64d058c0b35468209dab7",
       "version_major": 2,
       "version_minor": 0
      },
      "text/plain": [
       "第 43/100 轮:   0%|          | 0/10 [00:00<?, ?it/s]"
      ]
     },
     "metadata": {},
     "output_type": "display_data"
    },
    {
     "data": {
      "application/vnd.jupyter.widget-view+json": {
       "model_id": "3112abfb36b545e7824296f83465c173",
       "version_major": 2,
       "version_minor": 0
      },
      "text/plain": [
       "第 44/100 轮:   0%|          | 0/10 [00:00<?, ?it/s]"
      ]
     },
     "metadata": {},
     "output_type": "display_data"
    },
    {
     "data": {
      "application/vnd.jupyter.widget-view+json": {
       "model_id": "e11f6ac75cf64476bf3d9744da45130c",
       "version_major": 2,
       "version_minor": 0
      },
      "text/plain": [
       "第 45/100 轮:   0%|          | 0/10 [00:00<?, ?it/s]"
      ]
     },
     "metadata": {},
     "output_type": "display_data"
    },
    {
     "data": {
      "application/vnd.jupyter.widget-view+json": {
       "model_id": "4d89725962bf4bf781e85ef99e892268",
       "version_major": 2,
       "version_minor": 0
      },
      "text/plain": [
       "第 46/100 轮:   0%|          | 0/10 [00:00<?, ?it/s]"
      ]
     },
     "metadata": {},
     "output_type": "display_data"
    },
    {
     "data": {
      "application/vnd.jupyter.widget-view+json": {
       "model_id": "eecf83125f7d4a6e9ce3c6ffec228d0a",
       "version_major": 2,
       "version_minor": 0
      },
      "text/plain": [
       "第 47/100 轮:   0%|          | 0/10 [00:00<?, ?it/s]"
      ]
     },
     "metadata": {},
     "output_type": "display_data"
    },
    {
     "data": {
      "application/vnd.jupyter.widget-view+json": {
       "model_id": "066520f255924243a1cedac883cfd7e4",
       "version_major": 2,
       "version_minor": 0
      },
      "text/plain": [
       "第 48/100 轮:   0%|          | 0/10 [00:00<?, ?it/s]"
      ]
     },
     "metadata": {},
     "output_type": "display_data"
    },
    {
     "data": {
      "application/vnd.jupyter.widget-view+json": {
       "model_id": "b288b0659ca4461297f1909cd2e6b593",
       "version_major": 2,
       "version_minor": 0
      },
      "text/plain": [
       "第 49/100 轮:   0%|          | 0/10 [00:00<?, ?it/s]"
      ]
     },
     "metadata": {},
     "output_type": "display_data"
    },
    {
     "data": {
      "application/vnd.jupyter.widget-view+json": {
       "model_id": "ca4886df106e472b82c1d38c6a59ba75",
       "version_major": 2,
       "version_minor": 0
      },
      "text/plain": [
       "第 50/100 轮:   0%|          | 0/10 [00:00<?, ?it/s]"
      ]
     },
     "metadata": {},
     "output_type": "display_data"
    },
    {
     "data": {
      "application/vnd.jupyter.widget-view+json": {
       "model_id": "76f0378846cd4a4b9843d2d8cf52a4a7",
       "version_major": 2,
       "version_minor": 0
      },
      "text/plain": [
       "第 51/100 轮:   0%|          | 0/10 [00:00<?, ?it/s]"
      ]
     },
     "metadata": {},
     "output_type": "display_data"
    },
    {
     "data": {
      "application/vnd.jupyter.widget-view+json": {
       "model_id": "1b922d9cdf1649faa8a63763fc162b3f",
       "version_major": 2,
       "version_minor": 0
      },
      "text/plain": [
       "第 52/100 轮:   0%|          | 0/10 [00:00<?, ?it/s]"
      ]
     },
     "metadata": {},
     "output_type": "display_data"
    },
    {
     "data": {
      "application/vnd.jupyter.widget-view+json": {
       "model_id": "d6f1b775252a415a87ed6c5a1107b45a",
       "version_major": 2,
       "version_minor": 0
      },
      "text/plain": [
       "第 53/100 轮:   0%|          | 0/10 [00:00<?, ?it/s]"
      ]
     },
     "metadata": {},
     "output_type": "display_data"
    },
    {
     "data": {
      "application/vnd.jupyter.widget-view+json": {
       "model_id": "11f8ce07a1ab48eb9e770b9e5a5c3df0",
       "version_major": 2,
       "version_minor": 0
      },
      "text/plain": [
       "第 54/100 轮:   0%|          | 0/10 [00:00<?, ?it/s]"
      ]
     },
     "metadata": {},
     "output_type": "display_data"
    },
    {
     "data": {
      "application/vnd.jupyter.widget-view+json": {
       "model_id": "5321948e1c3848e2aa1ed499016b1029",
       "version_major": 2,
       "version_minor": 0
      },
      "text/plain": [
       "第 55/100 轮:   0%|          | 0/10 [00:00<?, ?it/s]"
      ]
     },
     "metadata": {},
     "output_type": "display_data"
    },
    {
     "data": {
      "application/vnd.jupyter.widget-view+json": {
       "model_id": "cb57e3cd3cee4f00bf603428254c23c5",
       "version_major": 2,
       "version_minor": 0
      },
      "text/plain": [
       "第 56/100 轮:   0%|          | 0/10 [00:00<?, ?it/s]"
      ]
     },
     "metadata": {},
     "output_type": "display_data"
    },
    {
     "data": {
      "application/vnd.jupyter.widget-view+json": {
       "model_id": "813d3f65f75547b6bd6c1200d9aa3850",
       "version_major": 2,
       "version_minor": 0
      },
      "text/plain": [
       "第 57/100 轮:   0%|          | 0/10 [00:00<?, ?it/s]"
      ]
     },
     "metadata": {},
     "output_type": "display_data"
    },
    {
     "data": {
      "application/vnd.jupyter.widget-view+json": {
       "model_id": "404e9149e4a741cfb7ea3cfaedeae1a8",
       "version_major": 2,
       "version_minor": 0
      },
      "text/plain": [
       "第 58/100 轮:   0%|          | 0/10 [00:00<?, ?it/s]"
      ]
     },
     "metadata": {},
     "output_type": "display_data"
    },
    {
     "data": {
      "application/vnd.jupyter.widget-view+json": {
       "model_id": "61bd57b285024372bac53901ce509d92",
       "version_major": 2,
       "version_minor": 0
      },
      "text/plain": [
       "第 59/100 轮:   0%|          | 0/10 [00:00<?, ?it/s]"
      ]
     },
     "metadata": {},
     "output_type": "display_data"
    },
    {
     "data": {
      "application/vnd.jupyter.widget-view+json": {
       "model_id": "e38a6926780f4637a85734df0471f56a",
       "version_major": 2,
       "version_minor": 0
      },
      "text/plain": [
       "第 60/100 轮:   0%|          | 0/10 [00:00<?, ?it/s]"
      ]
     },
     "metadata": {},
     "output_type": "display_data"
    },
    {
     "data": {
      "application/vnd.jupyter.widget-view+json": {
       "model_id": "0868bdba04b247fba782e458b26d2bf5",
       "version_major": 2,
       "version_minor": 0
      },
      "text/plain": [
       "第 61/100 轮:   0%|          | 0/10 [00:00<?, ?it/s]"
      ]
     },
     "metadata": {},
     "output_type": "display_data"
    },
    {
     "data": {
      "application/vnd.jupyter.widget-view+json": {
       "model_id": "7e8c17d42b0644d7b73768687edc858d",
       "version_major": 2,
       "version_minor": 0
      },
      "text/plain": [
       "第 62/100 轮:   0%|          | 0/10 [00:00<?, ?it/s]"
      ]
     },
     "metadata": {},
     "output_type": "display_data"
    },
    {
     "data": {
      "application/vnd.jupyter.widget-view+json": {
       "model_id": "de6cd8ec6113414d84dc06fadaceb8d8",
       "version_major": 2,
       "version_minor": 0
      },
      "text/plain": [
       "第 63/100 轮:   0%|          | 0/10 [00:00<?, ?it/s]"
      ]
     },
     "metadata": {},
     "output_type": "display_data"
    },
    {
     "data": {
      "application/vnd.jupyter.widget-view+json": {
       "model_id": "24d4b0d8c6454ab6bff141064074d02c",
       "version_major": 2,
       "version_minor": 0
      },
      "text/plain": [
       "第 64/100 轮:   0%|          | 0/10 [00:00<?, ?it/s]"
      ]
     },
     "metadata": {},
     "output_type": "display_data"
    },
    {
     "data": {
      "application/vnd.jupyter.widget-view+json": {
       "model_id": "4fb21517fb304ca2adef9f23c88e64f0",
       "version_major": 2,
       "version_minor": 0
      },
      "text/plain": [
       "第 65/100 轮:   0%|          | 0/10 [00:00<?, ?it/s]"
      ]
     },
     "metadata": {},
     "output_type": "display_data"
    },
    {
     "data": {
      "application/vnd.jupyter.widget-view+json": {
       "model_id": "6b9340729bb24f6396625b9f6be3c495",
       "version_major": 2,
       "version_minor": 0
      },
      "text/plain": [
       "第 66/100 轮:   0%|          | 0/10 [00:00<?, ?it/s]"
      ]
     },
     "metadata": {},
     "output_type": "display_data"
    },
    {
     "data": {
      "application/vnd.jupyter.widget-view+json": {
       "model_id": "bde216de49e64e1ab1f340e7c22f313f",
       "version_major": 2,
       "version_minor": 0
      },
      "text/plain": [
       "第 67/100 轮:   0%|          | 0/10 [00:00<?, ?it/s]"
      ]
     },
     "metadata": {},
     "output_type": "display_data"
    },
    {
     "data": {
      "application/vnd.jupyter.widget-view+json": {
       "model_id": "8f9b0b26270f4eaab3a9e7fe0ae5ac9a",
       "version_major": 2,
       "version_minor": 0
      },
      "text/plain": [
       "第 68/100 轮:   0%|          | 0/10 [00:00<?, ?it/s]"
      ]
     },
     "metadata": {},
     "output_type": "display_data"
    },
    {
     "data": {
      "application/vnd.jupyter.widget-view+json": {
       "model_id": "dc62fd6feb654020afa073ff2502b40a",
       "version_major": 2,
       "version_minor": 0
      },
      "text/plain": [
       "第 69/100 轮:   0%|          | 0/10 [00:00<?, ?it/s]"
      ]
     },
     "metadata": {},
     "output_type": "display_data"
    },
    {
     "data": {
      "application/vnd.jupyter.widget-view+json": {
       "model_id": "3b9d5cd5f7154b5c80d8edca822902dd",
       "version_major": 2,
       "version_minor": 0
      },
      "text/plain": [
       "第 70/100 轮:   0%|          | 0/10 [00:00<?, ?it/s]"
      ]
     },
     "metadata": {},
     "output_type": "display_data"
    },
    {
     "data": {
      "application/vnd.jupyter.widget-view+json": {
       "model_id": "9ad397a2ec95400da8be51fc26a9360f",
       "version_major": 2,
       "version_minor": 0
      },
      "text/plain": [
       "第 71/100 轮:   0%|          | 0/10 [00:00<?, ?it/s]"
      ]
     },
     "metadata": {},
     "output_type": "display_data"
    },
    {
     "data": {
      "application/vnd.jupyter.widget-view+json": {
       "model_id": "d5f2c6cda69c489196f9a6d8d55d39d7",
       "version_major": 2,
       "version_minor": 0
      },
      "text/plain": [
       "第 72/100 轮:   0%|          | 0/10 [00:00<?, ?it/s]"
      ]
     },
     "metadata": {},
     "output_type": "display_data"
    },
    {
     "data": {
      "application/vnd.jupyter.widget-view+json": {
       "model_id": "1ff7e77080d242bc9d677ae024d8c188",
       "version_major": 2,
       "version_minor": 0
      },
      "text/plain": [
       "第 73/100 轮:   0%|          | 0/10 [00:00<?, ?it/s]"
      ]
     },
     "metadata": {},
     "output_type": "display_data"
    },
    {
     "data": {
      "application/vnd.jupyter.widget-view+json": {
       "model_id": "d65e5c03685f425c8b7173f7f2c91e7f",
       "version_major": 2,
       "version_minor": 0
      },
      "text/plain": [
       "第 74/100 轮:   0%|          | 0/10 [00:00<?, ?it/s]"
      ]
     },
     "metadata": {},
     "output_type": "display_data"
    },
    {
     "data": {
      "application/vnd.jupyter.widget-view+json": {
       "model_id": "c27081f189a249bb9ca7f03766fdf4a3",
       "version_major": 2,
       "version_minor": 0
      },
      "text/plain": [
       "第 75/100 轮:   0%|          | 0/10 [00:00<?, ?it/s]"
      ]
     },
     "metadata": {},
     "output_type": "display_data"
    },
    {
     "data": {
      "application/vnd.jupyter.widget-view+json": {
       "model_id": "0a65bdeb459b40df9d348161fc18abea",
       "version_major": 2,
       "version_minor": 0
      },
      "text/plain": [
       "第 76/100 轮:   0%|          | 0/10 [00:00<?, ?it/s]"
      ]
     },
     "metadata": {},
     "output_type": "display_data"
    },
    {
     "data": {
      "application/vnd.jupyter.widget-view+json": {
       "model_id": "39def34186ea4ffd925d23c084a9ce30",
       "version_major": 2,
       "version_minor": 0
      },
      "text/plain": [
       "第 77/100 轮:   0%|          | 0/10 [00:00<?, ?it/s]"
      ]
     },
     "metadata": {},
     "output_type": "display_data"
    },
    {
     "data": {
      "application/vnd.jupyter.widget-view+json": {
       "model_id": "10e54b53789948d79edd88ee3d3f4b56",
       "version_major": 2,
       "version_minor": 0
      },
      "text/plain": [
       "第 78/100 轮:   0%|          | 0/10 [00:00<?, ?it/s]"
      ]
     },
     "metadata": {},
     "output_type": "display_data"
    },
    {
     "data": {
      "application/vnd.jupyter.widget-view+json": {
       "model_id": "d1352bc38cf042dc9da8c4a6df681977",
       "version_major": 2,
       "version_minor": 0
      },
      "text/plain": [
       "第 79/100 轮:   0%|          | 0/10 [00:00<?, ?it/s]"
      ]
     },
     "metadata": {},
     "output_type": "display_data"
    },
    {
     "data": {
      "application/vnd.jupyter.widget-view+json": {
       "model_id": "1627637e2f4e441c866a4f6f0da21958",
       "version_major": 2,
       "version_minor": 0
      },
      "text/plain": [
       "第 80/100 轮:   0%|          | 0/10 [00:00<?, ?it/s]"
      ]
     },
     "metadata": {},
     "output_type": "display_data"
    },
    {
     "data": {
      "application/vnd.jupyter.widget-view+json": {
       "model_id": "558b2bba78684f0db2c602195f79ac99",
       "version_major": 2,
       "version_minor": 0
      },
      "text/plain": [
       "第 81/100 轮:   0%|          | 0/10 [00:00<?, ?it/s]"
      ]
     },
     "metadata": {},
     "output_type": "display_data"
    },
    {
     "data": {
      "application/vnd.jupyter.widget-view+json": {
       "model_id": "6055cafb8d0043d293ef249d401c79e9",
       "version_major": 2,
       "version_minor": 0
      },
      "text/plain": [
       "第 82/100 轮:   0%|          | 0/10 [00:00<?, ?it/s]"
      ]
     },
     "metadata": {},
     "output_type": "display_data"
    },
    {
     "data": {
      "application/vnd.jupyter.widget-view+json": {
       "model_id": "65872b8fa0544c49af50899ee985cc28",
       "version_major": 2,
       "version_minor": 0
      },
      "text/plain": [
       "第 83/100 轮:   0%|          | 0/10 [00:00<?, ?it/s]"
      ]
     },
     "metadata": {},
     "output_type": "display_data"
    },
    {
     "data": {
      "application/vnd.jupyter.widget-view+json": {
       "model_id": "80e0467e96d94c6486667c1030960033",
       "version_major": 2,
       "version_minor": 0
      },
      "text/plain": [
       "第 84/100 轮:   0%|          | 0/10 [00:00<?, ?it/s]"
      ]
     },
     "metadata": {},
     "output_type": "display_data"
    },
    {
     "data": {
      "application/vnd.jupyter.widget-view+json": {
       "model_id": "0aaa0e3a2af54edcb0498f637419251c",
       "version_major": 2,
       "version_minor": 0
      },
      "text/plain": [
       "第 85/100 轮:   0%|          | 0/10 [00:00<?, ?it/s]"
      ]
     },
     "metadata": {},
     "output_type": "display_data"
    },
    {
     "data": {
      "application/vnd.jupyter.widget-view+json": {
       "model_id": "675b9025f38c46cf9502c771eae94b41",
       "version_major": 2,
       "version_minor": 0
      },
      "text/plain": [
       "第 86/100 轮:   0%|          | 0/10 [00:00<?, ?it/s]"
      ]
     },
     "metadata": {},
     "output_type": "display_data"
    },
    {
     "data": {
      "application/vnd.jupyter.widget-view+json": {
       "model_id": "9b2d51ed977a4cd1b2c31735d02fc0d6",
       "version_major": 2,
       "version_minor": 0
      },
      "text/plain": [
       "第 87/100 轮:   0%|          | 0/10 [00:00<?, ?it/s]"
      ]
     },
     "metadata": {},
     "output_type": "display_data"
    },
    {
     "data": {
      "application/vnd.jupyter.widget-view+json": {
       "model_id": "28342b1b2cd94b89a50b22799ffe1e35",
       "version_major": 2,
       "version_minor": 0
      },
      "text/plain": [
       "第 88/100 轮:   0%|          | 0/10 [00:00<?, ?it/s]"
      ]
     },
     "metadata": {},
     "output_type": "display_data"
    },
    {
     "data": {
      "application/vnd.jupyter.widget-view+json": {
       "model_id": "81a820eeb7474d85a62d807bf09327c8",
       "version_major": 2,
       "version_minor": 0
      },
      "text/plain": [
       "第 89/100 轮:   0%|          | 0/10 [00:00<?, ?it/s]"
      ]
     },
     "metadata": {},
     "output_type": "display_data"
    },
    {
     "data": {
      "application/vnd.jupyter.widget-view+json": {
       "model_id": "d78b916b18564e93a3ec539a67d35393",
       "version_major": 2,
       "version_minor": 0
      },
      "text/plain": [
       "第 90/100 轮:   0%|          | 0/10 [00:00<?, ?it/s]"
      ]
     },
     "metadata": {},
     "output_type": "display_data"
    },
    {
     "data": {
      "application/vnd.jupyter.widget-view+json": {
       "model_id": "a734b458b0574a3495aa0d995f1aebfc",
       "version_major": 2,
       "version_minor": 0
      },
      "text/plain": [
       "第 91/100 轮:   0%|          | 0/10 [00:00<?, ?it/s]"
      ]
     },
     "metadata": {},
     "output_type": "display_data"
    },
    {
     "data": {
      "application/vnd.jupyter.widget-view+json": {
       "model_id": "635088dc6fcf4c78821999b9e1946705",
       "version_major": 2,
       "version_minor": 0
      },
      "text/plain": [
       "第 92/100 轮:   0%|          | 0/10 [00:00<?, ?it/s]"
      ]
     },
     "metadata": {},
     "output_type": "display_data"
    },
    {
     "data": {
      "application/vnd.jupyter.widget-view+json": {
       "model_id": "128948fd9c894486be631cc960b7de30",
       "version_major": 2,
       "version_minor": 0
      },
      "text/plain": [
       "第 93/100 轮:   0%|          | 0/10 [00:00<?, ?it/s]"
      ]
     },
     "metadata": {},
     "output_type": "display_data"
    },
    {
     "data": {
      "application/vnd.jupyter.widget-view+json": {
       "model_id": "28f3db3b802e43eb83500488735d9804",
       "version_major": 2,
       "version_minor": 0
      },
      "text/plain": [
       "第 94/100 轮:   0%|          | 0/10 [00:00<?, ?it/s]"
      ]
     },
     "metadata": {},
     "output_type": "display_data"
    },
    {
     "data": {
      "application/vnd.jupyter.widget-view+json": {
       "model_id": "8cec49262a4b4bc6b6ec11e5f441e3fe",
       "version_major": 2,
       "version_minor": 0
      },
      "text/plain": [
       "第 95/100 轮:   0%|          | 0/10 [00:00<?, ?it/s]"
      ]
     },
     "metadata": {},
     "output_type": "display_data"
    },
    {
     "data": {
      "application/vnd.jupyter.widget-view+json": {
       "model_id": "a2abe060a1de4b7aa045fd3df5506b69",
       "version_major": 2,
       "version_minor": 0
      },
      "text/plain": [
       "第 96/100 轮:   0%|          | 0/10 [00:00<?, ?it/s]"
      ]
     },
     "metadata": {},
     "output_type": "display_data"
    },
    {
     "data": {
      "application/vnd.jupyter.widget-view+json": {
       "model_id": "ca978063347840c8bbe137b364d464c0",
       "version_major": 2,
       "version_minor": 0
      },
      "text/plain": [
       "第 97/100 轮:   0%|          | 0/10 [00:00<?, ?it/s]"
      ]
     },
     "metadata": {},
     "output_type": "display_data"
    },
    {
     "data": {
      "application/vnd.jupyter.widget-view+json": {
       "model_id": "1abe1481e61b45488d37842eb4bc0d1f",
       "version_major": 2,
       "version_minor": 0
      },
      "text/plain": [
       "第 98/100 轮:   0%|          | 0/10 [00:00<?, ?it/s]"
      ]
     },
     "metadata": {},
     "output_type": "display_data"
    },
    {
     "data": {
      "application/vnd.jupyter.widget-view+json": {
       "model_id": "5629e6f4784c4e6a89c864ff70d9d146",
       "version_major": 2,
       "version_minor": 0
      },
      "text/plain": [
       "第 99/100 轮:   0%|          | 0/10 [00:00<?, ?it/s]"
      ]
     },
     "metadata": {},
     "output_type": "display_data"
    },
    {
     "data": {
      "application/vnd.jupyter.widget-view+json": {
       "model_id": "b28ddc53276944029d4c7d7f1d0cb955",
       "version_major": 2,
       "version_minor": 0
      },
      "text/plain": [
       "第 100/100 轮:   0%|          | 0/10 [00:00<?, ?it/s]"
      ]
     },
     "metadata": {},
     "output_type": "display_data"
    },
    {
     "name": "stdout",
     "output_type": "stream",
     "text": [
      "Fold 4 - Epoch 100: Best Correlation Coefficient: 0.6513\n"
     ]
    },
    {
     "data": {
      "application/vnd.jupyter.widget-view+json": {
       "model_id": "8693a628ad1a46278bfe2995504332ed",
       "version_major": 2,
       "version_minor": 0
      },
      "text/plain": [
       "第 1/100 轮:   0%|          | 0/10 [00:00<?, ?it/s]"
      ]
     },
     "metadata": {},
     "output_type": "display_data"
    },
    {
     "data": {
      "application/vnd.jupyter.widget-view+json": {
       "model_id": "99a8ac88615d438bbb0070574d4fb530",
       "version_major": 2,
       "version_minor": 0
      },
      "text/plain": [
       "第 2/100 轮:   0%|          | 0/10 [00:00<?, ?it/s]"
      ]
     },
     "metadata": {},
     "output_type": "display_data"
    },
    {
     "data": {
      "application/vnd.jupyter.widget-view+json": {
       "model_id": "2b678d3b15d14fa5940d361cdfba4811",
       "version_major": 2,
       "version_minor": 0
      },
      "text/plain": [
       "第 3/100 轮:   0%|          | 0/10 [00:00<?, ?it/s]"
      ]
     },
     "metadata": {},
     "output_type": "display_data"
    },
    {
     "data": {
      "application/vnd.jupyter.widget-view+json": {
       "model_id": "edae0e3f13f144fd8c24ccb98e54da28",
       "version_major": 2,
       "version_minor": 0
      },
      "text/plain": [
       "第 4/100 轮:   0%|          | 0/10 [00:00<?, ?it/s]"
      ]
     },
     "metadata": {},
     "output_type": "display_data"
    },
    {
     "data": {
      "application/vnd.jupyter.widget-view+json": {
       "model_id": "c25021eee0164bd09e0a4d552bbab5a3",
       "version_major": 2,
       "version_minor": 0
      },
      "text/plain": [
       "第 5/100 轮:   0%|          | 0/10 [00:00<?, ?it/s]"
      ]
     },
     "metadata": {},
     "output_type": "display_data"
    },
    {
     "data": {
      "application/vnd.jupyter.widget-view+json": {
       "model_id": "522f899eaec34be282c536a792e0f25a",
       "version_major": 2,
       "version_minor": 0
      },
      "text/plain": [
       "第 6/100 轮:   0%|          | 0/10 [00:00<?, ?it/s]"
      ]
     },
     "metadata": {},
     "output_type": "display_data"
    },
    {
     "data": {
      "application/vnd.jupyter.widget-view+json": {
       "model_id": "1d4a4b10998145a3a8bc3c9dbb7e7011",
       "version_major": 2,
       "version_minor": 0
      },
      "text/plain": [
       "第 7/100 轮:   0%|          | 0/10 [00:00<?, ?it/s]"
      ]
     },
     "metadata": {},
     "output_type": "display_data"
    },
    {
     "data": {
      "application/vnd.jupyter.widget-view+json": {
       "model_id": "f7210e0d702840958397b479a60b47fb",
       "version_major": 2,
       "version_minor": 0
      },
      "text/plain": [
       "第 8/100 轮:   0%|          | 0/10 [00:00<?, ?it/s]"
      ]
     },
     "metadata": {},
     "output_type": "display_data"
    },
    {
     "data": {
      "application/vnd.jupyter.widget-view+json": {
       "model_id": "51686a826e96440f8a82019d81e5b803",
       "version_major": 2,
       "version_minor": 0
      },
      "text/plain": [
       "第 9/100 轮:   0%|          | 0/10 [00:00<?, ?it/s]"
      ]
     },
     "metadata": {},
     "output_type": "display_data"
    },
    {
     "data": {
      "application/vnd.jupyter.widget-view+json": {
       "model_id": "47461850541640108d35da7f28443e99",
       "version_major": 2,
       "version_minor": 0
      },
      "text/plain": [
       "第 10/100 轮:   0%|          | 0/10 [00:00<?, ?it/s]"
      ]
     },
     "metadata": {},
     "output_type": "display_data"
    },
    {
     "data": {
      "application/vnd.jupyter.widget-view+json": {
       "model_id": "a02e4c9071894412b5797c2a62d47992",
       "version_major": 2,
       "version_minor": 0
      },
      "text/plain": [
       "第 11/100 轮:   0%|          | 0/10 [00:00<?, ?it/s]"
      ]
     },
     "metadata": {},
     "output_type": "display_data"
    },
    {
     "data": {
      "application/vnd.jupyter.widget-view+json": {
       "model_id": "2a73eb3fc061435d9e8d281000b66948",
       "version_major": 2,
       "version_minor": 0
      },
      "text/plain": [
       "第 12/100 轮:   0%|          | 0/10 [00:00<?, ?it/s]"
      ]
     },
     "metadata": {},
     "output_type": "display_data"
    },
    {
     "data": {
      "application/vnd.jupyter.widget-view+json": {
       "model_id": "40192c868bb54f668590814ef3c958ff",
       "version_major": 2,
       "version_minor": 0
      },
      "text/plain": [
       "第 13/100 轮:   0%|          | 0/10 [00:00<?, ?it/s]"
      ]
     },
     "metadata": {},
     "output_type": "display_data"
    },
    {
     "data": {
      "application/vnd.jupyter.widget-view+json": {
       "model_id": "2cfcabb96316425f8e9498b147b1073b",
       "version_major": 2,
       "version_minor": 0
      },
      "text/plain": [
       "第 14/100 轮:   0%|          | 0/10 [00:00<?, ?it/s]"
      ]
     },
     "metadata": {},
     "output_type": "display_data"
    },
    {
     "data": {
      "application/vnd.jupyter.widget-view+json": {
       "model_id": "6b63802a790a4d92bdc21b652beb7819",
       "version_major": 2,
       "version_minor": 0
      },
      "text/plain": [
       "第 15/100 轮:   0%|          | 0/10 [00:00<?, ?it/s]"
      ]
     },
     "metadata": {},
     "output_type": "display_data"
    },
    {
     "data": {
      "application/vnd.jupyter.widget-view+json": {
       "model_id": "8cff9f047b5447ae966930463b2d62ca",
       "version_major": 2,
       "version_minor": 0
      },
      "text/plain": [
       "第 16/100 轮:   0%|          | 0/10 [00:00<?, ?it/s]"
      ]
     },
     "metadata": {},
     "output_type": "display_data"
    },
    {
     "data": {
      "application/vnd.jupyter.widget-view+json": {
       "model_id": "1e54ec4c285d4273a19cc6d6516a4e03",
       "version_major": 2,
       "version_minor": 0
      },
      "text/plain": [
       "第 17/100 轮:   0%|          | 0/10 [00:00<?, ?it/s]"
      ]
     },
     "metadata": {},
     "output_type": "display_data"
    },
    {
     "data": {
      "application/vnd.jupyter.widget-view+json": {
       "model_id": "b08656b04fcd43108b8f27c87801494e",
       "version_major": 2,
       "version_minor": 0
      },
      "text/plain": [
       "第 18/100 轮:   0%|          | 0/10 [00:00<?, ?it/s]"
      ]
     },
     "metadata": {},
     "output_type": "display_data"
    },
    {
     "data": {
      "application/vnd.jupyter.widget-view+json": {
       "model_id": "1943a9c442444aef83bfd12546e61610",
       "version_major": 2,
       "version_minor": 0
      },
      "text/plain": [
       "第 19/100 轮:   0%|          | 0/10 [00:00<?, ?it/s]"
      ]
     },
     "metadata": {},
     "output_type": "display_data"
    },
    {
     "data": {
      "application/vnd.jupyter.widget-view+json": {
       "model_id": "dac1e7f7b1734898b13a46f0bbacac3c",
       "version_major": 2,
       "version_minor": 0
      },
      "text/plain": [
       "第 20/100 轮:   0%|          | 0/10 [00:00<?, ?it/s]"
      ]
     },
     "metadata": {},
     "output_type": "display_data"
    },
    {
     "data": {
      "application/vnd.jupyter.widget-view+json": {
       "model_id": "1fba14c2ef754269895461d478984b7c",
       "version_major": 2,
       "version_minor": 0
      },
      "text/plain": [
       "第 21/100 轮:   0%|          | 0/10 [00:00<?, ?it/s]"
      ]
     },
     "metadata": {},
     "output_type": "display_data"
    },
    {
     "data": {
      "application/vnd.jupyter.widget-view+json": {
       "model_id": "490e13cc78b94b8987b57d7934f6b4a0",
       "version_major": 2,
       "version_minor": 0
      },
      "text/plain": [
       "第 22/100 轮:   0%|          | 0/10 [00:00<?, ?it/s]"
      ]
     },
     "metadata": {},
     "output_type": "display_data"
    },
    {
     "data": {
      "application/vnd.jupyter.widget-view+json": {
       "model_id": "f52f9a0d0e1c4b968fbfb6d68b0819c8",
       "version_major": 2,
       "version_minor": 0
      },
      "text/plain": [
       "第 23/100 轮:   0%|          | 0/10 [00:00<?, ?it/s]"
      ]
     },
     "metadata": {},
     "output_type": "display_data"
    },
    {
     "data": {
      "application/vnd.jupyter.widget-view+json": {
       "model_id": "32a0a254ee574564ae641f3cacd99d77",
       "version_major": 2,
       "version_minor": 0
      },
      "text/plain": [
       "第 24/100 轮:   0%|          | 0/10 [00:00<?, ?it/s]"
      ]
     },
     "metadata": {},
     "output_type": "display_data"
    },
    {
     "data": {
      "application/vnd.jupyter.widget-view+json": {
       "model_id": "e15f659c6bb1462d8a5246b9a04f5674",
       "version_major": 2,
       "version_minor": 0
      },
      "text/plain": [
       "第 25/100 轮:   0%|          | 0/10 [00:00<?, ?it/s]"
      ]
     },
     "metadata": {},
     "output_type": "display_data"
    },
    {
     "data": {
      "application/vnd.jupyter.widget-view+json": {
       "model_id": "9b52d248cfc8426a9f370d974e01c558",
       "version_major": 2,
       "version_minor": 0
      },
      "text/plain": [
       "第 26/100 轮:   0%|          | 0/10 [00:00<?, ?it/s]"
      ]
     },
     "metadata": {},
     "output_type": "display_data"
    },
    {
     "data": {
      "application/vnd.jupyter.widget-view+json": {
       "model_id": "3ac46ec5811e4c03913e5a11416d9a81",
       "version_major": 2,
       "version_minor": 0
      },
      "text/plain": [
       "第 27/100 轮:   0%|          | 0/10 [00:00<?, ?it/s]"
      ]
     },
     "metadata": {},
     "output_type": "display_data"
    },
    {
     "data": {
      "application/vnd.jupyter.widget-view+json": {
       "model_id": "4e4664a1dd204eb5aafbae78a5f7bf4a",
       "version_major": 2,
       "version_minor": 0
      },
      "text/plain": [
       "第 28/100 轮:   0%|          | 0/10 [00:00<?, ?it/s]"
      ]
     },
     "metadata": {},
     "output_type": "display_data"
    },
    {
     "data": {
      "application/vnd.jupyter.widget-view+json": {
       "model_id": "75fc9a006f2d4c80854f06702f0d4495",
       "version_major": 2,
       "version_minor": 0
      },
      "text/plain": [
       "第 29/100 轮:   0%|          | 0/10 [00:00<?, ?it/s]"
      ]
     },
     "metadata": {},
     "output_type": "display_data"
    },
    {
     "data": {
      "application/vnd.jupyter.widget-view+json": {
       "model_id": "29ee66bbf5744ad1bf6bcfbd4e9cbdf8",
       "version_major": 2,
       "version_minor": 0
      },
      "text/plain": [
       "第 30/100 轮:   0%|          | 0/10 [00:00<?, ?it/s]"
      ]
     },
     "metadata": {},
     "output_type": "display_data"
    },
    {
     "data": {
      "application/vnd.jupyter.widget-view+json": {
       "model_id": "89685c0e07b748f889b49860518b49a1",
       "version_major": 2,
       "version_minor": 0
      },
      "text/plain": [
       "第 31/100 轮:   0%|          | 0/10 [00:00<?, ?it/s]"
      ]
     },
     "metadata": {},
     "output_type": "display_data"
    },
    {
     "data": {
      "application/vnd.jupyter.widget-view+json": {
       "model_id": "6de80c3ce4e7427daad50d53311fce33",
       "version_major": 2,
       "version_minor": 0
      },
      "text/plain": [
       "第 32/100 轮:   0%|          | 0/10 [00:00<?, ?it/s]"
      ]
     },
     "metadata": {},
     "output_type": "display_data"
    },
    {
     "data": {
      "application/vnd.jupyter.widget-view+json": {
       "model_id": "14ec981eb224411c89c09669470e2625",
       "version_major": 2,
       "version_minor": 0
      },
      "text/plain": [
       "第 33/100 轮:   0%|          | 0/10 [00:00<?, ?it/s]"
      ]
     },
     "metadata": {},
     "output_type": "display_data"
    },
    {
     "data": {
      "application/vnd.jupyter.widget-view+json": {
       "model_id": "ece10d0d715c4bfab33c55c9e899abf3",
       "version_major": 2,
       "version_minor": 0
      },
      "text/plain": [
       "第 34/100 轮:   0%|          | 0/10 [00:00<?, ?it/s]"
      ]
     },
     "metadata": {},
     "output_type": "display_data"
    },
    {
     "data": {
      "application/vnd.jupyter.widget-view+json": {
       "model_id": "403f402e94ef44eb9d08c690116a2540",
       "version_major": 2,
       "version_minor": 0
      },
      "text/plain": [
       "第 35/100 轮:   0%|          | 0/10 [00:00<?, ?it/s]"
      ]
     },
     "metadata": {},
     "output_type": "display_data"
    },
    {
     "data": {
      "application/vnd.jupyter.widget-view+json": {
       "model_id": "17f39494c8b94a4ab3974c8c02089274",
       "version_major": 2,
       "version_minor": 0
      },
      "text/plain": [
       "第 36/100 轮:   0%|          | 0/10 [00:00<?, ?it/s]"
      ]
     },
     "metadata": {},
     "output_type": "display_data"
    },
    {
     "data": {
      "application/vnd.jupyter.widget-view+json": {
       "model_id": "be41670eddd140debb8b3e86553bea02",
       "version_major": 2,
       "version_minor": 0
      },
      "text/plain": [
       "第 37/100 轮:   0%|          | 0/10 [00:00<?, ?it/s]"
      ]
     },
     "metadata": {},
     "output_type": "display_data"
    },
    {
     "data": {
      "application/vnd.jupyter.widget-view+json": {
       "model_id": "3053ff125a7d4c1e93e868896221c772",
       "version_major": 2,
       "version_minor": 0
      },
      "text/plain": [
       "第 38/100 轮:   0%|          | 0/10 [00:00<?, ?it/s]"
      ]
     },
     "metadata": {},
     "output_type": "display_data"
    },
    {
     "data": {
      "application/vnd.jupyter.widget-view+json": {
       "model_id": "6fc17dc7556940fda7c64b4c3a6314e7",
       "version_major": 2,
       "version_minor": 0
      },
      "text/plain": [
       "第 39/100 轮:   0%|          | 0/10 [00:00<?, ?it/s]"
      ]
     },
     "metadata": {},
     "output_type": "display_data"
    },
    {
     "data": {
      "application/vnd.jupyter.widget-view+json": {
       "model_id": "8401093c07a04382be45e26ca3de5716",
       "version_major": 2,
       "version_minor": 0
      },
      "text/plain": [
       "第 40/100 轮:   0%|          | 0/10 [00:00<?, ?it/s]"
      ]
     },
     "metadata": {},
     "output_type": "display_data"
    },
    {
     "data": {
      "application/vnd.jupyter.widget-view+json": {
       "model_id": "1896c8abfe25477fbe72fcc54043c479",
       "version_major": 2,
       "version_minor": 0
      },
      "text/plain": [
       "第 41/100 轮:   0%|          | 0/10 [00:00<?, ?it/s]"
      ]
     },
     "metadata": {},
     "output_type": "display_data"
    },
    {
     "data": {
      "application/vnd.jupyter.widget-view+json": {
       "model_id": "1cfa8d8d2f4340e1b6fd5ebb71a9f185",
       "version_major": 2,
       "version_minor": 0
      },
      "text/plain": [
       "第 42/100 轮:   0%|          | 0/10 [00:00<?, ?it/s]"
      ]
     },
     "metadata": {},
     "output_type": "display_data"
    },
    {
     "data": {
      "application/vnd.jupyter.widget-view+json": {
       "model_id": "2d9691017f544b10afb4f523e87e2421",
       "version_major": 2,
       "version_minor": 0
      },
      "text/plain": [
       "第 43/100 轮:   0%|          | 0/10 [00:00<?, ?it/s]"
      ]
     },
     "metadata": {},
     "output_type": "display_data"
    },
    {
     "data": {
      "application/vnd.jupyter.widget-view+json": {
       "model_id": "0445469c8a3d49dbbcae3354937f9dba",
       "version_major": 2,
       "version_minor": 0
      },
      "text/plain": [
       "第 44/100 轮:   0%|          | 0/10 [00:00<?, ?it/s]"
      ]
     },
     "metadata": {},
     "output_type": "display_data"
    },
    {
     "data": {
      "application/vnd.jupyter.widget-view+json": {
       "model_id": "69978e2a8ff744a5a1937f249898d3eb",
       "version_major": 2,
       "version_minor": 0
      },
      "text/plain": [
       "第 45/100 轮:   0%|          | 0/10 [00:00<?, ?it/s]"
      ]
     },
     "metadata": {},
     "output_type": "display_data"
    },
    {
     "data": {
      "application/vnd.jupyter.widget-view+json": {
       "model_id": "24de6ab2b6dc402183a084af0d0d4dbc",
       "version_major": 2,
       "version_minor": 0
      },
      "text/plain": [
       "第 46/100 轮:   0%|          | 0/10 [00:00<?, ?it/s]"
      ]
     },
     "metadata": {},
     "output_type": "display_data"
    },
    {
     "data": {
      "application/vnd.jupyter.widget-view+json": {
       "model_id": "c5a4633e03df47198c13e57652530da6",
       "version_major": 2,
       "version_minor": 0
      },
      "text/plain": [
       "第 47/100 轮:   0%|          | 0/10 [00:00<?, ?it/s]"
      ]
     },
     "metadata": {},
     "output_type": "display_data"
    },
    {
     "data": {
      "application/vnd.jupyter.widget-view+json": {
       "model_id": "cff3aeda7e32427c89916a2064f3ab7d",
       "version_major": 2,
       "version_minor": 0
      },
      "text/plain": [
       "第 48/100 轮:   0%|          | 0/10 [00:00<?, ?it/s]"
      ]
     },
     "metadata": {},
     "output_type": "display_data"
    },
    {
     "data": {
      "application/vnd.jupyter.widget-view+json": {
       "model_id": "c52c1beeabf8493fb994fb4f39fe4bc6",
       "version_major": 2,
       "version_minor": 0
      },
      "text/plain": [
       "第 49/100 轮:   0%|          | 0/10 [00:00<?, ?it/s]"
      ]
     },
     "metadata": {},
     "output_type": "display_data"
    },
    {
     "data": {
      "application/vnd.jupyter.widget-view+json": {
       "model_id": "553f3f7c690a44eeb67ecb757a6dce47",
       "version_major": 2,
       "version_minor": 0
      },
      "text/plain": [
       "第 50/100 轮:   0%|          | 0/10 [00:00<?, ?it/s]"
      ]
     },
     "metadata": {},
     "output_type": "display_data"
    },
    {
     "data": {
      "application/vnd.jupyter.widget-view+json": {
       "model_id": "c33e1997812d43a8b69ce007e040f53f",
       "version_major": 2,
       "version_minor": 0
      },
      "text/plain": [
       "第 51/100 轮:   0%|          | 0/10 [00:00<?, ?it/s]"
      ]
     },
     "metadata": {},
     "output_type": "display_data"
    },
    {
     "data": {
      "application/vnd.jupyter.widget-view+json": {
       "model_id": "3cb8af2e50f34173b9f29d0d1b42e829",
       "version_major": 2,
       "version_minor": 0
      },
      "text/plain": [
       "第 52/100 轮:   0%|          | 0/10 [00:00<?, ?it/s]"
      ]
     },
     "metadata": {},
     "output_type": "display_data"
    },
    {
     "data": {
      "application/vnd.jupyter.widget-view+json": {
       "model_id": "7cdd890c90f9486e88c1aafab152055f",
       "version_major": 2,
       "version_minor": 0
      },
      "text/plain": [
       "第 53/100 轮:   0%|          | 0/10 [00:00<?, ?it/s]"
      ]
     },
     "metadata": {},
     "output_type": "display_data"
    },
    {
     "data": {
      "application/vnd.jupyter.widget-view+json": {
       "model_id": "3af2a382b0114762a67ca24b838fc21c",
       "version_major": 2,
       "version_minor": 0
      },
      "text/plain": [
       "第 54/100 轮:   0%|          | 0/10 [00:00<?, ?it/s]"
      ]
     },
     "metadata": {},
     "output_type": "display_data"
    },
    {
     "data": {
      "application/vnd.jupyter.widget-view+json": {
       "model_id": "3bcceb6fa3f74230ae30360749d59a86",
       "version_major": 2,
       "version_minor": 0
      },
      "text/plain": [
       "第 55/100 轮:   0%|          | 0/10 [00:00<?, ?it/s]"
      ]
     },
     "metadata": {},
     "output_type": "display_data"
    },
    {
     "data": {
      "application/vnd.jupyter.widget-view+json": {
       "model_id": "3528b9f9ebba410aaeef740395da570c",
       "version_major": 2,
       "version_minor": 0
      },
      "text/plain": [
       "第 56/100 轮:   0%|          | 0/10 [00:00<?, ?it/s]"
      ]
     },
     "metadata": {},
     "output_type": "display_data"
    },
    {
     "data": {
      "application/vnd.jupyter.widget-view+json": {
       "model_id": "782bde2ef731437f9fd66c7f68b2cd15",
       "version_major": 2,
       "version_minor": 0
      },
      "text/plain": [
       "第 57/100 轮:   0%|          | 0/10 [00:00<?, ?it/s]"
      ]
     },
     "metadata": {},
     "output_type": "display_data"
    },
    {
     "data": {
      "application/vnd.jupyter.widget-view+json": {
       "model_id": "fa109e98e8ed4b14abdbb0c032853d68",
       "version_major": 2,
       "version_minor": 0
      },
      "text/plain": [
       "第 58/100 轮:   0%|          | 0/10 [00:00<?, ?it/s]"
      ]
     },
     "metadata": {},
     "output_type": "display_data"
    },
    {
     "data": {
      "application/vnd.jupyter.widget-view+json": {
       "model_id": "12b9b34f6ad043188713d9240726166a",
       "version_major": 2,
       "version_minor": 0
      },
      "text/plain": [
       "第 59/100 轮:   0%|          | 0/10 [00:00<?, ?it/s]"
      ]
     },
     "metadata": {},
     "output_type": "display_data"
    },
    {
     "data": {
      "application/vnd.jupyter.widget-view+json": {
       "model_id": "c5df1fdc045547e5ae5170a19cf8e20a",
       "version_major": 2,
       "version_minor": 0
      },
      "text/plain": [
       "第 60/100 轮:   0%|          | 0/10 [00:00<?, ?it/s]"
      ]
     },
     "metadata": {},
     "output_type": "display_data"
    },
    {
     "data": {
      "application/vnd.jupyter.widget-view+json": {
       "model_id": "db706aca061946a899448338ec8eb52c",
       "version_major": 2,
       "version_minor": 0
      },
      "text/plain": [
       "第 61/100 轮:   0%|          | 0/10 [00:00<?, ?it/s]"
      ]
     },
     "metadata": {},
     "output_type": "display_data"
    },
    {
     "data": {
      "application/vnd.jupyter.widget-view+json": {
       "model_id": "450d2140fe0c42359aa3759d126b891f",
       "version_major": 2,
       "version_minor": 0
      },
      "text/plain": [
       "第 62/100 轮:   0%|          | 0/10 [00:00<?, ?it/s]"
      ]
     },
     "metadata": {},
     "output_type": "display_data"
    },
    {
     "data": {
      "application/vnd.jupyter.widget-view+json": {
       "model_id": "78cdffb7ec224e1a9f9d8832b676f402",
       "version_major": 2,
       "version_minor": 0
      },
      "text/plain": [
       "第 63/100 轮:   0%|          | 0/10 [00:00<?, ?it/s]"
      ]
     },
     "metadata": {},
     "output_type": "display_data"
    },
    {
     "data": {
      "application/vnd.jupyter.widget-view+json": {
       "model_id": "87f93fac3bef45cc97090b25032cd1af",
       "version_major": 2,
       "version_minor": 0
      },
      "text/plain": [
       "第 64/100 轮:   0%|          | 0/10 [00:00<?, ?it/s]"
      ]
     },
     "metadata": {},
     "output_type": "display_data"
    },
    {
     "data": {
      "application/vnd.jupyter.widget-view+json": {
       "model_id": "9df8413b7dac4fef98bb4a3a8e927716",
       "version_major": 2,
       "version_minor": 0
      },
      "text/plain": [
       "第 65/100 轮:   0%|          | 0/10 [00:00<?, ?it/s]"
      ]
     },
     "metadata": {},
     "output_type": "display_data"
    },
    {
     "data": {
      "application/vnd.jupyter.widget-view+json": {
       "model_id": "f1deedca6875439caed059a8f3143769",
       "version_major": 2,
       "version_minor": 0
      },
      "text/plain": [
       "第 66/100 轮:   0%|          | 0/10 [00:00<?, ?it/s]"
      ]
     },
     "metadata": {},
     "output_type": "display_data"
    },
    {
     "data": {
      "application/vnd.jupyter.widget-view+json": {
       "model_id": "c0798c540ffb47f0a8b01eb1309a4767",
       "version_major": 2,
       "version_minor": 0
      },
      "text/plain": [
       "第 67/100 轮:   0%|          | 0/10 [00:00<?, ?it/s]"
      ]
     },
     "metadata": {},
     "output_type": "display_data"
    },
    {
     "data": {
      "application/vnd.jupyter.widget-view+json": {
       "model_id": "8c47adeea44644a7b676bed0cda404b8",
       "version_major": 2,
       "version_minor": 0
      },
      "text/plain": [
       "第 68/100 轮:   0%|          | 0/10 [00:00<?, ?it/s]"
      ]
     },
     "metadata": {},
     "output_type": "display_data"
    },
    {
     "data": {
      "application/vnd.jupyter.widget-view+json": {
       "model_id": "7408471586f64e90b3731ec13006b927",
       "version_major": 2,
       "version_minor": 0
      },
      "text/plain": [
       "第 69/100 轮:   0%|          | 0/10 [00:00<?, ?it/s]"
      ]
     },
     "metadata": {},
     "output_type": "display_data"
    },
    {
     "data": {
      "application/vnd.jupyter.widget-view+json": {
       "model_id": "24876501aaa04fd18ef1d083b70181ea",
       "version_major": 2,
       "version_minor": 0
      },
      "text/plain": [
       "第 70/100 轮:   0%|          | 0/10 [00:00<?, ?it/s]"
      ]
     },
     "metadata": {},
     "output_type": "display_data"
    },
    {
     "data": {
      "application/vnd.jupyter.widget-view+json": {
       "model_id": "fb627b2036cf4033bbc42da4ccf2785e",
       "version_major": 2,
       "version_minor": 0
      },
      "text/plain": [
       "第 71/100 轮:   0%|          | 0/10 [00:00<?, ?it/s]"
      ]
     },
     "metadata": {},
     "output_type": "display_data"
    },
    {
     "data": {
      "application/vnd.jupyter.widget-view+json": {
       "model_id": "68750f55df404f6fa5d8753fb896fc03",
       "version_major": 2,
       "version_minor": 0
      },
      "text/plain": [
       "第 72/100 轮:   0%|          | 0/10 [00:00<?, ?it/s]"
      ]
     },
     "metadata": {},
     "output_type": "display_data"
    },
    {
     "data": {
      "application/vnd.jupyter.widget-view+json": {
       "model_id": "33d09ee17e224ccd8272a5882f07dc5f",
       "version_major": 2,
       "version_minor": 0
      },
      "text/plain": [
       "第 73/100 轮:   0%|          | 0/10 [00:00<?, ?it/s]"
      ]
     },
     "metadata": {},
     "output_type": "display_data"
    },
    {
     "data": {
      "application/vnd.jupyter.widget-view+json": {
       "model_id": "821edacbc23a4c05ad7eeb92eda15b2e",
       "version_major": 2,
       "version_minor": 0
      },
      "text/plain": [
       "第 74/100 轮:   0%|          | 0/10 [00:00<?, ?it/s]"
      ]
     },
     "metadata": {},
     "output_type": "display_data"
    },
    {
     "data": {
      "application/vnd.jupyter.widget-view+json": {
       "model_id": "506739be2ef64b62b926e04662b00675",
       "version_major": 2,
       "version_minor": 0
      },
      "text/plain": [
       "第 75/100 轮:   0%|          | 0/10 [00:00<?, ?it/s]"
      ]
     },
     "metadata": {},
     "output_type": "display_data"
    },
    {
     "data": {
      "application/vnd.jupyter.widget-view+json": {
       "model_id": "9aafa6eece344191a388f8b4d0e0f7b6",
       "version_major": 2,
       "version_minor": 0
      },
      "text/plain": [
       "第 76/100 轮:   0%|          | 0/10 [00:00<?, ?it/s]"
      ]
     },
     "metadata": {},
     "output_type": "display_data"
    },
    {
     "data": {
      "application/vnd.jupyter.widget-view+json": {
       "model_id": "17a1bdfd62ea4096a3f6c26c71bdbdf8",
       "version_major": 2,
       "version_minor": 0
      },
      "text/plain": [
       "第 77/100 轮:   0%|          | 0/10 [00:00<?, ?it/s]"
      ]
     },
     "metadata": {},
     "output_type": "display_data"
    },
    {
     "data": {
      "application/vnd.jupyter.widget-view+json": {
       "model_id": "49e37b1018a14b178de010907cfd1c43",
       "version_major": 2,
       "version_minor": 0
      },
      "text/plain": [
       "第 78/100 轮:   0%|          | 0/10 [00:00<?, ?it/s]"
      ]
     },
     "metadata": {},
     "output_type": "display_data"
    },
    {
     "data": {
      "application/vnd.jupyter.widget-view+json": {
       "model_id": "2abe2e74e98f4c6d8ecdb2545d6d3d87",
       "version_major": 2,
       "version_minor": 0
      },
      "text/plain": [
       "第 79/100 轮:   0%|          | 0/10 [00:00<?, ?it/s]"
      ]
     },
     "metadata": {},
     "output_type": "display_data"
    },
    {
     "data": {
      "application/vnd.jupyter.widget-view+json": {
       "model_id": "4247fc3986bb42b08a4547542b51894b",
       "version_major": 2,
       "version_minor": 0
      },
      "text/plain": [
       "第 80/100 轮:   0%|          | 0/10 [00:00<?, ?it/s]"
      ]
     },
     "metadata": {},
     "output_type": "display_data"
    },
    {
     "data": {
      "application/vnd.jupyter.widget-view+json": {
       "model_id": "2f5d43f769b84c52aeff4ae3c13ba598",
       "version_major": 2,
       "version_minor": 0
      },
      "text/plain": [
       "第 81/100 轮:   0%|          | 0/10 [00:00<?, ?it/s]"
      ]
     },
     "metadata": {},
     "output_type": "display_data"
    },
    {
     "data": {
      "application/vnd.jupyter.widget-view+json": {
       "model_id": "ac09bff519d34d0db6873795a9f41746",
       "version_major": 2,
       "version_minor": 0
      },
      "text/plain": [
       "第 82/100 轮:   0%|          | 0/10 [00:00<?, ?it/s]"
      ]
     },
     "metadata": {},
     "output_type": "display_data"
    },
    {
     "data": {
      "application/vnd.jupyter.widget-view+json": {
       "model_id": "ddce1403863d44af87489f767f65c4f0",
       "version_major": 2,
       "version_minor": 0
      },
      "text/plain": [
       "第 83/100 轮:   0%|          | 0/10 [00:00<?, ?it/s]"
      ]
     },
     "metadata": {},
     "output_type": "display_data"
    },
    {
     "data": {
      "application/vnd.jupyter.widget-view+json": {
       "model_id": "7679d47569cb4ec2aaf0057273b0b6af",
       "version_major": 2,
       "version_minor": 0
      },
      "text/plain": [
       "第 84/100 轮:   0%|          | 0/10 [00:00<?, ?it/s]"
      ]
     },
     "metadata": {},
     "output_type": "display_data"
    },
    {
     "data": {
      "application/vnd.jupyter.widget-view+json": {
       "model_id": "b8c8c30c23d8443ea971787827c094fa",
       "version_major": 2,
       "version_minor": 0
      },
      "text/plain": [
       "第 85/100 轮:   0%|          | 0/10 [00:00<?, ?it/s]"
      ]
     },
     "metadata": {},
     "output_type": "display_data"
    },
    {
     "data": {
      "application/vnd.jupyter.widget-view+json": {
       "model_id": "4fcc17eb2a6044e69cadfc3347ced78c",
       "version_major": 2,
       "version_minor": 0
      },
      "text/plain": [
       "第 86/100 轮:   0%|          | 0/10 [00:00<?, ?it/s]"
      ]
     },
     "metadata": {},
     "output_type": "display_data"
    },
    {
     "data": {
      "application/vnd.jupyter.widget-view+json": {
       "model_id": "d4bb22358c2244fcbed962078897c88a",
       "version_major": 2,
       "version_minor": 0
      },
      "text/plain": [
       "第 87/100 轮:   0%|          | 0/10 [00:00<?, ?it/s]"
      ]
     },
     "metadata": {},
     "output_type": "display_data"
    },
    {
     "data": {
      "application/vnd.jupyter.widget-view+json": {
       "model_id": "24999f0c7dc24f39b626296d4585fff6",
       "version_major": 2,
       "version_minor": 0
      },
      "text/plain": [
       "第 88/100 轮:   0%|          | 0/10 [00:00<?, ?it/s]"
      ]
     },
     "metadata": {},
     "output_type": "display_data"
    },
    {
     "data": {
      "application/vnd.jupyter.widget-view+json": {
       "model_id": "e31158b5cac141e1b816cd98b0ca5abf",
       "version_major": 2,
       "version_minor": 0
      },
      "text/plain": [
       "第 89/100 轮:   0%|          | 0/10 [00:00<?, ?it/s]"
      ]
     },
     "metadata": {},
     "output_type": "display_data"
    },
    {
     "data": {
      "application/vnd.jupyter.widget-view+json": {
       "model_id": "8bb38c7cfa4d481c9d56bd2bc879f04a",
       "version_major": 2,
       "version_minor": 0
      },
      "text/plain": [
       "第 90/100 轮:   0%|          | 0/10 [00:00<?, ?it/s]"
      ]
     },
     "metadata": {},
     "output_type": "display_data"
    },
    {
     "data": {
      "application/vnd.jupyter.widget-view+json": {
       "model_id": "09756691636d4a04a5c9bb98b751371c",
       "version_major": 2,
       "version_minor": 0
      },
      "text/plain": [
       "第 91/100 轮:   0%|          | 0/10 [00:00<?, ?it/s]"
      ]
     },
     "metadata": {},
     "output_type": "display_data"
    },
    {
     "data": {
      "application/vnd.jupyter.widget-view+json": {
       "model_id": "800fbd6e64634f129c389d4670ecc58a",
       "version_major": 2,
       "version_minor": 0
      },
      "text/plain": [
       "第 92/100 轮:   0%|          | 0/10 [00:00<?, ?it/s]"
      ]
     },
     "metadata": {},
     "output_type": "display_data"
    },
    {
     "data": {
      "application/vnd.jupyter.widget-view+json": {
       "model_id": "6df2bfbb036046e18657be7f1de163e3",
       "version_major": 2,
       "version_minor": 0
      },
      "text/plain": [
       "第 93/100 轮:   0%|          | 0/10 [00:00<?, ?it/s]"
      ]
     },
     "metadata": {},
     "output_type": "display_data"
    },
    {
     "data": {
      "application/vnd.jupyter.widget-view+json": {
       "model_id": "33b4ce2d5add48229030166eb3e4526c",
       "version_major": 2,
       "version_minor": 0
      },
      "text/plain": [
       "第 94/100 轮:   0%|          | 0/10 [00:00<?, ?it/s]"
      ]
     },
     "metadata": {},
     "output_type": "display_data"
    },
    {
     "data": {
      "application/vnd.jupyter.widget-view+json": {
       "model_id": "576ff3b96db14779b91c07bf9b390988",
       "version_major": 2,
       "version_minor": 0
      },
      "text/plain": [
       "第 95/100 轮:   0%|          | 0/10 [00:00<?, ?it/s]"
      ]
     },
     "metadata": {},
     "output_type": "display_data"
    },
    {
     "data": {
      "application/vnd.jupyter.widget-view+json": {
       "model_id": "65cc1df37b204724895c49740427690d",
       "version_major": 2,
       "version_minor": 0
      },
      "text/plain": [
       "第 96/100 轮:   0%|          | 0/10 [00:00<?, ?it/s]"
      ]
     },
     "metadata": {},
     "output_type": "display_data"
    },
    {
     "data": {
      "application/vnd.jupyter.widget-view+json": {
       "model_id": "a4fd7690ef9c4fff97cb8a6c7c0d865d",
       "version_major": 2,
       "version_minor": 0
      },
      "text/plain": [
       "第 97/100 轮:   0%|          | 0/10 [00:00<?, ?it/s]"
      ]
     },
     "metadata": {},
     "output_type": "display_data"
    },
    {
     "data": {
      "application/vnd.jupyter.widget-view+json": {
       "model_id": "cc9ee1be7ab643e397b9c7731e786aaa",
       "version_major": 2,
       "version_minor": 0
      },
      "text/plain": [
       "第 98/100 轮:   0%|          | 0/10 [00:00<?, ?it/s]"
      ]
     },
     "metadata": {},
     "output_type": "display_data"
    },
    {
     "data": {
      "application/vnd.jupyter.widget-view+json": {
       "model_id": "f3ba536d8cb64f30a9f29f2f625e9714",
       "version_major": 2,
       "version_minor": 0
      },
      "text/plain": [
       "第 99/100 轮:   0%|          | 0/10 [00:00<?, ?it/s]"
      ]
     },
     "metadata": {},
     "output_type": "display_data"
    },
    {
     "data": {
      "application/vnd.jupyter.widget-view+json": {
       "model_id": "a46e79a1bf394d2f913fdad82b2415aa",
       "version_major": 2,
       "version_minor": 0
      },
      "text/plain": [
       "第 100/100 轮:   0%|          | 0/10 [00:00<?, ?it/s]"
      ]
     },
     "metadata": {},
     "output_type": "display_data"
    },
    {
     "name": "stdout",
     "output_type": "stream",
     "text": [
      "Fold 5 - Epoch 100: Best Correlation Coefficient: 0.6802\n",
      "代码执行时间: 59.62507915496826 秒\n"
     ]
    }
   ],
   "source": [
    "start_time = time.time()\n",
    "x = X_train_reduction\n",
    "y = Y_train\n",
    "for fold, (train_index, test_index) in enumerate(kf.split(x)):\n",
    "    x_train, x_test = x[train_index], x[test_index]\n",
    "    y_train, y_test = y[train_index], y[test_index]\n",
    "\n",
    "\n",
    "    scaler = StandardScaler()\n",
    "    x_train = scaler.fit_transform(x_train)\n",
    "    x_test = scaler.transform(x_test)\n",
    "\n",
    "    # scaler_model = StandardScaler()\n",
    "    # y_train = scaler_model.fit_transform(y_train.reshape(-1, 1)).flatten()\n",
    "    # y_test = scaler_model.transform(y_test.reshape(-1, 1)).flatten()\n",
    "\n",
    "    x_train_tensor = torch.from_numpy(x_train).float().to(DEVICE)\n",
    "    y_train_tensor = torch.from_numpy(y_train).float().to(DEVICE)\n",
    "    x_test_tensor = torch.from_numpy(x_test).float().to(DEVICE)\n",
    "    y_test_tensor = torch.from_numpy(y_test).float().to(DEVICE)\n",
    "\n",
    "    train_data = TensorDataset(x_train_tensor, y_train_tensor)\n",
    "    test_data = TensorDataset(x_test_tensor, y_test_tensor)\n",
    "\n",
    "    train_loader = DataLoader(train_data, batch_size, shuffle=True)\n",
    "    test_loader = DataLoader(test_data, batch_size, shuffle=False)\n",
    "\n",
    "    model = SelfAttention(num_attention_heads, x_train.shape[1], hidden_dim, output_dim,\n",
    "                          hidden_dropout_prob=hidden_dropout_prob, kernel_size=kernel_size,\n",
    "                          attention_probs_dropout_prob=attention_probs_dropout_prob).to(DEVICE)\n",
    "    loss_function = torch.nn.MSELoss()\n",
    "    optimizer = torch.optim.Adam(model.parameters(), lr=LR)\n",
    "\n",
    "    # scheduler = optim.lr_scheduler.ReduceLROnPlateau(optimizer, mode='min', factor=0.1, patience=10, verbose=True)\n",
    "\n",
    "    best_corr_coef = -1\n",
    "\n",
    "    for epoch in range(epochs):\n",
    "        model.train()\n",
    "        running_loss = 0\n",
    "        train_bar = tqdm(train_loader, desc=f'第 {epoch + 1}/{epochs} 轮')\n",
    "        for data in train_bar:\n",
    "            x_batch, y_batch = data\n",
    "            optimizer.zero_grad()\n",
    "            y_pred = model(x_batch)\n",
    "            loss = loss_function(y_pred, y_batch.reshape(-1, 1))\n",
    "            loss.backward()\n",
    "            optimizer.step()\n",
    "\n",
    "            running_loss += loss.item()\n",
    "\n",
    "    model.eval()\n",
    "    y_test_preds, y_test_trues = [], []\n",
    "    with torch.no_grad():\n",
    "        for x_batch, y_batch in test_loader:\n",
    "            y_test_pred = model(x_batch)\n",
    "            y_test_preds.extend(y_test_pred.cpu().numpy().reshape(-1).tolist())\n",
    "            y_test_trues.extend(y_batch.cpu().numpy().reshape(-1).tolist())\n",
    "\n",
    "    corr_coef = np.corrcoef(y_test_preds, y_test_trues)[0, 1]\n",
    "    if corr_coef > best_corr_coef:\n",
    "        best_corr_coef = corr_coef\n",
    "        torch.save(model.state_dict(), save_path)\n",
    "    best_corr_coefs.append(best_corr_coef)\n",
    "\n",
    "    print(f'Fold {fold+1} - Epoch {epoch+1}: Best Correlation Coefficient: {best_corr_coef:.4f}')\n",
    "\n",
    "end_time = time.time()\n",
    "execution_time = end_time - start_time\n",
    "print(f\"time: {execution_time} 秒\")\n"
   ]
  },
  {
   "cell_type": "code",
   "execution_count": 13,
   "id": "6d996831-f635-45f5-858c-3d00d8293efe",
   "metadata": {},
   "outputs": [
    {
     "name": "stdout",
     "output_type": "stream",
     "text": [
      "代码执行时间: 59.62507915496826 秒\n"
     ]
    }
   ],
   "source": [
    "print(f\"time: {execution_time} 秒\")"
   ]
  },
  {
   "cell_type": "code",
   "execution_count": 14,
   "id": "212c4d31-9f36-4e5d-9fd5-1926e385dddc",
   "metadata": {},
   "outputs": [
    {
     "name": "stdout",
     "output_type": "stream",
     "text": [
      "各折最佳相关系数: [0.6682086842237336, 0.6712077453571017, 0.6711143500490083, 0.6513225824791833, 0.6801860814182206]\n",
      "平均最佳相关系数: 0.6684\n",
      "0.004721426294690935\n"
     ]
    }
   ],
   "source": [
    "average = np.mean(best_corr_coefs)\n",
    "print(best_corr_coefs)\n",
    "print(f\"corr: {average:.4f}\")\n",
    "import numpy as np\n",
    "\n",
    "performance_scores = np.array(best_corr_coefs)\n",
    "mean_score = np.mean(performance_scores)\n",
    "sample_variance = np.var(performance_scores, ddof=1)\n",
    "sample_std_dev = np.sqrt(sample_variance)\n",
    "standard_error = sample_std_dev / np.sqrt(len(performance_scores))\n",
    "print(standard_error)"
   ]
  },
  {
   "cell_type": "code",
   "execution_count": 15,
   "id": "bc3ec119-5c99-4068-8f2c-4d4f488dfcc5",
   "metadata": {},
   "outputs": [
    {
     "data": {
      "text/plain": [
       "<All keys matched successfully>"
      ]
     },
     "execution_count": 15,
     "metadata": {},
     "output_type": "execute_result"
    }
   ],
   "source": [
    "### load_model\n",
    "model_hard = SelfAttention(num_attention_heads, \n",
    "                      X_train_reduction.shape[1], \n",
    "                      hidden_dim, \n",
    "                      output_dim,\n",
    "                      hidden_dropout_prob=hidden_dropout_prob,\n",
    "                      kernel_size = kernel_size,\n",
    "                      attention_probs_dropout_prob=attention_probs_dropout_prob).to(DEVICE)\n",
    "model_hard.load_state_dict(torch.load(\"./cn_at_hard.pth\"))"
   ]
  },
  {
   "cell_type": "code",
   "execution_count": 16,
   "id": "7a57020b-d535-4119-82cb-37c87dbda1be",
   "metadata": {},
   "outputs": [],
   "source": [
    "\n",
    "data_test_tensor = torch.from_numpy(X_test_reduction).to(torch.float32).to(DEVICE)\n",
    "label_test_tensor = torch.from_numpy(Y_test).to(torch.float32).to(DEVICE)"
   ]
  },
  {
   "cell_type": "code",
   "execution_count": 17,
   "id": "acc645ee-bd8d-452b-9c4d-dfd34f375a80",
   "metadata": {},
   "outputs": [
    {
     "name": "stdout",
     "output_type": "stream",
     "text": [
      "test_corr 0.670995571986711\n"
     ]
    }
   ],
   "source": [
    "model_hard.eval()\n",
    "with torch.no_grad():\n",
    "    hard_output = model_hard(data_test_tensor)\n",
    "pre = hard_output.cpu().detach().numpy().reshape(-1).tolist()\n",
    "tru = label_test_tensor.cpu().detach().numpy().reshape(-1).tolist()\n",
    "test_corr_coef = np.corrcoef(pre, tru)[0,1]\n",
    "print(\"test_corr\",test_corr_coef)"
   ]
  },
  {
   "cell_type": "code",
   "execution_count": null,
   "id": "9ae05f5f-1389-401e-955f-fbf7725450a8",
   "metadata": {},
   "outputs": [],
   "source": []
  },
  {
   "cell_type": "code",
   "execution_count": null,
   "id": "25b0943b-319b-4785-b3fa-e0e7f555c8e0",
   "metadata": {},
   "outputs": [],
   "source": []
  },
  {
   "cell_type": "code",
   "execution_count": null,
   "id": "5440f740-462b-4478-bd8f-1ea9b3e8b790",
   "metadata": {},
   "outputs": [],
   "source": []
  },
  {
   "cell_type": "code",
   "execution_count": null,
   "id": "55a41c27-4e2b-4fb0-bd0a-7e123f5d6738",
   "metadata": {},
   "outputs": [],
   "source": []
  },
  {
   "cell_type": "code",
   "execution_count": null,
   "id": "d03b8110-75e9-4aec-8739-317e9c25c476",
   "metadata": {},
   "outputs": [],
   "source": []
  },
  {
   "cell_type": "code",
   "execution_count": null,
   "id": "ea234f78-184d-4aa0-809d-591ad1e85083",
   "metadata": {},
   "outputs": [],
   "source": []
  },
  {
   "cell_type": "code",
   "execution_count": null,
   "id": "c64eeb0e-de0e-427a-a6d6-39662b56575d",
   "metadata": {},
   "outputs": [],
   "source": []
  }
 ],
 "metadata": {
  "kernelspec": {
   "display_name": "Python [conda env:pytorch2]",
   "language": "python",
   "name": "conda-env-pytorch2-py"
  },
  "language_info": {
   "codemirror_mode": {
    "name": "ipython",
    "version": 3
   },
   "file_extension": ".py",
   "mimetype": "text/x-python",
   "name": "python",
   "nbconvert_exporter": "python",
   "pygments_lexer": "ipython3",
   "version": "3.8.16"
  }
 },
 "nbformat": 4,
 "nbformat_minor": 5
}
