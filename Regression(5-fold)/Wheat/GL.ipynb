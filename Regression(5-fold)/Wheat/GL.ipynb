{
 "cells": [
  {
   "cell_type": "code",
   "execution_count": 1,
   "id": "4dc3e2f1-374f-493f-bc26-7c8faf87309c",
   "metadata": {},
   "outputs": [],
   "source": [
    "import pandas as pd\n",
    "import torch.nn as nn\n",
    "import torch\n",
    "import time\n",
    "import os\n",
    "import matplotlib.pyplot as plt\n",
    "import numpy as np\n",
    "import pandas as pd\n",
    "import torch.nn as nn\n",
    "from torch.nn import BatchNorm1d\n",
    "from torch.utils.data import TensorDataset\n",
    "from tqdm import tqdm\n",
    "import torch.nn.functional as F\n",
    "from sklearn.model_selection import KFold, train_test_split\n",
    "from torch.utils.data import TensorDataset, DataLoader\n",
    "from sklearn.preprocessing import StandardScaler\n",
    "import torch.optim as optim\n",
    "from tqdm.auto import tqdm"
   ]
  },
  {
   "cell_type": "code",
   "execution_count": 2,
   "id": "a24182c5-b327-4d71-90b0-be1d70cc0521",
   "metadata": {},
   "outputs": [],
   "source": [
    "class LayerNorm(nn.Module):\n",
    "    def __init__(self, hidden_size, eps=1e-12):\n",
    "        \"\"\"Construct a layernorm module in the TF style (epsilon inside the square root).\n",
    "        \"\"\"\n",
    "        super(LayerNorm, self).__init__()\n",
    "        self.weight = nn.Parameter(torch.ones(hidden_size))\n",
    "        self.bias = nn.Parameter(torch.zeros(hidden_size))\n",
    "        self.variance_epsilon = eps\n",
    "\n",
    "    def forward(self, x):\n",
    "        u = x.mean(-1, keepdim=True)\n",
    "        s = (x - u).pow(2).mean(-1, keepdim=True)\n",
    "        x = (x - u) / torch.sqrt(s + self.variance_epsilon)\n",
    "        return self.weight * x + self.bias"
   ]
  },
  {
   "cell_type": "code",
   "execution_count": 3,
   "id": "7a5457db-fd39-4c42-8e2f-f1e3e77d59b2",
   "metadata": {},
   "outputs": [],
   "source": [
    "\n",
    "class SelfAttention(nn.Module):\n",
    "    def __init__(self, num_attention_heads, input_size, hidden_size, output_dim=1, kernel_size=3,\n",
    "                 hidden_dropout_prob=0.5, attention_probs_dropout_prob=0.5):\n",
    "        super(SelfAttention, self).__init__()\n",
    "        input_size = input_size - kernel_size + 1\n",
    "\n",
    "        if hidden_size % num_attention_heads != 0:\n",
    "            raise ValueError(\n",
    "                \"The hidden size (%d) is not a multiple of the number of attention \"\n",
    "                \"heads (%d)\" % (hidden_size, num_attention_heads))\n",
    "\n",
    "        self.num_attention_heads = num_attention_heads\n",
    "        self.attention_head_size = int(hidden_size / num_attention_heads)\n",
    "        self.all_head_size = hidden_size\n",
    "\n",
    "        self.query = nn.Linear(input_size, self.all_head_size)\n",
    "        self.key = nn.Linear(input_size, self.all_head_size)\n",
    "        self.value = nn.Linear(input_size, self.all_head_size)\n",
    "\n",
    "        self.attn_dropout = nn.Dropout(attention_probs_dropout_prob)\n",
    "        self.out_dropout = nn.Dropout(hidden_dropout_prob)\n",
    "\n",
    "        self.dense = nn.Linear(hidden_size, input_size)\n",
    "\n",
    "\n",
    "        self.LayerNorm = LayerNorm(input_size, eps=1e-12)\n",
    "\n",
    "        self.out = nn.Linear(input_size, output_dim)\n",
    "\n",
    "        self.cnn = nn.Conv1d(1, 1, kernel_size, stride=1)\n",
    "        self.relu = nn.ReLU()\n",
    "        self.LeakyReLU = nn.LeakyReLU()\n",
    "        self.dropout = nn.Dropout(0.5)\n",
    "\n",
    "    def transpose_for_scores(self, x):\n",
    "        new_x_shape = x.size()[:-1] + (self.num_attention_heads, self.attention_head_size)\n",
    "        x = x.view(*new_x_shape)\n",
    "        return x.permute(0, 2, 1, 3)\n",
    "\n",
    "    def forward(self, input_tensor): \n",
    "        cnn_hidden = self.cnn(input_tensor.view(input_tensor.size(0), 1, -1))#(128,1,9998)\n",
    "        cnn_hidden = self.LeakyReLU(cnn_hidden)\n",
    "\n",
    "        cnn_hidden = self.dropout(cnn_hidden)\n",
    "\n",
    "        input_tensor = cnn_hidden\n",
    "        self.cnn_result = input_tensor\n",
    "\n",
    "        mixed_query_layer = self.query(input_tensor)\n",
    "        mixed_key_layer = self.key(input_tensor)\n",
    "        mixed_value_layer = self.value(input_tensor)\n",
    "\n",
    "        self.mixed_query_layer_ = mixed_query_layer\n",
    "        self.mixed_key_layer_ = mixed_key_layer\n",
    "        self.mixed_value_layer_ = mixed_value_layer\n",
    "\n",
    "        query_layer = self.transpose_for_scores(mixed_query_layer)\n",
    "        key_layer = self.transpose_for_scores(mixed_key_layer)\n",
    "        value_layer = self.transpose_for_scores(mixed_value_layer)\n",
    "\n",
    "        self.query_layer_ = query_layer\n",
    "        self.key_layer_ = key_layer\n",
    "        self.value_layer_ = value_layer\n",
    "\n",
    "        attention_scores = torch.matmul(query_layer, key_layer.transpose(-1, -2))\n",
    "        attention_scores = attention_scores / np.sqrt(self.attention_head_size)\n",
    "        self.attention_scores_ = attention_scores\n",
    "        attention_probs = nn.Softmax(dim=-1)(attention_scores)\n",
    "        self.attention_probs_ = attention_probs\n",
    "        attention_probs = self.attn_dropout(attention_probs)\n",
    "        self.attention_probs__ = attention_probs\n",
    "\n",
    "        context_layer = torch.matmul(attention_probs, value_layer)\n",
    "        self.context_layer_ = context_layer\n",
    "\n",
    "        context_layer = context_layer.permute(0, 2, 1, 3).contiguous()\n",
    "        self.context_layer__ = context_layer\n",
    "\n",
    "        new_context_layer_shape = context_layer.size()[:-2] + (self.all_head_size,)\n",
    "        self.new_context_layer_shape_ = new_context_layer_shape\n",
    "\n",
    "        context_layer = context_layer.view(*new_context_layer_shape)\n",
    "        self.context_layer3 = context_layer\n",
    "\n",
    "\n",
    "\n",
    "        hidden_states = self.dense(context_layer)\n",
    "        self.h1 = hidden_states\n",
    "\n",
    "        hidden_states = self.out_dropout(hidden_states) \n",
    "        self.h2 = hidden_states\n",
    "\n",
    "        hidden_states = self.LayerNorm(hidden_states + input_tensor) #128，1，9998\n",
    "        self.h3 = hidden_states\n",
    "\n",
    "        output = self.out(self.LeakyReLU(hidden_states.view(hidden_states.size(0), -1)))\n",
    "        self.o = output\n",
    "        return output\n"
   ]
  },
  {
   "cell_type": "code",
   "execution_count": 4,
   "id": "e0b0fdd0-be08-4ecc-a385-6af171d5a447",
   "metadata": {},
   "outputs": [
    {
     "name": "stdout",
     "output_type": "stream",
     "text": [
      "Device used: cuda\n"
     ]
    }
   ],
   "source": [
    "np.random.seed(42)\n",
    "torch.manual_seed(42)\n",
    "\n",
    "DEVICE = torch.device('cuda' if torch.cuda.is_available() else 'cpu')\n",
    "print(f'Device used: {DEVICE}')\n",
    "is_scaler = False\n",
    "batch_size = 128  \n",
    "hidden_dim = 256  \n",
    "output_dim = 1 \n",
    "num_attention_heads = 8\n",
    "kernel_size = 3\n",
    "best_corr_coef = -1\n",
    "LR = 0.001\n",
    "epochs = 100\n",
    "hidden_dropout_prob = 0.5\n",
    "attention_probs_dropout_prob = 0.5"
   ]
  },
  {
   "cell_type": "code",
   "execution_count": 5,
   "id": "311ce69e-fc75-4675-b4af-c3e0f04cd907",
   "metadata": {},
   "outputs": [],
   "source": [
    "data = pd.read_csv(\"./data_gl.csv\")\n",
    "label = pd.read_csv(\"./pheno.csv\")\n"
   ]
  },
  {
   "cell_type": "code",
   "execution_count": 6,
   "id": "e619608d-ba04-4df9-a7a3-d0c51cdb26c3",
   "metadata": {},
   "outputs": [],
   "source": [
    "label = label[\"length\"]"
   ]
  },
  {
   "cell_type": "code",
   "execution_count": 7,
   "id": "9c1bd932-a772-4a73-addd-7f46db059c0d",
   "metadata": {},
   "outputs": [],
   "source": [
    "X_train_reduction, X_test_reduction, Y_train, Y_test = train_test_split(data, label, test_size=0.2, random_state=42)"
   ]
  },
  {
   "cell_type": "code",
   "execution_count": 8,
   "id": "8c332038-5ce3-4490-a39b-382ae28d05b9",
   "metadata": {},
   "outputs": [],
   "source": [
    "Y_train = pd.DataFrame(Y_train)\n",
    "Y_test = pd.DataFrame(Y_test)\n",
    "Y_train = Y_train.values.astype(float)\n",
    "Y_test = Y_test.values.astype(float)\n",
    "X_train_reduction = pd.DataFrame(X_train_reduction)\n",
    "X_test_reduction = pd.DataFrame(X_test_reduction)\n",
    "X_train_reduction = X_train_reduction.values.astype(float)\n",
    "X_test_reduction = X_test_reduction.values.astype(float)"
   ]
  },
  {
   "cell_type": "code",
   "execution_count": 9,
   "id": "a5c15d75-b41f-43a5-98e0-a7472648f819",
   "metadata": {},
   "outputs": [],
   "source": [
    "kf = KFold(n_splits=5, shuffle=True, random_state=42)\n",
    "\n",
    "best_corr_coefs = []"
   ]
  },
  {
   "cell_type": "code",
   "execution_count": 10,
   "id": "9d172b32-b747-4026-b3cc-98acc754b230",
   "metadata": {},
   "outputs": [],
   "source": [
    "save_path = './cn_at_gl.pth'"
   ]
  },
  {
   "cell_type": "code",
   "execution_count": null,
   "id": "f43892a8-a9df-4e35-a289-2eb105bf2cd9",
   "metadata": {},
   "outputs": [],
   "source": [
    "start_time = time.time()\n",
    "x = X_train_reduction\n",
    "y = Y_train\n",
    "for fold, (train_index, test_index) in enumerate(kf.split(x)):\n",
    "    x_train, x_test = x[train_index], x[test_index]\n",
    "    y_train, y_test = y[train_index], y[test_index]\n",
    "\n",
    "\n",
    "    scaler = StandardScaler()\n",
    "    x_train = scaler.fit_transform(x_train)\n",
    "    x_test = scaler.transform(x_test)\n",
    "\n",
    "    # scaler_model = StandardScaler()\n",
    "    # y_train = scaler_model.fit_transform(y_train.reshape(-1, 1)).flatten()\n",
    "    # y_test = scaler_model.transform(y_test.reshape(-1, 1)).flatten()\n",
    "\n",
    "    x_train_tensor = torch.from_numpy(x_train).float().to(DEVICE)\n",
    "    y_train_tensor = torch.from_numpy(y_train).float().to(DEVICE)\n",
    "    x_test_tensor = torch.from_numpy(x_test).float().to(DEVICE)\n",
    "    y_test_tensor = torch.from_numpy(y_test).float().to(DEVICE)\n",
    "\n",
    "    train_data = TensorDataset(x_train_tensor, y_train_tensor)\n",
    "    test_data = TensorDataset(x_test_tensor, y_test_tensor)\n",
    "\n",
    "    train_loader = DataLoader(train_data, batch_size, shuffle=True)\n",
    "    test_loader = DataLoader(test_data, batch_size, shuffle=False)\n",
    "\n",
    "    model = SelfAttention(num_attention_heads, x_train.shape[1], hidden_dim, output_dim,\n",
    "                          hidden_dropout_prob=hidden_dropout_prob, kernel_size=kernel_size,\n",
    "                          attention_probs_dropout_prob=attention_probs_dropout_prob).to(DEVICE)\n",
    "    loss_function = torch.nn.MSELoss()\n",
    "    optimizer = torch.optim.Adam(model.parameters(), lr=LR)\n",
    "\n",
    "    scheduler = optim.lr_scheduler.ReduceLROnPlateau(optimizer, mode='max', factor=0.1, patience=10, verbose=True)\n",
    "\n",
    "    best_corr_coef = -1\n",
    "\n",
    "    for epoch in range(epochs):\n",
    "        model.train()\n",
    "        running_loss = 0\n",
    "        train_bar = tqdm(train_loader, desc=f'第 {epoch + 1}/{epochs} 轮')\n",
    "        for data in train_bar:\n",
    "            x_batch, y_batch = data\n",
    "            optimizer.zero_grad()\n",
    "            y_pred = model(x_batch)\n",
    "            loss = loss_function(y_pred, y_batch.reshape(-1, 1))\n",
    "            l2_reg = torch.tensor(0., requires_grad=True)\n",
    "            for param in model.parameters():\n",
    "                l2_reg = l2_reg + torch.norm(param, 2)\n",
    "            total_loss = loss + 0.01 * l2_reg\n",
    "            total_loss.backward()\n",
    "            optimizer.step()\n",
    "\n",
    "            running_loss += total_loss.item()\n",
    "\n",
    "    model.eval()\n",
    "    y_test_preds, y_test_trues = [], []\n",
    "    with torch.no_grad():\n",
    "        for x_batch, y_batch in test_loader:\n",
    "            y_test_pred = model(x_batch)\n",
    "            y_test_preds.extend(y_test_pred.cpu().numpy().reshape(-1).tolist())\n",
    "            y_test_trues.extend(y_batch.cpu().numpy().reshape(-1).tolist())\n",
    "\n",
    "    corr_coef = np.corrcoef(y_test_preds, y_test_trues)[0, 1]\n",
    "    if corr_coef > best_corr_coef:\n",
    "        best_corr_coef = corr_coef\n",
    "        torch.save(model.state_dict(), save_path)\n",
    "    best_corr_coefs.append(best_corr_coef)\n",
    "\n",
    "    print(f'Fold {fold+1} - Epoch {epoch+1}: Best Correlation Coefficient: {best_corr_coef:.4f}')\n",
    "\n",
    "end_time = time.time()\n",
    "execution_time = end_time - start_time\n",
    "print(f\"time: {execution_time} 秒\")\n"
   ]
  },
  {
   "cell_type": "code",
   "execution_count": 16,
   "id": "f91ae2a9-3f9b-4b81-a915-382e2785dbb8",
   "metadata": {},
   "outputs": [
    {
     "name": "stdout",
     "output_type": "stream",
     "text": [
      "代码执行时间: 72.25766515731812 秒\n"
     ]
    }
   ],
   "source": [
    "print(f\"time: {execution_time} 秒\")"
   ]
  },
  {
   "cell_type": "code",
   "execution_count": 12,
   "id": "7327e69c-f5de-47ee-8ada-b899115ed46a",
   "metadata": {},
   "outputs": [
    {
     "name": "stdout",
     "output_type": "stream",
     "text": [
      "各折最佳相关系数: [0.7517834529915255, 0.7035788557641443, 0.7166625924080977, 0.7393873392081342, 0.7306645237071088]\n",
      "平均最佳相关系数: 0.7284\n",
      "0.008445384313080067\n"
     ]
    }
   ],
   "source": [
    "average = np.mean(best_corr_coefs)\n",
    "print(best_corr_coefs)\n",
    "print(f\"corr: {average:.4f}\")\n",
    "import numpy as np\n",
    "performance_scores = np.array(best_corr_coefs)\n",
    "mean_score = np.mean(performance_scores)\n",
    "sample_variance = np.var(performance_scores, ddof=1)\n",
    "sample_std_dev = np.sqrt(sample_variance)\n",
    "standard_error = sample_std_dev / np.sqrt(len(performance_scores))\n",
    "print(standard_error)"
   ]
  },
  {
   "cell_type": "code",
   "execution_count": 13,
   "id": "e17ec1c2-242c-423d-b4e7-98910b30fffd",
   "metadata": {},
   "outputs": [
    {
     "data": {
      "text/plain": [
       "<All keys matched successfully>"
      ]
     },
     "execution_count": 13,
     "metadata": {},
     "output_type": "execute_result"
    }
   ],
   "source": [
    "### load_model\n",
    "model_gw = SelfAttention(num_attention_heads, \n",
    "                      X_train_reduction.shape[1], \n",
    "                      hidden_dim, \n",
    "                      output_dim,\n",
    "                      hidden_dropout_prob=hidden_dropout_prob,\n",
    "                      kernel_size = kernel_size,\n",
    "                      attention_probs_dropout_prob=attention_probs_dropout_prob).to(DEVICE)\n",
    "model_gw.load_state_dict(torch.load('./cn_at_gl.pth'))"
   ]
  },
  {
   "cell_type": "code",
   "execution_count": 14,
   "id": "e63f4167-f35a-43bb-8c36-cc2b902196b0",
   "metadata": {},
   "outputs": [],
   "source": [
    "\n",
    "data_test_tensor = torch.from_numpy(X_test_reduction).to(torch.float32).to(DEVICE)\n",
    "label_test_tensor = torch.from_numpy(Y_test).to(torch.float32).to(DEVICE)"
   ]
  },
  {
   "cell_type": "code",
   "execution_count": 15,
   "id": "8a39cdd8-ebdf-45d1-a27c-9a0efd6dc65f",
   "metadata": {},
   "outputs": [
    {
     "name": "stdout",
     "output_type": "stream",
     "text": [
      "test_corr 0.7292645343985417\n"
     ]
    }
   ],
   "source": [
    "model_gw.eval()\n",
    "with torch.no_grad():\n",
    "    a_output = model_gw(data_test_tensor)\n",
    "pre = a_output.cpu().detach().numpy().reshape(-1).tolist()\n",
    "tru = label_test_tensor.cpu().detach().numpy().reshape(-1).tolist()\n",
    "test_corr_coef = np.corrcoef(pre, tru)[0,1]\n",
    "print(\"test_corr\",test_corr_coef)"
   ]
  },
  {
   "cell_type": "code",
   "execution_count": null,
   "id": "513c083b-d3c3-4a05-a0b2-d4b10cacf4dc",
   "metadata": {},
   "outputs": [],
   "source": []
  },
  {
   "cell_type": "code",
   "execution_count": null,
   "id": "be487b89-f650-4bf0-aab5-66409e0eced7",
   "metadata": {},
   "outputs": [],
   "source": []
  },
  {
   "cell_type": "code",
   "execution_count": null,
   "id": "93585417-bf0c-4e77-baec-171279c66ae8",
   "metadata": {},
   "outputs": [],
   "source": []
  },
  {
   "cell_type": "code",
   "execution_count": null,
   "id": "fd4ee030-8cf6-426d-8877-6a8a1632e47f",
   "metadata": {},
   "outputs": [],
   "source": []
  },
  {
   "cell_type": "code",
   "execution_count": null,
   "id": "5d70938b-63da-4e01-b53a-47a41f72eb45",
   "metadata": {},
   "outputs": [],
   "source": []
  },
  {
   "cell_type": "code",
   "execution_count": null,
   "id": "7abcb9b9-70c4-4a69-8d3d-23c5628e5a58",
   "metadata": {},
   "outputs": [],
   "source": []
  }
 ],
 "metadata": {
  "kernelspec": {
   "display_name": "Python [conda env:pytorch2]",
   "language": "python",
   "name": "conda-env-pytorch2-py"
  },
  "language_info": {
   "codemirror_mode": {
    "name": "ipython",
    "version": 3
   },
   "file_extension": ".py",
   "mimetype": "text/x-python",
   "name": "python",
   "nbconvert_exporter": "python",
   "pygments_lexer": "ipython3",
   "version": "3.8.16"
  }
 },
 "nbformat": 4,
 "nbformat_minor": 5
}
