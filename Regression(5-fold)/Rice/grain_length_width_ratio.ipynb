{
 "cells": [
  {
   "cell_type": "code",
   "execution_count": 1,
   "id": "229826d4-f2c0-4df5-af20-8e3aa29604ce",
   "metadata": {},
   "outputs": [],
   "source": [
    "import pandas as pd\n",
    "import torch.nn as nn\n",
    "import torch\n",
    "import time\n",
    "import os\n",
    "import matplotlib.pyplot as plt\n",
    "import numpy as np\n",
    "import pandas as pd\n",
    "import torch.nn as nn\n",
    "from torch.nn import BatchNorm1d\n",
    "from torch.utils.data import TensorDataset\n",
    "from tqdm import tqdm\n",
    "import torch.nn.functional as F\n",
    "from sklearn.model_selection import KFold, train_test_split\n",
    "from torch.utils.data import TensorDataset, DataLoader\n",
    "from sklearn.preprocessing import StandardScaler\n",
    "import torch.optim as optim\n",
    "from tqdm.auto import tqdm"
   ]
  },
  {
   "cell_type": "code",
   "execution_count": 2,
   "id": "fe56666a-d2f7-4abe-80ba-b4709a906cdc",
   "metadata": {},
   "outputs": [],
   "source": [
    "label = pd.read_csv(\"./grain_length_width_ratio_label.csv\")\n",
    "data = pd.read_csv(\"./grain_length_width_ratio_data.csv\")"
   ]
  },
  {
   "cell_type": "code",
   "execution_count": 3,
   "id": "d7c4321b-fc98-429d-9f6e-084e3f9e4cca",
   "metadata": {},
   "outputs": [],
   "source": [
    "X_train_reduction, X_test_reduction, Y_train, Y_test = train_test_split(data, label,test_size=0.2, random_state=11)"
   ]
  },
  {
   "cell_type": "code",
   "execution_count": 4,
   "id": "c96c8db2-3a1b-4f0d-8d1b-ddcf43135aae",
   "metadata": {},
   "outputs": [],
   "source": [
    "Y_train = pd.DataFrame(Y_train)\n",
    "Y_test = pd.DataFrame(Y_test)\n",
    "Y_train = Y_train.values.astype(float)\n",
    "Y_test = Y_test.values.astype(float)\n",
    "X_train_reduction = pd.DataFrame(X_train_reduction)\n",
    "X_test_reduction = pd.DataFrame(X_test_reduction)\n",
    "X_train_reduction = X_train_reduction.values.astype(float)\n",
    "X_test_reduction = X_test_reduction.values.astype(float)"
   ]
  },
  {
   "cell_type": "code",
   "execution_count": 5,
   "id": "27b53179-f1fa-4b62-9bed-c782af32ce4b",
   "metadata": {},
   "outputs": [
    {
     "name": "stdout",
     "output_type": "stream",
     "text": [
      "Device used: cuda\n"
     ]
    }
   ],
   "source": [
    "DEVICE = torch.device('cuda' if torch.cuda.is_available() else 'cpu')\n",
    "print(f'Device used: {DEVICE}')\n",
    "is_scaler = False\n",
    "batch_size = 128  \n",
    "hidden_dim = 128  \n",
    "output_dim = 1  \n",
    "num_attention_heads = 16\n",
    "kernel_size = 3\n",
    "best_corr_coef = -1\n",
    "LR = 0.0001\n",
    "epochs = 100\n",
    "\n",
    "hidden_dropout_prob=0.5\n",
    "attention_probs_dropout_prob = 0.5"
   ]
  },
  {
   "cell_type": "code",
   "execution_count": 6,
   "id": "f5abbe67-04fd-4d9f-a2f3-aef92a997a74",
   "metadata": {},
   "outputs": [],
   "source": [
    "class LayerNorm(nn.Module):\n",
    "    def __init__(self, hidden_size, eps=1e-12):\n",
    "        \"\"\"Construct a layernorm module in the TF style (epsilon inside the square root).\n",
    "        \"\"\"\n",
    "        super(LayerNorm, self).__init__()\n",
    "        self.weight = nn.Parameter(torch.ones(hidden_size))\n",
    "        self.bias = nn.Parameter(torch.zeros(hidden_size))\n",
    "        self.variance_epsilon = eps\n",
    "\n",
    "    def forward(self, x):\n",
    "        u = x.mean(-1, keepdim=True)\n",
    "        s = (x - u).pow(2).mean(-1, keepdim=True)\n",
    "        x = (x - u) / torch.sqrt(s + self.variance_epsilon)\n",
    "        return self.weight * x + self.bias"
   ]
  },
  {
   "cell_type": "code",
   "execution_count": 7,
   "id": "bb6eb17d-6881-4b49-af08-bc4f315436a7",
   "metadata": {},
   "outputs": [],
   "source": [
    "class SelfAttention(nn.Module):\n",
    "    def __init__(self, num_attention_heads, input_size, hidden_size,output_dim=1, kernel_size=3, hidden_dropout_prob=0.5,attention_probs_dropout_prob=0.5):\n",
    "        super(SelfAttention, self).__init__()\n",
    "        input_size = input_size -kernel_size+1\n",
    "        if hidden_size % num_attention_heads != 0:\n",
    "            raise ValueError(\n",
    "                \"The hidden size (%d) is not a multiple of the number of attention \"\n",
    "                \"heads (%d)\" % (hidden_size, num_attention_heads))\n",
    "        \n",
    "        self.num_attention_heads = num_attention_heads\n",
    "        self.attention_head_size = int(hidden_size / num_attention_heads)\n",
    "        self.all_head_size = hidden_size\n",
    "        \n",
    "        self.query = nn.Linear(input_size, self.all_head_size)\n",
    "        self.key = nn.Linear(input_size, self.all_head_size)\n",
    "        self.value = nn.Linear(input_size, self.all_head_size)\n",
    "\n",
    "        self.attn_dropout = nn.Dropout(attention_probs_dropout_prob)\n",
    "\n",
    "        self.dense = nn.Linear(hidden_size, input_size)\n",
    "        self.LayerNorm = LayerNorm(input_size, eps=1e-12)\n",
    "        self.out_dropout = nn.Dropout(hidden_dropout_prob)\n",
    "        self.relu = nn.ReLU()\n",
    "        self.out = nn.Linear(input_size, output_dim)\n",
    "        self.cnn = nn.Conv1d(1, 1, kernel_size, stride=1)\n",
    "    \n",
    "    def transpose_for_scores(self, x):\n",
    "        new_x_shape = x.size()[:-1] + (self.num_attention_heads, self.attention_head_size)\n",
    "        x = x.view(*new_x_shape)\n",
    "        return x.permute(0, 2, 1, 3)\n",
    "\n",
    "    def forward(self, input_tensor):\n",
    "        \n",
    "        cnn_hidden = self.cnn(input_tensor.view(input_tensor.size(0),1,-1))\n",
    "        # input_tensor = input_tensor.view(input_tensor.size(0), -1, input_tensor.size(-1))\n",
    "        input_tensor = cnn_hidden\n",
    "        self.cnn_result = input_tensor\n",
    "        \n",
    "        mixed_query_layer = self.query(input_tensor)\n",
    "        mixed_key_layer = self.key(input_tensor)\n",
    "        mixed_value_layer = self.value(input_tensor)\n",
    "        self.mixed_query_layer_ = mixed_query_layer\n",
    "        self.mixed_key_layer_ = mixed_key_layer\n",
    "        self.mixed_value_layer_ = mixed_value_layer\n",
    "        \n",
    "        query_layer = self.transpose_for_scores(mixed_query_layer)\n",
    "        key_layer = self.transpose_for_scores(mixed_key_layer)\n",
    "        value_layer = self.transpose_for_scores(mixed_value_layer)\n",
    "        self.query_layer_ = query_layer\n",
    "        self.key_layer_ = key_layer\n",
    "        self.value_layer_ = value_layer\n",
    "        \n",
    "        attention_scores = torch.matmul(query_layer, key_layer.transpose(-1, -2))\n",
    "\n",
    "        attention_scores = attention_scores / np.sqrt(self.attention_head_size)\n",
    "        self.attention_scores_ = attention_scores\n",
    "\n",
    "        attention_probs = nn.Softmax(dim=-1)(attention_scores)\n",
    "        self.attention_probs_ = attention_probs\n",
    "\n",
    "        attention_probs = self.attn_dropout(attention_probs)\n",
    "        self.attention_probs__ = attention_probs\n",
    "        \n",
    "        context_layer = torch.matmul(attention_probs, value_layer)\n",
    "        self.context_layer_ = context_layer\n",
    "        \n",
    "        context_layer = context_layer.permute(0, 2, 1, 3).contiguous()\n",
    "        self.context_layer__ = context_layer\n",
    "        \n",
    "        new_context_layer_shape = context_layer.size()[:-2] + (self.all_head_size,)\n",
    "        self.new_context_layer_shape_ = new_context_layer_shape\n",
    "        \n",
    "        context_layer = context_layer.view(*new_context_layer_shape)\n",
    "        self.context_layer3 = context_layer\n",
    "        \n",
    "        hidden_states = self.dense(context_layer)\n",
    "        self.h1 = hidden_states\n",
    "        \n",
    "        hidden_states = self.out_dropout(hidden_states)\n",
    "        self.h2 = hidden_states\n",
    "        \n",
    "        hidden_states = self.LayerNorm(hidden_states + input_tensor)\n",
    "        self.h3 = hidden_states\n",
    "        \n",
    "        output = self.out(self.relu(hidden_states.view(hidden_states.size(0), -1)))\n",
    "        self.o = output\n",
    "        \n",
    "        return output"
   ]
  },
  {
   "cell_type": "code",
   "execution_count": 8,
   "id": "984ae961-31cc-4e4f-ac2e-b7f0ed972a5f",
   "metadata": {},
   "outputs": [
    {
     "data": {
      "text/plain": [
       "<torch._C.Generator at 0x7fe08c0d7790>"
      ]
     },
     "execution_count": 8,
     "metadata": {},
     "output_type": "execute_result"
    }
   ],
   "source": [
    "np.random.seed(42)\n",
    "torch.manual_seed(42)"
   ]
  },
  {
   "cell_type": "code",
   "execution_count": 9,
   "id": "8d3d3ad6-3bca-4daf-b269-38e16eb23e14",
   "metadata": {},
   "outputs": [],
   "source": [
    "save_path = './cn_at_gra_len_wid.pth'"
   ]
  },
  {
   "cell_type": "code",
   "execution_count": 10,
   "id": "5b36e35d-49a0-4d0f-8646-9b9c24a0ab17",
   "metadata": {},
   "outputs": [],
   "source": [
    "kf = KFold(n_splits=5, shuffle=True, random_state=42)\n",
    "best_corr_coefs = []"
   ]
  },
  {
   "cell_type": "code",
   "execution_count": 11,
   "id": "815c5459-95cf-48f3-9943-9225039f0691",
   "metadata": {},
   "outputs": [
    {
     "data": {
      "application/vnd.jupyter.widget-view+json": {
       "model_id": "4bffcc22cd3649399096d59165e91660",
       "version_major": 2,
       "version_minor": 0
      },
      "text/plain": [
       "第 1/100 轮:   0%|          | 0/11 [00:00<?, ?it/s]"
      ]
     },
     "metadata": {},
     "output_type": "display_data"
    },
    {
     "data": {
      "application/vnd.jupyter.widget-view+json": {
       "model_id": "4b9ea08019df4fd6b2a9c9cf588961ee",
       "version_major": 2,
       "version_minor": 0
      },
      "text/plain": [
       "第 2/100 轮:   0%|          | 0/11 [00:00<?, ?it/s]"
      ]
     },
     "metadata": {},
     "output_type": "display_data"
    },
    {
     "data": {
      "application/vnd.jupyter.widget-view+json": {
       "model_id": "0c2fcf68002749af93c33315b1108431",
       "version_major": 2,
       "version_minor": 0
      },
      "text/plain": [
       "第 3/100 轮:   0%|          | 0/11 [00:00<?, ?it/s]"
      ]
     },
     "metadata": {},
     "output_type": "display_data"
    },
    {
     "data": {
      "application/vnd.jupyter.widget-view+json": {
       "model_id": "418bb5fac0084c29b1a00b4ff2718868",
       "version_major": 2,
       "version_minor": 0
      },
      "text/plain": [
       "第 4/100 轮:   0%|          | 0/11 [00:00<?, ?it/s]"
      ]
     },
     "metadata": {},
     "output_type": "display_data"
    },
    {
     "data": {
      "application/vnd.jupyter.widget-view+json": {
       "model_id": "0cde9be5af3e4fe194138c1a6f6a338d",
       "version_major": 2,
       "version_minor": 0
      },
      "text/plain": [
       "第 5/100 轮:   0%|          | 0/11 [00:00<?, ?it/s]"
      ]
     },
     "metadata": {},
     "output_type": "display_data"
    },
    {
     "data": {
      "application/vnd.jupyter.widget-view+json": {
       "model_id": "242c6c2dcb7f48f8ba309a3fdf5e1af4",
       "version_major": 2,
       "version_minor": 0
      },
      "text/plain": [
       "第 6/100 轮:   0%|          | 0/11 [00:00<?, ?it/s]"
      ]
     },
     "metadata": {},
     "output_type": "display_data"
    },
    {
     "data": {
      "application/vnd.jupyter.widget-view+json": {
       "model_id": "a17ca0ab918e47f88c9696a281f2d6a2",
       "version_major": 2,
       "version_minor": 0
      },
      "text/plain": [
       "第 7/100 轮:   0%|          | 0/11 [00:00<?, ?it/s]"
      ]
     },
     "metadata": {},
     "output_type": "display_data"
    },
    {
     "data": {
      "application/vnd.jupyter.widget-view+json": {
       "model_id": "b2f246bae5b24dba951934259fa550d5",
       "version_major": 2,
       "version_minor": 0
      },
      "text/plain": [
       "第 8/100 轮:   0%|          | 0/11 [00:00<?, ?it/s]"
      ]
     },
     "metadata": {},
     "output_type": "display_data"
    },
    {
     "data": {
      "application/vnd.jupyter.widget-view+json": {
       "model_id": "70c2fea9ab254670874bc65c2ccb4338",
       "version_major": 2,
       "version_minor": 0
      },
      "text/plain": [
       "第 9/100 轮:   0%|          | 0/11 [00:00<?, ?it/s]"
      ]
     },
     "metadata": {},
     "output_type": "display_data"
    },
    {
     "data": {
      "application/vnd.jupyter.widget-view+json": {
       "model_id": "e8c3bedfc3f74d97ac329250885284f2",
       "version_major": 2,
       "version_minor": 0
      },
      "text/plain": [
       "第 10/100 轮:   0%|          | 0/11 [00:00<?, ?it/s]"
      ]
     },
     "metadata": {},
     "output_type": "display_data"
    },
    {
     "data": {
      "application/vnd.jupyter.widget-view+json": {
       "model_id": "2289f8b5949841dab57f48433ef46dc1",
       "version_major": 2,
       "version_minor": 0
      },
      "text/plain": [
       "第 11/100 轮:   0%|          | 0/11 [00:00<?, ?it/s]"
      ]
     },
     "metadata": {},
     "output_type": "display_data"
    },
    {
     "data": {
      "application/vnd.jupyter.widget-view+json": {
       "model_id": "74ba9aade930424b8d11e543deb6a0d6",
       "version_major": 2,
       "version_minor": 0
      },
      "text/plain": [
       "第 12/100 轮:   0%|          | 0/11 [00:00<?, ?it/s]"
      ]
     },
     "metadata": {},
     "output_type": "display_data"
    },
    {
     "data": {
      "application/vnd.jupyter.widget-view+json": {
       "model_id": "3b4a44496bb24c78a29c80210c4d2e93",
       "version_major": 2,
       "version_minor": 0
      },
      "text/plain": [
       "第 13/100 轮:   0%|          | 0/11 [00:00<?, ?it/s]"
      ]
     },
     "metadata": {},
     "output_type": "display_data"
    },
    {
     "data": {
      "application/vnd.jupyter.widget-view+json": {
       "model_id": "c6d517af61a743ceb5059155ae627ce5",
       "version_major": 2,
       "version_minor": 0
      },
      "text/plain": [
       "第 14/100 轮:   0%|          | 0/11 [00:00<?, ?it/s]"
      ]
     },
     "metadata": {},
     "output_type": "display_data"
    },
    {
     "data": {
      "application/vnd.jupyter.widget-view+json": {
       "model_id": "91a82f83e50a4fe2a697ff491fe66506",
       "version_major": 2,
       "version_minor": 0
      },
      "text/plain": [
       "第 15/100 轮:   0%|          | 0/11 [00:00<?, ?it/s]"
      ]
     },
     "metadata": {},
     "output_type": "display_data"
    },
    {
     "data": {
      "application/vnd.jupyter.widget-view+json": {
       "model_id": "ba75d771e87d4a25b93c7bf396136b23",
       "version_major": 2,
       "version_minor": 0
      },
      "text/plain": [
       "第 16/100 轮:   0%|          | 0/11 [00:00<?, ?it/s]"
      ]
     },
     "metadata": {},
     "output_type": "display_data"
    },
    {
     "data": {
      "application/vnd.jupyter.widget-view+json": {
       "model_id": "d4f483c5775449df92c673f19f032f03",
       "version_major": 2,
       "version_minor": 0
      },
      "text/plain": [
       "第 17/100 轮:   0%|          | 0/11 [00:00<?, ?it/s]"
      ]
     },
     "metadata": {},
     "output_type": "display_data"
    },
    {
     "data": {
      "application/vnd.jupyter.widget-view+json": {
       "model_id": "e5fe3f32d9e3441db4305981e5817c68",
       "version_major": 2,
       "version_minor": 0
      },
      "text/plain": [
       "第 18/100 轮:   0%|          | 0/11 [00:00<?, ?it/s]"
      ]
     },
     "metadata": {},
     "output_type": "display_data"
    },
    {
     "data": {
      "application/vnd.jupyter.widget-view+json": {
       "model_id": "917c218874b1459eae230c50136507c9",
       "version_major": 2,
       "version_minor": 0
      },
      "text/plain": [
       "第 19/100 轮:   0%|          | 0/11 [00:00<?, ?it/s]"
      ]
     },
     "metadata": {},
     "output_type": "display_data"
    },
    {
     "data": {
      "application/vnd.jupyter.widget-view+json": {
       "model_id": "76b337ee638941ec94faea2ecf4c8d60",
       "version_major": 2,
       "version_minor": 0
      },
      "text/plain": [
       "第 20/100 轮:   0%|          | 0/11 [00:00<?, ?it/s]"
      ]
     },
     "metadata": {},
     "output_type": "display_data"
    },
    {
     "data": {
      "application/vnd.jupyter.widget-view+json": {
       "model_id": "71e70a447fb84bec93194f6ed42edc1b",
       "version_major": 2,
       "version_minor": 0
      },
      "text/plain": [
       "第 21/100 轮:   0%|          | 0/11 [00:00<?, ?it/s]"
      ]
     },
     "metadata": {},
     "output_type": "display_data"
    },
    {
     "data": {
      "application/vnd.jupyter.widget-view+json": {
       "model_id": "4f02e8aa990a4b0796cebbe85c48dfd9",
       "version_major": 2,
       "version_minor": 0
      },
      "text/plain": [
       "第 22/100 轮:   0%|          | 0/11 [00:00<?, ?it/s]"
      ]
     },
     "metadata": {},
     "output_type": "display_data"
    },
    {
     "data": {
      "application/vnd.jupyter.widget-view+json": {
       "model_id": "3f21e325d1034fe09f0a2941fdf83832",
       "version_major": 2,
       "version_minor": 0
      },
      "text/plain": [
       "第 23/100 轮:   0%|          | 0/11 [00:00<?, ?it/s]"
      ]
     },
     "metadata": {},
     "output_type": "display_data"
    },
    {
     "data": {
      "application/vnd.jupyter.widget-view+json": {
       "model_id": "02fe9b1a734c466bab67262e3314370e",
       "version_major": 2,
       "version_minor": 0
      },
      "text/plain": [
       "第 24/100 轮:   0%|          | 0/11 [00:00<?, ?it/s]"
      ]
     },
     "metadata": {},
     "output_type": "display_data"
    },
    {
     "data": {
      "application/vnd.jupyter.widget-view+json": {
       "model_id": "b5eb034f902e4523b39e7a8a8909e9da",
       "version_major": 2,
       "version_minor": 0
      },
      "text/plain": [
       "第 25/100 轮:   0%|          | 0/11 [00:00<?, ?it/s]"
      ]
     },
     "metadata": {},
     "output_type": "display_data"
    },
    {
     "data": {
      "application/vnd.jupyter.widget-view+json": {
       "model_id": "079b5714e12648c28a0bd49cb8f06161",
       "version_major": 2,
       "version_minor": 0
      },
      "text/plain": [
       "第 26/100 轮:   0%|          | 0/11 [00:00<?, ?it/s]"
      ]
     },
     "metadata": {},
     "output_type": "display_data"
    },
    {
     "data": {
      "application/vnd.jupyter.widget-view+json": {
       "model_id": "51859be0cee94f4fb3e727c401edb727",
       "version_major": 2,
       "version_minor": 0
      },
      "text/plain": [
       "第 27/100 轮:   0%|          | 0/11 [00:00<?, ?it/s]"
      ]
     },
     "metadata": {},
     "output_type": "display_data"
    },
    {
     "data": {
      "application/vnd.jupyter.widget-view+json": {
       "model_id": "09c08e1096954cf9824070d8a6fc68b5",
       "version_major": 2,
       "version_minor": 0
      },
      "text/plain": [
       "第 28/100 轮:   0%|          | 0/11 [00:00<?, ?it/s]"
      ]
     },
     "metadata": {},
     "output_type": "display_data"
    },
    {
     "data": {
      "application/vnd.jupyter.widget-view+json": {
       "model_id": "e4219bae3ca243829dac6be48de486bb",
       "version_major": 2,
       "version_minor": 0
      },
      "text/plain": [
       "第 29/100 轮:   0%|          | 0/11 [00:00<?, ?it/s]"
      ]
     },
     "metadata": {},
     "output_type": "display_data"
    },
    {
     "data": {
      "application/vnd.jupyter.widget-view+json": {
       "model_id": "81148e5522714cad8cca51f240e3cf7f",
       "version_major": 2,
       "version_minor": 0
      },
      "text/plain": [
       "第 30/100 轮:   0%|          | 0/11 [00:00<?, ?it/s]"
      ]
     },
     "metadata": {},
     "output_type": "display_data"
    },
    {
     "data": {
      "application/vnd.jupyter.widget-view+json": {
       "model_id": "67777400cd664f84925e8ba03bc2554a",
       "version_major": 2,
       "version_minor": 0
      },
      "text/plain": [
       "第 31/100 轮:   0%|          | 0/11 [00:00<?, ?it/s]"
      ]
     },
     "metadata": {},
     "output_type": "display_data"
    },
    {
     "data": {
      "application/vnd.jupyter.widget-view+json": {
       "model_id": "c3a6a2366fc24758bd74455c7eb3328a",
       "version_major": 2,
       "version_minor": 0
      },
      "text/plain": [
       "第 32/100 轮:   0%|          | 0/11 [00:00<?, ?it/s]"
      ]
     },
     "metadata": {},
     "output_type": "display_data"
    },
    {
     "data": {
      "application/vnd.jupyter.widget-view+json": {
       "model_id": "be12d1adc70141c8a152d66e76d69046",
       "version_major": 2,
       "version_minor": 0
      },
      "text/plain": [
       "第 33/100 轮:   0%|          | 0/11 [00:00<?, ?it/s]"
      ]
     },
     "metadata": {},
     "output_type": "display_data"
    },
    {
     "data": {
      "application/vnd.jupyter.widget-view+json": {
       "model_id": "27de79f8bcaf48c4b3042fd0e3c2efca",
       "version_major": 2,
       "version_minor": 0
      },
      "text/plain": [
       "第 34/100 轮:   0%|          | 0/11 [00:00<?, ?it/s]"
      ]
     },
     "metadata": {},
     "output_type": "display_data"
    },
    {
     "data": {
      "application/vnd.jupyter.widget-view+json": {
       "model_id": "7b744648cc1c4bdabea6149c575120bd",
       "version_major": 2,
       "version_minor": 0
      },
      "text/plain": [
       "第 35/100 轮:   0%|          | 0/11 [00:00<?, ?it/s]"
      ]
     },
     "metadata": {},
     "output_type": "display_data"
    },
    {
     "data": {
      "application/vnd.jupyter.widget-view+json": {
       "model_id": "c502ea375860477c95a1b82da8c94ce5",
       "version_major": 2,
       "version_minor": 0
      },
      "text/plain": [
       "第 36/100 轮:   0%|          | 0/11 [00:00<?, ?it/s]"
      ]
     },
     "metadata": {},
     "output_type": "display_data"
    },
    {
     "data": {
      "application/vnd.jupyter.widget-view+json": {
       "model_id": "a3d5795edce643e0980208d388c5baa3",
       "version_major": 2,
       "version_minor": 0
      },
      "text/plain": [
       "第 37/100 轮:   0%|          | 0/11 [00:00<?, ?it/s]"
      ]
     },
     "metadata": {},
     "output_type": "display_data"
    },
    {
     "data": {
      "application/vnd.jupyter.widget-view+json": {
       "model_id": "6e88c9d783864e10957c192b083a70a6",
       "version_major": 2,
       "version_minor": 0
      },
      "text/plain": [
       "第 38/100 轮:   0%|          | 0/11 [00:00<?, ?it/s]"
      ]
     },
     "metadata": {},
     "output_type": "display_data"
    },
    {
     "data": {
      "application/vnd.jupyter.widget-view+json": {
       "model_id": "c8aa7b85a562438fb040491b7e78b241",
       "version_major": 2,
       "version_minor": 0
      },
      "text/plain": [
       "第 39/100 轮:   0%|          | 0/11 [00:00<?, ?it/s]"
      ]
     },
     "metadata": {},
     "output_type": "display_data"
    },
    {
     "data": {
      "application/vnd.jupyter.widget-view+json": {
       "model_id": "e7fe630a2b0743f3b9fc9b37dfd9d507",
       "version_major": 2,
       "version_minor": 0
      },
      "text/plain": [
       "第 40/100 轮:   0%|          | 0/11 [00:00<?, ?it/s]"
      ]
     },
     "metadata": {},
     "output_type": "display_data"
    },
    {
     "data": {
      "application/vnd.jupyter.widget-view+json": {
       "model_id": "0232626f7023487ab6ae8bb675f828fc",
       "version_major": 2,
       "version_minor": 0
      },
      "text/plain": [
       "第 41/100 轮:   0%|          | 0/11 [00:00<?, ?it/s]"
      ]
     },
     "metadata": {},
     "output_type": "display_data"
    },
    {
     "data": {
      "application/vnd.jupyter.widget-view+json": {
       "model_id": "1d8c4347e5a845639c7891bcbf060479",
       "version_major": 2,
       "version_minor": 0
      },
      "text/plain": [
       "第 42/100 轮:   0%|          | 0/11 [00:00<?, ?it/s]"
      ]
     },
     "metadata": {},
     "output_type": "display_data"
    },
    {
     "data": {
      "application/vnd.jupyter.widget-view+json": {
       "model_id": "ec1681aa6bcf41ec890209184949cab0",
       "version_major": 2,
       "version_minor": 0
      },
      "text/plain": [
       "第 43/100 轮:   0%|          | 0/11 [00:00<?, ?it/s]"
      ]
     },
     "metadata": {},
     "output_type": "display_data"
    },
    {
     "data": {
      "application/vnd.jupyter.widget-view+json": {
       "model_id": "21a89ce49d9c45b993c08c36c08fe232",
       "version_major": 2,
       "version_minor": 0
      },
      "text/plain": [
       "第 44/100 轮:   0%|          | 0/11 [00:00<?, ?it/s]"
      ]
     },
     "metadata": {},
     "output_type": "display_data"
    },
    {
     "data": {
      "application/vnd.jupyter.widget-view+json": {
       "model_id": "80993abb1c4c41a582690bd13d39cfa6",
       "version_major": 2,
       "version_minor": 0
      },
      "text/plain": [
       "第 45/100 轮:   0%|          | 0/11 [00:00<?, ?it/s]"
      ]
     },
     "metadata": {},
     "output_type": "display_data"
    },
    {
     "data": {
      "application/vnd.jupyter.widget-view+json": {
       "model_id": "f49fd555a38e4b3085315d6c18240d1f",
       "version_major": 2,
       "version_minor": 0
      },
      "text/plain": [
       "第 46/100 轮:   0%|          | 0/11 [00:00<?, ?it/s]"
      ]
     },
     "metadata": {},
     "output_type": "display_data"
    },
    {
     "data": {
      "application/vnd.jupyter.widget-view+json": {
       "model_id": "30aab71e784d4ae0b08620265a28dd78",
       "version_major": 2,
       "version_minor": 0
      },
      "text/plain": [
       "第 47/100 轮:   0%|          | 0/11 [00:00<?, ?it/s]"
      ]
     },
     "metadata": {},
     "output_type": "display_data"
    },
    {
     "data": {
      "application/vnd.jupyter.widget-view+json": {
       "model_id": "d19d3e87157d413d878c502ee04b5ba6",
       "version_major": 2,
       "version_minor": 0
      },
      "text/plain": [
       "第 48/100 轮:   0%|          | 0/11 [00:00<?, ?it/s]"
      ]
     },
     "metadata": {},
     "output_type": "display_data"
    },
    {
     "data": {
      "application/vnd.jupyter.widget-view+json": {
       "model_id": "ef6d9422bd174c85b565e91cf919d794",
       "version_major": 2,
       "version_minor": 0
      },
      "text/plain": [
       "第 49/100 轮:   0%|          | 0/11 [00:00<?, ?it/s]"
      ]
     },
     "metadata": {},
     "output_type": "display_data"
    },
    {
     "data": {
      "application/vnd.jupyter.widget-view+json": {
       "model_id": "be704865ab3045f8a47c3d3cb82f78b8",
       "version_major": 2,
       "version_minor": 0
      },
      "text/plain": [
       "第 50/100 轮:   0%|          | 0/11 [00:00<?, ?it/s]"
      ]
     },
     "metadata": {},
     "output_type": "display_data"
    },
    {
     "data": {
      "application/vnd.jupyter.widget-view+json": {
       "model_id": "7c317e7b24f840aa86d3467acfa8fe4a",
       "version_major": 2,
       "version_minor": 0
      },
      "text/plain": [
       "第 51/100 轮:   0%|          | 0/11 [00:00<?, ?it/s]"
      ]
     },
     "metadata": {},
     "output_type": "display_data"
    },
    {
     "data": {
      "application/vnd.jupyter.widget-view+json": {
       "model_id": "f5c3852f54ac4eef8ad4fdd6e179eb84",
       "version_major": 2,
       "version_minor": 0
      },
      "text/plain": [
       "第 52/100 轮:   0%|          | 0/11 [00:00<?, ?it/s]"
      ]
     },
     "metadata": {},
     "output_type": "display_data"
    },
    {
     "data": {
      "application/vnd.jupyter.widget-view+json": {
       "model_id": "a4e0e386bcb742e1b91edd4292db07d6",
       "version_major": 2,
       "version_minor": 0
      },
      "text/plain": [
       "第 53/100 轮:   0%|          | 0/11 [00:00<?, ?it/s]"
      ]
     },
     "metadata": {},
     "output_type": "display_data"
    },
    {
     "data": {
      "application/vnd.jupyter.widget-view+json": {
       "model_id": "7dddf45d651e447cb9ee427ef4cb8237",
       "version_major": 2,
       "version_minor": 0
      },
      "text/plain": [
       "第 54/100 轮:   0%|          | 0/11 [00:00<?, ?it/s]"
      ]
     },
     "metadata": {},
     "output_type": "display_data"
    },
    {
     "data": {
      "application/vnd.jupyter.widget-view+json": {
       "model_id": "c586de846639418b8c3b593762787e48",
       "version_major": 2,
       "version_minor": 0
      },
      "text/plain": [
       "第 55/100 轮:   0%|          | 0/11 [00:00<?, ?it/s]"
      ]
     },
     "metadata": {},
     "output_type": "display_data"
    },
    {
     "data": {
      "application/vnd.jupyter.widget-view+json": {
       "model_id": "d8de3565cc6c4457a7fdbcd218684ff6",
       "version_major": 2,
       "version_minor": 0
      },
      "text/plain": [
       "第 56/100 轮:   0%|          | 0/11 [00:00<?, ?it/s]"
      ]
     },
     "metadata": {},
     "output_type": "display_data"
    },
    {
     "data": {
      "application/vnd.jupyter.widget-view+json": {
       "model_id": "c61c49810ff849afb0cec7418b22d4e9",
       "version_major": 2,
       "version_minor": 0
      },
      "text/plain": [
       "第 57/100 轮:   0%|          | 0/11 [00:00<?, ?it/s]"
      ]
     },
     "metadata": {},
     "output_type": "display_data"
    },
    {
     "data": {
      "application/vnd.jupyter.widget-view+json": {
       "model_id": "ac2770738b1e486a9634525ade5b1ef7",
       "version_major": 2,
       "version_minor": 0
      },
      "text/plain": [
       "第 58/100 轮:   0%|          | 0/11 [00:00<?, ?it/s]"
      ]
     },
     "metadata": {},
     "output_type": "display_data"
    },
    {
     "data": {
      "application/vnd.jupyter.widget-view+json": {
       "model_id": "d1f328bc542543de84e4c2424c3853ed",
       "version_major": 2,
       "version_minor": 0
      },
      "text/plain": [
       "第 59/100 轮:   0%|          | 0/11 [00:00<?, ?it/s]"
      ]
     },
     "metadata": {},
     "output_type": "display_data"
    },
    {
     "data": {
      "application/vnd.jupyter.widget-view+json": {
       "model_id": "0e4eeb4a504d4d049abe7b56f1c86952",
       "version_major": 2,
       "version_minor": 0
      },
      "text/plain": [
       "第 60/100 轮:   0%|          | 0/11 [00:00<?, ?it/s]"
      ]
     },
     "metadata": {},
     "output_type": "display_data"
    },
    {
     "data": {
      "application/vnd.jupyter.widget-view+json": {
       "model_id": "4cbc6c4ef658462d8633b0adc5592289",
       "version_major": 2,
       "version_minor": 0
      },
      "text/plain": [
       "第 61/100 轮:   0%|          | 0/11 [00:00<?, ?it/s]"
      ]
     },
     "metadata": {},
     "output_type": "display_data"
    },
    {
     "data": {
      "application/vnd.jupyter.widget-view+json": {
       "model_id": "39e2de7cc78f42d1ba7bac981abcbaa9",
       "version_major": 2,
       "version_minor": 0
      },
      "text/plain": [
       "第 62/100 轮:   0%|          | 0/11 [00:00<?, ?it/s]"
      ]
     },
     "metadata": {},
     "output_type": "display_data"
    },
    {
     "data": {
      "application/vnd.jupyter.widget-view+json": {
       "model_id": "08005644196142e6840287460d79bd64",
       "version_major": 2,
       "version_minor": 0
      },
      "text/plain": [
       "第 63/100 轮:   0%|          | 0/11 [00:00<?, ?it/s]"
      ]
     },
     "metadata": {},
     "output_type": "display_data"
    },
    {
     "data": {
      "application/vnd.jupyter.widget-view+json": {
       "model_id": "0895628a88514370bc82df2a9cd1e2b2",
       "version_major": 2,
       "version_minor": 0
      },
      "text/plain": [
       "第 64/100 轮:   0%|          | 0/11 [00:00<?, ?it/s]"
      ]
     },
     "metadata": {},
     "output_type": "display_data"
    },
    {
     "data": {
      "application/vnd.jupyter.widget-view+json": {
       "model_id": "fa4c1875a3224e8fb0ddf42b4bb018fe",
       "version_major": 2,
       "version_minor": 0
      },
      "text/plain": [
       "第 65/100 轮:   0%|          | 0/11 [00:00<?, ?it/s]"
      ]
     },
     "metadata": {},
     "output_type": "display_data"
    },
    {
     "data": {
      "application/vnd.jupyter.widget-view+json": {
       "model_id": "d19ee306bfbb4bb490d10194befe2d1f",
       "version_major": 2,
       "version_minor": 0
      },
      "text/plain": [
       "第 66/100 轮:   0%|          | 0/11 [00:00<?, ?it/s]"
      ]
     },
     "metadata": {},
     "output_type": "display_data"
    },
    {
     "data": {
      "application/vnd.jupyter.widget-view+json": {
       "model_id": "66c32de2a871468eae8bbe568d40af00",
       "version_major": 2,
       "version_minor": 0
      },
      "text/plain": [
       "第 67/100 轮:   0%|          | 0/11 [00:00<?, ?it/s]"
      ]
     },
     "metadata": {},
     "output_type": "display_data"
    },
    {
     "data": {
      "application/vnd.jupyter.widget-view+json": {
       "model_id": "362990bd3a0141daab03a3e41bbe24b8",
       "version_major": 2,
       "version_minor": 0
      },
      "text/plain": [
       "第 68/100 轮:   0%|          | 0/11 [00:00<?, ?it/s]"
      ]
     },
     "metadata": {},
     "output_type": "display_data"
    },
    {
     "data": {
      "application/vnd.jupyter.widget-view+json": {
       "model_id": "31203f2359654a159b8da07bc9916c9e",
       "version_major": 2,
       "version_minor": 0
      },
      "text/plain": [
       "第 69/100 轮:   0%|          | 0/11 [00:00<?, ?it/s]"
      ]
     },
     "metadata": {},
     "output_type": "display_data"
    },
    {
     "data": {
      "application/vnd.jupyter.widget-view+json": {
       "model_id": "d11651fe1e3640cab8b15e6810a1f96a",
       "version_major": 2,
       "version_minor": 0
      },
      "text/plain": [
       "第 70/100 轮:   0%|          | 0/11 [00:00<?, ?it/s]"
      ]
     },
     "metadata": {},
     "output_type": "display_data"
    },
    {
     "data": {
      "application/vnd.jupyter.widget-view+json": {
       "model_id": "57676f2be37149af91fd749eaa59ed17",
       "version_major": 2,
       "version_minor": 0
      },
      "text/plain": [
       "第 71/100 轮:   0%|          | 0/11 [00:00<?, ?it/s]"
      ]
     },
     "metadata": {},
     "output_type": "display_data"
    },
    {
     "data": {
      "application/vnd.jupyter.widget-view+json": {
       "model_id": "f8231e344be94224aba312de122080e8",
       "version_major": 2,
       "version_minor": 0
      },
      "text/plain": [
       "第 72/100 轮:   0%|          | 0/11 [00:00<?, ?it/s]"
      ]
     },
     "metadata": {},
     "output_type": "display_data"
    },
    {
     "data": {
      "application/vnd.jupyter.widget-view+json": {
       "model_id": "8eaa7148385142eba5c38d29ec2e0f44",
       "version_major": 2,
       "version_minor": 0
      },
      "text/plain": [
       "第 73/100 轮:   0%|          | 0/11 [00:00<?, ?it/s]"
      ]
     },
     "metadata": {},
     "output_type": "display_data"
    },
    {
     "data": {
      "application/vnd.jupyter.widget-view+json": {
       "model_id": "16923379d9bf4c63852d78ab4df50118",
       "version_major": 2,
       "version_minor": 0
      },
      "text/plain": [
       "第 74/100 轮:   0%|          | 0/11 [00:00<?, ?it/s]"
      ]
     },
     "metadata": {},
     "output_type": "display_data"
    },
    {
     "data": {
      "application/vnd.jupyter.widget-view+json": {
       "model_id": "c4e223db25e34e42a2e8f5ac58eabac3",
       "version_major": 2,
       "version_minor": 0
      },
      "text/plain": [
       "第 75/100 轮:   0%|          | 0/11 [00:00<?, ?it/s]"
      ]
     },
     "metadata": {},
     "output_type": "display_data"
    },
    {
     "data": {
      "application/vnd.jupyter.widget-view+json": {
       "model_id": "5cf142e545304392932cd34cf720847a",
       "version_major": 2,
       "version_minor": 0
      },
      "text/plain": [
       "第 76/100 轮:   0%|          | 0/11 [00:00<?, ?it/s]"
      ]
     },
     "metadata": {},
     "output_type": "display_data"
    },
    {
     "data": {
      "application/vnd.jupyter.widget-view+json": {
       "model_id": "97ee8515c6c84695aeafccda9bf64dce",
       "version_major": 2,
       "version_minor": 0
      },
      "text/plain": [
       "第 77/100 轮:   0%|          | 0/11 [00:00<?, ?it/s]"
      ]
     },
     "metadata": {},
     "output_type": "display_data"
    },
    {
     "data": {
      "application/vnd.jupyter.widget-view+json": {
       "model_id": "161484fd238249d0970d31148fee6fb3",
       "version_major": 2,
       "version_minor": 0
      },
      "text/plain": [
       "第 78/100 轮:   0%|          | 0/11 [00:00<?, ?it/s]"
      ]
     },
     "metadata": {},
     "output_type": "display_data"
    },
    {
     "data": {
      "application/vnd.jupyter.widget-view+json": {
       "model_id": "eadc37c30d9d419eb5ca6350d0c5ef3b",
       "version_major": 2,
       "version_minor": 0
      },
      "text/plain": [
       "第 79/100 轮:   0%|          | 0/11 [00:00<?, ?it/s]"
      ]
     },
     "metadata": {},
     "output_type": "display_data"
    },
    {
     "data": {
      "application/vnd.jupyter.widget-view+json": {
       "model_id": "3a5b63d9144d49f7abeab7141c12e1f9",
       "version_major": 2,
       "version_minor": 0
      },
      "text/plain": [
       "第 80/100 轮:   0%|          | 0/11 [00:00<?, ?it/s]"
      ]
     },
     "metadata": {},
     "output_type": "display_data"
    },
    {
     "data": {
      "application/vnd.jupyter.widget-view+json": {
       "model_id": "841cb322a89b4cabbe367493658c391f",
       "version_major": 2,
       "version_minor": 0
      },
      "text/plain": [
       "第 81/100 轮:   0%|          | 0/11 [00:00<?, ?it/s]"
      ]
     },
     "metadata": {},
     "output_type": "display_data"
    },
    {
     "data": {
      "application/vnd.jupyter.widget-view+json": {
       "model_id": "527feecd521647a2b490cb8ee8b87662",
       "version_major": 2,
       "version_minor": 0
      },
      "text/plain": [
       "第 82/100 轮:   0%|          | 0/11 [00:00<?, ?it/s]"
      ]
     },
     "metadata": {},
     "output_type": "display_data"
    },
    {
     "data": {
      "application/vnd.jupyter.widget-view+json": {
       "model_id": "55f3e9ccecc1438ab1b3a717f6332d8b",
       "version_major": 2,
       "version_minor": 0
      },
      "text/plain": [
       "第 83/100 轮:   0%|          | 0/11 [00:00<?, ?it/s]"
      ]
     },
     "metadata": {},
     "output_type": "display_data"
    },
    {
     "data": {
      "application/vnd.jupyter.widget-view+json": {
       "model_id": "c264bfdfd4b34a6797d849442e747915",
       "version_major": 2,
       "version_minor": 0
      },
      "text/plain": [
       "第 84/100 轮:   0%|          | 0/11 [00:00<?, ?it/s]"
      ]
     },
     "metadata": {},
     "output_type": "display_data"
    },
    {
     "data": {
      "application/vnd.jupyter.widget-view+json": {
       "model_id": "94540f5ceb2e4308b53af7ab4538bce2",
       "version_major": 2,
       "version_minor": 0
      },
      "text/plain": [
       "第 85/100 轮:   0%|          | 0/11 [00:00<?, ?it/s]"
      ]
     },
     "metadata": {},
     "output_type": "display_data"
    },
    {
     "data": {
      "application/vnd.jupyter.widget-view+json": {
       "model_id": "d38c12d339b84087b8fa19ccc2c3f2cb",
       "version_major": 2,
       "version_minor": 0
      },
      "text/plain": [
       "第 86/100 轮:   0%|          | 0/11 [00:00<?, ?it/s]"
      ]
     },
     "metadata": {},
     "output_type": "display_data"
    },
    {
     "data": {
      "application/vnd.jupyter.widget-view+json": {
       "model_id": "fdd41889a6f54219937d3aa134e3831f",
       "version_major": 2,
       "version_minor": 0
      },
      "text/plain": [
       "第 87/100 轮:   0%|          | 0/11 [00:00<?, ?it/s]"
      ]
     },
     "metadata": {},
     "output_type": "display_data"
    },
    {
     "data": {
      "application/vnd.jupyter.widget-view+json": {
       "model_id": "fbab078e79ab477bb2a13bb5c4de076c",
       "version_major": 2,
       "version_minor": 0
      },
      "text/plain": [
       "第 88/100 轮:   0%|          | 0/11 [00:00<?, ?it/s]"
      ]
     },
     "metadata": {},
     "output_type": "display_data"
    },
    {
     "data": {
      "application/vnd.jupyter.widget-view+json": {
       "model_id": "534ab75086744cc2bd0aa95b6aa5c614",
       "version_major": 2,
       "version_minor": 0
      },
      "text/plain": [
       "第 89/100 轮:   0%|          | 0/11 [00:00<?, ?it/s]"
      ]
     },
     "metadata": {},
     "output_type": "display_data"
    },
    {
     "data": {
      "application/vnd.jupyter.widget-view+json": {
       "model_id": "c3d14706eaf342228907f5ad5234ae0d",
       "version_major": 2,
       "version_minor": 0
      },
      "text/plain": [
       "第 90/100 轮:   0%|          | 0/11 [00:00<?, ?it/s]"
      ]
     },
     "metadata": {},
     "output_type": "display_data"
    },
    {
     "data": {
      "application/vnd.jupyter.widget-view+json": {
       "model_id": "0792e25eb60842a6879f09d63e3b264b",
       "version_major": 2,
       "version_minor": 0
      },
      "text/plain": [
       "第 91/100 轮:   0%|          | 0/11 [00:00<?, ?it/s]"
      ]
     },
     "metadata": {},
     "output_type": "display_data"
    },
    {
     "data": {
      "application/vnd.jupyter.widget-view+json": {
       "model_id": "b46b0b2024a249319ae01f83806ca03b",
       "version_major": 2,
       "version_minor": 0
      },
      "text/plain": [
       "第 92/100 轮:   0%|          | 0/11 [00:00<?, ?it/s]"
      ]
     },
     "metadata": {},
     "output_type": "display_data"
    },
    {
     "data": {
      "application/vnd.jupyter.widget-view+json": {
       "model_id": "47844f8db65c41c39467f658fa9bbbbc",
       "version_major": 2,
       "version_minor": 0
      },
      "text/plain": [
       "第 93/100 轮:   0%|          | 0/11 [00:00<?, ?it/s]"
      ]
     },
     "metadata": {},
     "output_type": "display_data"
    },
    {
     "data": {
      "application/vnd.jupyter.widget-view+json": {
       "model_id": "83e31e18b91948489b288398c7be562a",
       "version_major": 2,
       "version_minor": 0
      },
      "text/plain": [
       "第 94/100 轮:   0%|          | 0/11 [00:00<?, ?it/s]"
      ]
     },
     "metadata": {},
     "output_type": "display_data"
    },
    {
     "data": {
      "application/vnd.jupyter.widget-view+json": {
       "model_id": "be754d74ddc1468aa39b995a4b8bc2ee",
       "version_major": 2,
       "version_minor": 0
      },
      "text/plain": [
       "第 95/100 轮:   0%|          | 0/11 [00:00<?, ?it/s]"
      ]
     },
     "metadata": {},
     "output_type": "display_data"
    },
    {
     "data": {
      "application/vnd.jupyter.widget-view+json": {
       "model_id": "2cb84f39c28846c5892e04a0b7af5f1d",
       "version_major": 2,
       "version_minor": 0
      },
      "text/plain": [
       "第 96/100 轮:   0%|          | 0/11 [00:00<?, ?it/s]"
      ]
     },
     "metadata": {},
     "output_type": "display_data"
    },
    {
     "data": {
      "application/vnd.jupyter.widget-view+json": {
       "model_id": "bda9a035bea8424e95901e39c848cd24",
       "version_major": 2,
       "version_minor": 0
      },
      "text/plain": [
       "第 97/100 轮:   0%|          | 0/11 [00:00<?, ?it/s]"
      ]
     },
     "metadata": {},
     "output_type": "display_data"
    },
    {
     "data": {
      "application/vnd.jupyter.widget-view+json": {
       "model_id": "7b1aa98324c142a0a30c071a706895b1",
       "version_major": 2,
       "version_minor": 0
      },
      "text/plain": [
       "第 98/100 轮:   0%|          | 0/11 [00:00<?, ?it/s]"
      ]
     },
     "metadata": {},
     "output_type": "display_data"
    },
    {
     "data": {
      "application/vnd.jupyter.widget-view+json": {
       "model_id": "028272ae883743b9859d90731cd98ee1",
       "version_major": 2,
       "version_minor": 0
      },
      "text/plain": [
       "第 99/100 轮:   0%|          | 0/11 [00:00<?, ?it/s]"
      ]
     },
     "metadata": {},
     "output_type": "display_data"
    },
    {
     "data": {
      "application/vnd.jupyter.widget-view+json": {
       "model_id": "1846beec2d7b4b7c9e658034c72a8f75",
       "version_major": 2,
       "version_minor": 0
      },
      "text/plain": [
       "第 100/100 轮:   0%|          | 0/11 [00:00<?, ?it/s]"
      ]
     },
     "metadata": {},
     "output_type": "display_data"
    },
    {
     "name": "stdout",
     "output_type": "stream",
     "text": [
      "Fold 1 - Epoch 100: Best Correlation Coefficient: 0.6205\n"
     ]
    },
    {
     "data": {
      "application/vnd.jupyter.widget-view+json": {
       "model_id": "31c880831b674e6cb2a368876b8bec9f",
       "version_major": 2,
       "version_minor": 0
      },
      "text/plain": [
       "第 1/100 轮:   0%|          | 0/11 [00:00<?, ?it/s]"
      ]
     },
     "metadata": {},
     "output_type": "display_data"
    },
    {
     "data": {
      "application/vnd.jupyter.widget-view+json": {
       "model_id": "c55c0dd3c402486eb2856161400f84b6",
       "version_major": 2,
       "version_minor": 0
      },
      "text/plain": [
       "第 2/100 轮:   0%|          | 0/11 [00:00<?, ?it/s]"
      ]
     },
     "metadata": {},
     "output_type": "display_data"
    },
    {
     "data": {
      "application/vnd.jupyter.widget-view+json": {
       "model_id": "c634327c97e1432fb69e2a2f21fd88f7",
       "version_major": 2,
       "version_minor": 0
      },
      "text/plain": [
       "第 3/100 轮:   0%|          | 0/11 [00:00<?, ?it/s]"
      ]
     },
     "metadata": {},
     "output_type": "display_data"
    },
    {
     "data": {
      "application/vnd.jupyter.widget-view+json": {
       "model_id": "235051db59a4468daae62a103fa97a0a",
       "version_major": 2,
       "version_minor": 0
      },
      "text/plain": [
       "第 4/100 轮:   0%|          | 0/11 [00:00<?, ?it/s]"
      ]
     },
     "metadata": {},
     "output_type": "display_data"
    },
    {
     "data": {
      "application/vnd.jupyter.widget-view+json": {
       "model_id": "0e860927fed04189bda1907ba44ccf3b",
       "version_major": 2,
       "version_minor": 0
      },
      "text/plain": [
       "第 5/100 轮:   0%|          | 0/11 [00:00<?, ?it/s]"
      ]
     },
     "metadata": {},
     "output_type": "display_data"
    },
    {
     "data": {
      "application/vnd.jupyter.widget-view+json": {
       "model_id": "047cf15d59a44ec086c4cce0d43611a0",
       "version_major": 2,
       "version_minor": 0
      },
      "text/plain": [
       "第 6/100 轮:   0%|          | 0/11 [00:00<?, ?it/s]"
      ]
     },
     "metadata": {},
     "output_type": "display_data"
    },
    {
     "data": {
      "application/vnd.jupyter.widget-view+json": {
       "model_id": "dd213478ce1942d2adec22de80eae9f0",
       "version_major": 2,
       "version_minor": 0
      },
      "text/plain": [
       "第 7/100 轮:   0%|          | 0/11 [00:00<?, ?it/s]"
      ]
     },
     "metadata": {},
     "output_type": "display_data"
    },
    {
     "data": {
      "application/vnd.jupyter.widget-view+json": {
       "model_id": "f77d1d87b19842db94452369dca4483d",
       "version_major": 2,
       "version_minor": 0
      },
      "text/plain": [
       "第 8/100 轮:   0%|          | 0/11 [00:00<?, ?it/s]"
      ]
     },
     "metadata": {},
     "output_type": "display_data"
    },
    {
     "data": {
      "application/vnd.jupyter.widget-view+json": {
       "model_id": "6e5e947a7c9d4cba868e16595bf7a340",
       "version_major": 2,
       "version_minor": 0
      },
      "text/plain": [
       "第 9/100 轮:   0%|          | 0/11 [00:00<?, ?it/s]"
      ]
     },
     "metadata": {},
     "output_type": "display_data"
    },
    {
     "data": {
      "application/vnd.jupyter.widget-view+json": {
       "model_id": "bf574e6d727948ba9dcfd644c972642b",
       "version_major": 2,
       "version_minor": 0
      },
      "text/plain": [
       "第 10/100 轮:   0%|          | 0/11 [00:00<?, ?it/s]"
      ]
     },
     "metadata": {},
     "output_type": "display_data"
    },
    {
     "data": {
      "application/vnd.jupyter.widget-view+json": {
       "model_id": "4c17a951e1ba415b9fb3acb65baa394a",
       "version_major": 2,
       "version_minor": 0
      },
      "text/plain": [
       "第 11/100 轮:   0%|          | 0/11 [00:00<?, ?it/s]"
      ]
     },
     "metadata": {},
     "output_type": "display_data"
    },
    {
     "data": {
      "application/vnd.jupyter.widget-view+json": {
       "model_id": "45df2f1afb0b455db78f0c438fd3b965",
       "version_major": 2,
       "version_minor": 0
      },
      "text/plain": [
       "第 12/100 轮:   0%|          | 0/11 [00:00<?, ?it/s]"
      ]
     },
     "metadata": {},
     "output_type": "display_data"
    },
    {
     "data": {
      "application/vnd.jupyter.widget-view+json": {
       "model_id": "8a536219c462496ea6d2b153e441827f",
       "version_major": 2,
       "version_minor": 0
      },
      "text/plain": [
       "第 13/100 轮:   0%|          | 0/11 [00:00<?, ?it/s]"
      ]
     },
     "metadata": {},
     "output_type": "display_data"
    },
    {
     "data": {
      "application/vnd.jupyter.widget-view+json": {
       "model_id": "ed77bd50470f4bbfbafc7143ff6b1f57",
       "version_major": 2,
       "version_minor": 0
      },
      "text/plain": [
       "第 14/100 轮:   0%|          | 0/11 [00:00<?, ?it/s]"
      ]
     },
     "metadata": {},
     "output_type": "display_data"
    },
    {
     "data": {
      "application/vnd.jupyter.widget-view+json": {
       "model_id": "475a56e9fcdd4d7f8f57b4b0a7760709",
       "version_major": 2,
       "version_minor": 0
      },
      "text/plain": [
       "第 15/100 轮:   0%|          | 0/11 [00:00<?, ?it/s]"
      ]
     },
     "metadata": {},
     "output_type": "display_data"
    },
    {
     "data": {
      "application/vnd.jupyter.widget-view+json": {
       "model_id": "234bb78fd07c4dc99f9a381b359763e5",
       "version_major": 2,
       "version_minor": 0
      },
      "text/plain": [
       "第 16/100 轮:   0%|          | 0/11 [00:00<?, ?it/s]"
      ]
     },
     "metadata": {},
     "output_type": "display_data"
    },
    {
     "data": {
      "application/vnd.jupyter.widget-view+json": {
       "model_id": "a6552135b4d34031aafdec36ff678df6",
       "version_major": 2,
       "version_minor": 0
      },
      "text/plain": [
       "第 17/100 轮:   0%|          | 0/11 [00:00<?, ?it/s]"
      ]
     },
     "metadata": {},
     "output_type": "display_data"
    },
    {
     "data": {
      "application/vnd.jupyter.widget-view+json": {
       "model_id": "2c7e4cbe102540bd87f5cb2191bbbe5c",
       "version_major": 2,
       "version_minor": 0
      },
      "text/plain": [
       "第 18/100 轮:   0%|          | 0/11 [00:00<?, ?it/s]"
      ]
     },
     "metadata": {},
     "output_type": "display_data"
    },
    {
     "data": {
      "application/vnd.jupyter.widget-view+json": {
       "model_id": "327a1494b6514ebeac84aead26fcc9ea",
       "version_major": 2,
       "version_minor": 0
      },
      "text/plain": [
       "第 19/100 轮:   0%|          | 0/11 [00:00<?, ?it/s]"
      ]
     },
     "metadata": {},
     "output_type": "display_data"
    },
    {
     "data": {
      "application/vnd.jupyter.widget-view+json": {
       "model_id": "6f5f1e97def94b329f31937c14333fd5",
       "version_major": 2,
       "version_minor": 0
      },
      "text/plain": [
       "第 20/100 轮:   0%|          | 0/11 [00:00<?, ?it/s]"
      ]
     },
     "metadata": {},
     "output_type": "display_data"
    },
    {
     "data": {
      "application/vnd.jupyter.widget-view+json": {
       "model_id": "06ee0ac6c6a84660844590deb8515f00",
       "version_major": 2,
       "version_minor": 0
      },
      "text/plain": [
       "第 21/100 轮:   0%|          | 0/11 [00:00<?, ?it/s]"
      ]
     },
     "metadata": {},
     "output_type": "display_data"
    },
    {
     "data": {
      "application/vnd.jupyter.widget-view+json": {
       "model_id": "83ad4ea6f1d04782a46f4041bd8c4708",
       "version_major": 2,
       "version_minor": 0
      },
      "text/plain": [
       "第 22/100 轮:   0%|          | 0/11 [00:00<?, ?it/s]"
      ]
     },
     "metadata": {},
     "output_type": "display_data"
    },
    {
     "data": {
      "application/vnd.jupyter.widget-view+json": {
       "model_id": "c77bba47e16846088a9977bb24301ab9",
       "version_major": 2,
       "version_minor": 0
      },
      "text/plain": [
       "第 23/100 轮:   0%|          | 0/11 [00:00<?, ?it/s]"
      ]
     },
     "metadata": {},
     "output_type": "display_data"
    },
    {
     "data": {
      "application/vnd.jupyter.widget-view+json": {
       "model_id": "db6be07bc5b84979a00b0c929fc528b9",
       "version_major": 2,
       "version_minor": 0
      },
      "text/plain": [
       "第 24/100 轮:   0%|          | 0/11 [00:00<?, ?it/s]"
      ]
     },
     "metadata": {},
     "output_type": "display_data"
    },
    {
     "data": {
      "application/vnd.jupyter.widget-view+json": {
       "model_id": "26899d7ae9ad4a86bb9cccfa72277acb",
       "version_major": 2,
       "version_minor": 0
      },
      "text/plain": [
       "第 25/100 轮:   0%|          | 0/11 [00:00<?, ?it/s]"
      ]
     },
     "metadata": {},
     "output_type": "display_data"
    },
    {
     "data": {
      "application/vnd.jupyter.widget-view+json": {
       "model_id": "d812e20293b64b76b29a9c32a4502aa2",
       "version_major": 2,
       "version_minor": 0
      },
      "text/plain": [
       "第 26/100 轮:   0%|          | 0/11 [00:00<?, ?it/s]"
      ]
     },
     "metadata": {},
     "output_type": "display_data"
    },
    {
     "data": {
      "application/vnd.jupyter.widget-view+json": {
       "model_id": "8618aa453a6c4d9d8fa27d19a013c19b",
       "version_major": 2,
       "version_minor": 0
      },
      "text/plain": [
       "第 27/100 轮:   0%|          | 0/11 [00:00<?, ?it/s]"
      ]
     },
     "metadata": {},
     "output_type": "display_data"
    },
    {
     "data": {
      "application/vnd.jupyter.widget-view+json": {
       "model_id": "ab315f45422d4df68adf1af32d3793cf",
       "version_major": 2,
       "version_minor": 0
      },
      "text/plain": [
       "第 28/100 轮:   0%|          | 0/11 [00:00<?, ?it/s]"
      ]
     },
     "metadata": {},
     "output_type": "display_data"
    },
    {
     "data": {
      "application/vnd.jupyter.widget-view+json": {
       "model_id": "0cd2d818e818479c80ff9b28ffbebe3c",
       "version_major": 2,
       "version_minor": 0
      },
      "text/plain": [
       "第 29/100 轮:   0%|          | 0/11 [00:00<?, ?it/s]"
      ]
     },
     "metadata": {},
     "output_type": "display_data"
    },
    {
     "data": {
      "application/vnd.jupyter.widget-view+json": {
       "model_id": "6080f47d73b242679ecc3d3a2bbac7c1",
       "version_major": 2,
       "version_minor": 0
      },
      "text/plain": [
       "第 30/100 轮:   0%|          | 0/11 [00:00<?, ?it/s]"
      ]
     },
     "metadata": {},
     "output_type": "display_data"
    },
    {
     "data": {
      "application/vnd.jupyter.widget-view+json": {
       "model_id": "013c8dc4c0bb4b468194ef1415b64291",
       "version_major": 2,
       "version_minor": 0
      },
      "text/plain": [
       "第 31/100 轮:   0%|          | 0/11 [00:00<?, ?it/s]"
      ]
     },
     "metadata": {},
     "output_type": "display_data"
    },
    {
     "data": {
      "application/vnd.jupyter.widget-view+json": {
       "model_id": "dc89f38a059b4bbe98538afd9b92f65b",
       "version_major": 2,
       "version_minor": 0
      },
      "text/plain": [
       "第 32/100 轮:   0%|          | 0/11 [00:00<?, ?it/s]"
      ]
     },
     "metadata": {},
     "output_type": "display_data"
    },
    {
     "data": {
      "application/vnd.jupyter.widget-view+json": {
       "model_id": "f6457ab80e8f44cea214becf86a48072",
       "version_major": 2,
       "version_minor": 0
      },
      "text/plain": [
       "第 33/100 轮:   0%|          | 0/11 [00:00<?, ?it/s]"
      ]
     },
     "metadata": {},
     "output_type": "display_data"
    },
    {
     "data": {
      "application/vnd.jupyter.widget-view+json": {
       "model_id": "66eb88816b1a4aa8887cf6506819b2b4",
       "version_major": 2,
       "version_minor": 0
      },
      "text/plain": [
       "第 34/100 轮:   0%|          | 0/11 [00:00<?, ?it/s]"
      ]
     },
     "metadata": {},
     "output_type": "display_data"
    },
    {
     "data": {
      "application/vnd.jupyter.widget-view+json": {
       "model_id": "7b5eab4e7e114d28a90a6b67cb064e2f",
       "version_major": 2,
       "version_minor": 0
      },
      "text/plain": [
       "第 35/100 轮:   0%|          | 0/11 [00:00<?, ?it/s]"
      ]
     },
     "metadata": {},
     "output_type": "display_data"
    },
    {
     "data": {
      "application/vnd.jupyter.widget-view+json": {
       "model_id": "a806ecfd03d743f88cab6dba518ff588",
       "version_major": 2,
       "version_minor": 0
      },
      "text/plain": [
       "第 36/100 轮:   0%|          | 0/11 [00:00<?, ?it/s]"
      ]
     },
     "metadata": {},
     "output_type": "display_data"
    },
    {
     "data": {
      "application/vnd.jupyter.widget-view+json": {
       "model_id": "5056ca6f15334181880eac45da12f985",
       "version_major": 2,
       "version_minor": 0
      },
      "text/plain": [
       "第 37/100 轮:   0%|          | 0/11 [00:00<?, ?it/s]"
      ]
     },
     "metadata": {},
     "output_type": "display_data"
    },
    {
     "data": {
      "application/vnd.jupyter.widget-view+json": {
       "model_id": "3cb22897e61b4f5a8452a89653ae8330",
       "version_major": 2,
       "version_minor": 0
      },
      "text/plain": [
       "第 38/100 轮:   0%|          | 0/11 [00:00<?, ?it/s]"
      ]
     },
     "metadata": {},
     "output_type": "display_data"
    },
    {
     "data": {
      "application/vnd.jupyter.widget-view+json": {
       "model_id": "309d5193deeb4d3298d172e6194abb41",
       "version_major": 2,
       "version_minor": 0
      },
      "text/plain": [
       "第 39/100 轮:   0%|          | 0/11 [00:00<?, ?it/s]"
      ]
     },
     "metadata": {},
     "output_type": "display_data"
    },
    {
     "data": {
      "application/vnd.jupyter.widget-view+json": {
       "model_id": "4f0390feda23473d97df01d4f1ddff86",
       "version_major": 2,
       "version_minor": 0
      },
      "text/plain": [
       "第 40/100 轮:   0%|          | 0/11 [00:00<?, ?it/s]"
      ]
     },
     "metadata": {},
     "output_type": "display_data"
    },
    {
     "data": {
      "application/vnd.jupyter.widget-view+json": {
       "model_id": "0d6c110492704d40a6ab10c310ee127a",
       "version_major": 2,
       "version_minor": 0
      },
      "text/plain": [
       "第 41/100 轮:   0%|          | 0/11 [00:00<?, ?it/s]"
      ]
     },
     "metadata": {},
     "output_type": "display_data"
    },
    {
     "data": {
      "application/vnd.jupyter.widget-view+json": {
       "model_id": "e5b6f923dd864bcfaeadd3dbbffc7e35",
       "version_major": 2,
       "version_minor": 0
      },
      "text/plain": [
       "第 42/100 轮:   0%|          | 0/11 [00:00<?, ?it/s]"
      ]
     },
     "metadata": {},
     "output_type": "display_data"
    },
    {
     "data": {
      "application/vnd.jupyter.widget-view+json": {
       "model_id": "1bdf99c124ba4f9294e0c7420b6d18a5",
       "version_major": 2,
       "version_minor": 0
      },
      "text/plain": [
       "第 43/100 轮:   0%|          | 0/11 [00:00<?, ?it/s]"
      ]
     },
     "metadata": {},
     "output_type": "display_data"
    },
    {
     "data": {
      "application/vnd.jupyter.widget-view+json": {
       "model_id": "b8215b8c03d24a63965dc8dd9afb6b5a",
       "version_major": 2,
       "version_minor": 0
      },
      "text/plain": [
       "第 44/100 轮:   0%|          | 0/11 [00:00<?, ?it/s]"
      ]
     },
     "metadata": {},
     "output_type": "display_data"
    },
    {
     "data": {
      "application/vnd.jupyter.widget-view+json": {
       "model_id": "66640cc5ae384557aedf6cf7b09e37b6",
       "version_major": 2,
       "version_minor": 0
      },
      "text/plain": [
       "第 45/100 轮:   0%|          | 0/11 [00:00<?, ?it/s]"
      ]
     },
     "metadata": {},
     "output_type": "display_data"
    },
    {
     "data": {
      "application/vnd.jupyter.widget-view+json": {
       "model_id": "06dd49765fa24197bd03b98f8bb2e991",
       "version_major": 2,
       "version_minor": 0
      },
      "text/plain": [
       "第 46/100 轮:   0%|          | 0/11 [00:00<?, ?it/s]"
      ]
     },
     "metadata": {},
     "output_type": "display_data"
    },
    {
     "data": {
      "application/vnd.jupyter.widget-view+json": {
       "model_id": "9da25e2498cd4a14ac4e52e32266045d",
       "version_major": 2,
       "version_minor": 0
      },
      "text/plain": [
       "第 47/100 轮:   0%|          | 0/11 [00:00<?, ?it/s]"
      ]
     },
     "metadata": {},
     "output_type": "display_data"
    },
    {
     "data": {
      "application/vnd.jupyter.widget-view+json": {
       "model_id": "8e124de9c5ff4c2e964b951b789d851d",
       "version_major": 2,
       "version_minor": 0
      },
      "text/plain": [
       "第 48/100 轮:   0%|          | 0/11 [00:00<?, ?it/s]"
      ]
     },
     "metadata": {},
     "output_type": "display_data"
    },
    {
     "data": {
      "application/vnd.jupyter.widget-view+json": {
       "model_id": "0a48aa08193a489c8b07f4f00e84ec96",
       "version_major": 2,
       "version_minor": 0
      },
      "text/plain": [
       "第 49/100 轮:   0%|          | 0/11 [00:00<?, ?it/s]"
      ]
     },
     "metadata": {},
     "output_type": "display_data"
    },
    {
     "data": {
      "application/vnd.jupyter.widget-view+json": {
       "model_id": "bf65c6318cc049ac9d084185716f6e9f",
       "version_major": 2,
       "version_minor": 0
      },
      "text/plain": [
       "第 50/100 轮:   0%|          | 0/11 [00:00<?, ?it/s]"
      ]
     },
     "metadata": {},
     "output_type": "display_data"
    },
    {
     "data": {
      "application/vnd.jupyter.widget-view+json": {
       "model_id": "5bea05fef514462ea626117f4e6423b3",
       "version_major": 2,
       "version_minor": 0
      },
      "text/plain": [
       "第 51/100 轮:   0%|          | 0/11 [00:00<?, ?it/s]"
      ]
     },
     "metadata": {},
     "output_type": "display_data"
    },
    {
     "data": {
      "application/vnd.jupyter.widget-view+json": {
       "model_id": "6e49c9932d4b45849f3af59e26c9d167",
       "version_major": 2,
       "version_minor": 0
      },
      "text/plain": [
       "第 52/100 轮:   0%|          | 0/11 [00:00<?, ?it/s]"
      ]
     },
     "metadata": {},
     "output_type": "display_data"
    },
    {
     "data": {
      "application/vnd.jupyter.widget-view+json": {
       "model_id": "8f1cefd04a274f919112e6009afe299c",
       "version_major": 2,
       "version_minor": 0
      },
      "text/plain": [
       "第 53/100 轮:   0%|          | 0/11 [00:00<?, ?it/s]"
      ]
     },
     "metadata": {},
     "output_type": "display_data"
    },
    {
     "data": {
      "application/vnd.jupyter.widget-view+json": {
       "model_id": "d3d7db7800ec4f39b2b427bd577db7a1",
       "version_major": 2,
       "version_minor": 0
      },
      "text/plain": [
       "第 54/100 轮:   0%|          | 0/11 [00:00<?, ?it/s]"
      ]
     },
     "metadata": {},
     "output_type": "display_data"
    },
    {
     "data": {
      "application/vnd.jupyter.widget-view+json": {
       "model_id": "a9d5bb5e529a4bf1a54471cf1d41e546",
       "version_major": 2,
       "version_minor": 0
      },
      "text/plain": [
       "第 55/100 轮:   0%|          | 0/11 [00:00<?, ?it/s]"
      ]
     },
     "metadata": {},
     "output_type": "display_data"
    },
    {
     "data": {
      "application/vnd.jupyter.widget-view+json": {
       "model_id": "3171002f565041f6817d076fe73e39ca",
       "version_major": 2,
       "version_minor": 0
      },
      "text/plain": [
       "第 56/100 轮:   0%|          | 0/11 [00:00<?, ?it/s]"
      ]
     },
     "metadata": {},
     "output_type": "display_data"
    },
    {
     "data": {
      "application/vnd.jupyter.widget-view+json": {
       "model_id": "23cbcae818e543c0978dd7d07f051e53",
       "version_major": 2,
       "version_minor": 0
      },
      "text/plain": [
       "第 57/100 轮:   0%|          | 0/11 [00:00<?, ?it/s]"
      ]
     },
     "metadata": {},
     "output_type": "display_data"
    },
    {
     "data": {
      "application/vnd.jupyter.widget-view+json": {
       "model_id": "0d689258f90f4db48afa03ea8e289ac5",
       "version_major": 2,
       "version_minor": 0
      },
      "text/plain": [
       "第 58/100 轮:   0%|          | 0/11 [00:00<?, ?it/s]"
      ]
     },
     "metadata": {},
     "output_type": "display_data"
    },
    {
     "data": {
      "application/vnd.jupyter.widget-view+json": {
       "model_id": "513b3a2e601d41bab43faece142659a8",
       "version_major": 2,
       "version_minor": 0
      },
      "text/plain": [
       "第 59/100 轮:   0%|          | 0/11 [00:00<?, ?it/s]"
      ]
     },
     "metadata": {},
     "output_type": "display_data"
    },
    {
     "data": {
      "application/vnd.jupyter.widget-view+json": {
       "model_id": "76e99b59f9b84945bb56157cecae8353",
       "version_major": 2,
       "version_minor": 0
      },
      "text/plain": [
       "第 60/100 轮:   0%|          | 0/11 [00:00<?, ?it/s]"
      ]
     },
     "metadata": {},
     "output_type": "display_data"
    },
    {
     "data": {
      "application/vnd.jupyter.widget-view+json": {
       "model_id": "53ca710e10dc431b8c24aaa791c03a68",
       "version_major": 2,
       "version_minor": 0
      },
      "text/plain": [
       "第 61/100 轮:   0%|          | 0/11 [00:00<?, ?it/s]"
      ]
     },
     "metadata": {},
     "output_type": "display_data"
    },
    {
     "data": {
      "application/vnd.jupyter.widget-view+json": {
       "model_id": "38b5d6f9de2647b1819782f672acd08d",
       "version_major": 2,
       "version_minor": 0
      },
      "text/plain": [
       "第 62/100 轮:   0%|          | 0/11 [00:00<?, ?it/s]"
      ]
     },
     "metadata": {},
     "output_type": "display_data"
    },
    {
     "data": {
      "application/vnd.jupyter.widget-view+json": {
       "model_id": "a81dfc8c2a404712a99431db07d981db",
       "version_major": 2,
       "version_minor": 0
      },
      "text/plain": [
       "第 63/100 轮:   0%|          | 0/11 [00:00<?, ?it/s]"
      ]
     },
     "metadata": {},
     "output_type": "display_data"
    },
    {
     "data": {
      "application/vnd.jupyter.widget-view+json": {
       "model_id": "ccf7ca0aa0c54e45aad74b0774cbbdb2",
       "version_major": 2,
       "version_minor": 0
      },
      "text/plain": [
       "第 64/100 轮:   0%|          | 0/11 [00:00<?, ?it/s]"
      ]
     },
     "metadata": {},
     "output_type": "display_data"
    },
    {
     "data": {
      "application/vnd.jupyter.widget-view+json": {
       "model_id": "5df36a13d91f4440935186a83a33b5c1",
       "version_major": 2,
       "version_minor": 0
      },
      "text/plain": [
       "第 65/100 轮:   0%|          | 0/11 [00:00<?, ?it/s]"
      ]
     },
     "metadata": {},
     "output_type": "display_data"
    },
    {
     "data": {
      "application/vnd.jupyter.widget-view+json": {
       "model_id": "2090ef33d55d46f19489a90026ab5c3b",
       "version_major": 2,
       "version_minor": 0
      },
      "text/plain": [
       "第 66/100 轮:   0%|          | 0/11 [00:00<?, ?it/s]"
      ]
     },
     "metadata": {},
     "output_type": "display_data"
    },
    {
     "data": {
      "application/vnd.jupyter.widget-view+json": {
       "model_id": "0c3a840b348045409dbe0559116e17ac",
       "version_major": 2,
       "version_minor": 0
      },
      "text/plain": [
       "第 67/100 轮:   0%|          | 0/11 [00:00<?, ?it/s]"
      ]
     },
     "metadata": {},
     "output_type": "display_data"
    },
    {
     "data": {
      "application/vnd.jupyter.widget-view+json": {
       "model_id": "124aef70aa45427d9e62584791354195",
       "version_major": 2,
       "version_minor": 0
      },
      "text/plain": [
       "第 68/100 轮:   0%|          | 0/11 [00:00<?, ?it/s]"
      ]
     },
     "metadata": {},
     "output_type": "display_data"
    },
    {
     "data": {
      "application/vnd.jupyter.widget-view+json": {
       "model_id": "c5baae5433624ef7822741e0ec29fffd",
       "version_major": 2,
       "version_minor": 0
      },
      "text/plain": [
       "第 69/100 轮:   0%|          | 0/11 [00:00<?, ?it/s]"
      ]
     },
     "metadata": {},
     "output_type": "display_data"
    },
    {
     "data": {
      "application/vnd.jupyter.widget-view+json": {
       "model_id": "b500886708b141fbadeb537079efcb4d",
       "version_major": 2,
       "version_minor": 0
      },
      "text/plain": [
       "第 70/100 轮:   0%|          | 0/11 [00:00<?, ?it/s]"
      ]
     },
     "metadata": {},
     "output_type": "display_data"
    },
    {
     "data": {
      "application/vnd.jupyter.widget-view+json": {
       "model_id": "121c3a90f6414ec5b80b999d0617fbba",
       "version_major": 2,
       "version_minor": 0
      },
      "text/plain": [
       "第 71/100 轮:   0%|          | 0/11 [00:00<?, ?it/s]"
      ]
     },
     "metadata": {},
     "output_type": "display_data"
    },
    {
     "data": {
      "application/vnd.jupyter.widget-view+json": {
       "model_id": "ce792af20cc74eb3ad61f63a59cb7446",
       "version_major": 2,
       "version_minor": 0
      },
      "text/plain": [
       "第 72/100 轮:   0%|          | 0/11 [00:00<?, ?it/s]"
      ]
     },
     "metadata": {},
     "output_type": "display_data"
    },
    {
     "data": {
      "application/vnd.jupyter.widget-view+json": {
       "model_id": "9b06539ec06546da909df53a6ed635cf",
       "version_major": 2,
       "version_minor": 0
      },
      "text/plain": [
       "第 73/100 轮:   0%|          | 0/11 [00:00<?, ?it/s]"
      ]
     },
     "metadata": {},
     "output_type": "display_data"
    },
    {
     "data": {
      "application/vnd.jupyter.widget-view+json": {
       "model_id": "de09ab9c587a4f3bbf1f286fc715984a",
       "version_major": 2,
       "version_minor": 0
      },
      "text/plain": [
       "第 74/100 轮:   0%|          | 0/11 [00:00<?, ?it/s]"
      ]
     },
     "metadata": {},
     "output_type": "display_data"
    },
    {
     "data": {
      "application/vnd.jupyter.widget-view+json": {
       "model_id": "c0e8a44b79bd4fd18006f03bb02f0117",
       "version_major": 2,
       "version_minor": 0
      },
      "text/plain": [
       "第 75/100 轮:   0%|          | 0/11 [00:00<?, ?it/s]"
      ]
     },
     "metadata": {},
     "output_type": "display_data"
    },
    {
     "data": {
      "application/vnd.jupyter.widget-view+json": {
       "model_id": "616ddb1b0abc4366bfdd0233a7b7e7dd",
       "version_major": 2,
       "version_minor": 0
      },
      "text/plain": [
       "第 76/100 轮:   0%|          | 0/11 [00:00<?, ?it/s]"
      ]
     },
     "metadata": {},
     "output_type": "display_data"
    },
    {
     "data": {
      "application/vnd.jupyter.widget-view+json": {
       "model_id": "9063c4e659c04585933ffdef298b0b09",
       "version_major": 2,
       "version_minor": 0
      },
      "text/plain": [
       "第 77/100 轮:   0%|          | 0/11 [00:00<?, ?it/s]"
      ]
     },
     "metadata": {},
     "output_type": "display_data"
    },
    {
     "data": {
      "application/vnd.jupyter.widget-view+json": {
       "model_id": "5c8be189a5fd4804aee1e60ab736b465",
       "version_major": 2,
       "version_minor": 0
      },
      "text/plain": [
       "第 78/100 轮:   0%|          | 0/11 [00:00<?, ?it/s]"
      ]
     },
     "metadata": {},
     "output_type": "display_data"
    },
    {
     "data": {
      "application/vnd.jupyter.widget-view+json": {
       "model_id": "0c22656fa6534d7498fd3c6acdf4ddf4",
       "version_major": 2,
       "version_minor": 0
      },
      "text/plain": [
       "第 79/100 轮:   0%|          | 0/11 [00:00<?, ?it/s]"
      ]
     },
     "metadata": {},
     "output_type": "display_data"
    },
    {
     "data": {
      "application/vnd.jupyter.widget-view+json": {
       "model_id": "2a67a5e0ad6049de94ce49d921f12e00",
       "version_major": 2,
       "version_minor": 0
      },
      "text/plain": [
       "第 80/100 轮:   0%|          | 0/11 [00:00<?, ?it/s]"
      ]
     },
     "metadata": {},
     "output_type": "display_data"
    },
    {
     "data": {
      "application/vnd.jupyter.widget-view+json": {
       "model_id": "132d1ee572e741d184b0b616e321577d",
       "version_major": 2,
       "version_minor": 0
      },
      "text/plain": [
       "第 81/100 轮:   0%|          | 0/11 [00:00<?, ?it/s]"
      ]
     },
     "metadata": {},
     "output_type": "display_data"
    },
    {
     "data": {
      "application/vnd.jupyter.widget-view+json": {
       "model_id": "c11c40471daf40b398f9a51adbe05346",
       "version_major": 2,
       "version_minor": 0
      },
      "text/plain": [
       "第 82/100 轮:   0%|          | 0/11 [00:00<?, ?it/s]"
      ]
     },
     "metadata": {},
     "output_type": "display_data"
    },
    {
     "data": {
      "application/vnd.jupyter.widget-view+json": {
       "model_id": "fb1751ab8dc74357bfed54e36e369709",
       "version_major": 2,
       "version_minor": 0
      },
      "text/plain": [
       "第 83/100 轮:   0%|          | 0/11 [00:00<?, ?it/s]"
      ]
     },
     "metadata": {},
     "output_type": "display_data"
    },
    {
     "data": {
      "application/vnd.jupyter.widget-view+json": {
       "model_id": "cb624163af79442ab71c6a3d183dd0a3",
       "version_major": 2,
       "version_minor": 0
      },
      "text/plain": [
       "第 84/100 轮:   0%|          | 0/11 [00:00<?, ?it/s]"
      ]
     },
     "metadata": {},
     "output_type": "display_data"
    },
    {
     "data": {
      "application/vnd.jupyter.widget-view+json": {
       "model_id": "14a5337c36c3471dbbd53bb8f5d2f08c",
       "version_major": 2,
       "version_minor": 0
      },
      "text/plain": [
       "第 85/100 轮:   0%|          | 0/11 [00:00<?, ?it/s]"
      ]
     },
     "metadata": {},
     "output_type": "display_data"
    },
    {
     "data": {
      "application/vnd.jupyter.widget-view+json": {
       "model_id": "1ca65a31d3ff442bb638aed0a80d364e",
       "version_major": 2,
       "version_minor": 0
      },
      "text/plain": [
       "第 86/100 轮:   0%|          | 0/11 [00:00<?, ?it/s]"
      ]
     },
     "metadata": {},
     "output_type": "display_data"
    },
    {
     "data": {
      "application/vnd.jupyter.widget-view+json": {
       "model_id": "e799c534e88243049c9acc0de0c3ea46",
       "version_major": 2,
       "version_minor": 0
      },
      "text/plain": [
       "第 87/100 轮:   0%|          | 0/11 [00:00<?, ?it/s]"
      ]
     },
     "metadata": {},
     "output_type": "display_data"
    },
    {
     "data": {
      "application/vnd.jupyter.widget-view+json": {
       "model_id": "dfe780daaba548fcb9a143066ef79833",
       "version_major": 2,
       "version_minor": 0
      },
      "text/plain": [
       "第 88/100 轮:   0%|          | 0/11 [00:00<?, ?it/s]"
      ]
     },
     "metadata": {},
     "output_type": "display_data"
    },
    {
     "data": {
      "application/vnd.jupyter.widget-view+json": {
       "model_id": "6f0845c2d7f24a73ad4c4a701a850521",
       "version_major": 2,
       "version_minor": 0
      },
      "text/plain": [
       "第 89/100 轮:   0%|          | 0/11 [00:00<?, ?it/s]"
      ]
     },
     "metadata": {},
     "output_type": "display_data"
    },
    {
     "data": {
      "application/vnd.jupyter.widget-view+json": {
       "model_id": "6758c24a31eb499fbcce77aa75f2dca2",
       "version_major": 2,
       "version_minor": 0
      },
      "text/plain": [
       "第 90/100 轮:   0%|          | 0/11 [00:00<?, ?it/s]"
      ]
     },
     "metadata": {},
     "output_type": "display_data"
    },
    {
     "data": {
      "application/vnd.jupyter.widget-view+json": {
       "model_id": "41535537bf434935b48ffcef8c2f9a05",
       "version_major": 2,
       "version_minor": 0
      },
      "text/plain": [
       "第 91/100 轮:   0%|          | 0/11 [00:00<?, ?it/s]"
      ]
     },
     "metadata": {},
     "output_type": "display_data"
    },
    {
     "data": {
      "application/vnd.jupyter.widget-view+json": {
       "model_id": "5f55517f2502491a9be4b6353d83dede",
       "version_major": 2,
       "version_minor": 0
      },
      "text/plain": [
       "第 92/100 轮:   0%|          | 0/11 [00:00<?, ?it/s]"
      ]
     },
     "metadata": {},
     "output_type": "display_data"
    },
    {
     "data": {
      "application/vnd.jupyter.widget-view+json": {
       "model_id": "15106f2d5ff045b7a1cf6792b8ac0234",
       "version_major": 2,
       "version_minor": 0
      },
      "text/plain": [
       "第 93/100 轮:   0%|          | 0/11 [00:00<?, ?it/s]"
      ]
     },
     "metadata": {},
     "output_type": "display_data"
    },
    {
     "data": {
      "application/vnd.jupyter.widget-view+json": {
       "model_id": "5c0069088378431eb0984e1dd06feab6",
       "version_major": 2,
       "version_minor": 0
      },
      "text/plain": [
       "第 94/100 轮:   0%|          | 0/11 [00:00<?, ?it/s]"
      ]
     },
     "metadata": {},
     "output_type": "display_data"
    },
    {
     "data": {
      "application/vnd.jupyter.widget-view+json": {
       "model_id": "c07f06e22a0c4f9bb216397ac4861fbd",
       "version_major": 2,
       "version_minor": 0
      },
      "text/plain": [
       "第 95/100 轮:   0%|          | 0/11 [00:00<?, ?it/s]"
      ]
     },
     "metadata": {},
     "output_type": "display_data"
    },
    {
     "data": {
      "application/vnd.jupyter.widget-view+json": {
       "model_id": "e10b1c38be944efcab1f528c308992b7",
       "version_major": 2,
       "version_minor": 0
      },
      "text/plain": [
       "第 96/100 轮:   0%|          | 0/11 [00:00<?, ?it/s]"
      ]
     },
     "metadata": {},
     "output_type": "display_data"
    },
    {
     "data": {
      "application/vnd.jupyter.widget-view+json": {
       "model_id": "2d010c0ffa0c4e67bf1af9ee7e28a265",
       "version_major": 2,
       "version_minor": 0
      },
      "text/plain": [
       "第 97/100 轮:   0%|          | 0/11 [00:00<?, ?it/s]"
      ]
     },
     "metadata": {},
     "output_type": "display_data"
    },
    {
     "data": {
      "application/vnd.jupyter.widget-view+json": {
       "model_id": "45a5258594e04de78205f5d2c985f605",
       "version_major": 2,
       "version_minor": 0
      },
      "text/plain": [
       "第 98/100 轮:   0%|          | 0/11 [00:00<?, ?it/s]"
      ]
     },
     "metadata": {},
     "output_type": "display_data"
    },
    {
     "data": {
      "application/vnd.jupyter.widget-view+json": {
       "model_id": "04447eda3fb946efb9bccc13aea8478c",
       "version_major": 2,
       "version_minor": 0
      },
      "text/plain": [
       "第 99/100 轮:   0%|          | 0/11 [00:00<?, ?it/s]"
      ]
     },
     "metadata": {},
     "output_type": "display_data"
    },
    {
     "data": {
      "application/vnd.jupyter.widget-view+json": {
       "model_id": "ab1585e3393b427a8fc042973e7f6ac9",
       "version_major": 2,
       "version_minor": 0
      },
      "text/plain": [
       "第 100/100 轮:   0%|          | 0/11 [00:00<?, ?it/s]"
      ]
     },
     "metadata": {},
     "output_type": "display_data"
    },
    {
     "name": "stdout",
     "output_type": "stream",
     "text": [
      "Fold 2 - Epoch 100: Best Correlation Coefficient: 0.6206\n"
     ]
    },
    {
     "data": {
      "application/vnd.jupyter.widget-view+json": {
       "model_id": "f5d748f1ee1442058f9d275950819451",
       "version_major": 2,
       "version_minor": 0
      },
      "text/plain": [
       "第 1/100 轮:   0%|          | 0/11 [00:00<?, ?it/s]"
      ]
     },
     "metadata": {},
     "output_type": "display_data"
    },
    {
     "data": {
      "application/vnd.jupyter.widget-view+json": {
       "model_id": "9b5a0a8c84f44e8aa4f1b5344f268a73",
       "version_major": 2,
       "version_minor": 0
      },
      "text/plain": [
       "第 2/100 轮:   0%|          | 0/11 [00:00<?, ?it/s]"
      ]
     },
     "metadata": {},
     "output_type": "display_data"
    },
    {
     "data": {
      "application/vnd.jupyter.widget-view+json": {
       "model_id": "5b0dd34c42fc42c49e22577da4d20f17",
       "version_major": 2,
       "version_minor": 0
      },
      "text/plain": [
       "第 3/100 轮:   0%|          | 0/11 [00:00<?, ?it/s]"
      ]
     },
     "metadata": {},
     "output_type": "display_data"
    },
    {
     "data": {
      "application/vnd.jupyter.widget-view+json": {
       "model_id": "2ad2fd0c21974e7796685699e682bcba",
       "version_major": 2,
       "version_minor": 0
      },
      "text/plain": [
       "第 4/100 轮:   0%|          | 0/11 [00:00<?, ?it/s]"
      ]
     },
     "metadata": {},
     "output_type": "display_data"
    },
    {
     "data": {
      "application/vnd.jupyter.widget-view+json": {
       "model_id": "3510e6c7b70b48cd83f7b6579860f9a1",
       "version_major": 2,
       "version_minor": 0
      },
      "text/plain": [
       "第 5/100 轮:   0%|          | 0/11 [00:00<?, ?it/s]"
      ]
     },
     "metadata": {},
     "output_type": "display_data"
    },
    {
     "data": {
      "application/vnd.jupyter.widget-view+json": {
       "model_id": "e5a3653a000e463aa42fcc57b28e83a2",
       "version_major": 2,
       "version_minor": 0
      },
      "text/plain": [
       "第 6/100 轮:   0%|          | 0/11 [00:00<?, ?it/s]"
      ]
     },
     "metadata": {},
     "output_type": "display_data"
    },
    {
     "data": {
      "application/vnd.jupyter.widget-view+json": {
       "model_id": "04e712731e764c8e8b55cf75419a88d5",
       "version_major": 2,
       "version_minor": 0
      },
      "text/plain": [
       "第 7/100 轮:   0%|          | 0/11 [00:00<?, ?it/s]"
      ]
     },
     "metadata": {},
     "output_type": "display_data"
    },
    {
     "data": {
      "application/vnd.jupyter.widget-view+json": {
       "model_id": "5d9e044ed7ec49f0a09550d4bd68c406",
       "version_major": 2,
       "version_minor": 0
      },
      "text/plain": [
       "第 8/100 轮:   0%|          | 0/11 [00:00<?, ?it/s]"
      ]
     },
     "metadata": {},
     "output_type": "display_data"
    },
    {
     "data": {
      "application/vnd.jupyter.widget-view+json": {
       "model_id": "0df7fc1b1f53428282dbefa7e1429cce",
       "version_major": 2,
       "version_minor": 0
      },
      "text/plain": [
       "第 9/100 轮:   0%|          | 0/11 [00:00<?, ?it/s]"
      ]
     },
     "metadata": {},
     "output_type": "display_data"
    },
    {
     "data": {
      "application/vnd.jupyter.widget-view+json": {
       "model_id": "17d9331054584310851153bc460ed980",
       "version_major": 2,
       "version_minor": 0
      },
      "text/plain": [
       "第 10/100 轮:   0%|          | 0/11 [00:00<?, ?it/s]"
      ]
     },
     "metadata": {},
     "output_type": "display_data"
    },
    {
     "data": {
      "application/vnd.jupyter.widget-view+json": {
       "model_id": "3e10383904694cd79d9ecbeb302fe34f",
       "version_major": 2,
       "version_minor": 0
      },
      "text/plain": [
       "第 11/100 轮:   0%|          | 0/11 [00:00<?, ?it/s]"
      ]
     },
     "metadata": {},
     "output_type": "display_data"
    },
    {
     "data": {
      "application/vnd.jupyter.widget-view+json": {
       "model_id": "7e878fc2eb2e43b09ede1538761ff036",
       "version_major": 2,
       "version_minor": 0
      },
      "text/plain": [
       "第 12/100 轮:   0%|          | 0/11 [00:00<?, ?it/s]"
      ]
     },
     "metadata": {},
     "output_type": "display_data"
    },
    {
     "data": {
      "application/vnd.jupyter.widget-view+json": {
       "model_id": "044b12d258fc4b668d9003b38bf14324",
       "version_major": 2,
       "version_minor": 0
      },
      "text/plain": [
       "第 13/100 轮:   0%|          | 0/11 [00:00<?, ?it/s]"
      ]
     },
     "metadata": {},
     "output_type": "display_data"
    },
    {
     "data": {
      "application/vnd.jupyter.widget-view+json": {
       "model_id": "e83996f87dfc4c84851fe2bd771e8298",
       "version_major": 2,
       "version_minor": 0
      },
      "text/plain": [
       "第 14/100 轮:   0%|          | 0/11 [00:00<?, ?it/s]"
      ]
     },
     "metadata": {},
     "output_type": "display_data"
    },
    {
     "data": {
      "application/vnd.jupyter.widget-view+json": {
       "model_id": "0bd3ff0602354f5fb82fe109fd96f7b0",
       "version_major": 2,
       "version_minor": 0
      },
      "text/plain": [
       "第 15/100 轮:   0%|          | 0/11 [00:00<?, ?it/s]"
      ]
     },
     "metadata": {},
     "output_type": "display_data"
    },
    {
     "data": {
      "application/vnd.jupyter.widget-view+json": {
       "model_id": "5f7c2f8455c647d9bac174a14157ea98",
       "version_major": 2,
       "version_minor": 0
      },
      "text/plain": [
       "第 16/100 轮:   0%|          | 0/11 [00:00<?, ?it/s]"
      ]
     },
     "metadata": {},
     "output_type": "display_data"
    },
    {
     "data": {
      "application/vnd.jupyter.widget-view+json": {
       "model_id": "73833937fc684c69979bc244e3e5f8b9",
       "version_major": 2,
       "version_minor": 0
      },
      "text/plain": [
       "第 17/100 轮:   0%|          | 0/11 [00:00<?, ?it/s]"
      ]
     },
     "metadata": {},
     "output_type": "display_data"
    },
    {
     "data": {
      "application/vnd.jupyter.widget-view+json": {
       "model_id": "5d2191ed3df944b9be5a1288e4d13e5b",
       "version_major": 2,
       "version_minor": 0
      },
      "text/plain": [
       "第 18/100 轮:   0%|          | 0/11 [00:00<?, ?it/s]"
      ]
     },
     "metadata": {},
     "output_type": "display_data"
    },
    {
     "data": {
      "application/vnd.jupyter.widget-view+json": {
       "model_id": "2c378f16a79a45f0be492e7ddd3e8a75",
       "version_major": 2,
       "version_minor": 0
      },
      "text/plain": [
       "第 19/100 轮:   0%|          | 0/11 [00:00<?, ?it/s]"
      ]
     },
     "metadata": {},
     "output_type": "display_data"
    },
    {
     "data": {
      "application/vnd.jupyter.widget-view+json": {
       "model_id": "58f5439baf31409abca42747280d101c",
       "version_major": 2,
       "version_minor": 0
      },
      "text/plain": [
       "第 20/100 轮:   0%|          | 0/11 [00:00<?, ?it/s]"
      ]
     },
     "metadata": {},
     "output_type": "display_data"
    },
    {
     "data": {
      "application/vnd.jupyter.widget-view+json": {
       "model_id": "40067d96e8be46ca8883962ba8ce81ef",
       "version_major": 2,
       "version_minor": 0
      },
      "text/plain": [
       "第 21/100 轮:   0%|          | 0/11 [00:00<?, ?it/s]"
      ]
     },
     "metadata": {},
     "output_type": "display_data"
    },
    {
     "data": {
      "application/vnd.jupyter.widget-view+json": {
       "model_id": "fdbcfc5986c04d24ab9e7d1dcd261f54",
       "version_major": 2,
       "version_minor": 0
      },
      "text/plain": [
       "第 22/100 轮:   0%|          | 0/11 [00:00<?, ?it/s]"
      ]
     },
     "metadata": {},
     "output_type": "display_data"
    },
    {
     "data": {
      "application/vnd.jupyter.widget-view+json": {
       "model_id": "c41a9e7365274e2091a239a1d0f8b177",
       "version_major": 2,
       "version_minor": 0
      },
      "text/plain": [
       "第 23/100 轮:   0%|          | 0/11 [00:00<?, ?it/s]"
      ]
     },
     "metadata": {},
     "output_type": "display_data"
    },
    {
     "data": {
      "application/vnd.jupyter.widget-view+json": {
       "model_id": "69a1339c4a394a8b829e323e293d584b",
       "version_major": 2,
       "version_minor": 0
      },
      "text/plain": [
       "第 24/100 轮:   0%|          | 0/11 [00:00<?, ?it/s]"
      ]
     },
     "metadata": {},
     "output_type": "display_data"
    },
    {
     "data": {
      "application/vnd.jupyter.widget-view+json": {
       "model_id": "33ec33c1b00d4c1486f0942e94a6fc21",
       "version_major": 2,
       "version_minor": 0
      },
      "text/plain": [
       "第 25/100 轮:   0%|          | 0/11 [00:00<?, ?it/s]"
      ]
     },
     "metadata": {},
     "output_type": "display_data"
    },
    {
     "data": {
      "application/vnd.jupyter.widget-view+json": {
       "model_id": "521c4208e4db4725b96f11fe113a5a76",
       "version_major": 2,
       "version_minor": 0
      },
      "text/plain": [
       "第 26/100 轮:   0%|          | 0/11 [00:00<?, ?it/s]"
      ]
     },
     "metadata": {},
     "output_type": "display_data"
    },
    {
     "data": {
      "application/vnd.jupyter.widget-view+json": {
       "model_id": "af29e3fe3dca45898d53c8dac84f5291",
       "version_major": 2,
       "version_minor": 0
      },
      "text/plain": [
       "第 27/100 轮:   0%|          | 0/11 [00:00<?, ?it/s]"
      ]
     },
     "metadata": {},
     "output_type": "display_data"
    },
    {
     "data": {
      "application/vnd.jupyter.widget-view+json": {
       "model_id": "79788a089f9f4f8487d498282bb09ca1",
       "version_major": 2,
       "version_minor": 0
      },
      "text/plain": [
       "第 28/100 轮:   0%|          | 0/11 [00:00<?, ?it/s]"
      ]
     },
     "metadata": {},
     "output_type": "display_data"
    },
    {
     "data": {
      "application/vnd.jupyter.widget-view+json": {
       "model_id": "4f5a93d4e20248ddac17250cd661a5e7",
       "version_major": 2,
       "version_minor": 0
      },
      "text/plain": [
       "第 29/100 轮:   0%|          | 0/11 [00:00<?, ?it/s]"
      ]
     },
     "metadata": {},
     "output_type": "display_data"
    },
    {
     "data": {
      "application/vnd.jupyter.widget-view+json": {
       "model_id": "6a02e48a38ba4a7d8caeb3666658ce7a",
       "version_major": 2,
       "version_minor": 0
      },
      "text/plain": [
       "第 30/100 轮:   0%|          | 0/11 [00:00<?, ?it/s]"
      ]
     },
     "metadata": {},
     "output_type": "display_data"
    },
    {
     "data": {
      "application/vnd.jupyter.widget-view+json": {
       "model_id": "ecdc545a4c674be7a6229a7ea1c5ff76",
       "version_major": 2,
       "version_minor": 0
      },
      "text/plain": [
       "第 31/100 轮:   0%|          | 0/11 [00:00<?, ?it/s]"
      ]
     },
     "metadata": {},
     "output_type": "display_data"
    },
    {
     "data": {
      "application/vnd.jupyter.widget-view+json": {
       "model_id": "b4e63b9d3ecb42189a101c949f2c44ce",
       "version_major": 2,
       "version_minor": 0
      },
      "text/plain": [
       "第 32/100 轮:   0%|          | 0/11 [00:00<?, ?it/s]"
      ]
     },
     "metadata": {},
     "output_type": "display_data"
    },
    {
     "data": {
      "application/vnd.jupyter.widget-view+json": {
       "model_id": "52f3c2bf61a3470ca06c4bed59b2db4a",
       "version_major": 2,
       "version_minor": 0
      },
      "text/plain": [
       "第 33/100 轮:   0%|          | 0/11 [00:00<?, ?it/s]"
      ]
     },
     "metadata": {},
     "output_type": "display_data"
    },
    {
     "data": {
      "application/vnd.jupyter.widget-view+json": {
       "model_id": "dbc8382ca6bc451ca9f5f51d5010e235",
       "version_major": 2,
       "version_minor": 0
      },
      "text/plain": [
       "第 34/100 轮:   0%|          | 0/11 [00:00<?, ?it/s]"
      ]
     },
     "metadata": {},
     "output_type": "display_data"
    },
    {
     "data": {
      "application/vnd.jupyter.widget-view+json": {
       "model_id": "f85c0b6db9bc4fb382984e52453ccbfc",
       "version_major": 2,
       "version_minor": 0
      },
      "text/plain": [
       "第 35/100 轮:   0%|          | 0/11 [00:00<?, ?it/s]"
      ]
     },
     "metadata": {},
     "output_type": "display_data"
    },
    {
     "data": {
      "application/vnd.jupyter.widget-view+json": {
       "model_id": "2c3121e600d74e2baa6ba83cd60641b0",
       "version_major": 2,
       "version_minor": 0
      },
      "text/plain": [
       "第 36/100 轮:   0%|          | 0/11 [00:00<?, ?it/s]"
      ]
     },
     "metadata": {},
     "output_type": "display_data"
    },
    {
     "data": {
      "application/vnd.jupyter.widget-view+json": {
       "model_id": "394b3b1efd2f4f2a8c6ac5e5a730e192",
       "version_major": 2,
       "version_minor": 0
      },
      "text/plain": [
       "第 37/100 轮:   0%|          | 0/11 [00:00<?, ?it/s]"
      ]
     },
     "metadata": {},
     "output_type": "display_data"
    },
    {
     "data": {
      "application/vnd.jupyter.widget-view+json": {
       "model_id": "231747ec05674a34b5e33fd3dddd63bb",
       "version_major": 2,
       "version_minor": 0
      },
      "text/plain": [
       "第 38/100 轮:   0%|          | 0/11 [00:00<?, ?it/s]"
      ]
     },
     "metadata": {},
     "output_type": "display_data"
    },
    {
     "data": {
      "application/vnd.jupyter.widget-view+json": {
       "model_id": "0ba747aed201420e91a7b0158da20ac6",
       "version_major": 2,
       "version_minor": 0
      },
      "text/plain": [
       "第 39/100 轮:   0%|          | 0/11 [00:00<?, ?it/s]"
      ]
     },
     "metadata": {},
     "output_type": "display_data"
    },
    {
     "data": {
      "application/vnd.jupyter.widget-view+json": {
       "model_id": "7ad93a01cb66400ca6cf5ada4835b7d3",
       "version_major": 2,
       "version_minor": 0
      },
      "text/plain": [
       "第 40/100 轮:   0%|          | 0/11 [00:00<?, ?it/s]"
      ]
     },
     "metadata": {},
     "output_type": "display_data"
    },
    {
     "data": {
      "application/vnd.jupyter.widget-view+json": {
       "model_id": "8b3c5f53d37342548d17ed493cc5744b",
       "version_major": 2,
       "version_minor": 0
      },
      "text/plain": [
       "第 41/100 轮:   0%|          | 0/11 [00:00<?, ?it/s]"
      ]
     },
     "metadata": {},
     "output_type": "display_data"
    },
    {
     "data": {
      "application/vnd.jupyter.widget-view+json": {
       "model_id": "c535b6fdfd194dcbbedb109bc9a8c2c4",
       "version_major": 2,
       "version_minor": 0
      },
      "text/plain": [
       "第 42/100 轮:   0%|          | 0/11 [00:00<?, ?it/s]"
      ]
     },
     "metadata": {},
     "output_type": "display_data"
    },
    {
     "data": {
      "application/vnd.jupyter.widget-view+json": {
       "model_id": "5b98bbdbdfd94f5da885a708c3e0c70e",
       "version_major": 2,
       "version_minor": 0
      },
      "text/plain": [
       "第 43/100 轮:   0%|          | 0/11 [00:00<?, ?it/s]"
      ]
     },
     "metadata": {},
     "output_type": "display_data"
    },
    {
     "data": {
      "application/vnd.jupyter.widget-view+json": {
       "model_id": "099c780a968144de888e085ac8d4ee78",
       "version_major": 2,
       "version_minor": 0
      },
      "text/plain": [
       "第 44/100 轮:   0%|          | 0/11 [00:00<?, ?it/s]"
      ]
     },
     "metadata": {},
     "output_type": "display_data"
    },
    {
     "data": {
      "application/vnd.jupyter.widget-view+json": {
       "model_id": "247c7b8880f34b2dae9fe8058fa5cda0",
       "version_major": 2,
       "version_minor": 0
      },
      "text/plain": [
       "第 45/100 轮:   0%|          | 0/11 [00:00<?, ?it/s]"
      ]
     },
     "metadata": {},
     "output_type": "display_data"
    },
    {
     "data": {
      "application/vnd.jupyter.widget-view+json": {
       "model_id": "ecc954eb8628457fbf3c6f4f2356842f",
       "version_major": 2,
       "version_minor": 0
      },
      "text/plain": [
       "第 46/100 轮:   0%|          | 0/11 [00:00<?, ?it/s]"
      ]
     },
     "metadata": {},
     "output_type": "display_data"
    },
    {
     "data": {
      "application/vnd.jupyter.widget-view+json": {
       "model_id": "e9c90d28d39348f980f64c2214980aae",
       "version_major": 2,
       "version_minor": 0
      },
      "text/plain": [
       "第 47/100 轮:   0%|          | 0/11 [00:00<?, ?it/s]"
      ]
     },
     "metadata": {},
     "output_type": "display_data"
    },
    {
     "data": {
      "application/vnd.jupyter.widget-view+json": {
       "model_id": "e4cb26d8856d42ce85b242cd5d0c446e",
       "version_major": 2,
       "version_minor": 0
      },
      "text/plain": [
       "第 48/100 轮:   0%|          | 0/11 [00:00<?, ?it/s]"
      ]
     },
     "metadata": {},
     "output_type": "display_data"
    },
    {
     "data": {
      "application/vnd.jupyter.widget-view+json": {
       "model_id": "8e0c563aa6484800896b0652d3effa2b",
       "version_major": 2,
       "version_minor": 0
      },
      "text/plain": [
       "第 49/100 轮:   0%|          | 0/11 [00:00<?, ?it/s]"
      ]
     },
     "metadata": {},
     "output_type": "display_data"
    },
    {
     "data": {
      "application/vnd.jupyter.widget-view+json": {
       "model_id": "30218413edd340f49af9a46b22b98d2e",
       "version_major": 2,
       "version_minor": 0
      },
      "text/plain": [
       "第 50/100 轮:   0%|          | 0/11 [00:00<?, ?it/s]"
      ]
     },
     "metadata": {},
     "output_type": "display_data"
    },
    {
     "data": {
      "application/vnd.jupyter.widget-view+json": {
       "model_id": "90b9bf63345b49108b1bd5c4527b5f7c",
       "version_major": 2,
       "version_minor": 0
      },
      "text/plain": [
       "第 51/100 轮:   0%|          | 0/11 [00:00<?, ?it/s]"
      ]
     },
     "metadata": {},
     "output_type": "display_data"
    },
    {
     "data": {
      "application/vnd.jupyter.widget-view+json": {
       "model_id": "a6b6b2a4ef1f490aa7a6a1c7b402d79f",
       "version_major": 2,
       "version_minor": 0
      },
      "text/plain": [
       "第 52/100 轮:   0%|          | 0/11 [00:00<?, ?it/s]"
      ]
     },
     "metadata": {},
     "output_type": "display_data"
    },
    {
     "data": {
      "application/vnd.jupyter.widget-view+json": {
       "model_id": "3de214f1c48f46bf9f3d382d87512cf7",
       "version_major": 2,
       "version_minor": 0
      },
      "text/plain": [
       "第 53/100 轮:   0%|          | 0/11 [00:00<?, ?it/s]"
      ]
     },
     "metadata": {},
     "output_type": "display_data"
    },
    {
     "data": {
      "application/vnd.jupyter.widget-view+json": {
       "model_id": "0a16e22a2c724cfe9b01fc5164e9b4ad",
       "version_major": 2,
       "version_minor": 0
      },
      "text/plain": [
       "第 54/100 轮:   0%|          | 0/11 [00:00<?, ?it/s]"
      ]
     },
     "metadata": {},
     "output_type": "display_data"
    },
    {
     "data": {
      "application/vnd.jupyter.widget-view+json": {
       "model_id": "16d5badcdeee468799b511d7698e3ee8",
       "version_major": 2,
       "version_minor": 0
      },
      "text/plain": [
       "第 55/100 轮:   0%|          | 0/11 [00:00<?, ?it/s]"
      ]
     },
     "metadata": {},
     "output_type": "display_data"
    },
    {
     "data": {
      "application/vnd.jupyter.widget-view+json": {
       "model_id": "16f8e75cafe54e7e8d1d977ee18487d3",
       "version_major": 2,
       "version_minor": 0
      },
      "text/plain": [
       "第 56/100 轮:   0%|          | 0/11 [00:00<?, ?it/s]"
      ]
     },
     "metadata": {},
     "output_type": "display_data"
    },
    {
     "data": {
      "application/vnd.jupyter.widget-view+json": {
       "model_id": "4e750b557d894a8aae0c3675f805dfe3",
       "version_major": 2,
       "version_minor": 0
      },
      "text/plain": [
       "第 57/100 轮:   0%|          | 0/11 [00:00<?, ?it/s]"
      ]
     },
     "metadata": {},
     "output_type": "display_data"
    },
    {
     "data": {
      "application/vnd.jupyter.widget-view+json": {
       "model_id": "8dcafa4bd7e34458b2845c1ed183901f",
       "version_major": 2,
       "version_minor": 0
      },
      "text/plain": [
       "第 58/100 轮:   0%|          | 0/11 [00:00<?, ?it/s]"
      ]
     },
     "metadata": {},
     "output_type": "display_data"
    },
    {
     "data": {
      "application/vnd.jupyter.widget-view+json": {
       "model_id": "8c7f0693674943a38c5496bb71e4f422",
       "version_major": 2,
       "version_minor": 0
      },
      "text/plain": [
       "第 59/100 轮:   0%|          | 0/11 [00:00<?, ?it/s]"
      ]
     },
     "metadata": {},
     "output_type": "display_data"
    },
    {
     "data": {
      "application/vnd.jupyter.widget-view+json": {
       "model_id": "40ab3cfddd1b40fd8a5607a85cb29b8c",
       "version_major": 2,
       "version_minor": 0
      },
      "text/plain": [
       "第 60/100 轮:   0%|          | 0/11 [00:00<?, ?it/s]"
      ]
     },
     "metadata": {},
     "output_type": "display_data"
    },
    {
     "data": {
      "application/vnd.jupyter.widget-view+json": {
       "model_id": "05e91e51cf354816bca5f7e27ae914b0",
       "version_major": 2,
       "version_minor": 0
      },
      "text/plain": [
       "第 61/100 轮:   0%|          | 0/11 [00:00<?, ?it/s]"
      ]
     },
     "metadata": {},
     "output_type": "display_data"
    },
    {
     "data": {
      "application/vnd.jupyter.widget-view+json": {
       "model_id": "1aa0ce3d46564b0da21f8a0a55141c56",
       "version_major": 2,
       "version_minor": 0
      },
      "text/plain": [
       "第 62/100 轮:   0%|          | 0/11 [00:00<?, ?it/s]"
      ]
     },
     "metadata": {},
     "output_type": "display_data"
    },
    {
     "data": {
      "application/vnd.jupyter.widget-view+json": {
       "model_id": "a5966f1e265a43dcb431c0320c670c2b",
       "version_major": 2,
       "version_minor": 0
      },
      "text/plain": [
       "第 63/100 轮:   0%|          | 0/11 [00:00<?, ?it/s]"
      ]
     },
     "metadata": {},
     "output_type": "display_data"
    },
    {
     "data": {
      "application/vnd.jupyter.widget-view+json": {
       "model_id": "bf78f46284c34f38be7709cb72292256",
       "version_major": 2,
       "version_minor": 0
      },
      "text/plain": [
       "第 64/100 轮:   0%|          | 0/11 [00:00<?, ?it/s]"
      ]
     },
     "metadata": {},
     "output_type": "display_data"
    },
    {
     "data": {
      "application/vnd.jupyter.widget-view+json": {
       "model_id": "b373541ff3074713ab45913e7e9f93d9",
       "version_major": 2,
       "version_minor": 0
      },
      "text/plain": [
       "第 65/100 轮:   0%|          | 0/11 [00:00<?, ?it/s]"
      ]
     },
     "metadata": {},
     "output_type": "display_data"
    },
    {
     "data": {
      "application/vnd.jupyter.widget-view+json": {
       "model_id": "bb13338d63474d4f8197ee07b47992e3",
       "version_major": 2,
       "version_minor": 0
      },
      "text/plain": [
       "第 66/100 轮:   0%|          | 0/11 [00:00<?, ?it/s]"
      ]
     },
     "metadata": {},
     "output_type": "display_data"
    },
    {
     "data": {
      "application/vnd.jupyter.widget-view+json": {
       "model_id": "3edbd59d63fd44d1a960d8d4266e5dfc",
       "version_major": 2,
       "version_minor": 0
      },
      "text/plain": [
       "第 67/100 轮:   0%|          | 0/11 [00:00<?, ?it/s]"
      ]
     },
     "metadata": {},
     "output_type": "display_data"
    },
    {
     "data": {
      "application/vnd.jupyter.widget-view+json": {
       "model_id": "c5e951f8c33b4c168ab1f2efc84e8782",
       "version_major": 2,
       "version_minor": 0
      },
      "text/plain": [
       "第 68/100 轮:   0%|          | 0/11 [00:00<?, ?it/s]"
      ]
     },
     "metadata": {},
     "output_type": "display_data"
    },
    {
     "data": {
      "application/vnd.jupyter.widget-view+json": {
       "model_id": "ddde39bd3e2b43a6b7424f9a56491635",
       "version_major": 2,
       "version_minor": 0
      },
      "text/plain": [
       "第 69/100 轮:   0%|          | 0/11 [00:00<?, ?it/s]"
      ]
     },
     "metadata": {},
     "output_type": "display_data"
    },
    {
     "data": {
      "application/vnd.jupyter.widget-view+json": {
       "model_id": "17f85104f66b4f7cbbb2bd49ed503264",
       "version_major": 2,
       "version_minor": 0
      },
      "text/plain": [
       "第 70/100 轮:   0%|          | 0/11 [00:00<?, ?it/s]"
      ]
     },
     "metadata": {},
     "output_type": "display_data"
    },
    {
     "data": {
      "application/vnd.jupyter.widget-view+json": {
       "model_id": "f07e35954d314434b099af027a02339d",
       "version_major": 2,
       "version_minor": 0
      },
      "text/plain": [
       "第 71/100 轮:   0%|          | 0/11 [00:00<?, ?it/s]"
      ]
     },
     "metadata": {},
     "output_type": "display_data"
    },
    {
     "data": {
      "application/vnd.jupyter.widget-view+json": {
       "model_id": "52df482a0019428f8a60a8cf1645b829",
       "version_major": 2,
       "version_minor": 0
      },
      "text/plain": [
       "第 72/100 轮:   0%|          | 0/11 [00:00<?, ?it/s]"
      ]
     },
     "metadata": {},
     "output_type": "display_data"
    },
    {
     "data": {
      "application/vnd.jupyter.widget-view+json": {
       "model_id": "51ba1ee9efc14df4a4a98e93d8717c4e",
       "version_major": 2,
       "version_minor": 0
      },
      "text/plain": [
       "第 73/100 轮:   0%|          | 0/11 [00:00<?, ?it/s]"
      ]
     },
     "metadata": {},
     "output_type": "display_data"
    },
    {
     "data": {
      "application/vnd.jupyter.widget-view+json": {
       "model_id": "e2c2b6d37dd449549c715a6e298992f3",
       "version_major": 2,
       "version_minor": 0
      },
      "text/plain": [
       "第 74/100 轮:   0%|          | 0/11 [00:00<?, ?it/s]"
      ]
     },
     "metadata": {},
     "output_type": "display_data"
    },
    {
     "data": {
      "application/vnd.jupyter.widget-view+json": {
       "model_id": "71691279fa64435b9bcf403142509699",
       "version_major": 2,
       "version_minor": 0
      },
      "text/plain": [
       "第 75/100 轮:   0%|          | 0/11 [00:00<?, ?it/s]"
      ]
     },
     "metadata": {},
     "output_type": "display_data"
    },
    {
     "data": {
      "application/vnd.jupyter.widget-view+json": {
       "model_id": "2c23d56c4a244b3fa69c2e27662be2bc",
       "version_major": 2,
       "version_minor": 0
      },
      "text/plain": [
       "第 76/100 轮:   0%|          | 0/11 [00:00<?, ?it/s]"
      ]
     },
     "metadata": {},
     "output_type": "display_data"
    },
    {
     "data": {
      "application/vnd.jupyter.widget-view+json": {
       "model_id": "112cde49ad504ea99b0832bd441cf17a",
       "version_major": 2,
       "version_minor": 0
      },
      "text/plain": [
       "第 77/100 轮:   0%|          | 0/11 [00:00<?, ?it/s]"
      ]
     },
     "metadata": {},
     "output_type": "display_data"
    },
    {
     "data": {
      "application/vnd.jupyter.widget-view+json": {
       "model_id": "61a8387b43544aeca84458872404bb75",
       "version_major": 2,
       "version_minor": 0
      },
      "text/plain": [
       "第 78/100 轮:   0%|          | 0/11 [00:00<?, ?it/s]"
      ]
     },
     "metadata": {},
     "output_type": "display_data"
    },
    {
     "data": {
      "application/vnd.jupyter.widget-view+json": {
       "model_id": "5e7d723257be463fb7ffa366c25f1a56",
       "version_major": 2,
       "version_minor": 0
      },
      "text/plain": [
       "第 79/100 轮:   0%|          | 0/11 [00:00<?, ?it/s]"
      ]
     },
     "metadata": {},
     "output_type": "display_data"
    },
    {
     "data": {
      "application/vnd.jupyter.widget-view+json": {
       "model_id": "586e33a084634eadbbfbf4295dab33bf",
       "version_major": 2,
       "version_minor": 0
      },
      "text/plain": [
       "第 80/100 轮:   0%|          | 0/11 [00:00<?, ?it/s]"
      ]
     },
     "metadata": {},
     "output_type": "display_data"
    },
    {
     "data": {
      "application/vnd.jupyter.widget-view+json": {
       "model_id": "b7a83ea8197f4c72aaffa25a61a470ab",
       "version_major": 2,
       "version_minor": 0
      },
      "text/plain": [
       "第 81/100 轮:   0%|          | 0/11 [00:00<?, ?it/s]"
      ]
     },
     "metadata": {},
     "output_type": "display_data"
    },
    {
     "data": {
      "application/vnd.jupyter.widget-view+json": {
       "model_id": "e1a427ca35654ce18d90bc92f8d684db",
       "version_major": 2,
       "version_minor": 0
      },
      "text/plain": [
       "第 82/100 轮:   0%|          | 0/11 [00:00<?, ?it/s]"
      ]
     },
     "metadata": {},
     "output_type": "display_data"
    },
    {
     "data": {
      "application/vnd.jupyter.widget-view+json": {
       "model_id": "bd702845871a4343ab26f673a4129841",
       "version_major": 2,
       "version_minor": 0
      },
      "text/plain": [
       "第 83/100 轮:   0%|          | 0/11 [00:00<?, ?it/s]"
      ]
     },
     "metadata": {},
     "output_type": "display_data"
    },
    {
     "data": {
      "application/vnd.jupyter.widget-view+json": {
       "model_id": "15d431c5b23b4d498c3afbfab5186055",
       "version_major": 2,
       "version_minor": 0
      },
      "text/plain": [
       "第 84/100 轮:   0%|          | 0/11 [00:00<?, ?it/s]"
      ]
     },
     "metadata": {},
     "output_type": "display_data"
    },
    {
     "data": {
      "application/vnd.jupyter.widget-view+json": {
       "model_id": "329cfd4edc48458b82da8821bf5a95d5",
       "version_major": 2,
       "version_minor": 0
      },
      "text/plain": [
       "第 85/100 轮:   0%|          | 0/11 [00:00<?, ?it/s]"
      ]
     },
     "metadata": {},
     "output_type": "display_data"
    },
    {
     "data": {
      "application/vnd.jupyter.widget-view+json": {
       "model_id": "e0e512e0c1aa49c49275308643ca3808",
       "version_major": 2,
       "version_minor": 0
      },
      "text/plain": [
       "第 86/100 轮:   0%|          | 0/11 [00:00<?, ?it/s]"
      ]
     },
     "metadata": {},
     "output_type": "display_data"
    },
    {
     "data": {
      "application/vnd.jupyter.widget-view+json": {
       "model_id": "3f2d85ea70ef4c00b743b7af21b5697d",
       "version_major": 2,
       "version_minor": 0
      },
      "text/plain": [
       "第 87/100 轮:   0%|          | 0/11 [00:00<?, ?it/s]"
      ]
     },
     "metadata": {},
     "output_type": "display_data"
    },
    {
     "data": {
      "application/vnd.jupyter.widget-view+json": {
       "model_id": "074c322e9c04481c94c4c287dd41a04b",
       "version_major": 2,
       "version_minor": 0
      },
      "text/plain": [
       "第 88/100 轮:   0%|          | 0/11 [00:00<?, ?it/s]"
      ]
     },
     "metadata": {},
     "output_type": "display_data"
    },
    {
     "data": {
      "application/vnd.jupyter.widget-view+json": {
       "model_id": "145258cdb4f043b1bb11ef77e0930245",
       "version_major": 2,
       "version_minor": 0
      },
      "text/plain": [
       "第 89/100 轮:   0%|          | 0/11 [00:00<?, ?it/s]"
      ]
     },
     "metadata": {},
     "output_type": "display_data"
    },
    {
     "data": {
      "application/vnd.jupyter.widget-view+json": {
       "model_id": "a6e95b7e2e6e4acdab72dfe4d8169cb5",
       "version_major": 2,
       "version_minor": 0
      },
      "text/plain": [
       "第 90/100 轮:   0%|          | 0/11 [00:00<?, ?it/s]"
      ]
     },
     "metadata": {},
     "output_type": "display_data"
    },
    {
     "data": {
      "application/vnd.jupyter.widget-view+json": {
       "model_id": "676a0facfdfd48799049ec313a33d9a6",
       "version_major": 2,
       "version_minor": 0
      },
      "text/plain": [
       "第 91/100 轮:   0%|          | 0/11 [00:00<?, ?it/s]"
      ]
     },
     "metadata": {},
     "output_type": "display_data"
    },
    {
     "data": {
      "application/vnd.jupyter.widget-view+json": {
       "model_id": "b6814444b69140448a9f5d7832cfef13",
       "version_major": 2,
       "version_minor": 0
      },
      "text/plain": [
       "第 92/100 轮:   0%|          | 0/11 [00:00<?, ?it/s]"
      ]
     },
     "metadata": {},
     "output_type": "display_data"
    },
    {
     "data": {
      "application/vnd.jupyter.widget-view+json": {
       "model_id": "b11e33102fa04c86b19cd4e5a9dd2621",
       "version_major": 2,
       "version_minor": 0
      },
      "text/plain": [
       "第 93/100 轮:   0%|          | 0/11 [00:00<?, ?it/s]"
      ]
     },
     "metadata": {},
     "output_type": "display_data"
    },
    {
     "data": {
      "application/vnd.jupyter.widget-view+json": {
       "model_id": "562716f1506b4a97816e885a657155c9",
       "version_major": 2,
       "version_minor": 0
      },
      "text/plain": [
       "第 94/100 轮:   0%|          | 0/11 [00:00<?, ?it/s]"
      ]
     },
     "metadata": {},
     "output_type": "display_data"
    },
    {
     "data": {
      "application/vnd.jupyter.widget-view+json": {
       "model_id": "353ca60fc813474b953e4083e5ed84ef",
       "version_major": 2,
       "version_minor": 0
      },
      "text/plain": [
       "第 95/100 轮:   0%|          | 0/11 [00:00<?, ?it/s]"
      ]
     },
     "metadata": {},
     "output_type": "display_data"
    },
    {
     "data": {
      "application/vnd.jupyter.widget-view+json": {
       "model_id": "3526643ce914476d97ba226a7ba820fa",
       "version_major": 2,
       "version_minor": 0
      },
      "text/plain": [
       "第 96/100 轮:   0%|          | 0/11 [00:00<?, ?it/s]"
      ]
     },
     "metadata": {},
     "output_type": "display_data"
    },
    {
     "data": {
      "application/vnd.jupyter.widget-view+json": {
       "model_id": "144374b327a647a0bbd18ae9dbaccf75",
       "version_major": 2,
       "version_minor": 0
      },
      "text/plain": [
       "第 97/100 轮:   0%|          | 0/11 [00:00<?, ?it/s]"
      ]
     },
     "metadata": {},
     "output_type": "display_data"
    },
    {
     "data": {
      "application/vnd.jupyter.widget-view+json": {
       "model_id": "64378919e4b44a17a8107342939a89f2",
       "version_major": 2,
       "version_minor": 0
      },
      "text/plain": [
       "第 98/100 轮:   0%|          | 0/11 [00:00<?, ?it/s]"
      ]
     },
     "metadata": {},
     "output_type": "display_data"
    },
    {
     "data": {
      "application/vnd.jupyter.widget-view+json": {
       "model_id": "3862308e8bd24a5f9739127b6d83aec5",
       "version_major": 2,
       "version_minor": 0
      },
      "text/plain": [
       "第 99/100 轮:   0%|          | 0/11 [00:00<?, ?it/s]"
      ]
     },
     "metadata": {},
     "output_type": "display_data"
    },
    {
     "data": {
      "application/vnd.jupyter.widget-view+json": {
       "model_id": "3346c59022514d4682b05227a97cc3eb",
       "version_major": 2,
       "version_minor": 0
      },
      "text/plain": [
       "第 100/100 轮:   0%|          | 0/11 [00:00<?, ?it/s]"
      ]
     },
     "metadata": {},
     "output_type": "display_data"
    },
    {
     "name": "stdout",
     "output_type": "stream",
     "text": [
      "Fold 3 - Epoch 100: Best Correlation Coefficient: 0.5744\n"
     ]
    },
    {
     "data": {
      "application/vnd.jupyter.widget-view+json": {
       "model_id": "3b13f9d6873446dfb12b74957364fda2",
       "version_major": 2,
       "version_minor": 0
      },
      "text/plain": [
       "第 1/100 轮:   0%|          | 0/11 [00:00<?, ?it/s]"
      ]
     },
     "metadata": {},
     "output_type": "display_data"
    },
    {
     "data": {
      "application/vnd.jupyter.widget-view+json": {
       "model_id": "ff1453fb26c04c6fba40572fea092781",
       "version_major": 2,
       "version_minor": 0
      },
      "text/plain": [
       "第 2/100 轮:   0%|          | 0/11 [00:00<?, ?it/s]"
      ]
     },
     "metadata": {},
     "output_type": "display_data"
    },
    {
     "data": {
      "application/vnd.jupyter.widget-view+json": {
       "model_id": "c95a214cab8e4aebb39c45829e2aaa08",
       "version_major": 2,
       "version_minor": 0
      },
      "text/plain": [
       "第 3/100 轮:   0%|          | 0/11 [00:00<?, ?it/s]"
      ]
     },
     "metadata": {},
     "output_type": "display_data"
    },
    {
     "data": {
      "application/vnd.jupyter.widget-view+json": {
       "model_id": "ea43e0c8103f4ffeb6a29f7ed5355098",
       "version_major": 2,
       "version_minor": 0
      },
      "text/plain": [
       "第 4/100 轮:   0%|          | 0/11 [00:00<?, ?it/s]"
      ]
     },
     "metadata": {},
     "output_type": "display_data"
    },
    {
     "data": {
      "application/vnd.jupyter.widget-view+json": {
       "model_id": "b6ae9278d932404a93c6492f3a6ceabd",
       "version_major": 2,
       "version_minor": 0
      },
      "text/plain": [
       "第 5/100 轮:   0%|          | 0/11 [00:00<?, ?it/s]"
      ]
     },
     "metadata": {},
     "output_type": "display_data"
    },
    {
     "data": {
      "application/vnd.jupyter.widget-view+json": {
       "model_id": "6ff8c4733ec84ac6b076a8a7c30e9900",
       "version_major": 2,
       "version_minor": 0
      },
      "text/plain": [
       "第 6/100 轮:   0%|          | 0/11 [00:00<?, ?it/s]"
      ]
     },
     "metadata": {},
     "output_type": "display_data"
    },
    {
     "data": {
      "application/vnd.jupyter.widget-view+json": {
       "model_id": "71ef7b2f04d74804a18ec247f5c5bde3",
       "version_major": 2,
       "version_minor": 0
      },
      "text/plain": [
       "第 7/100 轮:   0%|          | 0/11 [00:00<?, ?it/s]"
      ]
     },
     "metadata": {},
     "output_type": "display_data"
    },
    {
     "data": {
      "application/vnd.jupyter.widget-view+json": {
       "model_id": "aa6acf28c4604cf6bef49d7eb3bf7f2f",
       "version_major": 2,
       "version_minor": 0
      },
      "text/plain": [
       "第 8/100 轮:   0%|          | 0/11 [00:00<?, ?it/s]"
      ]
     },
     "metadata": {},
     "output_type": "display_data"
    },
    {
     "data": {
      "application/vnd.jupyter.widget-view+json": {
       "model_id": "10c54ca184a7411cb83d8efdf09f8e98",
       "version_major": 2,
       "version_minor": 0
      },
      "text/plain": [
       "第 9/100 轮:   0%|          | 0/11 [00:00<?, ?it/s]"
      ]
     },
     "metadata": {},
     "output_type": "display_data"
    },
    {
     "data": {
      "application/vnd.jupyter.widget-view+json": {
       "model_id": "0badead7acc94ffaa2a8ae5bea13df21",
       "version_major": 2,
       "version_minor": 0
      },
      "text/plain": [
       "第 10/100 轮:   0%|          | 0/11 [00:00<?, ?it/s]"
      ]
     },
     "metadata": {},
     "output_type": "display_data"
    },
    {
     "data": {
      "application/vnd.jupyter.widget-view+json": {
       "model_id": "5088f56d3fb94c528015487f731c3bac",
       "version_major": 2,
       "version_minor": 0
      },
      "text/plain": [
       "第 11/100 轮:   0%|          | 0/11 [00:00<?, ?it/s]"
      ]
     },
     "metadata": {},
     "output_type": "display_data"
    },
    {
     "data": {
      "application/vnd.jupyter.widget-view+json": {
       "model_id": "57b7bafce5e8478797f88660f64f503b",
       "version_major": 2,
       "version_minor": 0
      },
      "text/plain": [
       "第 12/100 轮:   0%|          | 0/11 [00:00<?, ?it/s]"
      ]
     },
     "metadata": {},
     "output_type": "display_data"
    },
    {
     "data": {
      "application/vnd.jupyter.widget-view+json": {
       "model_id": "a2484499742a44cd8da2e7dce1299475",
       "version_major": 2,
       "version_minor": 0
      },
      "text/plain": [
       "第 13/100 轮:   0%|          | 0/11 [00:00<?, ?it/s]"
      ]
     },
     "metadata": {},
     "output_type": "display_data"
    },
    {
     "data": {
      "application/vnd.jupyter.widget-view+json": {
       "model_id": "4bdc1f26c548472ca405b501e0e80d58",
       "version_major": 2,
       "version_minor": 0
      },
      "text/plain": [
       "第 14/100 轮:   0%|          | 0/11 [00:00<?, ?it/s]"
      ]
     },
     "metadata": {},
     "output_type": "display_data"
    },
    {
     "data": {
      "application/vnd.jupyter.widget-view+json": {
       "model_id": "2876796c980948ae9f2bd7218d322525",
       "version_major": 2,
       "version_minor": 0
      },
      "text/plain": [
       "第 15/100 轮:   0%|          | 0/11 [00:00<?, ?it/s]"
      ]
     },
     "metadata": {},
     "output_type": "display_data"
    },
    {
     "data": {
      "application/vnd.jupyter.widget-view+json": {
       "model_id": "df4d62b584c2415a91147f717f1ab8b0",
       "version_major": 2,
       "version_minor": 0
      },
      "text/plain": [
       "第 16/100 轮:   0%|          | 0/11 [00:00<?, ?it/s]"
      ]
     },
     "metadata": {},
     "output_type": "display_data"
    },
    {
     "data": {
      "application/vnd.jupyter.widget-view+json": {
       "model_id": "db6d6383ab4e455597f91c480bebee11",
       "version_major": 2,
       "version_minor": 0
      },
      "text/plain": [
       "第 17/100 轮:   0%|          | 0/11 [00:00<?, ?it/s]"
      ]
     },
     "metadata": {},
     "output_type": "display_data"
    },
    {
     "data": {
      "application/vnd.jupyter.widget-view+json": {
       "model_id": "c104484b3cbc43c4b0d0b6a869fb57a7",
       "version_major": 2,
       "version_minor": 0
      },
      "text/plain": [
       "第 18/100 轮:   0%|          | 0/11 [00:00<?, ?it/s]"
      ]
     },
     "metadata": {},
     "output_type": "display_data"
    },
    {
     "data": {
      "application/vnd.jupyter.widget-view+json": {
       "model_id": "0085298a1df340aba330552082bafbcf",
       "version_major": 2,
       "version_minor": 0
      },
      "text/plain": [
       "第 19/100 轮:   0%|          | 0/11 [00:00<?, ?it/s]"
      ]
     },
     "metadata": {},
     "output_type": "display_data"
    },
    {
     "data": {
      "application/vnd.jupyter.widget-view+json": {
       "model_id": "69c598379010408eab52ca94a17a3416",
       "version_major": 2,
       "version_minor": 0
      },
      "text/plain": [
       "第 20/100 轮:   0%|          | 0/11 [00:00<?, ?it/s]"
      ]
     },
     "metadata": {},
     "output_type": "display_data"
    },
    {
     "data": {
      "application/vnd.jupyter.widget-view+json": {
       "model_id": "a23e45598f5946008030faddf9a5e914",
       "version_major": 2,
       "version_minor": 0
      },
      "text/plain": [
       "第 21/100 轮:   0%|          | 0/11 [00:00<?, ?it/s]"
      ]
     },
     "metadata": {},
     "output_type": "display_data"
    },
    {
     "data": {
      "application/vnd.jupyter.widget-view+json": {
       "model_id": "5e57c5277a4b48ae8c43f984f4d321f5",
       "version_major": 2,
       "version_minor": 0
      },
      "text/plain": [
       "第 22/100 轮:   0%|          | 0/11 [00:00<?, ?it/s]"
      ]
     },
     "metadata": {},
     "output_type": "display_data"
    },
    {
     "data": {
      "application/vnd.jupyter.widget-view+json": {
       "model_id": "5496b24816d94d599a220ac639e9c9a7",
       "version_major": 2,
       "version_minor": 0
      },
      "text/plain": [
       "第 23/100 轮:   0%|          | 0/11 [00:00<?, ?it/s]"
      ]
     },
     "metadata": {},
     "output_type": "display_data"
    },
    {
     "data": {
      "application/vnd.jupyter.widget-view+json": {
       "model_id": "b8fe3dc2e53140e1980c7b1c1c536549",
       "version_major": 2,
       "version_minor": 0
      },
      "text/plain": [
       "第 24/100 轮:   0%|          | 0/11 [00:00<?, ?it/s]"
      ]
     },
     "metadata": {},
     "output_type": "display_data"
    },
    {
     "data": {
      "application/vnd.jupyter.widget-view+json": {
       "model_id": "83891f87893e4177b17fd44682d029b7",
       "version_major": 2,
       "version_minor": 0
      },
      "text/plain": [
       "第 25/100 轮:   0%|          | 0/11 [00:00<?, ?it/s]"
      ]
     },
     "metadata": {},
     "output_type": "display_data"
    },
    {
     "data": {
      "application/vnd.jupyter.widget-view+json": {
       "model_id": "177991e483ce433cb954731bfd1deccf",
       "version_major": 2,
       "version_minor": 0
      },
      "text/plain": [
       "第 26/100 轮:   0%|          | 0/11 [00:00<?, ?it/s]"
      ]
     },
     "metadata": {},
     "output_type": "display_data"
    },
    {
     "data": {
      "application/vnd.jupyter.widget-view+json": {
       "model_id": "4e498471ae5049bbaf0e9b1a8b97d3b6",
       "version_major": 2,
       "version_minor": 0
      },
      "text/plain": [
       "第 27/100 轮:   0%|          | 0/11 [00:00<?, ?it/s]"
      ]
     },
     "metadata": {},
     "output_type": "display_data"
    },
    {
     "data": {
      "application/vnd.jupyter.widget-view+json": {
       "model_id": "b7a731e199494df29b442d10470faa27",
       "version_major": 2,
       "version_minor": 0
      },
      "text/plain": [
       "第 28/100 轮:   0%|          | 0/11 [00:00<?, ?it/s]"
      ]
     },
     "metadata": {},
     "output_type": "display_data"
    },
    {
     "data": {
      "application/vnd.jupyter.widget-view+json": {
       "model_id": "417d4c5319524344ba1fe726758fc3b8",
       "version_major": 2,
       "version_minor": 0
      },
      "text/plain": [
       "第 29/100 轮:   0%|          | 0/11 [00:00<?, ?it/s]"
      ]
     },
     "metadata": {},
     "output_type": "display_data"
    },
    {
     "data": {
      "application/vnd.jupyter.widget-view+json": {
       "model_id": "487bfa8a38894331b9c63636aab59158",
       "version_major": 2,
       "version_minor": 0
      },
      "text/plain": [
       "第 30/100 轮:   0%|          | 0/11 [00:00<?, ?it/s]"
      ]
     },
     "metadata": {},
     "output_type": "display_data"
    },
    {
     "data": {
      "application/vnd.jupyter.widget-view+json": {
       "model_id": "a57ff6e3f7364ba4ab4b9a090a120565",
       "version_major": 2,
       "version_minor": 0
      },
      "text/plain": [
       "第 31/100 轮:   0%|          | 0/11 [00:00<?, ?it/s]"
      ]
     },
     "metadata": {},
     "output_type": "display_data"
    },
    {
     "data": {
      "application/vnd.jupyter.widget-view+json": {
       "model_id": "4afbaae8e93d43cea9c9c05f087d3e1a",
       "version_major": 2,
       "version_minor": 0
      },
      "text/plain": [
       "第 32/100 轮:   0%|          | 0/11 [00:00<?, ?it/s]"
      ]
     },
     "metadata": {},
     "output_type": "display_data"
    },
    {
     "data": {
      "application/vnd.jupyter.widget-view+json": {
       "model_id": "e3a51412e0684a37a9dbddd7b70780b6",
       "version_major": 2,
       "version_minor": 0
      },
      "text/plain": [
       "第 33/100 轮:   0%|          | 0/11 [00:00<?, ?it/s]"
      ]
     },
     "metadata": {},
     "output_type": "display_data"
    },
    {
     "data": {
      "application/vnd.jupyter.widget-view+json": {
       "model_id": "2e8db8a621a648fe855bfece1fa7c53a",
       "version_major": 2,
       "version_minor": 0
      },
      "text/plain": [
       "第 34/100 轮:   0%|          | 0/11 [00:00<?, ?it/s]"
      ]
     },
     "metadata": {},
     "output_type": "display_data"
    },
    {
     "data": {
      "application/vnd.jupyter.widget-view+json": {
       "model_id": "b253e58627b14f07b03af3d766459d06",
       "version_major": 2,
       "version_minor": 0
      },
      "text/plain": [
       "第 35/100 轮:   0%|          | 0/11 [00:00<?, ?it/s]"
      ]
     },
     "metadata": {},
     "output_type": "display_data"
    },
    {
     "data": {
      "application/vnd.jupyter.widget-view+json": {
       "model_id": "f11f21bda6e345da876cca15b2471868",
       "version_major": 2,
       "version_minor": 0
      },
      "text/plain": [
       "第 36/100 轮:   0%|          | 0/11 [00:00<?, ?it/s]"
      ]
     },
     "metadata": {},
     "output_type": "display_data"
    },
    {
     "data": {
      "application/vnd.jupyter.widget-view+json": {
       "model_id": "d745496ebfe54cbba263ec44c875ae77",
       "version_major": 2,
       "version_minor": 0
      },
      "text/plain": [
       "第 37/100 轮:   0%|          | 0/11 [00:00<?, ?it/s]"
      ]
     },
     "metadata": {},
     "output_type": "display_data"
    },
    {
     "data": {
      "application/vnd.jupyter.widget-view+json": {
       "model_id": "456c3b2ed0f84d9eb6780072225eb287",
       "version_major": 2,
       "version_minor": 0
      },
      "text/plain": [
       "第 38/100 轮:   0%|          | 0/11 [00:00<?, ?it/s]"
      ]
     },
     "metadata": {},
     "output_type": "display_data"
    },
    {
     "data": {
      "application/vnd.jupyter.widget-view+json": {
       "model_id": "3a7966eef6ce43799510e63a934bf352",
       "version_major": 2,
       "version_minor": 0
      },
      "text/plain": [
       "第 39/100 轮:   0%|          | 0/11 [00:00<?, ?it/s]"
      ]
     },
     "metadata": {},
     "output_type": "display_data"
    },
    {
     "data": {
      "application/vnd.jupyter.widget-view+json": {
       "model_id": "fc76c432f4894bb197fea8f2d624ef3e",
       "version_major": 2,
       "version_minor": 0
      },
      "text/plain": [
       "第 40/100 轮:   0%|          | 0/11 [00:00<?, ?it/s]"
      ]
     },
     "metadata": {},
     "output_type": "display_data"
    },
    {
     "data": {
      "application/vnd.jupyter.widget-view+json": {
       "model_id": "4c6b2cf7a88344dbb9fb706b1aae67a2",
       "version_major": 2,
       "version_minor": 0
      },
      "text/plain": [
       "第 41/100 轮:   0%|          | 0/11 [00:00<?, ?it/s]"
      ]
     },
     "metadata": {},
     "output_type": "display_data"
    },
    {
     "data": {
      "application/vnd.jupyter.widget-view+json": {
       "model_id": "9b05507842644537b6a2dcb3dcf3c275",
       "version_major": 2,
       "version_minor": 0
      },
      "text/plain": [
       "第 42/100 轮:   0%|          | 0/11 [00:00<?, ?it/s]"
      ]
     },
     "metadata": {},
     "output_type": "display_data"
    },
    {
     "data": {
      "application/vnd.jupyter.widget-view+json": {
       "model_id": "b28d403163d44853be7a9f6322dc6264",
       "version_major": 2,
       "version_minor": 0
      },
      "text/plain": [
       "第 43/100 轮:   0%|          | 0/11 [00:00<?, ?it/s]"
      ]
     },
     "metadata": {},
     "output_type": "display_data"
    },
    {
     "data": {
      "application/vnd.jupyter.widget-view+json": {
       "model_id": "9fa091caf04a4b49ac1a9a38e1aa029b",
       "version_major": 2,
       "version_minor": 0
      },
      "text/plain": [
       "第 44/100 轮:   0%|          | 0/11 [00:00<?, ?it/s]"
      ]
     },
     "metadata": {},
     "output_type": "display_data"
    },
    {
     "data": {
      "application/vnd.jupyter.widget-view+json": {
       "model_id": "e5a96d43bcf944c09ee610c13f9ed8ad",
       "version_major": 2,
       "version_minor": 0
      },
      "text/plain": [
       "第 45/100 轮:   0%|          | 0/11 [00:00<?, ?it/s]"
      ]
     },
     "metadata": {},
     "output_type": "display_data"
    },
    {
     "data": {
      "application/vnd.jupyter.widget-view+json": {
       "model_id": "0835737ac20a420d953ea1b625161900",
       "version_major": 2,
       "version_minor": 0
      },
      "text/plain": [
       "第 46/100 轮:   0%|          | 0/11 [00:00<?, ?it/s]"
      ]
     },
     "metadata": {},
     "output_type": "display_data"
    },
    {
     "data": {
      "application/vnd.jupyter.widget-view+json": {
       "model_id": "efc807ac953741f2a97fefec36ddc35c",
       "version_major": 2,
       "version_minor": 0
      },
      "text/plain": [
       "第 47/100 轮:   0%|          | 0/11 [00:00<?, ?it/s]"
      ]
     },
     "metadata": {},
     "output_type": "display_data"
    },
    {
     "data": {
      "application/vnd.jupyter.widget-view+json": {
       "model_id": "c583843a366a4b67ae4313b1e8fb779e",
       "version_major": 2,
       "version_minor": 0
      },
      "text/plain": [
       "第 48/100 轮:   0%|          | 0/11 [00:00<?, ?it/s]"
      ]
     },
     "metadata": {},
     "output_type": "display_data"
    },
    {
     "data": {
      "application/vnd.jupyter.widget-view+json": {
       "model_id": "0fe7a4c223a84f50a8c3df5245ad3e0b",
       "version_major": 2,
       "version_minor": 0
      },
      "text/plain": [
       "第 49/100 轮:   0%|          | 0/11 [00:00<?, ?it/s]"
      ]
     },
     "metadata": {},
     "output_type": "display_data"
    },
    {
     "data": {
      "application/vnd.jupyter.widget-view+json": {
       "model_id": "84fb2b7271094b4b897a861727f1061c",
       "version_major": 2,
       "version_minor": 0
      },
      "text/plain": [
       "第 50/100 轮:   0%|          | 0/11 [00:00<?, ?it/s]"
      ]
     },
     "metadata": {},
     "output_type": "display_data"
    },
    {
     "data": {
      "application/vnd.jupyter.widget-view+json": {
       "model_id": "a6b23ce95d824cf68ecda9b66955912f",
       "version_major": 2,
       "version_minor": 0
      },
      "text/plain": [
       "第 51/100 轮:   0%|          | 0/11 [00:00<?, ?it/s]"
      ]
     },
     "metadata": {},
     "output_type": "display_data"
    },
    {
     "data": {
      "application/vnd.jupyter.widget-view+json": {
       "model_id": "288e4b2c4cb2459ea0f7d69dfb0c9fdf",
       "version_major": 2,
       "version_minor": 0
      },
      "text/plain": [
       "第 52/100 轮:   0%|          | 0/11 [00:00<?, ?it/s]"
      ]
     },
     "metadata": {},
     "output_type": "display_data"
    },
    {
     "data": {
      "application/vnd.jupyter.widget-view+json": {
       "model_id": "b1b8d5bc2017435bb940d05e4bdb1b5d",
       "version_major": 2,
       "version_minor": 0
      },
      "text/plain": [
       "第 53/100 轮:   0%|          | 0/11 [00:00<?, ?it/s]"
      ]
     },
     "metadata": {},
     "output_type": "display_data"
    },
    {
     "data": {
      "application/vnd.jupyter.widget-view+json": {
       "model_id": "78a8c99e49c34b21a9367f337924a489",
       "version_major": 2,
       "version_minor": 0
      },
      "text/plain": [
       "第 54/100 轮:   0%|          | 0/11 [00:00<?, ?it/s]"
      ]
     },
     "metadata": {},
     "output_type": "display_data"
    },
    {
     "data": {
      "application/vnd.jupyter.widget-view+json": {
       "model_id": "ba7040b1e5e946b197d1b05c5add6995",
       "version_major": 2,
       "version_minor": 0
      },
      "text/plain": [
       "第 55/100 轮:   0%|          | 0/11 [00:00<?, ?it/s]"
      ]
     },
     "metadata": {},
     "output_type": "display_data"
    },
    {
     "data": {
      "application/vnd.jupyter.widget-view+json": {
       "model_id": "95373f0f169145318b6f57a710a9738a",
       "version_major": 2,
       "version_minor": 0
      },
      "text/plain": [
       "第 56/100 轮:   0%|          | 0/11 [00:00<?, ?it/s]"
      ]
     },
     "metadata": {},
     "output_type": "display_data"
    },
    {
     "data": {
      "application/vnd.jupyter.widget-view+json": {
       "model_id": "fb4ff5566c1847b79adf37f651a78075",
       "version_major": 2,
       "version_minor": 0
      },
      "text/plain": [
       "第 57/100 轮:   0%|          | 0/11 [00:00<?, ?it/s]"
      ]
     },
     "metadata": {},
     "output_type": "display_data"
    },
    {
     "data": {
      "application/vnd.jupyter.widget-view+json": {
       "model_id": "f26f5a56171341aba16f336ec3c4895f",
       "version_major": 2,
       "version_minor": 0
      },
      "text/plain": [
       "第 58/100 轮:   0%|          | 0/11 [00:00<?, ?it/s]"
      ]
     },
     "metadata": {},
     "output_type": "display_data"
    },
    {
     "data": {
      "application/vnd.jupyter.widget-view+json": {
       "model_id": "fe6e79e101884991801a1cefaf2ff694",
       "version_major": 2,
       "version_minor": 0
      },
      "text/plain": [
       "第 59/100 轮:   0%|          | 0/11 [00:00<?, ?it/s]"
      ]
     },
     "metadata": {},
     "output_type": "display_data"
    },
    {
     "data": {
      "application/vnd.jupyter.widget-view+json": {
       "model_id": "356c6fa945b846bc881168fa8cf8586a",
       "version_major": 2,
       "version_minor": 0
      },
      "text/plain": [
       "第 60/100 轮:   0%|          | 0/11 [00:00<?, ?it/s]"
      ]
     },
     "metadata": {},
     "output_type": "display_data"
    },
    {
     "data": {
      "application/vnd.jupyter.widget-view+json": {
       "model_id": "d57ccb04259f4476a61015e919a2d00e",
       "version_major": 2,
       "version_minor": 0
      },
      "text/plain": [
       "第 61/100 轮:   0%|          | 0/11 [00:00<?, ?it/s]"
      ]
     },
     "metadata": {},
     "output_type": "display_data"
    },
    {
     "data": {
      "application/vnd.jupyter.widget-view+json": {
       "model_id": "835941ba71db49c28a096cda601b4066",
       "version_major": 2,
       "version_minor": 0
      },
      "text/plain": [
       "第 62/100 轮:   0%|          | 0/11 [00:00<?, ?it/s]"
      ]
     },
     "metadata": {},
     "output_type": "display_data"
    },
    {
     "data": {
      "application/vnd.jupyter.widget-view+json": {
       "model_id": "99607309dbcc4b729ac69ca351df60b3",
       "version_major": 2,
       "version_minor": 0
      },
      "text/plain": [
       "第 63/100 轮:   0%|          | 0/11 [00:00<?, ?it/s]"
      ]
     },
     "metadata": {},
     "output_type": "display_data"
    },
    {
     "data": {
      "application/vnd.jupyter.widget-view+json": {
       "model_id": "57dda0346f084115b2c65c496475316d",
       "version_major": 2,
       "version_minor": 0
      },
      "text/plain": [
       "第 64/100 轮:   0%|          | 0/11 [00:00<?, ?it/s]"
      ]
     },
     "metadata": {},
     "output_type": "display_data"
    },
    {
     "data": {
      "application/vnd.jupyter.widget-view+json": {
       "model_id": "f5f835b51f1548e29662af584ced8f55",
       "version_major": 2,
       "version_minor": 0
      },
      "text/plain": [
       "第 65/100 轮:   0%|          | 0/11 [00:00<?, ?it/s]"
      ]
     },
     "metadata": {},
     "output_type": "display_data"
    },
    {
     "data": {
      "application/vnd.jupyter.widget-view+json": {
       "model_id": "0c2f47b6a7d147e58ec15bbb413bf9e5",
       "version_major": 2,
       "version_minor": 0
      },
      "text/plain": [
       "第 66/100 轮:   0%|          | 0/11 [00:00<?, ?it/s]"
      ]
     },
     "metadata": {},
     "output_type": "display_data"
    },
    {
     "data": {
      "application/vnd.jupyter.widget-view+json": {
       "model_id": "989cd138c6794cc89cbe0f1d48581bc6",
       "version_major": 2,
       "version_minor": 0
      },
      "text/plain": [
       "第 67/100 轮:   0%|          | 0/11 [00:00<?, ?it/s]"
      ]
     },
     "metadata": {},
     "output_type": "display_data"
    },
    {
     "data": {
      "application/vnd.jupyter.widget-view+json": {
       "model_id": "9d0e9cd494aa495ebe27aa987327e847",
       "version_major": 2,
       "version_minor": 0
      },
      "text/plain": [
       "第 68/100 轮:   0%|          | 0/11 [00:00<?, ?it/s]"
      ]
     },
     "metadata": {},
     "output_type": "display_data"
    },
    {
     "data": {
      "application/vnd.jupyter.widget-view+json": {
       "model_id": "04fcbe6bc94f4906a004a34c1027f690",
       "version_major": 2,
       "version_minor": 0
      },
      "text/plain": [
       "第 69/100 轮:   0%|          | 0/11 [00:00<?, ?it/s]"
      ]
     },
     "metadata": {},
     "output_type": "display_data"
    },
    {
     "data": {
      "application/vnd.jupyter.widget-view+json": {
       "model_id": "fe9c1b8272d94fd09532533477762578",
       "version_major": 2,
       "version_minor": 0
      },
      "text/plain": [
       "第 70/100 轮:   0%|          | 0/11 [00:00<?, ?it/s]"
      ]
     },
     "metadata": {},
     "output_type": "display_data"
    },
    {
     "data": {
      "application/vnd.jupyter.widget-view+json": {
       "model_id": "a09a101f71204d04af807281aac85b43",
       "version_major": 2,
       "version_minor": 0
      },
      "text/plain": [
       "第 71/100 轮:   0%|          | 0/11 [00:00<?, ?it/s]"
      ]
     },
     "metadata": {},
     "output_type": "display_data"
    },
    {
     "data": {
      "application/vnd.jupyter.widget-view+json": {
       "model_id": "0c8f001f55004aa2bb02b722cf5c5c18",
       "version_major": 2,
       "version_minor": 0
      },
      "text/plain": [
       "第 72/100 轮:   0%|          | 0/11 [00:00<?, ?it/s]"
      ]
     },
     "metadata": {},
     "output_type": "display_data"
    },
    {
     "data": {
      "application/vnd.jupyter.widget-view+json": {
       "model_id": "ad95747d773847fbba23f9c1b281564d",
       "version_major": 2,
       "version_minor": 0
      },
      "text/plain": [
       "第 73/100 轮:   0%|          | 0/11 [00:00<?, ?it/s]"
      ]
     },
     "metadata": {},
     "output_type": "display_data"
    },
    {
     "data": {
      "application/vnd.jupyter.widget-view+json": {
       "model_id": "9e3fb037e3a74eb99e80d514f49de773",
       "version_major": 2,
       "version_minor": 0
      },
      "text/plain": [
       "第 74/100 轮:   0%|          | 0/11 [00:00<?, ?it/s]"
      ]
     },
     "metadata": {},
     "output_type": "display_data"
    },
    {
     "data": {
      "application/vnd.jupyter.widget-view+json": {
       "model_id": "78ae8620d84f4a85a246fd552d7eee24",
       "version_major": 2,
       "version_minor": 0
      },
      "text/plain": [
       "第 75/100 轮:   0%|          | 0/11 [00:00<?, ?it/s]"
      ]
     },
     "metadata": {},
     "output_type": "display_data"
    },
    {
     "data": {
      "application/vnd.jupyter.widget-view+json": {
       "model_id": "36f000c2683b48ba906f5d9556a9e812",
       "version_major": 2,
       "version_minor": 0
      },
      "text/plain": [
       "第 76/100 轮:   0%|          | 0/11 [00:00<?, ?it/s]"
      ]
     },
     "metadata": {},
     "output_type": "display_data"
    },
    {
     "data": {
      "application/vnd.jupyter.widget-view+json": {
       "model_id": "f4c4e9acf70f46cda0de5a7ec4681cf7",
       "version_major": 2,
       "version_minor": 0
      },
      "text/plain": [
       "第 77/100 轮:   0%|          | 0/11 [00:00<?, ?it/s]"
      ]
     },
     "metadata": {},
     "output_type": "display_data"
    },
    {
     "data": {
      "application/vnd.jupyter.widget-view+json": {
       "model_id": "8f134823385b4d5eab990150742f5d65",
       "version_major": 2,
       "version_minor": 0
      },
      "text/plain": [
       "第 78/100 轮:   0%|          | 0/11 [00:00<?, ?it/s]"
      ]
     },
     "metadata": {},
     "output_type": "display_data"
    },
    {
     "data": {
      "application/vnd.jupyter.widget-view+json": {
       "model_id": "42b13d3fb5ab44f4aebee6ec96270a14",
       "version_major": 2,
       "version_minor": 0
      },
      "text/plain": [
       "第 79/100 轮:   0%|          | 0/11 [00:00<?, ?it/s]"
      ]
     },
     "metadata": {},
     "output_type": "display_data"
    },
    {
     "data": {
      "application/vnd.jupyter.widget-view+json": {
       "model_id": "e2c59aa2c24d4571b7a9883f82f3c68f",
       "version_major": 2,
       "version_minor": 0
      },
      "text/plain": [
       "第 80/100 轮:   0%|          | 0/11 [00:00<?, ?it/s]"
      ]
     },
     "metadata": {},
     "output_type": "display_data"
    },
    {
     "data": {
      "application/vnd.jupyter.widget-view+json": {
       "model_id": "e17d00ba471f46fb934e18fd283ee730",
       "version_major": 2,
       "version_minor": 0
      },
      "text/plain": [
       "第 81/100 轮:   0%|          | 0/11 [00:00<?, ?it/s]"
      ]
     },
     "metadata": {},
     "output_type": "display_data"
    },
    {
     "data": {
      "application/vnd.jupyter.widget-view+json": {
       "model_id": "deb87710122e4d59a4776aec8afeae21",
       "version_major": 2,
       "version_minor": 0
      },
      "text/plain": [
       "第 82/100 轮:   0%|          | 0/11 [00:00<?, ?it/s]"
      ]
     },
     "metadata": {},
     "output_type": "display_data"
    },
    {
     "data": {
      "application/vnd.jupyter.widget-view+json": {
       "model_id": "2add68dc3dcf4abc954f20e2488f2b3a",
       "version_major": 2,
       "version_minor": 0
      },
      "text/plain": [
       "第 83/100 轮:   0%|          | 0/11 [00:00<?, ?it/s]"
      ]
     },
     "metadata": {},
     "output_type": "display_data"
    },
    {
     "data": {
      "application/vnd.jupyter.widget-view+json": {
       "model_id": "b89d14eeaac842f1b1af972457073860",
       "version_major": 2,
       "version_minor": 0
      },
      "text/plain": [
       "第 84/100 轮:   0%|          | 0/11 [00:00<?, ?it/s]"
      ]
     },
     "metadata": {},
     "output_type": "display_data"
    },
    {
     "data": {
      "application/vnd.jupyter.widget-view+json": {
       "model_id": "4dfd30bb9a634882a65d2976e1874db4",
       "version_major": 2,
       "version_minor": 0
      },
      "text/plain": [
       "第 85/100 轮:   0%|          | 0/11 [00:00<?, ?it/s]"
      ]
     },
     "metadata": {},
     "output_type": "display_data"
    },
    {
     "data": {
      "application/vnd.jupyter.widget-view+json": {
       "model_id": "2193502f25684710b72077bac5c56443",
       "version_major": 2,
       "version_minor": 0
      },
      "text/plain": [
       "第 86/100 轮:   0%|          | 0/11 [00:00<?, ?it/s]"
      ]
     },
     "metadata": {},
     "output_type": "display_data"
    },
    {
     "data": {
      "application/vnd.jupyter.widget-view+json": {
       "model_id": "e891dd30e4634eb084efe279e5ea551d",
       "version_major": 2,
       "version_minor": 0
      },
      "text/plain": [
       "第 87/100 轮:   0%|          | 0/11 [00:00<?, ?it/s]"
      ]
     },
     "metadata": {},
     "output_type": "display_data"
    },
    {
     "data": {
      "application/vnd.jupyter.widget-view+json": {
       "model_id": "83da8973a9df4bd6b5af99761ddcbc6e",
       "version_major": 2,
       "version_minor": 0
      },
      "text/plain": [
       "第 88/100 轮:   0%|          | 0/11 [00:00<?, ?it/s]"
      ]
     },
     "metadata": {},
     "output_type": "display_data"
    },
    {
     "data": {
      "application/vnd.jupyter.widget-view+json": {
       "model_id": "59d254089746403eb95cd338a72f4493",
       "version_major": 2,
       "version_minor": 0
      },
      "text/plain": [
       "第 89/100 轮:   0%|          | 0/11 [00:00<?, ?it/s]"
      ]
     },
     "metadata": {},
     "output_type": "display_data"
    },
    {
     "data": {
      "application/vnd.jupyter.widget-view+json": {
       "model_id": "71db21c802264c1fb3f82dda6143f41a",
       "version_major": 2,
       "version_minor": 0
      },
      "text/plain": [
       "第 90/100 轮:   0%|          | 0/11 [00:00<?, ?it/s]"
      ]
     },
     "metadata": {},
     "output_type": "display_data"
    },
    {
     "data": {
      "application/vnd.jupyter.widget-view+json": {
       "model_id": "d8731d9c7e4c494d8f6e2461bdd0a5c2",
       "version_major": 2,
       "version_minor": 0
      },
      "text/plain": [
       "第 91/100 轮:   0%|          | 0/11 [00:00<?, ?it/s]"
      ]
     },
     "metadata": {},
     "output_type": "display_data"
    },
    {
     "data": {
      "application/vnd.jupyter.widget-view+json": {
       "model_id": "e51455e7d9b641f8829e838ce25eb65d",
       "version_major": 2,
       "version_minor": 0
      },
      "text/plain": [
       "第 92/100 轮:   0%|          | 0/11 [00:00<?, ?it/s]"
      ]
     },
     "metadata": {},
     "output_type": "display_data"
    },
    {
     "data": {
      "application/vnd.jupyter.widget-view+json": {
       "model_id": "7bd87d3fa40c44ad928cefe5f1b29cef",
       "version_major": 2,
       "version_minor": 0
      },
      "text/plain": [
       "第 93/100 轮:   0%|          | 0/11 [00:00<?, ?it/s]"
      ]
     },
     "metadata": {},
     "output_type": "display_data"
    },
    {
     "data": {
      "application/vnd.jupyter.widget-view+json": {
       "model_id": "6e68ba6193374234b6c8bc9150a9b3e7",
       "version_major": 2,
       "version_minor": 0
      },
      "text/plain": [
       "第 94/100 轮:   0%|          | 0/11 [00:00<?, ?it/s]"
      ]
     },
     "metadata": {},
     "output_type": "display_data"
    },
    {
     "data": {
      "application/vnd.jupyter.widget-view+json": {
       "model_id": "25e9f802d23741c3813f62a245d35064",
       "version_major": 2,
       "version_minor": 0
      },
      "text/plain": [
       "第 95/100 轮:   0%|          | 0/11 [00:00<?, ?it/s]"
      ]
     },
     "metadata": {},
     "output_type": "display_data"
    },
    {
     "data": {
      "application/vnd.jupyter.widget-view+json": {
       "model_id": "b6a1e35362fc46c5a20c7756bc13e32b",
       "version_major": 2,
       "version_minor": 0
      },
      "text/plain": [
       "第 96/100 轮:   0%|          | 0/11 [00:00<?, ?it/s]"
      ]
     },
     "metadata": {},
     "output_type": "display_data"
    },
    {
     "data": {
      "application/vnd.jupyter.widget-view+json": {
       "model_id": "9f4596c179ed41cca75829db2f470aab",
       "version_major": 2,
       "version_minor": 0
      },
      "text/plain": [
       "第 97/100 轮:   0%|          | 0/11 [00:00<?, ?it/s]"
      ]
     },
     "metadata": {},
     "output_type": "display_data"
    },
    {
     "data": {
      "application/vnd.jupyter.widget-view+json": {
       "model_id": "c831da50c45a47058e1b9ab1d5bb1da7",
       "version_major": 2,
       "version_minor": 0
      },
      "text/plain": [
       "第 98/100 轮:   0%|          | 0/11 [00:00<?, ?it/s]"
      ]
     },
     "metadata": {},
     "output_type": "display_data"
    },
    {
     "data": {
      "application/vnd.jupyter.widget-view+json": {
       "model_id": "877cd35291604ff4be191556819e0324",
       "version_major": 2,
       "version_minor": 0
      },
      "text/plain": [
       "第 99/100 轮:   0%|          | 0/11 [00:00<?, ?it/s]"
      ]
     },
     "metadata": {},
     "output_type": "display_data"
    },
    {
     "data": {
      "application/vnd.jupyter.widget-view+json": {
       "model_id": "e08884cef4224dd68a5d81e29a5e44ff",
       "version_major": 2,
       "version_minor": 0
      },
      "text/plain": [
       "第 100/100 轮:   0%|          | 0/11 [00:00<?, ?it/s]"
      ]
     },
     "metadata": {},
     "output_type": "display_data"
    },
    {
     "name": "stdout",
     "output_type": "stream",
     "text": [
      "Fold 4 - Epoch 100: Best Correlation Coefficient: 0.6418\n"
     ]
    },
    {
     "data": {
      "application/vnd.jupyter.widget-view+json": {
       "model_id": "04a7c37cd6b94d4d97648930be6f133e",
       "version_major": 2,
       "version_minor": 0
      },
      "text/plain": [
       "第 1/100 轮:   0%|          | 0/11 [00:00<?, ?it/s]"
      ]
     },
     "metadata": {},
     "output_type": "display_data"
    },
    {
     "data": {
      "application/vnd.jupyter.widget-view+json": {
       "model_id": "e898f281a1bf49ebb39987777e221a05",
       "version_major": 2,
       "version_minor": 0
      },
      "text/plain": [
       "第 2/100 轮:   0%|          | 0/11 [00:00<?, ?it/s]"
      ]
     },
     "metadata": {},
     "output_type": "display_data"
    },
    {
     "data": {
      "application/vnd.jupyter.widget-view+json": {
       "model_id": "1697335b6a9249d394495ae524b522eb",
       "version_major": 2,
       "version_minor": 0
      },
      "text/plain": [
       "第 3/100 轮:   0%|          | 0/11 [00:00<?, ?it/s]"
      ]
     },
     "metadata": {},
     "output_type": "display_data"
    },
    {
     "data": {
      "application/vnd.jupyter.widget-view+json": {
       "model_id": "df60f2777ef041628b597d8cd08ba9ca",
       "version_major": 2,
       "version_minor": 0
      },
      "text/plain": [
       "第 4/100 轮:   0%|          | 0/11 [00:00<?, ?it/s]"
      ]
     },
     "metadata": {},
     "output_type": "display_data"
    },
    {
     "data": {
      "application/vnd.jupyter.widget-view+json": {
       "model_id": "fcb5b4e28c504c47aaa34b261ca98caa",
       "version_major": 2,
       "version_minor": 0
      },
      "text/plain": [
       "第 5/100 轮:   0%|          | 0/11 [00:00<?, ?it/s]"
      ]
     },
     "metadata": {},
     "output_type": "display_data"
    },
    {
     "data": {
      "application/vnd.jupyter.widget-view+json": {
       "model_id": "d1e964689d0a46549cf753c24c6d83d8",
       "version_major": 2,
       "version_minor": 0
      },
      "text/plain": [
       "第 6/100 轮:   0%|          | 0/11 [00:00<?, ?it/s]"
      ]
     },
     "metadata": {},
     "output_type": "display_data"
    },
    {
     "data": {
      "application/vnd.jupyter.widget-view+json": {
       "model_id": "60dc1d5aae8a415aa180da479bf6e4cf",
       "version_major": 2,
       "version_minor": 0
      },
      "text/plain": [
       "第 7/100 轮:   0%|          | 0/11 [00:00<?, ?it/s]"
      ]
     },
     "metadata": {},
     "output_type": "display_data"
    },
    {
     "data": {
      "application/vnd.jupyter.widget-view+json": {
       "model_id": "cd160533060c4bef93073411a79ee369",
       "version_major": 2,
       "version_minor": 0
      },
      "text/plain": [
       "第 8/100 轮:   0%|          | 0/11 [00:00<?, ?it/s]"
      ]
     },
     "metadata": {},
     "output_type": "display_data"
    },
    {
     "data": {
      "application/vnd.jupyter.widget-view+json": {
       "model_id": "f1123358896a4fd3a3e7e37432f1179a",
       "version_major": 2,
       "version_minor": 0
      },
      "text/plain": [
       "第 9/100 轮:   0%|          | 0/11 [00:00<?, ?it/s]"
      ]
     },
     "metadata": {},
     "output_type": "display_data"
    },
    {
     "data": {
      "application/vnd.jupyter.widget-view+json": {
       "model_id": "e3f2a30079e3402b9e6329a7ea1192cb",
       "version_major": 2,
       "version_minor": 0
      },
      "text/plain": [
       "第 10/100 轮:   0%|          | 0/11 [00:00<?, ?it/s]"
      ]
     },
     "metadata": {},
     "output_type": "display_data"
    },
    {
     "data": {
      "application/vnd.jupyter.widget-view+json": {
       "model_id": "82a9a70417c547939e6f409dabd75e26",
       "version_major": 2,
       "version_minor": 0
      },
      "text/plain": [
       "第 11/100 轮:   0%|          | 0/11 [00:00<?, ?it/s]"
      ]
     },
     "metadata": {},
     "output_type": "display_data"
    },
    {
     "data": {
      "application/vnd.jupyter.widget-view+json": {
       "model_id": "dc969addfb514900a72b59bec66185a1",
       "version_major": 2,
       "version_minor": 0
      },
      "text/plain": [
       "第 12/100 轮:   0%|          | 0/11 [00:00<?, ?it/s]"
      ]
     },
     "metadata": {},
     "output_type": "display_data"
    },
    {
     "data": {
      "application/vnd.jupyter.widget-view+json": {
       "model_id": "dd81efd7a6cf47fea832e67e6a27dfc3",
       "version_major": 2,
       "version_minor": 0
      },
      "text/plain": [
       "第 13/100 轮:   0%|          | 0/11 [00:00<?, ?it/s]"
      ]
     },
     "metadata": {},
     "output_type": "display_data"
    },
    {
     "data": {
      "application/vnd.jupyter.widget-view+json": {
       "model_id": "e91ba51dee6f49db894f5a8b51a92a23",
       "version_major": 2,
       "version_minor": 0
      },
      "text/plain": [
       "第 14/100 轮:   0%|          | 0/11 [00:00<?, ?it/s]"
      ]
     },
     "metadata": {},
     "output_type": "display_data"
    },
    {
     "data": {
      "application/vnd.jupyter.widget-view+json": {
       "model_id": "6ff8999912c2419ca2d14e400a1cc434",
       "version_major": 2,
       "version_minor": 0
      },
      "text/plain": [
       "第 15/100 轮:   0%|          | 0/11 [00:00<?, ?it/s]"
      ]
     },
     "metadata": {},
     "output_type": "display_data"
    },
    {
     "data": {
      "application/vnd.jupyter.widget-view+json": {
       "model_id": "330dc0c866ab43c8b1eafdb3e60788f6",
       "version_major": 2,
       "version_minor": 0
      },
      "text/plain": [
       "第 16/100 轮:   0%|          | 0/11 [00:00<?, ?it/s]"
      ]
     },
     "metadata": {},
     "output_type": "display_data"
    },
    {
     "data": {
      "application/vnd.jupyter.widget-view+json": {
       "model_id": "d2fbc5555d1a456d8655a9123104ff73",
       "version_major": 2,
       "version_minor": 0
      },
      "text/plain": [
       "第 17/100 轮:   0%|          | 0/11 [00:00<?, ?it/s]"
      ]
     },
     "metadata": {},
     "output_type": "display_data"
    },
    {
     "data": {
      "application/vnd.jupyter.widget-view+json": {
       "model_id": "51afa825a4494b3d8ec6132b9feca946",
       "version_major": 2,
       "version_minor": 0
      },
      "text/plain": [
       "第 18/100 轮:   0%|          | 0/11 [00:00<?, ?it/s]"
      ]
     },
     "metadata": {},
     "output_type": "display_data"
    },
    {
     "data": {
      "application/vnd.jupyter.widget-view+json": {
       "model_id": "4aecb715f72f4d529f6aa7394aaf4414",
       "version_major": 2,
       "version_minor": 0
      },
      "text/plain": [
       "第 19/100 轮:   0%|          | 0/11 [00:00<?, ?it/s]"
      ]
     },
     "metadata": {},
     "output_type": "display_data"
    },
    {
     "data": {
      "application/vnd.jupyter.widget-view+json": {
       "model_id": "6631c5b5a4cf4587a0d66c4414d9675b",
       "version_major": 2,
       "version_minor": 0
      },
      "text/plain": [
       "第 20/100 轮:   0%|          | 0/11 [00:00<?, ?it/s]"
      ]
     },
     "metadata": {},
     "output_type": "display_data"
    },
    {
     "data": {
      "application/vnd.jupyter.widget-view+json": {
       "model_id": "b92344a9b79e4253bc6a4cbd4e5e8992",
       "version_major": 2,
       "version_minor": 0
      },
      "text/plain": [
       "第 21/100 轮:   0%|          | 0/11 [00:00<?, ?it/s]"
      ]
     },
     "metadata": {},
     "output_type": "display_data"
    },
    {
     "data": {
      "application/vnd.jupyter.widget-view+json": {
       "model_id": "4cd825f9a2464df1998c83cd3dcfe319",
       "version_major": 2,
       "version_minor": 0
      },
      "text/plain": [
       "第 22/100 轮:   0%|          | 0/11 [00:00<?, ?it/s]"
      ]
     },
     "metadata": {},
     "output_type": "display_data"
    },
    {
     "data": {
      "application/vnd.jupyter.widget-view+json": {
       "model_id": "700743cdd9924820b98112c05f9e661d",
       "version_major": 2,
       "version_minor": 0
      },
      "text/plain": [
       "第 23/100 轮:   0%|          | 0/11 [00:00<?, ?it/s]"
      ]
     },
     "metadata": {},
     "output_type": "display_data"
    },
    {
     "data": {
      "application/vnd.jupyter.widget-view+json": {
       "model_id": "c3483fff22834198a54b5a8a6330631b",
       "version_major": 2,
       "version_minor": 0
      },
      "text/plain": [
       "第 24/100 轮:   0%|          | 0/11 [00:00<?, ?it/s]"
      ]
     },
     "metadata": {},
     "output_type": "display_data"
    },
    {
     "data": {
      "application/vnd.jupyter.widget-view+json": {
       "model_id": "c436f612301147618c1a6b8d5c55f937",
       "version_major": 2,
       "version_minor": 0
      },
      "text/plain": [
       "第 25/100 轮:   0%|          | 0/11 [00:00<?, ?it/s]"
      ]
     },
     "metadata": {},
     "output_type": "display_data"
    },
    {
     "data": {
      "application/vnd.jupyter.widget-view+json": {
       "model_id": "bf9d14668f5f4c49b4dc14274a9b7aff",
       "version_major": 2,
       "version_minor": 0
      },
      "text/plain": [
       "第 26/100 轮:   0%|          | 0/11 [00:00<?, ?it/s]"
      ]
     },
     "metadata": {},
     "output_type": "display_data"
    },
    {
     "data": {
      "application/vnd.jupyter.widget-view+json": {
       "model_id": "b58cf6ef07a04e0c8ec00df2646aa836",
       "version_major": 2,
       "version_minor": 0
      },
      "text/plain": [
       "第 27/100 轮:   0%|          | 0/11 [00:00<?, ?it/s]"
      ]
     },
     "metadata": {},
     "output_type": "display_data"
    },
    {
     "data": {
      "application/vnd.jupyter.widget-view+json": {
       "model_id": "3d3591eab0d1462da79e4f30704642e8",
       "version_major": 2,
       "version_minor": 0
      },
      "text/plain": [
       "第 28/100 轮:   0%|          | 0/11 [00:00<?, ?it/s]"
      ]
     },
     "metadata": {},
     "output_type": "display_data"
    },
    {
     "data": {
      "application/vnd.jupyter.widget-view+json": {
       "model_id": "d974044268f74cb5a78eb5f3f2732967",
       "version_major": 2,
       "version_minor": 0
      },
      "text/plain": [
       "第 29/100 轮:   0%|          | 0/11 [00:00<?, ?it/s]"
      ]
     },
     "metadata": {},
     "output_type": "display_data"
    },
    {
     "data": {
      "application/vnd.jupyter.widget-view+json": {
       "model_id": "b9e2d085319144248ac2a21d32937469",
       "version_major": 2,
       "version_minor": 0
      },
      "text/plain": [
       "第 30/100 轮:   0%|          | 0/11 [00:00<?, ?it/s]"
      ]
     },
     "metadata": {},
     "output_type": "display_data"
    },
    {
     "data": {
      "application/vnd.jupyter.widget-view+json": {
       "model_id": "824303354f024ba2bbb8c729c5d09785",
       "version_major": 2,
       "version_minor": 0
      },
      "text/plain": [
       "第 31/100 轮:   0%|          | 0/11 [00:00<?, ?it/s]"
      ]
     },
     "metadata": {},
     "output_type": "display_data"
    },
    {
     "data": {
      "application/vnd.jupyter.widget-view+json": {
       "model_id": "2d84d3b3cafb4633a471fd927dd8f464",
       "version_major": 2,
       "version_minor": 0
      },
      "text/plain": [
       "第 32/100 轮:   0%|          | 0/11 [00:00<?, ?it/s]"
      ]
     },
     "metadata": {},
     "output_type": "display_data"
    },
    {
     "data": {
      "application/vnd.jupyter.widget-view+json": {
       "model_id": "769e72299a89479284deb00a445957cb",
       "version_major": 2,
       "version_minor": 0
      },
      "text/plain": [
       "第 33/100 轮:   0%|          | 0/11 [00:00<?, ?it/s]"
      ]
     },
     "metadata": {},
     "output_type": "display_data"
    },
    {
     "data": {
      "application/vnd.jupyter.widget-view+json": {
       "model_id": "286ffaf7a2fa4300855e96f76b5fdcbc",
       "version_major": 2,
       "version_minor": 0
      },
      "text/plain": [
       "第 34/100 轮:   0%|          | 0/11 [00:00<?, ?it/s]"
      ]
     },
     "metadata": {},
     "output_type": "display_data"
    },
    {
     "data": {
      "application/vnd.jupyter.widget-view+json": {
       "model_id": "e3935c230d864eca8ae771bee18222e2",
       "version_major": 2,
       "version_minor": 0
      },
      "text/plain": [
       "第 35/100 轮:   0%|          | 0/11 [00:00<?, ?it/s]"
      ]
     },
     "metadata": {},
     "output_type": "display_data"
    },
    {
     "data": {
      "application/vnd.jupyter.widget-view+json": {
       "model_id": "230eec0f3e0140d0bca3fab1ca4bf4f0",
       "version_major": 2,
       "version_minor": 0
      },
      "text/plain": [
       "第 36/100 轮:   0%|          | 0/11 [00:00<?, ?it/s]"
      ]
     },
     "metadata": {},
     "output_type": "display_data"
    },
    {
     "data": {
      "application/vnd.jupyter.widget-view+json": {
       "model_id": "9312b4e9294f44b68a4674623369e680",
       "version_major": 2,
       "version_minor": 0
      },
      "text/plain": [
       "第 37/100 轮:   0%|          | 0/11 [00:00<?, ?it/s]"
      ]
     },
     "metadata": {},
     "output_type": "display_data"
    },
    {
     "data": {
      "application/vnd.jupyter.widget-view+json": {
       "model_id": "66ac7da69c4e48c98a724bcd8225b23e",
       "version_major": 2,
       "version_minor": 0
      },
      "text/plain": [
       "第 38/100 轮:   0%|          | 0/11 [00:00<?, ?it/s]"
      ]
     },
     "metadata": {},
     "output_type": "display_data"
    },
    {
     "data": {
      "application/vnd.jupyter.widget-view+json": {
       "model_id": "6a6373a5b13447298682c74599523960",
       "version_major": 2,
       "version_minor": 0
      },
      "text/plain": [
       "第 39/100 轮:   0%|          | 0/11 [00:00<?, ?it/s]"
      ]
     },
     "metadata": {},
     "output_type": "display_data"
    },
    {
     "data": {
      "application/vnd.jupyter.widget-view+json": {
       "model_id": "fb495b4390b34036999cb1cdfda22f29",
       "version_major": 2,
       "version_minor": 0
      },
      "text/plain": [
       "第 40/100 轮:   0%|          | 0/11 [00:00<?, ?it/s]"
      ]
     },
     "metadata": {},
     "output_type": "display_data"
    },
    {
     "data": {
      "application/vnd.jupyter.widget-view+json": {
       "model_id": "735c2ca4dc204e4689bbcf460ce4975a",
       "version_major": 2,
       "version_minor": 0
      },
      "text/plain": [
       "第 41/100 轮:   0%|          | 0/11 [00:00<?, ?it/s]"
      ]
     },
     "metadata": {},
     "output_type": "display_data"
    },
    {
     "data": {
      "application/vnd.jupyter.widget-view+json": {
       "model_id": "7453df58ea6946d4aa7f3b28cd104226",
       "version_major": 2,
       "version_minor": 0
      },
      "text/plain": [
       "第 42/100 轮:   0%|          | 0/11 [00:00<?, ?it/s]"
      ]
     },
     "metadata": {},
     "output_type": "display_data"
    },
    {
     "data": {
      "application/vnd.jupyter.widget-view+json": {
       "model_id": "3f8f6c9027ed44b0bcd48118b97425e8",
       "version_major": 2,
       "version_minor": 0
      },
      "text/plain": [
       "第 43/100 轮:   0%|          | 0/11 [00:00<?, ?it/s]"
      ]
     },
     "metadata": {},
     "output_type": "display_data"
    },
    {
     "data": {
      "application/vnd.jupyter.widget-view+json": {
       "model_id": "9369354c187b468491ebd6ff2e9db71d",
       "version_major": 2,
       "version_minor": 0
      },
      "text/plain": [
       "第 44/100 轮:   0%|          | 0/11 [00:00<?, ?it/s]"
      ]
     },
     "metadata": {},
     "output_type": "display_data"
    },
    {
     "data": {
      "application/vnd.jupyter.widget-view+json": {
       "model_id": "de95fc5bc2cc45fab7d1171537cbbd84",
       "version_major": 2,
       "version_minor": 0
      },
      "text/plain": [
       "第 45/100 轮:   0%|          | 0/11 [00:00<?, ?it/s]"
      ]
     },
     "metadata": {},
     "output_type": "display_data"
    },
    {
     "data": {
      "application/vnd.jupyter.widget-view+json": {
       "model_id": "7329342bef96409c95dbf759c8d9f0b7",
       "version_major": 2,
       "version_minor": 0
      },
      "text/plain": [
       "第 46/100 轮:   0%|          | 0/11 [00:00<?, ?it/s]"
      ]
     },
     "metadata": {},
     "output_type": "display_data"
    },
    {
     "data": {
      "application/vnd.jupyter.widget-view+json": {
       "model_id": "f019215f9a5c454cad202648f5072d57",
       "version_major": 2,
       "version_minor": 0
      },
      "text/plain": [
       "第 47/100 轮:   0%|          | 0/11 [00:00<?, ?it/s]"
      ]
     },
     "metadata": {},
     "output_type": "display_data"
    },
    {
     "data": {
      "application/vnd.jupyter.widget-view+json": {
       "model_id": "8f847ee62dba41bf8c554c53a827a48f",
       "version_major": 2,
       "version_minor": 0
      },
      "text/plain": [
       "第 48/100 轮:   0%|          | 0/11 [00:00<?, ?it/s]"
      ]
     },
     "metadata": {},
     "output_type": "display_data"
    },
    {
     "data": {
      "application/vnd.jupyter.widget-view+json": {
       "model_id": "82389aad790c481489712eea66346a9e",
       "version_major": 2,
       "version_minor": 0
      },
      "text/plain": [
       "第 49/100 轮:   0%|          | 0/11 [00:00<?, ?it/s]"
      ]
     },
     "metadata": {},
     "output_type": "display_data"
    },
    {
     "data": {
      "application/vnd.jupyter.widget-view+json": {
       "model_id": "e53a5ef9b0ac4a4ca6e6b827edcc7acd",
       "version_major": 2,
       "version_minor": 0
      },
      "text/plain": [
       "第 50/100 轮:   0%|          | 0/11 [00:00<?, ?it/s]"
      ]
     },
     "metadata": {},
     "output_type": "display_data"
    },
    {
     "data": {
      "application/vnd.jupyter.widget-view+json": {
       "model_id": "d4505151302a48c48387edb3ffe76888",
       "version_major": 2,
       "version_minor": 0
      },
      "text/plain": [
       "第 51/100 轮:   0%|          | 0/11 [00:00<?, ?it/s]"
      ]
     },
     "metadata": {},
     "output_type": "display_data"
    },
    {
     "data": {
      "application/vnd.jupyter.widget-view+json": {
       "model_id": "ed5a2fd42e50450094d4006e3c5f5dc7",
       "version_major": 2,
       "version_minor": 0
      },
      "text/plain": [
       "第 52/100 轮:   0%|          | 0/11 [00:00<?, ?it/s]"
      ]
     },
     "metadata": {},
     "output_type": "display_data"
    },
    {
     "data": {
      "application/vnd.jupyter.widget-view+json": {
       "model_id": "87f5b9957424486caf9b3e5a9c0bf069",
       "version_major": 2,
       "version_minor": 0
      },
      "text/plain": [
       "第 53/100 轮:   0%|          | 0/11 [00:00<?, ?it/s]"
      ]
     },
     "metadata": {},
     "output_type": "display_data"
    },
    {
     "data": {
      "application/vnd.jupyter.widget-view+json": {
       "model_id": "eff8cfd02d3c4b5991b5d24adaf8fe2e",
       "version_major": 2,
       "version_minor": 0
      },
      "text/plain": [
       "第 54/100 轮:   0%|          | 0/11 [00:00<?, ?it/s]"
      ]
     },
     "metadata": {},
     "output_type": "display_data"
    },
    {
     "data": {
      "application/vnd.jupyter.widget-view+json": {
       "model_id": "3a10b52a4fd142fe9b212656ca68e257",
       "version_major": 2,
       "version_minor": 0
      },
      "text/plain": [
       "第 55/100 轮:   0%|          | 0/11 [00:00<?, ?it/s]"
      ]
     },
     "metadata": {},
     "output_type": "display_data"
    },
    {
     "data": {
      "application/vnd.jupyter.widget-view+json": {
       "model_id": "68d7ea865199471ab5617de842b9651c",
       "version_major": 2,
       "version_minor": 0
      },
      "text/plain": [
       "第 56/100 轮:   0%|          | 0/11 [00:00<?, ?it/s]"
      ]
     },
     "metadata": {},
     "output_type": "display_data"
    },
    {
     "data": {
      "application/vnd.jupyter.widget-view+json": {
       "model_id": "9809f8de8ca04f3093bd8e35b2af5bd8",
       "version_major": 2,
       "version_minor": 0
      },
      "text/plain": [
       "第 57/100 轮:   0%|          | 0/11 [00:00<?, ?it/s]"
      ]
     },
     "metadata": {},
     "output_type": "display_data"
    },
    {
     "data": {
      "application/vnd.jupyter.widget-view+json": {
       "model_id": "9908ad12e37c457fa2345963867747c9",
       "version_major": 2,
       "version_minor": 0
      },
      "text/plain": [
       "第 58/100 轮:   0%|          | 0/11 [00:00<?, ?it/s]"
      ]
     },
     "metadata": {},
     "output_type": "display_data"
    },
    {
     "data": {
      "application/vnd.jupyter.widget-view+json": {
       "model_id": "e86a28cd4ecd4f93b421955c9c81bebf",
       "version_major": 2,
       "version_minor": 0
      },
      "text/plain": [
       "第 59/100 轮:   0%|          | 0/11 [00:00<?, ?it/s]"
      ]
     },
     "metadata": {},
     "output_type": "display_data"
    },
    {
     "data": {
      "application/vnd.jupyter.widget-view+json": {
       "model_id": "c04d685a2d9c416087af10effb5f01d4",
       "version_major": 2,
       "version_minor": 0
      },
      "text/plain": [
       "第 60/100 轮:   0%|          | 0/11 [00:00<?, ?it/s]"
      ]
     },
     "metadata": {},
     "output_type": "display_data"
    },
    {
     "data": {
      "application/vnd.jupyter.widget-view+json": {
       "model_id": "8de7aa775204434d84c61e1624f33b59",
       "version_major": 2,
       "version_minor": 0
      },
      "text/plain": [
       "第 61/100 轮:   0%|          | 0/11 [00:00<?, ?it/s]"
      ]
     },
     "metadata": {},
     "output_type": "display_data"
    },
    {
     "data": {
      "application/vnd.jupyter.widget-view+json": {
       "model_id": "fd99082cb161459796894615742ac8f8",
       "version_major": 2,
       "version_minor": 0
      },
      "text/plain": [
       "第 62/100 轮:   0%|          | 0/11 [00:00<?, ?it/s]"
      ]
     },
     "metadata": {},
     "output_type": "display_data"
    },
    {
     "data": {
      "application/vnd.jupyter.widget-view+json": {
       "model_id": "6e9e68756abe4e90933996a2079cca84",
       "version_major": 2,
       "version_minor": 0
      },
      "text/plain": [
       "第 63/100 轮:   0%|          | 0/11 [00:00<?, ?it/s]"
      ]
     },
     "metadata": {},
     "output_type": "display_data"
    },
    {
     "data": {
      "application/vnd.jupyter.widget-view+json": {
       "model_id": "37b75e2aa34b4ab890188abec041a107",
       "version_major": 2,
       "version_minor": 0
      },
      "text/plain": [
       "第 64/100 轮:   0%|          | 0/11 [00:00<?, ?it/s]"
      ]
     },
     "metadata": {},
     "output_type": "display_data"
    },
    {
     "data": {
      "application/vnd.jupyter.widget-view+json": {
       "model_id": "f0e56bce3fbf49ed9bb4a2f7fa11c08f",
       "version_major": 2,
       "version_minor": 0
      },
      "text/plain": [
       "第 65/100 轮:   0%|          | 0/11 [00:00<?, ?it/s]"
      ]
     },
     "metadata": {},
     "output_type": "display_data"
    },
    {
     "data": {
      "application/vnd.jupyter.widget-view+json": {
       "model_id": "9c9b48d2d84b4c8e8e201a48a3632e1b",
       "version_major": 2,
       "version_minor": 0
      },
      "text/plain": [
       "第 66/100 轮:   0%|          | 0/11 [00:00<?, ?it/s]"
      ]
     },
     "metadata": {},
     "output_type": "display_data"
    },
    {
     "data": {
      "application/vnd.jupyter.widget-view+json": {
       "model_id": "7183841641234ba791e9ac46fb147e83",
       "version_major": 2,
       "version_minor": 0
      },
      "text/plain": [
       "第 67/100 轮:   0%|          | 0/11 [00:00<?, ?it/s]"
      ]
     },
     "metadata": {},
     "output_type": "display_data"
    },
    {
     "data": {
      "application/vnd.jupyter.widget-view+json": {
       "model_id": "e8ce3a1a4e644b5ba00dfe29a4f6d9b9",
       "version_major": 2,
       "version_minor": 0
      },
      "text/plain": [
       "第 68/100 轮:   0%|          | 0/11 [00:00<?, ?it/s]"
      ]
     },
     "metadata": {},
     "output_type": "display_data"
    },
    {
     "data": {
      "application/vnd.jupyter.widget-view+json": {
       "model_id": "e158137e736244d091aa29ce8ec521aa",
       "version_major": 2,
       "version_minor": 0
      },
      "text/plain": [
       "第 69/100 轮:   0%|          | 0/11 [00:00<?, ?it/s]"
      ]
     },
     "metadata": {},
     "output_type": "display_data"
    },
    {
     "data": {
      "application/vnd.jupyter.widget-view+json": {
       "model_id": "4e601ec0fa074923ab9a384c96acc61d",
       "version_major": 2,
       "version_minor": 0
      },
      "text/plain": [
       "第 70/100 轮:   0%|          | 0/11 [00:00<?, ?it/s]"
      ]
     },
     "metadata": {},
     "output_type": "display_data"
    },
    {
     "data": {
      "application/vnd.jupyter.widget-view+json": {
       "model_id": "e8ddc8a25cbb4bc99ea38044ce65dcd6",
       "version_major": 2,
       "version_minor": 0
      },
      "text/plain": [
       "第 71/100 轮:   0%|          | 0/11 [00:00<?, ?it/s]"
      ]
     },
     "metadata": {},
     "output_type": "display_data"
    },
    {
     "data": {
      "application/vnd.jupyter.widget-view+json": {
       "model_id": "d1e1737b7c6946a6936c582699f75a7e",
       "version_major": 2,
       "version_minor": 0
      },
      "text/plain": [
       "第 72/100 轮:   0%|          | 0/11 [00:00<?, ?it/s]"
      ]
     },
     "metadata": {},
     "output_type": "display_data"
    },
    {
     "data": {
      "application/vnd.jupyter.widget-view+json": {
       "model_id": "f2e374bced3547229d1563a868332e39",
       "version_major": 2,
       "version_minor": 0
      },
      "text/plain": [
       "第 73/100 轮:   0%|          | 0/11 [00:00<?, ?it/s]"
      ]
     },
     "metadata": {},
     "output_type": "display_data"
    },
    {
     "data": {
      "application/vnd.jupyter.widget-view+json": {
       "model_id": "07d166ac3f4b4e5cb1bb8162a3fc5e3e",
       "version_major": 2,
       "version_minor": 0
      },
      "text/plain": [
       "第 74/100 轮:   0%|          | 0/11 [00:00<?, ?it/s]"
      ]
     },
     "metadata": {},
     "output_type": "display_data"
    },
    {
     "data": {
      "application/vnd.jupyter.widget-view+json": {
       "model_id": "045461a6b0824ede9c213bee74d28b15",
       "version_major": 2,
       "version_minor": 0
      },
      "text/plain": [
       "第 75/100 轮:   0%|          | 0/11 [00:00<?, ?it/s]"
      ]
     },
     "metadata": {},
     "output_type": "display_data"
    },
    {
     "data": {
      "application/vnd.jupyter.widget-view+json": {
       "model_id": "2891fbbedbd743feafe846d9140d8504",
       "version_major": 2,
       "version_minor": 0
      },
      "text/plain": [
       "第 76/100 轮:   0%|          | 0/11 [00:00<?, ?it/s]"
      ]
     },
     "metadata": {},
     "output_type": "display_data"
    },
    {
     "data": {
      "application/vnd.jupyter.widget-view+json": {
       "model_id": "87763928df444722a6bbff3d6e14e80b",
       "version_major": 2,
       "version_minor": 0
      },
      "text/plain": [
       "第 77/100 轮:   0%|          | 0/11 [00:00<?, ?it/s]"
      ]
     },
     "metadata": {},
     "output_type": "display_data"
    },
    {
     "data": {
      "application/vnd.jupyter.widget-view+json": {
       "model_id": "07ea60373464472499db738e956772be",
       "version_major": 2,
       "version_minor": 0
      },
      "text/plain": [
       "第 78/100 轮:   0%|          | 0/11 [00:00<?, ?it/s]"
      ]
     },
     "metadata": {},
     "output_type": "display_data"
    },
    {
     "data": {
      "application/vnd.jupyter.widget-view+json": {
       "model_id": "0f761c8d9fc34103beae8b01277fd486",
       "version_major": 2,
       "version_minor": 0
      },
      "text/plain": [
       "第 79/100 轮:   0%|          | 0/11 [00:00<?, ?it/s]"
      ]
     },
     "metadata": {},
     "output_type": "display_data"
    },
    {
     "data": {
      "application/vnd.jupyter.widget-view+json": {
       "model_id": "0a6a718ea41849c9bef1737a98765fc3",
       "version_major": 2,
       "version_minor": 0
      },
      "text/plain": [
       "第 80/100 轮:   0%|          | 0/11 [00:00<?, ?it/s]"
      ]
     },
     "metadata": {},
     "output_type": "display_data"
    },
    {
     "data": {
      "application/vnd.jupyter.widget-view+json": {
       "model_id": "c3e4623d85d54a4888f1cc6a1b0da1ca",
       "version_major": 2,
       "version_minor": 0
      },
      "text/plain": [
       "第 81/100 轮:   0%|          | 0/11 [00:00<?, ?it/s]"
      ]
     },
     "metadata": {},
     "output_type": "display_data"
    },
    {
     "data": {
      "application/vnd.jupyter.widget-view+json": {
       "model_id": "30bfd534abce4f87b1ed24ddf94e65dc",
       "version_major": 2,
       "version_minor": 0
      },
      "text/plain": [
       "第 82/100 轮:   0%|          | 0/11 [00:00<?, ?it/s]"
      ]
     },
     "metadata": {},
     "output_type": "display_data"
    },
    {
     "data": {
      "application/vnd.jupyter.widget-view+json": {
       "model_id": "1381341a9c9a4fc588e0d22b36912d7e",
       "version_major": 2,
       "version_minor": 0
      },
      "text/plain": [
       "第 83/100 轮:   0%|          | 0/11 [00:00<?, ?it/s]"
      ]
     },
     "metadata": {},
     "output_type": "display_data"
    },
    {
     "data": {
      "application/vnd.jupyter.widget-view+json": {
       "model_id": "753cb647d4064c83b1c310105f1f88fd",
       "version_major": 2,
       "version_minor": 0
      },
      "text/plain": [
       "第 84/100 轮:   0%|          | 0/11 [00:00<?, ?it/s]"
      ]
     },
     "metadata": {},
     "output_type": "display_data"
    },
    {
     "data": {
      "application/vnd.jupyter.widget-view+json": {
       "model_id": "6d8890ec972542b7805d30beec4fd4a8",
       "version_major": 2,
       "version_minor": 0
      },
      "text/plain": [
       "第 85/100 轮:   0%|          | 0/11 [00:00<?, ?it/s]"
      ]
     },
     "metadata": {},
     "output_type": "display_data"
    },
    {
     "data": {
      "application/vnd.jupyter.widget-view+json": {
       "model_id": "8f09997d4be447238aaeda51c20e1bc7",
       "version_major": 2,
       "version_minor": 0
      },
      "text/plain": [
       "第 86/100 轮:   0%|          | 0/11 [00:00<?, ?it/s]"
      ]
     },
     "metadata": {},
     "output_type": "display_data"
    },
    {
     "data": {
      "application/vnd.jupyter.widget-view+json": {
       "model_id": "15231c81d8004ce8aad1d7bf07fe4e71",
       "version_major": 2,
       "version_minor": 0
      },
      "text/plain": [
       "第 87/100 轮:   0%|          | 0/11 [00:00<?, ?it/s]"
      ]
     },
     "metadata": {},
     "output_type": "display_data"
    },
    {
     "data": {
      "application/vnd.jupyter.widget-view+json": {
       "model_id": "5b15b50a14744497a2f5bea402eed506",
       "version_major": 2,
       "version_minor": 0
      },
      "text/plain": [
       "第 88/100 轮:   0%|          | 0/11 [00:00<?, ?it/s]"
      ]
     },
     "metadata": {},
     "output_type": "display_data"
    },
    {
     "data": {
      "application/vnd.jupyter.widget-view+json": {
       "model_id": "8e8639b5c58e444ca26f6d9ce67d878d",
       "version_major": 2,
       "version_minor": 0
      },
      "text/plain": [
       "第 89/100 轮:   0%|          | 0/11 [00:00<?, ?it/s]"
      ]
     },
     "metadata": {},
     "output_type": "display_data"
    },
    {
     "data": {
      "application/vnd.jupyter.widget-view+json": {
       "model_id": "a9eef83e502f45a5a9caba228973982b",
       "version_major": 2,
       "version_minor": 0
      },
      "text/plain": [
       "第 90/100 轮:   0%|          | 0/11 [00:00<?, ?it/s]"
      ]
     },
     "metadata": {},
     "output_type": "display_data"
    },
    {
     "data": {
      "application/vnd.jupyter.widget-view+json": {
       "model_id": "379ee738e8ca41b9811adfa2dfdeed59",
       "version_major": 2,
       "version_minor": 0
      },
      "text/plain": [
       "第 91/100 轮:   0%|          | 0/11 [00:00<?, ?it/s]"
      ]
     },
     "metadata": {},
     "output_type": "display_data"
    },
    {
     "data": {
      "application/vnd.jupyter.widget-view+json": {
       "model_id": "1d6a81d3403b41ffb391c815313ee36a",
       "version_major": 2,
       "version_minor": 0
      },
      "text/plain": [
       "第 92/100 轮:   0%|          | 0/11 [00:00<?, ?it/s]"
      ]
     },
     "metadata": {},
     "output_type": "display_data"
    },
    {
     "data": {
      "application/vnd.jupyter.widget-view+json": {
       "model_id": "8e322ecdedba413cac57ab7c31cdaffc",
       "version_major": 2,
       "version_minor": 0
      },
      "text/plain": [
       "第 93/100 轮:   0%|          | 0/11 [00:00<?, ?it/s]"
      ]
     },
     "metadata": {},
     "output_type": "display_data"
    },
    {
     "data": {
      "application/vnd.jupyter.widget-view+json": {
       "model_id": "3bb6492a72af45009555a48f45515fe7",
       "version_major": 2,
       "version_minor": 0
      },
      "text/plain": [
       "第 94/100 轮:   0%|          | 0/11 [00:00<?, ?it/s]"
      ]
     },
     "metadata": {},
     "output_type": "display_data"
    },
    {
     "data": {
      "application/vnd.jupyter.widget-view+json": {
       "model_id": "b274d5fdfa0b4f63a99f5445355d87a1",
       "version_major": 2,
       "version_minor": 0
      },
      "text/plain": [
       "第 95/100 轮:   0%|          | 0/11 [00:00<?, ?it/s]"
      ]
     },
     "metadata": {},
     "output_type": "display_data"
    },
    {
     "data": {
      "application/vnd.jupyter.widget-view+json": {
       "model_id": "dd83e2fc3de2467f9e0417c0360a45ff",
       "version_major": 2,
       "version_minor": 0
      },
      "text/plain": [
       "第 96/100 轮:   0%|          | 0/11 [00:00<?, ?it/s]"
      ]
     },
     "metadata": {},
     "output_type": "display_data"
    },
    {
     "data": {
      "application/vnd.jupyter.widget-view+json": {
       "model_id": "5a213621f7cf49f584fa2d1556ec1da2",
       "version_major": 2,
       "version_minor": 0
      },
      "text/plain": [
       "第 97/100 轮:   0%|          | 0/11 [00:00<?, ?it/s]"
      ]
     },
     "metadata": {},
     "output_type": "display_data"
    },
    {
     "data": {
      "application/vnd.jupyter.widget-view+json": {
       "model_id": "3ca32222cd9d413d886b9040fa91b053",
       "version_major": 2,
       "version_minor": 0
      },
      "text/plain": [
       "第 98/100 轮:   0%|          | 0/11 [00:00<?, ?it/s]"
      ]
     },
     "metadata": {},
     "output_type": "display_data"
    },
    {
     "data": {
      "application/vnd.jupyter.widget-view+json": {
       "model_id": "1b8a8cb49ee04834870545b307b623f3",
       "version_major": 2,
       "version_minor": 0
      },
      "text/plain": [
       "第 99/100 轮:   0%|          | 0/11 [00:00<?, ?it/s]"
      ]
     },
     "metadata": {},
     "output_type": "display_data"
    },
    {
     "data": {
      "application/vnd.jupyter.widget-view+json": {
       "model_id": "c99a810410144160b50321bcf32b1f44",
       "version_major": 2,
       "version_minor": 0
      },
      "text/plain": [
       "第 100/100 轮:   0%|          | 0/11 [00:00<?, ?it/s]"
      ]
     },
     "metadata": {},
     "output_type": "display_data"
    },
    {
     "name": "stdout",
     "output_type": "stream",
     "text": [
      "Fold 5 - Epoch 100: Best Correlation Coefficient: 0.6898\n",
      "代码执行时间: 49.294885873794556 秒\n"
     ]
    }
   ],
   "source": [
    "start_time = time.time()\n",
    "x = X_train_reduction\n",
    "y = Y_train\n",
    "for fold, (train_index, test_index) in enumerate(kf.split(x)):\n",
    "    x_train, x_test = x[train_index], x[test_index]\n",
    "    y_train, y_test = y[train_index], y[test_index]\n",
    "\n",
    "\n",
    "    scaler = StandardScaler()\n",
    "    x_train = scaler.fit_transform(x_train)\n",
    "    x_test = scaler.transform(x_test)\n",
    "\n",
    "    # scaler_model = StandardScaler()\n",
    "    # y_train = scaler_model.fit_transform(y_train.reshape(-1, 1)).flatten()\n",
    "    # y_test = scaler_model.transform(y_test.reshape(-1, 1)).flatten()\n",
    "\n",
    "    x_train_tensor = torch.from_numpy(x_train).float().to(DEVICE)\n",
    "    y_train_tensor = torch.from_numpy(y_train).float().to(DEVICE)\n",
    "    x_test_tensor = torch.from_numpy(x_test).float().to(DEVICE)\n",
    "    y_test_tensor = torch.from_numpy(y_test).float().to(DEVICE)\n",
    "\n",
    "    train_data = TensorDataset(x_train_tensor, y_train_tensor)\n",
    "    test_data = TensorDataset(x_test_tensor, y_test_tensor)\n",
    "\n",
    "    train_loader = DataLoader(train_data, batch_size, shuffle=True)\n",
    "    test_loader = DataLoader(test_data, batch_size, shuffle=False)\n",
    "\n",
    "    model = SelfAttention(num_attention_heads, x_train.shape[1], hidden_dim, output_dim,\n",
    "                          hidden_dropout_prob=hidden_dropout_prob, kernel_size=kernel_size,\n",
    "                          attention_probs_dropout_prob=attention_probs_dropout_prob).to(DEVICE)\n",
    "    loss_function = torch.nn.MSELoss()\n",
    "    optimizer = torch.optim.Adam(model.parameters(), lr=LR)\n",
    "\n",
    "\n",
    "    best_corr_coef = -1\n",
    "\n",
    "    for epoch in range(epochs):\n",
    "        model.train()\n",
    "        running_loss = 0\n",
    "        train_bar = tqdm(train_loader, desc=f'第 {epoch + 1}/{epochs} 轮')\n",
    "        for data in train_bar:\n",
    "            x_batch, y_batch = data\n",
    "            optimizer.zero_grad()\n",
    "            y_pred = model(x_batch)\n",
    "            loss = loss_function(y_pred, y_batch.reshape(-1, 1))\n",
    "            loss.backward()\n",
    "            optimizer.step()\n",
    "\n",
    "            running_loss += loss.item()\n",
    "\n",
    "    model.eval()\n",
    "    y_test_preds, y_test_trues = [], []\n",
    "    with torch.no_grad():\n",
    "        for x_batch, y_batch in test_loader:\n",
    "            y_test_pred = model(x_batch)\n",
    "            y_test_preds.extend(y_test_pred.cpu().numpy().reshape(-1).tolist())\n",
    "            y_test_trues.extend(y_batch.cpu().numpy().reshape(-1).tolist())\n",
    "\n",
    "    corr_coef = np.corrcoef(y_test_preds, y_test_trues)[0, 1]\n",
    "    if corr_coef > best_corr_coef:\n",
    "        best_corr_coef = corr_coef\n",
    "        torch.save(model.state_dict(), save_path)\n",
    "    best_corr_coefs.append(best_corr_coef)\n",
    "\n",
    "    print(f'Fold {fold+1} - Epoch {epoch+1}: Best Correlation Coefficient: {best_corr_coef:.4f}')\n",
    "\n",
    "end_time = time.time()\n",
    "execution_time = end_time - start_time\n",
    "print(f\"time: {execution_time} 秒\")\n"
   ]
  },
  {
   "cell_type": "code",
   "execution_count": 12,
   "id": "3711c164-7927-4b8f-aa1c-c86207638e52",
   "metadata": {},
   "outputs": [
    {
     "name": "stdout",
     "output_type": "stream",
     "text": [
      "代码执行时间: 49.294885873794556 秒\n"
     ]
    }
   ],
   "source": [
    "print(f\"time: {execution_time} 秒\")"
   ]
  },
  {
   "cell_type": "code",
   "execution_count": 13,
   "id": "6c05c14b-90c7-4cbc-9210-2010dc21dae4",
   "metadata": {},
   "outputs": [
    {
     "name": "stdout",
     "output_type": "stream",
     "text": [
      "各折最佳相关系数: [0.6204604270681354, 0.6205777043714434, 0.574362386416875, 0.6417912193165571, 0.6898473025298972]\n",
      "平均最佳相关系数: 0.6294\n",
      "0.018700676682622236\n"
     ]
    }
   ],
   "source": [
    "average = np.mean(best_corr_coefs)\n",
    "print(best_corr_coefs)\n",
    "print(f\"corr: {average:.4f}\")\n",
    "import numpy as np\n",
    "# \n",
    "performance_scores = np.array(best_corr_coefs)\n",
    "mean_score = np.mean(performance_scores)\n",
    "sample_variance = np.var(performance_scores, ddof=1)\n",
    "sample_std_dev = np.sqrt(sample_variance)\n",
    "standard_error = sample_std_dev / np.sqrt(len(performance_scores))\n",
    "print(standard_error)"
   ]
  },
  {
   "cell_type": "code",
   "execution_count": 14,
   "id": "5ad6e308-ee0a-4989-9f5f-4c46be8f906e",
   "metadata": {},
   "outputs": [
    {
     "data": {
      "text/plain": [
       "<All keys matched successfully>"
      ]
     },
     "execution_count": 14,
     "metadata": {},
     "output_type": "execute_result"
    }
   ],
   "source": [
    "### load_model\n",
    "model_g = SelfAttention(num_attention_heads, \n",
    "                      X_train_reduction.shape[1], \n",
    "                      hidden_dim, \n",
    "                      output_dim,\n",
    "                      hidden_dropout_prob=hidden_dropout_prob,\n",
    "                      kernel_size = kernel_size,\n",
    "                      attention_probs_dropout_prob=attention_probs_dropout_prob).to(DEVICE)\n",
    "model_g.load_state_dict(torch.load(\"./cn_at_gra_len_wid.pth\"))"
   ]
  },
  {
   "cell_type": "code",
   "execution_count": 15,
   "id": "1e8fafdf-91ce-4991-8353-89b6384df003",
   "metadata": {},
   "outputs": [],
   "source": [
    "\n",
    "data_test_tensor = torch.from_numpy(X_test_reduction).to(torch.float32).to(DEVICE)\n",
    "label_test_tensor = torch.from_numpy(Y_test).to(torch.float32).to(DEVICE)"
   ]
  },
  {
   "cell_type": "code",
   "execution_count": 16,
   "id": "4d43b278-321f-4086-bc40-b402d5006cdb",
   "metadata": {},
   "outputs": [
    {
     "name": "stdout",
     "output_type": "stream",
     "text": [
      "test_corr 0.6581845998413244\n"
     ]
    }
   ],
   "source": [
    "model_g.eval()\n",
    "with torch.no_grad():\n",
    "    g_output = model_g(data_test_tensor)\n",
    "pre = g_output.cpu().detach().numpy().reshape(-1).tolist()\n",
    "tru = label_test_tensor.cpu().detach().numpy().reshape(-1).tolist()\n",
    "test_corr_coef = np.corrcoef(pre, tru)[0,1]\n",
    "print(\"test_corr\",test_corr_coef)"
   ]
  },
  {
   "cell_type": "code",
   "execution_count": null,
   "id": "cb2deb41-55ae-4855-b00a-676048613a98",
   "metadata": {},
   "outputs": [],
   "source": []
  },
  {
   "cell_type": "code",
   "execution_count": null,
   "id": "2c67ee8b-6c73-45ab-a8b7-ee5106fea8fa",
   "metadata": {},
   "outputs": [],
   "source": []
  },
  {
   "cell_type": "code",
   "execution_count": null,
   "id": "a81cb839-18aa-4071-808d-4039b967be14",
   "metadata": {},
   "outputs": [],
   "source": []
  },
  {
   "cell_type": "code",
   "execution_count": null,
   "id": "de841734-ff52-475a-8e07-a7f3e9791e5e",
   "metadata": {},
   "outputs": [],
   "source": []
  },
  {
   "cell_type": "code",
   "execution_count": null,
   "id": "5cd705e6-3c66-405a-b375-5504d5299057",
   "metadata": {},
   "outputs": [],
   "source": []
  },
  {
   "cell_type": "code",
   "execution_count": null,
   "id": "f860302f-f5b2-4f9f-8d31-1148467cb268",
   "metadata": {},
   "outputs": [],
   "source": []
  },
  {
   "cell_type": "code",
   "execution_count": null,
   "id": "fdc08beb-7a5c-4a41-a8a2-4d8c8791adeb",
   "metadata": {},
   "outputs": [],
   "source": []
  },
  {
   "cell_type": "code",
   "execution_count": null,
   "id": "d9245221-478a-4bf2-be95-360ee2a16cf8",
   "metadata": {},
   "outputs": [],
   "source": []
  },
  {
   "cell_type": "code",
   "execution_count": null,
   "id": "28c748c4-7fd5-463f-9d2d-4059cd40b24c",
   "metadata": {},
   "outputs": [],
   "source": []
  },
  {
   "cell_type": "code",
   "execution_count": 20,
   "id": "b1ede45b-6a8c-43a2-b730-42c209dddbd5",
   "metadata": {},
   "outputs": [],
   "source": []
  },
  {
   "cell_type": "code",
   "execution_count": null,
   "id": "27c61662-f003-443c-ab0a-f52e0cffa144",
   "metadata": {},
   "outputs": [],
   "source": []
  }
 ],
 "metadata": {
  "kernelspec": {
   "display_name": "Python [conda env:pytorch2]",
   "language": "python",
   "name": "conda-env-pytorch2-py"
  },
  "language_info": {
   "codemirror_mode": {
    "name": "ipython",
    "version": 3
   },
   "file_extension": ".py",
   "mimetype": "text/x-python",
   "name": "python",
   "nbconvert_exporter": "python",
   "pygments_lexer": "ipython3",
   "version": "3.8.16"
  }
 },
 "nbformat": 4,
 "nbformat_minor": 5
}
