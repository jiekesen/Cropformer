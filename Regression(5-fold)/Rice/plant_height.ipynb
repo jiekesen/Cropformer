{
 "cells": [
  {
   "cell_type": "code",
   "execution_count": 1,
   "id": "e639669d-6e24-4dd2-b3c0-5785d4efecd2",
   "metadata": {},
   "outputs": [],
   "source": [
    "import pandas as pd\n",
    "import torch.nn as nn\n",
    "import torch\n",
    "import time\n",
    "import os\n",
    "import matplotlib.pyplot as plt\n",
    "import numpy as np\n",
    "import pandas as pd\n",
    "import torch.nn as nn\n",
    "from torch.nn import BatchNorm1d\n",
    "from torch.utils.data import TensorDataset\n",
    "from tqdm import tqdm\n",
    "import torch.nn.functional as F\n",
    "from sklearn.model_selection import KFold, train_test_split\n",
    "from torch.utils.data import TensorDataset, DataLoader\n",
    "from sklearn.preprocessing import StandardScaler\n",
    "import torch.optim as optim\n",
    "from tqdm.auto import tqdm"
   ]
  },
  {
   "cell_type": "code",
   "execution_count": 2,
   "id": "08232f73-575f-4a0a-8e81-0577a26c2e0d",
   "metadata": {},
   "outputs": [],
   "source": [
    "label = pd.read_csv(\"./plant_height_2018HN_label.csv\")\n",
    "data = pd.read_csv(\"./plant_height_2018HN_data.csv\")"
   ]
  },
  {
   "cell_type": "code",
   "execution_count": 3,
   "id": "d4ad30f6-efaa-4f62-897c-66864eee492c",
   "metadata": {},
   "outputs": [],
   "source": [
    "scaler = StandardScaler().fit(data)\n",
    "X_scaled = scaler.transform(data)\n",
    "X_scaled = pd.DataFrame(X_scaled)"
   ]
  },
  {
   "cell_type": "code",
   "execution_count": 4,
   "id": "c7af7511-4712-48dc-9075-bc854c88d9c7",
   "metadata": {},
   "outputs": [],
   "source": [
    "X_train_reduction, X_test_reduction, Y_train, Y_test = train_test_split(data, label,test_size=0.2, random_state=6)"
   ]
  },
  {
   "cell_type": "code",
   "execution_count": 5,
   "id": "e157ee5f-a195-4a80-90cc-5ab47eefff93",
   "metadata": {},
   "outputs": [],
   "source": [
    "Y_train = pd.DataFrame(Y_train)\n",
    "Y_test = pd.DataFrame(Y_test)\n",
    "Y_train = Y_train.values.astype(float)\n",
    "Y_test = Y_test.values.astype(float)\n",
    "X_train_reduction = pd.DataFrame(X_train_reduction)\n",
    "X_test_reduction = pd.DataFrame(X_test_reduction)\n",
    "X_train_reduction = X_train_reduction.values.astype(float)\n",
    "X_test_reduction = X_test_reduction.values.astype(float)"
   ]
  },
  {
   "cell_type": "code",
   "execution_count": 6,
   "id": "069ec6e9-c158-4d54-b8b6-9c9cabdc2aaa",
   "metadata": {},
   "outputs": [
    {
     "name": "stdout",
     "output_type": "stream",
     "text": [
      "Device used: cuda\n"
     ]
    }
   ],
   "source": [
    "DEVICE = torch.device('cuda' if torch.cuda.is_available() else 'cpu')\n",
    "print(f'Device used: {DEVICE}')\n",
    "is_scaler = False\n",
    "batch_size = 128  \n",
    "hidden_dim = 256  \n",
    "output_dim = 1  \n",
    "num_attention_heads = 8\n",
    "kernel_size = 3\n",
    "best_corr_coef = -1\n",
    "LR = 0.0001\n",
    "epochs = 100\n",
    "\n",
    "hidden_dropout_prob=0.5\n",
    "attention_probs_dropout_prob = 0.5"
   ]
  },
  {
   "cell_type": "code",
   "execution_count": 7,
   "id": "17cda053-3c77-4f32-8eb1-f76bb92dd23e",
   "metadata": {},
   "outputs": [],
   "source": [
    "class LayerNorm(nn.Module):\n",
    "    def __init__(self, hidden_size, eps=1e-12):\n",
    "        \"\"\"Construct a layernorm module in the TF style (epsilon inside the square root).\n",
    "        \"\"\"\n",
    "        super(LayerNorm, self).__init__()\n",
    "        self.weight = nn.Parameter(torch.ones(hidden_size))\n",
    "        self.bias = nn.Parameter(torch.zeros(hidden_size))\n",
    "        self.variance_epsilon = eps\n",
    "\n",
    "    def forward(self, x):\n",
    "        u = x.mean(-1, keepdim=True)\n",
    "        s = (x - u).pow(2).mean(-1, keepdim=True)\n",
    "        x = (x - u) / torch.sqrt(s + self.variance_epsilon)\n",
    "        return self.weight * x + self.bias"
   ]
  },
  {
   "cell_type": "code",
   "execution_count": 8,
   "id": "e0bffabd-c39e-40a3-903d-00731903b529",
   "metadata": {},
   "outputs": [],
   "source": [
    "\n",
    "class SelfAttention(nn.Module):\n",
    "    def __init__(self, num_attention_heads, input_size, hidden_size, output_dim=1, kernel_size=3,\n",
    "                 hidden_dropout_prob=0.5, attention_probs_dropout_prob=0.5):\n",
    "        super(SelfAttention, self).__init__()\n",
    "        input_size = input_size - kernel_size + 1\n",
    "\n",
    "        if hidden_size % num_attention_heads != 0:\n",
    "            raise ValueError(\n",
    "                \"The hidden size (%d) is not a multiple of the number of attention \"\n",
    "                \"heads (%d)\" % (hidden_size, num_attention_heads))\n",
    "\n",
    "        self.num_attention_heads = num_attention_heads\n",
    "        self.attention_head_size = int(hidden_size / num_attention_heads)\n",
    "        self.all_head_size = hidden_size\n",
    "\n",
    "        self.query = nn.Linear(input_size, self.all_head_size)\n",
    "        self.key = nn.Linear(input_size, self.all_head_size)\n",
    "        self.value = nn.Linear(input_size, self.all_head_size)\n",
    "\n",
    "        self.attn_dropout = nn.Dropout(attention_probs_dropout_prob)\n",
    "        self.out_dropout = nn.Dropout(hidden_dropout_prob)\n",
    "\n",
    "        self.dense = nn.Linear(hidden_size, input_size)\n",
    "\n",
    "        self.LayerNorm = LayerNorm(input_size, eps=1e-12)\n",
    "\n",
    "        self.out = nn.Linear(input_size, output_dim)\n",
    "\n",
    "        self.cnn = nn.Conv1d(1, 1, kernel_size, stride=1)\n",
    "        self.relu = nn.ReLU()\n",
    "        self.LeakyReLU = nn.LeakyReLU()\n",
    "        self.dropout = nn.Dropout(0.5)\n",
    "\n",
    "    def transpose_for_scores(self, x):\n",
    "        new_x_shape = x.size()[:-1] + (self.num_attention_heads, self.attention_head_size)\n",
    "        x = x.view(*new_x_shape)\n",
    "        return x.permute(0, 2, 1, 3)\n",
    "\n",
    "    def forward(self, input_tensor): #input tensor (128,10000)\n",
    "        cnn_hidden = self.cnn(input_tensor.view(input_tensor.size(0), 1, -1))#(128,1,9998)\n",
    "        # input_tensor = input_tensor.view(input_tensor.size(0), -1, input_tensor.size(-1))#(128,1,10000)\n",
    "        cnn_hidden = self.LeakyReLU(cnn_hidden)\n",
    "\n",
    "        cnn_hidden = self.dropout(cnn_hidden)\n",
    "\n",
    "        input_tensor = cnn_hidden\n",
    "        self.cnn_result = input_tensor\n",
    "\n",
    "        mixed_query_layer = self.query(input_tensor)\n",
    "        mixed_key_layer = self.key(input_tensor)\n",
    "        mixed_value_layer = self.value(input_tensor)\n",
    "\n",
    "        self.mixed_query_layer_ = mixed_query_layer\n",
    "        self.mixed_key_layer_ = mixed_key_layer\n",
    "        self.mixed_value_layer_ = mixed_value_layer\n",
    "\n",
    "        query_layer = self.transpose_for_scores(mixed_query_layer)\n",
    "        key_layer = self.transpose_for_scores(mixed_key_layer)\n",
    "        value_layer = self.transpose_for_scores(mixed_value_layer)\n",
    "\n",
    "        self.query_layer_ = query_layer\n",
    "        self.key_layer_ = key_layer\n",
    "        self.value_layer_ = value_layer\n",
    "\n",
    "        # Take the dot product between \"query\" and \"key\" to get the raw attention scores.\n",
    "        attention_scores = torch.matmul(query_layer, key_layer.transpose(-1, -2))\n",
    "        attention_scores = attention_scores / np.sqrt(self.attention_head_size)\n",
    "        self.attention_scores_ = attention_scores\n",
    "        # Normalize the attention scores to probabilities.\n",
    "        attention_probs = nn.Softmax(dim=-1)(attention_scores)\n",
    "        self.attention_probs_ = attention_probs\n",
    "        attention_probs = self.attn_dropout(attention_probs)\n",
    "        self.attention_probs__ = attention_probs\n",
    "\n",
    "        context_layer = torch.matmul(attention_probs, value_layer)\n",
    "        self.context_layer_ = context_layer\n",
    "\n",
    "        context_layer = context_layer.permute(0, 2, 1, 3).contiguous()\n",
    "        self.context_layer__ = context_layer\n",
    "\n",
    "        new_context_layer_shape = context_layer.size()[:-2] + (self.all_head_size,)\n",
    "        self.new_context_layer_shape_ = new_context_layer_shape\n",
    "\n",
    "        context_layer = context_layer.view(*new_context_layer_shape)\n",
    "        self.context_layer3 = context_layer\n",
    "\n",
    "        hidden_states = self.dense(context_layer)\n",
    "        self.h1 = hidden_states\n",
    "\n",
    "        hidden_states = self.out_dropout(hidden_states) #128，1，9998\n",
    "        self.h2 = hidden_states\n",
    "\n",
    "        hidden_states = self.LayerNorm(hidden_states + input_tensor) #128，1，9998\n",
    "        self.h3 = hidden_states\n",
    "\n",
    "        output = self.out(self.LeakyReLU(hidden_states.view(hidden_states.size(0), -1)))\n",
    "        self.o = output\n",
    "        return output\n"
   ]
  },
  {
   "cell_type": "code",
   "execution_count": 9,
   "id": "067d2dd7-d8a0-4fd2-a8dc-87a0b0f0ca7b",
   "metadata": {},
   "outputs": [
    {
     "data": {
      "text/plain": [
       "<torch._C.Generator at 0x7fad319777d0>"
      ]
     },
     "execution_count": 9,
     "metadata": {},
     "output_type": "execute_result"
    }
   ],
   "source": [
    "np.random.seed(42)\n",
    "torch.manual_seed(42)"
   ]
  },
  {
   "cell_type": "code",
   "execution_count": 10,
   "id": "323e5ace-cd72-4f3f-aa36-4a6b8090ac5e",
   "metadata": {},
   "outputs": [],
   "source": [
    "save_path = './cn_at_pla_heig.pth'"
   ]
  },
  {
   "cell_type": "code",
   "execution_count": 11,
   "id": "945aaea3-9e2b-4dfa-bcf1-0b1704b1ecef",
   "metadata": {},
   "outputs": [],
   "source": [
    "kf = KFold(n_splits=5, shuffle=True, random_state=42)\n",
    "\n",
    "best_corr_coefs = []"
   ]
  },
  {
   "cell_type": "code",
   "execution_count": 12,
   "id": "64b713bf-dbc2-4fb3-ac0b-194bd3388078",
   "metadata": {},
   "outputs": [
    {
     "data": {
      "application/vnd.jupyter.widget-view+json": {
       "model_id": "5139408bff3542f68481d8bc02fc15eb",
       "version_major": 2,
       "version_minor": 0
      },
      "text/plain": [
       "第 1/100 轮:   0%|          | 0/14 [00:00<?, ?it/s]"
      ]
     },
     "metadata": {},
     "output_type": "display_data"
    },
    {
     "data": {
      "application/vnd.jupyter.widget-view+json": {
       "model_id": "45944368750048a5af9a5141a1d60ab1",
       "version_major": 2,
       "version_minor": 0
      },
      "text/plain": [
       "第 2/100 轮:   0%|          | 0/14 [00:00<?, ?it/s]"
      ]
     },
     "metadata": {},
     "output_type": "display_data"
    },
    {
     "data": {
      "application/vnd.jupyter.widget-view+json": {
       "model_id": "15be7eb22a974b1a832de449e18c4e0a",
       "version_major": 2,
       "version_minor": 0
      },
      "text/plain": [
       "第 3/100 轮:   0%|          | 0/14 [00:00<?, ?it/s]"
      ]
     },
     "metadata": {},
     "output_type": "display_data"
    },
    {
     "data": {
      "application/vnd.jupyter.widget-view+json": {
       "model_id": "15c70c8976eb4a1681e6e13f550e4ef0",
       "version_major": 2,
       "version_minor": 0
      },
      "text/plain": [
       "第 4/100 轮:   0%|          | 0/14 [00:00<?, ?it/s]"
      ]
     },
     "metadata": {},
     "output_type": "display_data"
    },
    {
     "data": {
      "application/vnd.jupyter.widget-view+json": {
       "model_id": "4d384302b93f422db370383234c661dc",
       "version_major": 2,
       "version_minor": 0
      },
      "text/plain": [
       "第 5/100 轮:   0%|          | 0/14 [00:00<?, ?it/s]"
      ]
     },
     "metadata": {},
     "output_type": "display_data"
    },
    {
     "data": {
      "application/vnd.jupyter.widget-view+json": {
       "model_id": "e02d38f29a9e4b8dac88ca5986ba2c83",
       "version_major": 2,
       "version_minor": 0
      },
      "text/plain": [
       "第 6/100 轮:   0%|          | 0/14 [00:00<?, ?it/s]"
      ]
     },
     "metadata": {},
     "output_type": "display_data"
    },
    {
     "data": {
      "application/vnd.jupyter.widget-view+json": {
       "model_id": "3ddfb5103e9c464baead36a822f4ae66",
       "version_major": 2,
       "version_minor": 0
      },
      "text/plain": [
       "第 7/100 轮:   0%|          | 0/14 [00:00<?, ?it/s]"
      ]
     },
     "metadata": {},
     "output_type": "display_data"
    },
    {
     "data": {
      "application/vnd.jupyter.widget-view+json": {
       "model_id": "911310b3329f4a1bb0a8278bca7d43a6",
       "version_major": 2,
       "version_minor": 0
      },
      "text/plain": [
       "第 8/100 轮:   0%|          | 0/14 [00:00<?, ?it/s]"
      ]
     },
     "metadata": {},
     "output_type": "display_data"
    },
    {
     "data": {
      "application/vnd.jupyter.widget-view+json": {
       "model_id": "184d75a126334eb1852d9f0947aef4a7",
       "version_major": 2,
       "version_minor": 0
      },
      "text/plain": [
       "第 9/100 轮:   0%|          | 0/14 [00:00<?, ?it/s]"
      ]
     },
     "metadata": {},
     "output_type": "display_data"
    },
    {
     "data": {
      "application/vnd.jupyter.widget-view+json": {
       "model_id": "e8f6695744aa42cd8e4671a06b8e1a01",
       "version_major": 2,
       "version_minor": 0
      },
      "text/plain": [
       "第 10/100 轮:   0%|          | 0/14 [00:00<?, ?it/s]"
      ]
     },
     "metadata": {},
     "output_type": "display_data"
    },
    {
     "data": {
      "application/vnd.jupyter.widget-view+json": {
       "model_id": "78e170db87114ec8908af4104ea37ac1",
       "version_major": 2,
       "version_minor": 0
      },
      "text/plain": [
       "第 11/100 轮:   0%|          | 0/14 [00:00<?, ?it/s]"
      ]
     },
     "metadata": {},
     "output_type": "display_data"
    },
    {
     "data": {
      "application/vnd.jupyter.widget-view+json": {
       "model_id": "54c7190a05414c2ba2203e12dd122dff",
       "version_major": 2,
       "version_minor": 0
      },
      "text/plain": [
       "第 12/100 轮:   0%|          | 0/14 [00:00<?, ?it/s]"
      ]
     },
     "metadata": {},
     "output_type": "display_data"
    },
    {
     "data": {
      "application/vnd.jupyter.widget-view+json": {
       "model_id": "177c61ea4bbe41c8b43546f81e2d47df",
       "version_major": 2,
       "version_minor": 0
      },
      "text/plain": [
       "第 13/100 轮:   0%|          | 0/14 [00:00<?, ?it/s]"
      ]
     },
     "metadata": {},
     "output_type": "display_data"
    },
    {
     "data": {
      "application/vnd.jupyter.widget-view+json": {
       "model_id": "960b1a6b2fd6425a83b2fdc32bd26076",
       "version_major": 2,
       "version_minor": 0
      },
      "text/plain": [
       "第 14/100 轮:   0%|          | 0/14 [00:00<?, ?it/s]"
      ]
     },
     "metadata": {},
     "output_type": "display_data"
    },
    {
     "data": {
      "application/vnd.jupyter.widget-view+json": {
       "model_id": "518d1a7c0be84896a4ab6f119236f43e",
       "version_major": 2,
       "version_minor": 0
      },
      "text/plain": [
       "第 15/100 轮:   0%|          | 0/14 [00:00<?, ?it/s]"
      ]
     },
     "metadata": {},
     "output_type": "display_data"
    },
    {
     "data": {
      "application/vnd.jupyter.widget-view+json": {
       "model_id": "0f96ec25beff40d289fed4c63f85ef5d",
       "version_major": 2,
       "version_minor": 0
      },
      "text/plain": [
       "第 16/100 轮:   0%|          | 0/14 [00:00<?, ?it/s]"
      ]
     },
     "metadata": {},
     "output_type": "display_data"
    },
    {
     "data": {
      "application/vnd.jupyter.widget-view+json": {
       "model_id": "60a04e8c79004244ba78234ed1038300",
       "version_major": 2,
       "version_minor": 0
      },
      "text/plain": [
       "第 17/100 轮:   0%|          | 0/14 [00:00<?, ?it/s]"
      ]
     },
     "metadata": {},
     "output_type": "display_data"
    },
    {
     "data": {
      "application/vnd.jupyter.widget-view+json": {
       "model_id": "f653323964dd4b10abfeecb194a8f8b3",
       "version_major": 2,
       "version_minor": 0
      },
      "text/plain": [
       "第 18/100 轮:   0%|          | 0/14 [00:00<?, ?it/s]"
      ]
     },
     "metadata": {},
     "output_type": "display_data"
    },
    {
     "data": {
      "application/vnd.jupyter.widget-view+json": {
       "model_id": "e0846fd6d121496ab50816f382c6b145",
       "version_major": 2,
       "version_minor": 0
      },
      "text/plain": [
       "第 19/100 轮:   0%|          | 0/14 [00:00<?, ?it/s]"
      ]
     },
     "metadata": {},
     "output_type": "display_data"
    },
    {
     "data": {
      "application/vnd.jupyter.widget-view+json": {
       "model_id": "6fb50faa38094bc3862d2b535a82f203",
       "version_major": 2,
       "version_minor": 0
      },
      "text/plain": [
       "第 20/100 轮:   0%|          | 0/14 [00:00<?, ?it/s]"
      ]
     },
     "metadata": {},
     "output_type": "display_data"
    },
    {
     "data": {
      "application/vnd.jupyter.widget-view+json": {
       "model_id": "1c804f47cdac467a8c35885cc196d254",
       "version_major": 2,
       "version_minor": 0
      },
      "text/plain": [
       "第 21/100 轮:   0%|          | 0/14 [00:00<?, ?it/s]"
      ]
     },
     "metadata": {},
     "output_type": "display_data"
    },
    {
     "data": {
      "application/vnd.jupyter.widget-view+json": {
       "model_id": "0eedb56015e844288bc62664c6fa27a8",
       "version_major": 2,
       "version_minor": 0
      },
      "text/plain": [
       "第 22/100 轮:   0%|          | 0/14 [00:00<?, ?it/s]"
      ]
     },
     "metadata": {},
     "output_type": "display_data"
    },
    {
     "data": {
      "application/vnd.jupyter.widget-view+json": {
       "model_id": "fbaf159ebe5d48b18d5c4c5755175558",
       "version_major": 2,
       "version_minor": 0
      },
      "text/plain": [
       "第 23/100 轮:   0%|          | 0/14 [00:00<?, ?it/s]"
      ]
     },
     "metadata": {},
     "output_type": "display_data"
    },
    {
     "data": {
      "application/vnd.jupyter.widget-view+json": {
       "model_id": "0f035f1047424e22b1126b3881262e9f",
       "version_major": 2,
       "version_minor": 0
      },
      "text/plain": [
       "第 24/100 轮:   0%|          | 0/14 [00:00<?, ?it/s]"
      ]
     },
     "metadata": {},
     "output_type": "display_data"
    },
    {
     "data": {
      "application/vnd.jupyter.widget-view+json": {
       "model_id": "352d40b1ca6a4548be0c0813c2a74dd3",
       "version_major": 2,
       "version_minor": 0
      },
      "text/plain": [
       "第 25/100 轮:   0%|          | 0/14 [00:00<?, ?it/s]"
      ]
     },
     "metadata": {},
     "output_type": "display_data"
    },
    {
     "data": {
      "application/vnd.jupyter.widget-view+json": {
       "model_id": "3dc98cb9fe5c4b96a110a8739a87352c",
       "version_major": 2,
       "version_minor": 0
      },
      "text/plain": [
       "第 26/100 轮:   0%|          | 0/14 [00:00<?, ?it/s]"
      ]
     },
     "metadata": {},
     "output_type": "display_data"
    },
    {
     "data": {
      "application/vnd.jupyter.widget-view+json": {
       "model_id": "31e297ed41fb429888bfd846055f7ec9",
       "version_major": 2,
       "version_minor": 0
      },
      "text/plain": [
       "第 27/100 轮:   0%|          | 0/14 [00:00<?, ?it/s]"
      ]
     },
     "metadata": {},
     "output_type": "display_data"
    },
    {
     "data": {
      "application/vnd.jupyter.widget-view+json": {
       "model_id": "12c8836300344fc19521a328e2aea1d2",
       "version_major": 2,
       "version_minor": 0
      },
      "text/plain": [
       "第 28/100 轮:   0%|          | 0/14 [00:00<?, ?it/s]"
      ]
     },
     "metadata": {},
     "output_type": "display_data"
    },
    {
     "data": {
      "application/vnd.jupyter.widget-view+json": {
       "model_id": "e62e87147cfe48658133ab8df5c7eebe",
       "version_major": 2,
       "version_minor": 0
      },
      "text/plain": [
       "第 29/100 轮:   0%|          | 0/14 [00:00<?, ?it/s]"
      ]
     },
     "metadata": {},
     "output_type": "display_data"
    },
    {
     "data": {
      "application/vnd.jupyter.widget-view+json": {
       "model_id": "c0f2ac72001f48438273b2befe8a1be1",
       "version_major": 2,
       "version_minor": 0
      },
      "text/plain": [
       "第 30/100 轮:   0%|          | 0/14 [00:00<?, ?it/s]"
      ]
     },
     "metadata": {},
     "output_type": "display_data"
    },
    {
     "data": {
      "application/vnd.jupyter.widget-view+json": {
       "model_id": "394cc2ba3c8241b99cac078a0472c508",
       "version_major": 2,
       "version_minor": 0
      },
      "text/plain": [
       "第 31/100 轮:   0%|          | 0/14 [00:00<?, ?it/s]"
      ]
     },
     "metadata": {},
     "output_type": "display_data"
    },
    {
     "data": {
      "application/vnd.jupyter.widget-view+json": {
       "model_id": "809db0edd5f14f0d962fe1cae354ebbf",
       "version_major": 2,
       "version_minor": 0
      },
      "text/plain": [
       "第 32/100 轮:   0%|          | 0/14 [00:00<?, ?it/s]"
      ]
     },
     "metadata": {},
     "output_type": "display_data"
    },
    {
     "data": {
      "application/vnd.jupyter.widget-view+json": {
       "model_id": "5e7742b58c7e48cdad496fa461336046",
       "version_major": 2,
       "version_minor": 0
      },
      "text/plain": [
       "第 33/100 轮:   0%|          | 0/14 [00:00<?, ?it/s]"
      ]
     },
     "metadata": {},
     "output_type": "display_data"
    },
    {
     "data": {
      "application/vnd.jupyter.widget-view+json": {
       "model_id": "d1edde61c270468f9c533c114ad79273",
       "version_major": 2,
       "version_minor": 0
      },
      "text/plain": [
       "第 34/100 轮:   0%|          | 0/14 [00:00<?, ?it/s]"
      ]
     },
     "metadata": {},
     "output_type": "display_data"
    },
    {
     "data": {
      "application/vnd.jupyter.widget-view+json": {
       "model_id": "0c77826738af4a8fb051cb46b3229507",
       "version_major": 2,
       "version_minor": 0
      },
      "text/plain": [
       "第 35/100 轮:   0%|          | 0/14 [00:00<?, ?it/s]"
      ]
     },
     "metadata": {},
     "output_type": "display_data"
    },
    {
     "data": {
      "application/vnd.jupyter.widget-view+json": {
       "model_id": "b1b10b7a90fe434c8f7e1bdafb48b990",
       "version_major": 2,
       "version_minor": 0
      },
      "text/plain": [
       "第 36/100 轮:   0%|          | 0/14 [00:00<?, ?it/s]"
      ]
     },
     "metadata": {},
     "output_type": "display_data"
    },
    {
     "data": {
      "application/vnd.jupyter.widget-view+json": {
       "model_id": "582450c2daa94d1d9a71b43c46853708",
       "version_major": 2,
       "version_minor": 0
      },
      "text/plain": [
       "第 37/100 轮:   0%|          | 0/14 [00:00<?, ?it/s]"
      ]
     },
     "metadata": {},
     "output_type": "display_data"
    },
    {
     "data": {
      "application/vnd.jupyter.widget-view+json": {
       "model_id": "2e885638952442b091689e821dfce805",
       "version_major": 2,
       "version_minor": 0
      },
      "text/plain": [
       "第 38/100 轮:   0%|          | 0/14 [00:00<?, ?it/s]"
      ]
     },
     "metadata": {},
     "output_type": "display_data"
    },
    {
     "data": {
      "application/vnd.jupyter.widget-view+json": {
       "model_id": "2ced87fc39424527b460efc08ad8a740",
       "version_major": 2,
       "version_minor": 0
      },
      "text/plain": [
       "第 39/100 轮:   0%|          | 0/14 [00:00<?, ?it/s]"
      ]
     },
     "metadata": {},
     "output_type": "display_data"
    },
    {
     "data": {
      "application/vnd.jupyter.widget-view+json": {
       "model_id": "7ee6d03396c843bebbf8794a07d70246",
       "version_major": 2,
       "version_minor": 0
      },
      "text/plain": [
       "第 40/100 轮:   0%|          | 0/14 [00:00<?, ?it/s]"
      ]
     },
     "metadata": {},
     "output_type": "display_data"
    },
    {
     "data": {
      "application/vnd.jupyter.widget-view+json": {
       "model_id": "60bd0bb19385450890f4708896a40d5f",
       "version_major": 2,
       "version_minor": 0
      },
      "text/plain": [
       "第 41/100 轮:   0%|          | 0/14 [00:00<?, ?it/s]"
      ]
     },
     "metadata": {},
     "output_type": "display_data"
    },
    {
     "data": {
      "application/vnd.jupyter.widget-view+json": {
       "model_id": "d5e967cc8d254a58947fc2fbce741c99",
       "version_major": 2,
       "version_minor": 0
      },
      "text/plain": [
       "第 42/100 轮:   0%|          | 0/14 [00:00<?, ?it/s]"
      ]
     },
     "metadata": {},
     "output_type": "display_data"
    },
    {
     "data": {
      "application/vnd.jupyter.widget-view+json": {
       "model_id": "24dd436065684199927d702d4f7ddb58",
       "version_major": 2,
       "version_minor": 0
      },
      "text/plain": [
       "第 43/100 轮:   0%|          | 0/14 [00:00<?, ?it/s]"
      ]
     },
     "metadata": {},
     "output_type": "display_data"
    },
    {
     "data": {
      "application/vnd.jupyter.widget-view+json": {
       "model_id": "aa7e8c7dfed4418ba01b9f2ec5e6662c",
       "version_major": 2,
       "version_minor": 0
      },
      "text/plain": [
       "第 44/100 轮:   0%|          | 0/14 [00:00<?, ?it/s]"
      ]
     },
     "metadata": {},
     "output_type": "display_data"
    },
    {
     "data": {
      "application/vnd.jupyter.widget-view+json": {
       "model_id": "86904571edba4d33a12b8f0606f92e04",
       "version_major": 2,
       "version_minor": 0
      },
      "text/plain": [
       "第 45/100 轮:   0%|          | 0/14 [00:00<?, ?it/s]"
      ]
     },
     "metadata": {},
     "output_type": "display_data"
    },
    {
     "data": {
      "application/vnd.jupyter.widget-view+json": {
       "model_id": "43638dfbf38c434ea6595722eb552e8d",
       "version_major": 2,
       "version_minor": 0
      },
      "text/plain": [
       "第 46/100 轮:   0%|          | 0/14 [00:00<?, ?it/s]"
      ]
     },
     "metadata": {},
     "output_type": "display_data"
    },
    {
     "data": {
      "application/vnd.jupyter.widget-view+json": {
       "model_id": "050b9a575fd74106a4ef28a847d24246",
       "version_major": 2,
       "version_minor": 0
      },
      "text/plain": [
       "第 47/100 轮:   0%|          | 0/14 [00:00<?, ?it/s]"
      ]
     },
     "metadata": {},
     "output_type": "display_data"
    },
    {
     "data": {
      "application/vnd.jupyter.widget-view+json": {
       "model_id": "3c874c0878e84c999c8f25aff6d088ba",
       "version_major": 2,
       "version_minor": 0
      },
      "text/plain": [
       "第 48/100 轮:   0%|          | 0/14 [00:00<?, ?it/s]"
      ]
     },
     "metadata": {},
     "output_type": "display_data"
    },
    {
     "data": {
      "application/vnd.jupyter.widget-view+json": {
       "model_id": "ef5a6e23f90c49848a7c3b46799281d9",
       "version_major": 2,
       "version_minor": 0
      },
      "text/plain": [
       "第 49/100 轮:   0%|          | 0/14 [00:00<?, ?it/s]"
      ]
     },
     "metadata": {},
     "output_type": "display_data"
    },
    {
     "data": {
      "application/vnd.jupyter.widget-view+json": {
       "model_id": "c7b449423c22457f952624c9bae47ed1",
       "version_major": 2,
       "version_minor": 0
      },
      "text/plain": [
       "第 50/100 轮:   0%|          | 0/14 [00:00<?, ?it/s]"
      ]
     },
     "metadata": {},
     "output_type": "display_data"
    },
    {
     "data": {
      "application/vnd.jupyter.widget-view+json": {
       "model_id": "39beb5b7be2c45d1ad9b00f36b9bcef0",
       "version_major": 2,
       "version_minor": 0
      },
      "text/plain": [
       "第 51/100 轮:   0%|          | 0/14 [00:00<?, ?it/s]"
      ]
     },
     "metadata": {},
     "output_type": "display_data"
    },
    {
     "data": {
      "application/vnd.jupyter.widget-view+json": {
       "model_id": "c090b8573d2d4b82bce5d825f53a8f93",
       "version_major": 2,
       "version_minor": 0
      },
      "text/plain": [
       "第 52/100 轮:   0%|          | 0/14 [00:00<?, ?it/s]"
      ]
     },
     "metadata": {},
     "output_type": "display_data"
    },
    {
     "data": {
      "application/vnd.jupyter.widget-view+json": {
       "model_id": "0d128a4fd3df4131bc9d83b176014e1e",
       "version_major": 2,
       "version_minor": 0
      },
      "text/plain": [
       "第 53/100 轮:   0%|          | 0/14 [00:00<?, ?it/s]"
      ]
     },
     "metadata": {},
     "output_type": "display_data"
    },
    {
     "data": {
      "application/vnd.jupyter.widget-view+json": {
       "model_id": "298a9fc02a2c4cf2aa1d6ce2768ce871",
       "version_major": 2,
       "version_minor": 0
      },
      "text/plain": [
       "第 54/100 轮:   0%|          | 0/14 [00:00<?, ?it/s]"
      ]
     },
     "metadata": {},
     "output_type": "display_data"
    },
    {
     "data": {
      "application/vnd.jupyter.widget-view+json": {
       "model_id": "7a30732f6f57425b989a01b8269c4fcf",
       "version_major": 2,
       "version_minor": 0
      },
      "text/plain": [
       "第 55/100 轮:   0%|          | 0/14 [00:00<?, ?it/s]"
      ]
     },
     "metadata": {},
     "output_type": "display_data"
    },
    {
     "data": {
      "application/vnd.jupyter.widget-view+json": {
       "model_id": "4c5fef661448444fa2f087248aaebbe8",
       "version_major": 2,
       "version_minor": 0
      },
      "text/plain": [
       "第 56/100 轮:   0%|          | 0/14 [00:00<?, ?it/s]"
      ]
     },
     "metadata": {},
     "output_type": "display_data"
    },
    {
     "data": {
      "application/vnd.jupyter.widget-view+json": {
       "model_id": "e2e0602db9ca481795cf455dee857f8d",
       "version_major": 2,
       "version_minor": 0
      },
      "text/plain": [
       "第 57/100 轮:   0%|          | 0/14 [00:00<?, ?it/s]"
      ]
     },
     "metadata": {},
     "output_type": "display_data"
    },
    {
     "data": {
      "application/vnd.jupyter.widget-view+json": {
       "model_id": "0c3007e42e224527ad4fb7857664a9ca",
       "version_major": 2,
       "version_minor": 0
      },
      "text/plain": [
       "第 58/100 轮:   0%|          | 0/14 [00:00<?, ?it/s]"
      ]
     },
     "metadata": {},
     "output_type": "display_data"
    },
    {
     "data": {
      "application/vnd.jupyter.widget-view+json": {
       "model_id": "20eab9f5b3ad4c3ea85af67fedc5acb0",
       "version_major": 2,
       "version_minor": 0
      },
      "text/plain": [
       "第 59/100 轮:   0%|          | 0/14 [00:00<?, ?it/s]"
      ]
     },
     "metadata": {},
     "output_type": "display_data"
    },
    {
     "data": {
      "application/vnd.jupyter.widget-view+json": {
       "model_id": "03099eba558c40e3aedf237631e6f355",
       "version_major": 2,
       "version_minor": 0
      },
      "text/plain": [
       "第 60/100 轮:   0%|          | 0/14 [00:00<?, ?it/s]"
      ]
     },
     "metadata": {},
     "output_type": "display_data"
    },
    {
     "data": {
      "application/vnd.jupyter.widget-view+json": {
       "model_id": "3d6d4361138c445caf165b30400f4d54",
       "version_major": 2,
       "version_minor": 0
      },
      "text/plain": [
       "第 61/100 轮:   0%|          | 0/14 [00:00<?, ?it/s]"
      ]
     },
     "metadata": {},
     "output_type": "display_data"
    },
    {
     "data": {
      "application/vnd.jupyter.widget-view+json": {
       "model_id": "ba4957452b9a43d0ab5bcaed5285e2a9",
       "version_major": 2,
       "version_minor": 0
      },
      "text/plain": [
       "第 62/100 轮:   0%|          | 0/14 [00:00<?, ?it/s]"
      ]
     },
     "metadata": {},
     "output_type": "display_data"
    },
    {
     "data": {
      "application/vnd.jupyter.widget-view+json": {
       "model_id": "48b30f22eb064e01b0216799141db21f",
       "version_major": 2,
       "version_minor": 0
      },
      "text/plain": [
       "第 63/100 轮:   0%|          | 0/14 [00:00<?, ?it/s]"
      ]
     },
     "metadata": {},
     "output_type": "display_data"
    },
    {
     "data": {
      "application/vnd.jupyter.widget-view+json": {
       "model_id": "97d489e8ca8a42709ac688770ef251da",
       "version_major": 2,
       "version_minor": 0
      },
      "text/plain": [
       "第 64/100 轮:   0%|          | 0/14 [00:00<?, ?it/s]"
      ]
     },
     "metadata": {},
     "output_type": "display_data"
    },
    {
     "data": {
      "application/vnd.jupyter.widget-view+json": {
       "model_id": "719f3ca3803c49e49dcf8c3b3f9b4cba",
       "version_major": 2,
       "version_minor": 0
      },
      "text/plain": [
       "第 65/100 轮:   0%|          | 0/14 [00:00<?, ?it/s]"
      ]
     },
     "metadata": {},
     "output_type": "display_data"
    },
    {
     "data": {
      "application/vnd.jupyter.widget-view+json": {
       "model_id": "49c472bc90f74afab9ba6fb92858160b",
       "version_major": 2,
       "version_minor": 0
      },
      "text/plain": [
       "第 66/100 轮:   0%|          | 0/14 [00:00<?, ?it/s]"
      ]
     },
     "metadata": {},
     "output_type": "display_data"
    },
    {
     "data": {
      "application/vnd.jupyter.widget-view+json": {
       "model_id": "311e9810363349598c5930c4008f8dca",
       "version_major": 2,
       "version_minor": 0
      },
      "text/plain": [
       "第 67/100 轮:   0%|          | 0/14 [00:00<?, ?it/s]"
      ]
     },
     "metadata": {},
     "output_type": "display_data"
    },
    {
     "data": {
      "application/vnd.jupyter.widget-view+json": {
       "model_id": "f838835d6a904c0fbcc12b5194a74d16",
       "version_major": 2,
       "version_minor": 0
      },
      "text/plain": [
       "第 68/100 轮:   0%|          | 0/14 [00:00<?, ?it/s]"
      ]
     },
     "metadata": {},
     "output_type": "display_data"
    },
    {
     "data": {
      "application/vnd.jupyter.widget-view+json": {
       "model_id": "1db47debcf0949d4bbf934f0a42ae4cf",
       "version_major": 2,
       "version_minor": 0
      },
      "text/plain": [
       "第 69/100 轮:   0%|          | 0/14 [00:00<?, ?it/s]"
      ]
     },
     "metadata": {},
     "output_type": "display_data"
    },
    {
     "data": {
      "application/vnd.jupyter.widget-view+json": {
       "model_id": "48fff8ab597747ce9c05e82b54ac4f58",
       "version_major": 2,
       "version_minor": 0
      },
      "text/plain": [
       "第 70/100 轮:   0%|          | 0/14 [00:00<?, ?it/s]"
      ]
     },
     "metadata": {},
     "output_type": "display_data"
    },
    {
     "data": {
      "application/vnd.jupyter.widget-view+json": {
       "model_id": "f3859cdf49704f74ac873109f4909e8e",
       "version_major": 2,
       "version_minor": 0
      },
      "text/plain": [
       "第 71/100 轮:   0%|          | 0/14 [00:00<?, ?it/s]"
      ]
     },
     "metadata": {},
     "output_type": "display_data"
    },
    {
     "data": {
      "application/vnd.jupyter.widget-view+json": {
       "model_id": "587fb2378ac34f1eb7aa1434fdab8af0",
       "version_major": 2,
       "version_minor": 0
      },
      "text/plain": [
       "第 72/100 轮:   0%|          | 0/14 [00:00<?, ?it/s]"
      ]
     },
     "metadata": {},
     "output_type": "display_data"
    },
    {
     "data": {
      "application/vnd.jupyter.widget-view+json": {
       "model_id": "f37dfc7e91e34edc8aaf63f3c531f3f9",
       "version_major": 2,
       "version_minor": 0
      },
      "text/plain": [
       "第 73/100 轮:   0%|          | 0/14 [00:00<?, ?it/s]"
      ]
     },
     "metadata": {},
     "output_type": "display_data"
    },
    {
     "data": {
      "application/vnd.jupyter.widget-view+json": {
       "model_id": "87aa4b00f63a4bfa8d7bfb5096eb1916",
       "version_major": 2,
       "version_minor": 0
      },
      "text/plain": [
       "第 74/100 轮:   0%|          | 0/14 [00:00<?, ?it/s]"
      ]
     },
     "metadata": {},
     "output_type": "display_data"
    },
    {
     "data": {
      "application/vnd.jupyter.widget-view+json": {
       "model_id": "00cd725dc0b046eeb0d4b14110f495b9",
       "version_major": 2,
       "version_minor": 0
      },
      "text/plain": [
       "第 75/100 轮:   0%|          | 0/14 [00:00<?, ?it/s]"
      ]
     },
     "metadata": {},
     "output_type": "display_data"
    },
    {
     "data": {
      "application/vnd.jupyter.widget-view+json": {
       "model_id": "440570d9fdb54d6c923350ed1ff3643e",
       "version_major": 2,
       "version_minor": 0
      },
      "text/plain": [
       "第 76/100 轮:   0%|          | 0/14 [00:00<?, ?it/s]"
      ]
     },
     "metadata": {},
     "output_type": "display_data"
    },
    {
     "data": {
      "application/vnd.jupyter.widget-view+json": {
       "model_id": "63cd168bdf2a415aac60b1bbb495d9fc",
       "version_major": 2,
       "version_minor": 0
      },
      "text/plain": [
       "第 77/100 轮:   0%|          | 0/14 [00:00<?, ?it/s]"
      ]
     },
     "metadata": {},
     "output_type": "display_data"
    },
    {
     "data": {
      "application/vnd.jupyter.widget-view+json": {
       "model_id": "c1c0cd05bdff47df996b9599f40dd7ca",
       "version_major": 2,
       "version_minor": 0
      },
      "text/plain": [
       "第 78/100 轮:   0%|          | 0/14 [00:00<?, ?it/s]"
      ]
     },
     "metadata": {},
     "output_type": "display_data"
    },
    {
     "data": {
      "application/vnd.jupyter.widget-view+json": {
       "model_id": "0481b7185ca14e28a7cef311712a3110",
       "version_major": 2,
       "version_minor": 0
      },
      "text/plain": [
       "第 79/100 轮:   0%|          | 0/14 [00:00<?, ?it/s]"
      ]
     },
     "metadata": {},
     "output_type": "display_data"
    },
    {
     "data": {
      "application/vnd.jupyter.widget-view+json": {
       "model_id": "d245f6b63e63459eaeb498af6f803e52",
       "version_major": 2,
       "version_minor": 0
      },
      "text/plain": [
       "第 80/100 轮:   0%|          | 0/14 [00:00<?, ?it/s]"
      ]
     },
     "metadata": {},
     "output_type": "display_data"
    },
    {
     "data": {
      "application/vnd.jupyter.widget-view+json": {
       "model_id": "3efaee039633458fb21ab98961e54147",
       "version_major": 2,
       "version_minor": 0
      },
      "text/plain": [
       "第 81/100 轮:   0%|          | 0/14 [00:00<?, ?it/s]"
      ]
     },
     "metadata": {},
     "output_type": "display_data"
    },
    {
     "data": {
      "application/vnd.jupyter.widget-view+json": {
       "model_id": "cf711dfcd4034230864778d2f17afb3a",
       "version_major": 2,
       "version_minor": 0
      },
      "text/plain": [
       "第 82/100 轮:   0%|          | 0/14 [00:00<?, ?it/s]"
      ]
     },
     "metadata": {},
     "output_type": "display_data"
    },
    {
     "data": {
      "application/vnd.jupyter.widget-view+json": {
       "model_id": "b56d3892a4614096983627d336a41866",
       "version_major": 2,
       "version_minor": 0
      },
      "text/plain": [
       "第 83/100 轮:   0%|          | 0/14 [00:00<?, ?it/s]"
      ]
     },
     "metadata": {},
     "output_type": "display_data"
    },
    {
     "data": {
      "application/vnd.jupyter.widget-view+json": {
       "model_id": "7f75775188f44cf5b0eb0d7ffd320145",
       "version_major": 2,
       "version_minor": 0
      },
      "text/plain": [
       "第 84/100 轮:   0%|          | 0/14 [00:00<?, ?it/s]"
      ]
     },
     "metadata": {},
     "output_type": "display_data"
    },
    {
     "data": {
      "application/vnd.jupyter.widget-view+json": {
       "model_id": "2fcdb2cfaa1340ecb48e9da4c535c8ef",
       "version_major": 2,
       "version_minor": 0
      },
      "text/plain": [
       "第 85/100 轮:   0%|          | 0/14 [00:00<?, ?it/s]"
      ]
     },
     "metadata": {},
     "output_type": "display_data"
    },
    {
     "data": {
      "application/vnd.jupyter.widget-view+json": {
       "model_id": "0baaf144ebdb4ff599c078dfe3bd9809",
       "version_major": 2,
       "version_minor": 0
      },
      "text/plain": [
       "第 86/100 轮:   0%|          | 0/14 [00:00<?, ?it/s]"
      ]
     },
     "metadata": {},
     "output_type": "display_data"
    },
    {
     "data": {
      "application/vnd.jupyter.widget-view+json": {
       "model_id": "d9e5be4e03774c349fc4cfc829db2f5c",
       "version_major": 2,
       "version_minor": 0
      },
      "text/plain": [
       "第 87/100 轮:   0%|          | 0/14 [00:00<?, ?it/s]"
      ]
     },
     "metadata": {},
     "output_type": "display_data"
    },
    {
     "data": {
      "application/vnd.jupyter.widget-view+json": {
       "model_id": "3a571b9dd41c43f2876de87079b11c5e",
       "version_major": 2,
       "version_minor": 0
      },
      "text/plain": [
       "第 88/100 轮:   0%|          | 0/14 [00:00<?, ?it/s]"
      ]
     },
     "metadata": {},
     "output_type": "display_data"
    },
    {
     "data": {
      "application/vnd.jupyter.widget-view+json": {
       "model_id": "35d27cce3bbb41568611a51e7a6e40ec",
       "version_major": 2,
       "version_minor": 0
      },
      "text/plain": [
       "第 89/100 轮:   0%|          | 0/14 [00:00<?, ?it/s]"
      ]
     },
     "metadata": {},
     "output_type": "display_data"
    },
    {
     "data": {
      "application/vnd.jupyter.widget-view+json": {
       "model_id": "d0db46897f7f478a9314244e7f4e33f6",
       "version_major": 2,
       "version_minor": 0
      },
      "text/plain": [
       "第 90/100 轮:   0%|          | 0/14 [00:00<?, ?it/s]"
      ]
     },
     "metadata": {},
     "output_type": "display_data"
    },
    {
     "data": {
      "application/vnd.jupyter.widget-view+json": {
       "model_id": "76649ff024a74106a6c07ec2261d8c92",
       "version_major": 2,
       "version_minor": 0
      },
      "text/plain": [
       "第 91/100 轮:   0%|          | 0/14 [00:00<?, ?it/s]"
      ]
     },
     "metadata": {},
     "output_type": "display_data"
    },
    {
     "data": {
      "application/vnd.jupyter.widget-view+json": {
       "model_id": "1b71cbadc7e74f2eb2749a6291fbd97a",
       "version_major": 2,
       "version_minor": 0
      },
      "text/plain": [
       "第 92/100 轮:   0%|          | 0/14 [00:00<?, ?it/s]"
      ]
     },
     "metadata": {},
     "output_type": "display_data"
    },
    {
     "data": {
      "application/vnd.jupyter.widget-view+json": {
       "model_id": "4ac01266f9a8437f878451e3cba67f74",
       "version_major": 2,
       "version_minor": 0
      },
      "text/plain": [
       "第 93/100 轮:   0%|          | 0/14 [00:00<?, ?it/s]"
      ]
     },
     "metadata": {},
     "output_type": "display_data"
    },
    {
     "data": {
      "application/vnd.jupyter.widget-view+json": {
       "model_id": "4f05d4010e7f48a2a46c7772e66542c6",
       "version_major": 2,
       "version_minor": 0
      },
      "text/plain": [
       "第 94/100 轮:   0%|          | 0/14 [00:00<?, ?it/s]"
      ]
     },
     "metadata": {},
     "output_type": "display_data"
    },
    {
     "data": {
      "application/vnd.jupyter.widget-view+json": {
       "model_id": "b587c0c191f24c5689617a2d78df4d4d",
       "version_major": 2,
       "version_minor": 0
      },
      "text/plain": [
       "第 95/100 轮:   0%|          | 0/14 [00:00<?, ?it/s]"
      ]
     },
     "metadata": {},
     "output_type": "display_data"
    },
    {
     "data": {
      "application/vnd.jupyter.widget-view+json": {
       "model_id": "70614426ea334e5ca9736e65963975ee",
       "version_major": 2,
       "version_minor": 0
      },
      "text/plain": [
       "第 96/100 轮:   0%|          | 0/14 [00:00<?, ?it/s]"
      ]
     },
     "metadata": {},
     "output_type": "display_data"
    },
    {
     "data": {
      "application/vnd.jupyter.widget-view+json": {
       "model_id": "f32c5f2cdab6463f87e6ffdc4e1ff723",
       "version_major": 2,
       "version_minor": 0
      },
      "text/plain": [
       "第 97/100 轮:   0%|          | 0/14 [00:00<?, ?it/s]"
      ]
     },
     "metadata": {},
     "output_type": "display_data"
    },
    {
     "data": {
      "application/vnd.jupyter.widget-view+json": {
       "model_id": "ab205a974b524290aa1974446a4e50d3",
       "version_major": 2,
       "version_minor": 0
      },
      "text/plain": [
       "第 98/100 轮:   0%|          | 0/14 [00:00<?, ?it/s]"
      ]
     },
     "metadata": {},
     "output_type": "display_data"
    },
    {
     "data": {
      "application/vnd.jupyter.widget-view+json": {
       "model_id": "4ffda4fb6c254d12902216babce853ec",
       "version_major": 2,
       "version_minor": 0
      },
      "text/plain": [
       "第 99/100 轮:   0%|          | 0/14 [00:00<?, ?it/s]"
      ]
     },
     "metadata": {},
     "output_type": "display_data"
    },
    {
     "data": {
      "application/vnd.jupyter.widget-view+json": {
       "model_id": "d16c481c372d4c66b388751115bf947c",
       "version_major": 2,
       "version_minor": 0
      },
      "text/plain": [
       "第 100/100 轮:   0%|          | 0/14 [00:00<?, ?it/s]"
      ]
     },
     "metadata": {},
     "output_type": "display_data"
    },
    {
     "name": "stdout",
     "output_type": "stream",
     "text": [
      "Fold 1 - Epoch 100: Best Correlation Coefficient: 0.7299\n"
     ]
    },
    {
     "data": {
      "application/vnd.jupyter.widget-view+json": {
       "model_id": "04d7e34ac10c4d70a3c2108c900d3582",
       "version_major": 2,
       "version_minor": 0
      },
      "text/plain": [
       "第 1/100 轮:   0%|          | 0/14 [00:00<?, ?it/s]"
      ]
     },
     "metadata": {},
     "output_type": "display_data"
    },
    {
     "data": {
      "application/vnd.jupyter.widget-view+json": {
       "model_id": "8c1e0b4e72ca42e884342a1a23730a36",
       "version_major": 2,
       "version_minor": 0
      },
      "text/plain": [
       "第 2/100 轮:   0%|          | 0/14 [00:00<?, ?it/s]"
      ]
     },
     "metadata": {},
     "output_type": "display_data"
    },
    {
     "data": {
      "application/vnd.jupyter.widget-view+json": {
       "model_id": "b3031ea9a16e497fa6ce25a613cd8934",
       "version_major": 2,
       "version_minor": 0
      },
      "text/plain": [
       "第 3/100 轮:   0%|          | 0/14 [00:00<?, ?it/s]"
      ]
     },
     "metadata": {},
     "output_type": "display_data"
    },
    {
     "data": {
      "application/vnd.jupyter.widget-view+json": {
       "model_id": "c07f9c63986b4f27bc94c90c63de3c2a",
       "version_major": 2,
       "version_minor": 0
      },
      "text/plain": [
       "第 4/100 轮:   0%|          | 0/14 [00:00<?, ?it/s]"
      ]
     },
     "metadata": {},
     "output_type": "display_data"
    },
    {
     "data": {
      "application/vnd.jupyter.widget-view+json": {
       "model_id": "4073a43091294abf94607ea24fdeeb0e",
       "version_major": 2,
       "version_minor": 0
      },
      "text/plain": [
       "第 5/100 轮:   0%|          | 0/14 [00:00<?, ?it/s]"
      ]
     },
     "metadata": {},
     "output_type": "display_data"
    },
    {
     "data": {
      "application/vnd.jupyter.widget-view+json": {
       "model_id": "c607f22e342b410ea3e373c0b0e29df9",
       "version_major": 2,
       "version_minor": 0
      },
      "text/plain": [
       "第 6/100 轮:   0%|          | 0/14 [00:00<?, ?it/s]"
      ]
     },
     "metadata": {},
     "output_type": "display_data"
    },
    {
     "data": {
      "application/vnd.jupyter.widget-view+json": {
       "model_id": "16b5fc5c00b0470fa7b0358a261ccbfe",
       "version_major": 2,
       "version_minor": 0
      },
      "text/plain": [
       "第 7/100 轮:   0%|          | 0/14 [00:00<?, ?it/s]"
      ]
     },
     "metadata": {},
     "output_type": "display_data"
    },
    {
     "data": {
      "application/vnd.jupyter.widget-view+json": {
       "model_id": "cebb1a39beb442c7a34da0d938ac6e63",
       "version_major": 2,
       "version_minor": 0
      },
      "text/plain": [
       "第 8/100 轮:   0%|          | 0/14 [00:00<?, ?it/s]"
      ]
     },
     "metadata": {},
     "output_type": "display_data"
    },
    {
     "data": {
      "application/vnd.jupyter.widget-view+json": {
       "model_id": "f2f23f6078cc47a4ad14872a986bf034",
       "version_major": 2,
       "version_minor": 0
      },
      "text/plain": [
       "第 9/100 轮:   0%|          | 0/14 [00:00<?, ?it/s]"
      ]
     },
     "metadata": {},
     "output_type": "display_data"
    },
    {
     "data": {
      "application/vnd.jupyter.widget-view+json": {
       "model_id": "9b4df5fa5d1a43b0ab6cfe9e373ca33c",
       "version_major": 2,
       "version_minor": 0
      },
      "text/plain": [
       "第 10/100 轮:   0%|          | 0/14 [00:00<?, ?it/s]"
      ]
     },
     "metadata": {},
     "output_type": "display_data"
    },
    {
     "data": {
      "application/vnd.jupyter.widget-view+json": {
       "model_id": "17b2bee10aa8450f8fe27d21f70d59bf",
       "version_major": 2,
       "version_minor": 0
      },
      "text/plain": [
       "第 11/100 轮:   0%|          | 0/14 [00:00<?, ?it/s]"
      ]
     },
     "metadata": {},
     "output_type": "display_data"
    },
    {
     "data": {
      "application/vnd.jupyter.widget-view+json": {
       "model_id": "fe4195dafc384b60aac1e8a36afc63c2",
       "version_major": 2,
       "version_minor": 0
      },
      "text/plain": [
       "第 12/100 轮:   0%|          | 0/14 [00:00<?, ?it/s]"
      ]
     },
     "metadata": {},
     "output_type": "display_data"
    },
    {
     "data": {
      "application/vnd.jupyter.widget-view+json": {
       "model_id": "2a79c809d2944ef48da2c6044d5b4083",
       "version_major": 2,
       "version_minor": 0
      },
      "text/plain": [
       "第 13/100 轮:   0%|          | 0/14 [00:00<?, ?it/s]"
      ]
     },
     "metadata": {},
     "output_type": "display_data"
    },
    {
     "data": {
      "application/vnd.jupyter.widget-view+json": {
       "model_id": "2821b9cca70a428a9d5607ef9cbb378d",
       "version_major": 2,
       "version_minor": 0
      },
      "text/plain": [
       "第 14/100 轮:   0%|          | 0/14 [00:00<?, ?it/s]"
      ]
     },
     "metadata": {},
     "output_type": "display_data"
    },
    {
     "data": {
      "application/vnd.jupyter.widget-view+json": {
       "model_id": "52f3acbdef464efbb63c8a8e7970dbbb",
       "version_major": 2,
       "version_minor": 0
      },
      "text/plain": [
       "第 15/100 轮:   0%|          | 0/14 [00:00<?, ?it/s]"
      ]
     },
     "metadata": {},
     "output_type": "display_data"
    },
    {
     "data": {
      "application/vnd.jupyter.widget-view+json": {
       "model_id": "0d04db3961cb41d891c479059ecef626",
       "version_major": 2,
       "version_minor": 0
      },
      "text/plain": [
       "第 16/100 轮:   0%|          | 0/14 [00:00<?, ?it/s]"
      ]
     },
     "metadata": {},
     "output_type": "display_data"
    },
    {
     "data": {
      "application/vnd.jupyter.widget-view+json": {
       "model_id": "fba63e35582d43288f1c88d1f3274e80",
       "version_major": 2,
       "version_minor": 0
      },
      "text/plain": [
       "第 17/100 轮:   0%|          | 0/14 [00:00<?, ?it/s]"
      ]
     },
     "metadata": {},
     "output_type": "display_data"
    },
    {
     "data": {
      "application/vnd.jupyter.widget-view+json": {
       "model_id": "3272aa85e90441c383899741f160177c",
       "version_major": 2,
       "version_minor": 0
      },
      "text/plain": [
       "第 18/100 轮:   0%|          | 0/14 [00:00<?, ?it/s]"
      ]
     },
     "metadata": {},
     "output_type": "display_data"
    },
    {
     "data": {
      "application/vnd.jupyter.widget-view+json": {
       "model_id": "db34a3dc86944c808781c74a578944dd",
       "version_major": 2,
       "version_minor": 0
      },
      "text/plain": [
       "第 19/100 轮:   0%|          | 0/14 [00:00<?, ?it/s]"
      ]
     },
     "metadata": {},
     "output_type": "display_data"
    },
    {
     "data": {
      "application/vnd.jupyter.widget-view+json": {
       "model_id": "5abc5cd2481a40a2b9434ee2a8d0ff5b",
       "version_major": 2,
       "version_minor": 0
      },
      "text/plain": [
       "第 20/100 轮:   0%|          | 0/14 [00:00<?, ?it/s]"
      ]
     },
     "metadata": {},
     "output_type": "display_data"
    },
    {
     "data": {
      "application/vnd.jupyter.widget-view+json": {
       "model_id": "23ea4d6f5bd94df6ba82f3abfd555466",
       "version_major": 2,
       "version_minor": 0
      },
      "text/plain": [
       "第 21/100 轮:   0%|          | 0/14 [00:00<?, ?it/s]"
      ]
     },
     "metadata": {},
     "output_type": "display_data"
    },
    {
     "data": {
      "application/vnd.jupyter.widget-view+json": {
       "model_id": "9d370ac04a3a4353b53b6fc7827b99db",
       "version_major": 2,
       "version_minor": 0
      },
      "text/plain": [
       "第 22/100 轮:   0%|          | 0/14 [00:00<?, ?it/s]"
      ]
     },
     "metadata": {},
     "output_type": "display_data"
    },
    {
     "data": {
      "application/vnd.jupyter.widget-view+json": {
       "model_id": "5a68c51353f047199e7500985cf13df7",
       "version_major": 2,
       "version_minor": 0
      },
      "text/plain": [
       "第 23/100 轮:   0%|          | 0/14 [00:00<?, ?it/s]"
      ]
     },
     "metadata": {},
     "output_type": "display_data"
    },
    {
     "data": {
      "application/vnd.jupyter.widget-view+json": {
       "model_id": "cc8c598b34e541d0a36c705acb043fdd",
       "version_major": 2,
       "version_minor": 0
      },
      "text/plain": [
       "第 24/100 轮:   0%|          | 0/14 [00:00<?, ?it/s]"
      ]
     },
     "metadata": {},
     "output_type": "display_data"
    },
    {
     "data": {
      "application/vnd.jupyter.widget-view+json": {
       "model_id": "d3603fc23b354d44988d9125ae342e9e",
       "version_major": 2,
       "version_minor": 0
      },
      "text/plain": [
       "第 25/100 轮:   0%|          | 0/14 [00:00<?, ?it/s]"
      ]
     },
     "metadata": {},
     "output_type": "display_data"
    },
    {
     "data": {
      "application/vnd.jupyter.widget-view+json": {
       "model_id": "65a8aebf88864808b9919b3feed046f6",
       "version_major": 2,
       "version_minor": 0
      },
      "text/plain": [
       "第 26/100 轮:   0%|          | 0/14 [00:00<?, ?it/s]"
      ]
     },
     "metadata": {},
     "output_type": "display_data"
    },
    {
     "data": {
      "application/vnd.jupyter.widget-view+json": {
       "model_id": "06d1e12fed284b72a00ce3de3c769781",
       "version_major": 2,
       "version_minor": 0
      },
      "text/plain": [
       "第 27/100 轮:   0%|          | 0/14 [00:00<?, ?it/s]"
      ]
     },
     "metadata": {},
     "output_type": "display_data"
    },
    {
     "data": {
      "application/vnd.jupyter.widget-view+json": {
       "model_id": "a672791c1694423a9a0e90d6aa561d3e",
       "version_major": 2,
       "version_minor": 0
      },
      "text/plain": [
       "第 28/100 轮:   0%|          | 0/14 [00:00<?, ?it/s]"
      ]
     },
     "metadata": {},
     "output_type": "display_data"
    },
    {
     "data": {
      "application/vnd.jupyter.widget-view+json": {
       "model_id": "783b1484d7f54b9a8afde430a96d89e7",
       "version_major": 2,
       "version_minor": 0
      },
      "text/plain": [
       "第 29/100 轮:   0%|          | 0/14 [00:00<?, ?it/s]"
      ]
     },
     "metadata": {},
     "output_type": "display_data"
    },
    {
     "data": {
      "application/vnd.jupyter.widget-view+json": {
       "model_id": "f92c9190107349cd86cbf2f289e468e3",
       "version_major": 2,
       "version_minor": 0
      },
      "text/plain": [
       "第 30/100 轮:   0%|          | 0/14 [00:00<?, ?it/s]"
      ]
     },
     "metadata": {},
     "output_type": "display_data"
    },
    {
     "data": {
      "application/vnd.jupyter.widget-view+json": {
       "model_id": "3303e4ff43e14c2a8739f71ab8292687",
       "version_major": 2,
       "version_minor": 0
      },
      "text/plain": [
       "第 31/100 轮:   0%|          | 0/14 [00:00<?, ?it/s]"
      ]
     },
     "metadata": {},
     "output_type": "display_data"
    },
    {
     "data": {
      "application/vnd.jupyter.widget-view+json": {
       "model_id": "5681d3620e44415ca6d41bfcf85dc0bc",
       "version_major": 2,
       "version_minor": 0
      },
      "text/plain": [
       "第 32/100 轮:   0%|          | 0/14 [00:00<?, ?it/s]"
      ]
     },
     "metadata": {},
     "output_type": "display_data"
    },
    {
     "data": {
      "application/vnd.jupyter.widget-view+json": {
       "model_id": "1190b4aa43e6494f94612df7633d1a86",
       "version_major": 2,
       "version_minor": 0
      },
      "text/plain": [
       "第 33/100 轮:   0%|          | 0/14 [00:00<?, ?it/s]"
      ]
     },
     "metadata": {},
     "output_type": "display_data"
    },
    {
     "data": {
      "application/vnd.jupyter.widget-view+json": {
       "model_id": "e25fe95108d548c5b2ea9966eff259be",
       "version_major": 2,
       "version_minor": 0
      },
      "text/plain": [
       "第 34/100 轮:   0%|          | 0/14 [00:00<?, ?it/s]"
      ]
     },
     "metadata": {},
     "output_type": "display_data"
    },
    {
     "data": {
      "application/vnd.jupyter.widget-view+json": {
       "model_id": "02c0b5a0d3914c199b242403730abb41",
       "version_major": 2,
       "version_minor": 0
      },
      "text/plain": [
       "第 35/100 轮:   0%|          | 0/14 [00:00<?, ?it/s]"
      ]
     },
     "metadata": {},
     "output_type": "display_data"
    },
    {
     "data": {
      "application/vnd.jupyter.widget-view+json": {
       "model_id": "0ecedb9d6a8640869ba04e42dbc4a4ee",
       "version_major": 2,
       "version_minor": 0
      },
      "text/plain": [
       "第 36/100 轮:   0%|          | 0/14 [00:00<?, ?it/s]"
      ]
     },
     "metadata": {},
     "output_type": "display_data"
    },
    {
     "data": {
      "application/vnd.jupyter.widget-view+json": {
       "model_id": "4bb62f346aa24bc6985225b374cea7ac",
       "version_major": 2,
       "version_minor": 0
      },
      "text/plain": [
       "第 37/100 轮:   0%|          | 0/14 [00:00<?, ?it/s]"
      ]
     },
     "metadata": {},
     "output_type": "display_data"
    },
    {
     "data": {
      "application/vnd.jupyter.widget-view+json": {
       "model_id": "18fc6cc4b52e4959992de7c5608efb86",
       "version_major": 2,
       "version_minor": 0
      },
      "text/plain": [
       "第 38/100 轮:   0%|          | 0/14 [00:00<?, ?it/s]"
      ]
     },
     "metadata": {},
     "output_type": "display_data"
    },
    {
     "data": {
      "application/vnd.jupyter.widget-view+json": {
       "model_id": "1f8777980e234303b1bd30bd749c6126",
       "version_major": 2,
       "version_minor": 0
      },
      "text/plain": [
       "第 39/100 轮:   0%|          | 0/14 [00:00<?, ?it/s]"
      ]
     },
     "metadata": {},
     "output_type": "display_data"
    },
    {
     "data": {
      "application/vnd.jupyter.widget-view+json": {
       "model_id": "e544a59d494c44838083d384429f552a",
       "version_major": 2,
       "version_minor": 0
      },
      "text/plain": [
       "第 40/100 轮:   0%|          | 0/14 [00:00<?, ?it/s]"
      ]
     },
     "metadata": {},
     "output_type": "display_data"
    },
    {
     "data": {
      "application/vnd.jupyter.widget-view+json": {
       "model_id": "5261987a4da14884aae59d0462e38d58",
       "version_major": 2,
       "version_minor": 0
      },
      "text/plain": [
       "第 41/100 轮:   0%|          | 0/14 [00:00<?, ?it/s]"
      ]
     },
     "metadata": {},
     "output_type": "display_data"
    },
    {
     "data": {
      "application/vnd.jupyter.widget-view+json": {
       "model_id": "a4548041a39d42749a2a82278dd4b142",
       "version_major": 2,
       "version_minor": 0
      },
      "text/plain": [
       "第 42/100 轮:   0%|          | 0/14 [00:00<?, ?it/s]"
      ]
     },
     "metadata": {},
     "output_type": "display_data"
    },
    {
     "data": {
      "application/vnd.jupyter.widget-view+json": {
       "model_id": "02aa92eb39e549b6b4d07a2f789e97f7",
       "version_major": 2,
       "version_minor": 0
      },
      "text/plain": [
       "第 43/100 轮:   0%|          | 0/14 [00:00<?, ?it/s]"
      ]
     },
     "metadata": {},
     "output_type": "display_data"
    },
    {
     "data": {
      "application/vnd.jupyter.widget-view+json": {
       "model_id": "413043c5bc9a487a81a96282b1c61898",
       "version_major": 2,
       "version_minor": 0
      },
      "text/plain": [
       "第 44/100 轮:   0%|          | 0/14 [00:00<?, ?it/s]"
      ]
     },
     "metadata": {},
     "output_type": "display_data"
    },
    {
     "data": {
      "application/vnd.jupyter.widget-view+json": {
       "model_id": "ad9f8f3b0bb141adaa16c29ebbe41d43",
       "version_major": 2,
       "version_minor": 0
      },
      "text/plain": [
       "第 45/100 轮:   0%|          | 0/14 [00:00<?, ?it/s]"
      ]
     },
     "metadata": {},
     "output_type": "display_data"
    },
    {
     "data": {
      "application/vnd.jupyter.widget-view+json": {
       "model_id": "37fefc3ee3854bcf8a57a9c74aff84df",
       "version_major": 2,
       "version_minor": 0
      },
      "text/plain": [
       "第 46/100 轮:   0%|          | 0/14 [00:00<?, ?it/s]"
      ]
     },
     "metadata": {},
     "output_type": "display_data"
    },
    {
     "data": {
      "application/vnd.jupyter.widget-view+json": {
       "model_id": "fa3c034ce5d141e0a45d520294df2088",
       "version_major": 2,
       "version_minor": 0
      },
      "text/plain": [
       "第 47/100 轮:   0%|          | 0/14 [00:00<?, ?it/s]"
      ]
     },
     "metadata": {},
     "output_type": "display_data"
    },
    {
     "data": {
      "application/vnd.jupyter.widget-view+json": {
       "model_id": "eee7773d5564414cac04978de75f49da",
       "version_major": 2,
       "version_minor": 0
      },
      "text/plain": [
       "第 48/100 轮:   0%|          | 0/14 [00:00<?, ?it/s]"
      ]
     },
     "metadata": {},
     "output_type": "display_data"
    },
    {
     "data": {
      "application/vnd.jupyter.widget-view+json": {
       "model_id": "57b73cbb93584fad90ee7650af9edcc8",
       "version_major": 2,
       "version_minor": 0
      },
      "text/plain": [
       "第 49/100 轮:   0%|          | 0/14 [00:00<?, ?it/s]"
      ]
     },
     "metadata": {},
     "output_type": "display_data"
    },
    {
     "data": {
      "application/vnd.jupyter.widget-view+json": {
       "model_id": "4ec5d618397a4d59b41d922b6e527af7",
       "version_major": 2,
       "version_minor": 0
      },
      "text/plain": [
       "第 50/100 轮:   0%|          | 0/14 [00:00<?, ?it/s]"
      ]
     },
     "metadata": {},
     "output_type": "display_data"
    },
    {
     "data": {
      "application/vnd.jupyter.widget-view+json": {
       "model_id": "8dd8d110bbd24b6c8fe9f7038ea0bc3d",
       "version_major": 2,
       "version_minor": 0
      },
      "text/plain": [
       "第 51/100 轮:   0%|          | 0/14 [00:00<?, ?it/s]"
      ]
     },
     "metadata": {},
     "output_type": "display_data"
    },
    {
     "data": {
      "application/vnd.jupyter.widget-view+json": {
       "model_id": "058dac76f75749ec96866ede1b4ea2ec",
       "version_major": 2,
       "version_minor": 0
      },
      "text/plain": [
       "第 52/100 轮:   0%|          | 0/14 [00:00<?, ?it/s]"
      ]
     },
     "metadata": {},
     "output_type": "display_data"
    },
    {
     "data": {
      "application/vnd.jupyter.widget-view+json": {
       "model_id": "a5246ab4f0864c7181e464f078a9b665",
       "version_major": 2,
       "version_minor": 0
      },
      "text/plain": [
       "第 53/100 轮:   0%|          | 0/14 [00:00<?, ?it/s]"
      ]
     },
     "metadata": {},
     "output_type": "display_data"
    },
    {
     "data": {
      "application/vnd.jupyter.widget-view+json": {
       "model_id": "8432aa53787440399bd40eb2fc598cd6",
       "version_major": 2,
       "version_minor": 0
      },
      "text/plain": [
       "第 54/100 轮:   0%|          | 0/14 [00:00<?, ?it/s]"
      ]
     },
     "metadata": {},
     "output_type": "display_data"
    },
    {
     "data": {
      "application/vnd.jupyter.widget-view+json": {
       "model_id": "5853e3e6d4ab4c2e87ae4206e9ed712b",
       "version_major": 2,
       "version_minor": 0
      },
      "text/plain": [
       "第 55/100 轮:   0%|          | 0/14 [00:00<?, ?it/s]"
      ]
     },
     "metadata": {},
     "output_type": "display_data"
    },
    {
     "data": {
      "application/vnd.jupyter.widget-view+json": {
       "model_id": "cf4e26c74eed4492ba0d67d41b384710",
       "version_major": 2,
       "version_minor": 0
      },
      "text/plain": [
       "第 56/100 轮:   0%|          | 0/14 [00:00<?, ?it/s]"
      ]
     },
     "metadata": {},
     "output_type": "display_data"
    },
    {
     "data": {
      "application/vnd.jupyter.widget-view+json": {
       "model_id": "6f5b47e4cb6643be94cff5e045d3f7b5",
       "version_major": 2,
       "version_minor": 0
      },
      "text/plain": [
       "第 57/100 轮:   0%|          | 0/14 [00:00<?, ?it/s]"
      ]
     },
     "metadata": {},
     "output_type": "display_data"
    },
    {
     "data": {
      "application/vnd.jupyter.widget-view+json": {
       "model_id": "796f0f391ef34811956c233e213fc478",
       "version_major": 2,
       "version_minor": 0
      },
      "text/plain": [
       "第 58/100 轮:   0%|          | 0/14 [00:00<?, ?it/s]"
      ]
     },
     "metadata": {},
     "output_type": "display_data"
    },
    {
     "data": {
      "application/vnd.jupyter.widget-view+json": {
       "model_id": "3b77f5f94deb4a608ada5ff7b71be5a2",
       "version_major": 2,
       "version_minor": 0
      },
      "text/plain": [
       "第 59/100 轮:   0%|          | 0/14 [00:00<?, ?it/s]"
      ]
     },
     "metadata": {},
     "output_type": "display_data"
    },
    {
     "data": {
      "application/vnd.jupyter.widget-view+json": {
       "model_id": "a350f7dc39af4805a22eccd4b24be09f",
       "version_major": 2,
       "version_minor": 0
      },
      "text/plain": [
       "第 60/100 轮:   0%|          | 0/14 [00:00<?, ?it/s]"
      ]
     },
     "metadata": {},
     "output_type": "display_data"
    },
    {
     "data": {
      "application/vnd.jupyter.widget-view+json": {
       "model_id": "e3602f4169d542f0b75975fe7ec090c2",
       "version_major": 2,
       "version_minor": 0
      },
      "text/plain": [
       "第 61/100 轮:   0%|          | 0/14 [00:00<?, ?it/s]"
      ]
     },
     "metadata": {},
     "output_type": "display_data"
    },
    {
     "data": {
      "application/vnd.jupyter.widget-view+json": {
       "model_id": "ed100c8bf7bf4b2cb12967da32e13f5a",
       "version_major": 2,
       "version_minor": 0
      },
      "text/plain": [
       "第 62/100 轮:   0%|          | 0/14 [00:00<?, ?it/s]"
      ]
     },
     "metadata": {},
     "output_type": "display_data"
    },
    {
     "data": {
      "application/vnd.jupyter.widget-view+json": {
       "model_id": "320439e30bbe4763a11225c99698aa0f",
       "version_major": 2,
       "version_minor": 0
      },
      "text/plain": [
       "第 63/100 轮:   0%|          | 0/14 [00:00<?, ?it/s]"
      ]
     },
     "metadata": {},
     "output_type": "display_data"
    },
    {
     "data": {
      "application/vnd.jupyter.widget-view+json": {
       "model_id": "026939cc62c24a3fb37b874d13dfce93",
       "version_major": 2,
       "version_minor": 0
      },
      "text/plain": [
       "第 64/100 轮:   0%|          | 0/14 [00:00<?, ?it/s]"
      ]
     },
     "metadata": {},
     "output_type": "display_data"
    },
    {
     "data": {
      "application/vnd.jupyter.widget-view+json": {
       "model_id": "9c2f81a8f79e4521b7685d371b82ef52",
       "version_major": 2,
       "version_minor": 0
      },
      "text/plain": [
       "第 65/100 轮:   0%|          | 0/14 [00:00<?, ?it/s]"
      ]
     },
     "metadata": {},
     "output_type": "display_data"
    },
    {
     "data": {
      "application/vnd.jupyter.widget-view+json": {
       "model_id": "a1f3b155f1a74c04bbda1e7a2db882ea",
       "version_major": 2,
       "version_minor": 0
      },
      "text/plain": [
       "第 66/100 轮:   0%|          | 0/14 [00:00<?, ?it/s]"
      ]
     },
     "metadata": {},
     "output_type": "display_data"
    },
    {
     "data": {
      "application/vnd.jupyter.widget-view+json": {
       "model_id": "df234c723c7b4048b07d58b2bdea113f",
       "version_major": 2,
       "version_minor": 0
      },
      "text/plain": [
       "第 67/100 轮:   0%|          | 0/14 [00:00<?, ?it/s]"
      ]
     },
     "metadata": {},
     "output_type": "display_data"
    },
    {
     "data": {
      "application/vnd.jupyter.widget-view+json": {
       "model_id": "66c31e1a423f4847bd20ba85bed1e2a3",
       "version_major": 2,
       "version_minor": 0
      },
      "text/plain": [
       "第 68/100 轮:   0%|          | 0/14 [00:00<?, ?it/s]"
      ]
     },
     "metadata": {},
     "output_type": "display_data"
    },
    {
     "data": {
      "application/vnd.jupyter.widget-view+json": {
       "model_id": "ba8aa14d3cb44071b1d578d975811673",
       "version_major": 2,
       "version_minor": 0
      },
      "text/plain": [
       "第 69/100 轮:   0%|          | 0/14 [00:00<?, ?it/s]"
      ]
     },
     "metadata": {},
     "output_type": "display_data"
    },
    {
     "data": {
      "application/vnd.jupyter.widget-view+json": {
       "model_id": "6e20f26fc53e43e8a31165c0c2ad3747",
       "version_major": 2,
       "version_minor": 0
      },
      "text/plain": [
       "第 70/100 轮:   0%|          | 0/14 [00:00<?, ?it/s]"
      ]
     },
     "metadata": {},
     "output_type": "display_data"
    },
    {
     "data": {
      "application/vnd.jupyter.widget-view+json": {
       "model_id": "1e192cc5637a454096f2c5d64d0a7683",
       "version_major": 2,
       "version_minor": 0
      },
      "text/plain": [
       "第 71/100 轮:   0%|          | 0/14 [00:00<?, ?it/s]"
      ]
     },
     "metadata": {},
     "output_type": "display_data"
    },
    {
     "data": {
      "application/vnd.jupyter.widget-view+json": {
       "model_id": "02a826ffb7be42cf8626a6749eb6a613",
       "version_major": 2,
       "version_minor": 0
      },
      "text/plain": [
       "第 72/100 轮:   0%|          | 0/14 [00:00<?, ?it/s]"
      ]
     },
     "metadata": {},
     "output_type": "display_data"
    },
    {
     "data": {
      "application/vnd.jupyter.widget-view+json": {
       "model_id": "155b49a588ab40fab1977a80e7e6ea16",
       "version_major": 2,
       "version_minor": 0
      },
      "text/plain": [
       "第 73/100 轮:   0%|          | 0/14 [00:00<?, ?it/s]"
      ]
     },
     "metadata": {},
     "output_type": "display_data"
    },
    {
     "data": {
      "application/vnd.jupyter.widget-view+json": {
       "model_id": "7730e122ccaf4a02b2d32f25deb22f19",
       "version_major": 2,
       "version_minor": 0
      },
      "text/plain": [
       "第 74/100 轮:   0%|          | 0/14 [00:00<?, ?it/s]"
      ]
     },
     "metadata": {},
     "output_type": "display_data"
    },
    {
     "data": {
      "application/vnd.jupyter.widget-view+json": {
       "model_id": "44788060a99d4a17bf3c4678cff24546",
       "version_major": 2,
       "version_minor": 0
      },
      "text/plain": [
       "第 75/100 轮:   0%|          | 0/14 [00:00<?, ?it/s]"
      ]
     },
     "metadata": {},
     "output_type": "display_data"
    },
    {
     "data": {
      "application/vnd.jupyter.widget-view+json": {
       "model_id": "c037aee2a2594205a059ae52f54a0ed0",
       "version_major": 2,
       "version_minor": 0
      },
      "text/plain": [
       "第 76/100 轮:   0%|          | 0/14 [00:00<?, ?it/s]"
      ]
     },
     "metadata": {},
     "output_type": "display_data"
    },
    {
     "data": {
      "application/vnd.jupyter.widget-view+json": {
       "model_id": "d3ece947d65b45389203747126dcec00",
       "version_major": 2,
       "version_minor": 0
      },
      "text/plain": [
       "第 77/100 轮:   0%|          | 0/14 [00:00<?, ?it/s]"
      ]
     },
     "metadata": {},
     "output_type": "display_data"
    },
    {
     "data": {
      "application/vnd.jupyter.widget-view+json": {
       "model_id": "891f6d1937d440ceb6e28800df31a1a7",
       "version_major": 2,
       "version_minor": 0
      },
      "text/plain": [
       "第 78/100 轮:   0%|          | 0/14 [00:00<?, ?it/s]"
      ]
     },
     "metadata": {},
     "output_type": "display_data"
    },
    {
     "data": {
      "application/vnd.jupyter.widget-view+json": {
       "model_id": "a69399dfdbab4bf7a3c13ac433050381",
       "version_major": 2,
       "version_minor": 0
      },
      "text/plain": [
       "第 79/100 轮:   0%|          | 0/14 [00:00<?, ?it/s]"
      ]
     },
     "metadata": {},
     "output_type": "display_data"
    },
    {
     "data": {
      "application/vnd.jupyter.widget-view+json": {
       "model_id": "6e7f67c7ac8e4ba3927eef79aee807c3",
       "version_major": 2,
       "version_minor": 0
      },
      "text/plain": [
       "第 80/100 轮:   0%|          | 0/14 [00:00<?, ?it/s]"
      ]
     },
     "metadata": {},
     "output_type": "display_data"
    },
    {
     "data": {
      "application/vnd.jupyter.widget-view+json": {
       "model_id": "04ff201f39e34b639e9cf9de67ebac4c",
       "version_major": 2,
       "version_minor": 0
      },
      "text/plain": [
       "第 81/100 轮:   0%|          | 0/14 [00:00<?, ?it/s]"
      ]
     },
     "metadata": {},
     "output_type": "display_data"
    },
    {
     "data": {
      "application/vnd.jupyter.widget-view+json": {
       "model_id": "02e340d3db8b480db18dca9296a7aa32",
       "version_major": 2,
       "version_minor": 0
      },
      "text/plain": [
       "第 82/100 轮:   0%|          | 0/14 [00:00<?, ?it/s]"
      ]
     },
     "metadata": {},
     "output_type": "display_data"
    },
    {
     "data": {
      "application/vnd.jupyter.widget-view+json": {
       "model_id": "65b5b2c66ee54ed9a643398514956f9d",
       "version_major": 2,
       "version_minor": 0
      },
      "text/plain": [
       "第 83/100 轮:   0%|          | 0/14 [00:00<?, ?it/s]"
      ]
     },
     "metadata": {},
     "output_type": "display_data"
    },
    {
     "data": {
      "application/vnd.jupyter.widget-view+json": {
       "model_id": "ee56440a16e2425cad124efb567b6567",
       "version_major": 2,
       "version_minor": 0
      },
      "text/plain": [
       "第 84/100 轮:   0%|          | 0/14 [00:00<?, ?it/s]"
      ]
     },
     "metadata": {},
     "output_type": "display_data"
    },
    {
     "data": {
      "application/vnd.jupyter.widget-view+json": {
       "model_id": "f7a26b04d9d74617819f673c76026ba1",
       "version_major": 2,
       "version_minor": 0
      },
      "text/plain": [
       "第 85/100 轮:   0%|          | 0/14 [00:00<?, ?it/s]"
      ]
     },
     "metadata": {},
     "output_type": "display_data"
    },
    {
     "data": {
      "application/vnd.jupyter.widget-view+json": {
       "model_id": "ae9d0f265f194552b9e3619fa8cade1f",
       "version_major": 2,
       "version_minor": 0
      },
      "text/plain": [
       "第 86/100 轮:   0%|          | 0/14 [00:00<?, ?it/s]"
      ]
     },
     "metadata": {},
     "output_type": "display_data"
    },
    {
     "data": {
      "application/vnd.jupyter.widget-view+json": {
       "model_id": "c03acc94d6f94133801ad06c51bf9f80",
       "version_major": 2,
       "version_minor": 0
      },
      "text/plain": [
       "第 87/100 轮:   0%|          | 0/14 [00:00<?, ?it/s]"
      ]
     },
     "metadata": {},
     "output_type": "display_data"
    },
    {
     "data": {
      "application/vnd.jupyter.widget-view+json": {
       "model_id": "f49611e4aa6e4c13bef4678bca2a9ed5",
       "version_major": 2,
       "version_minor": 0
      },
      "text/plain": [
       "第 88/100 轮:   0%|          | 0/14 [00:00<?, ?it/s]"
      ]
     },
     "metadata": {},
     "output_type": "display_data"
    },
    {
     "data": {
      "application/vnd.jupyter.widget-view+json": {
       "model_id": "9ec7be133f4b4268acc1792e5fd1a661",
       "version_major": 2,
       "version_minor": 0
      },
      "text/plain": [
       "第 89/100 轮:   0%|          | 0/14 [00:00<?, ?it/s]"
      ]
     },
     "metadata": {},
     "output_type": "display_data"
    },
    {
     "data": {
      "application/vnd.jupyter.widget-view+json": {
       "model_id": "a5dd9ace5bc645a7ac0d06796b6ef607",
       "version_major": 2,
       "version_minor": 0
      },
      "text/plain": [
       "第 90/100 轮:   0%|          | 0/14 [00:00<?, ?it/s]"
      ]
     },
     "metadata": {},
     "output_type": "display_data"
    },
    {
     "data": {
      "application/vnd.jupyter.widget-view+json": {
       "model_id": "7ada5b7dc98248398c640fe58941e84f",
       "version_major": 2,
       "version_minor": 0
      },
      "text/plain": [
       "第 91/100 轮:   0%|          | 0/14 [00:00<?, ?it/s]"
      ]
     },
     "metadata": {},
     "output_type": "display_data"
    },
    {
     "data": {
      "application/vnd.jupyter.widget-view+json": {
       "model_id": "7335a09616dc4526981c40f6455fe5b6",
       "version_major": 2,
       "version_minor": 0
      },
      "text/plain": [
       "第 92/100 轮:   0%|          | 0/14 [00:00<?, ?it/s]"
      ]
     },
     "metadata": {},
     "output_type": "display_data"
    },
    {
     "data": {
      "application/vnd.jupyter.widget-view+json": {
       "model_id": "5232a4def86140acbc191fc286a21886",
       "version_major": 2,
       "version_minor": 0
      },
      "text/plain": [
       "第 93/100 轮:   0%|          | 0/14 [00:00<?, ?it/s]"
      ]
     },
     "metadata": {},
     "output_type": "display_data"
    },
    {
     "data": {
      "application/vnd.jupyter.widget-view+json": {
       "model_id": "fbcd35b08e504771ab1b70f73960718f",
       "version_major": 2,
       "version_minor": 0
      },
      "text/plain": [
       "第 94/100 轮:   0%|          | 0/14 [00:00<?, ?it/s]"
      ]
     },
     "metadata": {},
     "output_type": "display_data"
    },
    {
     "data": {
      "application/vnd.jupyter.widget-view+json": {
       "model_id": "3779bf8890d0441d8fd2f5f44ebd9547",
       "version_major": 2,
       "version_minor": 0
      },
      "text/plain": [
       "第 95/100 轮:   0%|          | 0/14 [00:00<?, ?it/s]"
      ]
     },
     "metadata": {},
     "output_type": "display_data"
    },
    {
     "data": {
      "application/vnd.jupyter.widget-view+json": {
       "model_id": "35f30af9e1df41ca8e96bd8ce3f4852f",
       "version_major": 2,
       "version_minor": 0
      },
      "text/plain": [
       "第 96/100 轮:   0%|          | 0/14 [00:00<?, ?it/s]"
      ]
     },
     "metadata": {},
     "output_type": "display_data"
    },
    {
     "data": {
      "application/vnd.jupyter.widget-view+json": {
       "model_id": "fe862a9bc05940c5b41428dc10d29fd9",
       "version_major": 2,
       "version_minor": 0
      },
      "text/plain": [
       "第 97/100 轮:   0%|          | 0/14 [00:00<?, ?it/s]"
      ]
     },
     "metadata": {},
     "output_type": "display_data"
    },
    {
     "data": {
      "application/vnd.jupyter.widget-view+json": {
       "model_id": "d14a67283c0b41e99a128a40cb168a0c",
       "version_major": 2,
       "version_minor": 0
      },
      "text/plain": [
       "第 98/100 轮:   0%|          | 0/14 [00:00<?, ?it/s]"
      ]
     },
     "metadata": {},
     "output_type": "display_data"
    },
    {
     "data": {
      "application/vnd.jupyter.widget-view+json": {
       "model_id": "582e11c8a3f54601bfea0487bfd11702",
       "version_major": 2,
       "version_minor": 0
      },
      "text/plain": [
       "第 99/100 轮:   0%|          | 0/14 [00:00<?, ?it/s]"
      ]
     },
     "metadata": {},
     "output_type": "display_data"
    },
    {
     "data": {
      "application/vnd.jupyter.widget-view+json": {
       "model_id": "176abef02edd42d98bafe472ed82a59c",
       "version_major": 2,
       "version_minor": 0
      },
      "text/plain": [
       "第 100/100 轮:   0%|          | 0/14 [00:00<?, ?it/s]"
      ]
     },
     "metadata": {},
     "output_type": "display_data"
    },
    {
     "name": "stdout",
     "output_type": "stream",
     "text": [
      "Fold 2 - Epoch 100: Best Correlation Coefficient: 0.7763\n"
     ]
    },
    {
     "data": {
      "application/vnd.jupyter.widget-view+json": {
       "model_id": "a428ac32caee498a876640bb13811638",
       "version_major": 2,
       "version_minor": 0
      },
      "text/plain": [
       "第 1/100 轮:   0%|          | 0/14 [00:00<?, ?it/s]"
      ]
     },
     "metadata": {},
     "output_type": "display_data"
    },
    {
     "data": {
      "application/vnd.jupyter.widget-view+json": {
       "model_id": "377f464369644222b105e324a3e2e19d",
       "version_major": 2,
       "version_minor": 0
      },
      "text/plain": [
       "第 2/100 轮:   0%|          | 0/14 [00:00<?, ?it/s]"
      ]
     },
     "metadata": {},
     "output_type": "display_data"
    },
    {
     "data": {
      "application/vnd.jupyter.widget-view+json": {
       "model_id": "123a790696d24d199326864506f9f2bf",
       "version_major": 2,
       "version_minor": 0
      },
      "text/plain": [
       "第 3/100 轮:   0%|          | 0/14 [00:00<?, ?it/s]"
      ]
     },
     "metadata": {},
     "output_type": "display_data"
    },
    {
     "data": {
      "application/vnd.jupyter.widget-view+json": {
       "model_id": "ee6eae1114c34be1934215a8a72c0658",
       "version_major": 2,
       "version_minor": 0
      },
      "text/plain": [
       "第 4/100 轮:   0%|          | 0/14 [00:00<?, ?it/s]"
      ]
     },
     "metadata": {},
     "output_type": "display_data"
    },
    {
     "data": {
      "application/vnd.jupyter.widget-view+json": {
       "model_id": "560208ae659e4563aaec05c44ae77ced",
       "version_major": 2,
       "version_minor": 0
      },
      "text/plain": [
       "第 5/100 轮:   0%|          | 0/14 [00:00<?, ?it/s]"
      ]
     },
     "metadata": {},
     "output_type": "display_data"
    },
    {
     "data": {
      "application/vnd.jupyter.widget-view+json": {
       "model_id": "d4006b36d2904fb494cacd4a9a97df8a",
       "version_major": 2,
       "version_minor": 0
      },
      "text/plain": [
       "第 6/100 轮:   0%|          | 0/14 [00:00<?, ?it/s]"
      ]
     },
     "metadata": {},
     "output_type": "display_data"
    },
    {
     "data": {
      "application/vnd.jupyter.widget-view+json": {
       "model_id": "b1bbbbeaad3d4da6bcc6ea65ef28d097",
       "version_major": 2,
       "version_minor": 0
      },
      "text/plain": [
       "第 7/100 轮:   0%|          | 0/14 [00:00<?, ?it/s]"
      ]
     },
     "metadata": {},
     "output_type": "display_data"
    },
    {
     "data": {
      "application/vnd.jupyter.widget-view+json": {
       "model_id": "5275d6df24f54e03bbce8f2d1f326e98",
       "version_major": 2,
       "version_minor": 0
      },
      "text/plain": [
       "第 8/100 轮:   0%|          | 0/14 [00:00<?, ?it/s]"
      ]
     },
     "metadata": {},
     "output_type": "display_data"
    },
    {
     "data": {
      "application/vnd.jupyter.widget-view+json": {
       "model_id": "ede28a79a2544344bd00394fc06d4f7d",
       "version_major": 2,
       "version_minor": 0
      },
      "text/plain": [
       "第 9/100 轮:   0%|          | 0/14 [00:00<?, ?it/s]"
      ]
     },
     "metadata": {},
     "output_type": "display_data"
    },
    {
     "data": {
      "application/vnd.jupyter.widget-view+json": {
       "model_id": "0bfe41ea94a243ab8853aa83a233628d",
       "version_major": 2,
       "version_minor": 0
      },
      "text/plain": [
       "第 10/100 轮:   0%|          | 0/14 [00:00<?, ?it/s]"
      ]
     },
     "metadata": {},
     "output_type": "display_data"
    },
    {
     "data": {
      "application/vnd.jupyter.widget-view+json": {
       "model_id": "23601c751d6a472181b95833f7a10ca4",
       "version_major": 2,
       "version_minor": 0
      },
      "text/plain": [
       "第 11/100 轮:   0%|          | 0/14 [00:00<?, ?it/s]"
      ]
     },
     "metadata": {},
     "output_type": "display_data"
    },
    {
     "data": {
      "application/vnd.jupyter.widget-view+json": {
       "model_id": "3194aad506a44267a1846dc8e821b114",
       "version_major": 2,
       "version_minor": 0
      },
      "text/plain": [
       "第 12/100 轮:   0%|          | 0/14 [00:00<?, ?it/s]"
      ]
     },
     "metadata": {},
     "output_type": "display_data"
    },
    {
     "data": {
      "application/vnd.jupyter.widget-view+json": {
       "model_id": "58b80c745fde46ddb123205889036cf8",
       "version_major": 2,
       "version_minor": 0
      },
      "text/plain": [
       "第 13/100 轮:   0%|          | 0/14 [00:00<?, ?it/s]"
      ]
     },
     "metadata": {},
     "output_type": "display_data"
    },
    {
     "data": {
      "application/vnd.jupyter.widget-view+json": {
       "model_id": "0d3aa19053e6471d9699ef0cdc094c54",
       "version_major": 2,
       "version_minor": 0
      },
      "text/plain": [
       "第 14/100 轮:   0%|          | 0/14 [00:00<?, ?it/s]"
      ]
     },
     "metadata": {},
     "output_type": "display_data"
    },
    {
     "data": {
      "application/vnd.jupyter.widget-view+json": {
       "model_id": "9dd614aab91743a6846052081dba67b4",
       "version_major": 2,
       "version_minor": 0
      },
      "text/plain": [
       "第 15/100 轮:   0%|          | 0/14 [00:00<?, ?it/s]"
      ]
     },
     "metadata": {},
     "output_type": "display_data"
    },
    {
     "data": {
      "application/vnd.jupyter.widget-view+json": {
       "model_id": "48589faf31514e2fbbd0394454072274",
       "version_major": 2,
       "version_minor": 0
      },
      "text/plain": [
       "第 16/100 轮:   0%|          | 0/14 [00:00<?, ?it/s]"
      ]
     },
     "metadata": {},
     "output_type": "display_data"
    },
    {
     "data": {
      "application/vnd.jupyter.widget-view+json": {
       "model_id": "361b14b0e2074ec58738876130246dc6",
       "version_major": 2,
       "version_minor": 0
      },
      "text/plain": [
       "第 17/100 轮:   0%|          | 0/14 [00:00<?, ?it/s]"
      ]
     },
     "metadata": {},
     "output_type": "display_data"
    },
    {
     "data": {
      "application/vnd.jupyter.widget-view+json": {
       "model_id": "891dc0f4abea4b88a83f2b737b4f0cbb",
       "version_major": 2,
       "version_minor": 0
      },
      "text/plain": [
       "第 18/100 轮:   0%|          | 0/14 [00:00<?, ?it/s]"
      ]
     },
     "metadata": {},
     "output_type": "display_data"
    },
    {
     "data": {
      "application/vnd.jupyter.widget-view+json": {
       "model_id": "828c5c6912074ffbafcedcf0cc91fee7",
       "version_major": 2,
       "version_minor": 0
      },
      "text/plain": [
       "第 19/100 轮:   0%|          | 0/14 [00:00<?, ?it/s]"
      ]
     },
     "metadata": {},
     "output_type": "display_data"
    },
    {
     "data": {
      "application/vnd.jupyter.widget-view+json": {
       "model_id": "4496d489273f447fbed23b85cf400a61",
       "version_major": 2,
       "version_minor": 0
      },
      "text/plain": [
       "第 20/100 轮:   0%|          | 0/14 [00:00<?, ?it/s]"
      ]
     },
     "metadata": {},
     "output_type": "display_data"
    },
    {
     "data": {
      "application/vnd.jupyter.widget-view+json": {
       "model_id": "6c1ac2db9ddd4b3bb730e67affb57590",
       "version_major": 2,
       "version_minor": 0
      },
      "text/plain": [
       "第 21/100 轮:   0%|          | 0/14 [00:00<?, ?it/s]"
      ]
     },
     "metadata": {},
     "output_type": "display_data"
    },
    {
     "data": {
      "application/vnd.jupyter.widget-view+json": {
       "model_id": "0b8bf2dfdb2f44ad9f82efdcdff7e40a",
       "version_major": 2,
       "version_minor": 0
      },
      "text/plain": [
       "第 22/100 轮:   0%|          | 0/14 [00:00<?, ?it/s]"
      ]
     },
     "metadata": {},
     "output_type": "display_data"
    },
    {
     "data": {
      "application/vnd.jupyter.widget-view+json": {
       "model_id": "f2b9a1eacb684b9d83c2be7dc371bbba",
       "version_major": 2,
       "version_minor": 0
      },
      "text/plain": [
       "第 23/100 轮:   0%|          | 0/14 [00:00<?, ?it/s]"
      ]
     },
     "metadata": {},
     "output_type": "display_data"
    },
    {
     "data": {
      "application/vnd.jupyter.widget-view+json": {
       "model_id": "7e72528f9a984619b2c550aa66495621",
       "version_major": 2,
       "version_minor": 0
      },
      "text/plain": [
       "第 24/100 轮:   0%|          | 0/14 [00:00<?, ?it/s]"
      ]
     },
     "metadata": {},
     "output_type": "display_data"
    },
    {
     "data": {
      "application/vnd.jupyter.widget-view+json": {
       "model_id": "1a7cce8dd3c8493da3a96828f173f579",
       "version_major": 2,
       "version_minor": 0
      },
      "text/plain": [
       "第 25/100 轮:   0%|          | 0/14 [00:00<?, ?it/s]"
      ]
     },
     "metadata": {},
     "output_type": "display_data"
    },
    {
     "data": {
      "application/vnd.jupyter.widget-view+json": {
       "model_id": "009269ba2e3040d3b7d04c952999b2ca",
       "version_major": 2,
       "version_minor": 0
      },
      "text/plain": [
       "第 26/100 轮:   0%|          | 0/14 [00:00<?, ?it/s]"
      ]
     },
     "metadata": {},
     "output_type": "display_data"
    },
    {
     "data": {
      "application/vnd.jupyter.widget-view+json": {
       "model_id": "fc966f90147e4f50b5164cec40b98b5c",
       "version_major": 2,
       "version_minor": 0
      },
      "text/plain": [
       "第 27/100 轮:   0%|          | 0/14 [00:00<?, ?it/s]"
      ]
     },
     "metadata": {},
     "output_type": "display_data"
    },
    {
     "data": {
      "application/vnd.jupyter.widget-view+json": {
       "model_id": "af860ac4982541aa98f07aeb5f622480",
       "version_major": 2,
       "version_minor": 0
      },
      "text/plain": [
       "第 28/100 轮:   0%|          | 0/14 [00:00<?, ?it/s]"
      ]
     },
     "metadata": {},
     "output_type": "display_data"
    },
    {
     "data": {
      "application/vnd.jupyter.widget-view+json": {
       "model_id": "ed5b481dadad4c4283e49ae03964a523",
       "version_major": 2,
       "version_minor": 0
      },
      "text/plain": [
       "第 29/100 轮:   0%|          | 0/14 [00:00<?, ?it/s]"
      ]
     },
     "metadata": {},
     "output_type": "display_data"
    },
    {
     "data": {
      "application/vnd.jupyter.widget-view+json": {
       "model_id": "c17304d1c7094a8ba9ab75d51c36868e",
       "version_major": 2,
       "version_minor": 0
      },
      "text/plain": [
       "第 30/100 轮:   0%|          | 0/14 [00:00<?, ?it/s]"
      ]
     },
     "metadata": {},
     "output_type": "display_data"
    },
    {
     "data": {
      "application/vnd.jupyter.widget-view+json": {
       "model_id": "33717308367c470eb50e287c12481a86",
       "version_major": 2,
       "version_minor": 0
      },
      "text/plain": [
       "第 31/100 轮:   0%|          | 0/14 [00:00<?, ?it/s]"
      ]
     },
     "metadata": {},
     "output_type": "display_data"
    },
    {
     "data": {
      "application/vnd.jupyter.widget-view+json": {
       "model_id": "5dcc631a8b2948ba95639b15c67eaecc",
       "version_major": 2,
       "version_minor": 0
      },
      "text/plain": [
       "第 32/100 轮:   0%|          | 0/14 [00:00<?, ?it/s]"
      ]
     },
     "metadata": {},
     "output_type": "display_data"
    },
    {
     "data": {
      "application/vnd.jupyter.widget-view+json": {
       "model_id": "7c50dae11cc94e5dbca7b569f9566908",
       "version_major": 2,
       "version_minor": 0
      },
      "text/plain": [
       "第 33/100 轮:   0%|          | 0/14 [00:00<?, ?it/s]"
      ]
     },
     "metadata": {},
     "output_type": "display_data"
    },
    {
     "data": {
      "application/vnd.jupyter.widget-view+json": {
       "model_id": "7c93a5778c484f83b73728296bcc021f",
       "version_major": 2,
       "version_minor": 0
      },
      "text/plain": [
       "第 34/100 轮:   0%|          | 0/14 [00:00<?, ?it/s]"
      ]
     },
     "metadata": {},
     "output_type": "display_data"
    },
    {
     "data": {
      "application/vnd.jupyter.widget-view+json": {
       "model_id": "f3f7eb60984b4d0ca8c0be52dc8d9f82",
       "version_major": 2,
       "version_minor": 0
      },
      "text/plain": [
       "第 35/100 轮:   0%|          | 0/14 [00:00<?, ?it/s]"
      ]
     },
     "metadata": {},
     "output_type": "display_data"
    },
    {
     "data": {
      "application/vnd.jupyter.widget-view+json": {
       "model_id": "1c12cb745286482abe362d163c3e1244",
       "version_major": 2,
       "version_minor": 0
      },
      "text/plain": [
       "第 36/100 轮:   0%|          | 0/14 [00:00<?, ?it/s]"
      ]
     },
     "metadata": {},
     "output_type": "display_data"
    },
    {
     "data": {
      "application/vnd.jupyter.widget-view+json": {
       "model_id": "40144c707f3f49ae8fde2ad5ebb1b688",
       "version_major": 2,
       "version_minor": 0
      },
      "text/plain": [
       "第 37/100 轮:   0%|          | 0/14 [00:00<?, ?it/s]"
      ]
     },
     "metadata": {},
     "output_type": "display_data"
    },
    {
     "data": {
      "application/vnd.jupyter.widget-view+json": {
       "model_id": "98ebc0c109174c83a456c31f7fd8a637",
       "version_major": 2,
       "version_minor": 0
      },
      "text/plain": [
       "第 38/100 轮:   0%|          | 0/14 [00:00<?, ?it/s]"
      ]
     },
     "metadata": {},
     "output_type": "display_data"
    },
    {
     "data": {
      "application/vnd.jupyter.widget-view+json": {
       "model_id": "2e2a75fe2e8f4c21b19deac09e387867",
       "version_major": 2,
       "version_minor": 0
      },
      "text/plain": [
       "第 39/100 轮:   0%|          | 0/14 [00:00<?, ?it/s]"
      ]
     },
     "metadata": {},
     "output_type": "display_data"
    },
    {
     "data": {
      "application/vnd.jupyter.widget-view+json": {
       "model_id": "d5c038379b784b48a0f3830c081f411f",
       "version_major": 2,
       "version_minor": 0
      },
      "text/plain": [
       "第 40/100 轮:   0%|          | 0/14 [00:00<?, ?it/s]"
      ]
     },
     "metadata": {},
     "output_type": "display_data"
    },
    {
     "data": {
      "application/vnd.jupyter.widget-view+json": {
       "model_id": "854658aac53c437a917bdf8d929f64ca",
       "version_major": 2,
       "version_minor": 0
      },
      "text/plain": [
       "第 41/100 轮:   0%|          | 0/14 [00:00<?, ?it/s]"
      ]
     },
     "metadata": {},
     "output_type": "display_data"
    },
    {
     "data": {
      "application/vnd.jupyter.widget-view+json": {
       "model_id": "61b9ee1928da4aa8932ff99c7cfa7821",
       "version_major": 2,
       "version_minor": 0
      },
      "text/plain": [
       "第 42/100 轮:   0%|          | 0/14 [00:00<?, ?it/s]"
      ]
     },
     "metadata": {},
     "output_type": "display_data"
    },
    {
     "data": {
      "application/vnd.jupyter.widget-view+json": {
       "model_id": "c8642453a68840599f2a8a6ee7d31dc1",
       "version_major": 2,
       "version_minor": 0
      },
      "text/plain": [
       "第 43/100 轮:   0%|          | 0/14 [00:00<?, ?it/s]"
      ]
     },
     "metadata": {},
     "output_type": "display_data"
    },
    {
     "data": {
      "application/vnd.jupyter.widget-view+json": {
       "model_id": "f0f25e0a9bae40b283e36443a3c55b2c",
       "version_major": 2,
       "version_minor": 0
      },
      "text/plain": [
       "第 44/100 轮:   0%|          | 0/14 [00:00<?, ?it/s]"
      ]
     },
     "metadata": {},
     "output_type": "display_data"
    },
    {
     "data": {
      "application/vnd.jupyter.widget-view+json": {
       "model_id": "07315f56038f4401a314b9ff90427d13",
       "version_major": 2,
       "version_minor": 0
      },
      "text/plain": [
       "第 45/100 轮:   0%|          | 0/14 [00:00<?, ?it/s]"
      ]
     },
     "metadata": {},
     "output_type": "display_data"
    },
    {
     "data": {
      "application/vnd.jupyter.widget-view+json": {
       "model_id": "c5c64ad6fa7445b69e38d9b1fb13c935",
       "version_major": 2,
       "version_minor": 0
      },
      "text/plain": [
       "第 46/100 轮:   0%|          | 0/14 [00:00<?, ?it/s]"
      ]
     },
     "metadata": {},
     "output_type": "display_data"
    },
    {
     "data": {
      "application/vnd.jupyter.widget-view+json": {
       "model_id": "80e47c48c16c499d82d899bb13b63941",
       "version_major": 2,
       "version_minor": 0
      },
      "text/plain": [
       "第 47/100 轮:   0%|          | 0/14 [00:00<?, ?it/s]"
      ]
     },
     "metadata": {},
     "output_type": "display_data"
    },
    {
     "data": {
      "application/vnd.jupyter.widget-view+json": {
       "model_id": "0689b1e3ff0d434a979e14251614ac88",
       "version_major": 2,
       "version_minor": 0
      },
      "text/plain": [
       "第 48/100 轮:   0%|          | 0/14 [00:00<?, ?it/s]"
      ]
     },
     "metadata": {},
     "output_type": "display_data"
    },
    {
     "data": {
      "application/vnd.jupyter.widget-view+json": {
       "model_id": "7a54da78488a4d04b2921d392dd95952",
       "version_major": 2,
       "version_minor": 0
      },
      "text/plain": [
       "第 49/100 轮:   0%|          | 0/14 [00:00<?, ?it/s]"
      ]
     },
     "metadata": {},
     "output_type": "display_data"
    },
    {
     "data": {
      "application/vnd.jupyter.widget-view+json": {
       "model_id": "6f8d989c27f04e02a0887efcaff1aef1",
       "version_major": 2,
       "version_minor": 0
      },
      "text/plain": [
       "第 50/100 轮:   0%|          | 0/14 [00:00<?, ?it/s]"
      ]
     },
     "metadata": {},
     "output_type": "display_data"
    },
    {
     "data": {
      "application/vnd.jupyter.widget-view+json": {
       "model_id": "171ff5a0c5934c899312949936f08942",
       "version_major": 2,
       "version_minor": 0
      },
      "text/plain": [
       "第 51/100 轮:   0%|          | 0/14 [00:00<?, ?it/s]"
      ]
     },
     "metadata": {},
     "output_type": "display_data"
    },
    {
     "data": {
      "application/vnd.jupyter.widget-view+json": {
       "model_id": "d295288c58e14f50968e5e06415a9b97",
       "version_major": 2,
       "version_minor": 0
      },
      "text/plain": [
       "第 52/100 轮:   0%|          | 0/14 [00:00<?, ?it/s]"
      ]
     },
     "metadata": {},
     "output_type": "display_data"
    },
    {
     "data": {
      "application/vnd.jupyter.widget-view+json": {
       "model_id": "98458eb8540f43c7b82c945194cb6415",
       "version_major": 2,
       "version_minor": 0
      },
      "text/plain": [
       "第 53/100 轮:   0%|          | 0/14 [00:00<?, ?it/s]"
      ]
     },
     "metadata": {},
     "output_type": "display_data"
    },
    {
     "data": {
      "application/vnd.jupyter.widget-view+json": {
       "model_id": "aa665f3c17754d668205da4e6b8d79a0",
       "version_major": 2,
       "version_minor": 0
      },
      "text/plain": [
       "第 54/100 轮:   0%|          | 0/14 [00:00<?, ?it/s]"
      ]
     },
     "metadata": {},
     "output_type": "display_data"
    },
    {
     "data": {
      "application/vnd.jupyter.widget-view+json": {
       "model_id": "f5858c21d81747a2a51dcb5b552fa191",
       "version_major": 2,
       "version_minor": 0
      },
      "text/plain": [
       "第 55/100 轮:   0%|          | 0/14 [00:00<?, ?it/s]"
      ]
     },
     "metadata": {},
     "output_type": "display_data"
    },
    {
     "data": {
      "application/vnd.jupyter.widget-view+json": {
       "model_id": "45168062b1bb43fe92a363b2dfb1b286",
       "version_major": 2,
       "version_minor": 0
      },
      "text/plain": [
       "第 56/100 轮:   0%|          | 0/14 [00:00<?, ?it/s]"
      ]
     },
     "metadata": {},
     "output_type": "display_data"
    },
    {
     "data": {
      "application/vnd.jupyter.widget-view+json": {
       "model_id": "0039fb95b041460d8a7ce05ee2ef633d",
       "version_major": 2,
       "version_minor": 0
      },
      "text/plain": [
       "第 57/100 轮:   0%|          | 0/14 [00:00<?, ?it/s]"
      ]
     },
     "metadata": {},
     "output_type": "display_data"
    },
    {
     "data": {
      "application/vnd.jupyter.widget-view+json": {
       "model_id": "21b945679c954ec199767f2795b79813",
       "version_major": 2,
       "version_minor": 0
      },
      "text/plain": [
       "第 58/100 轮:   0%|          | 0/14 [00:00<?, ?it/s]"
      ]
     },
     "metadata": {},
     "output_type": "display_data"
    },
    {
     "data": {
      "application/vnd.jupyter.widget-view+json": {
       "model_id": "4262fe6f018a43ad8798fcea1e4c0c6f",
       "version_major": 2,
       "version_minor": 0
      },
      "text/plain": [
       "第 59/100 轮:   0%|          | 0/14 [00:00<?, ?it/s]"
      ]
     },
     "metadata": {},
     "output_type": "display_data"
    },
    {
     "data": {
      "application/vnd.jupyter.widget-view+json": {
       "model_id": "d8cbabcea5f34f24b91333cfa464617d",
       "version_major": 2,
       "version_minor": 0
      },
      "text/plain": [
       "第 60/100 轮:   0%|          | 0/14 [00:00<?, ?it/s]"
      ]
     },
     "metadata": {},
     "output_type": "display_data"
    },
    {
     "data": {
      "application/vnd.jupyter.widget-view+json": {
       "model_id": "cf732ebf90f44475b0faf1a1244d8883",
       "version_major": 2,
       "version_minor": 0
      },
      "text/plain": [
       "第 61/100 轮:   0%|          | 0/14 [00:00<?, ?it/s]"
      ]
     },
     "metadata": {},
     "output_type": "display_data"
    },
    {
     "data": {
      "application/vnd.jupyter.widget-view+json": {
       "model_id": "324ae55f48594eb1be2027a230339eba",
       "version_major": 2,
       "version_minor": 0
      },
      "text/plain": [
       "第 62/100 轮:   0%|          | 0/14 [00:00<?, ?it/s]"
      ]
     },
     "metadata": {},
     "output_type": "display_data"
    },
    {
     "data": {
      "application/vnd.jupyter.widget-view+json": {
       "model_id": "c3b441b8359141058db5b7d11a000c70",
       "version_major": 2,
       "version_minor": 0
      },
      "text/plain": [
       "第 63/100 轮:   0%|          | 0/14 [00:00<?, ?it/s]"
      ]
     },
     "metadata": {},
     "output_type": "display_data"
    },
    {
     "data": {
      "application/vnd.jupyter.widget-view+json": {
       "model_id": "327f413599734ff29ca9b6ed1796ac18",
       "version_major": 2,
       "version_minor": 0
      },
      "text/plain": [
       "第 64/100 轮:   0%|          | 0/14 [00:00<?, ?it/s]"
      ]
     },
     "metadata": {},
     "output_type": "display_data"
    },
    {
     "data": {
      "application/vnd.jupyter.widget-view+json": {
       "model_id": "65cc551bfee248f488d68af335bcced3",
       "version_major": 2,
       "version_minor": 0
      },
      "text/plain": [
       "第 65/100 轮:   0%|          | 0/14 [00:00<?, ?it/s]"
      ]
     },
     "metadata": {},
     "output_type": "display_data"
    },
    {
     "data": {
      "application/vnd.jupyter.widget-view+json": {
       "model_id": "9c235145638d47c9852c10e37126f53e",
       "version_major": 2,
       "version_minor": 0
      },
      "text/plain": [
       "第 66/100 轮:   0%|          | 0/14 [00:00<?, ?it/s]"
      ]
     },
     "metadata": {},
     "output_type": "display_data"
    },
    {
     "data": {
      "application/vnd.jupyter.widget-view+json": {
       "model_id": "2a1acf061f1c4f36b2fa17ee3953c730",
       "version_major": 2,
       "version_minor": 0
      },
      "text/plain": [
       "第 67/100 轮:   0%|          | 0/14 [00:00<?, ?it/s]"
      ]
     },
     "metadata": {},
     "output_type": "display_data"
    },
    {
     "data": {
      "application/vnd.jupyter.widget-view+json": {
       "model_id": "d08f1487cea64972a1cf7dec80705d5a",
       "version_major": 2,
       "version_minor": 0
      },
      "text/plain": [
       "第 68/100 轮:   0%|          | 0/14 [00:00<?, ?it/s]"
      ]
     },
     "metadata": {},
     "output_type": "display_data"
    },
    {
     "data": {
      "application/vnd.jupyter.widget-view+json": {
       "model_id": "9391f38a08b849b3995d9f309ab484cc",
       "version_major": 2,
       "version_minor": 0
      },
      "text/plain": [
       "第 69/100 轮:   0%|          | 0/14 [00:00<?, ?it/s]"
      ]
     },
     "metadata": {},
     "output_type": "display_data"
    },
    {
     "data": {
      "application/vnd.jupyter.widget-view+json": {
       "model_id": "eea55f3259f74858bebc07bd1cd10f1e",
       "version_major": 2,
       "version_minor": 0
      },
      "text/plain": [
       "第 70/100 轮:   0%|          | 0/14 [00:00<?, ?it/s]"
      ]
     },
     "metadata": {},
     "output_type": "display_data"
    },
    {
     "data": {
      "application/vnd.jupyter.widget-view+json": {
       "model_id": "2ec5e47efba7473d95939a4d4dac284d",
       "version_major": 2,
       "version_minor": 0
      },
      "text/plain": [
       "第 71/100 轮:   0%|          | 0/14 [00:00<?, ?it/s]"
      ]
     },
     "metadata": {},
     "output_type": "display_data"
    },
    {
     "data": {
      "application/vnd.jupyter.widget-view+json": {
       "model_id": "7bd54122f81249fc8aeaab4024150066",
       "version_major": 2,
       "version_minor": 0
      },
      "text/plain": [
       "第 72/100 轮:   0%|          | 0/14 [00:00<?, ?it/s]"
      ]
     },
     "metadata": {},
     "output_type": "display_data"
    },
    {
     "data": {
      "application/vnd.jupyter.widget-view+json": {
       "model_id": "06ac3f9429db46c387b133957fd18868",
       "version_major": 2,
       "version_minor": 0
      },
      "text/plain": [
       "第 73/100 轮:   0%|          | 0/14 [00:00<?, ?it/s]"
      ]
     },
     "metadata": {},
     "output_type": "display_data"
    },
    {
     "data": {
      "application/vnd.jupyter.widget-view+json": {
       "model_id": "4301c8411f9d4111a61f77e2d3f87d02",
       "version_major": 2,
       "version_minor": 0
      },
      "text/plain": [
       "第 74/100 轮:   0%|          | 0/14 [00:00<?, ?it/s]"
      ]
     },
     "metadata": {},
     "output_type": "display_data"
    },
    {
     "data": {
      "application/vnd.jupyter.widget-view+json": {
       "model_id": "cf8b1286f009435cad4ab7e9d3de1ebc",
       "version_major": 2,
       "version_minor": 0
      },
      "text/plain": [
       "第 75/100 轮:   0%|          | 0/14 [00:00<?, ?it/s]"
      ]
     },
     "metadata": {},
     "output_type": "display_data"
    },
    {
     "data": {
      "application/vnd.jupyter.widget-view+json": {
       "model_id": "aa436ba6b03c4ee99b6d864f3f04e8cb",
       "version_major": 2,
       "version_minor": 0
      },
      "text/plain": [
       "第 76/100 轮:   0%|          | 0/14 [00:00<?, ?it/s]"
      ]
     },
     "metadata": {},
     "output_type": "display_data"
    },
    {
     "data": {
      "application/vnd.jupyter.widget-view+json": {
       "model_id": "8d52c2ed21d14f3a845931cd2b2daf4a",
       "version_major": 2,
       "version_minor": 0
      },
      "text/plain": [
       "第 77/100 轮:   0%|          | 0/14 [00:00<?, ?it/s]"
      ]
     },
     "metadata": {},
     "output_type": "display_data"
    },
    {
     "data": {
      "application/vnd.jupyter.widget-view+json": {
       "model_id": "4e021613691242a0823d86ba5957823b",
       "version_major": 2,
       "version_minor": 0
      },
      "text/plain": [
       "第 78/100 轮:   0%|          | 0/14 [00:00<?, ?it/s]"
      ]
     },
     "metadata": {},
     "output_type": "display_data"
    },
    {
     "data": {
      "application/vnd.jupyter.widget-view+json": {
       "model_id": "805f96920dbb46c1b756d639138fa294",
       "version_major": 2,
       "version_minor": 0
      },
      "text/plain": [
       "第 79/100 轮:   0%|          | 0/14 [00:00<?, ?it/s]"
      ]
     },
     "metadata": {},
     "output_type": "display_data"
    },
    {
     "data": {
      "application/vnd.jupyter.widget-view+json": {
       "model_id": "3d13b7236ab1461481537ab1159afef6",
       "version_major": 2,
       "version_minor": 0
      },
      "text/plain": [
       "第 80/100 轮:   0%|          | 0/14 [00:00<?, ?it/s]"
      ]
     },
     "metadata": {},
     "output_type": "display_data"
    },
    {
     "data": {
      "application/vnd.jupyter.widget-view+json": {
       "model_id": "6d30e0b6f3ce46339c0cd6bf621e218d",
       "version_major": 2,
       "version_minor": 0
      },
      "text/plain": [
       "第 81/100 轮:   0%|          | 0/14 [00:00<?, ?it/s]"
      ]
     },
     "metadata": {},
     "output_type": "display_data"
    },
    {
     "data": {
      "application/vnd.jupyter.widget-view+json": {
       "model_id": "a9291aaadd724707af81041f2fab1aa4",
       "version_major": 2,
       "version_minor": 0
      },
      "text/plain": [
       "第 82/100 轮:   0%|          | 0/14 [00:00<?, ?it/s]"
      ]
     },
     "metadata": {},
     "output_type": "display_data"
    },
    {
     "data": {
      "application/vnd.jupyter.widget-view+json": {
       "model_id": "abb0a107fb364d83ad6246cee4e8d7c2",
       "version_major": 2,
       "version_minor": 0
      },
      "text/plain": [
       "第 83/100 轮:   0%|          | 0/14 [00:00<?, ?it/s]"
      ]
     },
     "metadata": {},
     "output_type": "display_data"
    },
    {
     "data": {
      "application/vnd.jupyter.widget-view+json": {
       "model_id": "00526f4792194fb3b7c0d8a5d8ae0b90",
       "version_major": 2,
       "version_minor": 0
      },
      "text/plain": [
       "第 84/100 轮:   0%|          | 0/14 [00:00<?, ?it/s]"
      ]
     },
     "metadata": {},
     "output_type": "display_data"
    },
    {
     "data": {
      "application/vnd.jupyter.widget-view+json": {
       "model_id": "9b3d28dec0ae46b99dcf0a42c2d64204",
       "version_major": 2,
       "version_minor": 0
      },
      "text/plain": [
       "第 85/100 轮:   0%|          | 0/14 [00:00<?, ?it/s]"
      ]
     },
     "metadata": {},
     "output_type": "display_data"
    },
    {
     "data": {
      "application/vnd.jupyter.widget-view+json": {
       "model_id": "d93ced3ab4304b73a33aa59567ddab4c",
       "version_major": 2,
       "version_minor": 0
      },
      "text/plain": [
       "第 86/100 轮:   0%|          | 0/14 [00:00<?, ?it/s]"
      ]
     },
     "metadata": {},
     "output_type": "display_data"
    },
    {
     "data": {
      "application/vnd.jupyter.widget-view+json": {
       "model_id": "5f4ed00c5fd743a89f6797e5d8b46590",
       "version_major": 2,
       "version_minor": 0
      },
      "text/plain": [
       "第 87/100 轮:   0%|          | 0/14 [00:00<?, ?it/s]"
      ]
     },
     "metadata": {},
     "output_type": "display_data"
    },
    {
     "data": {
      "application/vnd.jupyter.widget-view+json": {
       "model_id": "7cf2c5a648494178858929ecd251d934",
       "version_major": 2,
       "version_minor": 0
      },
      "text/plain": [
       "第 88/100 轮:   0%|          | 0/14 [00:00<?, ?it/s]"
      ]
     },
     "metadata": {},
     "output_type": "display_data"
    },
    {
     "data": {
      "application/vnd.jupyter.widget-view+json": {
       "model_id": "ed2886b61887482bad5dd3470c358c5e",
       "version_major": 2,
       "version_minor": 0
      },
      "text/plain": [
       "第 89/100 轮:   0%|          | 0/14 [00:00<?, ?it/s]"
      ]
     },
     "metadata": {},
     "output_type": "display_data"
    },
    {
     "data": {
      "application/vnd.jupyter.widget-view+json": {
       "model_id": "323815a69d5749a792adb95e19e2f0d1",
       "version_major": 2,
       "version_minor": 0
      },
      "text/plain": [
       "第 90/100 轮:   0%|          | 0/14 [00:00<?, ?it/s]"
      ]
     },
     "metadata": {},
     "output_type": "display_data"
    },
    {
     "data": {
      "application/vnd.jupyter.widget-view+json": {
       "model_id": "95226e2992114a45b85055dd449939cf",
       "version_major": 2,
       "version_minor": 0
      },
      "text/plain": [
       "第 91/100 轮:   0%|          | 0/14 [00:00<?, ?it/s]"
      ]
     },
     "metadata": {},
     "output_type": "display_data"
    },
    {
     "data": {
      "application/vnd.jupyter.widget-view+json": {
       "model_id": "c26e132be4c747e9ad1ce9b3d6741a85",
       "version_major": 2,
       "version_minor": 0
      },
      "text/plain": [
       "第 92/100 轮:   0%|          | 0/14 [00:00<?, ?it/s]"
      ]
     },
     "metadata": {},
     "output_type": "display_data"
    },
    {
     "data": {
      "application/vnd.jupyter.widget-view+json": {
       "model_id": "4ddda34b8fcc49b1aadf3a57f80f90a7",
       "version_major": 2,
       "version_minor": 0
      },
      "text/plain": [
       "第 93/100 轮:   0%|          | 0/14 [00:00<?, ?it/s]"
      ]
     },
     "metadata": {},
     "output_type": "display_data"
    },
    {
     "data": {
      "application/vnd.jupyter.widget-view+json": {
       "model_id": "d3d9d74f34ad4819b09222017ed80068",
       "version_major": 2,
       "version_minor": 0
      },
      "text/plain": [
       "第 94/100 轮:   0%|          | 0/14 [00:00<?, ?it/s]"
      ]
     },
     "metadata": {},
     "output_type": "display_data"
    },
    {
     "data": {
      "application/vnd.jupyter.widget-view+json": {
       "model_id": "9bd71404b4b6489fb173ab55005658c5",
       "version_major": 2,
       "version_minor": 0
      },
      "text/plain": [
       "第 95/100 轮:   0%|          | 0/14 [00:00<?, ?it/s]"
      ]
     },
     "metadata": {},
     "output_type": "display_data"
    },
    {
     "data": {
      "application/vnd.jupyter.widget-view+json": {
       "model_id": "e881441c3c8545f68b4bdbeb72f87549",
       "version_major": 2,
       "version_minor": 0
      },
      "text/plain": [
       "第 96/100 轮:   0%|          | 0/14 [00:00<?, ?it/s]"
      ]
     },
     "metadata": {},
     "output_type": "display_data"
    },
    {
     "data": {
      "application/vnd.jupyter.widget-view+json": {
       "model_id": "c156181d7f6647f2a9995e27ab749e8d",
       "version_major": 2,
       "version_minor": 0
      },
      "text/plain": [
       "第 97/100 轮:   0%|          | 0/14 [00:00<?, ?it/s]"
      ]
     },
     "metadata": {},
     "output_type": "display_data"
    },
    {
     "data": {
      "application/vnd.jupyter.widget-view+json": {
       "model_id": "0911c6a1cc3d4f11b51aeff8f7ce8558",
       "version_major": 2,
       "version_minor": 0
      },
      "text/plain": [
       "第 98/100 轮:   0%|          | 0/14 [00:00<?, ?it/s]"
      ]
     },
     "metadata": {},
     "output_type": "display_data"
    },
    {
     "data": {
      "application/vnd.jupyter.widget-view+json": {
       "model_id": "009476a430ec4c34a77cb7b3073c2050",
       "version_major": 2,
       "version_minor": 0
      },
      "text/plain": [
       "第 99/100 轮:   0%|          | 0/14 [00:00<?, ?it/s]"
      ]
     },
     "metadata": {},
     "output_type": "display_data"
    },
    {
     "data": {
      "application/vnd.jupyter.widget-view+json": {
       "model_id": "0430d472a041402099af95beeabe5093",
       "version_major": 2,
       "version_minor": 0
      },
      "text/plain": [
       "第 100/100 轮:   0%|          | 0/14 [00:00<?, ?it/s]"
      ]
     },
     "metadata": {},
     "output_type": "display_data"
    },
    {
     "name": "stdout",
     "output_type": "stream",
     "text": [
      "Fold 3 - Epoch 100: Best Correlation Coefficient: 0.7692\n"
     ]
    },
    {
     "data": {
      "application/vnd.jupyter.widget-view+json": {
       "model_id": "872b963052e743459eb33f570889b689",
       "version_major": 2,
       "version_minor": 0
      },
      "text/plain": [
       "第 1/100 轮:   0%|          | 0/14 [00:00<?, ?it/s]"
      ]
     },
     "metadata": {},
     "output_type": "display_data"
    },
    {
     "data": {
      "application/vnd.jupyter.widget-view+json": {
       "model_id": "130f05cb10694e5fb5d5552b04e52313",
       "version_major": 2,
       "version_minor": 0
      },
      "text/plain": [
       "第 2/100 轮:   0%|          | 0/14 [00:00<?, ?it/s]"
      ]
     },
     "metadata": {},
     "output_type": "display_data"
    },
    {
     "data": {
      "application/vnd.jupyter.widget-view+json": {
       "model_id": "ce37c073c29c4171a4a41ba32edad687",
       "version_major": 2,
       "version_minor": 0
      },
      "text/plain": [
       "第 3/100 轮:   0%|          | 0/14 [00:00<?, ?it/s]"
      ]
     },
     "metadata": {},
     "output_type": "display_data"
    },
    {
     "data": {
      "application/vnd.jupyter.widget-view+json": {
       "model_id": "6ea297214d5346768e1e5838a7fe859b",
       "version_major": 2,
       "version_minor": 0
      },
      "text/plain": [
       "第 4/100 轮:   0%|          | 0/14 [00:00<?, ?it/s]"
      ]
     },
     "metadata": {},
     "output_type": "display_data"
    },
    {
     "data": {
      "application/vnd.jupyter.widget-view+json": {
       "model_id": "3abdd70f6ac74a7da4e6dc75bd17681b",
       "version_major": 2,
       "version_minor": 0
      },
      "text/plain": [
       "第 5/100 轮:   0%|          | 0/14 [00:00<?, ?it/s]"
      ]
     },
     "metadata": {},
     "output_type": "display_data"
    },
    {
     "data": {
      "application/vnd.jupyter.widget-view+json": {
       "model_id": "2319c8c695354f0596462551e169bf84",
       "version_major": 2,
       "version_minor": 0
      },
      "text/plain": [
       "第 6/100 轮:   0%|          | 0/14 [00:00<?, ?it/s]"
      ]
     },
     "metadata": {},
     "output_type": "display_data"
    },
    {
     "data": {
      "application/vnd.jupyter.widget-view+json": {
       "model_id": "0e93904a5c3f41efa0b8d35daddf1b5c",
       "version_major": 2,
       "version_minor": 0
      },
      "text/plain": [
       "第 7/100 轮:   0%|          | 0/14 [00:00<?, ?it/s]"
      ]
     },
     "metadata": {},
     "output_type": "display_data"
    },
    {
     "data": {
      "application/vnd.jupyter.widget-view+json": {
       "model_id": "22bd8a690af74bd99f45f2319e242563",
       "version_major": 2,
       "version_minor": 0
      },
      "text/plain": [
       "第 8/100 轮:   0%|          | 0/14 [00:00<?, ?it/s]"
      ]
     },
     "metadata": {},
     "output_type": "display_data"
    },
    {
     "data": {
      "application/vnd.jupyter.widget-view+json": {
       "model_id": "b578d426c24c4d5e930caa658da90ac2",
       "version_major": 2,
       "version_minor": 0
      },
      "text/plain": [
       "第 9/100 轮:   0%|          | 0/14 [00:00<?, ?it/s]"
      ]
     },
     "metadata": {},
     "output_type": "display_data"
    },
    {
     "data": {
      "application/vnd.jupyter.widget-view+json": {
       "model_id": "038f746e2c5d4b5c8dcb0cd727c1b627",
       "version_major": 2,
       "version_minor": 0
      },
      "text/plain": [
       "第 10/100 轮:   0%|          | 0/14 [00:00<?, ?it/s]"
      ]
     },
     "metadata": {},
     "output_type": "display_data"
    },
    {
     "data": {
      "application/vnd.jupyter.widget-view+json": {
       "model_id": "ef5ff036014a4391b9e0f43cb6ad7835",
       "version_major": 2,
       "version_minor": 0
      },
      "text/plain": [
       "第 11/100 轮:   0%|          | 0/14 [00:00<?, ?it/s]"
      ]
     },
     "metadata": {},
     "output_type": "display_data"
    },
    {
     "data": {
      "application/vnd.jupyter.widget-view+json": {
       "model_id": "024c578a04ce43fa878242cecdedd03b",
       "version_major": 2,
       "version_minor": 0
      },
      "text/plain": [
       "第 12/100 轮:   0%|          | 0/14 [00:00<?, ?it/s]"
      ]
     },
     "metadata": {},
     "output_type": "display_data"
    },
    {
     "data": {
      "application/vnd.jupyter.widget-view+json": {
       "model_id": "5c1bb0c89bf44fad9692122080316445",
       "version_major": 2,
       "version_minor": 0
      },
      "text/plain": [
       "第 13/100 轮:   0%|          | 0/14 [00:00<?, ?it/s]"
      ]
     },
     "metadata": {},
     "output_type": "display_data"
    },
    {
     "data": {
      "application/vnd.jupyter.widget-view+json": {
       "model_id": "0a9664e8a7354fbd9a75ae9eaa64dc91",
       "version_major": 2,
       "version_minor": 0
      },
      "text/plain": [
       "第 14/100 轮:   0%|          | 0/14 [00:00<?, ?it/s]"
      ]
     },
     "metadata": {},
     "output_type": "display_data"
    },
    {
     "data": {
      "application/vnd.jupyter.widget-view+json": {
       "model_id": "6b6af08e1184410dbba59ca5c6158d02",
       "version_major": 2,
       "version_minor": 0
      },
      "text/plain": [
       "第 15/100 轮:   0%|          | 0/14 [00:00<?, ?it/s]"
      ]
     },
     "metadata": {},
     "output_type": "display_data"
    },
    {
     "data": {
      "application/vnd.jupyter.widget-view+json": {
       "model_id": "d8b9ddbd34eb48a5ab31c2413d4e0c44",
       "version_major": 2,
       "version_minor": 0
      },
      "text/plain": [
       "第 16/100 轮:   0%|          | 0/14 [00:00<?, ?it/s]"
      ]
     },
     "metadata": {},
     "output_type": "display_data"
    },
    {
     "data": {
      "application/vnd.jupyter.widget-view+json": {
       "model_id": "c462ba44d7b741a2a21f224017442c9d",
       "version_major": 2,
       "version_minor": 0
      },
      "text/plain": [
       "第 17/100 轮:   0%|          | 0/14 [00:00<?, ?it/s]"
      ]
     },
     "metadata": {},
     "output_type": "display_data"
    },
    {
     "data": {
      "application/vnd.jupyter.widget-view+json": {
       "model_id": "b29cc6efda1440f9912521dc67fa13bc",
       "version_major": 2,
       "version_minor": 0
      },
      "text/plain": [
       "第 18/100 轮:   0%|          | 0/14 [00:00<?, ?it/s]"
      ]
     },
     "metadata": {},
     "output_type": "display_data"
    },
    {
     "data": {
      "application/vnd.jupyter.widget-view+json": {
       "model_id": "2c04668fc1744e6d9c2a85a947c1426d",
       "version_major": 2,
       "version_minor": 0
      },
      "text/plain": [
       "第 19/100 轮:   0%|          | 0/14 [00:00<?, ?it/s]"
      ]
     },
     "metadata": {},
     "output_type": "display_data"
    },
    {
     "data": {
      "application/vnd.jupyter.widget-view+json": {
       "model_id": "8c7db48fa9d94d6ba334b3a285816503",
       "version_major": 2,
       "version_minor": 0
      },
      "text/plain": [
       "第 20/100 轮:   0%|          | 0/14 [00:00<?, ?it/s]"
      ]
     },
     "metadata": {},
     "output_type": "display_data"
    },
    {
     "data": {
      "application/vnd.jupyter.widget-view+json": {
       "model_id": "23c14326255949f589d404bf00d8c8a7",
       "version_major": 2,
       "version_minor": 0
      },
      "text/plain": [
       "第 21/100 轮:   0%|          | 0/14 [00:00<?, ?it/s]"
      ]
     },
     "metadata": {},
     "output_type": "display_data"
    },
    {
     "data": {
      "application/vnd.jupyter.widget-view+json": {
       "model_id": "157dc39877594fe49e73d4bfda8c4da5",
       "version_major": 2,
       "version_minor": 0
      },
      "text/plain": [
       "第 22/100 轮:   0%|          | 0/14 [00:00<?, ?it/s]"
      ]
     },
     "metadata": {},
     "output_type": "display_data"
    },
    {
     "data": {
      "application/vnd.jupyter.widget-view+json": {
       "model_id": "96782b826ed442c2919295048655e5e2",
       "version_major": 2,
       "version_minor": 0
      },
      "text/plain": [
       "第 23/100 轮:   0%|          | 0/14 [00:00<?, ?it/s]"
      ]
     },
     "metadata": {},
     "output_type": "display_data"
    },
    {
     "data": {
      "application/vnd.jupyter.widget-view+json": {
       "model_id": "53db2379748a4f09ab12b53641b9837f",
       "version_major": 2,
       "version_minor": 0
      },
      "text/plain": [
       "第 24/100 轮:   0%|          | 0/14 [00:00<?, ?it/s]"
      ]
     },
     "metadata": {},
     "output_type": "display_data"
    },
    {
     "data": {
      "application/vnd.jupyter.widget-view+json": {
       "model_id": "d601e5768fdd4b469fd5342d58a2d4e2",
       "version_major": 2,
       "version_minor": 0
      },
      "text/plain": [
       "第 25/100 轮:   0%|          | 0/14 [00:00<?, ?it/s]"
      ]
     },
     "metadata": {},
     "output_type": "display_data"
    },
    {
     "data": {
      "application/vnd.jupyter.widget-view+json": {
       "model_id": "1073d9fb7d5e451997f4571f4061621a",
       "version_major": 2,
       "version_minor": 0
      },
      "text/plain": [
       "第 26/100 轮:   0%|          | 0/14 [00:00<?, ?it/s]"
      ]
     },
     "metadata": {},
     "output_type": "display_data"
    },
    {
     "data": {
      "application/vnd.jupyter.widget-view+json": {
       "model_id": "d4630691e443496aa05f0e89ee6ee6bf",
       "version_major": 2,
       "version_minor": 0
      },
      "text/plain": [
       "第 27/100 轮:   0%|          | 0/14 [00:00<?, ?it/s]"
      ]
     },
     "metadata": {},
     "output_type": "display_data"
    },
    {
     "data": {
      "application/vnd.jupyter.widget-view+json": {
       "model_id": "5be95648e95844b0b4d4de892a06335c",
       "version_major": 2,
       "version_minor": 0
      },
      "text/plain": [
       "第 28/100 轮:   0%|          | 0/14 [00:00<?, ?it/s]"
      ]
     },
     "metadata": {},
     "output_type": "display_data"
    },
    {
     "data": {
      "application/vnd.jupyter.widget-view+json": {
       "model_id": "9cbcb8139c2c49e598b017ed8f0f0802",
       "version_major": 2,
       "version_minor": 0
      },
      "text/plain": [
       "第 29/100 轮:   0%|          | 0/14 [00:00<?, ?it/s]"
      ]
     },
     "metadata": {},
     "output_type": "display_data"
    },
    {
     "data": {
      "application/vnd.jupyter.widget-view+json": {
       "model_id": "57a7a780c6964208aa0defb4cca00a5d",
       "version_major": 2,
       "version_minor": 0
      },
      "text/plain": [
       "第 30/100 轮:   0%|          | 0/14 [00:00<?, ?it/s]"
      ]
     },
     "metadata": {},
     "output_type": "display_data"
    },
    {
     "data": {
      "application/vnd.jupyter.widget-view+json": {
       "model_id": "6ef92888c31d4086b08e5a9a3cea4cf0",
       "version_major": 2,
       "version_minor": 0
      },
      "text/plain": [
       "第 31/100 轮:   0%|          | 0/14 [00:00<?, ?it/s]"
      ]
     },
     "metadata": {},
     "output_type": "display_data"
    },
    {
     "data": {
      "application/vnd.jupyter.widget-view+json": {
       "model_id": "26b26a2631ca42f18d5cc43b8da645e4",
       "version_major": 2,
       "version_minor": 0
      },
      "text/plain": [
       "第 32/100 轮:   0%|          | 0/14 [00:00<?, ?it/s]"
      ]
     },
     "metadata": {},
     "output_type": "display_data"
    },
    {
     "data": {
      "application/vnd.jupyter.widget-view+json": {
       "model_id": "4855f6d12ac741b5b3aa4e9a750db01b",
       "version_major": 2,
       "version_minor": 0
      },
      "text/plain": [
       "第 33/100 轮:   0%|          | 0/14 [00:00<?, ?it/s]"
      ]
     },
     "metadata": {},
     "output_type": "display_data"
    },
    {
     "data": {
      "application/vnd.jupyter.widget-view+json": {
       "model_id": "1e37e929a63e4f0fa2ae38440b0aba53",
       "version_major": 2,
       "version_minor": 0
      },
      "text/plain": [
       "第 34/100 轮:   0%|          | 0/14 [00:00<?, ?it/s]"
      ]
     },
     "metadata": {},
     "output_type": "display_data"
    },
    {
     "data": {
      "application/vnd.jupyter.widget-view+json": {
       "model_id": "4b1a92eda2ab458dac2cd0108d7c24a5",
       "version_major": 2,
       "version_minor": 0
      },
      "text/plain": [
       "第 35/100 轮:   0%|          | 0/14 [00:00<?, ?it/s]"
      ]
     },
     "metadata": {},
     "output_type": "display_data"
    },
    {
     "data": {
      "application/vnd.jupyter.widget-view+json": {
       "model_id": "1666999369784c41949c2874a394afd4",
       "version_major": 2,
       "version_minor": 0
      },
      "text/plain": [
       "第 36/100 轮:   0%|          | 0/14 [00:00<?, ?it/s]"
      ]
     },
     "metadata": {},
     "output_type": "display_data"
    },
    {
     "data": {
      "application/vnd.jupyter.widget-view+json": {
       "model_id": "f2dbbb1512ea4501b6709fe42c93ed2c",
       "version_major": 2,
       "version_minor": 0
      },
      "text/plain": [
       "第 37/100 轮:   0%|          | 0/14 [00:00<?, ?it/s]"
      ]
     },
     "metadata": {},
     "output_type": "display_data"
    },
    {
     "data": {
      "application/vnd.jupyter.widget-view+json": {
       "model_id": "7b8139a5413b42fdbd3d15a416929744",
       "version_major": 2,
       "version_minor": 0
      },
      "text/plain": [
       "第 38/100 轮:   0%|          | 0/14 [00:00<?, ?it/s]"
      ]
     },
     "metadata": {},
     "output_type": "display_data"
    },
    {
     "data": {
      "application/vnd.jupyter.widget-view+json": {
       "model_id": "badbc0efeb21447883b9f17f69f60857",
       "version_major": 2,
       "version_minor": 0
      },
      "text/plain": [
       "第 39/100 轮:   0%|          | 0/14 [00:00<?, ?it/s]"
      ]
     },
     "metadata": {},
     "output_type": "display_data"
    },
    {
     "data": {
      "application/vnd.jupyter.widget-view+json": {
       "model_id": "5d556ac771c24e5088db8d2e0ae7bf1c",
       "version_major": 2,
       "version_minor": 0
      },
      "text/plain": [
       "第 40/100 轮:   0%|          | 0/14 [00:00<?, ?it/s]"
      ]
     },
     "metadata": {},
     "output_type": "display_data"
    },
    {
     "data": {
      "application/vnd.jupyter.widget-view+json": {
       "model_id": "6e18cee8d0dd45ebb779deeea92b4c9f",
       "version_major": 2,
       "version_minor": 0
      },
      "text/plain": [
       "第 41/100 轮:   0%|          | 0/14 [00:00<?, ?it/s]"
      ]
     },
     "metadata": {},
     "output_type": "display_data"
    },
    {
     "data": {
      "application/vnd.jupyter.widget-view+json": {
       "model_id": "575552983cf64ab6a54957214792ddfc",
       "version_major": 2,
       "version_minor": 0
      },
      "text/plain": [
       "第 42/100 轮:   0%|          | 0/14 [00:00<?, ?it/s]"
      ]
     },
     "metadata": {},
     "output_type": "display_data"
    },
    {
     "data": {
      "application/vnd.jupyter.widget-view+json": {
       "model_id": "4cb5829f57ff4f9d81ffbf5cba4a771c",
       "version_major": 2,
       "version_minor": 0
      },
      "text/plain": [
       "第 43/100 轮:   0%|          | 0/14 [00:00<?, ?it/s]"
      ]
     },
     "metadata": {},
     "output_type": "display_data"
    },
    {
     "data": {
      "application/vnd.jupyter.widget-view+json": {
       "model_id": "4774425f23ab4f388db03a5bbb8ce7e6",
       "version_major": 2,
       "version_minor": 0
      },
      "text/plain": [
       "第 44/100 轮:   0%|          | 0/14 [00:00<?, ?it/s]"
      ]
     },
     "metadata": {},
     "output_type": "display_data"
    },
    {
     "data": {
      "application/vnd.jupyter.widget-view+json": {
       "model_id": "f6079dbc362e41bcaeeb768a26aeb23a",
       "version_major": 2,
       "version_minor": 0
      },
      "text/plain": [
       "第 45/100 轮:   0%|          | 0/14 [00:00<?, ?it/s]"
      ]
     },
     "metadata": {},
     "output_type": "display_data"
    },
    {
     "data": {
      "application/vnd.jupyter.widget-view+json": {
       "model_id": "dea9a99a00b343f79b4d84dd6889cb2c",
       "version_major": 2,
       "version_minor": 0
      },
      "text/plain": [
       "第 46/100 轮:   0%|          | 0/14 [00:00<?, ?it/s]"
      ]
     },
     "metadata": {},
     "output_type": "display_data"
    },
    {
     "data": {
      "application/vnd.jupyter.widget-view+json": {
       "model_id": "1d1cb5eaa8b54bd1837da082bc7fde3b",
       "version_major": 2,
       "version_minor": 0
      },
      "text/plain": [
       "第 47/100 轮:   0%|          | 0/14 [00:00<?, ?it/s]"
      ]
     },
     "metadata": {},
     "output_type": "display_data"
    },
    {
     "data": {
      "application/vnd.jupyter.widget-view+json": {
       "model_id": "fee8bc279fbd4c05b0782e3cdbeafe81",
       "version_major": 2,
       "version_minor": 0
      },
      "text/plain": [
       "第 48/100 轮:   0%|          | 0/14 [00:00<?, ?it/s]"
      ]
     },
     "metadata": {},
     "output_type": "display_data"
    },
    {
     "data": {
      "application/vnd.jupyter.widget-view+json": {
       "model_id": "c75a17e42e684b9c92fb5c83b0721a4a",
       "version_major": 2,
       "version_minor": 0
      },
      "text/plain": [
       "第 49/100 轮:   0%|          | 0/14 [00:00<?, ?it/s]"
      ]
     },
     "metadata": {},
     "output_type": "display_data"
    },
    {
     "data": {
      "application/vnd.jupyter.widget-view+json": {
       "model_id": "39fa1bdd1eab4d24a0f9fd0edfdde6d5",
       "version_major": 2,
       "version_minor": 0
      },
      "text/plain": [
       "第 50/100 轮:   0%|          | 0/14 [00:00<?, ?it/s]"
      ]
     },
     "metadata": {},
     "output_type": "display_data"
    },
    {
     "data": {
      "application/vnd.jupyter.widget-view+json": {
       "model_id": "846697951b794de2a38701aac02ac788",
       "version_major": 2,
       "version_minor": 0
      },
      "text/plain": [
       "第 51/100 轮:   0%|          | 0/14 [00:00<?, ?it/s]"
      ]
     },
     "metadata": {},
     "output_type": "display_data"
    },
    {
     "data": {
      "application/vnd.jupyter.widget-view+json": {
       "model_id": "32d6fe4fc15e42d58abc6c90e26c495d",
       "version_major": 2,
       "version_minor": 0
      },
      "text/plain": [
       "第 52/100 轮:   0%|          | 0/14 [00:00<?, ?it/s]"
      ]
     },
     "metadata": {},
     "output_type": "display_data"
    },
    {
     "data": {
      "application/vnd.jupyter.widget-view+json": {
       "model_id": "e5afba4feace48909b3df4052fb57df9",
       "version_major": 2,
       "version_minor": 0
      },
      "text/plain": [
       "第 53/100 轮:   0%|          | 0/14 [00:00<?, ?it/s]"
      ]
     },
     "metadata": {},
     "output_type": "display_data"
    },
    {
     "data": {
      "application/vnd.jupyter.widget-view+json": {
       "model_id": "78b3b0871a784644b09f4ace4c38f1e8",
       "version_major": 2,
       "version_minor": 0
      },
      "text/plain": [
       "第 54/100 轮:   0%|          | 0/14 [00:00<?, ?it/s]"
      ]
     },
     "metadata": {},
     "output_type": "display_data"
    },
    {
     "data": {
      "application/vnd.jupyter.widget-view+json": {
       "model_id": "7e680ae0fba842edb3606aeac2c618ed",
       "version_major": 2,
       "version_minor": 0
      },
      "text/plain": [
       "第 55/100 轮:   0%|          | 0/14 [00:00<?, ?it/s]"
      ]
     },
     "metadata": {},
     "output_type": "display_data"
    },
    {
     "data": {
      "application/vnd.jupyter.widget-view+json": {
       "model_id": "be39ebf2183f4c2abb3a1016ffac4ca3",
       "version_major": 2,
       "version_minor": 0
      },
      "text/plain": [
       "第 56/100 轮:   0%|          | 0/14 [00:00<?, ?it/s]"
      ]
     },
     "metadata": {},
     "output_type": "display_data"
    },
    {
     "data": {
      "application/vnd.jupyter.widget-view+json": {
       "model_id": "24a8ecbf189342568608aa62ac1711ae",
       "version_major": 2,
       "version_minor": 0
      },
      "text/plain": [
       "第 57/100 轮:   0%|          | 0/14 [00:00<?, ?it/s]"
      ]
     },
     "metadata": {},
     "output_type": "display_data"
    },
    {
     "data": {
      "application/vnd.jupyter.widget-view+json": {
       "model_id": "ad74fe8023b7456db247b46ac32250a1",
       "version_major": 2,
       "version_minor": 0
      },
      "text/plain": [
       "第 58/100 轮:   0%|          | 0/14 [00:00<?, ?it/s]"
      ]
     },
     "metadata": {},
     "output_type": "display_data"
    },
    {
     "data": {
      "application/vnd.jupyter.widget-view+json": {
       "model_id": "b49d479629514d839a5cb74e8f487bed",
       "version_major": 2,
       "version_minor": 0
      },
      "text/plain": [
       "第 59/100 轮:   0%|          | 0/14 [00:00<?, ?it/s]"
      ]
     },
     "metadata": {},
     "output_type": "display_data"
    },
    {
     "data": {
      "application/vnd.jupyter.widget-view+json": {
       "model_id": "ae6d8281659e43e79a6c002bc3aaf43a",
       "version_major": 2,
       "version_minor": 0
      },
      "text/plain": [
       "第 60/100 轮:   0%|          | 0/14 [00:00<?, ?it/s]"
      ]
     },
     "metadata": {},
     "output_type": "display_data"
    },
    {
     "data": {
      "application/vnd.jupyter.widget-view+json": {
       "model_id": "8d1319c7809f4132917561a578ba679b",
       "version_major": 2,
       "version_minor": 0
      },
      "text/plain": [
       "第 61/100 轮:   0%|          | 0/14 [00:00<?, ?it/s]"
      ]
     },
     "metadata": {},
     "output_type": "display_data"
    },
    {
     "data": {
      "application/vnd.jupyter.widget-view+json": {
       "model_id": "b14098c6751344728e27b8cb3b151d30",
       "version_major": 2,
       "version_minor": 0
      },
      "text/plain": [
       "第 62/100 轮:   0%|          | 0/14 [00:00<?, ?it/s]"
      ]
     },
     "metadata": {},
     "output_type": "display_data"
    },
    {
     "data": {
      "application/vnd.jupyter.widget-view+json": {
       "model_id": "d91e8547151a485783f78300a9dd801a",
       "version_major": 2,
       "version_minor": 0
      },
      "text/plain": [
       "第 63/100 轮:   0%|          | 0/14 [00:00<?, ?it/s]"
      ]
     },
     "metadata": {},
     "output_type": "display_data"
    },
    {
     "data": {
      "application/vnd.jupyter.widget-view+json": {
       "model_id": "6fc96ec1b337453e85d2d8d957bd22f6",
       "version_major": 2,
       "version_minor": 0
      },
      "text/plain": [
       "第 64/100 轮:   0%|          | 0/14 [00:00<?, ?it/s]"
      ]
     },
     "metadata": {},
     "output_type": "display_data"
    },
    {
     "data": {
      "application/vnd.jupyter.widget-view+json": {
       "model_id": "0b4bfbad6e0c4891ad679473c728efda",
       "version_major": 2,
       "version_minor": 0
      },
      "text/plain": [
       "第 65/100 轮:   0%|          | 0/14 [00:00<?, ?it/s]"
      ]
     },
     "metadata": {},
     "output_type": "display_data"
    },
    {
     "data": {
      "application/vnd.jupyter.widget-view+json": {
       "model_id": "bc47bd4b7a74417e89e4298089e4293a",
       "version_major": 2,
       "version_minor": 0
      },
      "text/plain": [
       "第 66/100 轮:   0%|          | 0/14 [00:00<?, ?it/s]"
      ]
     },
     "metadata": {},
     "output_type": "display_data"
    },
    {
     "data": {
      "application/vnd.jupyter.widget-view+json": {
       "model_id": "9590ff36c3a94089ad3b34a897741be6",
       "version_major": 2,
       "version_minor": 0
      },
      "text/plain": [
       "第 67/100 轮:   0%|          | 0/14 [00:00<?, ?it/s]"
      ]
     },
     "metadata": {},
     "output_type": "display_data"
    },
    {
     "data": {
      "application/vnd.jupyter.widget-view+json": {
       "model_id": "afc5a44ec5704da59b69d4a97bd4cf43",
       "version_major": 2,
       "version_minor": 0
      },
      "text/plain": [
       "第 68/100 轮:   0%|          | 0/14 [00:00<?, ?it/s]"
      ]
     },
     "metadata": {},
     "output_type": "display_data"
    },
    {
     "data": {
      "application/vnd.jupyter.widget-view+json": {
       "model_id": "ab4899d93db3492495e79dcc5bca9750",
       "version_major": 2,
       "version_minor": 0
      },
      "text/plain": [
       "第 69/100 轮:   0%|          | 0/14 [00:00<?, ?it/s]"
      ]
     },
     "metadata": {},
     "output_type": "display_data"
    },
    {
     "data": {
      "application/vnd.jupyter.widget-view+json": {
       "model_id": "11af0e3c90444396b6cd442ef8f53dc9",
       "version_major": 2,
       "version_minor": 0
      },
      "text/plain": [
       "第 70/100 轮:   0%|          | 0/14 [00:00<?, ?it/s]"
      ]
     },
     "metadata": {},
     "output_type": "display_data"
    },
    {
     "data": {
      "application/vnd.jupyter.widget-view+json": {
       "model_id": "4b8d9a05b2984019b37915670b3289cc",
       "version_major": 2,
       "version_minor": 0
      },
      "text/plain": [
       "第 71/100 轮:   0%|          | 0/14 [00:00<?, ?it/s]"
      ]
     },
     "metadata": {},
     "output_type": "display_data"
    },
    {
     "data": {
      "application/vnd.jupyter.widget-view+json": {
       "model_id": "05f301c3399f4dfc9f66614ed69300a3",
       "version_major": 2,
       "version_minor": 0
      },
      "text/plain": [
       "第 72/100 轮:   0%|          | 0/14 [00:00<?, ?it/s]"
      ]
     },
     "metadata": {},
     "output_type": "display_data"
    },
    {
     "data": {
      "application/vnd.jupyter.widget-view+json": {
       "model_id": "2696c814d45140d1abf09580ddd42829",
       "version_major": 2,
       "version_minor": 0
      },
      "text/plain": [
       "第 73/100 轮:   0%|          | 0/14 [00:00<?, ?it/s]"
      ]
     },
     "metadata": {},
     "output_type": "display_data"
    },
    {
     "data": {
      "application/vnd.jupyter.widget-view+json": {
       "model_id": "46b6491950e0477c8c59d95390de8bcb",
       "version_major": 2,
       "version_minor": 0
      },
      "text/plain": [
       "第 74/100 轮:   0%|          | 0/14 [00:00<?, ?it/s]"
      ]
     },
     "metadata": {},
     "output_type": "display_data"
    },
    {
     "data": {
      "application/vnd.jupyter.widget-view+json": {
       "model_id": "9033854682154118896f21f0bc566195",
       "version_major": 2,
       "version_minor": 0
      },
      "text/plain": [
       "第 75/100 轮:   0%|          | 0/14 [00:00<?, ?it/s]"
      ]
     },
     "metadata": {},
     "output_type": "display_data"
    },
    {
     "data": {
      "application/vnd.jupyter.widget-view+json": {
       "model_id": "efbe5f0d594b4fada0aa02523c8fa635",
       "version_major": 2,
       "version_minor": 0
      },
      "text/plain": [
       "第 76/100 轮:   0%|          | 0/14 [00:00<?, ?it/s]"
      ]
     },
     "metadata": {},
     "output_type": "display_data"
    },
    {
     "data": {
      "application/vnd.jupyter.widget-view+json": {
       "model_id": "9fe6fb4a5c874f878e0224ee2dc47c8d",
       "version_major": 2,
       "version_minor": 0
      },
      "text/plain": [
       "第 77/100 轮:   0%|          | 0/14 [00:00<?, ?it/s]"
      ]
     },
     "metadata": {},
     "output_type": "display_data"
    },
    {
     "data": {
      "application/vnd.jupyter.widget-view+json": {
       "model_id": "f722c86d99fb427fbde38046ca5ee8bc",
       "version_major": 2,
       "version_minor": 0
      },
      "text/plain": [
       "第 78/100 轮:   0%|          | 0/14 [00:00<?, ?it/s]"
      ]
     },
     "metadata": {},
     "output_type": "display_data"
    },
    {
     "data": {
      "application/vnd.jupyter.widget-view+json": {
       "model_id": "79929620dee5479890a9b119a2323b58",
       "version_major": 2,
       "version_minor": 0
      },
      "text/plain": [
       "第 79/100 轮:   0%|          | 0/14 [00:00<?, ?it/s]"
      ]
     },
     "metadata": {},
     "output_type": "display_data"
    },
    {
     "data": {
      "application/vnd.jupyter.widget-view+json": {
       "model_id": "aee0107fb6c74bb98950ff8f4427ea3e",
       "version_major": 2,
       "version_minor": 0
      },
      "text/plain": [
       "第 80/100 轮:   0%|          | 0/14 [00:00<?, ?it/s]"
      ]
     },
     "metadata": {},
     "output_type": "display_data"
    },
    {
     "data": {
      "application/vnd.jupyter.widget-view+json": {
       "model_id": "7db58feeb58f45bfb9f019adcd94a4c3",
       "version_major": 2,
       "version_minor": 0
      },
      "text/plain": [
       "第 81/100 轮:   0%|          | 0/14 [00:00<?, ?it/s]"
      ]
     },
     "metadata": {},
     "output_type": "display_data"
    },
    {
     "data": {
      "application/vnd.jupyter.widget-view+json": {
       "model_id": "68460a43b08a4d0c97adafd816f7c57c",
       "version_major": 2,
       "version_minor": 0
      },
      "text/plain": [
       "第 82/100 轮:   0%|          | 0/14 [00:00<?, ?it/s]"
      ]
     },
     "metadata": {},
     "output_type": "display_data"
    },
    {
     "data": {
      "application/vnd.jupyter.widget-view+json": {
       "model_id": "a7159272b9bf4abc881873e29f6bd4bd",
       "version_major": 2,
       "version_minor": 0
      },
      "text/plain": [
       "第 83/100 轮:   0%|          | 0/14 [00:00<?, ?it/s]"
      ]
     },
     "metadata": {},
     "output_type": "display_data"
    },
    {
     "data": {
      "application/vnd.jupyter.widget-view+json": {
       "model_id": "2cbdd2c327064b9a8e176b2ac5679605",
       "version_major": 2,
       "version_minor": 0
      },
      "text/plain": [
       "第 84/100 轮:   0%|          | 0/14 [00:00<?, ?it/s]"
      ]
     },
     "metadata": {},
     "output_type": "display_data"
    },
    {
     "data": {
      "application/vnd.jupyter.widget-view+json": {
       "model_id": "c42860c1dc8244bca927f7f9a3f3b357",
       "version_major": 2,
       "version_minor": 0
      },
      "text/plain": [
       "第 85/100 轮:   0%|          | 0/14 [00:00<?, ?it/s]"
      ]
     },
     "metadata": {},
     "output_type": "display_data"
    },
    {
     "data": {
      "application/vnd.jupyter.widget-view+json": {
       "model_id": "6319fd1d69b941f69da8002a54c6b044",
       "version_major": 2,
       "version_minor": 0
      },
      "text/plain": [
       "第 86/100 轮:   0%|          | 0/14 [00:00<?, ?it/s]"
      ]
     },
     "metadata": {},
     "output_type": "display_data"
    },
    {
     "data": {
      "application/vnd.jupyter.widget-view+json": {
       "model_id": "404d33c8d2eb4affa4c5564f168a5bb6",
       "version_major": 2,
       "version_minor": 0
      },
      "text/plain": [
       "第 87/100 轮:   0%|          | 0/14 [00:00<?, ?it/s]"
      ]
     },
     "metadata": {},
     "output_type": "display_data"
    },
    {
     "data": {
      "application/vnd.jupyter.widget-view+json": {
       "model_id": "cf84789f910b408588164df184371996",
       "version_major": 2,
       "version_minor": 0
      },
      "text/plain": [
       "第 88/100 轮:   0%|          | 0/14 [00:00<?, ?it/s]"
      ]
     },
     "metadata": {},
     "output_type": "display_data"
    },
    {
     "data": {
      "application/vnd.jupyter.widget-view+json": {
       "model_id": "0a148964f7094270872616ea364e5057",
       "version_major": 2,
       "version_minor": 0
      },
      "text/plain": [
       "第 89/100 轮:   0%|          | 0/14 [00:00<?, ?it/s]"
      ]
     },
     "metadata": {},
     "output_type": "display_data"
    },
    {
     "data": {
      "application/vnd.jupyter.widget-view+json": {
       "model_id": "ee9d5c605a634795be43423a75db792b",
       "version_major": 2,
       "version_minor": 0
      },
      "text/plain": [
       "第 90/100 轮:   0%|          | 0/14 [00:00<?, ?it/s]"
      ]
     },
     "metadata": {},
     "output_type": "display_data"
    },
    {
     "data": {
      "application/vnd.jupyter.widget-view+json": {
       "model_id": "3e7d7be6179145bd8c38cc8174ae37f3",
       "version_major": 2,
       "version_minor": 0
      },
      "text/plain": [
       "第 91/100 轮:   0%|          | 0/14 [00:00<?, ?it/s]"
      ]
     },
     "metadata": {},
     "output_type": "display_data"
    },
    {
     "data": {
      "application/vnd.jupyter.widget-view+json": {
       "model_id": "442b8db5f601451ead8f904d89dcf3c8",
       "version_major": 2,
       "version_minor": 0
      },
      "text/plain": [
       "第 92/100 轮:   0%|          | 0/14 [00:00<?, ?it/s]"
      ]
     },
     "metadata": {},
     "output_type": "display_data"
    },
    {
     "data": {
      "application/vnd.jupyter.widget-view+json": {
       "model_id": "ac158cb993c349de8780175a8a121975",
       "version_major": 2,
       "version_minor": 0
      },
      "text/plain": [
       "第 93/100 轮:   0%|          | 0/14 [00:00<?, ?it/s]"
      ]
     },
     "metadata": {},
     "output_type": "display_data"
    },
    {
     "data": {
      "application/vnd.jupyter.widget-view+json": {
       "model_id": "70bd6f1c4a114cbbbbe9d9fdcadafb0a",
       "version_major": 2,
       "version_minor": 0
      },
      "text/plain": [
       "第 94/100 轮:   0%|          | 0/14 [00:00<?, ?it/s]"
      ]
     },
     "metadata": {},
     "output_type": "display_data"
    },
    {
     "data": {
      "application/vnd.jupyter.widget-view+json": {
       "model_id": "d1f9065ce3ee4533bbdeda48634de6e0",
       "version_major": 2,
       "version_minor": 0
      },
      "text/plain": [
       "第 95/100 轮:   0%|          | 0/14 [00:00<?, ?it/s]"
      ]
     },
     "metadata": {},
     "output_type": "display_data"
    },
    {
     "data": {
      "application/vnd.jupyter.widget-view+json": {
       "model_id": "de9fad81eefd4a75a94a8403c4b61742",
       "version_major": 2,
       "version_minor": 0
      },
      "text/plain": [
       "第 96/100 轮:   0%|          | 0/14 [00:00<?, ?it/s]"
      ]
     },
     "metadata": {},
     "output_type": "display_data"
    },
    {
     "data": {
      "application/vnd.jupyter.widget-view+json": {
       "model_id": "d73bb126e45640e9adccbefab3a7cc3a",
       "version_major": 2,
       "version_minor": 0
      },
      "text/plain": [
       "第 97/100 轮:   0%|          | 0/14 [00:00<?, ?it/s]"
      ]
     },
     "metadata": {},
     "output_type": "display_data"
    },
    {
     "data": {
      "application/vnd.jupyter.widget-view+json": {
       "model_id": "8e7b605164304d8782634089e4c981ce",
       "version_major": 2,
       "version_minor": 0
      },
      "text/plain": [
       "第 98/100 轮:   0%|          | 0/14 [00:00<?, ?it/s]"
      ]
     },
     "metadata": {},
     "output_type": "display_data"
    },
    {
     "data": {
      "application/vnd.jupyter.widget-view+json": {
       "model_id": "0d2bd7170ebb4cb1ace3af92b5b28fd3",
       "version_major": 2,
       "version_minor": 0
      },
      "text/plain": [
       "第 99/100 轮:   0%|          | 0/14 [00:00<?, ?it/s]"
      ]
     },
     "metadata": {},
     "output_type": "display_data"
    },
    {
     "data": {
      "application/vnd.jupyter.widget-view+json": {
       "model_id": "f10f95eb7d3b40f88453c575470e06bb",
       "version_major": 2,
       "version_minor": 0
      },
      "text/plain": [
       "第 100/100 轮:   0%|          | 0/14 [00:00<?, ?it/s]"
      ]
     },
     "metadata": {},
     "output_type": "display_data"
    },
    {
     "name": "stdout",
     "output_type": "stream",
     "text": [
      "Fold 4 - Epoch 100: Best Correlation Coefficient: 0.7419\n"
     ]
    },
    {
     "data": {
      "application/vnd.jupyter.widget-view+json": {
       "model_id": "349077c0014f48919a18b5e12b0e3201",
       "version_major": 2,
       "version_minor": 0
      },
      "text/plain": [
       "第 1/100 轮:   0%|          | 0/14 [00:00<?, ?it/s]"
      ]
     },
     "metadata": {},
     "output_type": "display_data"
    },
    {
     "data": {
      "application/vnd.jupyter.widget-view+json": {
       "model_id": "a56d6043b87c461a8f9ab32c30dbcc53",
       "version_major": 2,
       "version_minor": 0
      },
      "text/plain": [
       "第 2/100 轮:   0%|          | 0/14 [00:00<?, ?it/s]"
      ]
     },
     "metadata": {},
     "output_type": "display_data"
    },
    {
     "data": {
      "application/vnd.jupyter.widget-view+json": {
       "model_id": "f6a2a621b01947ecb72d61d99e027339",
       "version_major": 2,
       "version_minor": 0
      },
      "text/plain": [
       "第 3/100 轮:   0%|          | 0/14 [00:00<?, ?it/s]"
      ]
     },
     "metadata": {},
     "output_type": "display_data"
    },
    {
     "data": {
      "application/vnd.jupyter.widget-view+json": {
       "model_id": "1fa7c815bae64c93a9979e1dd0667de8",
       "version_major": 2,
       "version_minor": 0
      },
      "text/plain": [
       "第 4/100 轮:   0%|          | 0/14 [00:00<?, ?it/s]"
      ]
     },
     "metadata": {},
     "output_type": "display_data"
    },
    {
     "data": {
      "application/vnd.jupyter.widget-view+json": {
       "model_id": "8c0e089a25954d29b54b49653f42d697",
       "version_major": 2,
       "version_minor": 0
      },
      "text/plain": [
       "第 5/100 轮:   0%|          | 0/14 [00:00<?, ?it/s]"
      ]
     },
     "metadata": {},
     "output_type": "display_data"
    },
    {
     "data": {
      "application/vnd.jupyter.widget-view+json": {
       "model_id": "e983da3f233f4f7eb3901bae5db89d7a",
       "version_major": 2,
       "version_minor": 0
      },
      "text/plain": [
       "第 6/100 轮:   0%|          | 0/14 [00:00<?, ?it/s]"
      ]
     },
     "metadata": {},
     "output_type": "display_data"
    },
    {
     "data": {
      "application/vnd.jupyter.widget-view+json": {
       "model_id": "69d9fbbc324143088443b19683bc2048",
       "version_major": 2,
       "version_minor": 0
      },
      "text/plain": [
       "第 7/100 轮:   0%|          | 0/14 [00:00<?, ?it/s]"
      ]
     },
     "metadata": {},
     "output_type": "display_data"
    },
    {
     "data": {
      "application/vnd.jupyter.widget-view+json": {
       "model_id": "aa31e4b0b8874bb6a5ef3832e29f079a",
       "version_major": 2,
       "version_minor": 0
      },
      "text/plain": [
       "第 8/100 轮:   0%|          | 0/14 [00:00<?, ?it/s]"
      ]
     },
     "metadata": {},
     "output_type": "display_data"
    },
    {
     "data": {
      "application/vnd.jupyter.widget-view+json": {
       "model_id": "b57da3d883b0424a977c6984e82b928a",
       "version_major": 2,
       "version_minor": 0
      },
      "text/plain": [
       "第 9/100 轮:   0%|          | 0/14 [00:00<?, ?it/s]"
      ]
     },
     "metadata": {},
     "output_type": "display_data"
    },
    {
     "data": {
      "application/vnd.jupyter.widget-view+json": {
       "model_id": "5de34e3e8ac24d889ab8b622321c2e5c",
       "version_major": 2,
       "version_minor": 0
      },
      "text/plain": [
       "第 10/100 轮:   0%|          | 0/14 [00:00<?, ?it/s]"
      ]
     },
     "metadata": {},
     "output_type": "display_data"
    },
    {
     "data": {
      "application/vnd.jupyter.widget-view+json": {
       "model_id": "8f34e9762267423ca9a9a0844a202de0",
       "version_major": 2,
       "version_minor": 0
      },
      "text/plain": [
       "第 11/100 轮:   0%|          | 0/14 [00:00<?, ?it/s]"
      ]
     },
     "metadata": {},
     "output_type": "display_data"
    },
    {
     "data": {
      "application/vnd.jupyter.widget-view+json": {
       "model_id": "ff027e016b5f4749b5d687733964cec7",
       "version_major": 2,
       "version_minor": 0
      },
      "text/plain": [
       "第 12/100 轮:   0%|          | 0/14 [00:00<?, ?it/s]"
      ]
     },
     "metadata": {},
     "output_type": "display_data"
    },
    {
     "data": {
      "application/vnd.jupyter.widget-view+json": {
       "model_id": "652897fc7aad477384dbb48b154d198e",
       "version_major": 2,
       "version_minor": 0
      },
      "text/plain": [
       "第 13/100 轮:   0%|          | 0/14 [00:00<?, ?it/s]"
      ]
     },
     "metadata": {},
     "output_type": "display_data"
    },
    {
     "data": {
      "application/vnd.jupyter.widget-view+json": {
       "model_id": "1e0707e79ea140dc9ca0bc339adc2de5",
       "version_major": 2,
       "version_minor": 0
      },
      "text/plain": [
       "第 14/100 轮:   0%|          | 0/14 [00:00<?, ?it/s]"
      ]
     },
     "metadata": {},
     "output_type": "display_data"
    },
    {
     "data": {
      "application/vnd.jupyter.widget-view+json": {
       "model_id": "2e8b823e239e41bb99fb8291d475c0a1",
       "version_major": 2,
       "version_minor": 0
      },
      "text/plain": [
       "第 15/100 轮:   0%|          | 0/14 [00:00<?, ?it/s]"
      ]
     },
     "metadata": {},
     "output_type": "display_data"
    },
    {
     "data": {
      "application/vnd.jupyter.widget-view+json": {
       "model_id": "38718f3314274007a866f829a81ded21",
       "version_major": 2,
       "version_minor": 0
      },
      "text/plain": [
       "第 16/100 轮:   0%|          | 0/14 [00:00<?, ?it/s]"
      ]
     },
     "metadata": {},
     "output_type": "display_data"
    },
    {
     "data": {
      "application/vnd.jupyter.widget-view+json": {
       "model_id": "41cafe0b7b7d4449851d5927032eacd0",
       "version_major": 2,
       "version_minor": 0
      },
      "text/plain": [
       "第 17/100 轮:   0%|          | 0/14 [00:00<?, ?it/s]"
      ]
     },
     "metadata": {},
     "output_type": "display_data"
    },
    {
     "data": {
      "application/vnd.jupyter.widget-view+json": {
       "model_id": "50a4460cd02941088adf85d01eebcaaf",
       "version_major": 2,
       "version_minor": 0
      },
      "text/plain": [
       "第 18/100 轮:   0%|          | 0/14 [00:00<?, ?it/s]"
      ]
     },
     "metadata": {},
     "output_type": "display_data"
    },
    {
     "data": {
      "application/vnd.jupyter.widget-view+json": {
       "model_id": "ec56693cb521453b868e8ba9f0fae688",
       "version_major": 2,
       "version_minor": 0
      },
      "text/plain": [
       "第 19/100 轮:   0%|          | 0/14 [00:00<?, ?it/s]"
      ]
     },
     "metadata": {},
     "output_type": "display_data"
    },
    {
     "data": {
      "application/vnd.jupyter.widget-view+json": {
       "model_id": "016d8d8d8563495492376b6c4bae5130",
       "version_major": 2,
       "version_minor": 0
      },
      "text/plain": [
       "第 20/100 轮:   0%|          | 0/14 [00:00<?, ?it/s]"
      ]
     },
     "metadata": {},
     "output_type": "display_data"
    },
    {
     "data": {
      "application/vnd.jupyter.widget-view+json": {
       "model_id": "991adadad15140da902402b2d19734a8",
       "version_major": 2,
       "version_minor": 0
      },
      "text/plain": [
       "第 21/100 轮:   0%|          | 0/14 [00:00<?, ?it/s]"
      ]
     },
     "metadata": {},
     "output_type": "display_data"
    },
    {
     "data": {
      "application/vnd.jupyter.widget-view+json": {
       "model_id": "a10183f68ed54b85a066515b8042318e",
       "version_major": 2,
       "version_minor": 0
      },
      "text/plain": [
       "第 22/100 轮:   0%|          | 0/14 [00:00<?, ?it/s]"
      ]
     },
     "metadata": {},
     "output_type": "display_data"
    },
    {
     "data": {
      "application/vnd.jupyter.widget-view+json": {
       "model_id": "b8149cc2e4ad428ca89a3f597ef77c13",
       "version_major": 2,
       "version_minor": 0
      },
      "text/plain": [
       "第 23/100 轮:   0%|          | 0/14 [00:00<?, ?it/s]"
      ]
     },
     "metadata": {},
     "output_type": "display_data"
    },
    {
     "data": {
      "application/vnd.jupyter.widget-view+json": {
       "model_id": "dffc3b2930b44b8fa6552ac954ef1080",
       "version_major": 2,
       "version_minor": 0
      },
      "text/plain": [
       "第 24/100 轮:   0%|          | 0/14 [00:00<?, ?it/s]"
      ]
     },
     "metadata": {},
     "output_type": "display_data"
    },
    {
     "data": {
      "application/vnd.jupyter.widget-view+json": {
       "model_id": "6769f909f3c3482c880d5cd4c3098622",
       "version_major": 2,
       "version_minor": 0
      },
      "text/plain": [
       "第 25/100 轮:   0%|          | 0/14 [00:00<?, ?it/s]"
      ]
     },
     "metadata": {},
     "output_type": "display_data"
    },
    {
     "data": {
      "application/vnd.jupyter.widget-view+json": {
       "model_id": "c927de8666694b64975eff80783e4fd6",
       "version_major": 2,
       "version_minor": 0
      },
      "text/plain": [
       "第 26/100 轮:   0%|          | 0/14 [00:00<?, ?it/s]"
      ]
     },
     "metadata": {},
     "output_type": "display_data"
    },
    {
     "data": {
      "application/vnd.jupyter.widget-view+json": {
       "model_id": "506729970b264b6386b9542d8909cb0c",
       "version_major": 2,
       "version_minor": 0
      },
      "text/plain": [
       "第 27/100 轮:   0%|          | 0/14 [00:00<?, ?it/s]"
      ]
     },
     "metadata": {},
     "output_type": "display_data"
    },
    {
     "data": {
      "application/vnd.jupyter.widget-view+json": {
       "model_id": "d4cb4e4b11294acdb11d2797837ca4a4",
       "version_major": 2,
       "version_minor": 0
      },
      "text/plain": [
       "第 28/100 轮:   0%|          | 0/14 [00:00<?, ?it/s]"
      ]
     },
     "metadata": {},
     "output_type": "display_data"
    },
    {
     "data": {
      "application/vnd.jupyter.widget-view+json": {
       "model_id": "2e46ca2fe9a947029b149bd805f70ac2",
       "version_major": 2,
       "version_minor": 0
      },
      "text/plain": [
       "第 29/100 轮:   0%|          | 0/14 [00:00<?, ?it/s]"
      ]
     },
     "metadata": {},
     "output_type": "display_data"
    },
    {
     "data": {
      "application/vnd.jupyter.widget-view+json": {
       "model_id": "6446736609fc4ed0a96dc168a455347f",
       "version_major": 2,
       "version_minor": 0
      },
      "text/plain": [
       "第 30/100 轮:   0%|          | 0/14 [00:00<?, ?it/s]"
      ]
     },
     "metadata": {},
     "output_type": "display_data"
    },
    {
     "data": {
      "application/vnd.jupyter.widget-view+json": {
       "model_id": "99e973bfd6ed4cd9b14ac6c0eb52df40",
       "version_major": 2,
       "version_minor": 0
      },
      "text/plain": [
       "第 31/100 轮:   0%|          | 0/14 [00:00<?, ?it/s]"
      ]
     },
     "metadata": {},
     "output_type": "display_data"
    },
    {
     "data": {
      "application/vnd.jupyter.widget-view+json": {
       "model_id": "98a3c642384648e99da02a0793877897",
       "version_major": 2,
       "version_minor": 0
      },
      "text/plain": [
       "第 32/100 轮:   0%|          | 0/14 [00:00<?, ?it/s]"
      ]
     },
     "metadata": {},
     "output_type": "display_data"
    },
    {
     "data": {
      "application/vnd.jupyter.widget-view+json": {
       "model_id": "f1581a0c141b458ca2f59fbf68604bc8",
       "version_major": 2,
       "version_minor": 0
      },
      "text/plain": [
       "第 33/100 轮:   0%|          | 0/14 [00:00<?, ?it/s]"
      ]
     },
     "metadata": {},
     "output_type": "display_data"
    },
    {
     "data": {
      "application/vnd.jupyter.widget-view+json": {
       "model_id": "9df210c4d9ac45d8aa3ae53fe2d303d2",
       "version_major": 2,
       "version_minor": 0
      },
      "text/plain": [
       "第 34/100 轮:   0%|          | 0/14 [00:00<?, ?it/s]"
      ]
     },
     "metadata": {},
     "output_type": "display_data"
    },
    {
     "data": {
      "application/vnd.jupyter.widget-view+json": {
       "model_id": "621f44db2b2f4055ac8e9596ef82fa53",
       "version_major": 2,
       "version_minor": 0
      },
      "text/plain": [
       "第 35/100 轮:   0%|          | 0/14 [00:00<?, ?it/s]"
      ]
     },
     "metadata": {},
     "output_type": "display_data"
    },
    {
     "data": {
      "application/vnd.jupyter.widget-view+json": {
       "model_id": "6ce18c306c24483ca3a9acf9f0462004",
       "version_major": 2,
       "version_minor": 0
      },
      "text/plain": [
       "第 36/100 轮:   0%|          | 0/14 [00:00<?, ?it/s]"
      ]
     },
     "metadata": {},
     "output_type": "display_data"
    },
    {
     "data": {
      "application/vnd.jupyter.widget-view+json": {
       "model_id": "ea6d4b2caf55469080dec9c617998cc7",
       "version_major": 2,
       "version_minor": 0
      },
      "text/plain": [
       "第 37/100 轮:   0%|          | 0/14 [00:00<?, ?it/s]"
      ]
     },
     "metadata": {},
     "output_type": "display_data"
    },
    {
     "data": {
      "application/vnd.jupyter.widget-view+json": {
       "model_id": "1058ed0053f14a28a6427d181d8fc748",
       "version_major": 2,
       "version_minor": 0
      },
      "text/plain": [
       "第 38/100 轮:   0%|          | 0/14 [00:00<?, ?it/s]"
      ]
     },
     "metadata": {},
     "output_type": "display_data"
    },
    {
     "data": {
      "application/vnd.jupyter.widget-view+json": {
       "model_id": "773ba9f8dbbd4961a1f16174af4a9702",
       "version_major": 2,
       "version_minor": 0
      },
      "text/plain": [
       "第 39/100 轮:   0%|          | 0/14 [00:00<?, ?it/s]"
      ]
     },
     "metadata": {},
     "output_type": "display_data"
    },
    {
     "data": {
      "application/vnd.jupyter.widget-view+json": {
       "model_id": "1689f7d28290434185d5412cfa21f882",
       "version_major": 2,
       "version_minor": 0
      },
      "text/plain": [
       "第 40/100 轮:   0%|          | 0/14 [00:00<?, ?it/s]"
      ]
     },
     "metadata": {},
     "output_type": "display_data"
    },
    {
     "data": {
      "application/vnd.jupyter.widget-view+json": {
       "model_id": "e6899257cddc44d6a18a4c2f85b211df",
       "version_major": 2,
       "version_minor": 0
      },
      "text/plain": [
       "第 41/100 轮:   0%|          | 0/14 [00:00<?, ?it/s]"
      ]
     },
     "metadata": {},
     "output_type": "display_data"
    },
    {
     "data": {
      "application/vnd.jupyter.widget-view+json": {
       "model_id": "7ea488f00ecb4ae48c2f0f640ea4966a",
       "version_major": 2,
       "version_minor": 0
      },
      "text/plain": [
       "第 42/100 轮:   0%|          | 0/14 [00:00<?, ?it/s]"
      ]
     },
     "metadata": {},
     "output_type": "display_data"
    },
    {
     "data": {
      "application/vnd.jupyter.widget-view+json": {
       "model_id": "6e6dbd31a0a34fb98400f7f777828170",
       "version_major": 2,
       "version_minor": 0
      },
      "text/plain": [
       "第 43/100 轮:   0%|          | 0/14 [00:00<?, ?it/s]"
      ]
     },
     "metadata": {},
     "output_type": "display_data"
    },
    {
     "data": {
      "application/vnd.jupyter.widget-view+json": {
       "model_id": "00632095e68549c3a3aeda45bc82468b",
       "version_major": 2,
       "version_minor": 0
      },
      "text/plain": [
       "第 44/100 轮:   0%|          | 0/14 [00:00<?, ?it/s]"
      ]
     },
     "metadata": {},
     "output_type": "display_data"
    },
    {
     "data": {
      "application/vnd.jupyter.widget-view+json": {
       "model_id": "1e864ab7d43140f5b809843e8df0b917",
       "version_major": 2,
       "version_minor": 0
      },
      "text/plain": [
       "第 45/100 轮:   0%|          | 0/14 [00:00<?, ?it/s]"
      ]
     },
     "metadata": {},
     "output_type": "display_data"
    },
    {
     "data": {
      "application/vnd.jupyter.widget-view+json": {
       "model_id": "5c887b1886db49ae8aa18ebc3136ccb2",
       "version_major": 2,
       "version_minor": 0
      },
      "text/plain": [
       "第 46/100 轮:   0%|          | 0/14 [00:00<?, ?it/s]"
      ]
     },
     "metadata": {},
     "output_type": "display_data"
    },
    {
     "data": {
      "application/vnd.jupyter.widget-view+json": {
       "model_id": "1ef71004926e4d98a9e9df6f6bf9bce0",
       "version_major": 2,
       "version_minor": 0
      },
      "text/plain": [
       "第 47/100 轮:   0%|          | 0/14 [00:00<?, ?it/s]"
      ]
     },
     "metadata": {},
     "output_type": "display_data"
    },
    {
     "data": {
      "application/vnd.jupyter.widget-view+json": {
       "model_id": "4b01f13a9145448aabddec5288cbf08c",
       "version_major": 2,
       "version_minor": 0
      },
      "text/plain": [
       "第 48/100 轮:   0%|          | 0/14 [00:00<?, ?it/s]"
      ]
     },
     "metadata": {},
     "output_type": "display_data"
    },
    {
     "data": {
      "application/vnd.jupyter.widget-view+json": {
       "model_id": "73756a8ee60f4c69b79df5cfc5353c76",
       "version_major": 2,
       "version_minor": 0
      },
      "text/plain": [
       "第 49/100 轮:   0%|          | 0/14 [00:00<?, ?it/s]"
      ]
     },
     "metadata": {},
     "output_type": "display_data"
    },
    {
     "data": {
      "application/vnd.jupyter.widget-view+json": {
       "model_id": "252d49416e4a44509c0cebaff85c1b64",
       "version_major": 2,
       "version_minor": 0
      },
      "text/plain": [
       "第 50/100 轮:   0%|          | 0/14 [00:00<?, ?it/s]"
      ]
     },
     "metadata": {},
     "output_type": "display_data"
    },
    {
     "data": {
      "application/vnd.jupyter.widget-view+json": {
       "model_id": "46b4fa40ec4d4a08a7f0053d85faf099",
       "version_major": 2,
       "version_minor": 0
      },
      "text/plain": [
       "第 51/100 轮:   0%|          | 0/14 [00:00<?, ?it/s]"
      ]
     },
     "metadata": {},
     "output_type": "display_data"
    },
    {
     "data": {
      "application/vnd.jupyter.widget-view+json": {
       "model_id": "88bfaffcb72c4f7e9b07ef8da8353bf5",
       "version_major": 2,
       "version_minor": 0
      },
      "text/plain": [
       "第 52/100 轮:   0%|          | 0/14 [00:00<?, ?it/s]"
      ]
     },
     "metadata": {},
     "output_type": "display_data"
    },
    {
     "data": {
      "application/vnd.jupyter.widget-view+json": {
       "model_id": "ae01411de5ea4a99866842d21c49ee4b",
       "version_major": 2,
       "version_minor": 0
      },
      "text/plain": [
       "第 53/100 轮:   0%|          | 0/14 [00:00<?, ?it/s]"
      ]
     },
     "metadata": {},
     "output_type": "display_data"
    },
    {
     "data": {
      "application/vnd.jupyter.widget-view+json": {
       "model_id": "d10afe196293478cbab00fccc0bcfc00",
       "version_major": 2,
       "version_minor": 0
      },
      "text/plain": [
       "第 54/100 轮:   0%|          | 0/14 [00:00<?, ?it/s]"
      ]
     },
     "metadata": {},
     "output_type": "display_data"
    },
    {
     "data": {
      "application/vnd.jupyter.widget-view+json": {
       "model_id": "acda6e32b7514ec4b1fb64f8e0144b33",
       "version_major": 2,
       "version_minor": 0
      },
      "text/plain": [
       "第 55/100 轮:   0%|          | 0/14 [00:00<?, ?it/s]"
      ]
     },
     "metadata": {},
     "output_type": "display_data"
    },
    {
     "data": {
      "application/vnd.jupyter.widget-view+json": {
       "model_id": "99ad0a62a5594d0db93bcc568357f1f9",
       "version_major": 2,
       "version_minor": 0
      },
      "text/plain": [
       "第 56/100 轮:   0%|          | 0/14 [00:00<?, ?it/s]"
      ]
     },
     "metadata": {},
     "output_type": "display_data"
    },
    {
     "data": {
      "application/vnd.jupyter.widget-view+json": {
       "model_id": "7ef33ec8ef164b65bc1e965b1846b399",
       "version_major": 2,
       "version_minor": 0
      },
      "text/plain": [
       "第 57/100 轮:   0%|          | 0/14 [00:00<?, ?it/s]"
      ]
     },
     "metadata": {},
     "output_type": "display_data"
    },
    {
     "data": {
      "application/vnd.jupyter.widget-view+json": {
       "model_id": "9e2812639a654149841c401a337fdcf0",
       "version_major": 2,
       "version_minor": 0
      },
      "text/plain": [
       "第 58/100 轮:   0%|          | 0/14 [00:00<?, ?it/s]"
      ]
     },
     "metadata": {},
     "output_type": "display_data"
    },
    {
     "data": {
      "application/vnd.jupyter.widget-view+json": {
       "model_id": "a444ceea1caa4759bcd26636658ad950",
       "version_major": 2,
       "version_minor": 0
      },
      "text/plain": [
       "第 59/100 轮:   0%|          | 0/14 [00:00<?, ?it/s]"
      ]
     },
     "metadata": {},
     "output_type": "display_data"
    },
    {
     "data": {
      "application/vnd.jupyter.widget-view+json": {
       "model_id": "f8f028806c4f464c9ab68f48cbcc6777",
       "version_major": 2,
       "version_minor": 0
      },
      "text/plain": [
       "第 60/100 轮:   0%|          | 0/14 [00:00<?, ?it/s]"
      ]
     },
     "metadata": {},
     "output_type": "display_data"
    },
    {
     "data": {
      "application/vnd.jupyter.widget-view+json": {
       "model_id": "293ba73b35944e98ac76ae3548df778e",
       "version_major": 2,
       "version_minor": 0
      },
      "text/plain": [
       "第 61/100 轮:   0%|          | 0/14 [00:00<?, ?it/s]"
      ]
     },
     "metadata": {},
     "output_type": "display_data"
    },
    {
     "data": {
      "application/vnd.jupyter.widget-view+json": {
       "model_id": "461d51d191614b81baaa7b508fcaeb80",
       "version_major": 2,
       "version_minor": 0
      },
      "text/plain": [
       "第 62/100 轮:   0%|          | 0/14 [00:00<?, ?it/s]"
      ]
     },
     "metadata": {},
     "output_type": "display_data"
    },
    {
     "data": {
      "application/vnd.jupyter.widget-view+json": {
       "model_id": "0cff15bb48a64107908e301ce5d03509",
       "version_major": 2,
       "version_minor": 0
      },
      "text/plain": [
       "第 63/100 轮:   0%|          | 0/14 [00:00<?, ?it/s]"
      ]
     },
     "metadata": {},
     "output_type": "display_data"
    },
    {
     "data": {
      "application/vnd.jupyter.widget-view+json": {
       "model_id": "af6c3243255740fda5acfbb282ebb193",
       "version_major": 2,
       "version_minor": 0
      },
      "text/plain": [
       "第 64/100 轮:   0%|          | 0/14 [00:00<?, ?it/s]"
      ]
     },
     "metadata": {},
     "output_type": "display_data"
    },
    {
     "data": {
      "application/vnd.jupyter.widget-view+json": {
       "model_id": "756b6b60d1fc49f38be29416e823ab9d",
       "version_major": 2,
       "version_minor": 0
      },
      "text/plain": [
       "第 65/100 轮:   0%|          | 0/14 [00:00<?, ?it/s]"
      ]
     },
     "metadata": {},
     "output_type": "display_data"
    },
    {
     "data": {
      "application/vnd.jupyter.widget-view+json": {
       "model_id": "9d54522587ea4725ba2e0758f2e4493a",
       "version_major": 2,
       "version_minor": 0
      },
      "text/plain": [
       "第 66/100 轮:   0%|          | 0/14 [00:00<?, ?it/s]"
      ]
     },
     "metadata": {},
     "output_type": "display_data"
    },
    {
     "data": {
      "application/vnd.jupyter.widget-view+json": {
       "model_id": "c6c829b4ffae40419d1f7b5542a6b2aa",
       "version_major": 2,
       "version_minor": 0
      },
      "text/plain": [
       "第 67/100 轮:   0%|          | 0/14 [00:00<?, ?it/s]"
      ]
     },
     "metadata": {},
     "output_type": "display_data"
    },
    {
     "data": {
      "application/vnd.jupyter.widget-view+json": {
       "model_id": "b903365ab1d64b72a54fbe94a50766b3",
       "version_major": 2,
       "version_minor": 0
      },
      "text/plain": [
       "第 68/100 轮:   0%|          | 0/14 [00:00<?, ?it/s]"
      ]
     },
     "metadata": {},
     "output_type": "display_data"
    },
    {
     "data": {
      "application/vnd.jupyter.widget-view+json": {
       "model_id": "d222778015c14a039652289163d75869",
       "version_major": 2,
       "version_minor": 0
      },
      "text/plain": [
       "第 69/100 轮:   0%|          | 0/14 [00:00<?, ?it/s]"
      ]
     },
     "metadata": {},
     "output_type": "display_data"
    },
    {
     "data": {
      "application/vnd.jupyter.widget-view+json": {
       "model_id": "506cbd348095435b9a3058a7732dae90",
       "version_major": 2,
       "version_minor": 0
      },
      "text/plain": [
       "第 70/100 轮:   0%|          | 0/14 [00:00<?, ?it/s]"
      ]
     },
     "metadata": {},
     "output_type": "display_data"
    },
    {
     "data": {
      "application/vnd.jupyter.widget-view+json": {
       "model_id": "32947656a16c4effbc51589cd6da0882",
       "version_major": 2,
       "version_minor": 0
      },
      "text/plain": [
       "第 71/100 轮:   0%|          | 0/14 [00:00<?, ?it/s]"
      ]
     },
     "metadata": {},
     "output_type": "display_data"
    },
    {
     "data": {
      "application/vnd.jupyter.widget-view+json": {
       "model_id": "43acb567a5234274a122df3afdbe8fcd",
       "version_major": 2,
       "version_minor": 0
      },
      "text/plain": [
       "第 72/100 轮:   0%|          | 0/14 [00:00<?, ?it/s]"
      ]
     },
     "metadata": {},
     "output_type": "display_data"
    },
    {
     "data": {
      "application/vnd.jupyter.widget-view+json": {
       "model_id": "09f63edaf0884af9b98e570956a243f2",
       "version_major": 2,
       "version_minor": 0
      },
      "text/plain": [
       "第 73/100 轮:   0%|          | 0/14 [00:00<?, ?it/s]"
      ]
     },
     "metadata": {},
     "output_type": "display_data"
    },
    {
     "data": {
      "application/vnd.jupyter.widget-view+json": {
       "model_id": "995019f46467456bb1a8e34f198d45f2",
       "version_major": 2,
       "version_minor": 0
      },
      "text/plain": [
       "第 74/100 轮:   0%|          | 0/14 [00:00<?, ?it/s]"
      ]
     },
     "metadata": {},
     "output_type": "display_data"
    },
    {
     "data": {
      "application/vnd.jupyter.widget-view+json": {
       "model_id": "7c446826d322457f96131cd89a90ea29",
       "version_major": 2,
       "version_minor": 0
      },
      "text/plain": [
       "第 75/100 轮:   0%|          | 0/14 [00:00<?, ?it/s]"
      ]
     },
     "metadata": {},
     "output_type": "display_data"
    },
    {
     "data": {
      "application/vnd.jupyter.widget-view+json": {
       "model_id": "17fc9ff485794ff2b60f86c5e9738d51",
       "version_major": 2,
       "version_minor": 0
      },
      "text/plain": [
       "第 76/100 轮:   0%|          | 0/14 [00:00<?, ?it/s]"
      ]
     },
     "metadata": {},
     "output_type": "display_data"
    },
    {
     "data": {
      "application/vnd.jupyter.widget-view+json": {
       "model_id": "59d1861e16074152b1e172605e44d92e",
       "version_major": 2,
       "version_minor": 0
      },
      "text/plain": [
       "第 77/100 轮:   0%|          | 0/14 [00:00<?, ?it/s]"
      ]
     },
     "metadata": {},
     "output_type": "display_data"
    },
    {
     "data": {
      "application/vnd.jupyter.widget-view+json": {
       "model_id": "085b684d453b4d8e9ddd3da625ee9134",
       "version_major": 2,
       "version_minor": 0
      },
      "text/plain": [
       "第 78/100 轮:   0%|          | 0/14 [00:00<?, ?it/s]"
      ]
     },
     "metadata": {},
     "output_type": "display_data"
    },
    {
     "data": {
      "application/vnd.jupyter.widget-view+json": {
       "model_id": "fe49f736fc8d4318b8f73a4413985461",
       "version_major": 2,
       "version_minor": 0
      },
      "text/plain": [
       "第 79/100 轮:   0%|          | 0/14 [00:00<?, ?it/s]"
      ]
     },
     "metadata": {},
     "output_type": "display_data"
    },
    {
     "data": {
      "application/vnd.jupyter.widget-view+json": {
       "model_id": "73a6af72082041e58e9ab2b2eda14a0a",
       "version_major": 2,
       "version_minor": 0
      },
      "text/plain": [
       "第 80/100 轮:   0%|          | 0/14 [00:00<?, ?it/s]"
      ]
     },
     "metadata": {},
     "output_type": "display_data"
    },
    {
     "data": {
      "application/vnd.jupyter.widget-view+json": {
       "model_id": "89e9eef0354341d39b3e47ae2b0a390b",
       "version_major": 2,
       "version_minor": 0
      },
      "text/plain": [
       "第 81/100 轮:   0%|          | 0/14 [00:00<?, ?it/s]"
      ]
     },
     "metadata": {},
     "output_type": "display_data"
    },
    {
     "data": {
      "application/vnd.jupyter.widget-view+json": {
       "model_id": "51e8fe7eedcf4c7eaaa3760429f885ad",
       "version_major": 2,
       "version_minor": 0
      },
      "text/plain": [
       "第 82/100 轮:   0%|          | 0/14 [00:00<?, ?it/s]"
      ]
     },
     "metadata": {},
     "output_type": "display_data"
    },
    {
     "data": {
      "application/vnd.jupyter.widget-view+json": {
       "model_id": "800c6e924fde427ebf13e8fbe77566c5",
       "version_major": 2,
       "version_minor": 0
      },
      "text/plain": [
       "第 83/100 轮:   0%|          | 0/14 [00:00<?, ?it/s]"
      ]
     },
     "metadata": {},
     "output_type": "display_data"
    },
    {
     "data": {
      "application/vnd.jupyter.widget-view+json": {
       "model_id": "7440f9a3f1e749cc85edef4be6f65683",
       "version_major": 2,
       "version_minor": 0
      },
      "text/plain": [
       "第 84/100 轮:   0%|          | 0/14 [00:00<?, ?it/s]"
      ]
     },
     "metadata": {},
     "output_type": "display_data"
    },
    {
     "data": {
      "application/vnd.jupyter.widget-view+json": {
       "model_id": "151998fa842b4538a624e19ff57da6a0",
       "version_major": 2,
       "version_minor": 0
      },
      "text/plain": [
       "第 85/100 轮:   0%|          | 0/14 [00:00<?, ?it/s]"
      ]
     },
     "metadata": {},
     "output_type": "display_data"
    },
    {
     "data": {
      "application/vnd.jupyter.widget-view+json": {
       "model_id": "8e89207ee2a54fcb89fa1d0ae427fdad",
       "version_major": 2,
       "version_minor": 0
      },
      "text/plain": [
       "第 86/100 轮:   0%|          | 0/14 [00:00<?, ?it/s]"
      ]
     },
     "metadata": {},
     "output_type": "display_data"
    },
    {
     "data": {
      "application/vnd.jupyter.widget-view+json": {
       "model_id": "3a328aa9bdca45c8afe23e2bdffceb92",
       "version_major": 2,
       "version_minor": 0
      },
      "text/plain": [
       "第 87/100 轮:   0%|          | 0/14 [00:00<?, ?it/s]"
      ]
     },
     "metadata": {},
     "output_type": "display_data"
    },
    {
     "data": {
      "application/vnd.jupyter.widget-view+json": {
       "model_id": "89f49cdfd13744e885f6d341bfd5eab8",
       "version_major": 2,
       "version_minor": 0
      },
      "text/plain": [
       "第 88/100 轮:   0%|          | 0/14 [00:00<?, ?it/s]"
      ]
     },
     "metadata": {},
     "output_type": "display_data"
    },
    {
     "data": {
      "application/vnd.jupyter.widget-view+json": {
       "model_id": "6448122688bd42298522b79bc12fa947",
       "version_major": 2,
       "version_minor": 0
      },
      "text/plain": [
       "第 89/100 轮:   0%|          | 0/14 [00:00<?, ?it/s]"
      ]
     },
     "metadata": {},
     "output_type": "display_data"
    },
    {
     "data": {
      "application/vnd.jupyter.widget-view+json": {
       "model_id": "855399f0bf5d4d30b4573e46421c925d",
       "version_major": 2,
       "version_minor": 0
      },
      "text/plain": [
       "第 90/100 轮:   0%|          | 0/14 [00:00<?, ?it/s]"
      ]
     },
     "metadata": {},
     "output_type": "display_data"
    },
    {
     "data": {
      "application/vnd.jupyter.widget-view+json": {
       "model_id": "dc2a2ddadaa842198ff52400473ba9a6",
       "version_major": 2,
       "version_minor": 0
      },
      "text/plain": [
       "第 91/100 轮:   0%|          | 0/14 [00:00<?, ?it/s]"
      ]
     },
     "metadata": {},
     "output_type": "display_data"
    },
    {
     "data": {
      "application/vnd.jupyter.widget-view+json": {
       "model_id": "00a1e766319947b7a410b0f0e85e45f7",
       "version_major": 2,
       "version_minor": 0
      },
      "text/plain": [
       "第 92/100 轮:   0%|          | 0/14 [00:00<?, ?it/s]"
      ]
     },
     "metadata": {},
     "output_type": "display_data"
    },
    {
     "data": {
      "application/vnd.jupyter.widget-view+json": {
       "model_id": "ae72957f93514b9b8acc0cd1fd813256",
       "version_major": 2,
       "version_minor": 0
      },
      "text/plain": [
       "第 93/100 轮:   0%|          | 0/14 [00:00<?, ?it/s]"
      ]
     },
     "metadata": {},
     "output_type": "display_data"
    },
    {
     "data": {
      "application/vnd.jupyter.widget-view+json": {
       "model_id": "71ccfc82757244c4a6a3851e4de04b0d",
       "version_major": 2,
       "version_minor": 0
      },
      "text/plain": [
       "第 94/100 轮:   0%|          | 0/14 [00:00<?, ?it/s]"
      ]
     },
     "metadata": {},
     "output_type": "display_data"
    },
    {
     "data": {
      "application/vnd.jupyter.widget-view+json": {
       "model_id": "b76d77c7d16a46959c4ca5ef02e5c2cd",
       "version_major": 2,
       "version_minor": 0
      },
      "text/plain": [
       "第 95/100 轮:   0%|          | 0/14 [00:00<?, ?it/s]"
      ]
     },
     "metadata": {},
     "output_type": "display_data"
    },
    {
     "data": {
      "application/vnd.jupyter.widget-view+json": {
       "model_id": "e30bc5af473447cf8ca09cc9d6d19294",
       "version_major": 2,
       "version_minor": 0
      },
      "text/plain": [
       "第 96/100 轮:   0%|          | 0/14 [00:00<?, ?it/s]"
      ]
     },
     "metadata": {},
     "output_type": "display_data"
    },
    {
     "data": {
      "application/vnd.jupyter.widget-view+json": {
       "model_id": "5746b2eff7744e1ba58b2ad5e418e6a9",
       "version_major": 2,
       "version_minor": 0
      },
      "text/plain": [
       "第 97/100 轮:   0%|          | 0/14 [00:00<?, ?it/s]"
      ]
     },
     "metadata": {},
     "output_type": "display_data"
    },
    {
     "data": {
      "application/vnd.jupyter.widget-view+json": {
       "model_id": "5d0e6c2f772c4edc8f56ba5a923ed9e0",
       "version_major": 2,
       "version_minor": 0
      },
      "text/plain": [
       "第 98/100 轮:   0%|          | 0/14 [00:00<?, ?it/s]"
      ]
     },
     "metadata": {},
     "output_type": "display_data"
    },
    {
     "data": {
      "application/vnd.jupyter.widget-view+json": {
       "model_id": "2902e7fe105f445c98cd3ae83904a4e6",
       "version_major": 2,
       "version_minor": 0
      },
      "text/plain": [
       "第 99/100 轮:   0%|          | 0/14 [00:00<?, ?it/s]"
      ]
     },
     "metadata": {},
     "output_type": "display_data"
    },
    {
     "data": {
      "application/vnd.jupyter.widget-view+json": {
       "model_id": "01598cde141c4fe1bd9ef0e3361df166",
       "version_major": 2,
       "version_minor": 0
      },
      "text/plain": [
       "第 100/100 轮:   0%|          | 0/14 [00:00<?, ?it/s]"
      ]
     },
     "metadata": {},
     "output_type": "display_data"
    },
    {
     "name": "stdout",
     "output_type": "stream",
     "text": [
      "Fold 5 - Epoch 100: Best Correlation Coefficient: 0.7028\n",
      "代码执行时间: 69.27590465545654 秒\n"
     ]
    }
   ],
   "source": [
    "start_time = time.time()\n",
    "x = X_train_reduction\n",
    "y = Y_train\n",
    "for fold, (train_index, test_index) in enumerate(kf.split(x)):\n",
    "    x_train, x_test = x[train_index], x[test_index]\n",
    "    y_train, y_test = y[train_index], y[test_index]\n",
    "\n",
    "\n",
    "    scaler = StandardScaler()\n",
    "    x_train = scaler.fit_transform(x_train)\n",
    "    x_test = scaler.transform(x_test)\n",
    "\n",
    "    # scaler_model = StandardScaler()\n",
    "    # y_train = scaler_model.fit_transform(y_train.reshape(-1, 1)).flatten()\n",
    "    # y_test = scaler_model.transform(y_test.reshape(-1, 1)).flatten()\n",
    "\n",
    "    x_train_tensor = torch.from_numpy(x_train).float().to(DEVICE)\n",
    "    y_train_tensor = torch.from_numpy(y_train).float().to(DEVICE)\n",
    "    x_test_tensor = torch.from_numpy(x_test).float().to(DEVICE)\n",
    "    y_test_tensor = torch.from_numpy(y_test).float().to(DEVICE)\n",
    "\n",
    "    train_data = TensorDataset(x_train_tensor, y_train_tensor)\n",
    "    test_data = TensorDataset(x_test_tensor, y_test_tensor)\n",
    "\n",
    "    train_loader = DataLoader(train_data, batch_size, shuffle=True)\n",
    "    test_loader = DataLoader(test_data, batch_size, shuffle=False)\n",
    "\n",
    "    model = SelfAttention(num_attention_heads, x_train.shape[1], hidden_dim, output_dim,\n",
    "                          hidden_dropout_prob=hidden_dropout_prob, kernel_size=kernel_size,\n",
    "                          attention_probs_dropout_prob=attention_probs_dropout_prob).to(DEVICE)\n",
    "    loss_function = torch.nn.MSELoss()\n",
    "    optimizer = torch.optim.Adam(model.parameters(), lr=LR)\n",
    "\n",
    "    scheduler = optim.lr_scheduler.ReduceLROnPlateau(optimizer, mode='min', factor=0.1, patience=10, verbose=True)\n",
    "\n",
    "    best_corr_coef = -1\n",
    "\n",
    "    for epoch in range(epochs):\n",
    "        model.train()\n",
    "        running_loss = 0\n",
    "        train_bar = tqdm(train_loader, desc=f'第 {epoch + 1}/{epochs} 轮')\n",
    "        for data in train_bar:\n",
    "            x_batch, y_batch = data\n",
    "            optimizer.zero_grad()\n",
    "            y_pred = model(x_batch)\n",
    "            loss = loss_function(y_pred, y_batch.reshape(-1, 1))\n",
    "            loss.backward()\n",
    "            optimizer.step()\n",
    "\n",
    "            running_loss += loss.item()\n",
    "\n",
    "    model.eval()\n",
    "    y_test_preds, y_test_trues = [], []\n",
    "    with torch.no_grad():\n",
    "        for x_batch, y_batch in test_loader:\n",
    "            y_test_pred = model(x_batch)\n",
    "            y_test_preds.extend(y_test_pred.cpu().numpy().reshape(-1).tolist())\n",
    "            y_test_trues.extend(y_batch.cpu().numpy().reshape(-1).tolist())\n",
    "\n",
    "    corr_coef = np.corrcoef(y_test_preds, y_test_trues)[0, 1]\n",
    "    if corr_coef > best_corr_coef:\n",
    "        best_corr_coef = corr_coef\n",
    "        torch.save(model.state_dict(), save_path)\n",
    "    best_corr_coefs.append(best_corr_coef)\n",
    "\n",
    "    print(f'Fold {fold+1} - Epoch {epoch+1}: Best Correlation Coefficient: {best_corr_coef:.4f}')\n",
    "\n",
    "end_time = time.time()\n",
    "execution_time = end_time - start_time\n",
    "print(f\"time: {execution_time} 秒\")\n"
   ]
  },
  {
   "cell_type": "code",
   "execution_count": 13,
   "id": "57a9c4e2-27a1-484f-9c45-74883d86ed04",
   "metadata": {},
   "outputs": [
    {
     "name": "stdout",
     "output_type": "stream",
     "text": [
      "代码执行时间: 69.27590465545654 秒\n"
     ]
    }
   ],
   "source": [
    "print(f\"time: {execution_time} 秒\")"
   ]
  },
  {
   "cell_type": "code",
   "execution_count": 14,
   "id": "8bcaf3dd-dd93-4c4a-bab1-c9046da0483e",
   "metadata": {},
   "outputs": [
    {
     "name": "stdout",
     "output_type": "stream",
     "text": [
      "各折最佳相关系数: [0.7299148036182223, 0.7763164153284862, 0.7691692185433031, 0.7418846305880784, 0.7028381138555231]\n",
      "平均最佳相关系数: 0.7440\n",
      "0.013369752508627514\n"
     ]
    }
   ],
   "source": [
    "average = np.mean(best_corr_coefs)\n",
    "print(best_corr_coefs)\n",
    "print(f\"corr: {average:.4f}\")\n",
    "import numpy as np\n",
    "performance_scores = np.array(best_corr_coefs)\n",
    "mean_score = np.mean(performance_scores)\n",
    "sample_variance = np.var(performance_scores, ddof=1)\n",
    "sample_std_dev = np.sqrt(sample_variance)\n",
    "standard_error = sample_std_dev / np.sqrt(len(performance_scores))\n",
    "print(standard_error)"
   ]
  },
  {
   "cell_type": "code",
   "execution_count": 15,
   "id": "624816f1-1ae7-41ee-b3b0-f3374011bacd",
   "metadata": {},
   "outputs": [
    {
     "data": {
      "text/plain": [
       "<All keys matched successfully>"
      ]
     },
     "execution_count": 15,
     "metadata": {},
     "output_type": "execute_result"
    }
   ],
   "source": [
    "### load_model\n",
    "model_planthe = SelfAttention(num_attention_heads, \n",
    "                      X_train_reduction.shape[1], \n",
    "                      hidden_dim, \n",
    "                      output_dim,\n",
    "                      hidden_dropout_prob=hidden_dropout_prob,\n",
    "                      kernel_size = kernel_size,\n",
    "                      attention_probs_dropout_prob=attention_probs_dropout_prob).to(DEVICE)\n",
    "model_planthe.load_state_dict(torch.load(\"./cn_at_pla_heig.pth\"))"
   ]
  },
  {
   "cell_type": "code",
   "execution_count": 16,
   "id": "bd169cce-02b7-4f60-9f73-66827cec8ef8",
   "metadata": {},
   "outputs": [],
   "source": [
    "\n",
    "data_test_tensor = torch.from_numpy(X_test_reduction).to(torch.float32).to(DEVICE)\n",
    "label_test_tensor = torch.from_numpy(Y_test).to(torch.float32).to(DEVICE)"
   ]
  },
  {
   "cell_type": "code",
   "execution_count": 17,
   "id": "6fd52468-245d-4a54-89e0-4b0dd5697c6e",
   "metadata": {},
   "outputs": [
    {
     "name": "stdout",
     "output_type": "stream",
     "text": [
      "test_corr 0.7280612325922147\n"
     ]
    }
   ],
   "source": [
    "model_planthe.eval()\n",
    "with torch.no_grad():\n",
    "    phei_output = model_planthe(data_test_tensor)\n",
    "pre = phei_output.cpu().detach().numpy().reshape(-1).tolist()\n",
    "tru = label_test_tensor.cpu().detach().numpy().reshape(-1).tolist()\n",
    "test_corr_coef = np.corrcoef(pre, tru)[0,1]\n",
    "print(\"test_corr\",test_corr_coef)"
   ]
  },
  {
   "cell_type": "code",
   "execution_count": null,
   "id": "11b68b28-350b-4509-bd38-c4d69292211b",
   "metadata": {},
   "outputs": [],
   "source": []
  },
  {
   "cell_type": "code",
   "execution_count": null,
   "id": "7a8e4dfa-829a-4792-a3ac-5156dcbb8ae7",
   "metadata": {},
   "outputs": [],
   "source": []
  },
  {
   "cell_type": "code",
   "execution_count": null,
   "id": "3b160e0d-3058-4b15-a3bd-76aa9eaecbf0",
   "metadata": {},
   "outputs": [],
   "source": []
  },
  {
   "cell_type": "code",
   "execution_count": null,
   "id": "63b24d31-5eea-4a9f-ba31-143171b809c4",
   "metadata": {},
   "outputs": [],
   "source": []
  },
  {
   "cell_type": "code",
   "execution_count": null,
   "id": "3dc356c5-1ecd-4526-a79d-b92ab1402e0c",
   "metadata": {},
   "outputs": [],
   "source": []
  },
  {
   "cell_type": "code",
   "execution_count": 34,
   "id": "33d455f2-f5b1-46af-95f4-ee8f0efe3613",
   "metadata": {},
   "outputs": [],
   "source": []
  },
  {
   "cell_type": "code",
   "execution_count": 36,
   "id": "53653a33-a606-4f5a-8733-27cd2a9a7eda",
   "metadata": {},
   "outputs": [],
   "source": []
  },
  {
   "cell_type": "code",
   "execution_count": null,
   "id": "3935610d-9690-4110-95b4-2456ec93c8cd",
   "metadata": {},
   "outputs": [],
   "source": []
  },
  {
   "cell_type": "code",
   "execution_count": null,
   "id": "4001851f-dac4-4741-afb8-70cb665e0b5d",
   "metadata": {},
   "outputs": [],
   "source": []
  },
  {
   "cell_type": "code",
   "execution_count": null,
   "id": "c4d92aad-6a1b-41d1-9b3e-7dab5d68bc21",
   "metadata": {},
   "outputs": [],
   "source": []
  }
 ],
 "metadata": {
  "kernelspec": {
   "display_name": "Python [conda env:pytorch2]",
   "language": "python",
   "name": "conda-env-pytorch2-py"
  },
  "language_info": {
   "codemirror_mode": {
    "name": "ipython",
    "version": 3
   },
   "file_extension": ".py",
   "mimetype": "text/x-python",
   "name": "python",
   "nbconvert_exporter": "python",
   "pygments_lexer": "ipython3",
   "version": "3.8.16"
  }
 },
 "nbformat": 4,
 "nbformat_minor": 5
}
