{
 "cells": [
  {
   "cell_type": "code",
   "execution_count": 1,
   "id": "289664f6-700e-4bf4-9eef-8b4bc4a77238",
   "metadata": {},
   "outputs": [],
   "source": [
    "import pandas as pd\n",
    "import torch.nn as nn\n",
    "import torch\n",
    "import time\n",
    "import os\n",
    "import matplotlib.pyplot as plt\n",
    "import numpy as np\n",
    "import pandas as pd\n",
    "import torch.nn as nn\n",
    "from torch.nn import BatchNorm1d\n",
    "from torch.utils.data import TensorDataset\n",
    "from tqdm import tqdm\n",
    "import torch.nn.functional as F\n",
    "from sklearn.model_selection import KFold, train_test_split\n",
    "from torch.utils.data import TensorDataset, DataLoader\n",
    "from sklearn.preprocessing import StandardScaler\n",
    "import torch.optim as optim\n",
    "from tqdm.auto import tqdm"
   ]
  },
  {
   "cell_type": "code",
   "execution_count": 2,
   "id": "cd3d5d2f-361b-464a-bafd-2cc77567ba00",
   "metadata": {},
   "outputs": [],
   "source": [
    "class LayerNorm(nn.Module):\n",
    "    def __init__(self, hidden_size, eps=1e-12):\n",
    "        \"\"\"Construct a layernorm module in the TF style (epsilon inside the square root).\n",
    "        \"\"\"\n",
    "        super(LayerNorm, self).__init__()\n",
    "        self.weight = nn.Parameter(torch.ones(hidden_size))\n",
    "        self.bias = nn.Parameter(torch.zeros(hidden_size))\n",
    "        self.variance_epsilon = eps\n",
    "\n",
    "    def forward(self, x):\n",
    "        u = x.mean(-1, keepdim=True)\n",
    "        s = (x - u).pow(2).mean(-1, keepdim=True)\n",
    "        x = (x - u) / torch.sqrt(s + self.variance_epsilon)\n",
    "        return self.weight * x + self.bias"
   ]
  },
  {
   "cell_type": "code",
   "execution_count": 3,
   "id": "73d4053a-354b-4a78-9a91-a5c1eaee9469",
   "metadata": {},
   "outputs": [],
   "source": [
    "class SelfAttention(nn.Module):\n",
    "    def __init__(self, num_attention_heads, input_size, hidden_size, output_dim=1, kernel_size=3,\n",
    "                 hidden_dropout_prob=0.5, attention_probs_dropout_prob=0.5):\n",
    "        super(SelfAttention, self).__init__()\n",
    "        input_size = input_size - kernel_size + 1\n",
    "\n",
    "        if hidden_size % num_attention_heads != 0:\n",
    "            raise ValueError(\n",
    "                \"The hidden size (%d) is not a multiple of the number of attention \"\n",
    "                \"heads (%d)\" % (hidden_size, num_attention_heads))\n",
    "\n",
    "        self.num_attention_heads = num_attention_heads\n",
    "        self.attention_head_size = int(hidden_size / num_attention_heads)\n",
    "        self.all_head_size = hidden_size\n",
    "\n",
    "\n",
    "        self.query = nn.Linear(input_size, self.all_head_size)\n",
    "        self.key = nn.Linear(input_size, self.all_head_size)\n",
    "        self.value = nn.Linear(input_size, self.all_head_size)\n",
    "\n",
    "        self.attn_dropout = nn.Dropout(attention_probs_dropout_prob)\n",
    "        self.out_dropout = nn.Dropout(hidden_dropout_prob)\n",
    "\n",
    "        self.dense = nn.Linear(hidden_size, input_size)\n",
    "        self.LayerNorm = LayerNorm(input_size, eps=1e-12)\n",
    "        self.relu = nn.ReLU()\n",
    "        self.out = nn.Linear(input_size, output_dim)\n",
    "\n",
    "        self.cnn = nn.Conv1d(1, 1, kernel_size, stride=1)\n",
    "\n",
    "    def transpose_for_scores(self, x):\n",
    "        new_x_shape = x.size()[:-1] + (self.num_attention_heads, self.attention_head_size)\n",
    "        x = x.view(*new_x_shape)\n",
    "        return x.permute(0, 2, 1, 3)\n",
    "\n",
    "    def forward(self, input_tensor): #input tensor (128,10000)\n",
    "        cnn_hidden = self.cnn(input_tensor.view(input_tensor.size(0), 1, -1))#(128,1,9998)\n",
    "        #\n",
    "        input_tensor = cnn_hidden\n",
    "        self.cnn_result = input_tensor\n",
    "\n",
    "        mixed_query_layer = self.query(input_tensor)\n",
    "        mixed_key_layer = self.key(input_tensor)\n",
    "        mixed_value_layer = self.value(input_tensor)\n",
    "        \n",
    "        self.mixed_query_layer_ = mixed_query_layer\n",
    "        self.mixed_key_layer_ = mixed_key_layer\n",
    "        self.mixed_value_layer_ = mixed_value_layer\n",
    "        \n",
    "        query_layer = self.transpose_for_scores(mixed_query_layer)\n",
    "        key_layer = self.transpose_for_scores(mixed_key_layer)\n",
    "        value_layer = self.transpose_for_scores(mixed_value_layer)\n",
    "        \n",
    "        self.query_layer_ = query_layer\n",
    "        self.key_layer_ = key_layer\n",
    "        self.value_layer_ = value_layer\n",
    "        \n",
    "        attention_scores = torch.matmul(query_layer, key_layer.transpose(-1, -2))\n",
    "        \n",
    "        attention_scores = attention_scores / np.sqrt(self.attention_head_size)\n",
    "        \n",
    "        self.attention_scores_ = attention_scores\n",
    "        \n",
    "        attention_probs = nn.Softmax(dim=-1)(attention_scores)\n",
    "        self.attention_probs_ = attention_probs\n",
    "        # This is actually dropping out entire tokens to attend to, which might\n",
    "        # seem a bit unusual, but is taken from the original Transformer paper.\n",
    "        \n",
    "        attention_probs = self.attn_dropout(attention_probs)\n",
    "        self.attention_probs__ = attention_probs\n",
    "        \n",
    "        context_layer = torch.matmul(attention_probs, value_layer) #128，8，1，6\n",
    "        self.context_layer_ = context_layer\n",
    "        \n",
    "        context_layer = context_layer.permute(0, 2, 1, 3).contiguous()\n",
    "        self.context_layer__ = context_layer\n",
    "        \n",
    "        new_context_layer_shape = context_layer.size()[:-2] + (self.all_head_size,) #128，1，128\n",
    "        self.new_context_layer_shape_ = new_context_layer_shape\n",
    "        \n",
    "        context_layer = context_layer.view(*new_context_layer_shape)#128，1，128\n",
    "        self.context_layer3 = context_layer\n",
    "\n",
    "        hidden_states = self.dense(context_layer) #128，1，9998\n",
    "        self.h1 = hidden_states\n",
    "\n",
    "        hidden_states = self.out_dropout(input_tensor)\n",
    "        self.h2 = hidden_states\n",
    "\n",
    "        hidden_states = self.LayerNorm(hidden_states + input_tensor)\n",
    "        self.h3 = hidden_states\n",
    "\n",
    "        output = self.out(self.relu(hidden_states.view(hidden_states.size(0), -1)))\n",
    "        self.o = output\n",
    "        return output"
   ]
  },
  {
   "cell_type": "code",
   "execution_count": 4,
   "id": "9adf4e20-2dd8-43d1-b18d-9e1ef1edd72a",
   "metadata": {},
   "outputs": [
    {
     "name": "stdout",
     "output_type": "stream",
     "text": [
      "Device used: cuda\n"
     ]
    }
   ],
   "source": [
    "np.random.seed(42)\n",
    "torch.manual_seed(42)\n",
    "\n",
    "DEVICE = torch.device('cuda' if torch.cuda.is_available() else 'cpu')\n",
    "print(f'Device used: {DEVICE}')\n",
    "is_scaler = False\n",
    "batch_size = 64 \n",
    "hidden_dim = 128  \n",
    "output_dim = 1  \n",
    "num_attention_heads = 8\n",
    "kernel_size = 3\n",
    "best_corr_coef = -1\n",
    "LR = 0.0001\n",
    "epochs = 100\n",
    "hidden_dropout_prob=0.5\n",
    "attention_probs_dropout_prob = 0.5"
   ]
  },
  {
   "cell_type": "code",
   "execution_count": 5,
   "id": "b90c08a1-56ca-4277-b4e4-182dce94267d",
   "metadata": {},
   "outputs": [],
   "source": [
    "data = pd.read_csv(\"./data_ge.csv\")\n",
    "label = pd.read_csv(\"./pheno.csv\")\n",
    "label = label[\"Sopim_BGV006775_12T001232.1\"]"
   ]
  },
  {
   "cell_type": "code",
   "execution_count": 6,
   "id": "a5acd7c0-fe2a-4239-802c-b203de0b2d9c",
   "metadata": {},
   "outputs": [],
   "source": [
    "X_train_reduction, X_test_reduction, Y_train, Y_test = train_test_split(data, label, test_size=0.2, random_state=1)"
   ]
  },
  {
   "cell_type": "code",
   "execution_count": 7,
   "id": "831969d7-6aa1-4754-b738-8ce647f06f8c",
   "metadata": {},
   "outputs": [],
   "source": [
    "Y_train = pd.DataFrame(Y_train)\n",
    "Y_test = pd.DataFrame(Y_test)\n",
    "Y_train = Y_train.values.astype(float)\n",
    "Y_test = Y_test.values.astype(float)\n",
    "X_train_reduction = pd.DataFrame(X_train_reduction)\n",
    "X_test_reduction = pd.DataFrame(X_test_reduction)\n",
    "X_train_reduction = X_train_reduction.values.astype(float)\n",
    "X_test_reduction = X_test_reduction.values.astype(float)"
   ]
  },
  {
   "cell_type": "code",
   "execution_count": 8,
   "id": "8a2d642b-bb10-48c1-a97d-5ac858350794",
   "metadata": {},
   "outputs": [],
   "source": [
    "kf = KFold(n_splits=5, shuffle=True, random_state=42)\n",
    "\n",
    "best_corr_coefs = []"
   ]
  },
  {
   "cell_type": "code",
   "execution_count": 9,
   "id": "04642b69-1b7b-42b6-a207-e0a14df59c27",
   "metadata": {},
   "outputs": [],
   "source": [
    "save_path = './cn_at_ge.pth'"
   ]
  },
  {
   "cell_type": "code",
   "execution_count": null,
   "id": "a553171b-04af-4d59-b3ab-853694fcd008",
   "metadata": {},
   "outputs": [],
   "source": [
    "start_time = time.time()\n",
    "x = X_train_reduction\n",
    "y = Y_train\n",
    "for fold, (train_index, test_index) in enumerate(kf.split(x)):\n",
    "    x_train, x_test = x[train_index], x[test_index]\n",
    "    y_train, y_test = y[train_index], y[test_index]\n",
    "\n",
    "\n",
    "    scaler = StandardScaler()\n",
    "    x_train = scaler.fit_transform(x_train)\n",
    "    x_test = scaler.transform(x_test)\n",
    "\n",
    "    # scaler_model = StandardScaler()\n",
    "    # y_train = scaler_model.fit_transform(y_train.reshape(-1, 1)).flatten()\n",
    "    # y_test = scaler_model.transform(y_test.reshape(-1, 1)).flatten()\n",
    "\n",
    "    x_train_tensor = torch.from_numpy(x_train).float().to(DEVICE)\n",
    "    y_train_tensor = torch.from_numpy(y_train).float().to(DEVICE)\n",
    "    x_test_tensor = torch.from_numpy(x_test).float().to(DEVICE)\n",
    "    y_test_tensor = torch.from_numpy(y_test).float().to(DEVICE)\n",
    "\n",
    "    train_data = TensorDataset(x_train_tensor, y_train_tensor)\n",
    "    test_data = TensorDataset(x_test_tensor, y_test_tensor)\n",
    "\n",
    "    train_loader = DataLoader(train_data, batch_size, shuffle=True)\n",
    "    test_loader = DataLoader(test_data, batch_size, shuffle=False)\n",
    "\n",
    "    model = SelfAttention(num_attention_heads, x_train.shape[1], hidden_dim, output_dim,\n",
    "                          hidden_dropout_prob=hidden_dropout_prob, kernel_size=kernel_size,\n",
    "                          attention_probs_dropout_prob=attention_probs_dropout_prob).to(DEVICE)\n",
    "    loss_function = torch.nn.MSELoss()\n",
    "    optimizer = torch.optim.Adam(model.parameters(), lr=LR)\n",
    "\n",
    "    scheduler = optim.lr_scheduler.ReduceLROnPlateau(optimizer, mode='min', factor=0.01, patience=10, verbose=True)\n",
    "\n",
    "    best_corr_coef = -1\n",
    "\n",
    "    for epoch in range(epochs):\n",
    "        model.train()\n",
    "        running_loss = 0\n",
    "        train_bar = tqdm(train_loader, desc=f'第 {epoch + 1}/{epochs} 轮')\n",
    "        for data in train_bar:\n",
    "            x_batch, y_batch = data\n",
    "            optimizer.zero_grad()\n",
    "            y_pred = model(x_batch)\n",
    "            loss = loss_function(y_pred, y_batch.reshape(-1, 1))\n",
    "            l2_reg = torch.tensor(0., requires_grad=True)\n",
    "            for param in model.parameters():\n",
    "                l2_reg = l2_reg + torch.norm(param, 2)\n",
    "            total_loss = loss + 0.01 * l2_reg\n",
    "            loss.backward()\n",
    "            optimizer.step()\n",
    "\n",
    "            loss += loss.item()\n",
    "\n",
    "    model.eval()\n",
    "    y_test_preds, y_test_trues = [], []\n",
    "    with torch.no_grad():\n",
    "        for x_batch, y_batch in test_loader:\n",
    "            y_test_pred = model(x_batch)\n",
    "            y_test_preds.extend(y_test_pred.cpu().numpy().reshape(-1).tolist())\n",
    "            y_test_trues.extend(y_batch.cpu().numpy().reshape(-1).tolist())\n",
    "\n",
    "    corr_coef = np.corrcoef(y_test_preds, y_test_trues)[0, 1]\n",
    "    if corr_coef > best_corr_coef:\n",
    "        best_corr_coef = corr_coef\n",
    "        torch.save(model.state_dict(), save_path)\n",
    "    best_corr_coefs.append(best_corr_coef)\n",
    "\n",
    "    print(f'Fold {fold+1} - Epoch {epoch+1}: Best Correlation Coefficient: {best_corr_coef:.4f}')\n",
    "\n",
    "end_time = time.time()\n",
    "execution_time = end_time - start_time\n",
    "print(f\"time: {execution_time} 秒\")\n"
   ]
  },
  {
   "cell_type": "code",
   "execution_count": 16,
   "id": "bab03195-c3e6-4ea1-931e-686956a15813",
   "metadata": {},
   "outputs": [
    {
     "name": "stdout",
     "output_type": "stream",
     "text": [
      "代码执行时间: 60.182273626327515 秒\n"
     ]
    }
   ],
   "source": [
    "print(f\"time: {execution_time} 秒\") "
   ]
  },
  {
   "cell_type": "code",
   "execution_count": null,
   "id": "d75c2bac-3bae-422d-854f-e8c6456174e9",
   "metadata": {},
   "outputs": [],
   "source": [
    "average = np.mean(best_corr_coefs)\n",
    "print(best_corr_coefs)\n",
    "print(f\"corr: {average:.4f}\")\n",
    "import numpy as np\n",
    "performance_scores = np.array(best_corr_coefs)\n",
    "mean_score = np.mean(performance_scores)\n",
    "sample_variance = np.var(performance_scores, ddof=1)\n",
    "sample_std_dev = np.sqrt(sample_variance)\n",
    "standard_error = sample_std_dev / np.sqrt(len(performance_scores))\n",
    "print(standard_error)"
   ]
  },
  {
   "cell_type": "code",
   "execution_count": 18,
   "id": "f53c25e0-a845-4d06-88da-838d4a38ff1b",
   "metadata": {},
   "outputs": [
    {
     "data": {
      "text/plain": [
       "<All keys matched successfully>"
      ]
     },
     "execution_count": 18,
     "metadata": {},
     "output_type": "execute_result"
    }
   ],
   "source": [
    "\n",
    "### load_model\n",
    "model_tkw = SelfAttention(num_attention_heads,\n",
    "                      X_train_reduction.shape[1],\n",
    "                      hidden_dim,\n",
    "                      output_dim,\n",
    "                      hidden_dropout_prob=hidden_dropout_prob,\n",
    "                      kernel_size = kernel_size,\n",
    "                      attention_probs_dropout_prob=attention_probs_dropout_prob).to(DEVICE)\n",
    "model_tkw.load_state_dict(torch.load(\"./cn_at_ge.pth\"))"
   ]
  },
  {
   "cell_type": "code",
   "execution_count": 19,
   "id": "2be83bb5-97fe-4ba7-8c76-b6f1b78bc020",
   "metadata": {},
   "outputs": [],
   "source": [
    "X_test_tensor = torch.from_numpy(X_test_reduction).to(torch.float32).to(DEVICE)\n",
    "Y_test_tensor = torch.from_numpy(Y_test).to(torch.float32).to(DEVICE)"
   ]
  },
  {
   "cell_type": "code",
   "execution_count": null,
   "id": "ae88f124-7bfd-4113-9d79-88c14db10961",
   "metadata": {},
   "outputs": [],
   "source": [
    "model_tkw.eval()\n",
    "with torch.no_grad():\n",
    "    tkw_output = model_tkw(X_test_tensor)\n",
    "yuce = tkw_output.cpu().detach().numpy().reshape(-1).tolist()\n",
    "zhen = Y_test_tensor.cpu().detach().numpy().reshape(-1).tolist()\n",
    "train_corr_coef = np.corrcoef(zhen, yuce)[0,1]\n",
    "print(\"train_corr\",train_corr_coef)"
   ]
  },
  {
   "cell_type": "code",
   "execution_count": null,
   "id": "0f01bb8f-13bc-419c-b609-ad2e66406f61",
   "metadata": {},
   "outputs": [],
   "source": []
  },
  {
   "cell_type": "code",
   "execution_count": null,
   "id": "c3b689f2-6d3a-4907-89db-2f5f2f41dbdf",
   "metadata": {},
   "outputs": [],
   "source": []
  },
  {
   "cell_type": "code",
   "execution_count": null,
   "id": "746b8e5b-12a8-43da-8fc4-1f932eab8ec5",
   "metadata": {},
   "outputs": [],
   "source": []
  },
  {
   "cell_type": "code",
   "execution_count": null,
   "id": "424119ac-ee3b-4090-821e-2b8112fd2a65",
   "metadata": {},
   "outputs": [],
   "source": []
  },
  {
   "cell_type": "code",
   "execution_count": null,
   "id": "56e2e0a9-d6f6-4807-9417-b06585df468c",
   "metadata": {},
   "outputs": [],
   "source": []
  },
  {
   "cell_type": "code",
   "execution_count": null,
   "id": "f417e671-7dd2-410a-9c74-1d29b11c06a4",
   "metadata": {},
   "outputs": [],
   "source": []
  },
  {
   "cell_type": "code",
   "execution_count": null,
   "id": "e5f9466a-6642-4162-89b8-fece1ca4cce4",
   "metadata": {},
   "outputs": [],
   "source": []
  },
  {
   "cell_type": "code",
   "execution_count": null,
   "id": "26de7281-a0fe-4c29-ad34-7a52ce5444fc",
   "metadata": {},
   "outputs": [],
   "source": []
  },
  {
   "cell_type": "code",
   "execution_count": null,
   "id": "e8e83275-6c22-4e87-af29-6d1413533d0a",
   "metadata": {},
   "outputs": [],
   "source": []
  },
  {
   "cell_type": "code",
   "execution_count": null,
   "id": "47f11885-23c7-423b-91b8-2303c78272cf",
   "metadata": {},
   "outputs": [],
   "source": []
  },
  {
   "cell_type": "code",
   "execution_count": null,
   "id": "046f0dfb-270b-4b5d-a6e4-ca9b1b889a07",
   "metadata": {},
   "outputs": [],
   "source": []
  },
  {
   "cell_type": "code",
   "execution_count": null,
   "id": "4226cb44-3346-4afa-b5d9-d835b3b0190b",
   "metadata": {},
   "outputs": [],
   "source": []
  },
  {
   "cell_type": "code",
   "execution_count": null,
   "id": "10a8af1b-0ccc-4950-a690-5ecf4f2b989a",
   "metadata": {},
   "outputs": [],
   "source": []
  }
 ],
 "metadata": {
  "kernelspec": {
   "display_name": "Python [conda env:pytorch2]",
   "language": "python",
   "name": "conda-env-pytorch2-py"
  },
  "language_info": {
   "codemirror_mode": {
    "name": "ipython",
    "version": 3
   },
   "file_extension": ".py",
   "mimetype": "text/x-python",
   "name": "python",
   "nbconvert_exporter": "python",
   "pygments_lexer": "ipython3",
   "version": "3.8.16"
  }
 },
 "nbformat": 4,
 "nbformat_minor": 5
}
