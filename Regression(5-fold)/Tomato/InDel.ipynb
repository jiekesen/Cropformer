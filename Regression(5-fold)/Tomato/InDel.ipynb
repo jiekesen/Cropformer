{
 "cells": [
  {
   "cell_type": "code",
   "execution_count": null,
   "id": "a446f933-c65b-49eb-ac10-c2f10b50fe5b",
   "metadata": {},
   "outputs": [],
   "source": [
    "import pandas as pd\n",
    "import torch.nn as nn\n",
    "import torch\n",
    "import time\n",
    "import os\n",
    "import matplotlib.pyplot as plt\n",
    "import numpy as np\n",
    "import pandas as pd\n",
    "import torch.nn as nn\n",
    "from torch.nn import BatchNorm1d\n",
    "from torch.utils.data import TensorDataset\n",
    "from tqdm import tqdm\n",
    "import torch.nn.functional as F\n",
    "from sklearn.model_selection import KFold, train_test_split\n",
    "from torch.utils.data import TensorDataset, DataLoader\n",
    "from sklearn.preprocessing import StandardScaler\n",
    "import torch.optim as optim\n",
    "from tqdm.auto import tqdm"
   ]
  },
  {
   "cell_type": "code",
   "execution_count": null,
   "id": "fd0b88a2-66b7-459a-b32d-3b2d29bbb312",
   "metadata": {},
   "outputs": [],
   "source": [
    "class LayerNorm(nn.Module):\n",
    "    def __init__(self, hidden_size, eps=1e-12):\n",
    "        \"\"\"Construct a layernorm module in the TF style (epsilon inside the square root).\n",
    "        \"\"\"\n",
    "        super(LayerNorm, self).__init__()\n",
    "        self.weight = nn.Parameter(torch.ones(hidden_size))\n",
    "        self.bias = nn.Parameter(torch.zeros(hidden_size))\n",
    "        self.variance_epsilon = eps\n",
    "\n",
    "    def forward(self, x):\n",
    "        u = x.mean(-1, keepdim=True)\n",
    "        s = (x - u).pow(2).mean(-1, keepdim=True)\n",
    "        x = (x - u) / torch.sqrt(s + self.variance_epsilon)\n",
    "        return self.weight * x + self.bias"
   ]
  },
  {
   "cell_type": "code",
   "execution_count": null,
   "id": "eca897b5-4ee2-4fb8-bc86-5f16bc6021d6",
   "metadata": {},
   "outputs": [],
   "source": [
    "\n",
    "class SelfAttention(nn.Module):\n",
    "    def __init__(self, num_attention_heads, input_size, hidden_size, output_dim=1, kernel_size=3,\n",
    "                 hidden_dropout_prob=0.5, attention_probs_dropout_prob=0.5):\n",
    "        super(SelfAttention, self).__init__()\n",
    "        input_size = input_size - kernel_size + 1\n",
    "\n",
    "        if hidden_size % num_attention_heads != 0:\n",
    "            raise ValueError(\n",
    "                \"The hidden size (%d) is not a multiple of the number of attention \"\n",
    "                \"heads (%d)\" % (hidden_size, num_attention_heads))\n",
    "\n",
    "        self.num_attention_heads = num_attention_heads\n",
    "        self.attention_head_size = int(hidden_size / num_attention_heads)\n",
    "        self.all_head_size = hidden_size\n",
    "\n",
    "        self.query = nn.Linear(input_size, self.all_head_size)\n",
    "        self.key = nn.Linear(input_size, self.all_head_size)\n",
    "        self.value = nn.Linear(input_size, self.all_head_size)\n",
    "\n",
    "        self.attn_dropout = nn.Dropout(attention_probs_dropout_prob)\n",
    "        self.out_dropout = nn.Dropout(hidden_dropout_prob)\n",
    "\n",
    "        self.dense = nn.Linear(hidden_size, input_size)\n",
    "\n",
    "\n",
    "        self.LayerNorm = LayerNorm(input_size, eps=1e-12)\n",
    "\n",
    "        self.out = nn.Linear(input_size, output_dim)\n",
    "\n",
    "        self.cnn = nn.Conv1d(1, 1, kernel_size, stride=1)\n",
    "        self.relu = nn.ReLU()\n",
    "        self.LeakyReLU = nn.LeakyReLU()\n",
    "        self.dropout = nn.Dropout(0.5)\n",
    "\n",
    "    def transpose_for_scores(self, x):\n",
    "        new_x_shape = x.size()[:-1] + (self.num_attention_heads, self.attention_head_size)\n",
    "        x = x.view(*new_x_shape)\n",
    "        return x.permute(0, 2, 1, 3)\n",
    "\n",
    "    def forward(self, input_tensor): #input tensor (128,10000)\n",
    "        cnn_hidden = self.cnn(input_tensor.view(input_tensor.size(0), 1, -1))#(128,1,9998)\n",
    "        # input_tensor = input_tensor.view(input_tensor.size(0), -1, input_tensor.size(-1))#(128,1,10000)\n",
    "        cnn_hidden = self.LeakyReLU(cnn_hidden)\n",
    "\n",
    "        cnn_hidden = self.dropout(cnn_hidden)\n",
    "\n",
    "        input_tensor = cnn_hidden\n",
    "        self.cnn_result = input_tensor\n",
    "\n",
    "        mixed_query_layer = self.query(input_tensor)\n",
    "        mixed_key_layer = self.key(input_tensor)\n",
    "        mixed_value_layer = self.value(input_tensor)\n",
    "\n",
    "        self.mixed_query_layer_ = mixed_query_layer\n",
    "        self.mixed_key_layer_ = mixed_key_layer\n",
    "        self.mixed_value_layer_ = mixed_value_layer\n",
    "\n",
    "        query_layer = self.transpose_for_scores(mixed_query_layer)\n",
    "        key_layer = self.transpose_for_scores(mixed_key_layer)\n",
    "        value_layer = self.transpose_for_scores(mixed_value_layer)\n",
    "\n",
    "        self.query_layer_ = query_layer\n",
    "        self.key_layer_ = key_layer\n",
    "        self.value_layer_ = value_layer\n",
    "\n",
    "        attention_scores = torch.matmul(query_layer, key_layer.transpose(-1, -2))\n",
    "        attention_scores = attention_scores / np.sqrt(self.attention_head_size)\n",
    "        self.attention_scores_ = attention_scores\n",
    "        attention_probs = nn.Softmax(dim=-1)(attention_scores)\n",
    "        self.attention_probs_ = attention_probs\n",
    "        attention_probs = self.attn_dropout(attention_probs)\n",
    "        self.attention_probs__ = attention_probs\n",
    "\n",
    "        context_layer = torch.matmul(attention_probs, value_layer)\n",
    "        self.context_layer_ = context_layer\n",
    "\n",
    "        context_layer = context_layer.permute(0, 2, 1, 3).contiguous()\n",
    "        self.context_layer__ = context_layer\n",
    "\n",
    "        new_context_layer_shape = context_layer.size()[:-2] + (self.all_head_size,)\n",
    "        self.new_context_layer_shape_ = new_context_layer_shape\n",
    "\n",
    "        context_layer = context_layer.view(*new_context_layer_shape)\n",
    "        self.context_layer3 = context_layer\n",
    "\n",
    "\n",
    "\n",
    "        hidden_states = self.dense(context_layer)\n",
    "        self.h1 = hidden_states\n",
    "\n",
    "        hidden_states = self.out_dropout(hidden_states) \n",
    "        self.h2 = hidden_states\n",
    "\n",
    "        hidden_states = self.LayerNorm(hidden_states + input_tensor) #128，1，9998\n",
    "        self.h3 = hidden_states\n",
    "\n",
    "        output = self.out(self.LeakyReLU(hidden_states.view(hidden_states.size(0), -1)))\n",
    "        self.o = output\n",
    "        return output\n"
   ]
  },
  {
   "cell_type": "code",
   "execution_count": null,
   "id": "1b488cb6-e5a7-42cd-ac52-7e3bac201969",
   "metadata": {},
   "outputs": [
    {
     "name": "stdout",
     "output_type": "stream",
     "text": [
      "Device used: cuda\n"
     ]
    }
   ],
   "source": [
    "np.random.seed(42)\n",
    "torch.manual_seed(42)\n",
    "\n",
    "DEVICE = torch.device('cuda' if torch.cuda.is_available() else 'cpu')\n",
    "print(f'Device used: {DEVICE}')\n",
    "is_scaler = False\n",
    "batch_size = 64  \n",
    "hidden_dim = 128  \n",
    "output_dim = 1  \n",
    "num_attention_heads = 8\n",
    "kernel_size = 3\n",
    "best_corr_coef = -1\n",
    "LR = 0.0001\n",
    "epochs = 100\n",
    "hidden_dropout_prob=0.5\n",
    "attention_probs_dropout_prob = 0.5"
   ]
  },
  {
   "cell_type": "code",
   "execution_count": 5,
   "id": "5d7f0120-cde9-4ced-bdf2-56a49af42dcf",
   "metadata": {},
   "outputs": [],
   "source": [
    "data = pd.read_csv(\"./data_indel.csv\")\n",
    "label = pd.read_csv(\"./pheno.csv\")\n",
    "label = label[\"Sopim_BGV006775_12T001232.1\"]"
   ]
  },
  {
   "cell_type": "code",
   "execution_count": 6,
   "id": "cf1708ed-b635-4c5b-aff1-368e3cea0bbf",
   "metadata": {},
   "outputs": [],
   "source": [
    "X_train_reduction, X_test_reduction, Y_train, Y_test = train_test_split(data, label, test_size=0.2, random_state=11)"
   ]
  },
  {
   "cell_type": "code",
   "execution_count": 7,
   "id": "7e37b803-d125-4529-b843-229c1704b82c",
   "metadata": {},
   "outputs": [],
   "source": [
    "Y_train = pd.DataFrame(Y_train)\n",
    "Y_test = pd.DataFrame(Y_test)\n",
    "Y_train = Y_train.values.astype(float)\n",
    "Y_test = Y_test.values.astype(float)\n",
    "X_train_reduction = pd.DataFrame(X_train_reduction)\n",
    "X_test_reduction = pd.DataFrame(X_test_reduction)\n",
    "X_train_reduction = X_train_reduction.values.astype(float)\n",
    "X_test_reduction = X_test_reduction.values.astype(float)"
   ]
  },
  {
   "cell_type": "code",
   "execution_count": 8,
   "id": "7d28b4ee-7042-49c4-a41d-aa582441cb9b",
   "metadata": {},
   "outputs": [],
   "source": [
    "# 定义十折交叉验证\n",
    "kf = KFold(n_splits=5, shuffle=True, random_state=42)\n",
    "\n",
    "# 初始化性能评估指标\n",
    "best_corr_coefs = []"
   ]
  },
  {
   "cell_type": "code",
   "execution_count": 9,
   "id": "872bd94c-ec5b-4510-9c90-972bffedeab5",
   "metadata": {},
   "outputs": [],
   "source": [
    "save_path = './cn_at_indel.pth'"
   ]
  },
  {
   "cell_type": "code",
   "execution_count": null,
   "id": "ec795c9e-af2b-408b-898f-2b7bb13e960a",
   "metadata": {},
   "outputs": [],
   "source": [
    "start_time = time.time()\n",
    "x = X_train_reduction\n",
    "y = Y_train\n",
    "for fold, (train_index, test_index) in enumerate(kf.split(x)):\n",
    "    x_train, x_test = x[train_index], x[test_index]\n",
    "    y_train, y_test = y[train_index], y[test_index]\n",
    "\n",
    "\n",
    "    scaler = StandardScaler()\n",
    "    x_train = scaler.fit_transform(x_train)\n",
    "    x_test = scaler.transform(x_test)\n",
    "\n",
    "    # scaler_model = StandardScaler()\n",
    "    # y_train = scaler_model.fit_transform(y_train.reshape(-1, 1)).flatten()\n",
    "    # y_test = scaler_model.transform(y_test.reshape(-1, 1)).flatten()\n",
    "\n",
    "\n",
    "    x_train_tensor = torch.from_numpy(x_train).float().to(DEVICE)\n",
    "    y_train_tensor = torch.from_numpy(y_train).float().to(DEVICE)\n",
    "    x_test_tensor = torch.from_numpy(x_test).float().to(DEVICE)\n",
    "    y_test_tensor = torch.from_numpy(y_test).float().to(DEVICE)\n",
    "\n",
    "\n",
    "    train_data = TensorDataset(x_train_tensor, y_train_tensor)\n",
    "    test_data = TensorDataset(x_test_tensor, y_test_tensor)\n",
    "\n",
    "    train_loader = DataLoader(train_data, batch_size, shuffle=True)\n",
    "    test_loader = DataLoader(test_data, batch_size, shuffle=False)\n",
    "\n",
    "    model = SelfAttention(num_attention_heads, x_train.shape[1], hidden_dim, output_dim,\n",
    "                          hidden_dropout_prob=hidden_dropout_prob, kernel_size=kernel_size,\n",
    "                          attention_probs_dropout_prob=attention_probs_dropout_prob).to(DEVICE)\n",
    "    loss_function = torch.nn.MSELoss()\n",
    "    optimizer = torch.optim.Adam(model.parameters(), lr=LR)\n",
    "\n",
    "    scheduler = optim.lr_scheduler.ReduceLROnPlateau(optimizer, mode='min', factor=0.01, patience=10, verbose=True)\n",
    "\n",
    "    best_corr_coef = -1\n",
    "\n",
    "    for epoch in range(epochs):\n",
    "        model.train()\n",
    "        running_loss = 0\n",
    "        train_bar = tqdm(train_loader, desc=f'第 {epoch + 1}/{epochs} 轮')\n",
    "        for data in train_bar:\n",
    "            x_batch, y_batch = data\n",
    "            optimizer.zero_grad()\n",
    "            y_pred = model(x_batch)\n",
    "            loss = loss_function(y_pred, y_batch.reshape(-1, 1))\n",
    "            l2_reg = torch.tensor(0., requires_grad=True)\n",
    "            for param in model.parameters():\n",
    "                l2_reg = l2_reg + torch.norm(param, 2)\n",
    "            total_loss = loss + 0.01 * l2_reg\n",
    "            loss.backward()\n",
    "            optimizer.step()\n",
    "\n",
    "            loss += loss.item()\n",
    "\n",
    "    model.eval()\n",
    "    y_test_preds, y_test_trues = [], []\n",
    "    with torch.no_grad():\n",
    "        for x_batch, y_batch in test_loader:\n",
    "            y_test_pred = model(x_batch)\n",
    "            y_test_preds.extend(y_test_pred.cpu().numpy().reshape(-1).tolist())\n",
    "            y_test_trues.extend(y_batch.cpu().numpy().reshape(-1).tolist())\n",
    "\n",
    "    corr_coef = np.corrcoef(y_test_preds, y_test_trues)[0, 1]\n",
    "    if corr_coef > best_corr_coef:\n",
    "        best_corr_coef = corr_coef\n",
    "        torch.save(model.state_dict(), save_path)\n",
    "    best_corr_coefs.append(best_corr_coef)\n",
    "\n",
    "    print(f'Fold {fold+1} - Epoch {epoch+1}: Best Correlation Coefficient: {best_corr_coef:.4f}')\n",
    "\n",
    "end_time = time.time()\n",
    "execution_time = end_time - start_time\n",
    "print(f\"time: {execution_time} 秒\")\n"
   ]
  },
  {
   "cell_type": "code",
   "execution_count": 11,
   "id": "c798cdd4-d499-4e02-b51f-bfdbcdb3c2cf",
   "metadata": {},
   "outputs": [
    {
     "name": "stdout",
     "output_type": "stream",
     "text": [
      "代码执行时间: 26.775278568267822 秒\n"
     ]
    }
   ],
   "source": [
    "print(f\"time: {execution_time} 秒\")"
   ]
  },
  {
   "cell_type": "code",
   "execution_count": 12,
   "id": "5bd7a89d-48e7-4ea6-bab8-6149252f8b23",
   "metadata": {},
   "outputs": [
    {
     "name": "stdout",
     "output_type": "stream",
     "text": [
      "各折最佳相关系数: [0.6046285700447207, 0.4782785958962135, 0.6682508123095857, 0.7634907843280712, 0.6990556190291963]\n",
      "平均最佳相关系数: 0.6427\n",
      "0.04842676787499155\n"
     ]
    }
   ],
   "source": [
    "average = np.mean(best_corr_coefs)\n",
    "print(best_corr_coefs)\n",
    "print(f\"corr: {average:.4f}\")\n",
    "import numpy as np\n",
    "performance_scores = np.array(best_corr_coefs)\n",
    "mean_score = np.mean(performance_scores)\n",
    "sample_variance = np.var(performance_scores, ddof=1)\n",
    "sample_std_dev = np.sqrt(sample_variance)\n",
    "standard_error = sample_std_dev / np.sqrt(len(performance_scores))\n",
    "print(standard_error)"
   ]
  },
  {
   "cell_type": "code",
   "execution_count": 13,
   "id": "64cf8b47-5b8a-46f5-ba55-4e10bc2ce871",
   "metadata": {},
   "outputs": [
    {
     "data": {
      "text/plain": [
       "<All keys matched successfully>"
      ]
     },
     "execution_count": 13,
     "metadata": {},
     "output_type": "execute_result"
    }
   ],
   "source": [
    "\n",
    "### load_model\n",
    "model_tkw = SelfAttention(num_attention_heads,\n",
    "                      X_train_reduction.shape[1],\n",
    "                      hidden_dim,\n",
    "                      output_dim,\n",
    "                      hidden_dropout_prob=hidden_dropout_prob,\n",
    "                      kernel_size = kernel_size,\n",
    "                      attention_probs_dropout_prob=attention_probs_dropout_prob).to(DEVICE)\n",
    "model_tkw.load_state_dict(torch.load(\"./cn_at_indel.pth\"))"
   ]
  },
  {
   "cell_type": "code",
   "execution_count": 14,
   "id": "30141d98-4703-4772-bc5e-a317e69b2d20",
   "metadata": {},
   "outputs": [],
   "source": [
    "X_test_tensor = torch.from_numpy(X_test_reduction).to(torch.float32).to(DEVICE)\n",
    "Y_test_tensor = torch.from_numpy(Y_test).to(torch.float32).to(DEVICE)"
   ]
  },
  {
   "cell_type": "code",
   "execution_count": 15,
   "id": "bc3abf58-42c6-4769-8399-326a58a86f2a",
   "metadata": {},
   "outputs": [
    {
     "name": "stdout",
     "output_type": "stream",
     "text": [
      "train_corr 0.6396623102188298\n"
     ]
    }
   ],
   "source": [
    "model_tkw.eval()\n",
    "with torch.no_grad():\n",
    "    tkw_output = model_tkw(X_test_tensor)\n",
    "yuce = tkw_output.cpu().detach().numpy().reshape(-1).tolist()\n",
    "zhen = Y_test_tensor.cpu().detach().numpy().reshape(-1).tolist()\n",
    "train_corr_coef = np.corrcoef(zhen, yuce)[0,1]\n",
    "print(\"train_corr\",train_corr_coef)"
   ]
  },
  {
   "cell_type": "code",
   "execution_count": null,
   "id": "6f93bb00-a692-4fcb-8de9-3eb21c67883e",
   "metadata": {},
   "outputs": [],
   "source": []
  },
  {
   "cell_type": "code",
   "execution_count": null,
   "id": "27d0d480-6510-4d10-85eb-fe208431bd75",
   "metadata": {},
   "outputs": [],
   "source": []
  },
  {
   "cell_type": "code",
   "execution_count": null,
   "id": "885b1203-9b87-4bef-9b94-78696e857a08",
   "metadata": {},
   "outputs": [],
   "source": []
  },
  {
   "cell_type": "code",
   "execution_count": null,
   "id": "3ebe45f7-3dba-4293-bfdb-8cb2f53057d6",
   "metadata": {},
   "outputs": [],
   "source": []
  },
  {
   "cell_type": "code",
   "execution_count": null,
   "id": "0559b8af-3ffc-427e-b013-3f75b25b290f",
   "metadata": {},
   "outputs": [],
   "source": []
  },
  {
   "cell_type": "code",
   "execution_count": null,
   "id": "ae517932-1788-4827-8e01-8a066b1dd8b5",
   "metadata": {},
   "outputs": [],
   "source": []
  },
  {
   "cell_type": "code",
   "execution_count": null,
   "id": "9ce5b7dd-17c8-4f9b-9698-ab52f0b3f9d7",
   "metadata": {},
   "outputs": [],
   "source": []
  },
  {
   "cell_type": "code",
   "execution_count": null,
   "id": "1bf89bdb-e1f0-458f-ad6d-04040c16f2c4",
   "metadata": {},
   "outputs": [],
   "source": []
  },
  {
   "cell_type": "code",
   "execution_count": null,
   "id": "41d725ec-9ad9-4357-af19-fe43ad32afc4",
   "metadata": {},
   "outputs": [],
   "source": []
  },
  {
   "cell_type": "code",
   "execution_count": null,
   "id": "dc15490d-ae31-4cdb-9945-2f1ffa52976c",
   "metadata": {},
   "outputs": [],
   "source": []
  },
  {
   "cell_type": "code",
   "execution_count": null,
   "id": "38376a27-4e10-4256-a897-1e12a06bb842",
   "metadata": {},
   "outputs": [],
   "source": []
  },
  {
   "cell_type": "code",
   "execution_count": null,
   "id": "018e43e3-ca81-4810-9eed-31270060f229",
   "metadata": {},
   "outputs": [],
   "source": []
  },
  {
   "cell_type": "code",
   "execution_count": null,
   "id": "fb2006ad-e87b-4419-b2c3-483f7dc2f381",
   "metadata": {},
   "outputs": [],
   "source": []
  }
 ],
 "metadata": {
  "kernelspec": {
   "display_name": "Python [conda env:pytorch2]",
   "language": "python",
   "name": "conda-env-pytorch2-py"
  },
  "language_info": {
   "codemirror_mode": {
    "name": "ipython",
    "version": 3
   },
   "file_extension": ".py",
   "mimetype": "text/x-python",
   "name": "python",
   "nbconvert_exporter": "python",
   "pygments_lexer": "ipython3",
   "version": "3.8.16"
  }
 },
 "nbformat": 4,
 "nbformat_minor": 5
}
