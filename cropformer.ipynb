{
 "cells": [
  {
   "cell_type": "code",
   "execution_count": null,
   "id": "e6c805a5-8282-4a0e-90ac-ef79c42ffb13",
   "metadata": {},
   "outputs": [],
   "source": []
  },
  {
   "cell_type": "code",
   "execution_count": null,
   "id": "9b164158-0dc8-4fc7-b73c-2e672bca97a3",
   "metadata": {},
   "outputs": [],
   "source": []
  },
  {
   "cell_type": "code",
   "execution_count": 18,
   "id": "c5386b83-0c33-4712-85f0-1f0184f721ef",
   "metadata": {},
   "outputs": [],
   "source": [
    "import torch\n",
    "import torch.nn as nn\n",
    "from models import SelfAttention\n",
    "from data_preprocessing import load_and_process_data\n",
    "from train_test import train_and_test\n",
    "import config\n",
    "import torch.nn as nn\n",
    "import pandas as pd\n",
    "from torch.utils.data import TensorDataset, DataLoader"
   ]
  },
  {
   "cell_type": "code",
   "execution_count": 19,
   "id": "5016daae-b796-4747-85b5-8d8892901f90",
   "metadata": {},
   "outputs": [],
   "source": [
    "DEVICE = torch.device('cuda' if torch.cuda.is_available() else 'cpu')"
   ]
  },
  {
   "cell_type": "code",
   "execution_count": null,
   "id": "563de406-4b44-4819-8ad6-1fa33b81c701",
   "metadata": {},
   "outputs": [],
   "source": []
  },
  {
   "cell_type": "code",
   "execution_count": 21,
   "id": "ec8ce0d8-cbce-4018-a848-2ec631226a73",
   "metadata": {},
   "outputs": [],
   "source": [
    "def load_and_process_data(is_scaler, path_xtrain, path_xtest, path_ytrain, path_ytest):\n",
    "\n",
    "    x_train_reduction = pd.read_csv(path_xtrain)\n",
    "    x_test_reduction = pd.read_csv(path_xtest)\n",
    "    y_train = pd.read_csv(path_ytrain)\n",
    "    y_test = pd.read_csv(path_ytest)\n",
    "\n",
    "\n",
    "    x_train_reduction = x_train_reduction.values.astype(float)\n",
    "    x_test_reduction = x_test_reduction.values.astype(float)\n",
    "    y_train = y_train.values.astype(float)\n",
    "    y_test = y_test.values.astype(float)\n",
    "\n",
    "\n",
    "    # 2.将数据进行标准化\n",
    "    if is_scaler:\n",
    "        scaler = StandardScaler()\n",
    "        scaler_model = StandardScaler()\n",
    "        scaler.fit(x_train_reduction)\n",
    "        x_train_reduction = scaler.transform(x_train_reduction)\n",
    "        x_test_reduction = scaler.transform(x_test_reduction)\n",
    "\n",
    "        scaler_model.fit(y_train)\n",
    "        y_train = scaler_model.transform(y_train)\n",
    "        y_test = scaler_model.transform(y_test)\n",
    "\n",
    "    x_train_tensor = torch.from_numpy(x_train_reduction).to(torch.float32).to(DEVICE)\n",
    "    y_train_tensor = torch.from_numpy(y_train).to(torch.float32).to(DEVICE)\n",
    "    x_test_tensor = torch.from_numpy(x_test_reduction).to(torch.float32).to(DEVICE)\n",
    "    y_test_tensor = torch.from_numpy(y_test).to(torch.float32).to(DEVICE)\n",
    "\n",
    "    train_data = TensorDataset(x_train_tensor, y_train_tensor)\n",
    "    test_data = TensorDataset(x_test_tensor, y_test_tensor)\n",
    "\n",
    "    train_loader = torch.utils.data.DataLoader(train_data,\n",
    "                                               batch_size,\n",
    "                                               True)\n",
    "\n",
    "    test_loader = torch.utils.data.DataLoader(test_data,\n",
    "                                              batch_size,\n",
    "                                              False)\n",
    "\n",
    "    return x_train_tensor, y_train_tensor, x_test_tensor, y_test_tensor"
   ]
  },
  {
   "cell_type": "code",
   "execution_count": null,
   "id": "ce9cecdc-6c6f-4176-baaa-7bb5b6cd3543",
   "metadata": {},
   "outputs": [],
   "source": []
  },
  {
   "cell_type": "code",
   "execution_count": 22,
   "id": "9e040a20-edc2-418f-be88-340bb772317b",
   "metadata": {},
   "outputs": [],
   "source": [
    "path_xtrain=\"xtrain_ori.csv\"\n",
    "path_xtest=\"xtest_ori.csv\"\n",
    "path_ytrain=\"ytrain_ori.csv\"\n",
    "path_ytest=\"ytest_ori.csv\""
   ]
  },
  {
   "cell_type": "code",
   "execution_count": null,
   "id": "6a039a3b-3125-49b3-9ab8-be09be1a7adf",
   "metadata": {},
   "outputs": [],
   "source": []
  },
  {
   "cell_type": "code",
   "execution_count": null,
   "id": "ac9a0f27-6281-4e9e-b0e2-5aa9d54906b0",
   "metadata": {},
   "outputs": [],
   "source": [
    "x_train_tensor, y_train_tensor, x_test_tensor, y_test_tensor = load_and_process_data(\n",
    "    is_scaler=config.is_scaler,\n",
    "    path_xtrain = path_xtrain,\n",
    "    path_xtest = path_xtest,\n",
    "    path_ytrain = path_ytrain,\n",
    "    path_ytest = path_ytest)"
   ]
  },
  {
   "cell_type": "code",
   "execution_count": 9,
   "id": "48a7a47e-fd8b-4cb8-ba1c-55cf598db4c2",
   "metadata": {},
   "outputs": [],
   "source": [
    "DEVICE = config.DEVICE\n",
    "batch_size = config.batch_size\n",
    "hidden_dim = config.hidden_dim\n",
    "output_dim = config.output_dim\n",
    "num_attention_heads = config.num_attention_heads\n",
    "kernel_size = config.kernel_size\n",
    "LR = config.LR\n",
    "epochs = config.epochs\n",
    "hidden_dropout_prob = config.hidden_dropout_prob\n",
    "attention_probs_dropout_prob = config.attention_probs_dropout_prob\n",
    "is_scaler = config.is_scaler"
   ]
  },
  {
   "cell_type": "code",
   "execution_count": null,
   "id": "253af161-a36b-4829-a3f4-cec971d0187f",
   "metadata": {},
   "outputs": [],
   "source": []
  },
  {
   "cell_type": "code",
   "execution_count": 13,
   "id": "b1b9934f-c871-42f4-8a15-ddfff8161ffa",
   "metadata": {},
   "outputs": [],
   "source": [
    "train_data = TensorDataset(x_train_tensor, y_train_tensor)\n",
    "test_data = TensorDataset(x_test_tensor, y_test_tensor)\n",
    "train_loader = DataLoader(train_data, batch_size=config.batch_size, shuffle=True)\n",
    "test_loader = DataLoader(test_data, batch_size=config.batch_size, shuffle=False)"
   ]
  },
  {
   "cell_type": "code",
   "execution_count": null,
   "id": "46ca71c2-71f5-43c0-843a-a1fb9246afb1",
   "metadata": {},
   "outputs": [],
   "source": []
  },
  {
   "cell_type": "code",
   "execution_count": 14,
   "id": "78fbb6cd-283a-447d-b2fc-2059ef3ebe72",
   "metadata": {},
   "outputs": [],
   "source": [
    "model = SelfAttention(\n",
    "    num_attention_heads=config.num_attention_heads,\n",
    "    input_size=x_train_tensor.shape[1],\n",
    "    hidden_size=config.hidden_dim,\n",
    "    output_dim=config.output_dim,\n",
    "    kernel_size=config.kernel_size,\n",
    "    hidden_dropout_prob=config.hidden_dropout_prob,\n",
    "    attention_probs_dropout_prob=config.attention_probs_dropout_prob\n",
    ").to(DEVICE)"
   ]
  },
  {
   "cell_type": "code",
   "execution_count": 13,
   "id": "a31b001c-d4fd-4207-adc1-de60dd1baf73",
   "metadata": {},
   "outputs": [],
   "source": []
  },
  {
   "cell_type": "code",
   "execution_count": 15,
   "id": "0b36b3cc-f583-49fb-aad0-75d1220d1adc",
   "metadata": {},
   "outputs": [],
   "source": [
    "loss_function = nn.CrossEntropyLoss()\n",
    "optimizer = torch.optim.Adam(model.parameters(), lr=config.LR)"
   ]
  },
  {
   "cell_type": "code",
   "execution_count": null,
   "id": "c1615374-f26b-45e8-bc3a-7065f18c362f",
   "metadata": {},
   "outputs": [],
   "source": []
  },
  {
   "cell_type": "code",
   "execution_count": 16,
   "id": "622b2d53-5581-46e1-b089-ea8be8915f9f",
   "metadata": {},
   "outputs": [],
   "source": [
    "import torch\n",
    "from tqdm import tqdm\n",
    "\n",
    "def train(model, train_loader, criterion, optimizer, device):\n",
    "    model.train()\n",
    "    total_train = 0\n",
    "    correct_train = 0\n",
    "    running_loss = 0.0\n",
    "\n",
    "    for data in tqdm(train_loader, desc=\"Training\"):\n",
    "        inputs, labels = data\n",
    "        inputs, labels = inputs.to(device), labels.to(device)\n",
    "\n",
    "        optimizer.zero_grad()\n",
    "\n",
    "        outputs = model(inputs)\n",
    "        loss = criterion(outputs, labels.squeeze().long())\n",
    "        loss.backward()\n",
    "        optimizer.step()\n",
    "\n",
    "        running_loss += loss.item()\n",
    "        _, predicted = torch.max(outputs.data, 1)\n",
    "        total_train += labels.size(0)\n",
    "        correct_train += (predicted == labels.squeeze().long()).sum().item()\n",
    "\n",
    "    train_loss = running_loss / len(train_loader)\n",
    "    train_accuracy = correct_train / total_train\n",
    "\n",
    "    return train_loss, train_accuracy\n",
    "\n",
    "def test(model, test_loader, criterion, device):\n",
    "    model.eval()\n",
    "    total_test = 0\n",
    "    correct_test = 0\n",
    "    running_loss = 0.0\n",
    "\n",
    "    with torch.no_grad():\n",
    "        for data in tqdm(test_loader, desc=\"Testing\"):\n",
    "            inputs, labels = data\n",
    "            inputs, labels = inputs.to(device), labels.to(device)\n",
    "\n",
    "            outputs = model(inputs)\n",
    "            loss = criterion(outputs, labels.squeeze().long())\n",
    "\n",
    "            running_loss += loss.item()\n",
    "            _, predicted = torch.max(outputs.data, 1)\n",
    "    \n",
    "            total_test += labels.size(0)\n",
    "        \n",
    "            correct_test += (predicted == labels.squeeze().long()).sum().item()\n",
    "\n",
    "    test_loss = running_loss / len(test_loader)\n",
    "    test_accuracy = correct_test / total_test\n",
    "\n",
    "    return test_loss, test_accuracy\n",
    "\n",
    "def train_and_test(model, train_loader, test_loader, criterion, optimizer, epochs, device):\n",
    "    best_acc = 0.0\n",
    "\n",
    "    for epoch in range(epochs):\n",
    "        \n",
    "        train_loss, train_accuracy = train(model, train_loader, criterion, optimizer, device)\n",
    "        test_loss, test_accuracy = test(model, test_loader, criterion, device)\n",
    "        \n",
    "        print(f'Epoch {epoch + 1}/{epochs}')\n",
    "        print(f'Train Loss: {train_loss:.4f}, Train Accuracy: {train_accuracy:.4f}')\n",
    "\n",
    "\n",
    "        print(f'Test Loss: {test_loss:.4f}, Test Accuracy: {test_accuracy:.4f}')\n",
    "\n",
    "        if test_accuracy > best_acc:\n",
    "            best_acc = test_accuracy\n",
    "            print(f'Improved Test Accuracy: {best_acc:.4f} at epoch {epoch + 1}')\n",
    "            # 保存模型\n",
    "            torch.save(model.state_dict(), \"best_model.pth\")\n",
    "\n",
    "    print('Training and testing complete.')"
   ]
  },
  {
   "cell_type": "code",
   "execution_count": null,
   "id": "5042a130-d9d9-4958-9ef0-734a1a504376",
   "metadata": {},
   "outputs": [],
   "source": []
  },
  {
   "cell_type": "code",
   "execution_count": null,
   "id": "6e6bd38e-d7b0-45d9-82dc-d190877597d4",
   "metadata": {},
   "outputs": [],
   "source": [
    "train_and_test(\n",
    "    model=model,\n",
    "    train_loader=train_loader,\n",
    "    test_loader=test_loader,\n",
    "    criterion=loss_function,\n",
    "    optimizer=optimizer,\n",
    "    epochs=config.epochs,\n",
    "    device=DEVICE\n",
    ")"
   ]
  },
  {
   "cell_type": "code",
   "execution_count": null,
   "id": "f3fb2af2-a51b-469c-9202-f75e0de5a0aa",
   "metadata": {},
   "outputs": [],
   "source": []
  },
  {
   "cell_type": "code",
   "execution_count": null,
   "id": "8f3a0ecc-5f65-42f4-b6a6-c3b554c341fd",
   "metadata": {},
   "outputs": [],
   "source": []
  },
  {
   "cell_type": "code",
   "execution_count": null,
   "id": "5fc785bc-f56a-4660-8221-303deec690b4",
   "metadata": {},
   "outputs": [],
   "source": []
  }
 ],
 "metadata": {
  "kernelspec": {
   "display_name": "Python [conda env:crop_test]",
   "language": "python",
   "name": "conda-env-crop_test-py"
  },
  "language_info": {
   "codemirror_mode": {
    "name": "ipython",
    "version": 3
   },
   "file_extension": ".py",
   "mimetype": "text/x-python",
   "name": "python",
   "nbconvert_exporter": "python",
   "pygments_lexer": "ipython3",
   "version": "3.8.0"
  }
 },
 "nbformat": 4,
 "nbformat_minor": 5
}
